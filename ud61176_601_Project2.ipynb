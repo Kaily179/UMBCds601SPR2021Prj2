{
 "cells": [
  {
   "cell_type": "markdown",
   "metadata": {},
   "source": [
    "Data Source : https://opendata.maryland.gov/Energy-and-Environment/Historic-Clean-Energy-Grant-Awards/4jem-ugpy/data \n",
    "\n",
    "CSV File : https://opendata.maryland.gov/api/views/4jem-ugpy/rows.csv?accessType=DOWNLOAD&bom=true&format=true\n",
    "\n",
    "\n",
    "Data Source discovered from : https://opendata.maryland.gov/ \n",
    "I was trying to check on data from different places like chicago, new york and maryland which finally led me to the link (https://opendata.maryland.gov/) thus ended up finding the data source. \n",
    "\n",
    "Renewable energy is collected from renewable resources which can be used repeatedly leading to a positive life cycle of a human being. The goal of Historic Clean Energy Grant Program was to increase the amount of renewable energy generated in Maryland. The increase in the usage of renewable energy leads into less global warming and improves public health.\n",
    "\n",
    "Hypothesis 1 : GeoThermal energy has got highest project cost over the years as wind and solar energies are cheaper than any other form of energy - NO\n",
    "\n",
    "Hypothesis 2 : Award amount increases yearly because if people are encouraged to re-use the renewable energy by providing award amount, then it might lead to less global warming being a good cause for the public - NO\n",
    "\n",
    "Data is free to download and legal to access. No documented EDA has been performed earlier on this dataset.\n",
    "\n",
    "Number of Rows in the dataset : 12988 \n",
    "Number of columns in the dataset : 18 \n",
    "Data Size : 3.27MB"
   ]
  },
  {
   "cell_type": "code",
   "execution_count": 390,
   "metadata": {},
   "outputs": [],
   "source": [
    "import pandas as pd\n",
    "import requests\n",
    "from io import StringIO\n",
    "import matplotlib.pyplot as plt\n",
    "from datetime import datetime\n",
    "pd.options.mode.chained_assignment = None"
   ]
  },
  {
   "cell_type": "code",
   "execution_count": 391,
   "metadata": {},
   "outputs": [],
   "source": [
    "#Import the csv file from the URL using requests package\n",
    "#https://stackoverflow.com/questions/55711159/pandas-read-csv-from-url-and-include-request-header/55711425\n",
    "data_url = \"https://opendata.maryland.gov/api/views/4jem-ugpy/rows.csv?accessType=DOWNLOAD&bom=true&format=true\"\n",
    "req = requests.get(data_url)\n",
    "data = StringIO(req.text)"
   ]
  },
  {
   "cell_type": "code",
   "execution_count": 392,
   "metadata": {},
   "outputs": [
    {
     "data": {
      "text/html": [
       "<div>\n",
       "<style scoped>\n",
       "    .dataframe tbody tr th:only-of-type {\n",
       "        vertical-align: middle;\n",
       "    }\n",
       "\n",
       "    .dataframe tbody tr th {\n",
       "        vertical-align: top;\n",
       "    }\n",
       "\n",
       "    .dataframe thead th {\n",
       "        text-align: right;\n",
       "    }\n",
       "</style>\n",
       "<table border=\"1\" class=\"dataframe\">\n",
       "  <thead>\n",
       "    <tr style=\"text-align: right;\">\n",
       "      <th></th>\n",
       "      <th>Program Name</th>\n",
       "      <th>Technology</th>\n",
       "      <th>Application Received Date</th>\n",
       "      <th>Award Date</th>\n",
       "      <th>Award Amount</th>\n",
       "      <th>Actual Start Date</th>\n",
       "      <th>Actual End Date</th>\n",
       "      <th>Award Status</th>\n",
       "      <th>Last Invoice Received Date</th>\n",
       "      <th>Total Disbursed Amount</th>\n",
       "      <th>Capacity</th>\n",
       "      <th>Capacity Units</th>\n",
       "      <th>Total Project Cost</th>\n",
       "      <th>Ownership</th>\n",
       "      <th>City</th>\n",
       "      <th>Zip Code</th>\n",
       "      <th>County</th>\n",
       "      <th>Location</th>\n",
       "    </tr>\n",
       "  </thead>\n",
       "  <tbody>\n",
       "    <tr>\n",
       "      <th>0</th>\n",
       "      <td>Residential Clean Energy Grant Program</td>\n",
       "      <td>Geothermal</td>\n",
       "      <td>01/01/2007</td>\n",
       "      <td>01/01/2007</td>\n",
       "      <td>1,000.00</td>\n",
       "      <td>NaN</td>\n",
       "      <td>01/01/2007</td>\n",
       "      <td>Award Complete</td>\n",
       "      <td>NaN</td>\n",
       "      <td>0.00</td>\n",
       "      <td>4.92</td>\n",
       "      <td>ton</td>\n",
       "      <td>NaN</td>\n",
       "      <td>NaN</td>\n",
       "      <td>NaN</td>\n",
       "      <td>nan</td>\n",
       "      <td>NaN</td>\n",
       "      <td>Maryland\\n(39.290582950000044, -76.60925984299...</td>\n",
       "    </tr>\n",
       "    <tr>\n",
       "      <th>1</th>\n",
       "      <td>Residential Clean Energy Grant Program</td>\n",
       "      <td>Geothermal</td>\n",
       "      <td>01/01/2007</td>\n",
       "      <td>01/01/2007</td>\n",
       "      <td>1,000.00</td>\n",
       "      <td>NaN</td>\n",
       "      <td>01/01/2007</td>\n",
       "      <td>Award Complete</td>\n",
       "      <td>NaN</td>\n",
       "      <td>0.00</td>\n",
       "      <td>4.92</td>\n",
       "      <td>ton</td>\n",
       "      <td>NaN</td>\n",
       "      <td>NaN</td>\n",
       "      <td>NaN</td>\n",
       "      <td>nan</td>\n",
       "      <td>NaN</td>\n",
       "      <td>Maryland\\n(39.290582950000044, -76.60925984299...</td>\n",
       "    </tr>\n",
       "    <tr>\n",
       "      <th>2</th>\n",
       "      <td>Residential Clean Energy Grant Program</td>\n",
       "      <td>Geothermal</td>\n",
       "      <td>01/01/2007</td>\n",
       "      <td>01/01/2007</td>\n",
       "      <td>1,000.00</td>\n",
       "      <td>NaN</td>\n",
       "      <td>01/01/2007</td>\n",
       "      <td>Award Complete</td>\n",
       "      <td>NaN</td>\n",
       "      <td>0.00</td>\n",
       "      <td>4.92</td>\n",
       "      <td>ton</td>\n",
       "      <td>NaN</td>\n",
       "      <td>NaN</td>\n",
       "      <td>NaN</td>\n",
       "      <td>nan</td>\n",
       "      <td>NaN</td>\n",
       "      <td>Maryland\\n(39.290582950000044, -76.60925984299...</td>\n",
       "    </tr>\n",
       "    <tr>\n",
       "      <th>3</th>\n",
       "      <td>Residential Clean Energy Grant Program</td>\n",
       "      <td>Geothermal</td>\n",
       "      <td>01/01/2007</td>\n",
       "      <td>01/01/2007</td>\n",
       "      <td>1,000.00</td>\n",
       "      <td>NaN</td>\n",
       "      <td>01/01/2007</td>\n",
       "      <td>Award Complete</td>\n",
       "      <td>NaN</td>\n",
       "      <td>0.00</td>\n",
       "      <td>4.92</td>\n",
       "      <td>ton</td>\n",
       "      <td>NaN</td>\n",
       "      <td>NaN</td>\n",
       "      <td>NaN</td>\n",
       "      <td>nan</td>\n",
       "      <td>NaN</td>\n",
       "      <td>Maryland\\n(39.290582950000044, -76.60925984299...</td>\n",
       "    </tr>\n",
       "    <tr>\n",
       "      <th>4</th>\n",
       "      <td>Residential Clean Energy Grant Program</td>\n",
       "      <td>Geothermal</td>\n",
       "      <td>01/01/2007</td>\n",
       "      <td>01/01/2007</td>\n",
       "      <td>1,000.00</td>\n",
       "      <td>NaN</td>\n",
       "      <td>01/01/2007</td>\n",
       "      <td>Award Complete</td>\n",
       "      <td>NaN</td>\n",
       "      <td>0.00</td>\n",
       "      <td>4.92</td>\n",
       "      <td>ton</td>\n",
       "      <td>NaN</td>\n",
       "      <td>NaN</td>\n",
       "      <td>NaN</td>\n",
       "      <td>nan</td>\n",
       "      <td>NaN</td>\n",
       "      <td>Maryland\\n(39.290582950000044, -76.60925984299...</td>\n",
       "    </tr>\n",
       "    <tr>\n",
       "      <th>...</th>\n",
       "      <td>...</td>\n",
       "      <td>...</td>\n",
       "      <td>...</td>\n",
       "      <td>...</td>\n",
       "      <td>...</td>\n",
       "      <td>...</td>\n",
       "      <td>...</td>\n",
       "      <td>...</td>\n",
       "      <td>...</td>\n",
       "      <td>...</td>\n",
       "      <td>...</td>\n",
       "      <td>...</td>\n",
       "      <td>...</td>\n",
       "      <td>...</td>\n",
       "      <td>...</td>\n",
       "      <td>...</td>\n",
       "      <td>...</td>\n",
       "      <td>...</td>\n",
       "    </tr>\n",
       "    <tr>\n",
       "      <th>12983</th>\n",
       "      <td>Residential Clean Energy Grant Program</td>\n",
       "      <td>Geothermal</td>\n",
       "      <td>09/10/2013</td>\n",
       "      <td>09/30/2013</td>\n",
       "      <td>3,000.00</td>\n",
       "      <td>04/23/2013</td>\n",
       "      <td>06/05/2013</td>\n",
       "      <td>Award Complete</td>\n",
       "      <td>11/26/2013</td>\n",
       "      <td>3,000.00</td>\n",
       "      <td>2</td>\n",
       "      <td>ton</td>\n",
       "      <td>20,500.00</td>\n",
       "      <td>Purchased</td>\n",
       "      <td>Annapolis</td>\n",
       "      <td>21403.000</td>\n",
       "      <td>Anne Arundel</td>\n",
       "      <td>Annapolis, Maryland 21403\\n(38.95704749600003,...</td>\n",
       "    </tr>\n",
       "    <tr>\n",
       "      <th>12984</th>\n",
       "      <td>Residential Clean Energy Grant Program</td>\n",
       "      <td>Solar PV</td>\n",
       "      <td>10/16/2012</td>\n",
       "      <td>11/08/2012</td>\n",
       "      <td>1,000.00</td>\n",
       "      <td>08/31/2012</td>\n",
       "      <td>08/31/2012</td>\n",
       "      <td>Award Complete</td>\n",
       "      <td>01/18/2012</td>\n",
       "      <td>1,000.00</td>\n",
       "      <td>5.76</td>\n",
       "      <td>kW</td>\n",
       "      <td>24,416.00</td>\n",
       "      <td>Third party</td>\n",
       "      <td>Bushwood</td>\n",
       "      <td>20618.000</td>\n",
       "      <td>St. Mary's</td>\n",
       "      <td>Bushwood, Maryland 20618\\n(38.27923967300006, ...</td>\n",
       "    </tr>\n",
       "    <tr>\n",
       "      <th>12985</th>\n",
       "      <td>Residential Clean Energy Grant Program</td>\n",
       "      <td>Solar PV</td>\n",
       "      <td>09/28/2012</td>\n",
       "      <td>10/04/2012</td>\n",
       "      <td>1,000.00</td>\n",
       "      <td>09/20/2012</td>\n",
       "      <td>09/21/2012</td>\n",
       "      <td>Award Complete</td>\n",
       "      <td>10/17/2012</td>\n",
       "      <td>1,000.00</td>\n",
       "      <td>2</td>\n",
       "      <td>kW</td>\n",
       "      <td>17,821.00</td>\n",
       "      <td>Purchased</td>\n",
       "      <td>Curtis Bay</td>\n",
       "      <td>21226.000</td>\n",
       "      <td>Anne Arundel</td>\n",
       "      <td>Curtis Bay, Maryland 21226\\n(39.20363959300005...</td>\n",
       "    </tr>\n",
       "    <tr>\n",
       "      <th>12986</th>\n",
       "      <td>Residential Clean Energy Grant Program</td>\n",
       "      <td>Wood Burning Stove</td>\n",
       "      <td>07/09/2014</td>\n",
       "      <td>07/31/2014</td>\n",
       "      <td>700.00</td>\n",
       "      <td>07/01/2014</td>\n",
       "      <td>07/01/2014</td>\n",
       "      <td>Award Complete</td>\n",
       "      <td>08/28/2014</td>\n",
       "      <td>700.00</td>\n",
       "      <td>68,000</td>\n",
       "      <td>BTUs/hr</td>\n",
       "      <td>5,372.27</td>\n",
       "      <td>Purchased</td>\n",
       "      <td>Rhodesdale</td>\n",
       "      <td>21659.000</td>\n",
       "      <td>Dorchester</td>\n",
       "      <td>Rhodesdale, Maryland 21659\\n(38.57393967100006...</td>\n",
       "    </tr>\n",
       "    <tr>\n",
       "      <th>12987</th>\n",
       "      <td>Residential Clean Energy Grant Program</td>\n",
       "      <td>Geothermal</td>\n",
       "      <td>04/12/2013</td>\n",
       "      <td>06/14/2013</td>\n",
       "      <td>3,000.00</td>\n",
       "      <td>03/06/2012</td>\n",
       "      <td>05/29/2012</td>\n",
       "      <td>Award Complete</td>\n",
       "      <td>06/27/2013</td>\n",
       "      <td>3,000.00</td>\n",
       "      <td>8</td>\n",
       "      <td>ton</td>\n",
       "      <td>54,859.00</td>\n",
       "      <td>Purchased</td>\n",
       "      <td>Owings Mills</td>\n",
       "      <td>21117.000</td>\n",
       "      <td>Baltimore</td>\n",
       "      <td>Owings Mills, Maryland 21117\\n(39.417348688000...</td>\n",
       "    </tr>\n",
       "  </tbody>\n",
       "</table>\n",
       "<p>12988 rows × 18 columns</p>\n",
       "</div>"
      ],
      "text/plain": [
       "                                 Program Name          Technology  \\\n",
       "0      Residential Clean Energy Grant Program          Geothermal   \n",
       "1      Residential Clean Energy Grant Program          Geothermal   \n",
       "2      Residential Clean Energy Grant Program          Geothermal   \n",
       "3      Residential Clean Energy Grant Program          Geothermal   \n",
       "4      Residential Clean Energy Grant Program          Geothermal   \n",
       "...                                       ...                 ...   \n",
       "12983  Residential Clean Energy Grant Program          Geothermal   \n",
       "12984  Residential Clean Energy Grant Program            Solar PV   \n",
       "12985  Residential Clean Energy Grant Program            Solar PV   \n",
       "12986  Residential Clean Energy Grant Program  Wood Burning Stove   \n",
       "12987  Residential Clean Energy Grant Program          Geothermal   \n",
       "\n",
       "      Application Received Date  Award Date Award Amount Actual Start Date  \\\n",
       "0                    01/01/2007  01/01/2007     1,000.00               NaN   \n",
       "1                    01/01/2007  01/01/2007     1,000.00               NaN   \n",
       "2                    01/01/2007  01/01/2007     1,000.00               NaN   \n",
       "3                    01/01/2007  01/01/2007     1,000.00               NaN   \n",
       "4                    01/01/2007  01/01/2007     1,000.00               NaN   \n",
       "...                         ...         ...          ...               ...   \n",
       "12983                09/10/2013  09/30/2013     3,000.00        04/23/2013   \n",
       "12984                10/16/2012  11/08/2012     1,000.00        08/31/2012   \n",
       "12985                09/28/2012  10/04/2012     1,000.00        09/20/2012   \n",
       "12986                07/09/2014  07/31/2014       700.00        07/01/2014   \n",
       "12987                04/12/2013  06/14/2013     3,000.00        03/06/2012   \n",
       "\n",
       "      Actual End Date    Award Status Last Invoice Received Date  \\\n",
       "0          01/01/2007  Award Complete                        NaN   \n",
       "1          01/01/2007  Award Complete                        NaN   \n",
       "2          01/01/2007  Award Complete                        NaN   \n",
       "3          01/01/2007  Award Complete                        NaN   \n",
       "4          01/01/2007  Award Complete                        NaN   \n",
       "...               ...             ...                        ...   \n",
       "12983      06/05/2013  Award Complete                 11/26/2013   \n",
       "12984      08/31/2012  Award Complete                 01/18/2012   \n",
       "12985      09/21/2012  Award Complete                 10/17/2012   \n",
       "12986      07/01/2014  Award Complete                 08/28/2014   \n",
       "12987      05/29/2012  Award Complete                 06/27/2013   \n",
       "\n",
       "      Total Disbursed Amount Capacity Capacity Units Total Project Cost  \\\n",
       "0                       0.00     4.92            ton                NaN   \n",
       "1                       0.00     4.92            ton                NaN   \n",
       "2                       0.00     4.92            ton                NaN   \n",
       "3                       0.00     4.92            ton                NaN   \n",
       "4                       0.00     4.92            ton                NaN   \n",
       "...                      ...      ...            ...                ...   \n",
       "12983               3,000.00        2            ton          20,500.00   \n",
       "12984               1,000.00     5.76             kW          24,416.00   \n",
       "12985               1,000.00        2             kW          17,821.00   \n",
       "12986                 700.00   68,000        BTUs/hr           5,372.27   \n",
       "12987               3,000.00        8            ton          54,859.00   \n",
       "\n",
       "         Ownership          City  Zip Code        County  \\\n",
       "0              NaN           NaN       nan           NaN   \n",
       "1              NaN           NaN       nan           NaN   \n",
       "2              NaN           NaN       nan           NaN   \n",
       "3              NaN           NaN       nan           NaN   \n",
       "4              NaN           NaN       nan           NaN   \n",
       "...            ...           ...       ...           ...   \n",
       "12983    Purchased     Annapolis 21403.000  Anne Arundel   \n",
       "12984  Third party      Bushwood 20618.000    St. Mary's   \n",
       "12985    Purchased    Curtis Bay 21226.000  Anne Arundel   \n",
       "12986    Purchased    Rhodesdale 21659.000    Dorchester   \n",
       "12987    Purchased  Owings Mills 21117.000     Baltimore   \n",
       "\n",
       "                                                Location  \n",
       "0      Maryland\\n(39.290582950000044, -76.60925984299...  \n",
       "1      Maryland\\n(39.290582950000044, -76.60925984299...  \n",
       "2      Maryland\\n(39.290582950000044, -76.60925984299...  \n",
       "3      Maryland\\n(39.290582950000044, -76.60925984299...  \n",
       "4      Maryland\\n(39.290582950000044, -76.60925984299...  \n",
       "...                                                  ...  \n",
       "12983  Annapolis, Maryland 21403\\n(38.95704749600003,...  \n",
       "12984  Bushwood, Maryland 20618\\n(38.27923967300006, ...  \n",
       "12985  Curtis Bay, Maryland 21226\\n(39.20363959300005...  \n",
       "12986  Rhodesdale, Maryland 21659\\n(38.57393967100006...  \n",
       "12987  Owings Mills, Maryland 21117\\n(39.417348688000...  \n",
       "\n",
       "[12988 rows x 18 columns]"
      ]
     },
     "execution_count": 392,
     "metadata": {},
     "output_type": "execute_result"
    }
   ],
   "source": [
    "df = pd.read_csv(data)\n",
    "df"
   ]
  },
  {
   "cell_type": "code",
   "execution_count": 393,
   "metadata": {},
   "outputs": [
    {
     "name": "stdout",
     "output_type": "stream",
     "text": [
      "Total Rows= 12988 Total Columns= 18\n"
     ]
    }
   ],
   "source": [
    "#Display total Number of rows and columns in the given dataset\n",
    "row_count,column_count=df.shape\n",
    "print (\"Total Rows=\",row_count, \"Total Columns=\",column_count)"
   ]
  },
  {
   "cell_type": "code",
   "execution_count": 394,
   "metadata": {},
   "outputs": [
    {
     "data": {
      "text/plain": [
       "Program Name                   object\n",
       "Technology                     object\n",
       "Application Received Date      object\n",
       "Award Date                     object\n",
       "Award Amount                   object\n",
       "Actual Start Date              object\n",
       "Actual End Date                object\n",
       "Award Status                   object\n",
       "Last Invoice Received Date     object\n",
       "Total Disbursed Amount         object\n",
       "Capacity                       object\n",
       "Capacity Units                 object\n",
       "Total Project Cost             object\n",
       "Ownership                      object\n",
       "City                           object\n",
       "Zip Code                      float64\n",
       "County                         object\n",
       "Location                       object\n",
       "dtype: object"
      ]
     },
     "execution_count": 394,
     "metadata": {},
     "output_type": "execute_result"
    }
   ],
   "source": [
    "#Display the datatypes of the columns in the given dataset\n",
    "df.dtypes"
   ]
  },
  {
   "cell_type": "code",
   "execution_count": 395,
   "metadata": {},
   "outputs": [
    {
     "data": {
      "text/plain": [
       "Program Name                     0\n",
       "Technology                       2\n",
       "Application Received Date        3\n",
       "Award Date                       0\n",
       "Award Amount                     0\n",
       "Actual Start Date             1430\n",
       "Actual End Date                 58\n",
       "Award Status                     0\n",
       "Last Invoice Received Date    1326\n",
       "Total Disbursed Amount           0\n",
       "Capacity                         5\n",
       "Capacity Units                   0\n",
       "Total Project Cost             119\n",
       "Ownership                       95\n",
       "City                            95\n",
       "Zip Code                        95\n",
       "County                          97\n",
       "Location                         0\n",
       "dtype: int64"
      ]
     },
     "execution_count": 395,
     "metadata": {},
     "output_type": "execute_result"
    }
   ],
   "source": [
    "#Check for any Null values present in the dataset\n",
    "df.isnull().sum()"
   ]
  },
  {
   "cell_type": "code",
   "execution_count": 396,
   "metadata": {},
   "outputs": [],
   "source": [
    "#Remove commas from the dataframe\n",
    "#https://stackoverflow.com/questions/38516481/trying-to-remove-commas-and-dollars-signs-with-pandas-in-python\n",
    "df.replace(',','', regex=True, inplace=True)"
   ]
  },
  {
   "cell_type": "code",
   "execution_count": 397,
   "metadata": {},
   "outputs": [
    {
     "data": {
      "text/html": [
       "<div>\n",
       "<style scoped>\n",
       "    .dataframe tbody tr th:only-of-type {\n",
       "        vertical-align: middle;\n",
       "    }\n",
       "\n",
       "    .dataframe tbody tr th {\n",
       "        vertical-align: top;\n",
       "    }\n",
       "\n",
       "    .dataframe thead th {\n",
       "        text-align: right;\n",
       "    }\n",
       "</style>\n",
       "<table border=\"1\" class=\"dataframe\">\n",
       "  <thead>\n",
       "    <tr style=\"text-align: right;\">\n",
       "      <th></th>\n",
       "      <th>Technology</th>\n",
       "      <th>Award Date</th>\n",
       "      <th>Award Amount</th>\n",
       "    </tr>\n",
       "  </thead>\n",
       "  <tbody>\n",
       "    <tr>\n",
       "      <th>0</th>\n",
       "      <td>Geothermal</td>\n",
       "      <td>01/01/2007</td>\n",
       "      <td>1000.00</td>\n",
       "    </tr>\n",
       "    <tr>\n",
       "      <th>1</th>\n",
       "      <td>Geothermal</td>\n",
       "      <td>01/01/2007</td>\n",
       "      <td>1000.00</td>\n",
       "    </tr>\n",
       "    <tr>\n",
       "      <th>2</th>\n",
       "      <td>Geothermal</td>\n",
       "      <td>01/01/2007</td>\n",
       "      <td>1000.00</td>\n",
       "    </tr>\n",
       "    <tr>\n",
       "      <th>3</th>\n",
       "      <td>Geothermal</td>\n",
       "      <td>01/01/2007</td>\n",
       "      <td>1000.00</td>\n",
       "    </tr>\n",
       "    <tr>\n",
       "      <th>4</th>\n",
       "      <td>Geothermal</td>\n",
       "      <td>01/01/2007</td>\n",
       "      <td>1000.00</td>\n",
       "    </tr>\n",
       "    <tr>\n",
       "      <th>...</th>\n",
       "      <td>...</td>\n",
       "      <td>...</td>\n",
       "      <td>...</td>\n",
       "    </tr>\n",
       "    <tr>\n",
       "      <th>12983</th>\n",
       "      <td>Geothermal</td>\n",
       "      <td>09/30/2013</td>\n",
       "      <td>3000.00</td>\n",
       "    </tr>\n",
       "    <tr>\n",
       "      <th>12984</th>\n",
       "      <td>Solar PV</td>\n",
       "      <td>11/08/2012</td>\n",
       "      <td>1000.00</td>\n",
       "    </tr>\n",
       "    <tr>\n",
       "      <th>12985</th>\n",
       "      <td>Solar PV</td>\n",
       "      <td>10/04/2012</td>\n",
       "      <td>1000.00</td>\n",
       "    </tr>\n",
       "    <tr>\n",
       "      <th>12986</th>\n",
       "      <td>Wood Burning Stove</td>\n",
       "      <td>07/31/2014</td>\n",
       "      <td>700.00</td>\n",
       "    </tr>\n",
       "    <tr>\n",
       "      <th>12987</th>\n",
       "      <td>Geothermal</td>\n",
       "      <td>06/14/2013</td>\n",
       "      <td>3000.00</td>\n",
       "    </tr>\n",
       "  </tbody>\n",
       "</table>\n",
       "<p>12988 rows × 3 columns</p>\n",
       "</div>"
      ],
      "text/plain": [
       "               Technology  Award Date Award Amount\n",
       "0              Geothermal  01/01/2007      1000.00\n",
       "1              Geothermal  01/01/2007      1000.00\n",
       "2              Geothermal  01/01/2007      1000.00\n",
       "3              Geothermal  01/01/2007      1000.00\n",
       "4              Geothermal  01/01/2007      1000.00\n",
       "...                   ...         ...          ...\n",
       "12983          Geothermal  09/30/2013      3000.00\n",
       "12984            Solar PV  11/08/2012      1000.00\n",
       "12985            Solar PV  10/04/2012      1000.00\n",
       "12986  Wood Burning Stove  07/31/2014       700.00\n",
       "12987          Geothermal  06/14/2013      3000.00\n",
       "\n",
       "[12988 rows x 3 columns]"
      ]
     },
     "execution_count": 397,
     "metadata": {},
     "output_type": "execute_result"
    }
   ],
   "source": [
    "#Create new dataframe with only Technology, Award Date and Award Amount to calculate the growth in Award amount by year\n",
    "df1 = df[['Technology','Award Date','Award Amount']]\n",
    "df1"
   ]
  },
  {
   "cell_type": "code",
   "execution_count": 398,
   "metadata": {},
   "outputs": [
    {
     "data": {
      "text/plain": [
       "Technology      object\n",
       "Award Date      object\n",
       "Award Amount    object\n",
       "dtype: object"
      ]
     },
     "execution_count": 398,
     "metadata": {},
     "output_type": "execute_result"
    }
   ],
   "source": [
    "#Displaying the datatypes to confirm Amount column type\n",
    "df1.dtypes"
   ]
  },
  {
   "cell_type": "code",
   "execution_count": 399,
   "metadata": {},
   "outputs": [],
   "source": [
    "#Convert column cost to float type as we need amount in float values\n",
    "df1['Award Amount'] = df1['Award Amount'].astype(float)"
   ]
  },
  {
   "cell_type": "code",
   "execution_count": 400,
   "metadata": {},
   "outputs": [
    {
     "data": {
      "text/plain": [
       "Technology       object\n",
       "Award Date       object\n",
       "Award Amount    float64\n",
       "dtype: object"
      ]
     },
     "execution_count": 400,
     "metadata": {},
     "output_type": "execute_result"
    }
   ],
   "source": [
    "df1.dtypes"
   ]
  },
  {
   "cell_type": "code",
   "execution_count": 401,
   "metadata": {},
   "outputs": [],
   "source": [
    "#Remove Null values from Technology as we dont want data without technology name\n",
    "df1 = df1[df1['Technology'] !=0]"
   ]
  },
  {
   "cell_type": "code",
   "execution_count": 402,
   "metadata": {},
   "outputs": [
    {
     "data": {
      "text/html": [
       "<div>\n",
       "<style scoped>\n",
       "    .dataframe tbody tr th:only-of-type {\n",
       "        vertical-align: middle;\n",
       "    }\n",
       "\n",
       "    .dataframe tbody tr th {\n",
       "        vertical-align: top;\n",
       "    }\n",
       "\n",
       "    .dataframe thead th {\n",
       "        text-align: right;\n",
       "    }\n",
       "</style>\n",
       "<table border=\"1\" class=\"dataframe\">\n",
       "  <thead>\n",
       "    <tr style=\"text-align: right;\">\n",
       "      <th></th>\n",
       "      <th>Technology</th>\n",
       "      <th>Award Date</th>\n",
       "      <th>Award Amount</th>\n",
       "      <th>AwardYear</th>\n",
       "    </tr>\n",
       "  </thead>\n",
       "  <tbody>\n",
       "    <tr>\n",
       "      <th>0</th>\n",
       "      <td>Geothermal</td>\n",
       "      <td>01/01/2007</td>\n",
       "      <td>1000.000</td>\n",
       "      <td>2007</td>\n",
       "    </tr>\n",
       "    <tr>\n",
       "      <th>1</th>\n",
       "      <td>Geothermal</td>\n",
       "      <td>01/01/2007</td>\n",
       "      <td>1000.000</td>\n",
       "      <td>2007</td>\n",
       "    </tr>\n",
       "    <tr>\n",
       "      <th>2</th>\n",
       "      <td>Geothermal</td>\n",
       "      <td>01/01/2007</td>\n",
       "      <td>1000.000</td>\n",
       "      <td>2007</td>\n",
       "    </tr>\n",
       "    <tr>\n",
       "      <th>3</th>\n",
       "      <td>Geothermal</td>\n",
       "      <td>01/01/2007</td>\n",
       "      <td>1000.000</td>\n",
       "      <td>2007</td>\n",
       "    </tr>\n",
       "    <tr>\n",
       "      <th>4</th>\n",
       "      <td>Geothermal</td>\n",
       "      <td>01/01/2007</td>\n",
       "      <td>1000.000</td>\n",
       "      <td>2007</td>\n",
       "    </tr>\n",
       "    <tr>\n",
       "      <th>...</th>\n",
       "      <td>...</td>\n",
       "      <td>...</td>\n",
       "      <td>...</td>\n",
       "      <td>...</td>\n",
       "    </tr>\n",
       "    <tr>\n",
       "      <th>12983</th>\n",
       "      <td>Geothermal</td>\n",
       "      <td>09/30/2013</td>\n",
       "      <td>3000.000</td>\n",
       "      <td>2013</td>\n",
       "    </tr>\n",
       "    <tr>\n",
       "      <th>12984</th>\n",
       "      <td>Solar PV</td>\n",
       "      <td>11/08/2012</td>\n",
       "      <td>1000.000</td>\n",
       "      <td>2012</td>\n",
       "    </tr>\n",
       "    <tr>\n",
       "      <th>12985</th>\n",
       "      <td>Solar PV</td>\n",
       "      <td>10/04/2012</td>\n",
       "      <td>1000.000</td>\n",
       "      <td>2012</td>\n",
       "    </tr>\n",
       "    <tr>\n",
       "      <th>12986</th>\n",
       "      <td>Wood Burning Stove</td>\n",
       "      <td>07/31/2014</td>\n",
       "      <td>700.000</td>\n",
       "      <td>2014</td>\n",
       "    </tr>\n",
       "    <tr>\n",
       "      <th>12987</th>\n",
       "      <td>Geothermal</td>\n",
       "      <td>06/14/2013</td>\n",
       "      <td>3000.000</td>\n",
       "      <td>2013</td>\n",
       "    </tr>\n",
       "  </tbody>\n",
       "</table>\n",
       "<p>12988 rows × 4 columns</p>\n",
       "</div>"
      ],
      "text/plain": [
       "               Technology  Award Date  Award Amount AwardYear\n",
       "0              Geothermal  01/01/2007      1000.000      2007\n",
       "1              Geothermal  01/01/2007      1000.000      2007\n",
       "2              Geothermal  01/01/2007      1000.000      2007\n",
       "3              Geothermal  01/01/2007      1000.000      2007\n",
       "4              Geothermal  01/01/2007      1000.000      2007\n",
       "...                   ...         ...           ...       ...\n",
       "12983          Geothermal  09/30/2013      3000.000      2013\n",
       "12984            Solar PV  11/08/2012      1000.000      2012\n",
       "12985            Solar PV  10/04/2012      1000.000      2012\n",
       "12986  Wood Burning Stove  07/31/2014       700.000      2014\n",
       "12987          Geothermal  06/14/2013      3000.000      2013\n",
       "\n",
       "[12988 rows x 4 columns]"
      ]
     },
     "execution_count": 402,
     "metadata": {},
     "output_type": "execute_result"
    }
   ],
   "source": [
    "#Segrate Year from the Award date column to year to compare the amount by year \n",
    "df1['AwardYear']=pd.to_datetime(df1['Award Date']).dt.strftime('%Y')\n",
    "df1"
   ]
  },
  {
   "cell_type": "code",
   "execution_count": 403,
   "metadata": {},
   "outputs": [
    {
     "data": {
      "text/plain": [
       "<AxesSubplot:xlabel='AwardYear'>"
      ]
     },
     "execution_count": 403,
     "metadata": {},
     "output_type": "execute_result"
    },
    {
     "data": {
      "image/png": "[encoded data removed]",
      "text/plain": [
       "<Figure size 1080x504 with 1 Axes>"
      ]
     },
     "metadata": {
      "needs_background": "light"
     },
     "output_type": "display_data"
    }
   ],
   "source": [
    "#Plot the Award Amount growth in Graph by grouping AwardYear and Technology \n",
    "#http://jonathansoma.com/lede/algorithms-2017/classes/fuzziness-matplotlib/how-pandas-uses-matplotlib-plus-figures-axes-and-subplots/\n",
    "fig, ax = plt.subplots(figsize=(15,7))\n",
    "fig.suptitle('Graphical representation')\n",
    "df1.groupby(['AwardYear','Technology']).count()['Award Amount'].unstack().plot(ax=ax)"
   ]
  },
  {
   "cell_type": "markdown",
   "metadata": {},
   "source": [
    "Hypothesis 2 : Award amount increases yearly because if people are encouraged to re-use the renewable energy by providing award amount, then it might lead to less global warming being a good cause for the public - NO\n",
    "\n",
    "Conclusion : After examining the graph for hypothesis 2, we can see that the Award Amount is decreasing after 2012 so the hypothesis for the Award Amount increasing yearly is false."
   ]
  },
  {
   "cell_type": "code",
   "execution_count": 404,
   "metadata": {},
   "outputs": [
    {
     "data": {
      "text/plain": [
       "Text(0, 0.5, 'Count')"
      ]
     },
     "execution_count": 404,
     "metadata": {},
     "output_type": "execute_result"
    },
    {
     "data": {
      "image/png": "[encoded data removed]",
      "text/plain": [
       "<Figure size 720x720 with 1 Axes>"
      ]
     },
     "metadata": {
      "needs_background": "light"
     },
     "output_type": "display_data"
    }
   ],
   "source": [
    "#plotting a histogram for analysing the awards granted in each year\n",
    "#citation - https://medium.com/python-pandemonium/data-visualization-in-python-histogram-in-matplotlib-dce38f49f89c\n",
    "df1['AwardYear'].hist(figsize = (10,10))\n",
    "plt.xlabel('Awarded Year')\n",
    "plt.ylabel('Count')"
   ]
  },
  {
   "cell_type": "code",
   "execution_count": 405,
   "metadata": {},
   "outputs": [
    {
     "data": {
      "text/html": [
       "<div>\n",
       "<style scoped>\n",
       "    .dataframe tbody tr th:only-of-type {\n",
       "        vertical-align: middle;\n",
       "    }\n",
       "\n",
       "    .dataframe tbody tr th {\n",
       "        vertical-align: top;\n",
       "    }\n",
       "\n",
       "    .dataframe thead th {\n",
       "        text-align: right;\n",
       "    }\n",
       "</style>\n",
       "<table border=\"1\" class=\"dataframe\">\n",
       "  <thead>\n",
       "    <tr style=\"text-align: right;\">\n",
       "      <th></th>\n",
       "      <th>Technology</th>\n",
       "      <th>Total Project Cost</th>\n",
       "    </tr>\n",
       "  </thead>\n",
       "  <tbody>\n",
       "    <tr>\n",
       "      <th>0</th>\n",
       "      <td>Geothermal</td>\n",
       "      <td>NaN</td>\n",
       "    </tr>\n",
       "    <tr>\n",
       "      <th>1</th>\n",
       "      <td>Geothermal</td>\n",
       "      <td>NaN</td>\n",
       "    </tr>\n",
       "    <tr>\n",
       "      <th>2</th>\n",
       "      <td>Geothermal</td>\n",
       "      <td>NaN</td>\n",
       "    </tr>\n",
       "    <tr>\n",
       "      <th>3</th>\n",
       "      <td>Geothermal</td>\n",
       "      <td>NaN</td>\n",
       "    </tr>\n",
       "    <tr>\n",
       "      <th>4</th>\n",
       "      <td>Geothermal</td>\n",
       "      <td>NaN</td>\n",
       "    </tr>\n",
       "    <tr>\n",
       "      <th>...</th>\n",
       "      <td>...</td>\n",
       "      <td>...</td>\n",
       "    </tr>\n",
       "    <tr>\n",
       "      <th>12983</th>\n",
       "      <td>Geothermal</td>\n",
       "      <td>20500.00</td>\n",
       "    </tr>\n",
       "    <tr>\n",
       "      <th>12984</th>\n",
       "      <td>Solar PV</td>\n",
       "      <td>24416.00</td>\n",
       "    </tr>\n",
       "    <tr>\n",
       "      <th>12985</th>\n",
       "      <td>Solar PV</td>\n",
       "      <td>17821.00</td>\n",
       "    </tr>\n",
       "    <tr>\n",
       "      <th>12986</th>\n",
       "      <td>Wood Burning Stove</td>\n",
       "      <td>5372.27</td>\n",
       "    </tr>\n",
       "    <tr>\n",
       "      <th>12987</th>\n",
       "      <td>Geothermal</td>\n",
       "      <td>54859.00</td>\n",
       "    </tr>\n",
       "  </tbody>\n",
       "</table>\n",
       "<p>12988 rows × 2 columns</p>\n",
       "</div>"
      ],
      "text/plain": [
       "               Technology Total Project Cost\n",
       "0              Geothermal                NaN\n",
       "1              Geothermal                NaN\n",
       "2              Geothermal                NaN\n",
       "3              Geothermal                NaN\n",
       "4              Geothermal                NaN\n",
       "...                   ...                ...\n",
       "12983          Geothermal           20500.00\n",
       "12984            Solar PV           24416.00\n",
       "12985            Solar PV           17821.00\n",
       "12986  Wood Burning Stove            5372.27\n",
       "12987          Geothermal           54859.00\n",
       "\n",
       "[12988 rows x 2 columns]"
      ]
     },
     "execution_count": 405,
     "metadata": {},
     "output_type": "execute_result"
    }
   ],
   "source": [
    "#Get Technology and Project Cost value from Main Dataset and store it in new dataframe\n",
    "df2 = df[['Technology','Total Project Cost']]\n",
    "df2"
   ]
  },
  {
   "cell_type": "code",
   "execution_count": 406,
   "metadata": {},
   "outputs": [],
   "source": [
    "#Drop Null values rows as we are calculating the Total Project cost for each technologies\n",
    "df3 = df2.dropna()"
   ]
  },
  {
   "cell_type": "code",
   "execution_count": 407,
   "metadata": {},
   "outputs": [
    {
     "data": {
      "text/plain": [
       "Technology            object\n",
       "Total Project Cost    object\n",
       "dtype: object"
      ]
     },
     "execution_count": 407,
     "metadata": {},
     "output_type": "execute_result"
    }
   ],
   "source": [
    "#Display the datatypes of the dataframe to represent in Graphical form\n",
    "df3.dtypes"
   ]
  },
  {
   "cell_type": "code",
   "execution_count": 408,
   "metadata": {},
   "outputs": [],
   "source": [
    "#Set float values to only 3 decimals \n",
    "pd.set_option('display.float_format', lambda x: '%.3f' % x)"
   ]
  },
  {
   "cell_type": "code",
   "execution_count": 409,
   "metadata": {
    "scrolled": true
   },
   "outputs": [
    {
     "data": {
      "text/html": [
       "<div>\n",
       "<style scoped>\n",
       "    .dataframe tbody tr th:only-of-type {\n",
       "        vertical-align: middle;\n",
       "    }\n",
       "\n",
       "    .dataframe tbody tr th {\n",
       "        vertical-align: top;\n",
       "    }\n",
       "\n",
       "    .dataframe thead th {\n",
       "        text-align: right;\n",
       "    }\n",
       "</style>\n",
       "<table border=\"1\" class=\"dataframe\">\n",
       "  <thead>\n",
       "    <tr style=\"text-align: right;\">\n",
       "      <th></th>\n",
       "      <th>Technology</th>\n",
       "      <th>Total Project Cost</th>\n",
       "    </tr>\n",
       "  </thead>\n",
       "  <tbody>\n",
       "    <tr>\n",
       "      <th>5</th>\n",
       "      <td>Solar PV</td>\n",
       "      <td>40279.990</td>\n",
       "    </tr>\n",
       "    <tr>\n",
       "      <th>7</th>\n",
       "      <td>Solar PV</td>\n",
       "      <td>18984.240</td>\n",
       "    </tr>\n",
       "    <tr>\n",
       "      <th>10</th>\n",
       "      <td>Solar Hot Water</td>\n",
       "      <td>8967.000</td>\n",
       "    </tr>\n",
       "    <tr>\n",
       "      <th>12</th>\n",
       "      <td>Solar PV</td>\n",
       "      <td>36730.000</td>\n",
       "    </tr>\n",
       "    <tr>\n",
       "      <th>14</th>\n",
       "      <td>Solar PV</td>\n",
       "      <td>22148.280</td>\n",
       "    </tr>\n",
       "    <tr>\n",
       "      <th>...</th>\n",
       "      <td>...</td>\n",
       "      <td>...</td>\n",
       "    </tr>\n",
       "    <tr>\n",
       "      <th>12983</th>\n",
       "      <td>Geothermal</td>\n",
       "      <td>20500.000</td>\n",
       "    </tr>\n",
       "    <tr>\n",
       "      <th>12984</th>\n",
       "      <td>Solar PV</td>\n",
       "      <td>24416.000</td>\n",
       "    </tr>\n",
       "    <tr>\n",
       "      <th>12985</th>\n",
       "      <td>Solar PV</td>\n",
       "      <td>17821.000</td>\n",
       "    </tr>\n",
       "    <tr>\n",
       "      <th>12986</th>\n",
       "      <td>Wood Burning Stove</td>\n",
       "      <td>5372.270</td>\n",
       "    </tr>\n",
       "    <tr>\n",
       "      <th>12987</th>\n",
       "      <td>Geothermal</td>\n",
       "      <td>54859.000</td>\n",
       "    </tr>\n",
       "  </tbody>\n",
       "</table>\n",
       "<p>12869 rows × 2 columns</p>\n",
       "</div>"
      ],
      "text/plain": [
       "               Technology  Total Project Cost\n",
       "5                Solar PV           40279.990\n",
       "7                Solar PV           18984.240\n",
       "10        Solar Hot Water            8967.000\n",
       "12               Solar PV           36730.000\n",
       "14               Solar PV           22148.280\n",
       "...                   ...                 ...\n",
       "12983          Geothermal           20500.000\n",
       "12984            Solar PV           24416.000\n",
       "12985            Solar PV           17821.000\n",
       "12986  Wood Burning Stove            5372.270\n",
       "12987          Geothermal           54859.000\n",
       "\n",
       "[12869 rows x 2 columns]"
      ]
     },
     "execution_count": 409,
     "metadata": {},
     "output_type": "execute_result"
    }
   ],
   "source": [
    "#Convert column cost to float type as we need amount in float values\n",
    "df3['Total Project Cost'] = df3['Total Project Cost'].astype(float)\n",
    "df3"
   ]
  },
  {
   "cell_type": "code",
   "execution_count": 410,
   "metadata": {},
   "outputs": [
    {
     "data": {
      "text/plain": [
       "Technology             object\n",
       "Total Project Cost    float64\n",
       "dtype: object"
      ]
     },
     "execution_count": 410,
     "metadata": {},
     "output_type": "execute_result"
    }
   ],
   "source": [
    "#Display the datatypes after converstion\n",
    "df3.dtypes"
   ]
  },
  {
   "cell_type": "code",
   "execution_count": 411,
   "metadata": {},
   "outputs": [
    {
     "data": {
      "text/html": [
       "<div>\n",
       "<style scoped>\n",
       "    .dataframe tbody tr th:only-of-type {\n",
       "        vertical-align: middle;\n",
       "    }\n",
       "\n",
       "    .dataframe tbody tr th {\n",
       "        vertical-align: top;\n",
       "    }\n",
       "\n",
       "    .dataframe thead th {\n",
       "        text-align: right;\n",
       "    }\n",
       "</style>\n",
       "<table border=\"1\" class=\"dataframe\">\n",
       "  <thead>\n",
       "    <tr style=\"text-align: right;\">\n",
       "      <th></th>\n",
       "      <th>Technology</th>\n",
       "      <th>Total Project Cost</th>\n",
       "    </tr>\n",
       "  </thead>\n",
       "  <tbody>\n",
       "    <tr>\n",
       "      <th>0</th>\n",
       "      <td>Geothermal</td>\n",
       "      <td>110597821.350</td>\n",
       "    </tr>\n",
       "    <tr>\n",
       "      <th>1</th>\n",
       "      <td>Solar Hot Water</td>\n",
       "      <td>22333809.710</td>\n",
       "    </tr>\n",
       "    <tr>\n",
       "      <th>2</th>\n",
       "      <td>Solar PV</td>\n",
       "      <td>269873935.490</td>\n",
       "    </tr>\n",
       "    <tr>\n",
       "      <th>3</th>\n",
       "      <td>Wind</td>\n",
       "      <td>5241983.920</td>\n",
       "    </tr>\n",
       "    <tr>\n",
       "      <th>4</th>\n",
       "      <td>Wood Burning Stove</td>\n",
       "      <td>4364808.420</td>\n",
       "    </tr>\n",
       "  </tbody>\n",
       "</table>\n",
       "</div>"
      ],
      "text/plain": [
       "           Technology  Total Project Cost\n",
       "0          Geothermal       110597821.350\n",
       "1     Solar Hot Water        22333809.710\n",
       "2            Solar PV       269873935.490\n",
       "3                Wind         5241983.920\n",
       "4  Wood Burning Stove         4364808.420"
      ]
     },
     "execution_count": 411,
     "metadata": {},
     "output_type": "execute_result"
    }
   ],
   "source": [
    "#https://python.plainenglish.io/making-plots-with-the-pandas-groupby-ac492941af28\n",
    "df2_flat = df3.groupby(['Technology'])['Total Project Cost'].sum().reset_index()\n",
    "df2_flat"
   ]
  },
  {
   "cell_type": "code",
   "execution_count": 412,
   "metadata": {},
   "outputs": [
    {
     "data": {
      "text/plain": [
       "<AxesSubplot:ylabel='Technology'>"
      ]
     },
     "execution_count": 412,
     "metadata": {},
     "output_type": "execute_result"
    },
    {
     "data": {
      "image/png": "[encoded data removed]",
      "text/plain": [
       "<Figure size 432x288 with 1 Axes>"
      ]
     },
     "metadata": {
      "needs_background": "light"
     },
     "output_type": "display_data"
    }
   ],
   "source": [
    "df2_flat.sort_values(['Total Project Cost'], ascending=False).plot(kind='barh', y='Total Project Cost', x='Technology')"
   ]
  },
  {
   "cell_type": "markdown",
   "metadata": {},
   "source": [
    "Hypothesis 1 : Hypothesis 1 : GeoThermal energy has got highest project cost over the years as wind and solar energies are cheaper than any other form of energy - NO\n",
    "\n",
    "Conclusion : After examining for the hypothesis 1, as per the graph, Solar energy has got the highest total project cost when compared to GeoThermal energy. It can be due to the higher capacity of Solar energy being used too."
   ]
  },
  {
   "cell_type": "markdown",
   "metadata": {},
   "source": [
    "In this project, I learnt to clean the data, handling the data, fill the missing values, find the zero values and replace them, remove special characters in the data to make it more consistent, data visualization and how to analyse and validate the hypotheses."
   ]
  }
 ],
 "metadata": {
  "kernelspec": {
   "display_name": "Python 3",
   "language": "python",
   "name": "python3"
  },
  "language_info": {
   "codemirror_mode": {
    "name": "ipython",
    "version": 3
   },
   "file_extension": ".py",
   "mimetype": "text/x-python",
   "name": "python",
   "nbconvert_exporter": "python",
   "pygments_lexer": "ipython3",
   "version": "3.8.5"
  }
 },
 "nbformat": 4,
 "nbformat_minor": 4
}
