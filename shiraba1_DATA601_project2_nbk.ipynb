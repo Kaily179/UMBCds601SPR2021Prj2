{
  "nbformat": 4,
  "nbformat_minor": 0,
  "metadata": {
    "colab": {
      "name": "DATA601_project2_nbk",
      "provenance": [],
      "collapsed_sections": [],
      "toc_visible": true
    },
    "kernelspec": {
      "name": "python3",
      "display_name": "Python 3"
    },
    "language_info": {
      "name": "python"
    }
  },
  "cells": [
    {
      "cell_type": "markdown",
      "metadata": {
        "id": "R3tgMiRVh6fk"
      },
      "source": [
        "# DATA601 WAN\n",
        "# Chicago Public Schools\n",
        "### Project 2: Answer a question\n",
        "### Description:\n",
        "* In Project 1, I looked through the datasets of different Chicago Public Schools to see how schools were performing.   \n",
        "* **In Project 2, I would like to explore the trends and compare neighborhood and charter schools over the last 4 years.**\n",
        "---"
      ]
    },
    {
      "cell_type": "markdown",
      "metadata": {
        "id": "_ZpK7W1n1rTZ"
      },
      "source": [
        "### Background on School Types:\n",
        "As explored in project 1, Chicago has many different kinds of schools that perform very differently for students. Recently, Chicago, as well as the US, has seen a growth in popularity in Charter Schools, which serve as an educational alternative to public education. In Chicago, 1 in 4 now attends a charter high school (1). Nationwide, 6 percent of students attended charter schools in 2017, up from 1 percent in 2000 (2).\n",
        "\n",
        "One of the pressing questions in Education is whether are not Charter schools perform better than other school types in terms of delivering a better \n",
        "education for students. As an equivalent, neighborhood schools are the best public school comparison group, as they are not selective, unlike selective schools, and magnet schools. They are also the most common school type for students in Chicago Public Schools.\n",
        "\n",
        "### How can we define neighborhood vs. charter schools?\n",
        "\n",
        "<blockquote> Neighborhood Schools: Schools that are open to enrollment from anyone. (http://cpstiers.opencityapps.org/about.html)  </blockquote>\n",
        "\n",
        "<blockquote> Charter Schools: Schools that offer free, independent educational alternatives. They \"do not have special entrance requirements\", so they are an applicable alternative to Neighborhood schools and \"have the freedom to be innovative, while being held accountable for advancing student achievement.\" (1) </blockquote>\n",
        "\n",
        "### Project Question:\n",
        "Are Chicago's charter high schools leading to better Educational outcomes than neighborhood high school equivalents *(college entrance, graduation rates, and attendance rates)*?\n",
        "\n",
        "### References:\n",
        "1. https://www.incschools.org/get-the-facts/\n",
        "2.  (https://nces.ed.gov/programs/coe/indicator_cgb.asp#:~:text=Between%20fall%202000%20and%20fall,from%201%20to%206%20percent\n",
        "\n",
        "---\n"
      ]
    },
    {
      "cell_type": "code",
      "metadata": {
        "id": "8goK-a5Fh4fb"
      },
      "source": [
        "#Import Packages\n",
        "import pandas as pd\n",
        "import numpy as np\n",
        "import matplotlib.pyplot as plt\n",
        "import seaborn as sns\n",
        "import time\n",
        "\n",
        "%matplotlib inline"
      ],
      "execution_count": 243,
      "outputs": []
    },
    {
      "cell_type": "markdown",
      "metadata": {
        "id": "1jjIx5W1pfyp"
      },
      "source": [
        "### Dataset Sources:   \n",
        "For this project, I will look at the last 4 years of school progress report data (the only publically-available years from CPS).\n",
        "\n",
        "| Data | Name |\n",
        "|---- | ----- |\n",
        "| 1. cps_1516_df: | Chicago Public Schools Report Card 2015-2016\n",
        "| 2. cps_1617_df: | Chicago Public Schools Report Card 2016-2017\n",
        "| 3. cps_1718_df: | Chicago Public Schools Report Card 2017-2018\n",
        "| 4. cps_1819_df: |Chicago Public Schools Report Card 2018-2019\n",
        "Source: https://data.cityofchicago.org/  "
      ]
    },
    {
      "cell_type": "code",
      "metadata": {
        "id": "Tbuv-lmhiFvx",
        "colab": {
          "base_uri": "https://localhost:8080/"
        },
        "outputId": "233a206c-6dad-42d7-95bd-2da4d17c1331"
      },
      "source": [
        "#Import each dataset (Chicago Public Schools)\n",
        "start_time = time.time()\n",
        "\n",
        "cps_1516_df = pd.read_csv(\"https://data.cityofchicago.org/api/views/fvrx-esxp/rows.csv?accessType=DOWNLOAD&bom=true&format=true\")\n",
        "cps_1617_df = pd.read_csv(\"https://data.cityofchicago.org/api/views/cp7s-7gxg/rows.csv?accessType=DOWNLOAD&bom=true&format=true\")\n",
        "cps_1718_df = pd.read_csv(\"https://data.cityofchicago.org/api/views/wkiz-8iya/rows.csv?accessType=DOWNLOAD&bom=true&format=true\")\n",
        "cps_1819_df = pd.read_csv(\"https://data.cityofchicago.org/api/views/dw27-rash/rows.csv?accessType=DOWNLOAD&bom=true&format=true\")\n",
        "\n",
        "dur = time.time()- start_time\n",
        "\n",
        "print(f\"{round(dur,3)}s\")"
      ],
      "execution_count": 244,
      "outputs": [
        {
          "output_type": "stream",
          "text": [
            "5.716s\n"
          ],
          "name": "stdout"
        }
      ]
    },
    {
      "cell_type": "code",
      "metadata": {
        "id": "SPkXDmPgHmVe"
      },
      "source": [
        "#Small function for displaying many elements in a list in-line\n",
        "def show_all(input_list, line_len = 3):\n",
        "    num_in_line = 0\n",
        "\n",
        "    for elem in input_list:\n",
        "        if num_in_line > line_len - 1:\n",
        "            print(f\"\")\n",
        "            print(elem, end = ', ')\n",
        "            num_in_line = 0\n",
        "        \n",
        "        else:\n",
        "            print(elem, end = ', ')\n",
        "        \n",
        "        num_in_line += 1"
      ],
      "execution_count": 245,
      "outputs": []
    },
    {
      "cell_type": "markdown",
      "metadata": {
        "id": "Dev-aWtGZvE9"
      },
      "source": [
        "# 1. Data Preparation (Merging the dataset and checking for nulls)\n",
        "- Briefly explore each of the datasets per year to see if they are roughly the same\n",
        "- Merge the Dataset on a value\n",
        "- Check for issues/nulls\n",
        "\n",
        "REF: https://pandas.pydata.org/docs/user_guide/merging.html"
      ]
    },
    {
      "cell_type": "markdown",
      "metadata": {
        "id": "VeKqP1Ee7npP"
      },
      "source": [
        "## 1b. Are the columns of yearly progress report the same?\n",
        "- check by comparing the sizes of each"
      ]
    },
    {
      "cell_type": "code",
      "metadata": {
        "colab": {
          "base_uri": "https://localhost:8080/"
        },
        "id": "Ri09c9QK8Szk",
        "outputId": "8cd96616-28e2-4b10-f227-af2733fdbc97"
      },
      "source": [
        "#Introduce the four years' datasets\n",
        "all_dfs = [cps_1516_df,\n",
        "           cps_1617_df,\n",
        "           cps_1718_df,\n",
        "           cps_1819_df]\n",
        "\n",
        "for dataframe in all_dfs:\n",
        "    print(f\"elem:{dataframe.size} | cols:{(dataframe.shape)}\")"
      ],
      "execution_count": 246,
      "outputs": [
        {
          "output_type": "stream",
          "text": [
            "elem:102510 | cols:(670, 153)\n",
            "elem:106421 | cols:(661, 161)\n",
            "elem:107743 | cols:(661, 163)\n",
            "elem:119028 | cols:(654, 182)\n"
          ],
          "name": "stdout"
        }
      ]
    },
    {
      "cell_type": "markdown",
      "metadata": {
        "id": "jmbsDxfWu8Vs"
      },
      "source": [
        "*Note:* Most of the dataframes are pretty similar. There are a few differences in school count between the first dataframe and the others, and the number of columns increases per year, but they are not tremendously different here. \n",
        "\n",
        "We should not have any problems combining the data."
      ]
    },
    {
      "cell_type": "markdown",
      "metadata": {
        "id": "LtnAZc0_vYJE"
      },
      "source": [
        "### Compare Each Dataframe's Columns\n",
        "Let's compare the dataframes to see if any of the columns are different with each one.  \n",
        "*This check only goes one way (it checks what something lacks, but not what it might have that the other dataframe does not).* "
      ]
    },
    {
      "cell_type": "code",
      "metadata": {
        "id": "oHLw1NyD7y6j"
      },
      "source": [
        "#Checks the columns and appends to list all values that are not in one.\n",
        "def compare_cols(df1, df2):\n",
        "    not_in = []\n",
        "\n",
        "    for elem in df1.columns:\n",
        "        if elem not in df2.columns:\n",
        "            not_in.append(elem)        \n",
        "\n",
        "    return not_in"
      ],
      "execution_count": 247,
      "outputs": []
    },
    {
      "cell_type": "code",
      "metadata": {
        "id": "h9p0kkVl7CW3"
      },
      "source": [
        "#Compare elements between columns\n",
        "show_all(compare_cols(cps_1516_df,cps_1617_df),5)"
      ],
      "execution_count": 248,
      "outputs": []
    },
    {
      "cell_type": "code",
      "metadata": {
        "colab": {
          "base_uri": "https://localhost:8080/"
        },
        "id": "czGCQUGtvQDF",
        "outputId": "8234b3b8-f0d0-4fc7-dbb9-be2fedf6bf59"
      },
      "source": [
        "show_all(compare_cols(cps_1617_df,cps_1718_df),5)"
      ],
      "execution_count": 249,
      "outputs": [
        {
          "output_type": "stream",
          "text": [
            "Address, City, State, Zip, Growth_ACT_Grade_11_Pct, \n",
            "Growth_ACT_Grade_11_Lbl, Attainment_ACT_Grade_11_Pct, Attainment_ACT_Grade_11_Lbl, School_Latitude, School_Longitude, "
          ],
          "name": "stdout"
        }
      ]
    },
    {
      "cell_type": "code",
      "metadata": {
        "colab": {
          "base_uri": "https://localhost:8080/"
        },
        "id": "SBFFFRqdvUYe",
        "outputId": "00ad7e04-61f1-4bd5-ac59-12b8ba3efaaf"
      },
      "source": [
        "show_all(compare_cols(cps_1718_df,cps_1819_df),5)"
      ],
      "execution_count": 250,
      "outputs": [
        {
          "output_type": "stream",
          "text": [
            "PSAT_9_Average, PSAT_10_Average, SAT_School_Average, SAT_District_Average, PSAT_9_Growth_Pct, \n",
            "PSAT_10_Growth_Pct, SAT_Growth_Pct, PSAT_9_Attainment_Pct, PSAT_10_Attainment_Pct, SAT_Attainment_Pct, \n",
            "Location, "
          ],
          "name": "stdout"
        }
      ]
    },
    {
      "cell_type": "markdown",
      "metadata": {
        "id": "gDHQRx8pIkik"
      },
      "source": [
        "So, there are a few different variables, but overall the data is *mostly* the same."
      ]
    },
    {
      "cell_type": "markdown",
      "metadata": {
        "id": "JH2iPkgVnrp0"
      },
      "source": [
        "## 1c. Merge the datasets\n",
        "- Merge them on School_ID\n",
        "Recast all School_ID as INT so that we can merge them\n",
        "Note: One issue is that the 1718 and 1819 datasets have school_id as a string (with an included comma), wheras the 1516 and 1617 have them as an int.  \n",
        "\n",
        "We have to remove the comma and recast them as ints so that they can be merged. \n",
        "- drop commas (\"000,000\" -> 000000)\n",
        "- recast as INT"
      ]
    },
    {
      "cell_type": "code",
      "metadata": {
        "id": "t2T7eWruy-gA"
      },
      "source": [
        "#Drop \",\" and replace Columns as 'int' for cps_1718 and cps_1819\n",
        "cps_1718_df['School_ID'] = cps_1718_df['School_ID'].apply(lambda x:int(x.replace(\",\",\"\")))\n",
        "cps_1819_df['School_ID'] = cps_1819_df['School_ID'].apply(lambda x:int(x.replace(\",\",\"\")))"
      ],
      "execution_count": 251,
      "outputs": []
    },
    {
      "cell_type": "code",
      "metadata": {
        "id": "7P4aqQqKr2_u"
      },
      "source": [
        "#Merge the datasets together. (Outer join to keep all data)\n",
        "df_1517 = cps_1516_df.merge(cps_1617_df, how = \"outer\", on=\"School_ID\", suffixes=('_1516','_1617'))\n",
        "df_1719 = cps_1718_df.merge(cps_1819_df, how = \"outer\",  on = \"School_ID\",suffixes = ('_1718','_1819'))\n",
        "\n",
        "#Join the data again\n",
        "full_df = df_1517.merge(df_1719, how = \"outer\", on=\"School_ID\")"
      ],
      "execution_count": 252,
      "outputs": []
    },
    {
      "cell_type": "markdown",
      "metadata": {
        "id": "iBk5EKsH3yuQ"
      },
      "source": [
        "### Check the merged dataset"
      ]
    },
    {
      "cell_type": "code",
      "metadata": {
        "colab": {
          "base_uri": "https://localhost:8080/",
          "height": 229
        },
        "id": "sDRLpW5jIKxc",
        "outputId": "4cb86623-843e-43b8-c466-799a16371a4c"
      },
      "source": [
        "full_df.head(2)"
      ],
      "execution_count": 253,
      "outputs": [
        {
          "output_type": "execute_result",
          "data": {
            "text/html": [
              "<div>\n",
              "<style scoped>\n",
              "    .dataframe tbody tr th:only-of-type {\n",
              "        vertical-align: middle;\n",
              "    }\n",
              "\n",
              "    .dataframe tbody tr th {\n",
              "        vertical-align: top;\n",
              "    }\n",
              "\n",
              "    .dataframe thead th {\n",
              "        text-align: right;\n",
              "    }\n",
              "</style>\n",
              "<table border=\"1\" class=\"dataframe\">\n",
              "  <thead>\n",
              "    <tr style=\"text-align: right;\">\n",
              "      <th></th>\n",
              "      <th>School_ID</th>\n",
              "      <th>Short_Name_1516</th>\n",
              "      <th>Long_Name_1516</th>\n",
              "      <th>School_Type_1516</th>\n",
              "      <th>Primary_Category_1516</th>\n",
              "      <th>Address_1516</th>\n",
              "      <th>City_1516</th>\n",
              "      <th>State_1516</th>\n",
              "      <th>Zip_1516</th>\n",
              "      <th>Phone_1516</th>\n",
              "      <th>Fax_1516</th>\n",
              "      <th>CPS_School_Profile_1516</th>\n",
              "      <th>Website_1516</th>\n",
              "      <th>Progress_Report_Year_1516</th>\n",
              "      <th>Blue_Ribbon_Award_Year_1516</th>\n",
              "      <th>Excelerate_Award_Gold_Year_1516</th>\n",
              "      <th>Spot_Light_Award_Year_1516</th>\n",
              "      <th>Improvement_Award_Year_1516</th>\n",
              "      <th>Excellence_Award_Year_1516</th>\n",
              "      <th>Student_Growth_Rating_1516</th>\n",
              "      <th>Student_Growth_Description_1516</th>\n",
              "      <th>Growth_Reading_Grades_Tested_Pct_ES_1516</th>\n",
              "      <th>Growth_Reading_Grades_Tested_Label_ES_1516</th>\n",
              "      <th>Growth_Math_Grades_Tested_Pct_ES_1516</th>\n",
              "      <th>Growth_Math_Grades_Tested_Label_ES_1516</th>\n",
              "      <th>Student_Attainment_Rating_1516</th>\n",
              "      <th>Student_Attainment_Description_1516</th>\n",
              "      <th>Attainment_Reading_Pct_ES_1516</th>\n",
              "      <th>Attainment_Reading_Lbl_ES_1516</th>\n",
              "      <th>Attainment_Math_Pct_ES_1516</th>\n",
              "      <th>Attainment_Math_Lbl_ES_1516</th>\n",
              "      <th>Culture_Climate_Rating_1516</th>\n",
              "      <th>Culture_Climate_Description_1516</th>\n",
              "      <th>School_Survey_Student_Response_Rate_Pct_1516</th>\n",
              "      <th>School_Survey_Student_Response_Rate_Avg_Pct_1516</th>\n",
              "      <th>School_Survey_Teacher_Response_Rate_Pct_1516</th>\n",
              "      <th>School_Survey_Teacher_Response_Rate_Avg_Pct_1516</th>\n",
              "      <th>Healthy_School_Certification_1516</th>\n",
              "      <th>Healthy_School_Certification_Description_1516</th>\n",
              "      <th>Creative_School_Certification_1516</th>\n",
              "      <th>...</th>\n",
              "      <th>College_Persistence_School_Pct_Year_2_1819</th>\n",
              "      <th>College_Persistence_CPS_Pct_Year_2_1819</th>\n",
              "      <th>College_Persistence_School_Pct_Year_1_1819</th>\n",
              "      <th>College_Persistence_CPS_Pct_Year_1_1819</th>\n",
              "      <th>Progress_Toward_Graduation_Year_1_1819</th>\n",
              "      <th>Progress_Toward_Graduation_Year_2_1819</th>\n",
              "      <th>State_School_Report_Card_URL_1819</th>\n",
              "      <th>Mobility_Rate_Pct_1819</th>\n",
              "      <th>Chronic_Truancy_Pct_1819</th>\n",
              "      <th>Empty_Progress_Report_Message_1819</th>\n",
              "      <th>School_Survey_Rating_Description_1819</th>\n",
              "      <th>Supportive_School_Award_1819</th>\n",
              "      <th>Supportive_School_Award_Desc_1819</th>\n",
              "      <th>Parent_Survey_Results_Year_1819</th>\n",
              "      <th>School_Latitude</th>\n",
              "      <th>School_Longitude</th>\n",
              "      <th>PSAT_Grade_9_Score_School_Avg</th>\n",
              "      <th>PSAT_Grade_10_Score_School_Avg</th>\n",
              "      <th>SAT_Grade_11_Score_School_Avg</th>\n",
              "      <th>SAT_Grade_11_Score_CPS_Avg</th>\n",
              "      <th>Growth_PSAT_Grade_9_School_Pct</th>\n",
              "      <th>Growth_PSAT_Grade_9_School_Lbl</th>\n",
              "      <th>Growth_PSAT_Reading_Grade_10_School_Pct</th>\n",
              "      <th>Growth_PSAT_Reading_Grade_10_School_Lbl</th>\n",
              "      <th>Growth_SAT_Grade_11_School_Pct</th>\n",
              "      <th>Growth_SAT_Grade_11_School_Lbl</th>\n",
              "      <th>Attainment_PSAT_Grade_9_School_Pct</th>\n",
              "      <th>Attainment_PSAT_Grade_9_School_Lbl</th>\n",
              "      <th>Attainment_PSAT_Grade_10_School_Pct</th>\n",
              "      <th>Attainment_PSAT_Grade_10_School_Lbl</th>\n",
              "      <th>Attainment_SAT_Grade_11_School_Pct</th>\n",
              "      <th>Attainment_SAT_Grade_11_School_Lbl</th>\n",
              "      <th>Attainment_All_Grades_School_Pct</th>\n",
              "      <th>Attainment_All_Grades_School_Lbl</th>\n",
              "      <th>Growth_PSAT_Math_Grade_10_School_Pct</th>\n",
              "      <th>Growth_PSAT_Math_Grade_10_School_Lbl</th>\n",
              "      <th>Growth_SAT_Reading_Grade_11_School_Pct</th>\n",
              "      <th>Growth_SAT_Reading_Grade_11_School_Lbl</th>\n",
              "      <th>Growth_SAT_Math_Grade_11_School_Pct</th>\n",
              "      <th>Growth_SAT_Math_Grade_11_School_Lbl</th>\n",
              "    </tr>\n",
              "  </thead>\n",
              "  <tbody>\n",
              "    <tr>\n",
              "      <th>0</th>\n",
              "      <td>610547</td>\n",
              "      <td>SOUTH SHORE INTL HS</td>\n",
              "      <td>South Shore Intl College Prep High School</td>\n",
              "      <td>Selective enrollment</td>\n",
              "      <td>HS</td>\n",
              "      <td>1955 E 75TH ST</td>\n",
              "      <td>Chicago</td>\n",
              "      <td>Illinois</td>\n",
              "      <td>60649.0</td>\n",
              "      <td>7.735358e+09</td>\n",
              "      <td>NaN</td>\n",
              "      <td>http://cps.edu/Schools/Pages/school.aspx?Schoo...</td>\n",
              "      <td>http://www.southshoreinternational.org</td>\n",
              "      <td>2015.0</td>\n",
              "      <td>NaN</td>\n",
              "      <td>NaN</td>\n",
              "      <td>NaN</td>\n",
              "      <td>2012.0</td>\n",
              "      <td>NaN</td>\n",
              "      <td>BELOW AVERAGE</td>\n",
              "      <td>Student Growth measures the change in standard...</td>\n",
              "      <td>NaN</td>\n",
              "      <td>NaN</td>\n",
              "      <td>NaN</td>\n",
              "      <td>NaN</td>\n",
              "      <td>BELOW AVERAGE</td>\n",
              "      <td>Student Attainment measures how well the schoo...</td>\n",
              "      <td>NaN</td>\n",
              "      <td>NaN</td>\n",
              "      <td>NaN</td>\n",
              "      <td>NaN</td>\n",
              "      <td>ORGANIZED</td>\n",
              "      <td>Results are based on student and teacher respo...</td>\n",
              "      <td>81.1</td>\n",
              "      <td>81.2</td>\n",
              "      <td>90.5</td>\n",
              "      <td>80.7</td>\n",
              "      <td>NOT CERTIFIED</td>\n",
              "      <td>This school has not achieved Healthy School Ce...</td>\n",
              "      <td>INCOMPLETE DATA</td>\n",
              "      <td>...</td>\n",
              "      <td>68.1</td>\n",
              "      <td>72.3</td>\n",
              "      <td>63.0</td>\n",
              "      <td>71.9</td>\n",
              "      <td>2,017</td>\n",
              "      <td>2,018</td>\n",
              "      <td>http://iirc.niu.edu/School.aspx?schoolid=15016...</td>\n",
              "      <td>2.9</td>\n",
              "      <td>45.4</td>\n",
              "      <td>NaN</td>\n",
              "      <td>This school does not have enough data for a re...</td>\n",
              "      <td>NOT RATED</td>\n",
              "      <td>This school has not submitted an action plan t...</td>\n",
              "      <td>2,018</td>\n",
              "      <td>41.758792</td>\n",
              "      <td>-87.576353</td>\n",
              "      <td>818</td>\n",
              "      <td>891</td>\n",
              "      <td>929</td>\n",
              "      <td>969.0</td>\n",
              "      <td>9.0</td>\n",
              "      <td>9th</td>\n",
              "      <td>92.0</td>\n",
              "      <td>92nd</td>\n",
              "      <td>5.0</td>\n",
              "      <td>5th</td>\n",
              "      <td>35.7</td>\n",
              "      <td>35.7</td>\n",
              "      <td>45.9</td>\n",
              "      <td>45.9</td>\n",
              "      <td>18.5</td>\n",
              "      <td>18.5</td>\n",
              "      <td>34.1</td>\n",
              "      <td>34.1</td>\n",
              "      <td>29.0</td>\n",
              "      <td>29th</td>\n",
              "      <td>33.0</td>\n",
              "      <td>33rd</td>\n",
              "      <td>37.0</td>\n",
              "      <td>37th</td>\n",
              "    </tr>\n",
              "    <tr>\n",
              "      <th>1</th>\n",
              "      <td>400097</td>\n",
              "      <td>NOBLE - BULLS HS</td>\n",
              "      <td>Noble - Chicago Bulls College Prep</td>\n",
              "      <td>Charter</td>\n",
              "      <td>HS</td>\n",
              "      <td>2040 W ADAMS ST</td>\n",
              "      <td>Chicago</td>\n",
              "      <td>Illinois</td>\n",
              "      <td>60612.0</td>\n",
              "      <td>7.735348e+09</td>\n",
              "      <td>3.128500e+09</td>\n",
              "      <td>http://cps.edu/Schools/Pages/school.aspx?Schoo...</td>\n",
              "      <td>http://www.chicagobullscollegeprep.org</td>\n",
              "      <td>2015.0</td>\n",
              "      <td>NaN</td>\n",
              "      <td>NaN</td>\n",
              "      <td>NaN</td>\n",
              "      <td>NaN</td>\n",
              "      <td>NaN</td>\n",
              "      <td>AVERAGE</td>\n",
              "      <td>Student Growth measures the change in standard...</td>\n",
              "      <td>NaN</td>\n",
              "      <td>NaN</td>\n",
              "      <td>NaN</td>\n",
              "      <td>NaN</td>\n",
              "      <td>ABOVE AVERAGE</td>\n",
              "      <td>Student Attainment measures how well the schoo...</td>\n",
              "      <td>NaN</td>\n",
              "      <td>NaN</td>\n",
              "      <td>NaN</td>\n",
              "      <td>NaN</td>\n",
              "      <td>WELL ORGANIZED</td>\n",
              "      <td>Results are based on student and teacher respo...</td>\n",
              "      <td>59.3</td>\n",
              "      <td>81.2</td>\n",
              "      <td>72.4</td>\n",
              "      <td>80.7</td>\n",
              "      <td>NOT CERTIFIED</td>\n",
              "      <td>This school has not achieved Healthy School Ce...</td>\n",
              "      <td>INCOMPLETE DATA</td>\n",
              "      <td>...</td>\n",
              "      <td>80.0</td>\n",
              "      <td>72.3</td>\n",
              "      <td>74.0</td>\n",
              "      <td>71.9</td>\n",
              "      <td>2,017</td>\n",
              "      <td>2,018</td>\n",
              "      <td>http://iirc.niu.edu/School.aspx?schoolid=15016...</td>\n",
              "      <td>3.4</td>\n",
              "      <td>46.5</td>\n",
              "      <td>NaN</td>\n",
              "      <td>This school is “Well-Organized for Improvement...</td>\n",
              "      <td>NOT RATED</td>\n",
              "      <td>This school has not submitted an action plan t...</td>\n",
              "      <td>2,018</td>\n",
              "      <td>41.878809</td>\n",
              "      <td>-87.678195</td>\n",
              "      <td>868</td>\n",
              "      <td>958</td>\n",
              "      <td>1,033</td>\n",
              "      <td>969.0</td>\n",
              "      <td>99.0</td>\n",
              "      <td>99th</td>\n",
              "      <td>96.0</td>\n",
              "      <td>96th</td>\n",
              "      <td>99.0</td>\n",
              "      <td>99th</td>\n",
              "      <td>50.2</td>\n",
              "      <td>50.2</td>\n",
              "      <td>65.9</td>\n",
              "      <td>65.9</td>\n",
              "      <td>54.5</td>\n",
              "      <td>54.5</td>\n",
              "      <td>56.5</td>\n",
              "      <td>56.5</td>\n",
              "      <td>72.0</td>\n",
              "      <td>72nd</td>\n",
              "      <td>68.0</td>\n",
              "      <td>68th</td>\n",
              "      <td>90.0</td>\n",
              "      <td>90th</td>\n",
              "    </tr>\n",
              "  </tbody>\n",
              "</table>\n",
              "<p>2 rows × 656 columns</p>\n",
              "</div>"
            ],
            "text/plain": [
              "   School_ID  ... Growth_SAT_Math_Grade_11_School_Lbl\n",
              "0     610547  ...                                37th\n",
              "1     400097  ...                                90th\n",
              "\n",
              "[2 rows x 656 columns]"
            ]
          },
          "metadata": {
            "tags": []
          },
          "execution_count": 253
        }
      ]
    },
    {
      "cell_type": "markdown",
      "metadata": {
        "id": "NyMWktL78it8"
      },
      "source": [
        "### View Merged Dataframe / Info"
      ]
    },
    {
      "cell_type": "code",
      "metadata": {
        "colab": {
          "base_uri": "https://localhost:8080/",
          "height": 294
        },
        "id": "4hy4hSWh8lo2",
        "outputId": "560ccd31-dfff-481d-bb79-68591e080a10"
      },
      "source": [
        "full_df.head(3)"
      ],
      "execution_count": 254,
      "outputs": [
        {
          "output_type": "execute_result",
          "data": {
            "text/html": [
              "<div>\n",
              "<style scoped>\n",
              "    .dataframe tbody tr th:only-of-type {\n",
              "        vertical-align: middle;\n",
              "    }\n",
              "\n",
              "    .dataframe tbody tr th {\n",
              "        vertical-align: top;\n",
              "    }\n",
              "\n",
              "    .dataframe thead th {\n",
              "        text-align: right;\n",
              "    }\n",
              "</style>\n",
              "<table border=\"1\" class=\"dataframe\">\n",
              "  <thead>\n",
              "    <tr style=\"text-align: right;\">\n",
              "      <th></th>\n",
              "      <th>School_ID</th>\n",
              "      <th>Short_Name_1516</th>\n",
              "      <th>Long_Name_1516</th>\n",
              "      <th>School_Type_1516</th>\n",
              "      <th>Primary_Category_1516</th>\n",
              "      <th>Address_1516</th>\n",
              "      <th>City_1516</th>\n",
              "      <th>State_1516</th>\n",
              "      <th>Zip_1516</th>\n",
              "      <th>Phone_1516</th>\n",
              "      <th>Fax_1516</th>\n",
              "      <th>CPS_School_Profile_1516</th>\n",
              "      <th>Website_1516</th>\n",
              "      <th>Progress_Report_Year_1516</th>\n",
              "      <th>Blue_Ribbon_Award_Year_1516</th>\n",
              "      <th>Excelerate_Award_Gold_Year_1516</th>\n",
              "      <th>Spot_Light_Award_Year_1516</th>\n",
              "      <th>Improvement_Award_Year_1516</th>\n",
              "      <th>Excellence_Award_Year_1516</th>\n",
              "      <th>Student_Growth_Rating_1516</th>\n",
              "      <th>Student_Growth_Description_1516</th>\n",
              "      <th>Growth_Reading_Grades_Tested_Pct_ES_1516</th>\n",
              "      <th>Growth_Reading_Grades_Tested_Label_ES_1516</th>\n",
              "      <th>Growth_Math_Grades_Tested_Pct_ES_1516</th>\n",
              "      <th>Growth_Math_Grades_Tested_Label_ES_1516</th>\n",
              "      <th>Student_Attainment_Rating_1516</th>\n",
              "      <th>Student_Attainment_Description_1516</th>\n",
              "      <th>Attainment_Reading_Pct_ES_1516</th>\n",
              "      <th>Attainment_Reading_Lbl_ES_1516</th>\n",
              "      <th>Attainment_Math_Pct_ES_1516</th>\n",
              "      <th>Attainment_Math_Lbl_ES_1516</th>\n",
              "      <th>Culture_Climate_Rating_1516</th>\n",
              "      <th>Culture_Climate_Description_1516</th>\n",
              "      <th>School_Survey_Student_Response_Rate_Pct_1516</th>\n",
              "      <th>School_Survey_Student_Response_Rate_Avg_Pct_1516</th>\n",
              "      <th>School_Survey_Teacher_Response_Rate_Pct_1516</th>\n",
              "      <th>School_Survey_Teacher_Response_Rate_Avg_Pct_1516</th>\n",
              "      <th>Healthy_School_Certification_1516</th>\n",
              "      <th>Healthy_School_Certification_Description_1516</th>\n",
              "      <th>Creative_School_Certification_1516</th>\n",
              "      <th>...</th>\n",
              "      <th>College_Persistence_School_Pct_Year_2_1819</th>\n",
              "      <th>College_Persistence_CPS_Pct_Year_2_1819</th>\n",
              "      <th>College_Persistence_School_Pct_Year_1_1819</th>\n",
              "      <th>College_Persistence_CPS_Pct_Year_1_1819</th>\n",
              "      <th>Progress_Toward_Graduation_Year_1_1819</th>\n",
              "      <th>Progress_Toward_Graduation_Year_2_1819</th>\n",
              "      <th>State_School_Report_Card_URL_1819</th>\n",
              "      <th>Mobility_Rate_Pct_1819</th>\n",
              "      <th>Chronic_Truancy_Pct_1819</th>\n",
              "      <th>Empty_Progress_Report_Message_1819</th>\n",
              "      <th>School_Survey_Rating_Description_1819</th>\n",
              "      <th>Supportive_School_Award_1819</th>\n",
              "      <th>Supportive_School_Award_Desc_1819</th>\n",
              "      <th>Parent_Survey_Results_Year_1819</th>\n",
              "      <th>School_Latitude</th>\n",
              "      <th>School_Longitude</th>\n",
              "      <th>PSAT_Grade_9_Score_School_Avg</th>\n",
              "      <th>PSAT_Grade_10_Score_School_Avg</th>\n",
              "      <th>SAT_Grade_11_Score_School_Avg</th>\n",
              "      <th>SAT_Grade_11_Score_CPS_Avg</th>\n",
              "      <th>Growth_PSAT_Grade_9_School_Pct</th>\n",
              "      <th>Growth_PSAT_Grade_9_School_Lbl</th>\n",
              "      <th>Growth_PSAT_Reading_Grade_10_School_Pct</th>\n",
              "      <th>Growth_PSAT_Reading_Grade_10_School_Lbl</th>\n",
              "      <th>Growth_SAT_Grade_11_School_Pct</th>\n",
              "      <th>Growth_SAT_Grade_11_School_Lbl</th>\n",
              "      <th>Attainment_PSAT_Grade_9_School_Pct</th>\n",
              "      <th>Attainment_PSAT_Grade_9_School_Lbl</th>\n",
              "      <th>Attainment_PSAT_Grade_10_School_Pct</th>\n",
              "      <th>Attainment_PSAT_Grade_10_School_Lbl</th>\n",
              "      <th>Attainment_SAT_Grade_11_School_Pct</th>\n",
              "      <th>Attainment_SAT_Grade_11_School_Lbl</th>\n",
              "      <th>Attainment_All_Grades_School_Pct</th>\n",
              "      <th>Attainment_All_Grades_School_Lbl</th>\n",
              "      <th>Growth_PSAT_Math_Grade_10_School_Pct</th>\n",
              "      <th>Growth_PSAT_Math_Grade_10_School_Lbl</th>\n",
              "      <th>Growth_SAT_Reading_Grade_11_School_Pct</th>\n",
              "      <th>Growth_SAT_Reading_Grade_11_School_Lbl</th>\n",
              "      <th>Growth_SAT_Math_Grade_11_School_Pct</th>\n",
              "      <th>Growth_SAT_Math_Grade_11_School_Lbl</th>\n",
              "    </tr>\n",
              "  </thead>\n",
              "  <tbody>\n",
              "    <tr>\n",
              "      <th>0</th>\n",
              "      <td>610547</td>\n",
              "      <td>SOUTH SHORE INTL HS</td>\n",
              "      <td>South Shore Intl College Prep High School</td>\n",
              "      <td>Selective enrollment</td>\n",
              "      <td>HS</td>\n",
              "      <td>1955 E 75TH ST</td>\n",
              "      <td>Chicago</td>\n",
              "      <td>Illinois</td>\n",
              "      <td>60649.0</td>\n",
              "      <td>7.735358e+09</td>\n",
              "      <td>NaN</td>\n",
              "      <td>http://cps.edu/Schools/Pages/school.aspx?Schoo...</td>\n",
              "      <td>http://www.southshoreinternational.org</td>\n",
              "      <td>2015.0</td>\n",
              "      <td>NaN</td>\n",
              "      <td>NaN</td>\n",
              "      <td>NaN</td>\n",
              "      <td>2012.0</td>\n",
              "      <td>NaN</td>\n",
              "      <td>BELOW AVERAGE</td>\n",
              "      <td>Student Growth measures the change in standard...</td>\n",
              "      <td>NaN</td>\n",
              "      <td>NaN</td>\n",
              "      <td>NaN</td>\n",
              "      <td>NaN</td>\n",
              "      <td>BELOW AVERAGE</td>\n",
              "      <td>Student Attainment measures how well the schoo...</td>\n",
              "      <td>NaN</td>\n",
              "      <td>NaN</td>\n",
              "      <td>NaN</td>\n",
              "      <td>NaN</td>\n",
              "      <td>ORGANIZED</td>\n",
              "      <td>Results are based on student and teacher respo...</td>\n",
              "      <td>81.1</td>\n",
              "      <td>81.2</td>\n",
              "      <td>90.5</td>\n",
              "      <td>80.7</td>\n",
              "      <td>NOT CERTIFIED</td>\n",
              "      <td>This school has not achieved Healthy School Ce...</td>\n",
              "      <td>INCOMPLETE DATA</td>\n",
              "      <td>...</td>\n",
              "      <td>68.1</td>\n",
              "      <td>72.3</td>\n",
              "      <td>63.0</td>\n",
              "      <td>71.9</td>\n",
              "      <td>2,017</td>\n",
              "      <td>2,018</td>\n",
              "      <td>http://iirc.niu.edu/School.aspx?schoolid=15016...</td>\n",
              "      <td>2.9</td>\n",
              "      <td>45.4</td>\n",
              "      <td>NaN</td>\n",
              "      <td>This school does not have enough data for a re...</td>\n",
              "      <td>NOT RATED</td>\n",
              "      <td>This school has not submitted an action plan t...</td>\n",
              "      <td>2,018</td>\n",
              "      <td>41.758792</td>\n",
              "      <td>-87.576353</td>\n",
              "      <td>818</td>\n",
              "      <td>891</td>\n",
              "      <td>929</td>\n",
              "      <td>969.0</td>\n",
              "      <td>9.0</td>\n",
              "      <td>9th</td>\n",
              "      <td>92.0</td>\n",
              "      <td>92nd</td>\n",
              "      <td>5.0</td>\n",
              "      <td>5th</td>\n",
              "      <td>35.7</td>\n",
              "      <td>35.7</td>\n",
              "      <td>45.9</td>\n",
              "      <td>45.9</td>\n",
              "      <td>18.5</td>\n",
              "      <td>18.5</td>\n",
              "      <td>34.1</td>\n",
              "      <td>34.1</td>\n",
              "      <td>29.0</td>\n",
              "      <td>29th</td>\n",
              "      <td>33.0</td>\n",
              "      <td>33rd</td>\n",
              "      <td>37.0</td>\n",
              "      <td>37th</td>\n",
              "    </tr>\n",
              "    <tr>\n",
              "      <th>1</th>\n",
              "      <td>400097</td>\n",
              "      <td>NOBLE - BULLS HS</td>\n",
              "      <td>Noble - Chicago Bulls College Prep</td>\n",
              "      <td>Charter</td>\n",
              "      <td>HS</td>\n",
              "      <td>2040 W ADAMS ST</td>\n",
              "      <td>Chicago</td>\n",
              "      <td>Illinois</td>\n",
              "      <td>60612.0</td>\n",
              "      <td>7.735348e+09</td>\n",
              "      <td>3.128500e+09</td>\n",
              "      <td>http://cps.edu/Schools/Pages/school.aspx?Schoo...</td>\n",
              "      <td>http://www.chicagobullscollegeprep.org</td>\n",
              "      <td>2015.0</td>\n",
              "      <td>NaN</td>\n",
              "      <td>NaN</td>\n",
              "      <td>NaN</td>\n",
              "      <td>NaN</td>\n",
              "      <td>NaN</td>\n",
              "      <td>AVERAGE</td>\n",
              "      <td>Student Growth measures the change in standard...</td>\n",
              "      <td>NaN</td>\n",
              "      <td>NaN</td>\n",
              "      <td>NaN</td>\n",
              "      <td>NaN</td>\n",
              "      <td>ABOVE AVERAGE</td>\n",
              "      <td>Student Attainment measures how well the schoo...</td>\n",
              "      <td>NaN</td>\n",
              "      <td>NaN</td>\n",
              "      <td>NaN</td>\n",
              "      <td>NaN</td>\n",
              "      <td>WELL ORGANIZED</td>\n",
              "      <td>Results are based on student and teacher respo...</td>\n",
              "      <td>59.3</td>\n",
              "      <td>81.2</td>\n",
              "      <td>72.4</td>\n",
              "      <td>80.7</td>\n",
              "      <td>NOT CERTIFIED</td>\n",
              "      <td>This school has not achieved Healthy School Ce...</td>\n",
              "      <td>INCOMPLETE DATA</td>\n",
              "      <td>...</td>\n",
              "      <td>80.0</td>\n",
              "      <td>72.3</td>\n",
              "      <td>74.0</td>\n",
              "      <td>71.9</td>\n",
              "      <td>2,017</td>\n",
              "      <td>2,018</td>\n",
              "      <td>http://iirc.niu.edu/School.aspx?schoolid=15016...</td>\n",
              "      <td>3.4</td>\n",
              "      <td>46.5</td>\n",
              "      <td>NaN</td>\n",
              "      <td>This school is “Well-Organized for Improvement...</td>\n",
              "      <td>NOT RATED</td>\n",
              "      <td>This school has not submitted an action plan t...</td>\n",
              "      <td>2,018</td>\n",
              "      <td>41.878809</td>\n",
              "      <td>-87.678195</td>\n",
              "      <td>868</td>\n",
              "      <td>958</td>\n",
              "      <td>1,033</td>\n",
              "      <td>969.0</td>\n",
              "      <td>99.0</td>\n",
              "      <td>99th</td>\n",
              "      <td>96.0</td>\n",
              "      <td>96th</td>\n",
              "      <td>99.0</td>\n",
              "      <td>99th</td>\n",
              "      <td>50.2</td>\n",
              "      <td>50.2</td>\n",
              "      <td>65.9</td>\n",
              "      <td>65.9</td>\n",
              "      <td>54.5</td>\n",
              "      <td>54.5</td>\n",
              "      <td>56.5</td>\n",
              "      <td>56.5</td>\n",
              "      <td>72.0</td>\n",
              "      <td>72nd</td>\n",
              "      <td>68.0</td>\n",
              "      <td>68th</td>\n",
              "      <td>90.0</td>\n",
              "      <td>90th</td>\n",
              "    </tr>\n",
              "    <tr>\n",
              "      <th>2</th>\n",
              "      <td>610515</td>\n",
              "      <td>DISNEY II ES</td>\n",
              "      <td>Disney II Magnet School</td>\n",
              "      <td>Magnet</td>\n",
              "      <td>ES</td>\n",
              "      <td>3815 N KEDVALE AVE</td>\n",
              "      <td>Chicago</td>\n",
              "      <td>Illinois</td>\n",
              "      <td>60641.0</td>\n",
              "      <td>7.735344e+09</td>\n",
              "      <td>7.735344e+09</td>\n",
              "      <td>http://cps.edu/Schools/Pages/school.aspx?Schoo...</td>\n",
              "      <td>http://www.disneyiimagnet.org</td>\n",
              "      <td>2015.0</td>\n",
              "      <td>NaN</td>\n",
              "      <td>NaN</td>\n",
              "      <td>NaN</td>\n",
              "      <td>NaN</td>\n",
              "      <td>2012.0</td>\n",
              "      <td>ABOVE AVERAGE</td>\n",
              "      <td>Student Growth measures the change in standard...</td>\n",
              "      <td>78.0</td>\n",
              "      <td>78th</td>\n",
              "      <td>53.0</td>\n",
              "      <td>53rd</td>\n",
              "      <td>FAR ABOVE AVERAGE</td>\n",
              "      <td>Student Attainment measures how well the schoo...</td>\n",
              "      <td>97.0</td>\n",
              "      <td>97th</td>\n",
              "      <td>96.0</td>\n",
              "      <td>96th</td>\n",
              "      <td>WELL ORGANIZED</td>\n",
              "      <td>Results are based on student and teacher respo...</td>\n",
              "      <td>99.9</td>\n",
              "      <td>81.2</td>\n",
              "      <td>89.3</td>\n",
              "      <td>80.7</td>\n",
              "      <td>HEALTHY SCHOOLS CERTIFIED</td>\n",
              "      <td>This school has achieved Healthy School Certif...</td>\n",
              "      <td>EXCELLING</td>\n",
              "      <td>...</td>\n",
              "      <td>NaN</td>\n",
              "      <td>72.3</td>\n",
              "      <td>NaN</td>\n",
              "      <td>71.9</td>\n",
              "      <td>2,017</td>\n",
              "      <td>2,018</td>\n",
              "      <td>http://iirc.niu.edu/School.aspx?schoolid=15016...</td>\n",
              "      <td>1.1</td>\n",
              "      <td>9.2</td>\n",
              "      <td>NaN</td>\n",
              "      <td>This school is “Well-Organized for Improvement...</td>\n",
              "      <td>EMERGING</td>\n",
              "      <td>This school has developed an action plan to su...</td>\n",
              "      <td>2,018</td>\n",
              "      <td>41.950461</td>\n",
              "      <td>-87.730678</td>\n",
              "      <td>NaN</td>\n",
              "      <td>NaN</td>\n",
              "      <td>NaN</td>\n",
              "      <td>969.0</td>\n",
              "      <td>NaN</td>\n",
              "      <td>NaN</td>\n",
              "      <td>NaN</td>\n",
              "      <td>NaN</td>\n",
              "      <td>NaN</td>\n",
              "      <td>NaN</td>\n",
              "      <td>NaN</td>\n",
              "      <td>NaN</td>\n",
              "      <td>NaN</td>\n",
              "      <td>NaN</td>\n",
              "      <td>NaN</td>\n",
              "      <td>NaN</td>\n",
              "      <td>NaN</td>\n",
              "      <td>NaN</td>\n",
              "      <td>NaN</td>\n",
              "      <td>NaN</td>\n",
              "      <td>NaN</td>\n",
              "      <td>NaN</td>\n",
              "      <td>NaN</td>\n",
              "      <td>NaN</td>\n",
              "    </tr>\n",
              "  </tbody>\n",
              "</table>\n",
              "<p>3 rows × 656 columns</p>\n",
              "</div>"
            ],
            "text/plain": [
              "   School_ID  ... Growth_SAT_Math_Grade_11_School_Lbl\n",
              "0     610547  ...                                37th\n",
              "1     400097  ...                                90th\n",
              "2     610515  ...                                 NaN\n",
              "\n",
              "[3 rows x 656 columns]"
            ]
          },
          "metadata": {
            "tags": []
          },
          "execution_count": 254
        }
      ]
    },
    {
      "cell_type": "code",
      "metadata": {
        "colab": {
          "base_uri": "https://localhost:8080/"
        },
        "id": "x9g-p6FVn6VQ",
        "outputId": "97f3aa8c-2d81-445a-8309-d4ebfec10b0e"
      },
      "source": [
        "full_df.info()"
      ],
      "execution_count": 255,
      "outputs": [
        {
          "output_type": "stream",
          "text": [
            "<class 'pandas.core.frame.DataFrame'>\n",
            "Int64Index: 678 entries, 0 to 677\n",
            "Columns: 656 entries, School_ID to Growth_SAT_Math_Grade_11_School_Lbl\n",
            "dtypes: float64(345), int64(1), object(310)\n",
            "memory usage: 3.4+ MB\n"
          ],
          "name": "stdout"
        }
      ]
    },
    {
      "cell_type": "code",
      "metadata": {
        "colab": {
          "base_uri": "https://localhost:8080/"
        },
        "id": "cz0gKGwaIPeg",
        "outputId": "26d98c06-9223-4278-9c23-64e71651553a"
      },
      "source": [
        "#What kinds of data are in the new dataframe?\n",
        "full_df.dtypes.value_counts()"
      ],
      "execution_count": 256,
      "outputs": [
        {
          "output_type": "execute_result",
          "data": {
            "text/plain": [
              "float64    345\n",
              "object     310\n",
              "int64        1\n",
              "dtype: int64"
            ]
          },
          "metadata": {
            "tags": []
          },
          "execution_count": 256
        }
      ]
    },
    {
      "cell_type": "code",
      "metadata": {
        "colab": {
          "base_uri": "https://localhost:8080/"
        },
        "id": "TAU9-NH22Awt",
        "outputId": "bcace7f3-41fc-47fc-dde1-ea257f6cf927"
      },
      "source": [
        "#What percent of the data is null?\n",
        "(full_df.isna().sum().sum()) / (full_df.size)"
      ],
      "execution_count": 257,
      "outputs": [
        {
          "output_type": "execute_result",
          "data": {
            "text/plain": [
              "0.29766754802503775"
            ]
          },
          "metadata": {
            "tags": []
          },
          "execution_count": 257
        }
      ]
    },
    {
      "cell_type": "markdown",
      "metadata": {
        "id": "7rYa8NOO8rzi"
      },
      "source": [
        "**Note:** Discussed in project 1, the number of nulls is mainly due to certain data types and assessment data tied to different levels of schooling."
      ]
    },
    {
      "cell_type": "markdown",
      "metadata": {
        "id": "hgHAF4PKaZwh"
      },
      "source": [
        "# 2. Comparing College Entrance Rates, Charter High Schools vs. Neighborhood High Schools\n",
        "One of the major indicators of how successful schools are at delivering education is looking at College Entrance enrollment rates. In this section, we will look at...\n",
        "- How successful are Charter Schools vs. Neighborhood Schools at getting students into College? \n",
        "- Is it a significant difference?"
      ]
    },
    {
      "cell_type": "markdown",
      "metadata": {
        "id": "UB-YJe5GKFas"
      },
      "source": [
        "**Null Hypothesis (h0) = There is no difference in College Entrance rates between Neighborhood Schools and Charter Schools.  \n",
        "Alternate Hypothesis (h1) = There is a significant difference in College Entrance rates between Neighborhood Schools and Charter Schools.**"
      ]
    },
    {
      "cell_type": "code",
      "metadata": {
        "colab": {
          "base_uri": "https://localhost:8080/",
          "height": 294
        },
        "id": "0f_Fn7yD6RLG",
        "outputId": "ec4a9402-d8c3-4a24-c139-8832e2107786"
      },
      "source": [
        "#Head of the new dataframe\n",
        "full_df.head(3)"
      ],
      "execution_count": 258,
      "outputs": [
        {
          "output_type": "execute_result",
          "data": {
            "text/html": [
              "<div>\n",
              "<style scoped>\n",
              "    .dataframe tbody tr th:only-of-type {\n",
              "        vertical-align: middle;\n",
              "    }\n",
              "\n",
              "    .dataframe tbody tr th {\n",
              "        vertical-align: top;\n",
              "    }\n",
              "\n",
              "    .dataframe thead th {\n",
              "        text-align: right;\n",
              "    }\n",
              "</style>\n",
              "<table border=\"1\" class=\"dataframe\">\n",
              "  <thead>\n",
              "    <tr style=\"text-align: right;\">\n",
              "      <th></th>\n",
              "      <th>School_ID</th>\n",
              "      <th>Short_Name_1516</th>\n",
              "      <th>Long_Name_1516</th>\n",
              "      <th>School_Type_1516</th>\n",
              "      <th>Primary_Category_1516</th>\n",
              "      <th>Address_1516</th>\n",
              "      <th>City_1516</th>\n",
              "      <th>State_1516</th>\n",
              "      <th>Zip_1516</th>\n",
              "      <th>Phone_1516</th>\n",
              "      <th>Fax_1516</th>\n",
              "      <th>CPS_School_Profile_1516</th>\n",
              "      <th>Website_1516</th>\n",
              "      <th>Progress_Report_Year_1516</th>\n",
              "      <th>Blue_Ribbon_Award_Year_1516</th>\n",
              "      <th>Excelerate_Award_Gold_Year_1516</th>\n",
              "      <th>Spot_Light_Award_Year_1516</th>\n",
              "      <th>Improvement_Award_Year_1516</th>\n",
              "      <th>Excellence_Award_Year_1516</th>\n",
              "      <th>Student_Growth_Rating_1516</th>\n",
              "      <th>Student_Growth_Description_1516</th>\n",
              "      <th>Growth_Reading_Grades_Tested_Pct_ES_1516</th>\n",
              "      <th>Growth_Reading_Grades_Tested_Label_ES_1516</th>\n",
              "      <th>Growth_Math_Grades_Tested_Pct_ES_1516</th>\n",
              "      <th>Growth_Math_Grades_Tested_Label_ES_1516</th>\n",
              "      <th>Student_Attainment_Rating_1516</th>\n",
              "      <th>Student_Attainment_Description_1516</th>\n",
              "      <th>Attainment_Reading_Pct_ES_1516</th>\n",
              "      <th>Attainment_Reading_Lbl_ES_1516</th>\n",
              "      <th>Attainment_Math_Pct_ES_1516</th>\n",
              "      <th>Attainment_Math_Lbl_ES_1516</th>\n",
              "      <th>Culture_Climate_Rating_1516</th>\n",
              "      <th>Culture_Climate_Description_1516</th>\n",
              "      <th>School_Survey_Student_Response_Rate_Pct_1516</th>\n",
              "      <th>School_Survey_Student_Response_Rate_Avg_Pct_1516</th>\n",
              "      <th>School_Survey_Teacher_Response_Rate_Pct_1516</th>\n",
              "      <th>School_Survey_Teacher_Response_Rate_Avg_Pct_1516</th>\n",
              "      <th>Healthy_School_Certification_1516</th>\n",
              "      <th>Healthy_School_Certification_Description_1516</th>\n",
              "      <th>Creative_School_Certification_1516</th>\n",
              "      <th>...</th>\n",
              "      <th>College_Persistence_School_Pct_Year_2_1819</th>\n",
              "      <th>College_Persistence_CPS_Pct_Year_2_1819</th>\n",
              "      <th>College_Persistence_School_Pct_Year_1_1819</th>\n",
              "      <th>College_Persistence_CPS_Pct_Year_1_1819</th>\n",
              "      <th>Progress_Toward_Graduation_Year_1_1819</th>\n",
              "      <th>Progress_Toward_Graduation_Year_2_1819</th>\n",
              "      <th>State_School_Report_Card_URL_1819</th>\n",
              "      <th>Mobility_Rate_Pct_1819</th>\n",
              "      <th>Chronic_Truancy_Pct_1819</th>\n",
              "      <th>Empty_Progress_Report_Message_1819</th>\n",
              "      <th>School_Survey_Rating_Description_1819</th>\n",
              "      <th>Supportive_School_Award_1819</th>\n",
              "      <th>Supportive_School_Award_Desc_1819</th>\n",
              "      <th>Parent_Survey_Results_Year_1819</th>\n",
              "      <th>School_Latitude</th>\n",
              "      <th>School_Longitude</th>\n",
              "      <th>PSAT_Grade_9_Score_School_Avg</th>\n",
              "      <th>PSAT_Grade_10_Score_School_Avg</th>\n",
              "      <th>SAT_Grade_11_Score_School_Avg</th>\n",
              "      <th>SAT_Grade_11_Score_CPS_Avg</th>\n",
              "      <th>Growth_PSAT_Grade_9_School_Pct</th>\n",
              "      <th>Growth_PSAT_Grade_9_School_Lbl</th>\n",
              "      <th>Growth_PSAT_Reading_Grade_10_School_Pct</th>\n",
              "      <th>Growth_PSAT_Reading_Grade_10_School_Lbl</th>\n",
              "      <th>Growth_SAT_Grade_11_School_Pct</th>\n",
              "      <th>Growth_SAT_Grade_11_School_Lbl</th>\n",
              "      <th>Attainment_PSAT_Grade_9_School_Pct</th>\n",
              "      <th>Attainment_PSAT_Grade_9_School_Lbl</th>\n",
              "      <th>Attainment_PSAT_Grade_10_School_Pct</th>\n",
              "      <th>Attainment_PSAT_Grade_10_School_Lbl</th>\n",
              "      <th>Attainment_SAT_Grade_11_School_Pct</th>\n",
              "      <th>Attainment_SAT_Grade_11_School_Lbl</th>\n",
              "      <th>Attainment_All_Grades_School_Pct</th>\n",
              "      <th>Attainment_All_Grades_School_Lbl</th>\n",
              "      <th>Growth_PSAT_Math_Grade_10_School_Pct</th>\n",
              "      <th>Growth_PSAT_Math_Grade_10_School_Lbl</th>\n",
              "      <th>Growth_SAT_Reading_Grade_11_School_Pct</th>\n",
              "      <th>Growth_SAT_Reading_Grade_11_School_Lbl</th>\n",
              "      <th>Growth_SAT_Math_Grade_11_School_Pct</th>\n",
              "      <th>Growth_SAT_Math_Grade_11_School_Lbl</th>\n",
              "    </tr>\n",
              "  </thead>\n",
              "  <tbody>\n",
              "    <tr>\n",
              "      <th>0</th>\n",
              "      <td>610547</td>\n",
              "      <td>SOUTH SHORE INTL HS</td>\n",
              "      <td>South Shore Intl College Prep High School</td>\n",
              "      <td>Selective enrollment</td>\n",
              "      <td>HS</td>\n",
              "      <td>1955 E 75TH ST</td>\n",
              "      <td>Chicago</td>\n",
              "      <td>Illinois</td>\n",
              "      <td>60649.0</td>\n",
              "      <td>7.735358e+09</td>\n",
              "      <td>NaN</td>\n",
              "      <td>http://cps.edu/Schools/Pages/school.aspx?Schoo...</td>\n",
              "      <td>http://www.southshoreinternational.org</td>\n",
              "      <td>2015.0</td>\n",
              "      <td>NaN</td>\n",
              "      <td>NaN</td>\n",
              "      <td>NaN</td>\n",
              "      <td>2012.0</td>\n",
              "      <td>NaN</td>\n",
              "      <td>BELOW AVERAGE</td>\n",
              "      <td>Student Growth measures the change in standard...</td>\n",
              "      <td>NaN</td>\n",
              "      <td>NaN</td>\n",
              "      <td>NaN</td>\n",
              "      <td>NaN</td>\n",
              "      <td>BELOW AVERAGE</td>\n",
              "      <td>Student Attainment measures how well the schoo...</td>\n",
              "      <td>NaN</td>\n",
              "      <td>NaN</td>\n",
              "      <td>NaN</td>\n",
              "      <td>NaN</td>\n",
              "      <td>ORGANIZED</td>\n",
              "      <td>Results are based on student and teacher respo...</td>\n",
              "      <td>81.1</td>\n",
              "      <td>81.2</td>\n",
              "      <td>90.5</td>\n",
              "      <td>80.7</td>\n",
              "      <td>NOT CERTIFIED</td>\n",
              "      <td>This school has not achieved Healthy School Ce...</td>\n",
              "      <td>INCOMPLETE DATA</td>\n",
              "      <td>...</td>\n",
              "      <td>68.1</td>\n",
              "      <td>72.3</td>\n",
              "      <td>63.0</td>\n",
              "      <td>71.9</td>\n",
              "      <td>2,017</td>\n",
              "      <td>2,018</td>\n",
              "      <td>http://iirc.niu.edu/School.aspx?schoolid=15016...</td>\n",
              "      <td>2.9</td>\n",
              "      <td>45.4</td>\n",
              "      <td>NaN</td>\n",
              "      <td>This school does not have enough data for a re...</td>\n",
              "      <td>NOT RATED</td>\n",
              "      <td>This school has not submitted an action plan t...</td>\n",
              "      <td>2,018</td>\n",
              "      <td>41.758792</td>\n",
              "      <td>-87.576353</td>\n",
              "      <td>818</td>\n",
              "      <td>891</td>\n",
              "      <td>929</td>\n",
              "      <td>969.0</td>\n",
              "      <td>9.0</td>\n",
              "      <td>9th</td>\n",
              "      <td>92.0</td>\n",
              "      <td>92nd</td>\n",
              "      <td>5.0</td>\n",
              "      <td>5th</td>\n",
              "      <td>35.7</td>\n",
              "      <td>35.7</td>\n",
              "      <td>45.9</td>\n",
              "      <td>45.9</td>\n",
              "      <td>18.5</td>\n",
              "      <td>18.5</td>\n",
              "      <td>34.1</td>\n",
              "      <td>34.1</td>\n",
              "      <td>29.0</td>\n",
              "      <td>29th</td>\n",
              "      <td>33.0</td>\n",
              "      <td>33rd</td>\n",
              "      <td>37.0</td>\n",
              "      <td>37th</td>\n",
              "    </tr>\n",
              "    <tr>\n",
              "      <th>1</th>\n",
              "      <td>400097</td>\n",
              "      <td>NOBLE - BULLS HS</td>\n",
              "      <td>Noble - Chicago Bulls College Prep</td>\n",
              "      <td>Charter</td>\n",
              "      <td>HS</td>\n",
              "      <td>2040 W ADAMS ST</td>\n",
              "      <td>Chicago</td>\n",
              "      <td>Illinois</td>\n",
              "      <td>60612.0</td>\n",
              "      <td>7.735348e+09</td>\n",
              "      <td>3.128500e+09</td>\n",
              "      <td>http://cps.edu/Schools/Pages/school.aspx?Schoo...</td>\n",
              "      <td>http://www.chicagobullscollegeprep.org</td>\n",
              "      <td>2015.0</td>\n",
              "      <td>NaN</td>\n",
              "      <td>NaN</td>\n",
              "      <td>NaN</td>\n",
              "      <td>NaN</td>\n",
              "      <td>NaN</td>\n",
              "      <td>AVERAGE</td>\n",
              "      <td>Student Growth measures the change in standard...</td>\n",
              "      <td>NaN</td>\n",
              "      <td>NaN</td>\n",
              "      <td>NaN</td>\n",
              "      <td>NaN</td>\n",
              "      <td>ABOVE AVERAGE</td>\n",
              "      <td>Student Attainment measures how well the schoo...</td>\n",
              "      <td>NaN</td>\n",
              "      <td>NaN</td>\n",
              "      <td>NaN</td>\n",
              "      <td>NaN</td>\n",
              "      <td>WELL ORGANIZED</td>\n",
              "      <td>Results are based on student and teacher respo...</td>\n",
              "      <td>59.3</td>\n",
              "      <td>81.2</td>\n",
              "      <td>72.4</td>\n",
              "      <td>80.7</td>\n",
              "      <td>NOT CERTIFIED</td>\n",
              "      <td>This school has not achieved Healthy School Ce...</td>\n",
              "      <td>INCOMPLETE DATA</td>\n",
              "      <td>...</td>\n",
              "      <td>80.0</td>\n",
              "      <td>72.3</td>\n",
              "      <td>74.0</td>\n",
              "      <td>71.9</td>\n",
              "      <td>2,017</td>\n",
              "      <td>2,018</td>\n",
              "      <td>http://iirc.niu.edu/School.aspx?schoolid=15016...</td>\n",
              "      <td>3.4</td>\n",
              "      <td>46.5</td>\n",
              "      <td>NaN</td>\n",
              "      <td>This school is “Well-Organized for Improvement...</td>\n",
              "      <td>NOT RATED</td>\n",
              "      <td>This school has not submitted an action plan t...</td>\n",
              "      <td>2,018</td>\n",
              "      <td>41.878809</td>\n",
              "      <td>-87.678195</td>\n",
              "      <td>868</td>\n",
              "      <td>958</td>\n",
              "      <td>1,033</td>\n",
              "      <td>969.0</td>\n",
              "      <td>99.0</td>\n",
              "      <td>99th</td>\n",
              "      <td>96.0</td>\n",
              "      <td>96th</td>\n",
              "      <td>99.0</td>\n",
              "      <td>99th</td>\n",
              "      <td>50.2</td>\n",
              "      <td>50.2</td>\n",
              "      <td>65.9</td>\n",
              "      <td>65.9</td>\n",
              "      <td>54.5</td>\n",
              "      <td>54.5</td>\n",
              "      <td>56.5</td>\n",
              "      <td>56.5</td>\n",
              "      <td>72.0</td>\n",
              "      <td>72nd</td>\n",
              "      <td>68.0</td>\n",
              "      <td>68th</td>\n",
              "      <td>90.0</td>\n",
              "      <td>90th</td>\n",
              "    </tr>\n",
              "    <tr>\n",
              "      <th>2</th>\n",
              "      <td>610515</td>\n",
              "      <td>DISNEY II ES</td>\n",
              "      <td>Disney II Magnet School</td>\n",
              "      <td>Magnet</td>\n",
              "      <td>ES</td>\n",
              "      <td>3815 N KEDVALE AVE</td>\n",
              "      <td>Chicago</td>\n",
              "      <td>Illinois</td>\n",
              "      <td>60641.0</td>\n",
              "      <td>7.735344e+09</td>\n",
              "      <td>7.735344e+09</td>\n",
              "      <td>http://cps.edu/Schools/Pages/school.aspx?Schoo...</td>\n",
              "      <td>http://www.disneyiimagnet.org</td>\n",
              "      <td>2015.0</td>\n",
              "      <td>NaN</td>\n",
              "      <td>NaN</td>\n",
              "      <td>NaN</td>\n",
              "      <td>NaN</td>\n",
              "      <td>2012.0</td>\n",
              "      <td>ABOVE AVERAGE</td>\n",
              "      <td>Student Growth measures the change in standard...</td>\n",
              "      <td>78.0</td>\n",
              "      <td>78th</td>\n",
              "      <td>53.0</td>\n",
              "      <td>53rd</td>\n",
              "      <td>FAR ABOVE AVERAGE</td>\n",
              "      <td>Student Attainment measures how well the schoo...</td>\n",
              "      <td>97.0</td>\n",
              "      <td>97th</td>\n",
              "      <td>96.0</td>\n",
              "      <td>96th</td>\n",
              "      <td>WELL ORGANIZED</td>\n",
              "      <td>Results are based on student and teacher respo...</td>\n",
              "      <td>99.9</td>\n",
              "      <td>81.2</td>\n",
              "      <td>89.3</td>\n",
              "      <td>80.7</td>\n",
              "      <td>HEALTHY SCHOOLS CERTIFIED</td>\n",
              "      <td>This school has achieved Healthy School Certif...</td>\n",
              "      <td>EXCELLING</td>\n",
              "      <td>...</td>\n",
              "      <td>NaN</td>\n",
              "      <td>72.3</td>\n",
              "      <td>NaN</td>\n",
              "      <td>71.9</td>\n",
              "      <td>2,017</td>\n",
              "      <td>2,018</td>\n",
              "      <td>http://iirc.niu.edu/School.aspx?schoolid=15016...</td>\n",
              "      <td>1.1</td>\n",
              "      <td>9.2</td>\n",
              "      <td>NaN</td>\n",
              "      <td>This school is “Well-Organized for Improvement...</td>\n",
              "      <td>EMERGING</td>\n",
              "      <td>This school has developed an action plan to su...</td>\n",
              "      <td>2,018</td>\n",
              "      <td>41.950461</td>\n",
              "      <td>-87.730678</td>\n",
              "      <td>NaN</td>\n",
              "      <td>NaN</td>\n",
              "      <td>NaN</td>\n",
              "      <td>969.0</td>\n",
              "      <td>NaN</td>\n",
              "      <td>NaN</td>\n",
              "      <td>NaN</td>\n",
              "      <td>NaN</td>\n",
              "      <td>NaN</td>\n",
              "      <td>NaN</td>\n",
              "      <td>NaN</td>\n",
              "      <td>NaN</td>\n",
              "      <td>NaN</td>\n",
              "      <td>NaN</td>\n",
              "      <td>NaN</td>\n",
              "      <td>NaN</td>\n",
              "      <td>NaN</td>\n",
              "      <td>NaN</td>\n",
              "      <td>NaN</td>\n",
              "      <td>NaN</td>\n",
              "      <td>NaN</td>\n",
              "      <td>NaN</td>\n",
              "      <td>NaN</td>\n",
              "      <td>NaN</td>\n",
              "    </tr>\n",
              "  </tbody>\n",
              "</table>\n",
              "<p>3 rows × 656 columns</p>\n",
              "</div>"
            ],
            "text/plain": [
              "   School_ID  ... Growth_SAT_Math_Grade_11_School_Lbl\n",
              "0     610547  ...                                37th\n",
              "1     400097  ...                                90th\n",
              "2     610515  ...                                 NaN\n",
              "\n",
              "[3 rows x 656 columns]"
            ]
          },
          "metadata": {
            "tags": []
          },
          "execution_count": 258
        }
      ]
    },
    {
      "cell_type": "code",
      "metadata": {
        "id": "xYIB_RzY51Dy"
      },
      "source": [
        "#Add elements to list\n",
        "base_list = [\"School_ID\", \n",
        "             \"Long_Name_1516\",\n",
        "             \"School_Type_1516\",\n",
        "             'Primary_Category_1516']\n",
        "\n",
        "clg_prep_list =[elem for elem in full_df if \"college\" in elem.lower()]\n",
        "college_list = base_list + clg_prep_list\n",
        "\n",
        "#Create dataframe college_df\n",
        "college_df = full_df[college_list]"
      ],
      "execution_count": 259,
      "outputs": []
    },
    {
      "cell_type": "code",
      "metadata": {
        "colab": {
          "base_uri": "https://localhost:8080/"
        },
        "id": "24JP5SThDtlw",
        "outputId": "3e567051-202f-40ad-9ec8-d9fe485b0178"
      },
      "source": [
        "#Nulls from the College DF\n",
        "college_df.isna().sum().sort_values(ascending = False)"
      ],
      "execution_count": 260,
      "outputs": [
        {
          "output_type": "execute_result",
          "data": {
            "text/plain": [
              "College_Persistence_School_Pct_Year_1_1516    573\n",
              "College_Persistence_School_Pct_Year_1_1819    553\n",
              "College_Persistence_CPS_Pct_Year_2_1718       550\n",
              "College_Persistence_School_Pct_Year_2_1718    550\n",
              "College_Persistence_School_Pct_Year_1_1617    550\n",
              "College_Persistence_CPS_Pct_Year_1_1718       549\n",
              "College_Persistence_School_Pct_Year_1_1718    549\n",
              "College_Persistence_School_Pct_Year_2_1516    548\n",
              "College_Persistence_School_Pct_Year_2_1617    547\n",
              "College_Persistence_School_Pct_Year_2_1819    546\n",
              "College_Enrollment_School_Pct_Year_1_1516     532\n",
              "College_Enrollment_School_Pct_Year_1_1617     528\n",
              "College_Enrollment_School_Pct_Year_2_1516     524\n",
              "College_Enrollment_School_Pct_Year_1_1819     523\n",
              "College_Enrollment_CPS_Pct_Year_1_1718        521\n",
              "College_Enrollment_School_Pct_Year_1_1718     521\n",
              "College_Enrollment_School_Pct_Year_2_1617     519\n",
              "College_Enrollment_School_Pct_Year_2_1718     516\n",
              "College_Enrollment_CPS_Pct_Year_2_1718        516\n",
              "College_Enrollment_School_Pct_Year_2_1819     513\n",
              "College_Enrollment_CPS_Pct_Year_2_1819         28\n",
              "College_Enrollment_CPS_Pct_Year_1_1819         28\n",
              "College_Persistence_CPS_Pct_Year_2_1819        28\n",
              "College_Persistence_CPS_Pct_Year_1_1819        28\n",
              "College_Persistence_CPS_Pct_Year_2_1617        18\n",
              "College_Enrollment_CPS_Pct_Year_2_1617         18\n",
              "College_Enrollment_CPS_Pct_Year_1_1617         18\n",
              "College_Persistence_CPS_Pct_Year_1_1617        18\n",
              "College_Persistence_CPS_Pct_Year_1_1516        12\n",
              "College_Persistence_CPS_Pct_Year_2_1516        12\n",
              "College_Enrollment_CPS_Pct_Year_1_1516         12\n",
              "College_Enrollment_CPS_Pct_Year_2_1516         12\n",
              "Primary_Category_1516                           8\n",
              "School_Type_1516                                8\n",
              "Long_Name_1516                                  8\n",
              "School_ID                                       0\n",
              "dtype: int64"
            ]
          },
          "metadata": {
            "tags": []
          },
          "execution_count": 260
        }
      ]
    },
    {
      "cell_type": "markdown",
      "metadata": {
        "id": "9GrB7aQQ-wZT"
      },
      "source": [
        "Here, we see a lot of nulls, but most of these make sense within the dataset. Any of the College Enrollment numbers are mostly only applicable to the high schools, so a majority of values will not be in the dataset. "
      ]
    },
    {
      "cell_type": "markdown",
      "metadata": {
        "id": "nKv4KqEq-36r"
      },
      "source": [
        "## 2b. Focus on High Schools for Graduation Rate\n",
        "Now, let's take a look at the graduation rates only for high schools, so that we can narrow our focus to Charter vs. Neighborhood. \n",
        "\n",
        "- Charter Schools (n=145 / μ = 72) and\n",
        "- Neighborhood Schools (n=180/ μ = 65)"
      ]
    },
    {
      "cell_type": "code",
      "metadata": {
        "id": "olZH2SCdDP_O"
      },
      "source": [
        "#String matches what you are looking for\n",
        "def category_find(dataframe, column, name, exact=True):\n",
        "    if exact == True:\n",
        "        find_it = dataframe[dataframe[column].str.match(name, case=False,na=False)] \n",
        "\n",
        "    else:\n",
        "        find_it = dataframe[dataframe[column].str.contains(name, case=False,na=False)] \n",
        "    return find_it"
      ],
      "execution_count": 261,
      "outputs": []
    },
    {
      "cell_type": "code",
      "metadata": {
        "id": "K7Km4eYcDgys"
      },
      "source": [
        "#create a new dataframe called 'hs_df' for schools classified as 'hs' (high school).\n",
        "hs_df = category_find(college_df, 'Primary_Category_1516', 'HS')"
      ],
      "execution_count": 262,
      "outputs": []
    },
    {
      "cell_type": "markdown",
      "metadata": {
        "id": "qL0K2lxjU_Fo"
      },
      "source": [
        "### Nulls: \n",
        "How many, where are they?"
      ]
    },
    {
      "cell_type": "code",
      "metadata": {
        "colab": {
          "base_uri": "https://localhost:8080/"
        },
        "id": "p9gUYTPxE3A2",
        "outputId": "30b41c03-edb2-40a5-d637-dcd952596d43"
      },
      "source": [
        "#How many nulls does this new dataframe have?\n",
        "hs_df.isna().sum().sum()"
      ],
      "execution_count": 263,
      "outputs": [
        {
          "output_type": "execute_result",
          "data": {
            "text/plain": [
              "1045"
            ]
          },
          "metadata": {
            "tags": []
          },
          "execution_count": 263
        }
      ]
    },
    {
      "cell_type": "code",
      "metadata": {
        "colab": {
          "base_uri": "https://localhost:8080/"
        },
        "id": "b4U4LNqd8BHQ",
        "outputId": "a9d6aff9-7eaa-48bf-d766-87570d0d4ec2"
      },
      "source": [
        "#How many nulls in the data are there?\n",
        "college_df.isna().sum().sort_values(ascending = False)"
      ],
      "execution_count": 264,
      "outputs": [
        {
          "output_type": "execute_result",
          "data": {
            "text/plain": [
              "College_Persistence_School_Pct_Year_1_1516    573\n",
              "College_Persistence_School_Pct_Year_1_1819    553\n",
              "College_Persistence_CPS_Pct_Year_2_1718       550\n",
              "College_Persistence_School_Pct_Year_2_1718    550\n",
              "College_Persistence_School_Pct_Year_1_1617    550\n",
              "College_Persistence_CPS_Pct_Year_1_1718       549\n",
              "College_Persistence_School_Pct_Year_1_1718    549\n",
              "College_Persistence_School_Pct_Year_2_1516    548\n",
              "College_Persistence_School_Pct_Year_2_1617    547\n",
              "College_Persistence_School_Pct_Year_2_1819    546\n",
              "College_Enrollment_School_Pct_Year_1_1516     532\n",
              "College_Enrollment_School_Pct_Year_1_1617     528\n",
              "College_Enrollment_School_Pct_Year_2_1516     524\n",
              "College_Enrollment_School_Pct_Year_1_1819     523\n",
              "College_Enrollment_CPS_Pct_Year_1_1718        521\n",
              "College_Enrollment_School_Pct_Year_1_1718     521\n",
              "College_Enrollment_School_Pct_Year_2_1617     519\n",
              "College_Enrollment_School_Pct_Year_2_1718     516\n",
              "College_Enrollment_CPS_Pct_Year_2_1718        516\n",
              "College_Enrollment_School_Pct_Year_2_1819     513\n",
              "College_Enrollment_CPS_Pct_Year_2_1819         28\n",
              "College_Enrollment_CPS_Pct_Year_1_1819         28\n",
              "College_Persistence_CPS_Pct_Year_2_1819        28\n",
              "College_Persistence_CPS_Pct_Year_1_1819        28\n",
              "College_Persistence_CPS_Pct_Year_2_1617        18\n",
              "College_Enrollment_CPS_Pct_Year_2_1617         18\n",
              "College_Enrollment_CPS_Pct_Year_1_1617         18\n",
              "College_Persistence_CPS_Pct_Year_1_1617        18\n",
              "College_Persistence_CPS_Pct_Year_1_1516        12\n",
              "College_Persistence_CPS_Pct_Year_2_1516        12\n",
              "College_Enrollment_CPS_Pct_Year_1_1516         12\n",
              "College_Enrollment_CPS_Pct_Year_2_1516         12\n",
              "Primary_Category_1516                           8\n",
              "School_Type_1516                                8\n",
              "Long_Name_1516                                  8\n",
              "School_ID                                       0\n",
              "dtype: int64"
            ]
          },
          "metadata": {
            "tags": []
          },
          "execution_count": 264
        }
      ]
    },
    {
      "cell_type": "markdown",
      "metadata": {
        "id": "CIVcnbHGXgnC"
      },
      "source": [
        "## Melt Dataframe to Compare Values"
      ]
    },
    {
      "cell_type": "code",
      "metadata": {
        "colab": {
          "base_uri": "https://localhost:8080/",
          "height": 415
        },
        "id": "q9MKYVbpSNtd",
        "outputId": "b2fc8193-beae-4521-bd90-2347fafa83c7"
      },
      "source": [
        "#Melt dataframe for all years\n",
        "college_prep_df = hs_df[['School_Type_1516', \n",
        "                                'College_Enrollment_School_Pct_Year_1_1516', \n",
        "                                'College_Enrollment_School_Pct_Year_1_1617',\n",
        "                                'College_Enrollment_School_Pct_Year_1_1718',\n",
        "                                'College_Enrollment_School_Pct_Year_1_1819']]\n",
        "                                \n",
        "college_prep_all_df = pd.melt(college_prep_df, id_vars=['School_Type_1516'], \n",
        "                              var_name='Year', \n",
        "                              value_name='Percent')\n",
        "\n",
        "college_prep_all_df"
      ],
      "execution_count": 266,
      "outputs": [
        {
          "output_type": "execute_result",
          "data": {
            "text/html": [
              "<div>\n",
              "<style scoped>\n",
              "    .dataframe tbody tr th:only-of-type {\n",
              "        vertical-align: middle;\n",
              "    }\n",
              "\n",
              "    .dataframe tbody tr th {\n",
              "        vertical-align: top;\n",
              "    }\n",
              "\n",
              "    .dataframe thead th {\n",
              "        text-align: right;\n",
              "    }\n",
              "</style>\n",
              "<table border=\"1\" class=\"dataframe\">\n",
              "  <thead>\n",
              "    <tr style=\"text-align: right;\">\n",
              "      <th></th>\n",
              "      <th>School_Type_1516</th>\n",
              "      <th>Year</th>\n",
              "      <th>Percent</th>\n",
              "    </tr>\n",
              "  </thead>\n",
              "  <tbody>\n",
              "    <tr>\n",
              "      <th>0</th>\n",
              "      <td>Selective enrollment</td>\n",
              "      <td>College_Enrollment_School_Pct_Year_1_1516</td>\n",
              "      <td>NaN</td>\n",
              "    </tr>\n",
              "    <tr>\n",
              "      <th>1</th>\n",
              "      <td>Charter</td>\n",
              "      <td>College_Enrollment_School_Pct_Year_1_1516</td>\n",
              "      <td>83.6</td>\n",
              "    </tr>\n",
              "    <tr>\n",
              "      <th>2</th>\n",
              "      <td>Selective enrollment</td>\n",
              "      <td>College_Enrollment_School_Pct_Year_1_1516</td>\n",
              "      <td>88.5</td>\n",
              "    </tr>\n",
              "    <tr>\n",
              "      <th>3</th>\n",
              "      <td>Charter</td>\n",
              "      <td>College_Enrollment_School_Pct_Year_1_1516</td>\n",
              "      <td>43.5</td>\n",
              "    </tr>\n",
              "    <tr>\n",
              "      <th>4</th>\n",
              "      <td>Military academy</td>\n",
              "      <td>College_Enrollment_School_Pct_Year_1_1516</td>\n",
              "      <td>56.6</td>\n",
              "    </tr>\n",
              "    <tr>\n",
              "      <th>...</th>\n",
              "      <td>...</td>\n",
              "      <td>...</td>\n",
              "      <td>...</td>\n",
              "    </tr>\n",
              "    <tr>\n",
              "      <th>747</th>\n",
              "      <td>Charter</td>\n",
              "      <td>College_Enrollment_School_Pct_Year_1_1819</td>\n",
              "      <td>6.1</td>\n",
              "    </tr>\n",
              "    <tr>\n",
              "      <th>748</th>\n",
              "      <td>Charter</td>\n",
              "      <td>College_Enrollment_School_Pct_Year_1_1819</td>\n",
              "      <td>NaN</td>\n",
              "    </tr>\n",
              "    <tr>\n",
              "      <th>749</th>\n",
              "      <td>Charter</td>\n",
              "      <td>College_Enrollment_School_Pct_Year_1_1819</td>\n",
              "      <td>9.1</td>\n",
              "    </tr>\n",
              "    <tr>\n",
              "      <th>750</th>\n",
              "      <td>Citywide-Option</td>\n",
              "      <td>College_Enrollment_School_Pct_Year_1_1819</td>\n",
              "      <td>23.6</td>\n",
              "    </tr>\n",
              "    <tr>\n",
              "      <th>751</th>\n",
              "      <td>Charter</td>\n",
              "      <td>College_Enrollment_School_Pct_Year_1_1819</td>\n",
              "      <td>14.3</td>\n",
              "    </tr>\n",
              "  </tbody>\n",
              "</table>\n",
              "<p>752 rows × 3 columns</p>\n",
              "</div>"
            ],
            "text/plain": [
              "         School_Type_1516                                       Year  Percent\n",
              "0    Selective enrollment  College_Enrollment_School_Pct_Year_1_1516      NaN\n",
              "1                 Charter  College_Enrollment_School_Pct_Year_1_1516     83.6\n",
              "2    Selective enrollment  College_Enrollment_School_Pct_Year_1_1516     88.5\n",
              "3                 Charter  College_Enrollment_School_Pct_Year_1_1516     43.5\n",
              "4        Military academy  College_Enrollment_School_Pct_Year_1_1516     56.6\n",
              "..                    ...                                        ...      ...\n",
              "747               Charter  College_Enrollment_School_Pct_Year_1_1819      6.1\n",
              "748               Charter  College_Enrollment_School_Pct_Year_1_1819      NaN\n",
              "749               Charter  College_Enrollment_School_Pct_Year_1_1819      9.1\n",
              "750       Citywide-Option  College_Enrollment_School_Pct_Year_1_1819     23.6\n",
              "751               Charter  College_Enrollment_School_Pct_Year_1_1819     14.3\n",
              "\n",
              "[752 rows x 3 columns]"
            ]
          },
          "metadata": {
            "tags": []
          },
          "execution_count": 266
        }
      ]
    },
    {
      "cell_type": "markdown",
      "metadata": {
        "id": "yAcmQM9KkdDM"
      },
      "source": [
        "Swarmplot of the Melted DF:  \n",
        "*Ref*: https://stackoverflow.com/questions/4700614/how-to-put-the-legend-out-of-the-plot"
      ]
    },
    {
      "cell_type": "code",
      "metadata": {
        "colab": {
          "base_uri": "https://localhost:8080/",
          "height": 566
        },
        "id": "nAByF8WoiPeX",
        "outputId": "65ff375a-ebce-483a-f82b-cae8232de3fb"
      },
      "source": [
        "# Let's swarmplot to see all years of data collected for College Enrollment\n",
        "fig, ax = plt.subplots(1, figsize = (14,8), sharex = True, sharey = True)\n",
        "\n",
        "sns.swarmplot(x = college_prep_all_df.School_Type_1516, \n",
        "              y = college_prep_all_df.Percent, \n",
        "              hue = college_prep_all_df.Year,\n",
        "              palette=\"gray_r\")\n",
        "\n",
        "plt.title(\"College Enrollment % (All Years)\")\n",
        "\n",
        "ax.set_title(f\"Swarm Plot: College Enrollment %, Chicago Public High Schools (All Years)\", size = 14 )\n",
        "ax.set_xlabel(\"High School Types\", size = 12)\n",
        "ax.set_ylabel(\"College Enrollment %, All Years\", size = 12)\n",
        "ax.grid(color='gray', alpha = .5, linestyle='-', linewidth=.5)\n",
        "ax.legend(loc='upper center', bbox_to_anchor=(0.5, -.1),\n",
        "          ncol=3, fancybox=True, shadow=True)\n",
        "\n",
        "sns.despine()\n",
        "sns.set_style('ticks')\n",
        "plt.show()"
      ],
      "execution_count": 267,
      "outputs": [
        {
          "output_type": "display_data",
          "data": {
            "image/png": "[encoded data removed]",
            "text/plain": [
              "<Figure size 1008x576 with 1 Axes>"
            ]
          },
          "metadata": {
            "tags": [],
            "needs_background": "light"
          }
        }
      ]
    },
    {
      "cell_type": "code",
      "metadata": {
        "colab": {
          "base_uri": "https://localhost:8080/",
          "height": 417
        },
        "id": "xJm4pAyaO-_Z",
        "outputId": "876d6b4f-db0c-4aca-8f9e-b2ea5b8b2210"
      },
      "source": [
        "college_prep_all_df.groupby('School_Type_1516').describe()"
      ],
      "execution_count": 268,
      "outputs": [
        {
          "output_type": "execute_result",
          "data": {
            "text/html": [
              "<div>\n",
              "<style scoped>\n",
              "    .dataframe tbody tr th:only-of-type {\n",
              "        vertical-align: middle;\n",
              "    }\n",
              "\n",
              "    .dataframe tbody tr th {\n",
              "        vertical-align: top;\n",
              "    }\n",
              "\n",
              "    .dataframe thead tr th {\n",
              "        text-align: left;\n",
              "    }\n",
              "\n",
              "    .dataframe thead tr:last-of-type th {\n",
              "        text-align: right;\n",
              "    }\n",
              "</style>\n",
              "<table border=\"1\" class=\"dataframe\">\n",
              "  <thead>\n",
              "    <tr>\n",
              "      <th></th>\n",
              "      <th colspan=\"8\" halign=\"left\">Percent</th>\n",
              "    </tr>\n",
              "    <tr>\n",
              "      <th></th>\n",
              "      <th>count</th>\n",
              "      <th>mean</th>\n",
              "      <th>std</th>\n",
              "      <th>min</th>\n",
              "      <th>25%</th>\n",
              "      <th>50%</th>\n",
              "      <th>75%</th>\n",
              "      <th>max</th>\n",
              "    </tr>\n",
              "    <tr>\n",
              "      <th>School_Type_1516</th>\n",
              "      <th></th>\n",
              "      <th></th>\n",
              "      <th></th>\n",
              "      <th></th>\n",
              "      <th></th>\n",
              "      <th></th>\n",
              "      <th></th>\n",
              "      <th></th>\n",
              "    </tr>\n",
              "  </thead>\n",
              "  <tbody>\n",
              "    <tr>\n",
              "      <th>Career academy</th>\n",
              "      <td>16.0</td>\n",
              "      <td>55.593750</td>\n",
              "      <td>11.486309</td>\n",
              "      <td>34.4</td>\n",
              "      <td>47.100</td>\n",
              "      <td>59.55</td>\n",
              "      <td>64.825</td>\n",
              "      <td>71.0</td>\n",
              "    </tr>\n",
              "    <tr>\n",
              "      <th>Charter</th>\n",
              "      <td>209.0</td>\n",
              "      <td>50.262679</td>\n",
              "      <td>28.445823</td>\n",
              "      <td>0.0</td>\n",
              "      <td>20.800</td>\n",
              "      <td>58.30</td>\n",
              "      <td>75.900</td>\n",
              "      <td>92.2</td>\n",
              "    </tr>\n",
              "    <tr>\n",
              "      <th>Citywide-Option</th>\n",
              "      <td>43.0</td>\n",
              "      <td>19.848837</td>\n",
              "      <td>12.791578</td>\n",
              "      <td>5.1</td>\n",
              "      <td>12.500</td>\n",
              "      <td>17.20</td>\n",
              "      <td>23.350</td>\n",
              "      <td>66.7</td>\n",
              "    </tr>\n",
              "    <tr>\n",
              "      <th>Contract</th>\n",
              "      <td>9.0</td>\n",
              "      <td>62.922222</td>\n",
              "      <td>18.476321</td>\n",
              "      <td>25.9</td>\n",
              "      <td>54.500</td>\n",
              "      <td>63.40</td>\n",
              "      <td>79.600</td>\n",
              "      <td>83.1</td>\n",
              "    </tr>\n",
              "    <tr>\n",
              "      <th>Magnet</th>\n",
              "      <td>20.0</td>\n",
              "      <td>71.735000</td>\n",
              "      <td>10.375187</td>\n",
              "      <td>54.1</td>\n",
              "      <td>63.675</td>\n",
              "      <td>75.05</td>\n",
              "      <td>79.500</td>\n",
              "      <td>90.3</td>\n",
              "    </tr>\n",
              "    <tr>\n",
              "      <th>Military academy</th>\n",
              "      <td>22.0</td>\n",
              "      <td>55.500000</td>\n",
              "      <td>8.081608</td>\n",
              "      <td>43.8</td>\n",
              "      <td>48.450</td>\n",
              "      <td>54.80</td>\n",
              "      <td>63.125</td>\n",
              "      <td>67.9</td>\n",
              "    </tr>\n",
              "    <tr>\n",
              "      <th>Neighborhood</th>\n",
              "      <td>177.0</td>\n",
              "      <td>49.641243</td>\n",
              "      <td>12.820095</td>\n",
              "      <td>20.7</td>\n",
              "      <td>41.900</td>\n",
              "      <td>48.40</td>\n",
              "      <td>57.800</td>\n",
              "      <td>80.0</td>\n",
              "    </tr>\n",
              "    <tr>\n",
              "      <th>Selective enrollment</th>\n",
              "      <td>38.0</td>\n",
              "      <td>84.573684</td>\n",
              "      <td>5.064006</td>\n",
              "      <td>64.2</td>\n",
              "      <td>82.575</td>\n",
              "      <td>85.15</td>\n",
              "      <td>87.675</td>\n",
              "      <td>93.4</td>\n",
              "    </tr>\n",
              "    <tr>\n",
              "      <th>Small</th>\n",
              "      <td>55.0</td>\n",
              "      <td>57.045455</td>\n",
              "      <td>12.339695</td>\n",
              "      <td>36.9</td>\n",
              "      <td>48.150</td>\n",
              "      <td>57.50</td>\n",
              "      <td>65.450</td>\n",
              "      <td>83.1</td>\n",
              "    </tr>\n",
              "    <tr>\n",
              "      <th>Special Education</th>\n",
              "      <td>16.0</td>\n",
              "      <td>3.681250</td>\n",
              "      <td>4.712992</td>\n",
              "      <td>0.0</td>\n",
              "      <td>0.000</td>\n",
              "      <td>1.05</td>\n",
              "      <td>8.050</td>\n",
              "      <td>12.9</td>\n",
              "    </tr>\n",
              "  </tbody>\n",
              "</table>\n",
              "</div>"
            ],
            "text/plain": [
              "                     Percent                        ...                     \n",
              "                       count       mean        std  ...    50%     75%   max\n",
              "School_Type_1516                                    ...                     \n",
              "Career academy          16.0  55.593750  11.486309  ...  59.55  64.825  71.0\n",
              "Charter                209.0  50.262679  28.445823  ...  58.30  75.900  92.2\n",
              "Citywide-Option         43.0  19.848837  12.791578  ...  17.20  23.350  66.7\n",
              "Contract                 9.0  62.922222  18.476321  ...  63.40  79.600  83.1\n",
              "Magnet                  20.0  71.735000  10.375187  ...  75.05  79.500  90.3\n",
              "Military academy        22.0  55.500000   8.081608  ...  54.80  63.125  67.9\n",
              "Neighborhood           177.0  49.641243  12.820095  ...  48.40  57.800  80.0\n",
              "Selective enrollment    38.0  84.573684   5.064006  ...  85.15  87.675  93.4\n",
              "Small                   55.0  57.045455  12.339695  ...  57.50  65.450  83.1\n",
              "Special Education       16.0   3.681250   4.712992  ...   1.05   8.050  12.9\n",
              "\n",
              "[10 rows x 8 columns]"
            ]
          },
          "metadata": {
            "tags": []
          },
          "execution_count": 268
        }
      ]
    },
    {
      "cell_type": "markdown",
      "metadata": {
        "id": "PVuCO69uPjNz"
      },
      "source": [
        "## 2c. Compare Data and Welch T-Test to Check Significance"
      ]
    },
    {
      "cell_type": "markdown",
      "metadata": {
        "id": "IdIlfPPqYw_O"
      },
      "source": [
        "### Separate and Compare Data"
      ]
    },
    {
      "cell_type": "code",
      "metadata": {
        "id": "Ym649aTQXAJt"
      },
      "source": [
        "#Separate the data into dataframes\n",
        "charter_college_df = category_find(college_prep_all_df, 'School_Type_1516', 'Charter', exact = False)\n",
        "neighborhood_college_df = category_find(college_prep_all_df, 'School_Type_1516', 'Neighborhood', exact = False)"
      ],
      "execution_count": 269,
      "outputs": []
    },
    {
      "cell_type": "code",
      "metadata": {
        "colab": {
          "base_uri": "https://localhost:8080/",
          "height": 335
        },
        "id": "5D0Q90Mdk73c",
        "outputId": "3e10040e-3986-452a-f3b6-2f0c1a85eacc"
      },
      "source": [
        "#Histogram of values\n",
        "plt.hist(college_prep_all_df['Percent'], bins = 10)"
      ],
      "execution_count": 270,
      "outputs": [
        {
          "output_type": "execute_result",
          "data": {
            "text/plain": [
              "(array([32., 54., 47., 40., 73., 84., 85., 66., 74., 50.]),\n",
              " array([ 0.  ,  9.34, 18.68, 28.02, 37.36, 46.7 , 56.04, 65.38, 74.72,\n",
              "        84.06, 93.4 ]),\n",
              " <a list of 10 Patch objects>)"
            ]
          },
          "metadata": {
            "tags": []
          },
          "execution_count": 270
        },
        {
          "output_type": "display_data",
          "data": {
            "image/png": "[encoded data removed]",
            "text/plain": [
              "<Figure size 432x288 with 1 Axes>"
            ]
          },
          "metadata": {
            "tags": []
          }
        }
      ]
    },
    {
      "cell_type": "code",
      "metadata": {
        "colab": {
          "base_uri": "https://localhost:8080/"
        },
        "id": "It05aJSDA8x9",
        "outputId": "d1d511e8-5e3a-471e-89ab-34b46141305c"
      },
      "source": [
        "#Are the variances equal?\n",
        "np.nanvar(charter_college_df.Percent) == np.nanvar(neighborhood_college_df.Percent)"
      ],
      "execution_count": 271,
      "outputs": [
        {
          "output_type": "execute_result",
          "data": {
            "text/plain": [
              "False"
            ]
          },
          "metadata": {
            "tags": []
          },
          "execution_count": 271
        }
      ]
    },
    {
      "cell_type": "markdown",
      "metadata": {
        "id": "jrSqyOIKkw8u"
      },
      "source": [
        "### So our data is:\n",
        "- Unpaired, \n",
        "- unequal variance, \n",
        "- parametric --> \n",
        "Welch T-Test  \n",
        "\n",
        "Ref: https://towardsdatascience.com/the-statistical-analysis-t-test-explained-for-beginners-and-experts-fd0e358bbb62\n",
        "\n",
        "Welch T-Test\n",
        "(Ref: https://www.statology.org/welch-t-test-python/)"
      ]
    },
    {
      "cell_type": "code",
      "metadata": {
        "colab": {
          "base_uri": "https://localhost:8080/"
        },
        "id": "B8TPtj8cSGXM",
        "outputId": "5f550acd-1e02-4a33-be79-fc7d7b9f5df7"
      },
      "source": [
        "#Import Scipy and Omit NaNs.\n",
        "from scipy import stats\n",
        "\n",
        "stat, p = stats.ttest_ind(charter_college_df.Percent, \n",
        "                neighborhood_college_df.Percent,\n",
        "                equal_var = False, \n",
        "                nan_policy = 'omit')\n",
        "\n",
        "print(f\"Test Stat = {stat} \\nP-value = {p}\")"
      ],
      "execution_count": 272,
      "outputs": [
        {
          "output_type": "stream",
          "text": [
            "Test Stat = 0.28364091061519503 \n",
            "P-value = 0.7768816293914667\n"
          ],
          "name": "stdout"
        }
      ]
    },
    {
      "cell_type": "code",
      "metadata": {
        "colab": {
          "base_uri": "https://localhost:8080/"
        },
        "id": "9_15_B2ONsM1",
        "outputId": "b2bd7356-d36f-41b3-b14d-bedb4a1c94a1"
      },
      "source": [
        "alpha = 0.05\n",
        "if p > alpha:\n",
        "\tprint('Fail to reject H0')\n",
        "else:\n",
        "\tprint('Reject H0')"
      ],
      "execution_count": 273,
      "outputs": [
        {
          "output_type": "stream",
          "text": [
            "Fail to reject H0\n"
          ],
          "name": "stdout"
        }
      ]
    },
    {
      "cell_type": "code",
      "metadata": {
        "colab": {
          "base_uri": "https://localhost:8080/"
        },
        "id": "OxsY45dhVYTh",
        "outputId": "0f302ff0-121e-45fd-d763-5552e622d218"
      },
      "source": [
        "#Comparing Means\n",
        "print(f\"Charter Schools mean: {np.nanmean(charter_college_df.Percent)}\")\n",
        "print(f\"Charter Schools median: {np.nanmedian(charter_college_df.Percent)}\")\n",
        "\n",
        "print(f\"Neighborhood Schools mean: {np.nanmean(neighborhood_college_df.Percent)}\")\n",
        "print(f\"Neighborhood Schools median: {np.nanmedian(neighborhood_college_df.Percent)}\")"
      ],
      "execution_count": 306,
      "outputs": [
        {
          "output_type": "stream",
          "text": [
            "Charter Schools mean: 50.26267942583733\n",
            "Charter Schools median: 58.3\n",
            "Neighborhood Schools mean: 49.64124293785311\n",
            "Neighborhood Schools median: 48.4\n"
          ],
          "name": "stdout"
        }
      ]
    },
    {
      "cell_type": "markdown",
      "metadata": {
        "id": "clh8AA8VZJFH"
      },
      "source": [
        "### Summary (College Entrance Rates)\n",
        "- Accept Null Hypothesis (p-value > .05)\n",
        "- Charter Schools (n=209 / μ = 50.26) and \n",
        "- Neighborhood Schools (n=177/ μ = 49.64)  \n",
        "\n",
        "In this case, we have to reject the null hypothesis. Charter schools did not perform significantly better than Neighborhood schools in terms of college entrance rates. There may be a difference between the two types of schools, but it isn't significant, with a P-value > .05. "
      ]
    },
    {
      "cell_type": "markdown",
      "metadata": {
        "id": "CtCG2uS0m6kb"
      },
      "source": [
        "# 3. Comparing Graduation Rates between Charter Schools and Neighborhood Schools\n",
        "Next, we can take a look at the graduation rates of students in high school, another strong indicator of delivering successful instruction. Higher graduation rates should naturally suggest that the overall education being delivered is at a higher quality- more students are on-board, etc.\n",
        "\n",
        "\n",
        "Data Definitions: https://www.splitgraph.com/cityofchicago/chicago-public-schools-school-progress-reports-cp7s-7gxg\n",
        "\n",
        "*Note: \"Year_1\" is 2 years ago, \"Year_2\" is last year's graduation data.*\n",
        "\n",
        "**Null Hypothesis (h0) = There is no difference in high school graduation rates for high school students attending charter and neighborhood schools in Chicago.  \n",
        "Alternate Hypothesis (h1) = There is a significant difference in high school graduation rates for high school students attending charter and neighborhood schools in Chicago.**"
      ]
    },
    {
      "cell_type": "code",
      "metadata": {
        "colab": {
          "base_uri": "https://localhost:8080/"
        },
        "id": "9evC6gy1lo8u",
        "outputId": "7fcbbfa0-9f77-4e2b-c761-1187f6feb30b"
      },
      "source": [
        "for elem in full_df.columns:\n",
        "    if \"graduation\" in elem.lower():\n",
        "        print(elem)"
      ],
      "execution_count": 274,
      "outputs": [
        {
          "output_type": "stream",
          "text": [
            "Progress_Toward_Graduation_Year_1_1516\n",
            "Progress_Toward_Graduation_Year_2_1516\n",
            "Graduation_4_Year_School_Pct_Year_2\n",
            "Graduation_4_Year_CPS_Pct_Year_2\n",
            "Graduation_4_Year_School_Pct_Year_1\n",
            "Graduation_4_Year_CPS_Pct_Year_1\n",
            "Graduation_5_Year_School_Pct_Year_2\n",
            "Graduation_5_Year_CPS_Pct_Year_2\n",
            "Graduation_5_Year_School_Pct_Year_1\n",
            "Graduation_5_Year_CPS_Pct_Year_1\n",
            "Progress_Toward_Graduation_Year_1_1617\n",
            "Progress_Toward_Graduation_Year_2_1617\n",
            "Graduation_4_Year_School_Pct_Year_2_1718\n",
            "Graduation_4_Year_CPS_Pct_Year_2_1718\n",
            "Graduation_4_Year_School_Pct_Year_1_1718\n",
            "Graduation_4_Year_CPS_Pct_Year_1_1718\n",
            "Graduation_5_Year_School_Pct_Year_2_1718\n",
            "Graduation_5_Year_CPS_Pct_Year_2_1718\n",
            "Graduation_5_Year_School_Pct_Year_1_1718\n",
            "Graduation_5_Year_CPS_Pct_Year_1_1718\n",
            "Progress_Toward_Graduation_Year_1_1718\n",
            "Progress_Toward_Graduation_Year_2_1718\n",
            "Graduation_4_Year_School_Pct_Year_2_1819\n",
            "Graduation_4_Year_CPS_Pct_Year_2_1819\n",
            "Graduation_4_Year_School_Pct_Year_1_1819\n",
            "Graduation_4_Year_CPS_Pct_Year_1_1819\n",
            "Graduation_5_Year_School_Pct_Year_2_1819\n",
            "Graduation_5_Year_CPS_Pct_Year_2_1819\n",
            "Graduation_5_Year_School_Pct_Year_1_1819\n",
            "Graduation_5_Year_CPS_Pct_Year_1_1819\n",
            "Progress_Toward_Graduation_Year_1_1819\n",
            "Progress_Toward_Graduation_Year_2_1819\n"
          ],
          "name": "stdout"
        }
      ]
    },
    {
      "cell_type": "code",
      "metadata": {
        "id": "fGEkNYjrnW0f"
      },
      "source": [
        "#Create the dataframe by selecting elements relating to graduation\n",
        "base_list = [\"School_ID\", \"Long_Name_1516\",\"School_Type_1516\",'Primary_Category_1516']\n",
        "clg_prep_list =[elem for elem in full_df if (\"graduation_4_year_school_pct_year_2\" in elem.lower()) or (elem.lower() == \"graduation_4_year_school_pct_year_1\")]"
      ],
      "execution_count": 275,
      "outputs": []
    },
    {
      "cell_type": "markdown",
      "metadata": {
        "id": "A4JttzXdoH9r"
      },
      "source": [
        "*Note:* Unfortunately, for graduation rates, we only have data from 1617/1718/1819.  \n",
        "However, we have two years of data for each year. Year 2 is the last year, and Year 1 is the year before, so we actually have all four years here."
      ]
    },
    {
      "cell_type": "code",
      "metadata": {
        "id": "6i0m_Z8rok-p"
      },
      "source": [
        "#Let's create the more-focused dataframe for these items\n",
        "gradrate_df = full_df[base_list + clg_prep_list]\n",
        "\n",
        "#'Year 1' Denotes 2 years ago; year_1 == year 2 1516\n",
        "gradrate_df = gradrate_df.rename(columns={\"Graduation_4_Year_School_Pct_Year_2\": \"Graduation_4_Year_School_Pct_Year_2_1617\",\n",
        "                                          \"Graduation_4_Year_School_Pct_Year_1\": \"Graduation_4_Year_School_Pct_Year_2_1516\"})\n",
        "\n",
        "#Create focused dataframe (only HS)\n",
        "gradrate_hs_df = category_find(gradrate_df, 'Primary_Category_1516', 'HS')"
      ],
      "execution_count": 276,
      "outputs": []
    },
    {
      "cell_type": "code",
      "metadata": {
        "colab": {
          "base_uri": "https://localhost:8080/",
          "height": 202
        },
        "id": "yag74-xmpYWG",
        "outputId": "705d7826-2037-489d-918b-a179fe6262e6"
      },
      "source": [
        "#Check the data before proceeding\n",
        "gradrate_hs_df.head()"
      ],
      "execution_count": 277,
      "outputs": [
        {
          "output_type": "execute_result",
          "data": {
            "text/html": [
              "<div>\n",
              "<style scoped>\n",
              "    .dataframe tbody tr th:only-of-type {\n",
              "        vertical-align: middle;\n",
              "    }\n",
              "\n",
              "    .dataframe tbody tr th {\n",
              "        vertical-align: top;\n",
              "    }\n",
              "\n",
              "    .dataframe thead th {\n",
              "        text-align: right;\n",
              "    }\n",
              "</style>\n",
              "<table border=\"1\" class=\"dataframe\">\n",
              "  <thead>\n",
              "    <tr style=\"text-align: right;\">\n",
              "      <th></th>\n",
              "      <th>School_ID</th>\n",
              "      <th>Long_Name_1516</th>\n",
              "      <th>School_Type_1516</th>\n",
              "      <th>Primary_Category_1516</th>\n",
              "      <th>Graduation_4_Year_School_Pct_Year_2_1617</th>\n",
              "      <th>Graduation_4_Year_School_Pct_Year_2_1516</th>\n",
              "      <th>Graduation_4_Year_School_Pct_Year_2_1718</th>\n",
              "      <th>Graduation_4_Year_School_Pct_Year_2_1819</th>\n",
              "    </tr>\n",
              "  </thead>\n",
              "  <tbody>\n",
              "    <tr>\n",
              "      <th>0</th>\n",
              "      <td>610547</td>\n",
              "      <td>South Shore Intl College Prep High School</td>\n",
              "      <td>Selective enrollment</td>\n",
              "      <td>HS</td>\n",
              "      <td>85.8</td>\n",
              "      <td>69.6</td>\n",
              "      <td>86.9</td>\n",
              "      <td>94.5</td>\n",
              "    </tr>\n",
              "    <tr>\n",
              "      <th>1</th>\n",
              "      <td>400097</td>\n",
              "      <td>Noble - Chicago Bulls College Prep</td>\n",
              "      <td>Charter</td>\n",
              "      <td>HS</td>\n",
              "      <td>77.8</td>\n",
              "      <td>62.6</td>\n",
              "      <td>84.9</td>\n",
              "      <td>82.4</td>\n",
              "    </tr>\n",
              "    <tr>\n",
              "      <th>4</th>\n",
              "      <td>609678</td>\n",
              "      <td>William Jones College Preparatory High School</td>\n",
              "      <td>Selective enrollment</td>\n",
              "      <td>HS</td>\n",
              "      <td>97.6</td>\n",
              "      <td>90.4</td>\n",
              "      <td>93.3</td>\n",
              "      <td>95.2</td>\n",
              "    </tr>\n",
              "    <tr>\n",
              "      <th>5</th>\n",
              "      <td>400136</td>\n",
              "      <td>YCCS-Olive Harvey Middle College HS</td>\n",
              "      <td>Charter</td>\n",
              "      <td>HS</td>\n",
              "      <td>NaN</td>\n",
              "      <td>NaN</td>\n",
              "      <td>NaN</td>\n",
              "      <td>NaN</td>\n",
              "    </tr>\n",
              "    <tr>\n",
              "      <th>9</th>\n",
              "      <td>610513</td>\n",
              "      <td>Air Force Academy High School</td>\n",
              "      <td>Military academy</td>\n",
              "      <td>HS</td>\n",
              "      <td>75.7</td>\n",
              "      <td>80.2</td>\n",
              "      <td>78.9</td>\n",
              "      <td>75.5</td>\n",
              "    </tr>\n",
              "  </tbody>\n",
              "</table>\n",
              "</div>"
            ],
            "text/plain": [
              "   School_ID  ... Graduation_4_Year_School_Pct_Year_2_1819\n",
              "0     610547  ...                                     94.5\n",
              "1     400097  ...                                     82.4\n",
              "4     609678  ...                                     95.2\n",
              "5     400136  ...                                      NaN\n",
              "9     610513  ...                                     75.5\n",
              "\n",
              "[5 rows x 8 columns]"
            ]
          },
          "metadata": {
            "tags": []
          },
          "execution_count": 277
        }
      ]
    },
    {
      "cell_type": "markdown",
      "metadata": {
        "id": "Qvno62surIgr"
      },
      "source": [
        "Looks OK. Now we have data from the years that we need, and graduation rates over the last four years. Since we are looking at how all of the schools are doing, let's take a similar process to the last step. \n",
        "\n"
      ]
    },
    {
      "cell_type": "code",
      "metadata": {
        "colab": {
          "base_uri": "https://localhost:8080/"
        },
        "id": "hBTG7TkOEWv5",
        "outputId": "76d07ab0-6257-42b0-ebd6-a11dbde736eb"
      },
      "source": [
        "#Looking at the shape of the data...\n",
        "gradrate_hs_df.shape"
      ],
      "execution_count": 278,
      "outputs": [
        {
          "output_type": "execute_result",
          "data": {
            "text/plain": [
              "(188, 8)"
            ]
          },
          "metadata": {
            "tags": []
          },
          "execution_count": 278
        }
      ]
    },
    {
      "cell_type": "code",
      "metadata": {
        "colab": {
          "base_uri": "https://localhost:8080/"
        },
        "id": "GtHC2hT7ENiC",
        "outputId": "8018ffda-c3a2-4e4c-fe8d-aa8afdc11d85"
      },
      "source": [
        "#What missing values are there?\n",
        "gradrate_hs_df.isna().sum()"
      ],
      "execution_count": 279,
      "outputs": [
        {
          "output_type": "execute_result",
          "data": {
            "text/plain": [
              "School_ID                                    0\n",
              "Long_Name_1516                               0\n",
              "School_Type_1516                             0\n",
              "Primary_Category_1516                        0\n",
              "Graduation_4_Year_School_Pct_Year_2_1617    59\n",
              "Graduation_4_Year_School_Pct_Year_2_1516    71\n",
              "Graduation_4_Year_School_Pct_Year_2_1718    49\n",
              "Graduation_4_Year_School_Pct_Year_2_1819    48\n",
              "dtype: int64"
            ]
          },
          "metadata": {
            "tags": []
          },
          "execution_count": 279
        }
      ]
    },
    {
      "cell_type": "markdown",
      "metadata": {
        "id": "N-yLlFFCEh7r"
      },
      "source": [
        "## 3b. Melt data into single column so that we can graph it..."
      ]
    },
    {
      "cell_type": "code",
      "metadata": {
        "colab": {
          "base_uri": "https://localhost:8080/",
          "height": 415
        },
        "id": "yHcQONGLtWio",
        "outputId": "09074a28-d4d4-4608-835f-ca8d88e12f66"
      },
      "source": [
        "#Melt dataframe for all years\n",
        "gradrate_mlt_df = gradrate_hs_df[['School_Type_1516',\n",
        "                                 'Graduation_4_Year_School_Pct_Year_2_1516',\n",
        "                                 'Graduation_4_Year_School_Pct_Year_2_1617',\n",
        "                                 'Graduation_4_Year_School_Pct_Year_2_1718',\n",
        "                                 'Graduation_4_Year_School_Pct_Year_2_1819',\n",
        "                                 ]]\n",
        "\n",
        "gradrate_mlt_df = pd.melt(gradrate_mlt_df, id_vars=['School_Type_1516'], \n",
        "                              var_name='Year', \n",
        "                              value_name='Percent')\n",
        "\n",
        "gradrate_mlt_df\n",
        "#gradrate_mlt_df.isna().sum()"
      ],
      "execution_count": 280,
      "outputs": [
        {
          "output_type": "execute_result",
          "data": {
            "text/html": [
              "<div>\n",
              "<style scoped>\n",
              "    .dataframe tbody tr th:only-of-type {\n",
              "        vertical-align: middle;\n",
              "    }\n",
              "\n",
              "    .dataframe tbody tr th {\n",
              "        vertical-align: top;\n",
              "    }\n",
              "\n",
              "    .dataframe thead th {\n",
              "        text-align: right;\n",
              "    }\n",
              "</style>\n",
              "<table border=\"1\" class=\"dataframe\">\n",
              "  <thead>\n",
              "    <tr style=\"text-align: right;\">\n",
              "      <th></th>\n",
              "      <th>School_Type_1516</th>\n",
              "      <th>Year</th>\n",
              "      <th>Percent</th>\n",
              "    </tr>\n",
              "  </thead>\n",
              "  <tbody>\n",
              "    <tr>\n",
              "      <th>0</th>\n",
              "      <td>Selective enrollment</td>\n",
              "      <td>Graduation_4_Year_School_Pct_Year_2_1516</td>\n",
              "      <td>69.6</td>\n",
              "    </tr>\n",
              "    <tr>\n",
              "      <th>1</th>\n",
              "      <td>Charter</td>\n",
              "      <td>Graduation_4_Year_School_Pct_Year_2_1516</td>\n",
              "      <td>62.6</td>\n",
              "    </tr>\n",
              "    <tr>\n",
              "      <th>2</th>\n",
              "      <td>Selective enrollment</td>\n",
              "      <td>Graduation_4_Year_School_Pct_Year_2_1516</td>\n",
              "      <td>90.4</td>\n",
              "    </tr>\n",
              "    <tr>\n",
              "      <th>3</th>\n",
              "      <td>Charter</td>\n",
              "      <td>Graduation_4_Year_School_Pct_Year_2_1516</td>\n",
              "      <td>NaN</td>\n",
              "    </tr>\n",
              "    <tr>\n",
              "      <th>4</th>\n",
              "      <td>Military academy</td>\n",
              "      <td>Graduation_4_Year_School_Pct_Year_2_1516</td>\n",
              "      <td>80.2</td>\n",
              "    </tr>\n",
              "    <tr>\n",
              "      <th>...</th>\n",
              "      <td>...</td>\n",
              "      <td>...</td>\n",
              "      <td>...</td>\n",
              "    </tr>\n",
              "    <tr>\n",
              "      <th>747</th>\n",
              "      <td>Charter</td>\n",
              "      <td>Graduation_4_Year_School_Pct_Year_2_1819</td>\n",
              "      <td>NaN</td>\n",
              "    </tr>\n",
              "    <tr>\n",
              "      <th>748</th>\n",
              "      <td>Charter</td>\n",
              "      <td>Graduation_4_Year_School_Pct_Year_2_1819</td>\n",
              "      <td>NaN</td>\n",
              "    </tr>\n",
              "    <tr>\n",
              "      <th>749</th>\n",
              "      <td>Charter</td>\n",
              "      <td>Graduation_4_Year_School_Pct_Year_2_1819</td>\n",
              "      <td>NaN</td>\n",
              "    </tr>\n",
              "    <tr>\n",
              "      <th>750</th>\n",
              "      <td>Citywide-Option</td>\n",
              "      <td>Graduation_4_Year_School_Pct_Year_2_1819</td>\n",
              "      <td>3.3</td>\n",
              "    </tr>\n",
              "    <tr>\n",
              "      <th>751</th>\n",
              "      <td>Charter</td>\n",
              "      <td>Graduation_4_Year_School_Pct_Year_2_1819</td>\n",
              "      <td>NaN</td>\n",
              "    </tr>\n",
              "  </tbody>\n",
              "</table>\n",
              "<p>752 rows × 3 columns</p>\n",
              "</div>"
            ],
            "text/plain": [
              "         School_Type_1516                                      Year  Percent\n",
              "0    Selective enrollment  Graduation_4_Year_School_Pct_Year_2_1516     69.6\n",
              "1                 Charter  Graduation_4_Year_School_Pct_Year_2_1516     62.6\n",
              "2    Selective enrollment  Graduation_4_Year_School_Pct_Year_2_1516     90.4\n",
              "3                 Charter  Graduation_4_Year_School_Pct_Year_2_1516      NaN\n",
              "4        Military academy  Graduation_4_Year_School_Pct_Year_2_1516     80.2\n",
              "..                    ...                                       ...      ...\n",
              "747               Charter  Graduation_4_Year_School_Pct_Year_2_1819      NaN\n",
              "748               Charter  Graduation_4_Year_School_Pct_Year_2_1819      NaN\n",
              "749               Charter  Graduation_4_Year_School_Pct_Year_2_1819      NaN\n",
              "750       Citywide-Option  Graduation_4_Year_School_Pct_Year_2_1819      3.3\n",
              "751               Charter  Graduation_4_Year_School_Pct_Year_2_1819      NaN\n",
              "\n",
              "[752 rows x 3 columns]"
            ]
          },
          "metadata": {
            "tags": []
          },
          "execution_count": 280
        }
      ]
    },
    {
      "cell_type": "code",
      "metadata": {
        "colab": {
          "base_uri": "https://localhost:8080/",
          "height": 566
        },
        "id": "IgqR9qfGp6vo",
        "outputId": "d7e33ddd-af87-4af2-dccb-42ac85bf0dc5"
      },
      "source": [
        "# Let's swarmplot to see all years of data collected for College Enrollment\n",
        "fig, ax = plt.subplots(1, figsize = (14,8), sharex = True, sharey = True)\n",
        "\n",
        "sns.swarmplot(x = gradrate_mlt_df.School_Type_1516, \n",
        "              y = gradrate_mlt_df.Percent, \n",
        "              hue = gradrate_mlt_df.Year,\n",
        "              palette=\"icefire\")\n",
        "\n",
        "plt.title(\"College Enrollment % (All Years)\")\n",
        "\n",
        "ax.set_title(f\"Swarm Plot: College Enrollment %, Chicago Public High Schools (All Years, All Schools)\", size = 14 )\n",
        "ax.set_xlabel(\"High School Types\", size = 12)\n",
        "ax.set_ylabel(\"College Enrollment %, All Years\", size = 12)\n",
        "ax.grid(color='gray', alpha = .5, linestyle='-', linewidth=.5)\n",
        "ax.legend(loc='upper center', bbox_to_anchor=(0.5, -.1),\n",
        "          ncol=3, fancybox=True, shadow=True)\n",
        "\n",
        "sns.despine()\n",
        "sns.set_style('ticks')\n",
        "plt.show()"
      ],
      "execution_count": 281,
      "outputs": [
        {
          "output_type": "display_data",
          "data": {
            "image/png": "[encoded data removed]",
            "text/plain": [
              "<Figure size 1008x576 with 1 Axes>"
            ]
          },
          "metadata": {
            "tags": []
          }
        }
      ]
    },
    {
      "cell_type": "markdown",
      "metadata": {
        "id": "xLW5SGsOZUPy"
      },
      "source": [
        "Looks like Neighborhood and Charter Schools are have somewhat similar College Enrollment Numbers... hard to tell"
      ]
    },
    {
      "cell_type": "code",
      "metadata": {
        "id": "oFY8TXCzvSFs"
      },
      "source": [
        "#And create two smaller dataframes so that we can compare them in a T-Test\n",
        "charter_grad_srs = category_find(gradrate_mlt_df, 'School_Type_1516', 'Charter', exact = False)\n",
        "nbd_grad_srs = category_find(gradrate_mlt_df, 'School_Type_1516', 'Neighborhood', exact = False)"
      ],
      "execution_count": 282,
      "outputs": []
    },
    {
      "cell_type": "markdown",
      "metadata": {
        "id": "b0ao-F1_ZJjM"
      },
      "source": [
        "### Check the new dataframes and Nulls"
      ]
    },
    {
      "cell_type": "code",
      "metadata": {
        "colab": {
          "base_uri": "https://localhost:8080/",
          "height": 141
        },
        "id": "YWn5oYvsC1p5",
        "outputId": "43cc0738-ad21-4792-f0ba-c164a95144d1"
      },
      "source": [
        "#Let's look at the charter data\n",
        "charter_grad_srs.head(3)"
      ],
      "execution_count": 283,
      "outputs": [
        {
          "output_type": "execute_result",
          "data": {
            "text/html": [
              "<div>\n",
              "<style scoped>\n",
              "    .dataframe tbody tr th:only-of-type {\n",
              "        vertical-align: middle;\n",
              "    }\n",
              "\n",
              "    .dataframe tbody tr th {\n",
              "        vertical-align: top;\n",
              "    }\n",
              "\n",
              "    .dataframe thead th {\n",
              "        text-align: right;\n",
              "    }\n",
              "</style>\n",
              "<table border=\"1\" class=\"dataframe\">\n",
              "  <thead>\n",
              "    <tr style=\"text-align: right;\">\n",
              "      <th></th>\n",
              "      <th>School_Type_1516</th>\n",
              "      <th>Year</th>\n",
              "      <th>Percent</th>\n",
              "    </tr>\n",
              "  </thead>\n",
              "  <tbody>\n",
              "    <tr>\n",
              "      <th>1</th>\n",
              "      <td>Charter</td>\n",
              "      <td>Graduation_4_Year_School_Pct_Year_2_1516</td>\n",
              "      <td>62.6</td>\n",
              "    </tr>\n",
              "    <tr>\n",
              "      <th>3</th>\n",
              "      <td>Charter</td>\n",
              "      <td>Graduation_4_Year_School_Pct_Year_2_1516</td>\n",
              "      <td>NaN</td>\n",
              "    </tr>\n",
              "    <tr>\n",
              "      <th>6</th>\n",
              "      <td>Charter</td>\n",
              "      <td>Graduation_4_Year_School_Pct_Year_2_1516</td>\n",
              "      <td>NaN</td>\n",
              "    </tr>\n",
              "  </tbody>\n",
              "</table>\n",
              "</div>"
            ],
            "text/plain": [
              "  School_Type_1516                                      Year  Percent\n",
              "1          Charter  Graduation_4_Year_School_Pct_Year_2_1516     62.6\n",
              "3          Charter  Graduation_4_Year_School_Pct_Year_2_1516      NaN\n",
              "6          Charter  Graduation_4_Year_School_Pct_Year_2_1516      NaN"
            ]
          },
          "metadata": {
            "tags": []
          },
          "execution_count": 283
        }
      ]
    },
    {
      "cell_type": "code",
      "metadata": {
        "colab": {
          "base_uri": "https://localhost:8080/"
        },
        "id": "T3Dnbec2v8R1",
        "outputId": "4efb4701-a04f-46c8-e76e-368314390758"
      },
      "source": [
        "#What nulls do we have?\n",
        "charter_grad_srs.isna().sum()"
      ],
      "execution_count": 284,
      "outputs": [
        {
          "output_type": "execute_result",
          "data": {
            "text/plain": [
              "School_Type_1516      0\n",
              "Year                  0\n",
              "Percent             134\n",
              "dtype: int64"
            ]
          },
          "metadata": {
            "tags": []
          },
          "execution_count": 284
        }
      ]
    },
    {
      "cell_type": "code",
      "metadata": {
        "colab": {
          "base_uri": "https://localhost:8080/"
        },
        "id": "0wVNPk5WFBDe",
        "outputId": "1c4e74c7-9aa9-4e31-b41a-afcc58142048"
      },
      "source": [
        "#What neighborhood nulls do we have?\n",
        "nbd_grad_srs.isna().sum()"
      ],
      "execution_count": 285,
      "outputs": [
        {
          "output_type": "execute_result",
          "data": {
            "text/plain": [
              "School_Type_1516    0\n",
              "Year                0\n",
              "Percent             8\n",
              "dtype: int64"
            ]
          },
          "metadata": {
            "tags": []
          },
          "execution_count": 285
        }
      ]
    },
    {
      "cell_type": "code",
      "metadata": {
        "colab": {
          "base_uri": "https://localhost:8080/",
          "height": 335
        },
        "id": "4PlzsLvoysxT",
        "outputId": "9a7cb45b-1c1e-4b86-f108-2d77c9d8083a"
      },
      "source": [
        "#What does the distribution look like?\n",
        "plt.hist(gradrate_mlt_df.Percent)"
      ],
      "execution_count": 287,
      "outputs": [
        {
          "output_type": "execute_result",
          "data": {
            "text/plain": [
              "(array([ 29.,   5.,   4.,   8.,  18.,  54.,  91., 118., 140.,  58.]),\n",
              " array([ 0.  ,  9.88, 19.76, 29.64, 39.52, 49.4 , 59.28, 69.16, 79.04,\n",
              "        88.92, 98.8 ]),\n",
              " <a list of 10 Patch objects>)"
            ]
          },
          "metadata": {
            "tags": []
          },
          "execution_count": 287
        },
        {
          "output_type": "display_data",
          "data": {
            "image/png": "[encoded data removed]",
            "text/plain": [
              "<Figure size 432x288 with 1 Axes>"
            ]
          },
          "metadata": {
            "tags": []
          }
        }
      ]
    },
    {
      "cell_type": "markdown",
      "metadata": {
        "id": "Q4rJ-tCKRxf8"
      },
      "source": [
        "Unlike the first distribution, this does appears to be non-parametric (non-normal). "
      ]
    },
    {
      "cell_type": "code",
      "metadata": {
        "colab": {
          "base_uri": "https://localhost:8080/"
        },
        "id": "Ts6lnVp9Fg6R",
        "outputId": "d3d41a76-6c2c-4fd8-ae74-091c2621da30"
      },
      "source": [
        "#Are the variances equal?\n",
        "np.nanvar(charter_grad_srs.Percent) == np.nanvar(nbd_grad_srs.Percent)"
      ],
      "execution_count": 288,
      "outputs": [
        {
          "output_type": "execute_result",
          "data": {
            "text/plain": [
              "False"
            ]
          },
          "metadata": {
            "tags": []
          },
          "execution_count": 288
        }
      ]
    },
    {
      "cell_type": "code",
      "metadata": {
        "colab": {
          "base_uri": "https://localhost:8080/"
        },
        "id": "T4P5_O-S9Uyw",
        "outputId": "c1336831-175b-46a1-b12f-e8cb39cfbda1"
      },
      "source": [
        "#Comparing Means\n",
        "print(f\"Charter Schools mean: {np.nanmean(charter_grad_srs.Percent)}\")\n",
        "print(f\"Charter Schools median: {np.nanmedian(charter_grad_srs.Percent)}\")\n",
        "\n",
        "print(f\"Neighborhood Schools mean: {np.nanmean(nbd_grad_srs.Percent)}\")\n",
        "print(f\"Neighborhood Schools median: {np.nanmedian(nbd_grad_srs.Percent)}\")"
      ],
      "execution_count": 289,
      "outputs": [
        {
          "output_type": "stream",
          "text": [
            "Charter Schools mean: 72.40821917808218\n",
            "Charter Schools median: 75.9\n",
            "Neighborhood Schools mean: 66.56722222222223\n",
            "Neighborhood Schools median: 67.25\n"
          ],
          "name": "stdout"
        }
      ]
    },
    {
      "cell_type": "markdown",
      "metadata": {
        "id": "VTOtARdC-DPG"
      },
      "source": [
        "Let's check to see if the difference between charter schools and neighborhood schools is significant. \n",
        "\n",
        "This time, we'll use Mann-Whitney, since the data is \n",
        "- unpaired, \n",
        "- non-parametric, \n",
        "- different variances. \n",
        "\n",
        "*Ref:* https://www.statology.org/mann-whitney-u-test-python/  \n",
        "https://machinelearningmastery.com/nonparametric-statistical-significance-tests-in-python/"
      ]
    },
    {
      "cell_type": "code",
      "metadata": {
        "colab": {
          "base_uri": "https://localhost:8080/"
        },
        "id": "Fs8egmKHvaGN",
        "outputId": "3b6c337f-1fd8-42f9-bb10-9e4d766d5350"
      },
      "source": [
        "#Import Scipy and Omit NaNs.\n",
        "from scipy.stats import mannwhitneyu\n",
        "\n",
        "stat, p = stats.mannwhitneyu(nbd_grad_srs['Percent'].dropna(), charter_grad_srs['Percent'].dropna())\n",
        "\n",
        "print(f\"Test Stat = {stat} \\nP-value = {p}\")"
      ],
      "execution_count": 290,
      "outputs": [
        {
          "output_type": "stream",
          "text": [
            "Test Stat = 9217.5 \n",
            "P-value = 1.7876595101993479e-06\n"
          ],
          "name": "stdout"
        }
      ]
    },
    {
      "cell_type": "code",
      "metadata": {
        "colab": {
          "base_uri": "https://localhost:8080/"
        },
        "id": "drpv6J-9M0fP",
        "outputId": "cf9d9ea7-fd91-4541-bd12-1c3acf5a1b16"
      },
      "source": [
        "#Check Null Hypothesis\n",
        "alpha = 0.05\n",
        "if p > alpha:\n",
        "\tprint('Same distribution (fail to reject H0)')\n",
        "else:\n",
        "\tprint('reject H0')"
      ],
      "execution_count": 291,
      "outputs": [
        {
          "output_type": "stream",
          "text": [
            "reject H0\n"
          ],
          "name": "stdout"
        }
      ]
    },
    {
      "cell_type": "markdown",
      "metadata": {
        "id": "KRIYPNqevoi_"
      },
      "source": [
        "So, with a pvalue at 1.7e-06 (far lower than p=.05), the difference is definitely significant between the two- charter Schools graduate students at a higher rate than neighborhood schools.  \n",
        "\n",
        "*However*, one of the issues with the data is the frequency of reporting.     Looking at the number of nulls as a percent of the data... "
      ]
    },
    {
      "cell_type": "code",
      "metadata": {
        "colab": {
          "base_uri": "https://localhost:8080/"
        },
        "id": "q2LSakyFwJA2",
        "outputId": "28c67120-f23b-4638-9e44-d4c4ecd75421"
      },
      "source": [
        "print(f\"Charter Nulls: {charter_grad_srs['Percent'].isna().sum() / charter_grad_srs.shape[0]}\")\n",
        "print(f\"Nbd Nulls: {nbd_grad_srs['Percent'].isna().sum() / nbd_grad_srs.shape[0]}\")"
      ],
      "execution_count": 292,
      "outputs": [
        {
          "output_type": "stream",
          "text": [
            "Charter Nulls: 0.4785714285714286\n",
            "Nbd Nulls: 0.0425531914893617\n"
          ],
          "name": "stdout"
        }
      ]
    },
    {
      "cell_type": "markdown",
      "metadata": {
        "id": "vP8mVF8NWYoj"
      },
      "source": [
        "## Summary: Graduation Rates\n",
        "- Reject Null Hypothesis (p<.05)\n",
        "- Charter Schools (n=145 / μ = 72) and\n",
        "- Neighborhood Schools (n=180/ μ = 65)\n",
        "\n",
        "*Caveat:* 47% of the graduation data from the charter schools is missing, compared to only 4% for neighborhood schools! If the school is reporting, it probably does better than a neighborhood school equivalent, but the issue is that schools which perform lower may not be reporting their graduation data. \n",
        "\n",
        "It is difficult to know if this was intentional underreporting, if schools are not collecting or lack data, etc. **If lower-performing charter schools are delibrately not reporting their data, it would be difficult to make assumptions despite the significant difference.**"
      ]
    },
    {
      "cell_type": "markdown",
      "metadata": {
        "id": "NO4qX8Uo98QM"
      },
      "source": [
        "# 4. Attendance Differences Between Charter High Schools and Neighborhood High Schools"
      ]
    },
    {
      "cell_type": "markdown",
      "metadata": {
        "id": "V-tiXBbuZ5n1"
      },
      "source": [
        "**Null Hypothesis (h0) = There is no difference in high school attendance  for high school students attending charter and neighborhood schools in Chicago.  \n",
        "Alternate Hypothesis (h1) = There is a significant attendance in high school graduation rates for high school students attending charter and neighborhood schools in Chicago.** "
      ]
    },
    {
      "cell_type": "code",
      "metadata": {
        "colab": {
          "base_uri": "https://localhost:8080/"
        },
        "id": "uWeLDzeq990v",
        "outputId": "b7d172aa-fe26-420b-cf8f-4ab92a169ebc"
      },
      "source": [
        "for elem in full_df:\n",
        "    if \"student_attendance\" in elem.lower():\n",
        "        print(elem)"
      ],
      "execution_count": 293,
      "outputs": [
        {
          "output_type": "stream",
          "text": [
            "Student_Attendance_Year_1_Pct_1516\n",
            "Student_Attendance_Year_2_Pct_1516\n",
            "Student_Attendance_Avg_Pct_1516\n",
            "Student_Attendance_Year_1_Pct_1617\n",
            "Student_Attendance_Year_2_Pct_1617\n",
            "Student_Attendance_Avg_Pct_1617\n",
            "Student_Attendance_Year_1_Pct_1718\n",
            "Student_Attendance_Year_2_Pct_1718\n",
            "Student_Attendance_Avg_Pct_1718\n",
            "Student_Attendance_Year_1_Pct_1819\n",
            "Student_Attendance_Year_2_Pct_1819\n",
            "Student_Attendance_Avg_Pct_1819\n"
          ],
          "name": "stdout"
        }
      ]
    },
    {
      "cell_type": "markdown",
      "metadata": {
        "id": "_16vtb4xaG00"
      },
      "source": [
        "*Note: The 'Year_1' denotes 2 years ago, and 'Year_2' denotes 1 year ago, according to the data definitions on the data. So, we have 5 years of data to work with here, since 2016-2016 'Year_1' == 2014-2015 'Year_2'.*"
      ]
    },
    {
      "cell_type": "code",
      "metadata": {
        "id": "7tx1PQGV-bmV"
      },
      "source": [
        "#Create the dataframe by selecting elements relating to graduation\n",
        "base_list = [\"School_ID\", \"Long_Name_1516\",\"School_Type_1516\",'Primary_Category_1516']\n",
        "att_list =[elem for elem in full_df if (\"student_attendance_year_2\" in elem.lower()) or (elem.lower() == \"student_attendance_year_1_pct_1516\")]\n",
        "\n",
        "att_df = full_df[base_list + att_list]\n",
        "\n",
        "#Since 'Year 1' is 2 years ago, we'll rename it as 'Year_2_pct'\n",
        "att_df = att_df.rename(columns={\"Student_Attendance_Year_1_Pct_1516\": \"Student_Attendance_Year_2_Pct_1415\"})\n",
        "\n",
        "#Focus on HS only\n",
        "att_hs_df = category_find(att_df, 'Primary_Category_1516', 'HS')"
      ],
      "execution_count": 294,
      "outputs": []
    },
    {
      "cell_type": "code",
      "metadata": {
        "colab": {
          "base_uri": "https://localhost:8080/",
          "height": 141
        },
        "id": "t4JxwaCPBH_3",
        "outputId": "3c840058-dd6c-4c17-eb0e-a2daf7402f3a"
      },
      "source": [
        "att_hs_df.head(3)"
      ],
      "execution_count": 307,
      "outputs": [
        {
          "output_type": "execute_result",
          "data": {
            "text/html": [
              "<div>\n",
              "<style scoped>\n",
              "    .dataframe tbody tr th:only-of-type {\n",
              "        vertical-align: middle;\n",
              "    }\n",
              "\n",
              "    .dataframe tbody tr th {\n",
              "        vertical-align: top;\n",
              "    }\n",
              "\n",
              "    .dataframe thead th {\n",
              "        text-align: right;\n",
              "    }\n",
              "</style>\n",
              "<table border=\"1\" class=\"dataframe\">\n",
              "  <thead>\n",
              "    <tr style=\"text-align: right;\">\n",
              "      <th></th>\n",
              "      <th>School_ID</th>\n",
              "      <th>Long_Name_1516</th>\n",
              "      <th>School_Type_1516</th>\n",
              "      <th>Primary_Category_1516</th>\n",
              "      <th>Student_Attendance_Year_2_Pct_1415</th>\n",
              "      <th>Student_Attendance_Year_2_Pct_1516</th>\n",
              "      <th>Student_Attendance_Year_2_Pct_1617</th>\n",
              "      <th>Student_Attendance_Year_2_Pct_1718</th>\n",
              "      <th>Student_Attendance_Year_2_Pct_1819</th>\n",
              "    </tr>\n",
              "  </thead>\n",
              "  <tbody>\n",
              "    <tr>\n",
              "      <th>0</th>\n",
              "      <td>610547</td>\n",
              "      <td>South Shore Intl College Prep High School</td>\n",
              "      <td>Selective enrollment</td>\n",
              "      <td>HS</td>\n",
              "      <td>90.5</td>\n",
              "      <td>87.0</td>\n",
              "      <td>90.2</td>\n",
              "      <td>90.1</td>\n",
              "      <td>90.9</td>\n",
              "    </tr>\n",
              "    <tr>\n",
              "      <th>1</th>\n",
              "      <td>400097</td>\n",
              "      <td>Noble - Chicago Bulls College Prep</td>\n",
              "      <td>Charter</td>\n",
              "      <td>HS</td>\n",
              "      <td>93.4</td>\n",
              "      <td>93.1</td>\n",
              "      <td>94.2</td>\n",
              "      <td>93.4</td>\n",
              "      <td>93.4</td>\n",
              "    </tr>\n",
              "    <tr>\n",
              "      <th>4</th>\n",
              "      <td>609678</td>\n",
              "      <td>William Jones College Preparatory High School</td>\n",
              "      <td>Selective enrollment</td>\n",
              "      <td>HS</td>\n",
              "      <td>93.9</td>\n",
              "      <td>93.8</td>\n",
              "      <td>93.2</td>\n",
              "      <td>92.3</td>\n",
              "      <td>93.0</td>\n",
              "    </tr>\n",
              "  </tbody>\n",
              "</table>\n",
              "</div>"
            ],
            "text/plain": [
              "   School_ID  ... Student_Attendance_Year_2_Pct_1819\n",
              "0     610547  ...                               90.9\n",
              "1     400097  ...                               93.4\n",
              "4     609678  ...                               93.0\n",
              "\n",
              "[3 rows x 9 columns]"
            ]
          },
          "metadata": {
            "tags": []
          },
          "execution_count": 307
        }
      ]
    },
    {
      "cell_type": "code",
      "metadata": {
        "colab": {
          "base_uri": "https://localhost:8080/",
          "height": 415
        },
        "id": "OF6MFh7kDFaN",
        "outputId": "cb0cbab6-4093-41b9-8aef-a9ccb5c6e161"
      },
      "source": [
        "#Create and melt the columns\n",
        "att_cols = [col for col in att_hs_df.columns if \"student_attendance\" in col.lower()]\n",
        "att_cols.append('School_Type_1516')\n",
        "\n",
        "att_hs_mlt_df = att_hs_df[att_cols]\n",
        "\n",
        "att_hs_mlt_df = pd.melt(att_hs_mlt_df, id_vars=['School_Type_1516'], \n",
        "                              var_name='Year', \n",
        "                              value_name='Percent')\n",
        "\n",
        "att_hs_mlt_df"
      ],
      "execution_count": 296,
      "outputs": [
        {
          "output_type": "execute_result",
          "data": {
            "text/html": [
              "<div>\n",
              "<style scoped>\n",
              "    .dataframe tbody tr th:only-of-type {\n",
              "        vertical-align: middle;\n",
              "    }\n",
              "\n",
              "    .dataframe tbody tr th {\n",
              "        vertical-align: top;\n",
              "    }\n",
              "\n",
              "    .dataframe thead th {\n",
              "        text-align: right;\n",
              "    }\n",
              "</style>\n",
              "<table border=\"1\" class=\"dataframe\">\n",
              "  <thead>\n",
              "    <tr style=\"text-align: right;\">\n",
              "      <th></th>\n",
              "      <th>School_Type_1516</th>\n",
              "      <th>Year</th>\n",
              "      <th>Percent</th>\n",
              "    </tr>\n",
              "  </thead>\n",
              "  <tbody>\n",
              "    <tr>\n",
              "      <th>0</th>\n",
              "      <td>Selective enrollment</td>\n",
              "      <td>Student_Attendance_Year_2_Pct_1415</td>\n",
              "      <td>90.5</td>\n",
              "    </tr>\n",
              "    <tr>\n",
              "      <th>1</th>\n",
              "      <td>Charter</td>\n",
              "      <td>Student_Attendance_Year_2_Pct_1415</td>\n",
              "      <td>93.4</td>\n",
              "    </tr>\n",
              "    <tr>\n",
              "      <th>2</th>\n",
              "      <td>Selective enrollment</td>\n",
              "      <td>Student_Attendance_Year_2_Pct_1415</td>\n",
              "      <td>93.9</td>\n",
              "    </tr>\n",
              "    <tr>\n",
              "      <th>3</th>\n",
              "      <td>Charter</td>\n",
              "      <td>Student_Attendance_Year_2_Pct_1415</td>\n",
              "      <td>86.0</td>\n",
              "    </tr>\n",
              "    <tr>\n",
              "      <th>4</th>\n",
              "      <td>Military academy</td>\n",
              "      <td>Student_Attendance_Year_2_Pct_1415</td>\n",
              "      <td>92.3</td>\n",
              "    </tr>\n",
              "    <tr>\n",
              "      <th>...</th>\n",
              "      <td>...</td>\n",
              "      <td>...</td>\n",
              "      <td>...</td>\n",
              "    </tr>\n",
              "    <tr>\n",
              "      <th>935</th>\n",
              "      <td>Charter</td>\n",
              "      <td>Student_Attendance_Year_2_Pct_1819</td>\n",
              "      <td>59.6</td>\n",
              "    </tr>\n",
              "    <tr>\n",
              "      <th>936</th>\n",
              "      <td>Charter</td>\n",
              "      <td>Student_Attendance_Year_2_Pct_1819</td>\n",
              "      <td>NaN</td>\n",
              "    </tr>\n",
              "    <tr>\n",
              "      <th>937</th>\n",
              "      <td>Charter</td>\n",
              "      <td>Student_Attendance_Year_2_Pct_1819</td>\n",
              "      <td>69.1</td>\n",
              "    </tr>\n",
              "    <tr>\n",
              "      <th>938</th>\n",
              "      <td>Citywide-Option</td>\n",
              "      <td>Student_Attendance_Year_2_Pct_1819</td>\n",
              "      <td>59.5</td>\n",
              "    </tr>\n",
              "    <tr>\n",
              "      <th>939</th>\n",
              "      <td>Charter</td>\n",
              "      <td>Student_Attendance_Year_2_Pct_1819</td>\n",
              "      <td>63.0</td>\n",
              "    </tr>\n",
              "  </tbody>\n",
              "</table>\n",
              "<p>940 rows × 3 columns</p>\n",
              "</div>"
            ],
            "text/plain": [
              "         School_Type_1516                                Year  Percent\n",
              "0    Selective enrollment  Student_Attendance_Year_2_Pct_1415     90.5\n",
              "1                 Charter  Student_Attendance_Year_2_Pct_1415     93.4\n",
              "2    Selective enrollment  Student_Attendance_Year_2_Pct_1415     93.9\n",
              "3                 Charter  Student_Attendance_Year_2_Pct_1415     86.0\n",
              "4        Military academy  Student_Attendance_Year_2_Pct_1415     92.3\n",
              "..                    ...                                 ...      ...\n",
              "935               Charter  Student_Attendance_Year_2_Pct_1819     59.6\n",
              "936               Charter  Student_Attendance_Year_2_Pct_1819      NaN\n",
              "937               Charter  Student_Attendance_Year_2_Pct_1819     69.1\n",
              "938       Citywide-Option  Student_Attendance_Year_2_Pct_1819     59.5\n",
              "939               Charter  Student_Attendance_Year_2_Pct_1819     63.0\n",
              "\n",
              "[940 rows x 3 columns]"
            ]
          },
          "metadata": {
            "tags": []
          },
          "execution_count": 296
        }
      ]
    },
    {
      "cell_type": "code",
      "metadata": {
        "colab": {
          "base_uri": "https://localhost:8080/",
          "height": 417
        },
        "id": "S0B_QODuMOcD",
        "outputId": "c8d0db75-6743-44b1-b8f5-75cc0121b892"
      },
      "source": [
        "att_hs_mlt_df.groupby('School_Type_1516').agg(['count', 'mean', 'median','var'])"
      ],
      "execution_count": 297,
      "outputs": [
        {
          "output_type": "execute_result",
          "data": {
            "text/html": [
              "<div>\n",
              "<style scoped>\n",
              "    .dataframe tbody tr th:only-of-type {\n",
              "        vertical-align: middle;\n",
              "    }\n",
              "\n",
              "    .dataframe tbody tr th {\n",
              "        vertical-align: top;\n",
              "    }\n",
              "\n",
              "    .dataframe thead tr th {\n",
              "        text-align: left;\n",
              "    }\n",
              "\n",
              "    .dataframe thead tr:last-of-type th {\n",
              "        text-align: right;\n",
              "    }\n",
              "</style>\n",
              "<table border=\"1\" class=\"dataframe\">\n",
              "  <thead>\n",
              "    <tr>\n",
              "      <th></th>\n",
              "      <th colspan=\"4\" halign=\"left\">Percent</th>\n",
              "    </tr>\n",
              "    <tr>\n",
              "      <th></th>\n",
              "      <th>count</th>\n",
              "      <th>mean</th>\n",
              "      <th>median</th>\n",
              "      <th>var</th>\n",
              "    </tr>\n",
              "    <tr>\n",
              "      <th>School_Type_1516</th>\n",
              "      <th></th>\n",
              "      <th></th>\n",
              "      <th></th>\n",
              "      <th></th>\n",
              "    </tr>\n",
              "  </thead>\n",
              "  <tbody>\n",
              "    <tr>\n",
              "      <th>Career academy</th>\n",
              "      <td>20</td>\n",
              "      <td>87.415000</td>\n",
              "      <td>88.15</td>\n",
              "      <td>6.469763</td>\n",
              "    </tr>\n",
              "    <tr>\n",
              "      <th>Charter</th>\n",
              "      <td>327</td>\n",
              "      <td>84.621407</td>\n",
              "      <td>90.90</td>\n",
              "      <td>151.774755</td>\n",
              "    </tr>\n",
              "    <tr>\n",
              "      <th>Citywide-Option</th>\n",
              "      <td>90</td>\n",
              "      <td>68.506667</td>\n",
              "      <td>68.50</td>\n",
              "      <td>263.768494</td>\n",
              "    </tr>\n",
              "    <tr>\n",
              "      <th>Contract</th>\n",
              "      <td>12</td>\n",
              "      <td>91.808333</td>\n",
              "      <td>90.25</td>\n",
              "      <td>21.739015</td>\n",
              "    </tr>\n",
              "    <tr>\n",
              "      <th>Magnet</th>\n",
              "      <td>35</td>\n",
              "      <td>92.360000</td>\n",
              "      <td>93.00</td>\n",
              "      <td>5.197176</td>\n",
              "    </tr>\n",
              "    <tr>\n",
              "      <th>Military academy</th>\n",
              "      <td>30</td>\n",
              "      <td>92.856667</td>\n",
              "      <td>92.80</td>\n",
              "      <td>3.303230</td>\n",
              "    </tr>\n",
              "    <tr>\n",
              "      <th>Neighborhood</th>\n",
              "      <td>230</td>\n",
              "      <td>86.020000</td>\n",
              "      <td>86.90</td>\n",
              "      <td>29.816803</td>\n",
              "    </tr>\n",
              "    <tr>\n",
              "      <th>Selective enrollment</th>\n",
              "      <td>50</td>\n",
              "      <td>92.612000</td>\n",
              "      <td>92.90</td>\n",
              "      <td>2.897812</td>\n",
              "    </tr>\n",
              "    <tr>\n",
              "      <th>Small</th>\n",
              "      <td>69</td>\n",
              "      <td>87.497101</td>\n",
              "      <td>88.30</td>\n",
              "      <td>23.419697</td>\n",
              "    </tr>\n",
              "    <tr>\n",
              "      <th>Special Education</th>\n",
              "      <td>20</td>\n",
              "      <td>89.115000</td>\n",
              "      <td>89.30</td>\n",
              "      <td>4.564500</td>\n",
              "    </tr>\n",
              "  </tbody>\n",
              "</table>\n",
              "</div>"
            ],
            "text/plain": [
              "                     Percent                              \n",
              "                       count       mean median         var\n",
              "School_Type_1516                                          \n",
              "Career academy            20  87.415000  88.15    6.469763\n",
              "Charter                  327  84.621407  90.90  151.774755\n",
              "Citywide-Option           90  68.506667  68.50  263.768494\n",
              "Contract                  12  91.808333  90.25   21.739015\n",
              "Magnet                    35  92.360000  93.00    5.197176\n",
              "Military academy          30  92.856667  92.80    3.303230\n",
              "Neighborhood             230  86.020000  86.90   29.816803\n",
              "Selective enrollment      50  92.612000  92.90    2.897812\n",
              "Small                     69  87.497101  88.30   23.419697\n",
              "Special Education         20  89.115000  89.30    4.564500"
            ]
          },
          "metadata": {
            "tags": []
          },
          "execution_count": 297
        }
      ]
    },
    {
      "cell_type": "code",
      "metadata": {
        "colab": {
          "base_uri": "https://localhost:8080/",
          "height": 635
        },
        "id": "Y86sJ8U0FV1E",
        "outputId": "89db02a9-2701-4fea-e71e-ae95e2d4d46e"
      },
      "source": [
        "# Let's swarmplot to see all years of data collected for College Enrollment\n",
        "fig, ax = plt.subplots(1, figsize = (14,8), sharex = True, sharey = True)\n",
        "\n",
        "sns.swarmplot(x = att_hs_mlt_df.School_Type_1516, \n",
        "              y = att_hs_mlt_df.Percent, \n",
        "              hue = att_hs_mlt_df.Year,\n",
        "              palette=\"jet_r\")\n",
        "\n",
        "plt.title(\"Attendance % (All Years)\")\n",
        "\n",
        "ax.set_title(f\"Swarm Plot: Attendance %, Chicago Public High Schools (All Years)\", size = 14 )\n",
        "ax.set_xlabel(\"High School Types\", size = 12)\n",
        "ax.set_ylabel(\"Attendance %, All Years\", size = 12)\n",
        "ax.grid(color='gray', alpha = .5, linestyle='-', linewidth=.5)\n",
        "ax.legend(loc='upper center', bbox_to_anchor=(0.5, -.1),\n",
        "          ncol=3, fancybox=True, shadow=True)\n",
        "\n",
        "sns.despine()\n",
        "sns.set_style('ticks')\n",
        "plt.show()"
      ],
      "execution_count": 298,
      "outputs": [
        {
          "output_type": "stream",
          "text": [
            "/usr/local/lib/python3.7/dist-packages/seaborn/categorical.py:1296: UserWarning: 21.7% of the points cannot be placed; you may want to decrease the size of the markers or use stripplot.\n",
            "  warnings.warn(msg, UserWarning)\n",
            "/usr/local/lib/python3.7/dist-packages/seaborn/categorical.py:1296: UserWarning: 14.0% of the points cannot be placed; you may want to decrease the size of the markers or use stripplot.\n",
            "  warnings.warn(msg, UserWarning)\n"
          ],
          "name": "stderr"
        },
        {
          "output_type": "display_data",
          "data": {
            "image/png": "[encoded data removed]",
            "text/plain": [
              "<Figure size 1008x576 with 1 Axes>"
            ]
          },
          "metadata": {
            "tags": []
          }
        }
      ]
    },
    {
      "cell_type": "code",
      "metadata": {
        "colab": {
          "base_uri": "https://localhost:8080/",
          "height": 335
        },
        "id": "87KE9UDAGtlF",
        "outputId": "4eeef6c5-5cf2-47ad-a954-a742278b833d"
      },
      "source": [
        "plt.hist(att_hs_mlt_df.Percent, bins = 10)"
      ],
      "execution_count": 299,
      "outputs": [
        {
          "output_type": "execute_result",
          "data": {
            "text/plain": [
              "(array([  2.,  10.,  16.,  29.,  30.,  54.,  72., 145., 376., 149.]),\n",
              " array([ 35.4 ,  41.86,  48.32,  54.78,  61.24,  67.7 ,  74.16,  80.62,\n",
              "         87.08,  93.54, 100.  ]),\n",
              " <a list of 10 Patch objects>)"
            ]
          },
          "metadata": {
            "tags": []
          },
          "execution_count": 299
        },
        {
          "output_type": "display_data",
          "data": {
            "image/png": "[encoded data removed]",
            "text/plain": [
              "<Figure size 432x288 with 1 Axes>"
            ]
          },
          "metadata": {
            "tags": []
          }
        }
      ]
    },
    {
      "cell_type": "markdown",
      "metadata": {
        "id": "m4OK_9dOLAnL"
      },
      "source": [
        "This doesn't appear to be a normal distribution at all."
      ]
    },
    {
      "cell_type": "code",
      "metadata": {
        "id": "RiqawL2MCOhl"
      },
      "source": [
        "#And create two smaller dataframes so that we can compare them in a T-Test\n",
        "charter_att_df = category_find(att_hs_mlt_df, 'School_Type_1516', 'Charter', exact = False)\n",
        "nbd_att_df = category_find(att_hs_mlt_df, 'School_Type_1516', 'Neighborhood', exact = False)"
      ],
      "execution_count": 300,
      "outputs": []
    },
    {
      "cell_type": "code",
      "metadata": {
        "colab": {
          "base_uri": "https://localhost:8080/"
        },
        "id": "wbGslOGIGSLa",
        "outputId": "b35ff0ca-b881-4b20-afed-a921d4a1abe1"
      },
      "source": [
        "#Nulls in the data\n",
        "print(f\"charter nulls: {charter_att_df.isna().sum().sum()}\")\n",
        "print(f\"nbd nulls: {nbd_att_df.isna().sum().sum()}\")"
      ],
      "execution_count": 301,
      "outputs": [
        {
          "output_type": "stream",
          "text": [
            "charter nulls: 23\n",
            "nbd nulls: 5\n"
          ],
          "name": "stdout"
        }
      ]
    },
    {
      "cell_type": "code",
      "metadata": {
        "colab": {
          "base_uri": "https://localhost:8080/",
          "height": 202
        },
        "id": "M0ssg_NJMncd",
        "outputId": "7f7ef6ab-bf9a-4a42-d0e6-75b81c65d2e9"
      },
      "source": [
        "charter_att_df.head()"
      ],
      "execution_count": 302,
      "outputs": [
        {
          "output_type": "execute_result",
          "data": {
            "text/html": [
              "<div>\n",
              "<style scoped>\n",
              "    .dataframe tbody tr th:only-of-type {\n",
              "        vertical-align: middle;\n",
              "    }\n",
              "\n",
              "    .dataframe tbody tr th {\n",
              "        vertical-align: top;\n",
              "    }\n",
              "\n",
              "    .dataframe thead th {\n",
              "        text-align: right;\n",
              "    }\n",
              "</style>\n",
              "<table border=\"1\" class=\"dataframe\">\n",
              "  <thead>\n",
              "    <tr style=\"text-align: right;\">\n",
              "      <th></th>\n",
              "      <th>School_Type_1516</th>\n",
              "      <th>Year</th>\n",
              "      <th>Percent</th>\n",
              "    </tr>\n",
              "  </thead>\n",
              "  <tbody>\n",
              "    <tr>\n",
              "      <th>1</th>\n",
              "      <td>Charter</td>\n",
              "      <td>Student_Attendance_Year_2_Pct_1415</td>\n",
              "      <td>93.4</td>\n",
              "    </tr>\n",
              "    <tr>\n",
              "      <th>3</th>\n",
              "      <td>Charter</td>\n",
              "      <td>Student_Attendance_Year_2_Pct_1415</td>\n",
              "      <td>86.0</td>\n",
              "    </tr>\n",
              "    <tr>\n",
              "      <th>6</th>\n",
              "      <td>Charter</td>\n",
              "      <td>Student_Attendance_Year_2_Pct_1415</td>\n",
              "      <td>91.8</td>\n",
              "    </tr>\n",
              "    <tr>\n",
              "      <th>14</th>\n",
              "      <td>Charter</td>\n",
              "      <td>Student_Attendance_Year_2_Pct_1415</td>\n",
              "      <td>95.0</td>\n",
              "    </tr>\n",
              "    <tr>\n",
              "      <th>15</th>\n",
              "      <td>Charter</td>\n",
              "      <td>Student_Attendance_Year_2_Pct_1415</td>\n",
              "      <td>92.5</td>\n",
              "    </tr>\n",
              "  </tbody>\n",
              "</table>\n",
              "</div>"
            ],
            "text/plain": [
              "   School_Type_1516                                Year  Percent\n",
              "1           Charter  Student_Attendance_Year_2_Pct_1415     93.4\n",
              "3           Charter  Student_Attendance_Year_2_Pct_1415     86.0\n",
              "6           Charter  Student_Attendance_Year_2_Pct_1415     91.8\n",
              "14          Charter  Student_Attendance_Year_2_Pct_1415     95.0\n",
              "15          Charter  Student_Attendance_Year_2_Pct_1415     92.5"
            ]
          },
          "metadata": {
            "tags": []
          },
          "execution_count": 302
        }
      ]
    },
    {
      "cell_type": "code",
      "metadata": {
        "colab": {
          "base_uri": "https://localhost:8080/"
        },
        "id": "Kt1X0_SXGWMw",
        "outputId": "ac70a980-4e2b-4f83-89c8-04e21b55b38e"
      },
      "source": [
        "from scipy.stats import mannwhitneyu\n",
        "\n",
        "# compare samples\n",
        "stat, p = stats.mannwhitneyu(nbd_att_df['Percent'].dropna(), charter_att_df['Percent'].dropna())\n",
        "print('Statistics=%.8f, p=%.8f' % (stat, p))\n",
        "\n",
        "# interpret\n",
        "alpha = 0.05\n",
        "if p > alpha:\n",
        "\tprint('Same distribution (fail to reject H0)')\n",
        "else:\n",
        "\tprint('Different distribution (reject H0)')"
      ],
      "execution_count": 303,
      "outputs": [
        {
          "output_type": "stream",
          "text": [
            "Statistics=30704.50000000, p=0.00011225\n",
            "Different distribution (reject H0)\n"
          ],
          "name": "stdout"
        }
      ]
    },
    {
      "cell_type": "markdown",
      "metadata": {
        "id": "qk1Er1plRT5i"
      },
      "source": [
        "With a p-value under .05, there is a difference between the student attendance at charter schools (84.6) and neighborhood schools (86). In this case, Neighborhood schools have a significantly-better attendance record than charter schools."
      ]
    },
    {
      "cell_type": "markdown",
      "metadata": {
        "id": "9SqW_D3XXOd2"
      },
      "source": [
        "## Summary (Attendance)\n",
        "- Reject Null Hypothesis (p-value <.05)\n",
        "- Charter Schools (n=327 / μ = 84.6) and\n",
        "- Neighborhood Schools (n=230 / μ = 86)\n",
        "\n",
        "Neighborhood Schools have better attendance than Charter Schools."
      ]
    },
    {
      "cell_type": "markdown",
      "metadata": {
        "id": "GXZZnHKjcJER"
      },
      "source": [
        "# 5. Conclusions\n",
        "The focus of this project was to merge datasets, look through historical records of the schools in terms of performance data, and compare. I used two kinds of T-testing, as well as visualizations.\n",
        "\n",
        "## From an exploratory look, I found...\n",
        "* Students at neighborhood schools have **better attendance rates** than students at Charter Schools. \n",
        "* Charter Schools appear to **perform better** for students in terms of graduation rates, although many fewer schools did not report data. \n",
        "* Charter Schools **do not appear to do any better on College Entrance rates**, however, with only a statistically-insignificant difference between Neighborhood and Charter Schools.\n",
        "* Overall, charter schools appear to have some advantages and disadvantages to neighborhood schools.\n",
        "\n",
        "## Caveats\n",
        "This analysis only looked at Educational outcomes for students (high school graduation and college attendance rates). It does not control for possible factors in terms of differences between schools within neighborhood schools and charter school groups, nor control for differences in the populations of students who are attending each school.\n",
        "\n",
        "## Things I learned\n",
        "- Creating visualizations\n",
        "- Merging and Joining Data (and types of joins)\n",
        "- Using T-Tests to check for significance\n",
        "- Considerations for each type of T-test to use (parametric/nonpara, variance, etc.)\n",
        "- Whether or not there was a significant difference between two sets of data."
      ]
    },
    {
      "cell_type": "markdown",
      "metadata": {
        "id": "T1o6otX-sKco"
      },
      "source": [
        "#### Additional Information on Charter vs. Neighborhood Schools: \n",
        "*See:*\n",
        "- https://www.greatschools.org/gk/articles/public-private-charter-schools/\n",
        "- https://rhodesschool.org/differences-between-charter-and-public-schools/\n",
        "- https://news.uchicago.edu/story/uchicago-consortium-studies-differences-between-cps-charter-non-charter-schools"
      ]
    }
  ]
}