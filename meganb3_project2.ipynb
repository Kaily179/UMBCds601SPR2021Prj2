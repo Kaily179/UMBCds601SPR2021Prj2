{
 "cells": [
  {
   "cell_type": "markdown",
   "metadata": {
    "id": "NaLWznzZyMoH"
   },
   "source": [
    "# Project 2: Analyzing data on towed vehicles in Baltimore City"
   ]
  },
  {
   "cell_type": "markdown",
   "metadata": {
    "id": "KcsscdPDyMoO"
   },
   "source": [
    "This notebook analyzes data on towed vehicles in Baltimore City. My hypotheses are that there will be fewer cars towed on weekends than on weekdays, and that out-of-state vehicles will be more likely to be impounded for parking violations than vehicles from Maryland."
   ]
  },
  {
   "cell_type": "markdown",
   "metadata": {
    "id": "HLH_Oup9yMoO"
   },
   "source": [
    "The dataset can be found at https://data.baltimorecity.gov/datasets/towing/data"
   ]
  },
  {
   "cell_type": "markdown",
   "metadata": {},
   "source": [
    "Pandas functions can be found at https://pandas.pydata.org/docs/\n",
    "\n",
    "MatPlotLib functions can be found at https://pandas.pydata.org/docs/"
   ]
  },
  {
   "cell_type": "markdown",
   "metadata": {
    "id": "cQ-v1jBVyMoP"
   },
   "source": [
    "Note: this data is continuously updated"
   ]
  },
  {
   "cell_type": "code",
   "execution_count": 1,
   "metadata": {
    "colab": {
     "base_uri": "https://localhost:8080/"
    },
    "id": "Zm5aHHOiyMoP",
    "outputId": "6208f3ac-a818-4ec9-a3ce-1c45e2f3d290"
   },
   "outputs": [
    {
     "name": "stdout",
     "output_type": "stream",
     "text": [
      "Pandas version: 1.1.3\n",
      "MatPlotLib version: 3.3.2\n"
     ]
    }
   ],
   "source": [
    "# Import required packages\n",
    "import pandas\n",
    "import matplotlib\n",
    "import matplotlib.pyplot as plt\n",
    "\n",
    "print('Pandas version:', pandas.__version__)\n",
    "print('MatPlotLib version:', matplotlib.__version__)"
   ]
  },
  {
   "cell_type": "code",
   "execution_count": 2,
   "metadata": {},
   "outputs": [
    {
     "data": {
      "text/html": [
       "<div>\n",
       "<style scoped>\n",
       "    .dataframe tbody tr th:only-of-type {\n",
       "        vertical-align: middle;\n",
       "    }\n",
       "\n",
       "    .dataframe tbody tr th {\n",
       "        vertical-align: top;\n",
       "    }\n",
       "\n",
       "    .dataframe thead th {\n",
       "        text-align: right;\n",
       "    }\n",
       "</style>\n",
       "<table border=\"1\" class=\"dataframe\">\n",
       "  <thead>\n",
       "    <tr style=\"text-align: right;\">\n",
       "      <th></th>\n",
       "      <th>PropertyNumber</th>\n",
       "      <th>TowedDateTime</th>\n",
       "      <th>PickupType</th>\n",
       "      <th>VehicleType</th>\n",
       "      <th>VehicleYear</th>\n",
       "      <th>VehicleMake</th>\n",
       "      <th>VehicleModel</th>\n",
       "      <th>VehicleColor</th>\n",
       "      <th>TagNumber</th>\n",
       "      <th>TagState</th>\n",
       "      <th>...</th>\n",
       "      <th>HoldDateTime</th>\n",
       "      <th>HoldReleasedDateTime</th>\n",
       "      <th>HoldReleasedNotifyDate</th>\n",
       "      <th>RemovedFromYardDate</th>\n",
       "      <th>StolenVehicleFlag</th>\n",
       "      <th>Status</th>\n",
       "      <th>ReleaseDateTime</th>\n",
       "      <th>ReleaseType</th>\n",
       "      <th>TotalPaid</th>\n",
       "      <th>ESRI_OID</th>\n",
       "    </tr>\n",
       "  </thead>\n",
       "  <tbody>\n",
       "    <tr>\n",
       "      <th>0</th>\n",
       "      <td>F000001</td>\n",
       "      <td>2020/01/02 05:57:00+00</td>\n",
       "      <td>Parking Violation</td>\n",
       "      <td>NaN</td>\n",
       "      <td>NaN</td>\n",
       "      <td>MERCEDES</td>\n",
       "      <td>E430</td>\n",
       "      <td>NaN</td>\n",
       "      <td>7DW8271</td>\n",
       "      <td>MD</td>\n",
       "      <td>...</td>\n",
       "      <td>1970/01/01 00:00:00+00</td>\n",
       "      <td>1970/01/01 00:00:00+00</td>\n",
       "      <td>1970/01/01 00:00:00+00</td>\n",
       "      <td>1970/01/01 00:00:00+00</td>\n",
       "      <td>NaN</td>\n",
       "      <td>NaN</td>\n",
       "      <td>2020/01/03 17:25:00+00</td>\n",
       "      <td>Transferred to Pulaski Lot</td>\n",
       "      <td>0.0</td>\n",
       "      <td>3</td>\n",
       "    </tr>\n",
       "    <tr>\n",
       "      <th>1</th>\n",
       "      <td>F000002</td>\n",
       "      <td>2020/01/02 06:16:00+00</td>\n",
       "      <td>Parking Violation</td>\n",
       "      <td>NaN</td>\n",
       "      <td>NaN</td>\n",
       "      <td>TOYOTA</td>\n",
       "      <td>CAMRY</td>\n",
       "      <td>NaN</td>\n",
       "      <td>4CR5168</td>\n",
       "      <td>MD</td>\n",
       "      <td>...</td>\n",
       "      <td>1970/01/01 00:00:00+00</td>\n",
       "      <td>1970/01/01 00:00:00+00</td>\n",
       "      <td>1970/01/01 00:00:00+00</td>\n",
       "      <td>1970/01/01 00:00:00+00</td>\n",
       "      <td>NaN</td>\n",
       "      <td>NaN</td>\n",
       "      <td>2020/01/03 17:26:00+00</td>\n",
       "      <td>Transferred to Pulaski Lot</td>\n",
       "      <td>0.0</td>\n",
       "      <td>1</td>\n",
       "    </tr>\n",
       "    <tr>\n",
       "      <th>2</th>\n",
       "      <td>F000003</td>\n",
       "      <td>2020/01/02 07:27:00+00</td>\n",
       "      <td>Parking Violation</td>\n",
       "      <td>NaN</td>\n",
       "      <td>18</td>\n",
       "      <td>TOYOTA</td>\n",
       "      <td>SIENNA</td>\n",
       "      <td>NaN</td>\n",
       "      <td>GHYG21</td>\n",
       "      <td>FL</td>\n",
       "      <td>...</td>\n",
       "      <td>1970/01/01 00:00:00+00</td>\n",
       "      <td>1970/01/01 00:00:00+00</td>\n",
       "      <td>1970/01/01 00:00:00+00</td>\n",
       "      <td>1970/01/01 00:00:00+00</td>\n",
       "      <td>NaN</td>\n",
       "      <td>NaN</td>\n",
       "      <td>2020/01/03 18:49:00+00</td>\n",
       "      <td>Transferred to Pulaski Lot</td>\n",
       "      <td>0.0</td>\n",
       "      <td>2</td>\n",
       "    </tr>\n",
       "    <tr>\n",
       "      <th>3</th>\n",
       "      <td>F000004</td>\n",
       "      <td>2020/01/02 07:40:00+00</td>\n",
       "      <td>Parking Violation</td>\n",
       "      <td>NaN</td>\n",
       "      <td>NaN</td>\n",
       "      <td>HONDA</td>\n",
       "      <td>CIVIC</td>\n",
       "      <td>NaN</td>\n",
       "      <td>178842T</td>\n",
       "      <td>MD</td>\n",
       "      <td>...</td>\n",
       "      <td>1970/01/01 00:00:00+00</td>\n",
       "      <td>1970/01/01 00:00:00+00</td>\n",
       "      <td>1970/01/01 00:00:00+00</td>\n",
       "      <td>1970/01/01 00:00:00+00</td>\n",
       "      <td>NaN</td>\n",
       "      <td>NaN</td>\n",
       "      <td>2020/01/02 17:59:00+00</td>\n",
       "      <td>Release to Owner</td>\n",
       "      <td>282.0</td>\n",
       "      <td>4</td>\n",
       "    </tr>\n",
       "    <tr>\n",
       "      <th>4</th>\n",
       "      <td>F000005</td>\n",
       "      <td>2020/01/02 07:25:00+00</td>\n",
       "      <td>Parking Violation</td>\n",
       "      <td>NaN</td>\n",
       "      <td>18</td>\n",
       "      <td>HYUNDAI</td>\n",
       "      <td>IONIQ</td>\n",
       "      <td>NaN</td>\n",
       "      <td>9AM1575</td>\n",
       "      <td>MD</td>\n",
       "      <td>...</td>\n",
       "      <td>1970/01/01 00:00:00+00</td>\n",
       "      <td>1970/01/01 00:00:00+00</td>\n",
       "      <td>1970/01/01 00:00:00+00</td>\n",
       "      <td>1970/01/01 00:00:00+00</td>\n",
       "      <td>NaN</td>\n",
       "      <td>NaN</td>\n",
       "      <td>2020/01/02 11:14:00+00</td>\n",
       "      <td>Release to Owner</td>\n",
       "      <td>272.0</td>\n",
       "      <td>5</td>\n",
       "    </tr>\n",
       "  </tbody>\n",
       "</table>\n",
       "<p>5 rows × 40 columns</p>\n",
       "</div>"
      ],
      "text/plain": [
       "  PropertyNumber           TowedDateTime         PickupType VehicleType  \\\n",
       "0        F000001  2020/01/02 05:57:00+00  Parking Violation         NaN   \n",
       "1        F000002  2020/01/02 06:16:00+00  Parking Violation         NaN   \n",
       "2        F000003  2020/01/02 07:27:00+00  Parking Violation         NaN   \n",
       "3        F000004  2020/01/02 07:40:00+00  Parking Violation         NaN   \n",
       "4        F000005  2020/01/02 07:25:00+00  Parking Violation         NaN   \n",
       "\n",
       "  VehicleYear VehicleMake VehicleModel VehicleColor TagNumber TagState  ...  \\\n",
       "0         NaN    MERCEDES         E430          NaN   7DW8271       MD  ...   \n",
       "1         NaN      TOYOTA        CAMRY          NaN   4CR5168       MD  ...   \n",
       "2          18      TOYOTA       SIENNA          NaN    GHYG21       FL  ...   \n",
       "3         NaN       HONDA        CIVIC          NaN   178842T       MD  ...   \n",
       "4          18     HYUNDAI        IONIQ          NaN   9AM1575       MD  ...   \n",
       "\n",
       "             HoldDateTime    HoldReleasedDateTime  HoldReleasedNotifyDate  \\\n",
       "0  1970/01/01 00:00:00+00  1970/01/01 00:00:00+00  1970/01/01 00:00:00+00   \n",
       "1  1970/01/01 00:00:00+00  1970/01/01 00:00:00+00  1970/01/01 00:00:00+00   \n",
       "2  1970/01/01 00:00:00+00  1970/01/01 00:00:00+00  1970/01/01 00:00:00+00   \n",
       "3  1970/01/01 00:00:00+00  1970/01/01 00:00:00+00  1970/01/01 00:00:00+00   \n",
       "4  1970/01/01 00:00:00+00  1970/01/01 00:00:00+00  1970/01/01 00:00:00+00   \n",
       "\n",
       "      RemovedFromYardDate StolenVehicleFlag Status         ReleaseDateTime  \\\n",
       "0  1970/01/01 00:00:00+00               NaN    NaN  2020/01/03 17:25:00+00   \n",
       "1  1970/01/01 00:00:00+00               NaN    NaN  2020/01/03 17:26:00+00   \n",
       "2  1970/01/01 00:00:00+00               NaN    NaN  2020/01/03 18:49:00+00   \n",
       "3  1970/01/01 00:00:00+00               NaN    NaN  2020/01/02 17:59:00+00   \n",
       "4  1970/01/01 00:00:00+00               NaN    NaN  2020/01/02 11:14:00+00   \n",
       "\n",
       "                  ReleaseType TotalPaid ESRI_OID  \n",
       "0  Transferred to Pulaski Lot       0.0        3  \n",
       "1  Transferred to Pulaski Lot       0.0        1  \n",
       "2  Transferred to Pulaski Lot       0.0        2  \n",
       "3            Release to Owner     282.0        4  \n",
       "4            Release to Owner     272.0        5  \n",
       "\n",
       "[5 rows x 40 columns]"
      ]
     },
     "execution_count": 2,
     "metadata": {},
     "output_type": "execute_result"
    }
   ],
   "source": [
    "towing_data = pandas.read_csv('https://opendata.arcgis.com/datasets/93884de333ae43118871ca47624eb31c_0.csv', low_memory=False)\n",
    "towing_data.head()"
   ]
  },
  {
   "cell_type": "code",
   "execution_count": 3,
   "metadata": {
    "colab": {
     "base_uri": "https://localhost:8080/"
    },
    "id": "S6maB9RVyMoQ",
    "outputId": "0166cb7f-d7ed-4137-d1ce-ab2ddab093b9"
   },
   "outputs": [
    {
     "data": {
      "text/plain": [
       "(259403, 40)"
      ]
     },
     "execution_count": 3,
     "metadata": {},
     "output_type": "execute_result"
    }
   ],
   "source": [
    "towing_data.shape"
   ]
  },
  {
   "cell_type": "markdown",
   "metadata": {
    "id": "mlsGKH_PyMoQ"
   },
   "source": [
    "## Clean the dataset"
   ]
  },
  {
   "cell_type": "code",
   "execution_count": 4,
   "metadata": {
    "colab": {
     "base_uri": "https://localhost:8080/"
    },
    "id": "KXNz4WgvyMoQ",
    "outputId": "ae20c215-6e19-4129-e20c-da9ea418ccaa"
   },
   "outputs": [
    {
     "data": {
      "text/plain": [
       "Index(['PropertyNumber', 'TowedDateTime', 'PickupType', 'VehicleType',\n",
       "       'VehicleYear', 'VehicleMake', 'VehicleModel', 'VehicleColor',\n",
       "       'TagNumber', 'TagState', 'TowCompany', 'TowCharge', 'TowedFromLocation',\n",
       "       'HowTowed', 'SlingUsed', 'DollyUsed', 'rollBackUsed', 'pinPulled',\n",
       "       'pinReplaced', 'WheelLift', 'Stinger', 'ReceivingDateTime',\n",
       "       'StorageYard', 'StorageLocation', 'StorageTelephone',\n",
       "       'TitleRenounciation', 'TRDateTime', 'PersonalPropRemoved',\n",
       "       'PersonalPropLeftInVehicle', 'HoldType', 'HoldDateTime',\n",
       "       'HoldReleasedDateTime', 'HoldReleasedNotifyDate', 'RemovedFromYardDate',\n",
       "       'StolenVehicleFlag', 'Status', 'ReleaseDateTime', 'ReleaseType',\n",
       "       'TotalPaid', 'ESRI_OID'],\n",
       "      dtype='object')"
      ]
     },
     "execution_count": 4,
     "metadata": {},
     "output_type": "execute_result"
    }
   ],
   "source": [
    "towing_data.columns"
   ]
  },
  {
   "cell_type": "code",
   "execution_count": 5,
   "metadata": {
    "colab": {
     "base_uri": "https://localhost:8080/"
    },
    "id": "D8KUCXUGyMoR",
    "outputId": "cd446209-daab-4231-a271-bd9518148f2b"
   },
   "outputs": [
    {
     "data": {
      "text/plain": [
       "(259403, 20)"
      ]
     },
     "execution_count": 5,
     "metadata": {},
     "output_type": "execute_result"
    }
   ],
   "source": [
    "# Drop unnecessary columns\n",
    "towing_data=towing_data.drop(columns=['VehicleColor','TagNumber','TowCharge','HowTowed','SlingUsed',\n",
    "                                      'DollyUsed','rollBackUsed','pinPulled','pinReplaced','WheelLift',\n",
    "                                      'Stinger','StorageTelephone','PersonalPropRemoved','PersonalPropLeftInVehicle',\n",
    "                                      'HoldType','HoldDateTime','HoldReleasedDateTime','HoldReleasedNotifyDate',\n",
    "                                      'TotalPaid','ESRI_OID'])\n",
    "towing_data.shape"
   ]
  },
  {
   "cell_type": "code",
   "execution_count": 6,
   "metadata": {
    "colab": {
     "base_uri": "https://localhost:8080/",
     "height": 69
    },
    "id": "O6Um4U3RyMoR",
    "outputId": "e03d0796-e2f9-45fa-8ec3-ae25ac1a9e7d"
   },
   "outputs": [
    {
     "data": {
      "text/html": [
       "<div>\n",
       "<style scoped>\n",
       "    .dataframe tbody tr th:only-of-type {\n",
       "        vertical-align: middle;\n",
       "    }\n",
       "\n",
       "    .dataframe tbody tr th {\n",
       "        vertical-align: top;\n",
       "    }\n",
       "\n",
       "    .dataframe thead th {\n",
       "        text-align: right;\n",
       "    }\n",
       "</style>\n",
       "<table border=\"1\" class=\"dataframe\">\n",
       "  <thead>\n",
       "    <tr style=\"text-align: right;\">\n",
       "      <th></th>\n",
       "      <th>PropertyNumber</th>\n",
       "      <th>TowedDateTime</th>\n",
       "      <th>PickupType</th>\n",
       "      <th>VehicleType</th>\n",
       "      <th>VehicleYear</th>\n",
       "      <th>VehicleMake</th>\n",
       "      <th>VehicleModel</th>\n",
       "      <th>TagState</th>\n",
       "      <th>TowCompany</th>\n",
       "      <th>TowedFromLocation</th>\n",
       "      <th>ReceivingDateTime</th>\n",
       "      <th>StorageYard</th>\n",
       "      <th>StorageLocation</th>\n",
       "      <th>TitleRenounciation</th>\n",
       "      <th>TRDateTime</th>\n",
       "      <th>RemovedFromYardDate</th>\n",
       "      <th>StolenVehicleFlag</th>\n",
       "      <th>Status</th>\n",
       "      <th>ReleaseDateTime</th>\n",
       "      <th>ReleaseType</th>\n",
       "    </tr>\n",
       "  </thead>\n",
       "  <tbody>\n",
       "  </tbody>\n",
       "</table>\n",
       "</div>"
      ],
      "text/plain": [
       "Empty DataFrame\n",
       "Columns: [PropertyNumber, TowedDateTime, PickupType, VehicleType, VehicleYear, VehicleMake, VehicleModel, TagState, TowCompany, TowedFromLocation, ReceivingDateTime, StorageYard, StorageLocation, TitleRenounciation, TRDateTime, RemovedFromYardDate, StolenVehicleFlag, Status, ReleaseDateTime, ReleaseType]\n",
       "Index: []"
      ]
     },
     "execution_count": 6,
     "metadata": {},
     "output_type": "execute_result"
    }
   ],
   "source": [
    "# Check for duplicates\n",
    "towing_data.loc[towing_data.duplicated()]"
   ]
  },
  {
   "cell_type": "code",
   "execution_count": 7,
   "metadata": {
    "colab": {
     "base_uri": "https://localhost:8080/",
     "height": 69
    },
    "id": "LgIoNHvTyMoR",
    "outputId": "2e63dec6-37a6-471a-fac0-da2902b87a7f"
   },
   "outputs": [
    {
     "data": {
      "text/html": [
       "<div>\n",
       "<style scoped>\n",
       "    .dataframe tbody tr th:only-of-type {\n",
       "        vertical-align: middle;\n",
       "    }\n",
       "\n",
       "    .dataframe tbody tr th {\n",
       "        vertical-align: top;\n",
       "    }\n",
       "\n",
       "    .dataframe thead th {\n",
       "        text-align: right;\n",
       "    }\n",
       "</style>\n",
       "<table border=\"1\" class=\"dataframe\">\n",
       "  <thead>\n",
       "    <tr style=\"text-align: right;\">\n",
       "      <th></th>\n",
       "      <th>PropertyNumber</th>\n",
       "      <th>TowedDateTime</th>\n",
       "      <th>PickupType</th>\n",
       "      <th>VehicleType</th>\n",
       "      <th>VehicleYear</th>\n",
       "      <th>VehicleMake</th>\n",
       "      <th>VehicleModel</th>\n",
       "      <th>TagState</th>\n",
       "      <th>TowCompany</th>\n",
       "      <th>TowedFromLocation</th>\n",
       "      <th>ReceivingDateTime</th>\n",
       "      <th>StorageYard</th>\n",
       "      <th>StorageLocation</th>\n",
       "      <th>TitleRenounciation</th>\n",
       "      <th>TRDateTime</th>\n",
       "      <th>RemovedFromYardDate</th>\n",
       "      <th>StolenVehicleFlag</th>\n",
       "      <th>Status</th>\n",
       "      <th>ReleaseDateTime</th>\n",
       "      <th>ReleaseType</th>\n",
       "    </tr>\n",
       "  </thead>\n",
       "  <tbody>\n",
       "  </tbody>\n",
       "</table>\n",
       "</div>"
      ],
      "text/plain": [
       "Empty DataFrame\n",
       "Columns: [PropertyNumber, TowedDateTime, PickupType, VehicleType, VehicleYear, VehicleMake, VehicleModel, TagState, TowCompany, TowedFromLocation, ReceivingDateTime, StorageYard, StorageLocation, TitleRenounciation, TRDateTime, RemovedFromYardDate, StolenVehicleFlag, Status, ReleaseDateTime, ReleaseType]\n",
       "Index: []"
      ]
     },
     "execution_count": 7,
     "metadata": {},
     "output_type": "execute_result"
    }
   ],
   "source": [
    "# Check for missing dates\n",
    "towing_data.loc[towing_data['TowedDateTime'].isna()]"
   ]
  },
  {
   "cell_type": "markdown",
   "metadata": {
    "id": "SkrzXI9azZeI"
   },
   "source": [
    "There are no duplicates and no missing dates."
   ]
  },
  {
   "cell_type": "markdown",
   "metadata": {
    "id": "VPY_tWLIyMoS"
   },
   "source": [
    "## Clean the times column and extract relevant information from timestamps"
   ]
  },
  {
   "cell_type": "code",
   "execution_count": 8,
   "metadata": {
    "colab": {
     "base_uri": "https://localhost:8080/"
    },
    "id": "CaB7vwnfyMoS",
    "outputId": "7878335c-af2a-44ba-b3ff-e194c10f1e91"
   },
   "outputs": [
    {
     "data": {
      "text/plain": [
       "0         1970/01/01 00:00:00+00\n",
       "1         1970/01/01 00:00:00+00\n",
       "2         1970/01/01 00:00:00+00\n",
       "3         1970/01/01 00:00:00+00\n",
       "4         1970/01/01 00:00:00+00\n",
       "                   ...          \n",
       "259398    2021/04/03 04:00:00+00\n",
       "259399    2021/04/03 04:14:00+00\n",
       "259400    2110/01/14 23:09:00+00\n",
       "259401    2418/04/15 23:15:00+00\n",
       "259402    5019/07/09 14:23:00+00\n",
       "Name: TowedDateTime, Length: 259403, dtype: object"
      ]
     },
     "execution_count": 8,
     "metadata": {},
     "output_type": "execute_result"
    }
   ],
   "source": [
    "# Examine the towing dates and times\n",
    "times = towing_data['TowedDateTime'].sort_values().reset_index(drop=True)\n",
    "times"
   ]
  },
  {
   "cell_type": "code",
   "execution_count": 9,
   "metadata": {
    "colab": {
     "base_uri": "https://localhost:8080/"
    },
    "id": "IwxPjHW5yMoS",
    "outputId": "994b288d-5850-4103-e8d7-cb110f4a7b2b"
   },
   "outputs": [
    {
     "data": {
      "text/plain": [
       "str"
      ]
     },
     "execution_count": 9,
     "metadata": {},
     "output_type": "execute_result"
    }
   ],
   "source": [
    "type(times[0])"
   ]
  },
  {
   "cell_type": "code",
   "execution_count": 10,
   "metadata": {
    "colab": {
     "base_uri": "https://localhost:8080/"
    },
    "id": "vuZ6QMW4yMoT",
    "outputId": "8f16ad06-30bb-4924-918e-7f7daf059e29"
   },
   "outputs": [
    {
     "data": {
      "text/plain": [
       "(33, 20)"
      ]
     },
     "execution_count": 10,
     "metadata": {},
     "output_type": "execute_result"
    }
   ],
   "source": [
    "# The dates were parsed as strings. Find where the dates are missing.\n",
    "missing_dates = towing_data.loc[towing_data['TowedDateTime']=='1970/01/01 00:00:00+00']\n",
    "missing_dates.shape"
   ]
  },
  {
   "cell_type": "code",
   "execution_count": 11,
   "metadata": {
    "colab": {
     "base_uri": "https://localhost:8080/"
    },
    "id": "tkp5XXmgyMoT",
    "outputId": "21cafa39-c865-495a-c66e-64dd1a764fb2"
   },
   "outputs": [
    {
     "data": {
      "text/plain": [
       "(259370, 20)"
      ]
     },
     "execution_count": 11,
     "metadata": {},
     "output_type": "execute_result"
    }
   ],
   "source": [
    "# There are only 33 records where the date is missing or improperly formatted. Drop these records\n",
    "towing_data = towing_data.loc[towing_data['TowedDateTime']!='1970/01/01 00:00:00+00']\n",
    "towing_data.shape"
   ]
  },
  {
   "cell_type": "code",
   "execution_count": 12,
   "metadata": {
    "colab": {
     "base_uri": "https://localhost:8080/"
    },
    "id": "aMwlPqOnyMoT",
    "outputId": "cf16a4d1-bd50-4042-9d5b-b61abc0da7b9"
   },
   "outputs": [
    {
     "data": {
      "text/plain": [
       "0    2110/01/14 23:09:00+00\n",
       "1    2418/04/15 23:15:00+00\n",
       "2    5019/07/09 14:23:00+00\n",
       "Name: TowedDateTime, dtype: object"
      ]
     },
     "execution_count": 12,
     "metadata": {},
     "output_type": "execute_result"
    }
   ],
   "source": [
    "# Three records have the years entered incorrectly. Fix these records.\n",
    "incorrect_times = times.tail(3).reset_index(drop=True)\n",
    "incorrect_times"
   ]
  },
  {
   "cell_type": "code",
   "execution_count": 13,
   "metadata": {
    "colab": {
     "base_uri": "https://localhost:8080/"
    },
    "id": "xLuUrwXqyMoU",
    "outputId": "99d26fe3-bc3f-4940-fd5a-03425790980a"
   },
   "outputs": [
    {
     "data": {
      "text/plain": [
       "0    2010/01/14 23:09:00+00\n",
       "1    2018/04/15 23:15:00+00\n",
       "2    2019/07/09 14:23:00+00\n",
       "dtype: object"
      ]
     },
     "execution_count": 13,
     "metadata": {},
     "output_type": "execute_result"
    }
   ],
   "source": [
    "# Use string slicing on each date to fix the incorrect digits\n",
    "correct_times = []\n",
    "correct_times.append(incorrect_times[0][0]+'0'+incorrect_times[0][2:])\n",
    "correct_times.append(incorrect_times[1][0]+'0'+incorrect_times[1][2:])\n",
    "correct_times.append('2'+incorrect_times[2][1:])\n",
    "\n",
    "correct_times = pandas.Series(correct_times)\n",
    "correct_times"
   ]
  },
  {
   "cell_type": "code",
   "execution_count": 14,
   "metadata": {
    "id": "UlOYBc2syMoU"
   },
   "outputs": [],
   "source": [
    "# Replace the incorrect dates with the corrected ones\n",
    "towing_data = towing_data.replace({incorrect_times[0]:correct_times[0],incorrect_times[1]:correct_times[1],\n",
    "                                   incorrect_times[2]:correct_times[2]})"
   ]
  },
  {
   "cell_type": "code",
   "execution_count": 15,
   "metadata": {
    "colab": {
     "base_uri": "https://localhost:8080/"
    },
    "id": "Jat7PqdZyMoU",
    "outputId": "9ae9cb58-4509-4d9a-d882-7aebe54dfda5"
   },
   "outputs": [
    {
     "data": {
      "text/plain": [
       "49253     2010/01/01 00:00:00+00\n",
       "49255     2010/01/01 00:02:00+00\n",
       "49254     2010/01/01 00:30:00+00\n",
       "49257     2010/01/01 01:26:00+00\n",
       "49256     2010/01/01 01:30:00+00\n",
       "                   ...          \n",
       "259374    2021/04/03 01:07:00+00\n",
       "259377    2021/04/03 01:37:00+00\n",
       "259378    2021/04/03 03:45:00+00\n",
       "259379    2021/04/03 04:00:00+00\n",
       "259380    2021/04/03 04:14:00+00\n",
       "Name: TowedDateTime, Length: 259370, dtype: object"
      ]
     },
     "execution_count": 15,
     "metadata": {},
     "output_type": "execute_result"
    }
   ],
   "source": [
    "# Check the times to see if the years make sense\n",
    "times = towing_data['TowedDateTime'].sort_values()\n",
    "times"
   ]
  },
  {
   "cell_type": "code",
   "execution_count": 16,
   "metadata": {
    "id": "dSOV6389yMoU"
   },
   "outputs": [],
   "source": [
    "# Extract the year and the day of week from the timestamps and add to the dataframe\n",
    "timestamps = pandas.to_datetime(towing_data['TowedDateTime'])\n",
    "towing_data['Year'] = timestamps.dt.year\n",
    "towing_data['DayOfWeek'] = timestamps.dt.dayofweek\n",
    "towing_data['DayOfWeek_Name'] = timestamps.dt.day_name()"
   ]
  },
  {
   "cell_type": "markdown",
   "metadata": {
    "id": "yJx36JRKyMoV"
   },
   "source": [
    "## Clean the pickup type data"
   ]
  },
  {
   "cell_type": "code",
   "execution_count": 17,
   "metadata": {
    "colab": {
     "base_uri": "https://localhost:8080/",
     "height": 561
    },
    "id": "zE7eIMdCyMoV",
    "outputId": "bc9a222f-f4bc-4c72-f12b-9783d010844e"
   },
   "outputs": [
    {
     "data": {
      "text/html": [
       "<div>\n",
       "<style scoped>\n",
       "    .dataframe tbody tr th:only-of-type {\n",
       "        vertical-align: middle;\n",
       "    }\n",
       "\n",
       "    .dataframe tbody tr th {\n",
       "        vertical-align: top;\n",
       "    }\n",
       "\n",
       "    .dataframe thead th {\n",
       "        text-align: right;\n",
       "    }\n",
       "</style>\n",
       "<table border=\"1\" class=\"dataframe\">\n",
       "  <thead>\n",
       "    <tr style=\"text-align: right;\">\n",
       "      <th></th>\n",
       "      <th>PropertyNumber</th>\n",
       "      <th>TowedDateTime</th>\n",
       "      <th>PickupType</th>\n",
       "      <th>VehicleType</th>\n",
       "      <th>VehicleYear</th>\n",
       "      <th>VehicleMake</th>\n",
       "      <th>VehicleModel</th>\n",
       "      <th>TagState</th>\n",
       "      <th>TowCompany</th>\n",
       "      <th>TowedFromLocation</th>\n",
       "      <th>...</th>\n",
       "      <th>TitleRenounciation</th>\n",
       "      <th>TRDateTime</th>\n",
       "      <th>RemovedFromYardDate</th>\n",
       "      <th>StolenVehicleFlag</th>\n",
       "      <th>Status</th>\n",
       "      <th>ReleaseDateTime</th>\n",
       "      <th>ReleaseType</th>\n",
       "      <th>Year</th>\n",
       "      <th>DayOfWeek</th>\n",
       "      <th>DayOfWeek_Name</th>\n",
       "    </tr>\n",
       "  </thead>\n",
       "  <tbody>\n",
       "    <tr>\n",
       "      <th>81733</th>\n",
       "      <td>P223002</td>\n",
       "      <td>2011/08/19 09:19:00+00</td>\n",
       "      <td>NaN</td>\n",
       "      <td>Car</td>\n",
       "      <td>99</td>\n",
       "      <td>Acura</td>\n",
       "      <td>3.5 RL</td>\n",
       "      <td>MD</td>\n",
       "      <td>Aarons Automotive Services</td>\n",
       "      <td>1000 E Madison St</td>\n",
       "      <td>...</td>\n",
       "      <td>0.0</td>\n",
       "      <td>1970/01/01 00:00:00+00</td>\n",
       "      <td>2011/08/20 00:00:00+00</td>\n",
       "      <td>0.0</td>\n",
       "      <td>Released</td>\n",
       "      <td>2011/08/20 11:18:00+00</td>\n",
       "      <td>Reclaimed by Owner</td>\n",
       "      <td>2011</td>\n",
       "      <td>4</td>\n",
       "      <td>Friday</td>\n",
       "    </tr>\n",
       "    <tr>\n",
       "      <th>131242</th>\n",
       "      <td>P272545</td>\n",
       "      <td>2014/02/23 08:07:00+00</td>\n",
       "      <td>NaN</td>\n",
       "      <td>Car</td>\n",
       "      <td>04</td>\n",
       "      <td>Kia</td>\n",
       "      <td>Spectra</td>\n",
       "      <td>MD</td>\n",
       "      <td>Frankford Towing, Inc.</td>\n",
       "      <td>100  Madison Ave</td>\n",
       "      <td>...</td>\n",
       "      <td>0.0</td>\n",
       "      <td>1970/01/01 00:00:00+00</td>\n",
       "      <td>2014/02/28 00:00:00+00</td>\n",
       "      <td>0.0</td>\n",
       "      <td>Released</td>\n",
       "      <td>2014/02/28 14:10:00+00</td>\n",
       "      <td>Reclaimed by Owner</td>\n",
       "      <td>2014</td>\n",
       "      <td>6</td>\n",
       "      <td>Sunday</td>\n",
       "    </tr>\n",
       "    <tr>\n",
       "      <th>203658</th>\n",
       "      <td>P345015</td>\n",
       "      <td>2017/07/31 19:55:00+00</td>\n",
       "      <td>NaN</td>\n",
       "      <td>Scooter</td>\n",
       "      <td>05</td>\n",
       "      <td>Vento</td>\n",
       "      <td>NaN</td>\n",
       "      <td>NaN</td>\n",
       "      <td>Universal Towing LLC</td>\n",
       "      <td>1200 W Pratt St</td>\n",
       "      <td>...</td>\n",
       "      <td>0.0</td>\n",
       "      <td>1970/01/01 00:00:00+00</td>\n",
       "      <td>2019/07/22 00:00:00+00</td>\n",
       "      <td>0.0</td>\n",
       "      <td>Active</td>\n",
       "      <td>2019/07/22 14:43:00+00</td>\n",
       "      <td>Destroyed (No VIN)</td>\n",
       "      <td>2017</td>\n",
       "      <td>0</td>\n",
       "      <td>Monday</td>\n",
       "    </tr>\n",
       "    <tr>\n",
       "      <th>209776</th>\n",
       "      <td>P351135</td>\n",
       "      <td>2017/11/08 13:19:00+00</td>\n",
       "      <td>NaN</td>\n",
       "      <td>Car</td>\n",
       "      <td>00</td>\n",
       "      <td>Ford</td>\n",
       "      <td>Focus</td>\n",
       "      <td>NaN</td>\n",
       "      <td>City</td>\n",
       "      <td>2800  Pulaski Highway</td>\n",
       "      <td>...</td>\n",
       "      <td>0.0</td>\n",
       "      <td>1970/01/01 00:00:00+00</td>\n",
       "      <td>2018/02/28 00:00:00+00</td>\n",
       "      <td>0.0</td>\n",
       "      <td>Auctioned</td>\n",
       "      <td>2018/02/28 08:00:00+00</td>\n",
       "      <td>Auctioned</td>\n",
       "      <td>2017</td>\n",
       "      <td>2</td>\n",
       "      <td>Wednesday</td>\n",
       "    </tr>\n",
       "    <tr>\n",
       "      <th>239126</th>\n",
       "      <td>P380502</td>\n",
       "      <td>2019/06/10 02:41:00+00</td>\n",
       "      <td>NaN</td>\n",
       "      <td>Convertible</td>\n",
       "      <td>04</td>\n",
       "      <td>Volkswagon</td>\n",
       "      <td>Beetle</td>\n",
       "      <td>MD</td>\n",
       "      <td>City</td>\n",
       "      <td>2603  Shirley Ave</td>\n",
       "      <td>...</td>\n",
       "      <td>0.0</td>\n",
       "      <td>1970/01/01 00:00:00+00</td>\n",
       "      <td>2019/09/11 00:00:00+00</td>\n",
       "      <td>0.0</td>\n",
       "      <td>Auctioned</td>\n",
       "      <td>2019/09/11 08:00:00+00</td>\n",
       "      <td>Auctioned</td>\n",
       "      <td>2019</td>\n",
       "      <td>0</td>\n",
       "      <td>Monday</td>\n",
       "    </tr>\n",
       "    <tr>\n",
       "      <th>243029</th>\n",
       "      <td>P384411</td>\n",
       "      <td>2019/09/26 17:32:00+00</td>\n",
       "      <td>NaN</td>\n",
       "      <td>Van</td>\n",
       "      <td>95</td>\n",
       "      <td>Ford</td>\n",
       "      <td>Explorer</td>\n",
       "      <td>MD</td>\n",
       "      <td>City</td>\n",
       "      <td>0</td>\n",
       "      <td>...</td>\n",
       "      <td>0.0</td>\n",
       "      <td>1970/01/01 00:00:00+00</td>\n",
       "      <td>2020/02/26 00:00:00+00</td>\n",
       "      <td>0.0</td>\n",
       "      <td>Auctioned</td>\n",
       "      <td>2020/02/26 08:00:00+00</td>\n",
       "      <td>Auctioned</td>\n",
       "      <td>2019</td>\n",
       "      <td>3</td>\n",
       "      <td>Thursday</td>\n",
       "    </tr>\n",
       "  </tbody>\n",
       "</table>\n",
       "<p>6 rows × 23 columns</p>\n",
       "</div>"
      ],
      "text/plain": [
       "       PropertyNumber           TowedDateTime PickupType  VehicleType  \\\n",
       "81733         P223002  2011/08/19 09:19:00+00        NaN          Car   \n",
       "131242        P272545  2014/02/23 08:07:00+00        NaN          Car   \n",
       "203658        P345015  2017/07/31 19:55:00+00        NaN      Scooter   \n",
       "209776        P351135  2017/11/08 13:19:00+00        NaN          Car   \n",
       "239126        P380502  2019/06/10 02:41:00+00        NaN  Convertible   \n",
       "243029        P384411  2019/09/26 17:32:00+00        NaN          Van   \n",
       "\n",
       "       VehicleYear VehicleMake VehicleModel TagState  \\\n",
       "81733           99       Acura       3.5 RL       MD   \n",
       "131242          04         Kia      Spectra       MD   \n",
       "203658          05       Vento          NaN      NaN   \n",
       "209776          00        Ford        Focus      NaN   \n",
       "239126          04  Volkswagon       Beetle       MD   \n",
       "243029          95        Ford     Explorer       MD   \n",
       "\n",
       "                        TowCompany       TowedFromLocation  ...  \\\n",
       "81733   Aarons Automotive Services       1000 E Madison St  ...   \n",
       "131242      Frankford Towing, Inc.       100  Madison Ave   ...   \n",
       "203658        Universal Towing LLC        1200 W Pratt St   ...   \n",
       "209776                        City  2800  Pulaski Highway   ...   \n",
       "239126                        City       2603  Shirley Ave  ...   \n",
       "243029                        City                    0     ...   \n",
       "\n",
       "       TitleRenounciation              TRDateTime     RemovedFromYardDate  \\\n",
       "81733                 0.0  1970/01/01 00:00:00+00  2011/08/20 00:00:00+00   \n",
       "131242                0.0  1970/01/01 00:00:00+00  2014/02/28 00:00:00+00   \n",
       "203658                0.0  1970/01/01 00:00:00+00  2019/07/22 00:00:00+00   \n",
       "209776                0.0  1970/01/01 00:00:00+00  2018/02/28 00:00:00+00   \n",
       "239126                0.0  1970/01/01 00:00:00+00  2019/09/11 00:00:00+00   \n",
       "243029                0.0  1970/01/01 00:00:00+00  2020/02/26 00:00:00+00   \n",
       "\n",
       "        StolenVehicleFlag     Status         ReleaseDateTime  \\\n",
       "81733                 0.0   Released  2011/08/20 11:18:00+00   \n",
       "131242                0.0   Released  2014/02/28 14:10:00+00   \n",
       "203658                0.0     Active  2019/07/22 14:43:00+00   \n",
       "209776                0.0  Auctioned  2018/02/28 08:00:00+00   \n",
       "239126                0.0  Auctioned  2019/09/11 08:00:00+00   \n",
       "243029                0.0  Auctioned  2020/02/26 08:00:00+00   \n",
       "\n",
       "               ReleaseType  Year DayOfWeek DayOfWeek_Name  \n",
       "81733   Reclaimed by Owner  2011         4         Friday  \n",
       "131242  Reclaimed by Owner  2014         6         Sunday  \n",
       "203658  Destroyed (No VIN)  2017         0         Monday  \n",
       "209776           Auctioned  2017         2      Wednesday  \n",
       "239126           Auctioned  2019         0         Monday  \n",
       "243029           Auctioned  2019         3       Thursday  \n",
       "\n",
       "[6 rows x 23 columns]"
      ]
     },
     "execution_count": 17,
     "metadata": {},
     "output_type": "execute_result"
    }
   ],
   "source": [
    "# Check for missing values for pickup type\n",
    "towing_data.loc[towing_data['PickupType'].isna()]"
   ]
  },
  {
   "cell_type": "markdown",
   "metadata": {
    "id": "W7wanAwv0fpA"
   },
   "source": [
    "There are only six missing values. These rows will be excluded from the analysis with little effect."
   ]
  },
  {
   "cell_type": "code",
   "execution_count": 18,
   "metadata": {
    "colab": {
     "base_uri": "https://localhost:8080/",
     "height": 917
    },
    "id": "gJxh6dXWyMoV",
    "outputId": "16fe87d0-4784-4546-8f60-d06708d22b6b"
   },
   "outputs": [
    {
     "data": {
      "text/html": [
       "<div>\n",
       "<style scoped>\n",
       "    .dataframe tbody tr th:only-of-type {\n",
       "        vertical-align: middle;\n",
       "    }\n",
       "\n",
       "    .dataframe tbody tr th {\n",
       "        vertical-align: top;\n",
       "    }\n",
       "\n",
       "    .dataframe thead th {\n",
       "        text-align: right;\n",
       "    }\n",
       "</style>\n",
       "<table border=\"1\" class=\"dataframe\">\n",
       "  <thead>\n",
       "    <tr style=\"text-align: right;\">\n",
       "      <th></th>\n",
       "      <th>index</th>\n",
       "      <th>PickupType</th>\n",
       "    </tr>\n",
       "  </thead>\n",
       "  <tbody>\n",
       "    <tr>\n",
       "      <th>0</th>\n",
       "      <td>Police Action (Misc.)</td>\n",
       "      <td>52847</td>\n",
       "    </tr>\n",
       "    <tr>\n",
       "      <th>1</th>\n",
       "      <td>Parking Violation</td>\n",
       "      <td>49241</td>\n",
       "    </tr>\n",
       "    <tr>\n",
       "      <th>2</th>\n",
       "      <td>Stolen Recovered</td>\n",
       "      <td>29271</td>\n",
       "    </tr>\n",
       "    <tr>\n",
       "      <th>3</th>\n",
       "      <td>Accident</td>\n",
       "      <td>29154</td>\n",
       "    </tr>\n",
       "    <tr>\n",
       "      <th>4</th>\n",
       "      <td>Abandoned (Towed by City)</td>\n",
       "      <td>20341</td>\n",
       "    </tr>\n",
       "    <tr>\n",
       "      <th>5</th>\n",
       "      <td>Scofflaw</td>\n",
       "      <td>19792</td>\n",
       "    </tr>\n",
       "    <tr>\n",
       "      <th>6</th>\n",
       "      <td>Accident (Owner/Operator Hospitalized)</td>\n",
       "      <td>16179</td>\n",
       "    </tr>\n",
       "    <tr>\n",
       "      <th>7</th>\n",
       "      <td>Police Action (Arrest of Operator)</td>\n",
       "      <td>13404</td>\n",
       "    </tr>\n",
       "    <tr>\n",
       "      <th>8</th>\n",
       "      <td>Police Action (Narcotic)</td>\n",
       "      <td>10649</td>\n",
       "    </tr>\n",
       "    <tr>\n",
       "      <th>9</th>\n",
       "      <td>Impound (Illegal Parking)</td>\n",
       "      <td>8139</td>\n",
       "    </tr>\n",
       "    <tr>\n",
       "      <th>10</th>\n",
       "      <td>Burns</td>\n",
       "      <td>2917</td>\n",
       "    </tr>\n",
       "    <tr>\n",
       "      <th>11</th>\n",
       "      <td>Abandoned (Towed by Private Tower)</td>\n",
       "      <td>2609</td>\n",
       "    </tr>\n",
       "    <tr>\n",
       "      <th>12</th>\n",
       "      <td>Police Action</td>\n",
       "      <td>2144</td>\n",
       "    </tr>\n",
       "    <tr>\n",
       "      <th>13</th>\n",
       "      <td>ACCIDENT</td>\n",
       "      <td>581</td>\n",
       "    </tr>\n",
       "    <tr>\n",
       "      <th>14</th>\n",
       "      <td>Relocate</td>\n",
       "      <td>441</td>\n",
       "    </tr>\n",
       "    <tr>\n",
       "      <th>15</th>\n",
       "      <td>STOLEN POLICE HOLD</td>\n",
       "      <td>437</td>\n",
       "    </tr>\n",
       "    <tr>\n",
       "      <th>16</th>\n",
       "      <td>street cleaning</td>\n",
       "      <td>215</td>\n",
       "    </tr>\n",
       "    <tr>\n",
       "      <th>17</th>\n",
       "      <td>Stolen Recovered (Car Jacking Victim)</td>\n",
       "      <td>182</td>\n",
       "    </tr>\n",
       "    <tr>\n",
       "      <th>18</th>\n",
       "      <td>Accident (Death of Operator)</td>\n",
       "      <td>147</td>\n",
       "    </tr>\n",
       "    <tr>\n",
       "      <th>19</th>\n",
       "      <td>Impound/Scofflaw</td>\n",
       "      <td>138</td>\n",
       "    </tr>\n",
       "    <tr>\n",
       "      <th>20</th>\n",
       "      <td>Police Action (Victim of Crime)</td>\n",
       "      <td>116</td>\n",
       "    </tr>\n",
       "    <tr>\n",
       "      <th>21</th>\n",
       "      <td>Police Action (Death of Operator)</td>\n",
       "      <td>104</td>\n",
       "    </tr>\n",
       "    <tr>\n",
       "      <th>22</th>\n",
       "      <td>Commercial Vehicle Restriction</td>\n",
       "      <td>100</td>\n",
       "    </tr>\n",
       "    <tr>\n",
       "      <th>23</th>\n",
       "      <td>Police Action (Serial Number Violation)</td>\n",
       "      <td>86</td>\n",
       "    </tr>\n",
       "    <tr>\n",
       "      <th>24</th>\n",
       "      <td>Remove Abandoned Vehicles Everywhere (Voluntary)</td>\n",
       "      <td>83</td>\n",
       "    </tr>\n",
       "    <tr>\n",
       "      <th>25</th>\n",
       "      <td>misc holds</td>\n",
       "      <td>36</td>\n",
       "    </tr>\n",
       "    <tr>\n",
       "      <th>26</th>\n",
       "      <td>Street cleaning</td>\n",
       "      <td>10</td>\n",
       "    </tr>\n",
       "    <tr>\n",
       "      <th>27</th>\n",
       "      <td>Disabled</td>\n",
       "      <td>1</td>\n",
       "    </tr>\n",
       "  </tbody>\n",
       "</table>\n",
       "</div>"
      ],
      "text/plain": [
       "                                               index  PickupType\n",
       "0                             Police Action (Misc.)        52847\n",
       "1                                  Parking Violation       49241\n",
       "2                                   Stolen Recovered       29271\n",
       "3                                           Accident       29154\n",
       "4                          Abandoned (Towed by City)       20341\n",
       "5                                           Scofflaw       19792\n",
       "6             Accident (Owner/Operator Hospitalized)       16179\n",
       "7                 Police Action (Arrest of Operator)       13404\n",
       "8                           Police Action (Narcotic)       10649\n",
       "9                          Impound (Illegal Parking)        8139\n",
       "10                                             Burns        2917\n",
       "11                Abandoned (Towed by Private Tower)        2609\n",
       "12                                     Police Action        2144\n",
       "13                                         ACCIDENT          581\n",
       "14                                          Relocate         441\n",
       "15                                STOLEN POLICE HOLD         437\n",
       "16                                   street cleaning         215\n",
       "17             Stolen Recovered (Car Jacking Victim)         182\n",
       "18                      Accident (Death of Operator)         147\n",
       "19                                  Impound/Scofflaw         138\n",
       "20                   Police Action (Victim of Crime)         116\n",
       "21                 Police Action (Death of Operator)         104\n",
       "22                    Commercial Vehicle Restriction         100\n",
       "23           Police Action (Serial Number Violation)          86\n",
       "24  Remove Abandoned Vehicles Everywhere (Voluntary)          83\n",
       "25                                        misc holds          36\n",
       "26                                   Street cleaning          10\n",
       "27                                          Disabled           1"
      ]
     },
     "execution_count": 18,
     "metadata": {},
     "output_type": "execute_result"
    }
   ],
   "source": [
    "# Count the number of tows for each pickup type\n",
    "pickup_types = towing_data['PickupType'].value_counts().to_frame().reset_index()\n",
    "pickup_types"
   ]
  },
  {
   "cell_type": "code",
   "execution_count": 19,
   "metadata": {
    "id": "3ifC3AMlyMoW"
   },
   "outputs": [],
   "source": [
    "pickup_types = pickup_types.rename(columns={'index':'Type','PickupType':'Count'})"
   ]
  },
  {
   "cell_type": "code",
   "execution_count": 20,
   "metadata": {
    "id": "7LCljWoDyMoW"
   },
   "outputs": [],
   "source": [
    "# Consolidate similar reasons into the same category \n",
    "# example: different types of police holds will all become Police Hold\n",
    "accidents = []\n",
    "police_actions = []\n",
    "abandoned = []\n",
    "stolen = []\n",
    "\n",
    "for pickup_type in pickup_types['Type']:\n",
    "    if pickup_type.startswith('Accident'):\n",
    "        accidents.append(pickup_type)\n",
    "    elif pickup_type.startswith('Police Action'):\n",
    "        police_actions.append(pickup_type)\n",
    "    elif pickup_type.startswith('Abandoned'):\n",
    "        abandoned.append(pickup_type)\n",
    "    elif pickup_type.startswith('Stolen Recovered'):\n",
    "        stolen.append(pickup_type)"
   ]
  },
  {
   "cell_type": "code",
   "execution_count": 21,
   "metadata": {
    "id": "bR8V9V2cyMoW"
   },
   "outputs": [],
   "source": [
    "# Replace similar pickup types with the corresponding general type\n",
    "towing_data = towing_data.replace(accidents, 'Accident')\n",
    "towing_data = towing_data.replace(police_actions, 'Police Action')\n",
    "towing_data = towing_data.replace(abandoned, 'Abandoned')\n",
    "towing_data = towing_data.replace(stolen, 'Stolen Recovered')"
   ]
  },
  {
   "cell_type": "code",
   "execution_count": 22,
   "metadata": {
    "id": "mdRHBWMMyMoW"
   },
   "outputs": [],
   "source": [
    "towing_data = towing_data.replace({'Impound (Illegal Parking)':'Parking Violation','ACCIDENT':'Accident', \n",
    "                                   'STOLEN POLICE HOLD':'Stolen Police Hold'})"
   ]
  },
  {
   "cell_type": "code",
   "execution_count": 23,
   "metadata": {
    "colab": {
     "base_uri": "https://localhost:8080/",
     "height": 576
    },
    "id": "reXs_pVTyMoW",
    "outputId": "652f1d27-56aa-4ad2-d98d-6593b2aea55d"
   },
   "outputs": [
    {
     "data": {
      "text/html": [
       "<div>\n",
       "<style scoped>\n",
       "    .dataframe tbody tr th:only-of-type {\n",
       "        vertical-align: middle;\n",
       "    }\n",
       "\n",
       "    .dataframe tbody tr th {\n",
       "        vertical-align: top;\n",
       "    }\n",
       "\n",
       "    .dataframe thead th {\n",
       "        text-align: right;\n",
       "    }\n",
       "</style>\n",
       "<table border=\"1\" class=\"dataframe\">\n",
       "  <thead>\n",
       "    <tr style=\"text-align: right;\">\n",
       "      <th></th>\n",
       "      <th>index</th>\n",
       "      <th>PickupType</th>\n",
       "    </tr>\n",
       "  </thead>\n",
       "  <tbody>\n",
       "    <tr>\n",
       "      <th>0</th>\n",
       "      <td>Police Action</td>\n",
       "      <td>79350</td>\n",
       "    </tr>\n",
       "    <tr>\n",
       "      <th>1</th>\n",
       "      <td>Parking Violation</td>\n",
       "      <td>57380</td>\n",
       "    </tr>\n",
       "    <tr>\n",
       "      <th>2</th>\n",
       "      <td>Accident</td>\n",
       "      <td>45480</td>\n",
       "    </tr>\n",
       "    <tr>\n",
       "      <th>3</th>\n",
       "      <td>Stolen Recovered</td>\n",
       "      <td>29453</td>\n",
       "    </tr>\n",
       "    <tr>\n",
       "      <th>4</th>\n",
       "      <td>Abandoned</td>\n",
       "      <td>22950</td>\n",
       "    </tr>\n",
       "    <tr>\n",
       "      <th>5</th>\n",
       "      <td>Scofflaw</td>\n",
       "      <td>19792</td>\n",
       "    </tr>\n",
       "    <tr>\n",
       "      <th>6</th>\n",
       "      <td>Burns</td>\n",
       "      <td>2917</td>\n",
       "    </tr>\n",
       "    <tr>\n",
       "      <th>7</th>\n",
       "      <td>ACCIDENT</td>\n",
       "      <td>581</td>\n",
       "    </tr>\n",
       "    <tr>\n",
       "      <th>8</th>\n",
       "      <td>Relocate</td>\n",
       "      <td>441</td>\n",
       "    </tr>\n",
       "    <tr>\n",
       "      <th>9</th>\n",
       "      <td>Stolen Police Hold</td>\n",
       "      <td>437</td>\n",
       "    </tr>\n",
       "    <tr>\n",
       "      <th>10</th>\n",
       "      <td>street cleaning</td>\n",
       "      <td>215</td>\n",
       "    </tr>\n",
       "    <tr>\n",
       "      <th>11</th>\n",
       "      <td>Impound/Scofflaw</td>\n",
       "      <td>138</td>\n",
       "    </tr>\n",
       "    <tr>\n",
       "      <th>12</th>\n",
       "      <td>Commercial Vehicle Restriction</td>\n",
       "      <td>100</td>\n",
       "    </tr>\n",
       "    <tr>\n",
       "      <th>13</th>\n",
       "      <td>Remove Abandoned Vehicles Everywhere (Voluntary)</td>\n",
       "      <td>83</td>\n",
       "    </tr>\n",
       "    <tr>\n",
       "      <th>14</th>\n",
       "      <td>misc holds</td>\n",
       "      <td>36</td>\n",
       "    </tr>\n",
       "    <tr>\n",
       "      <th>15</th>\n",
       "      <td>Street cleaning</td>\n",
       "      <td>10</td>\n",
       "    </tr>\n",
       "    <tr>\n",
       "      <th>16</th>\n",
       "      <td>Disabled</td>\n",
       "      <td>1</td>\n",
       "    </tr>\n",
       "  </tbody>\n",
       "</table>\n",
       "</div>"
      ],
      "text/plain": [
       "                                               index  PickupType\n",
       "0                                      Police Action       79350\n",
       "1                                  Parking Violation       57380\n",
       "2                                           Accident       45480\n",
       "3                                   Stolen Recovered       29453\n",
       "4                                          Abandoned       22950\n",
       "5                                           Scofflaw       19792\n",
       "6                                              Burns        2917\n",
       "7                                          ACCIDENT          581\n",
       "8                                           Relocate         441\n",
       "9                                 Stolen Police Hold         437\n",
       "10                                   street cleaning         215\n",
       "11                                  Impound/Scofflaw         138\n",
       "12                    Commercial Vehicle Restriction         100\n",
       "13  Remove Abandoned Vehicles Everywhere (Voluntary)          83\n",
       "14                                        misc holds          36\n",
       "15                                   Street cleaning          10\n",
       "16                                          Disabled           1"
      ]
     },
     "execution_count": 23,
     "metadata": {},
     "output_type": "execute_result"
    }
   ],
   "source": [
    "types = towing_data['PickupType'].value_counts().to_frame().reset_index()\n",
    "types"
   ]
  },
  {
   "cell_type": "code",
   "execution_count": 24,
   "metadata": {
    "id": "3FGJx7PhyMoX"
   },
   "outputs": [],
   "source": [
    "accident = types['index'][7]\n",
    "towing_data = towing_data.replace({accident:'Accident'})"
   ]
  },
  {
   "cell_type": "code",
   "execution_count": 25,
   "metadata": {
    "colab": {
     "base_uri": "https://localhost:8080/",
     "height": 545
    },
    "id": "YcBlG-VqyMoX",
    "outputId": "c8955623-8347-4681-bf25-a4866c65aaf2"
   },
   "outputs": [
    {
     "data": {
      "text/html": [
       "<div>\n",
       "<style scoped>\n",
       "    .dataframe tbody tr th:only-of-type {\n",
       "        vertical-align: middle;\n",
       "    }\n",
       "\n",
       "    .dataframe tbody tr th {\n",
       "        vertical-align: top;\n",
       "    }\n",
       "\n",
       "    .dataframe thead th {\n",
       "        text-align: right;\n",
       "    }\n",
       "</style>\n",
       "<table border=\"1\" class=\"dataframe\">\n",
       "  <thead>\n",
       "    <tr style=\"text-align: right;\">\n",
       "      <th></th>\n",
       "      <th>Type</th>\n",
       "      <th>Count</th>\n",
       "    </tr>\n",
       "  </thead>\n",
       "  <tbody>\n",
       "    <tr>\n",
       "      <th>0</th>\n",
       "      <td>Police Action</td>\n",
       "      <td>79350</td>\n",
       "    </tr>\n",
       "    <tr>\n",
       "      <th>1</th>\n",
       "      <td>Parking Violation</td>\n",
       "      <td>57380</td>\n",
       "    </tr>\n",
       "    <tr>\n",
       "      <th>2</th>\n",
       "      <td>Accident</td>\n",
       "      <td>46061</td>\n",
       "    </tr>\n",
       "    <tr>\n",
       "      <th>3</th>\n",
       "      <td>Stolen Recovered</td>\n",
       "      <td>29453</td>\n",
       "    </tr>\n",
       "    <tr>\n",
       "      <th>4</th>\n",
       "      <td>Abandoned</td>\n",
       "      <td>22950</td>\n",
       "    </tr>\n",
       "    <tr>\n",
       "      <th>5</th>\n",
       "      <td>Scofflaw</td>\n",
       "      <td>19792</td>\n",
       "    </tr>\n",
       "    <tr>\n",
       "      <th>6</th>\n",
       "      <td>Burns</td>\n",
       "      <td>2917</td>\n",
       "    </tr>\n",
       "    <tr>\n",
       "      <th>7</th>\n",
       "      <td>Relocate</td>\n",
       "      <td>441</td>\n",
       "    </tr>\n",
       "    <tr>\n",
       "      <th>8</th>\n",
       "      <td>Stolen Police Hold</td>\n",
       "      <td>437</td>\n",
       "    </tr>\n",
       "    <tr>\n",
       "      <th>9</th>\n",
       "      <td>street cleaning</td>\n",
       "      <td>215</td>\n",
       "    </tr>\n",
       "    <tr>\n",
       "      <th>10</th>\n",
       "      <td>Impound/Scofflaw</td>\n",
       "      <td>138</td>\n",
       "    </tr>\n",
       "    <tr>\n",
       "      <th>11</th>\n",
       "      <td>Commercial Vehicle Restriction</td>\n",
       "      <td>100</td>\n",
       "    </tr>\n",
       "    <tr>\n",
       "      <th>12</th>\n",
       "      <td>Remove Abandoned Vehicles Everywhere (Voluntary)</td>\n",
       "      <td>83</td>\n",
       "    </tr>\n",
       "    <tr>\n",
       "      <th>13</th>\n",
       "      <td>misc holds</td>\n",
       "      <td>36</td>\n",
       "    </tr>\n",
       "    <tr>\n",
       "      <th>14</th>\n",
       "      <td>Street cleaning</td>\n",
       "      <td>10</td>\n",
       "    </tr>\n",
       "    <tr>\n",
       "      <th>15</th>\n",
       "      <td>Disabled</td>\n",
       "      <td>1</td>\n",
       "    </tr>\n",
       "  </tbody>\n",
       "</table>\n",
       "</div>"
      ],
      "text/plain": [
       "                                                Type  Count\n",
       "0                                      Police Action  79350\n",
       "1                                  Parking Violation  57380\n",
       "2                                           Accident  46061\n",
       "3                                   Stolen Recovered  29453\n",
       "4                                          Abandoned  22950\n",
       "5                                           Scofflaw  19792\n",
       "6                                              Burns   2917\n",
       "7                                           Relocate    441\n",
       "8                                 Stolen Police Hold    437\n",
       "9                                    street cleaning    215\n",
       "10                                  Impound/Scofflaw    138\n",
       "11                    Commercial Vehicle Restriction    100\n",
       "12  Remove Abandoned Vehicles Everywhere (Voluntary)     83\n",
       "13                                        misc holds     36\n",
       "14                                   Street cleaning     10\n",
       "15                                          Disabled      1"
      ]
     },
     "execution_count": 25,
     "metadata": {},
     "output_type": "execute_result"
    }
   ],
   "source": [
    "pickup_types = towing_data['PickupType'].value_counts().to_frame().reset_index()\n",
    "pickup_types = pickup_types.rename(columns={'index':'Type','PickupType':'Count'})\n",
    "pickup_types"
   ]
  },
  {
   "cell_type": "markdown",
   "metadata": {
    "id": "wDOdtS_lyMoY"
   },
   "source": [
    "## Analyze data by weekday"
   ]
  },
  {
   "cell_type": "markdown",
   "metadata": {
    "id": "HJRxy0Na5DDP"
   },
   "source": [
    "The first hypothesis is that there are fewer cars towed on weekends than on weekdays."
   ]
  },
  {
   "cell_type": "code",
   "execution_count": 26,
   "metadata": {
    "colab": {
     "base_uri": "https://localhost:8080/",
     "height": 266
    },
    "id": "K5pARnmMyMoY",
    "outputId": "3401d556-baec-49ae-b691-e06b2c50b0ef"
   },
   "outputs": [
    {
     "data": {
      "text/html": [
       "<div>\n",
       "<style scoped>\n",
       "    .dataframe tbody tr th:only-of-type {\n",
       "        vertical-align: middle;\n",
       "    }\n",
       "\n",
       "    .dataframe tbody tr th {\n",
       "        vertical-align: top;\n",
       "    }\n",
       "\n",
       "    .dataframe thead th {\n",
       "        text-align: right;\n",
       "    }\n",
       "</style>\n",
       "<table border=\"1\" class=\"dataframe\">\n",
       "  <thead>\n",
       "    <tr style=\"text-align: right;\">\n",
       "      <th></th>\n",
       "      <th>index</th>\n",
       "      <th>DayOfWeek</th>\n",
       "    </tr>\n",
       "  </thead>\n",
       "  <tbody>\n",
       "    <tr>\n",
       "      <th>0</th>\n",
       "      <td>4</td>\n",
       "      <td>43480</td>\n",
       "    </tr>\n",
       "    <tr>\n",
       "      <th>1</th>\n",
       "      <td>3</td>\n",
       "      <td>41433</td>\n",
       "    </tr>\n",
       "    <tr>\n",
       "      <th>2</th>\n",
       "      <td>2</td>\n",
       "      <td>41049</td>\n",
       "    </tr>\n",
       "    <tr>\n",
       "      <th>3</th>\n",
       "      <td>1</td>\n",
       "      <td>41047</td>\n",
       "    </tr>\n",
       "    <tr>\n",
       "      <th>4</th>\n",
       "      <td>0</td>\n",
       "      <td>39103</td>\n",
       "    </tr>\n",
       "    <tr>\n",
       "      <th>5</th>\n",
       "      <td>5</td>\n",
       "      <td>27552</td>\n",
       "    </tr>\n",
       "    <tr>\n",
       "      <th>6</th>\n",
       "      <td>6</td>\n",
       "      <td>25706</td>\n",
       "    </tr>\n",
       "  </tbody>\n",
       "</table>\n",
       "</div>"
      ],
      "text/plain": [
       "   index  DayOfWeek\n",
       "0      4      43480\n",
       "1      3      41433\n",
       "2      2      41049\n",
       "3      1      41047\n",
       "4      0      39103\n",
       "5      5      27552\n",
       "6      6      25706"
      ]
     },
     "execution_count": 26,
     "metadata": {},
     "output_type": "execute_result"
    }
   ],
   "source": [
    "# Get the totals by weekday\n",
    "total_by_weekday = towing_data['DayOfWeek'].value_counts().to_frame().reset_index()\n",
    "total_by_weekday"
   ]
  },
  {
   "cell_type": "code",
   "execution_count": 27,
   "metadata": {
    "colab": {
     "base_uri": "https://localhost:8080/",
     "height": 266
    },
    "id": "b1HdSWucyMoY",
    "outputId": "ce88e0b3-2b61-4585-e716-8c2c60bdbe96"
   },
   "outputs": [
    {
     "data": {
      "text/html": [
       "<div>\n",
       "<style scoped>\n",
       "    .dataframe tbody tr th:only-of-type {\n",
       "        vertical-align: middle;\n",
       "    }\n",
       "\n",
       "    .dataframe tbody tr th {\n",
       "        vertical-align: top;\n",
       "    }\n",
       "\n",
       "    .dataframe thead th {\n",
       "        text-align: right;\n",
       "    }\n",
       "</style>\n",
       "<table border=\"1\" class=\"dataframe\">\n",
       "  <thead>\n",
       "    <tr style=\"text-align: right;\">\n",
       "      <th></th>\n",
       "      <th>DayOfWeek</th>\n",
       "      <th>Count</th>\n",
       "    </tr>\n",
       "  </thead>\n",
       "  <tbody>\n",
       "    <tr>\n",
       "      <th>0</th>\n",
       "      <td>Monday</td>\n",
       "      <td>39103</td>\n",
       "    </tr>\n",
       "    <tr>\n",
       "      <th>1</th>\n",
       "      <td>Tuesday</td>\n",
       "      <td>41047</td>\n",
       "    </tr>\n",
       "    <tr>\n",
       "      <th>2</th>\n",
       "      <td>Wednesday</td>\n",
       "      <td>41049</td>\n",
       "    </tr>\n",
       "    <tr>\n",
       "      <th>3</th>\n",
       "      <td>Thursday</td>\n",
       "      <td>41433</td>\n",
       "    </tr>\n",
       "    <tr>\n",
       "      <th>4</th>\n",
       "      <td>Friday</td>\n",
       "      <td>43480</td>\n",
       "    </tr>\n",
       "    <tr>\n",
       "      <th>5</th>\n",
       "      <td>Saturday</td>\n",
       "      <td>27552</td>\n",
       "    </tr>\n",
       "    <tr>\n",
       "      <th>6</th>\n",
       "      <td>Sunday</td>\n",
       "      <td>25706</td>\n",
       "    </tr>\n",
       "  </tbody>\n",
       "</table>\n",
       "</div>"
      ],
      "text/plain": [
       "   DayOfWeek  Count\n",
       "0     Monday  39103\n",
       "1    Tuesday  41047\n",
       "2  Wednesday  41049\n",
       "3   Thursday  41433\n",
       "4     Friday  43480\n",
       "5   Saturday  27552\n",
       "6     Sunday  25706"
      ]
     },
     "execution_count": 27,
     "metadata": {},
     "output_type": "execute_result"
    }
   ],
   "source": [
    "# Sort the values by day of the week and replace the numerical days with the corresponding day name\n",
    "total_by_weekday = total_by_weekday.sort_values('index').reset_index(drop=True)\n",
    "total_by_weekday = total_by_weekday.rename(columns={'index':'DayOfWeek','DayOfWeek':'Count'})\n",
    "total_by_weekday = total_by_weekday.replace({0:'Monday',1:'Tuesday',2:'Wednesday',\n",
    "                                             3:'Thursday',4:'Friday',5:'Saturday',6:'Sunday'})\n",
    "total_by_weekday"
   ]
  },
  {
   "cell_type": "code",
   "execution_count": 28,
   "metadata": {
    "colab": {
     "base_uri": "https://localhost:8080/",
     "height": 458
    },
    "id": "vzqFloyayMoY",
    "outputId": "4bbe97be-2804-4f7e-9fbf-f4b2228941eb"
   },
   "outputs": [
    {
     "data": {
      "image/png": "[encoded data removed]",
      "text/plain": [
       "<Figure size 720x504 with 1 Axes>"
      ]
     },
     "metadata": {
      "needs_background": "light"
     },
     "output_type": "display_data"
    }
   ],
   "source": [
    "# Figure methods: https://matplotlib.org/stable/api/figure_api.html#matplotlib.figure.Figure\n",
    "# Axes methods: https://matplotlib.org/stable/api/axes_api.html?highlight=axes#module-matplotlib.axes\n",
    "fig1,ax1 = plt.subplots()\n",
    "ax1.bar(total_by_weekday['DayOfWeek'],total_by_weekday['Count'])\n",
    "\n",
    "ax1.set_title('Total cars towed by weekday')\n",
    "ax1.set_xlabel('Day of week')\n",
    "ax1.set_ylabel('Number of towed cars')\n",
    "fig1.set_figwidth(10)\n",
    "fig1.set_figheight(7)\n"
   ]
  },
  {
   "cell_type": "markdown",
   "metadata": {
    "id": "uKPwYtW-yMoY"
   },
   "source": [
    "The hypothesis that fewer cars will be towed on weekends than weekdays seems to be correct. Test it again by restricting to one year."
   ]
  },
  {
   "cell_type": "code",
   "execution_count": 29,
   "metadata": {
    "colab": {
     "base_uri": "https://localhost:8080/",
     "height": 266
    },
    "id": "jkh1hjbWyMoZ",
    "outputId": "5cf819a9-f238-42cf-d91d-911db1846595"
   },
   "outputs": [
    {
     "data": {
      "text/html": [
       "<div>\n",
       "<style scoped>\n",
       "    .dataframe tbody tr th:only-of-type {\n",
       "        vertical-align: middle;\n",
       "    }\n",
       "\n",
       "    .dataframe tbody tr th {\n",
       "        vertical-align: top;\n",
       "    }\n",
       "\n",
       "    .dataframe thead th {\n",
       "        text-align: right;\n",
       "    }\n",
       "</style>\n",
       "<table border=\"1\" class=\"dataframe\">\n",
       "  <thead>\n",
       "    <tr style=\"text-align: right;\">\n",
       "      <th></th>\n",
       "      <th>DayOfWeek</th>\n",
       "      <th>Count</th>\n",
       "    </tr>\n",
       "  </thead>\n",
       "  <tbody>\n",
       "    <tr>\n",
       "      <th>0</th>\n",
       "      <td>Monday</td>\n",
       "      <td>3314</td>\n",
       "    </tr>\n",
       "    <tr>\n",
       "      <th>1</th>\n",
       "      <td>Tuesday</td>\n",
       "      <td>3401</td>\n",
       "    </tr>\n",
       "    <tr>\n",
       "      <th>2</th>\n",
       "      <td>Wednesday</td>\n",
       "      <td>3324</td>\n",
       "    </tr>\n",
       "    <tr>\n",
       "      <th>3</th>\n",
       "      <td>Thursday</td>\n",
       "      <td>3150</td>\n",
       "    </tr>\n",
       "    <tr>\n",
       "      <th>4</th>\n",
       "      <td>Friday</td>\n",
       "      <td>3244</td>\n",
       "    </tr>\n",
       "    <tr>\n",
       "      <th>5</th>\n",
       "      <td>Saturday</td>\n",
       "      <td>1593</td>\n",
       "    </tr>\n",
       "    <tr>\n",
       "      <th>6</th>\n",
       "      <td>Sunday</td>\n",
       "      <td>1575</td>\n",
       "    </tr>\n",
       "  </tbody>\n",
       "</table>\n",
       "</div>"
      ],
      "text/plain": [
       "   DayOfWeek  Count\n",
       "0     Monday   3314\n",
       "1    Tuesday   3401\n",
       "2  Wednesday   3324\n",
       "3   Thursday   3150\n",
       "4     Friday   3244\n",
       "5   Saturday   1593\n",
       "6     Sunday   1575"
      ]
     },
     "execution_count": 29,
     "metadata": {},
     "output_type": "execute_result"
    }
   ],
   "source": [
    "# Restrict to one year\n",
    "towing_2019 = towing_data.loc[towing_data['Year']==2019]\n",
    "total_by_weekday_2019 = towing_2019['DayOfWeek'].value_counts().to_frame().reset_index()\n",
    "\n",
    "total_by_weekday_2019 = total_by_weekday_2019.sort_values('index').reset_index(drop=True)\n",
    "total_by_weekday_2019 = total_by_weekday_2019.rename(columns={'index':'DayOfWeek','DayOfWeek':'Count'})\n",
    "total_by_weekday_2019 = total_by_weekday_2019.replace({0:'Monday',1:'Tuesday',2:'Wednesday',\n",
    "                                             3:'Thursday',4:'Friday',5:'Saturday',6:'Sunday'})\n",
    "total_by_weekday_2019"
   ]
  },
  {
   "cell_type": "code",
   "execution_count": 30,
   "metadata": {
    "colab": {
     "base_uri": "https://localhost:8080/",
     "height": 458
    },
    "id": "BSXDJuJk4Gmb",
    "outputId": "d147a498-2e71-47fb-b0e3-efa77cc5577a"
   },
   "outputs": [
    {
     "data": {
      "image/png": "[encoded data removed]",
      "text/plain": [
       "<Figure size 720x504 with 1 Axes>"
      ]
     },
     "metadata": {
      "needs_background": "light"
     },
     "output_type": "display_data"
    }
   ],
   "source": [
    "fig2,ax2 = plt.subplots()\n",
    "ax2.bar(total_by_weekday_2019['DayOfWeek'],total_by_weekday_2019['Count'])\n",
    "\n",
    "ax2.set_title('Total cars towed by weekday in 2019')\n",
    "ax2.set_xlabel('Day of week')\n",
    "ax2.set_ylabel('Number of towed cars')\n",
    "fig2.set_figwidth(10)\n",
    "fig2.set_figheight(7)"
   ]
  },
  {
   "cell_type": "markdown",
   "metadata": {
    "id": "fDnXldgC43Mz"
   },
   "source": [
    "The hypothesis that there are fewer cars towed on weekends is supported by the data."
   ]
  },
  {
   "cell_type": "markdown",
   "metadata": {
    "id": "zEDkBBadyMoZ"
   },
   "source": [
    "## Analyze towing reasons by state"
   ]
  },
  {
   "cell_type": "markdown",
   "metadata": {
    "id": "u0rWxyR75N2T"
   },
   "source": [
    "The second hypothesis is that parking violations will be more common for out-of-state vehicles than with vehicles from Maryland."
   ]
  },
  {
   "cell_type": "code",
   "execution_count": 31,
   "metadata": {
    "colab": {
     "base_uri": "https://localhost:8080/",
     "height": 949
    },
    "id": "2yuM-x2HyMoZ",
    "outputId": "9cd633b5-2727-4cf3-f840-9feea96b9562"
   },
   "outputs": [
    {
     "data": {
      "text/html": [
       "<div>\n",
       "<style scoped>\n",
       "    .dataframe tbody tr th:only-of-type {\n",
       "        vertical-align: middle;\n",
       "    }\n",
       "\n",
       "    .dataframe tbody tr th {\n",
       "        vertical-align: top;\n",
       "    }\n",
       "\n",
       "    .dataframe thead th {\n",
       "        text-align: right;\n",
       "    }\n",
       "</style>\n",
       "<table border=\"1\" class=\"dataframe\">\n",
       "  <thead>\n",
       "    <tr style=\"text-align: right;\">\n",
       "      <th></th>\n",
       "      <th>PropertyNumber</th>\n",
       "      <th>TowedDateTime</th>\n",
       "      <th>PickupType</th>\n",
       "      <th>VehicleType</th>\n",
       "      <th>VehicleYear</th>\n",
       "      <th>VehicleMake</th>\n",
       "      <th>VehicleModel</th>\n",
       "      <th>TagState</th>\n",
       "      <th>TowCompany</th>\n",
       "      <th>TowedFromLocation</th>\n",
       "      <th>...</th>\n",
       "      <th>TitleRenounciation</th>\n",
       "      <th>TRDateTime</th>\n",
       "      <th>RemovedFromYardDate</th>\n",
       "      <th>StolenVehicleFlag</th>\n",
       "      <th>Status</th>\n",
       "      <th>ReleaseDateTime</th>\n",
       "      <th>ReleaseType</th>\n",
       "      <th>Year</th>\n",
       "      <th>DayOfWeek</th>\n",
       "      <th>DayOfWeek_Name</th>\n",
       "    </tr>\n",
       "  </thead>\n",
       "  <tbody>\n",
       "    <tr>\n",
       "      <th>49294</th>\n",
       "      <td>P190544</td>\n",
       "      <td>2010/01/01 10:03:00+00</td>\n",
       "      <td>Stolen Recovered</td>\n",
       "      <td>Car</td>\n",
       "      <td>99</td>\n",
       "      <td>Lexus</td>\n",
       "      <td>GS400</td>\n",
       "      <td>NaN</td>\n",
       "      <td>Bermans Towing</td>\n",
       "      <td>900 N Mount St</td>\n",
       "      <td>...</td>\n",
       "      <td>0.0</td>\n",
       "      <td>1970/01/01 00:00:00+00</td>\n",
       "      <td>2010/02/01 00:00:00+00</td>\n",
       "      <td>1.0</td>\n",
       "      <td>Released</td>\n",
       "      <td>2010/02/01 10:28:00+00</td>\n",
       "      <td>Reclaimed by Owner</td>\n",
       "      <td>2010</td>\n",
       "      <td>4</td>\n",
       "      <td>Friday</td>\n",
       "    </tr>\n",
       "    <tr>\n",
       "      <th>49306</th>\n",
       "      <td>P190556</td>\n",
       "      <td>2010/01/01 16:34:00+00</td>\n",
       "      <td>Police Action</td>\n",
       "      <td>Car</td>\n",
       "      <td>93</td>\n",
       "      <td>Buick</td>\n",
       "      <td>Lesabre</td>\n",
       "      <td>NaN</td>\n",
       "      <td>Bermans Towing</td>\n",
       "      <td>3900  Edmondson Ave.</td>\n",
       "      <td>...</td>\n",
       "      <td>0.0</td>\n",
       "      <td>1970/01/01 00:00:00+00</td>\n",
       "      <td>2010/01/25 00:00:00+00</td>\n",
       "      <td>0.0</td>\n",
       "      <td>Released</td>\n",
       "      <td>2010/01/25 16:20:00+00</td>\n",
       "      <td>Reclaimed by Owner</td>\n",
       "      <td>2010</td>\n",
       "      <td>4</td>\n",
       "      <td>Friday</td>\n",
       "    </tr>\n",
       "    <tr>\n",
       "      <th>49319</th>\n",
       "      <td>P190569</td>\n",
       "      <td>2010/01/02 01:07:00+00</td>\n",
       "      <td>Police Action</td>\n",
       "      <td>Car</td>\n",
       "      <td>95</td>\n",
       "      <td>Honda</td>\n",
       "      <td>Accord</td>\n",
       "      <td>NaN</td>\n",
       "      <td>Bermans Towing</td>\n",
       "      <td>2900  Taney Rd</td>\n",
       "      <td>...</td>\n",
       "      <td>0.0</td>\n",
       "      <td>1970/01/01 00:00:00+00</td>\n",
       "      <td>2010/01/06 00:00:00+00</td>\n",
       "      <td>0.0</td>\n",
       "      <td>Released</td>\n",
       "      <td>2010/01/06 14:47:00+00</td>\n",
       "      <td>Reclaimed by Owner</td>\n",
       "      <td>2010</td>\n",
       "      <td>5</td>\n",
       "      <td>Saturday</td>\n",
       "    </tr>\n",
       "    <tr>\n",
       "      <th>49322</th>\n",
       "      <td>P190572</td>\n",
       "      <td>2010/01/02 02:00:00+00</td>\n",
       "      <td>Police Action</td>\n",
       "      <td>Car</td>\n",
       "      <td>07</td>\n",
       "      <td>Honda</td>\n",
       "      <td>Accord</td>\n",
       "      <td>NaN</td>\n",
       "      <td>Jim Elliotts Towing</td>\n",
       "      <td>400 E Northern Parkway</td>\n",
       "      <td>...</td>\n",
       "      <td>0.0</td>\n",
       "      <td>1970/01/01 00:00:00+00</td>\n",
       "      <td>2010/01/02 00:00:00+00</td>\n",
       "      <td>0.0</td>\n",
       "      <td>Released</td>\n",
       "      <td>2010/01/02 10:07:00+00</td>\n",
       "      <td>Reclaimed by Owner</td>\n",
       "      <td>2010</td>\n",
       "      <td>5</td>\n",
       "      <td>Saturday</td>\n",
       "    </tr>\n",
       "    <tr>\n",
       "      <th>49323</th>\n",
       "      <td>P190573</td>\n",
       "      <td>2010/01/02 01:58:00+00</td>\n",
       "      <td>Police Action</td>\n",
       "      <td>Car</td>\n",
       "      <td>03</td>\n",
       "      <td>Mitsubishi</td>\n",
       "      <td>Galant</td>\n",
       "      <td>NaN</td>\n",
       "      <td>Jim Elliotts Towing</td>\n",
       "      <td>1500 E 36th St</td>\n",
       "      <td>...</td>\n",
       "      <td>0.0</td>\n",
       "      <td>1970/01/01 00:00:00+00</td>\n",
       "      <td>2010/01/06 00:00:00+00</td>\n",
       "      <td>0.0</td>\n",
       "      <td>Released</td>\n",
       "      <td>2010/01/06 09:00:00+00</td>\n",
       "      <td>Reclaimed by Owner</td>\n",
       "      <td>2010</td>\n",
       "      <td>5</td>\n",
       "      <td>Saturday</td>\n",
       "    </tr>\n",
       "    <tr>\n",
       "      <th>...</th>\n",
       "      <td>...</td>\n",
       "      <td>...</td>\n",
       "      <td>...</td>\n",
       "      <td>...</td>\n",
       "      <td>...</td>\n",
       "      <td>...</td>\n",
       "      <td>...</td>\n",
       "      <td>...</td>\n",
       "      <td>...</td>\n",
       "      <td>...</td>\n",
       "      <td>...</td>\n",
       "      <td>...</td>\n",
       "      <td>...</td>\n",
       "      <td>...</td>\n",
       "      <td>...</td>\n",
       "      <td>...</td>\n",
       "      <td>...</td>\n",
       "      <td>...</td>\n",
       "      <td>...</td>\n",
       "      <td>...</td>\n",
       "      <td>...</td>\n",
       "    </tr>\n",
       "    <tr>\n",
       "      <th>259393</th>\n",
       "      <td>P402013</td>\n",
       "      <td>2021/03/30 19:58:00+00</td>\n",
       "      <td>Police Action</td>\n",
       "      <td>Car</td>\n",
       "      <td>99</td>\n",
       "      <td>Infiniti</td>\n",
       "      <td>I30</td>\n",
       "      <td>NaN</td>\n",
       "      <td>Frankford Towing, Inc.</td>\n",
       "      <td>1800  Washington Blvd</td>\n",
       "      <td>...</td>\n",
       "      <td>0.0</td>\n",
       "      <td>1970/01/01 00:00:00+00</td>\n",
       "      <td>1970/01/01 00:00:00+00</td>\n",
       "      <td>0.0</td>\n",
       "      <td>Active</td>\n",
       "      <td>1970/01/01 00:00:00+00</td>\n",
       "      <td>NaN</td>\n",
       "      <td>2021</td>\n",
       "      <td>1</td>\n",
       "      <td>Tuesday</td>\n",
       "    </tr>\n",
       "    <tr>\n",
       "      <th>259394</th>\n",
       "      <td>P402014</td>\n",
       "      <td>2021/03/30 21:39:00+00</td>\n",
       "      <td>Police Action</td>\n",
       "      <td>Car</td>\n",
       "      <td>05</td>\n",
       "      <td>Ford</td>\n",
       "      <td>Crown Victoria</td>\n",
       "      <td>NaN</td>\n",
       "      <td>McDels Enterprise Inc.</td>\n",
       "      <td>500  Presstman St.</td>\n",
       "      <td>...</td>\n",
       "      <td>0.0</td>\n",
       "      <td>1970/01/01 00:00:00+00</td>\n",
       "      <td>1970/01/01 00:00:00+00</td>\n",
       "      <td>0.0</td>\n",
       "      <td>NaN</td>\n",
       "      <td>1970/01/01 00:00:00+00</td>\n",
       "      <td>NaN</td>\n",
       "      <td>2021</td>\n",
       "      <td>1</td>\n",
       "      <td>Tuesday</td>\n",
       "    </tr>\n",
       "    <tr>\n",
       "      <th>259396</th>\n",
       "      <td>P402016</td>\n",
       "      <td>2021/03/30 23:34:00+00</td>\n",
       "      <td>Police Action</td>\n",
       "      <td>Dirt Bike</td>\n",
       "      <td>03</td>\n",
       "      <td>Suzuki</td>\n",
       "      <td>125</td>\n",
       "      <td>NaN</td>\n",
       "      <td>Frankford Towing, Inc.</td>\n",
       "      <td>2400 E Hoffman St</td>\n",
       "      <td>...</td>\n",
       "      <td>0.0</td>\n",
       "      <td>1970/01/01 00:00:00+00</td>\n",
       "      <td>1970/01/01 00:00:00+00</td>\n",
       "      <td>0.0</td>\n",
       "      <td>NaN</td>\n",
       "      <td>1970/01/01 00:00:00+00</td>\n",
       "      <td>NaN</td>\n",
       "      <td>2021</td>\n",
       "      <td>1</td>\n",
       "      <td>Tuesday</td>\n",
       "    </tr>\n",
       "    <tr>\n",
       "      <th>259397</th>\n",
       "      <td>P402017</td>\n",
       "      <td>2021/03/31 02:55:00+00</td>\n",
       "      <td>Accident</td>\n",
       "      <td>Car</td>\n",
       "      <td>04</td>\n",
       "      <td>Chevrolet</td>\n",
       "      <td>Impala</td>\n",
       "      <td>NaN</td>\n",
       "      <td>McDels Enterprise Inc.</td>\n",
       "      <td>2500  Madison Ave</td>\n",
       "      <td>...</td>\n",
       "      <td>0.0</td>\n",
       "      <td>1970/01/01 00:00:00+00</td>\n",
       "      <td>1970/01/01 00:00:00+00</td>\n",
       "      <td>0.0</td>\n",
       "      <td>NaN</td>\n",
       "      <td>1970/01/01 00:00:00+00</td>\n",
       "      <td>NaN</td>\n",
       "      <td>2021</td>\n",
       "      <td>2</td>\n",
       "      <td>Wednesday</td>\n",
       "    </tr>\n",
       "    <tr>\n",
       "      <th>259398</th>\n",
       "      <td>P405406</td>\n",
       "      <td>2010/09/26 14:09:00+00</td>\n",
       "      <td>Scofflaw</td>\n",
       "      <td>NaN</td>\n",
       "      <td>NaN</td>\n",
       "      <td>NaN</td>\n",
       "      <td>NaN</td>\n",
       "      <td>NaN</td>\n",
       "      <td>Autobarn</td>\n",
       "      <td>2000 W Baltimore St</td>\n",
       "      <td>...</td>\n",
       "      <td>0.0</td>\n",
       "      <td>1970/01/01 00:00:00+00</td>\n",
       "      <td>1970/01/01 00:00:00+00</td>\n",
       "      <td>0.0</td>\n",
       "      <td>NaN</td>\n",
       "      <td>2000/01/01 12:00:00+00</td>\n",
       "      <td>NaN</td>\n",
       "      <td>2010</td>\n",
       "      <td>6</td>\n",
       "      <td>Sunday</td>\n",
       "    </tr>\n",
       "  </tbody>\n",
       "</table>\n",
       "<p>37079 rows × 23 columns</p>\n",
       "</div>"
      ],
      "text/plain": [
       "       PropertyNumber           TowedDateTime        PickupType VehicleType  \\\n",
       "49294         P190544  2010/01/01 10:03:00+00  Stolen Recovered         Car   \n",
       "49306         P190556  2010/01/01 16:34:00+00     Police Action         Car   \n",
       "49319         P190569  2010/01/02 01:07:00+00     Police Action         Car   \n",
       "49322         P190572  2010/01/02 02:00:00+00     Police Action         Car   \n",
       "49323         P190573  2010/01/02 01:58:00+00     Police Action         Car   \n",
       "...               ...                     ...               ...         ...   \n",
       "259393        P402013  2021/03/30 19:58:00+00     Police Action         Car   \n",
       "259394        P402014  2021/03/30 21:39:00+00     Police Action         Car   \n",
       "259396        P402016  2021/03/30 23:34:00+00     Police Action   Dirt Bike   \n",
       "259397        P402017  2021/03/31 02:55:00+00          Accident         Car   \n",
       "259398        P405406  2010/09/26 14:09:00+00          Scofflaw         NaN   \n",
       "\n",
       "       VehicleYear VehicleMake    VehicleModel TagState  \\\n",
       "49294           99       Lexus           GS400      NaN   \n",
       "49306           93       Buick         Lesabre      NaN   \n",
       "49319           95       Honda          Accord      NaN   \n",
       "49322           07       Honda          Accord      NaN   \n",
       "49323           03  Mitsubishi          Galant      NaN   \n",
       "...            ...         ...             ...      ...   \n",
       "259393          99    Infiniti             I30      NaN   \n",
       "259394          05        Ford  Crown Victoria      NaN   \n",
       "259396          03      Suzuki             125      NaN   \n",
       "259397          04   Chevrolet          Impala      NaN   \n",
       "259398         NaN         NaN             NaN      NaN   \n",
       "\n",
       "                    TowCompany        TowedFromLocation  ...  \\\n",
       "49294           Bermans Towing           900 N Mount St  ...   \n",
       "49306           Bermans Towing    3900  Edmondson Ave.   ...   \n",
       "49319           Bermans Towing          2900  Taney Rd   ...   \n",
       "49322      Jim Elliotts Towing  400 E Northern Parkway   ...   \n",
       "49323      Jim Elliotts Towing          1500 E 36th St   ...   \n",
       "...                        ...                      ...  ...   \n",
       "259393  Frankford Towing, Inc.   1800  Washington Blvd   ...   \n",
       "259394  McDels Enterprise Inc.      500  Presstman St.   ...   \n",
       "259396  Frankford Towing, Inc.       2400 E Hoffman St   ...   \n",
       "259397  McDels Enterprise Inc.       2500  Madison Ave   ...   \n",
       "259398                Autobarn     2000 W Baltimore St   ...   \n",
       "\n",
       "       TitleRenounciation              TRDateTime     RemovedFromYardDate  \\\n",
       "49294                 0.0  1970/01/01 00:00:00+00  2010/02/01 00:00:00+00   \n",
       "49306                 0.0  1970/01/01 00:00:00+00  2010/01/25 00:00:00+00   \n",
       "49319                 0.0  1970/01/01 00:00:00+00  2010/01/06 00:00:00+00   \n",
       "49322                 0.0  1970/01/01 00:00:00+00  2010/01/02 00:00:00+00   \n",
       "49323                 0.0  1970/01/01 00:00:00+00  2010/01/06 00:00:00+00   \n",
       "...                   ...                     ...                     ...   \n",
       "259393                0.0  1970/01/01 00:00:00+00  1970/01/01 00:00:00+00   \n",
       "259394                0.0  1970/01/01 00:00:00+00  1970/01/01 00:00:00+00   \n",
       "259396                0.0  1970/01/01 00:00:00+00  1970/01/01 00:00:00+00   \n",
       "259397                0.0  1970/01/01 00:00:00+00  1970/01/01 00:00:00+00   \n",
       "259398                0.0  1970/01/01 00:00:00+00  1970/01/01 00:00:00+00   \n",
       "\n",
       "        StolenVehicleFlag    Status         ReleaseDateTime  \\\n",
       "49294                 1.0  Released  2010/02/01 10:28:00+00   \n",
       "49306                 0.0  Released  2010/01/25 16:20:00+00   \n",
       "49319                 0.0  Released  2010/01/06 14:47:00+00   \n",
       "49322                 0.0  Released  2010/01/02 10:07:00+00   \n",
       "49323                 0.0  Released  2010/01/06 09:00:00+00   \n",
       "...                   ...       ...                     ...   \n",
       "259393                0.0    Active  1970/01/01 00:00:00+00   \n",
       "259394                0.0       NaN  1970/01/01 00:00:00+00   \n",
       "259396                0.0       NaN  1970/01/01 00:00:00+00   \n",
       "259397                0.0       NaN  1970/01/01 00:00:00+00   \n",
       "259398                0.0       NaN  2000/01/01 12:00:00+00   \n",
       "\n",
       "               ReleaseType  Year DayOfWeek DayOfWeek_Name  \n",
       "49294   Reclaimed by Owner  2010         4         Friday  \n",
       "49306   Reclaimed by Owner  2010         4         Friday  \n",
       "49319   Reclaimed by Owner  2010         5       Saturday  \n",
       "49322   Reclaimed by Owner  2010         5       Saturday  \n",
       "49323   Reclaimed by Owner  2010         5       Saturday  \n",
       "...                    ...   ...       ...            ...  \n",
       "259393                 NaN  2021         1        Tuesday  \n",
       "259394                 NaN  2021         1        Tuesday  \n",
       "259396                 NaN  2021         1        Tuesday  \n",
       "259397                 NaN  2021         2      Wednesday  \n",
       "259398                 NaN  2010         6         Sunday  \n",
       "\n",
       "[37079 rows x 23 columns]"
      ]
     },
     "execution_count": 31,
     "metadata": {},
     "output_type": "execute_result"
    }
   ],
   "source": [
    "towing_data.loc[towing_data['TagState'].isna()]"
   ]
  },
  {
   "cell_type": "code",
   "execution_count": 32,
   "metadata": {
    "id": "I5RlyjD7yMoa"
   },
   "outputs": [],
   "source": [
    "# For this analysis, we will only focus on the vehicles for which we know the state.\n",
    "# Add a Boolean column showing whether a car is in Maryland.\n",
    "in_state = (towing_data['TagState']=='MD')\n",
    "towing_data['InState'] = in_state"
   ]
  },
  {
   "cell_type": "code",
   "execution_count": 33,
   "metadata": {
    "id": "h8xnt1lAyMoa"
   },
   "outputs": [],
   "source": [
    "# Create a new dataframe without the missing state data\n",
    "towing_data_state = towing_data.dropna(subset=['TagState'])"
   ]
  },
  {
   "cell_type": "code",
   "execution_count": 34,
   "metadata": {
    "colab": {
     "base_uri": "https://localhost:8080/",
     "height": 111
    },
    "id": "BVlpQjfEyMoa",
    "outputId": "f300f6a5-3765-445d-a519-90cb8e5c476b"
   },
   "outputs": [
    {
     "data": {
      "text/html": [
       "<div>\n",
       "<style scoped>\n",
       "    .dataframe tbody tr th:only-of-type {\n",
       "        vertical-align: middle;\n",
       "    }\n",
       "\n",
       "    .dataframe tbody tr th {\n",
       "        vertical-align: top;\n",
       "    }\n",
       "\n",
       "    .dataframe thead th {\n",
       "        text-align: right;\n",
       "    }\n",
       "</style>\n",
       "<table border=\"1\" class=\"dataframe\">\n",
       "  <thead>\n",
       "    <tr style=\"text-align: right;\">\n",
       "      <th></th>\n",
       "      <th>InState</th>\n",
       "    </tr>\n",
       "  </thead>\n",
       "  <tbody>\n",
       "    <tr>\n",
       "      <th>True</th>\n",
       "      <td>191279</td>\n",
       "    </tr>\n",
       "    <tr>\n",
       "      <th>False</th>\n",
       "      <td>31012</td>\n",
       "    </tr>\n",
       "  </tbody>\n",
       "</table>\n",
       "</div>"
      ],
      "text/plain": [
       "       InState\n",
       "True    191279\n",
       "False    31012"
      ]
     },
     "execution_count": 34,
     "metadata": {},
     "output_type": "execute_result"
    }
   ],
   "source": [
    "towing_data_state['InState'].value_counts().to_frame()"
   ]
  },
  {
   "cell_type": "code",
   "execution_count": 35,
   "metadata": {
    "colab": {
     "base_uri": "https://localhost:8080/",
     "height": 394
    },
    "id": "P_imC8GMyMoa",
    "outputId": "37342d25-ebfe-4326-c8cd-dc78595a9a32"
   },
   "outputs": [
    {
     "data": {
      "text/html": [
       "<div>\n",
       "<style scoped>\n",
       "    .dataframe tbody tr th:only-of-type {\n",
       "        vertical-align: middle;\n",
       "    }\n",
       "\n",
       "    .dataframe tbody tr th {\n",
       "        vertical-align: top;\n",
       "    }\n",
       "\n",
       "    .dataframe thead th {\n",
       "        text-align: right;\n",
       "    }\n",
       "</style>\n",
       "<table border=\"1\" class=\"dataframe\">\n",
       "  <thead>\n",
       "    <tr style=\"text-align: right;\">\n",
       "      <th></th>\n",
       "      <th>PropertyNumber</th>\n",
       "      <th>TowedDateTime</th>\n",
       "      <th>PickupType</th>\n",
       "      <th>VehicleType</th>\n",
       "      <th>VehicleYear</th>\n",
       "      <th>VehicleMake</th>\n",
       "      <th>VehicleModel</th>\n",
       "      <th>TagState</th>\n",
       "      <th>TowCompany</th>\n",
       "      <th>TowedFromLocation</th>\n",
       "      <th>...</th>\n",
       "      <th>TRDateTime</th>\n",
       "      <th>RemovedFromYardDate</th>\n",
       "      <th>StolenVehicleFlag</th>\n",
       "      <th>Status</th>\n",
       "      <th>ReleaseDateTime</th>\n",
       "      <th>ReleaseType</th>\n",
       "      <th>Year</th>\n",
       "      <th>DayOfWeek</th>\n",
       "      <th>DayOfWeek_Name</th>\n",
       "      <th>InState</th>\n",
       "    </tr>\n",
       "  </thead>\n",
       "  <tbody>\n",
       "    <tr>\n",
       "      <th>0</th>\n",
       "      <td>F000001</td>\n",
       "      <td>2020/01/02 05:57:00+00</td>\n",
       "      <td>Parking Violation</td>\n",
       "      <td>NaN</td>\n",
       "      <td>NaN</td>\n",
       "      <td>MERCEDES</td>\n",
       "      <td>E430</td>\n",
       "      <td>MD</td>\n",
       "      <td>City</td>\n",
       "      <td>200 S CALHOUN STREET</td>\n",
       "      <td>...</td>\n",
       "      <td>1970/01/01 00:00:00+00</td>\n",
       "      <td>1970/01/01 00:00:00+00</td>\n",
       "      <td>NaN</td>\n",
       "      <td>NaN</td>\n",
       "      <td>2020/01/03 17:25:00+00</td>\n",
       "      <td>Transferred to Pulaski Lot</td>\n",
       "      <td>2020</td>\n",
       "      <td>3</td>\n",
       "      <td>Thursday</td>\n",
       "      <td>True</td>\n",
       "    </tr>\n",
       "    <tr>\n",
       "      <th>1</th>\n",
       "      <td>F000002</td>\n",
       "      <td>2020/01/02 06:16:00+00</td>\n",
       "      <td>Parking Violation</td>\n",
       "      <td>NaN</td>\n",
       "      <td>NaN</td>\n",
       "      <td>TOYOTA</td>\n",
       "      <td>CAMRY</td>\n",
       "      <td>MD</td>\n",
       "      <td>Cherryhill Towing Service</td>\n",
       "      <td>1625 N GILMORE STREET</td>\n",
       "      <td>...</td>\n",
       "      <td>1970/01/01 00:00:00+00</td>\n",
       "      <td>1970/01/01 00:00:00+00</td>\n",
       "      <td>NaN</td>\n",
       "      <td>NaN</td>\n",
       "      <td>2020/01/03 17:26:00+00</td>\n",
       "      <td>Transferred to Pulaski Lot</td>\n",
       "      <td>2020</td>\n",
       "      <td>3</td>\n",
       "      <td>Thursday</td>\n",
       "      <td>True</td>\n",
       "    </tr>\n",
       "    <tr>\n",
       "      <th>2</th>\n",
       "      <td>F000003</td>\n",
       "      <td>2020/01/02 07:27:00+00</td>\n",
       "      <td>Parking Violation</td>\n",
       "      <td>NaN</td>\n",
       "      <td>18</td>\n",
       "      <td>TOYOTA</td>\n",
       "      <td>SIENNA</td>\n",
       "      <td>FL</td>\n",
       "      <td>McDels Towing &amp; Recovery</td>\n",
       "      <td>100 W FRANKLIN STREET</td>\n",
       "      <td>...</td>\n",
       "      <td>1970/01/01 00:00:00+00</td>\n",
       "      <td>1970/01/01 00:00:00+00</td>\n",
       "      <td>NaN</td>\n",
       "      <td>NaN</td>\n",
       "      <td>2020/01/03 18:49:00+00</td>\n",
       "      <td>Transferred to Pulaski Lot</td>\n",
       "      <td>2020</td>\n",
       "      <td>3</td>\n",
       "      <td>Thursday</td>\n",
       "      <td>False</td>\n",
       "    </tr>\n",
       "    <tr>\n",
       "      <th>3</th>\n",
       "      <td>F000004</td>\n",
       "      <td>2020/01/02 07:40:00+00</td>\n",
       "      <td>Parking Violation</td>\n",
       "      <td>NaN</td>\n",
       "      <td>NaN</td>\n",
       "      <td>HONDA</td>\n",
       "      <td>CIVIC</td>\n",
       "      <td>MD</td>\n",
       "      <td>C &amp; S Towing</td>\n",
       "      <td>2300 E FAYETTE STREET</td>\n",
       "      <td>...</td>\n",
       "      <td>1970/01/01 00:00:00+00</td>\n",
       "      <td>1970/01/01 00:00:00+00</td>\n",
       "      <td>NaN</td>\n",
       "      <td>NaN</td>\n",
       "      <td>2020/01/02 17:59:00+00</td>\n",
       "      <td>Release to Owner</td>\n",
       "      <td>2020</td>\n",
       "      <td>3</td>\n",
       "      <td>Thursday</td>\n",
       "      <td>True</td>\n",
       "    </tr>\n",
       "    <tr>\n",
       "      <th>4</th>\n",
       "      <td>F000005</td>\n",
       "      <td>2020/01/02 07:25:00+00</td>\n",
       "      <td>Parking Violation</td>\n",
       "      <td>NaN</td>\n",
       "      <td>18</td>\n",
       "      <td>HYUNDAI</td>\n",
       "      <td>IONIQ</td>\n",
       "      <td>MD</td>\n",
       "      <td>McDels Towing &amp; Recovery</td>\n",
       "      <td>UNIT W FRANKLIN STREET</td>\n",
       "      <td>...</td>\n",
       "      <td>1970/01/01 00:00:00+00</td>\n",
       "      <td>1970/01/01 00:00:00+00</td>\n",
       "      <td>NaN</td>\n",
       "      <td>NaN</td>\n",
       "      <td>2020/01/02 11:14:00+00</td>\n",
       "      <td>Release to Owner</td>\n",
       "      <td>2020</td>\n",
       "      <td>3</td>\n",
       "      <td>Thursday</td>\n",
       "      <td>True</td>\n",
       "    </tr>\n",
       "  </tbody>\n",
       "</table>\n",
       "<p>5 rows × 24 columns</p>\n",
       "</div>"
      ],
      "text/plain": [
       "  PropertyNumber           TowedDateTime         PickupType VehicleType  \\\n",
       "0        F000001  2020/01/02 05:57:00+00  Parking Violation         NaN   \n",
       "1        F000002  2020/01/02 06:16:00+00  Parking Violation         NaN   \n",
       "2        F000003  2020/01/02 07:27:00+00  Parking Violation         NaN   \n",
       "3        F000004  2020/01/02 07:40:00+00  Parking Violation         NaN   \n",
       "4        F000005  2020/01/02 07:25:00+00  Parking Violation         NaN   \n",
       "\n",
       "  VehicleYear VehicleMake VehicleModel TagState                 TowCompany  \\\n",
       "0         NaN    MERCEDES         E430       MD                       City   \n",
       "1         NaN      TOYOTA        CAMRY       MD  Cherryhill Towing Service   \n",
       "2          18      TOYOTA       SIENNA       FL   McDels Towing & Recovery   \n",
       "3         NaN       HONDA        CIVIC       MD               C & S Towing   \n",
       "4          18     HYUNDAI        IONIQ       MD   McDels Towing & Recovery   \n",
       "\n",
       "        TowedFromLocation  ...              TRDateTime  \\\n",
       "0    200 S CALHOUN STREET  ...  1970/01/01 00:00:00+00   \n",
       "1   1625 N GILMORE STREET  ...  1970/01/01 00:00:00+00   \n",
       "2   100 W FRANKLIN STREET  ...  1970/01/01 00:00:00+00   \n",
       "3   2300 E FAYETTE STREET  ...  1970/01/01 00:00:00+00   \n",
       "4  UNIT W FRANKLIN STREET  ...  1970/01/01 00:00:00+00   \n",
       "\n",
       "      RemovedFromYardDate StolenVehicleFlag  Status         ReleaseDateTime  \\\n",
       "0  1970/01/01 00:00:00+00               NaN     NaN  2020/01/03 17:25:00+00   \n",
       "1  1970/01/01 00:00:00+00               NaN     NaN  2020/01/03 17:26:00+00   \n",
       "2  1970/01/01 00:00:00+00               NaN     NaN  2020/01/03 18:49:00+00   \n",
       "3  1970/01/01 00:00:00+00               NaN     NaN  2020/01/02 17:59:00+00   \n",
       "4  1970/01/01 00:00:00+00               NaN     NaN  2020/01/02 11:14:00+00   \n",
       "\n",
       "                  ReleaseType  Year DayOfWeek DayOfWeek_Name InState  \n",
       "0  Transferred to Pulaski Lot  2020         3       Thursday    True  \n",
       "1  Transferred to Pulaski Lot  2020         3       Thursday    True  \n",
       "2  Transferred to Pulaski Lot  2020         3       Thursday   False  \n",
       "3            Release to Owner  2020         3       Thursday    True  \n",
       "4            Release to Owner  2020         3       Thursday    True  \n",
       "\n",
       "[5 rows x 24 columns]"
      ]
     },
     "execution_count": 35,
     "metadata": {},
     "output_type": "execute_result"
    }
   ],
   "source": [
    "# Find how many cars were towed for parking violations\n",
    "illegal_parking = towing_data_state.loc[towing_data_state['PickupType']=='Parking Violation']\n",
    "illegal_parking.head()"
   ]
  },
  {
   "cell_type": "code",
   "execution_count": 36,
   "metadata": {
    "colab": {
     "base_uri": "https://localhost:8080/",
     "height": 111
    },
    "id": "m_uG8-I-yMoa",
    "outputId": "658ce934-dfcc-4272-cf94-109887d57395"
   },
   "outputs": [
    {
     "data": {
      "text/html": [
       "<div>\n",
       "<style scoped>\n",
       "    .dataframe tbody tr th:only-of-type {\n",
       "        vertical-align: middle;\n",
       "    }\n",
       "\n",
       "    .dataframe tbody tr th {\n",
       "        vertical-align: top;\n",
       "    }\n",
       "\n",
       "    .dataframe thead th {\n",
       "        text-align: right;\n",
       "    }\n",
       "</style>\n",
       "<table border=\"1\" class=\"dataframe\">\n",
       "  <thead>\n",
       "    <tr style=\"text-align: right;\">\n",
       "      <th></th>\n",
       "      <th>InState</th>\n",
       "    </tr>\n",
       "  </thead>\n",
       "  <tbody>\n",
       "    <tr>\n",
       "      <th>True</th>\n",
       "      <td>45389</td>\n",
       "    </tr>\n",
       "    <tr>\n",
       "      <th>False</th>\n",
       "      <td>11756</td>\n",
       "    </tr>\n",
       "  </tbody>\n",
       "</table>\n",
       "</div>"
      ],
      "text/plain": [
       "       InState\n",
       "True     45389\n",
       "False    11756"
      ]
     },
     "execution_count": 36,
     "metadata": {},
     "output_type": "execute_result"
    }
   ],
   "source": [
    "state_parking_totals = illegal_parking['InState'].value_counts().to_frame()\n",
    "state_parking_totals"
   ]
  },
  {
   "cell_type": "markdown",
   "metadata": {
    "id": "lRx9-AnjyMob"
   },
   "source": [
    "Maryland clearly has more violations than other states. Let's look at which state has the higher percentage of parking violations."
   ]
  },
  {
   "cell_type": "code",
   "execution_count": 37,
   "metadata": {
    "colab": {
     "base_uri": "https://localhost:8080/",
     "height": 111
    },
    "id": "fSpMMQJqyMob",
    "outputId": "bd8a8c6a-0866-45f5-e26d-4b78db66fa48"
   },
   "outputs": [
    {
     "data": {
      "text/html": [
       "<div>\n",
       "<style scoped>\n",
       "    .dataframe tbody tr th:only-of-type {\n",
       "        vertical-align: middle;\n",
       "    }\n",
       "\n",
       "    .dataframe tbody tr th {\n",
       "        vertical-align: top;\n",
       "    }\n",
       "\n",
       "    .dataframe thead th {\n",
       "        text-align: right;\n",
       "    }\n",
       "</style>\n",
       "<table border=\"1\" class=\"dataframe\">\n",
       "  <thead>\n",
       "    <tr style=\"text-align: right;\">\n",
       "      <th></th>\n",
       "      <th>InState</th>\n",
       "    </tr>\n",
       "  </thead>\n",
       "  <tbody>\n",
       "    <tr>\n",
       "      <th>True</th>\n",
       "      <td>191279</td>\n",
       "    </tr>\n",
       "    <tr>\n",
       "      <th>False</th>\n",
       "      <td>31012</td>\n",
       "    </tr>\n",
       "  </tbody>\n",
       "</table>\n",
       "</div>"
      ],
      "text/plain": [
       "       InState\n",
       "True    191279\n",
       "False    31012"
      ]
     },
     "execution_count": 37,
     "metadata": {},
     "output_type": "execute_result"
    }
   ],
   "source": [
    "state_towing_totals = towing_data_state['InState'].value_counts().to_frame()\n",
    "state_towing_totals"
   ]
  },
  {
   "cell_type": "code",
   "execution_count": 38,
   "metadata": {
    "id": "SZnU-PNJyMob"
   },
   "outputs": [],
   "source": [
    "# Use the totals dataframe to save the number of parking violations and towed cars for Maryland and for out-of-state\n",
    "in_state_parking = float(state_parking_totals['InState'].loc[True])\n",
    "out_of_state_parking = float(state_parking_totals['InState'].loc[False])\n",
    "\n",
    "in_state_total = float(state_towing_totals['InState'].loc[True])\n",
    "out_of_state_total = float(state_towing_totals['InState'].loc[False])"
   ]
  },
  {
   "cell_type": "code",
   "execution_count": 39,
   "metadata": {
    "colab": {
     "base_uri": "https://localhost:8080/"
    },
    "id": "7xOwi30fyMob",
    "outputId": "ca431551-e4ed-4bf1-861b-7b6ed84e0110"
   },
   "outputs": [
    {
     "name": "stdout",
     "output_type": "stream",
     "text": [
      "23.73 percent of towed cars from Maryland are towed for parking violations.\n",
      "37.91 percent of towed cars from out of state are towed for parking violations.\n"
     ]
    }
   ],
   "source": [
    "# https://www.w3schools.com/python/ref_func_round.asp\n",
    "state_percentage = (in_state_parking/in_state_total)*100\n",
    "out_of_state_percentage = (out_of_state_parking/out_of_state_total)*100\n",
    "print(round(state_percentage, 2), 'percent of towed cars from Maryland are towed for parking violations.')\n",
    "print(round(out_of_state_percentage, 2), 'percent of towed cars from out of state are towed for parking violations.')"
   ]
  },
  {
   "cell_type": "markdown",
   "metadata": {
    "id": "-nmIxPLLyMob"
   },
   "source": [
    "Out-of-state drivers seem to have a higher percentage of parking violations than Maryland drivers. Visualize this result."
   ]
  },
  {
   "cell_type": "code",
   "execution_count": 40,
   "metadata": {
    "id": "amY8nNdDyMoc"
   },
   "outputs": [],
   "source": [
    "# Sort records by in-state versus out-of-state\n",
    "in_state = towing_data_state.loc[towing_data_state['InState']]\n",
    "out_of_state = towing_data_state.loc[towing_data_state['InState']==False]"
   ]
  },
  {
   "cell_type": "code",
   "execution_count": 41,
   "metadata": {
    "colab": {
     "base_uri": "https://localhost:8080/",
     "height": 545
    },
    "id": "eruqSa2lyMoc",
    "outputId": "6e4ff222-bbd9-4a6b-af13-47ad597fb5c3"
   },
   "outputs": [
    {
     "data": {
      "text/html": [
       "<div>\n",
       "<style scoped>\n",
       "    .dataframe tbody tr th:only-of-type {\n",
       "        vertical-align: middle;\n",
       "    }\n",
       "\n",
       "    .dataframe tbody tr th {\n",
       "        vertical-align: top;\n",
       "    }\n",
       "\n",
       "    .dataframe thead th {\n",
       "        text-align: right;\n",
       "    }\n",
       "</style>\n",
       "<table border=\"1\" class=\"dataframe\">\n",
       "  <thead>\n",
       "    <tr style=\"text-align: right;\">\n",
       "      <th></th>\n",
       "      <th>index</th>\n",
       "      <th>InState</th>\n",
       "    </tr>\n",
       "  </thead>\n",
       "  <tbody>\n",
       "    <tr>\n",
       "      <th>0</th>\n",
       "      <td>Police Action</td>\n",
       "      <td>53383</td>\n",
       "    </tr>\n",
       "    <tr>\n",
       "      <th>1</th>\n",
       "      <td>Parking Violation</td>\n",
       "      <td>45389</td>\n",
       "    </tr>\n",
       "    <tr>\n",
       "      <th>2</th>\n",
       "      <td>Accident</td>\n",
       "      <td>39599</td>\n",
       "    </tr>\n",
       "    <tr>\n",
       "      <th>3</th>\n",
       "      <td>Stolen Recovered</td>\n",
       "      <td>22732</td>\n",
       "    </tr>\n",
       "    <tr>\n",
       "      <th>4</th>\n",
       "      <td>Scofflaw</td>\n",
       "      <td>15804</td>\n",
       "    </tr>\n",
       "    <tr>\n",
       "      <th>5</th>\n",
       "      <td>Abandoned</td>\n",
       "      <td>11299</td>\n",
       "    </tr>\n",
       "    <tr>\n",
       "      <th>6</th>\n",
       "      <td>Burns</td>\n",
       "      <td>2091</td>\n",
       "    </tr>\n",
       "    <tr>\n",
       "      <th>7</th>\n",
       "      <td>Relocate</td>\n",
       "      <td>315</td>\n",
       "    </tr>\n",
       "    <tr>\n",
       "      <th>8</th>\n",
       "      <td>Stolen Police Hold</td>\n",
       "      <td>266</td>\n",
       "    </tr>\n",
       "    <tr>\n",
       "      <th>9</th>\n",
       "      <td>street cleaning</td>\n",
       "      <td>188</td>\n",
       "    </tr>\n",
       "    <tr>\n",
       "      <th>10</th>\n",
       "      <td>Impound/Scofflaw</td>\n",
       "      <td>107</td>\n",
       "    </tr>\n",
       "    <tr>\n",
       "      <th>11</th>\n",
       "      <td>Commercial Vehicle Restriction</td>\n",
       "      <td>56</td>\n",
       "    </tr>\n",
       "    <tr>\n",
       "      <th>12</th>\n",
       "      <td>misc holds</td>\n",
       "      <td>19</td>\n",
       "    </tr>\n",
       "    <tr>\n",
       "      <th>13</th>\n",
       "      <td>Remove Abandoned Vehicles Everywhere (Voluntary)</td>\n",
       "      <td>18</td>\n",
       "    </tr>\n",
       "    <tr>\n",
       "      <th>14</th>\n",
       "      <td>Street cleaning</td>\n",
       "      <td>8</td>\n",
       "    </tr>\n",
       "    <tr>\n",
       "      <th>15</th>\n",
       "      <td>Disabled</td>\n",
       "      <td>1</td>\n",
       "    </tr>\n",
       "  </tbody>\n",
       "</table>\n",
       "</div>"
      ],
      "text/plain": [
       "                                               index  InState\n",
       "0                                      Police Action    53383\n",
       "1                                  Parking Violation    45389\n",
       "2                                           Accident    39599\n",
       "3                                   Stolen Recovered    22732\n",
       "4                                           Scofflaw    15804\n",
       "5                                          Abandoned    11299\n",
       "6                                              Burns     2091\n",
       "7                                           Relocate      315\n",
       "8                                 Stolen Police Hold      266\n",
       "9                                    street cleaning      188\n",
       "10                                  Impound/Scofflaw      107\n",
       "11                    Commercial Vehicle Restriction       56\n",
       "12                                        misc holds       19\n",
       "13  Remove Abandoned Vehicles Everywhere (Voluntary)       18\n",
       "14                                   Street cleaning        8\n",
       "15                                          Disabled        1"
      ]
     },
     "execution_count": 41,
     "metadata": {},
     "output_type": "execute_result"
    }
   ],
   "source": [
    "# Create tables displaying the count of pickup types for in-state and out-of-state\n",
    "in_state_types = in_state['PickupType'].value_counts().to_frame()\n",
    "in_state_types = in_state_types.rename(columns={'PickupType':'InState'}).reset_index()\n",
    "\n",
    "out_of_state_types = out_of_state['PickupType'].value_counts().to_frame()\n",
    "out_of_state_types = out_of_state_types.rename(columns={'PickupType':'OutOfState'}).reset_index()\n",
    "\n",
    "in_state_types"
   ]
  },
  {
   "cell_type": "code",
   "execution_count": 42,
   "metadata": {
    "colab": {
     "base_uri": "https://localhost:8080/",
     "height": 591
    },
    "id": "3TCefQJiyMoc",
    "outputId": "f7af1387-569f-482a-f338-38fb8356b48f"
   },
   "outputs": [
    {
     "data": {
      "image/png": "[encoded data removed]",
      "text/plain": [
       "<Figure size 720x720 with 1 Axes>"
      ]
     },
     "metadata": {},
     "output_type": "display_data"
    }
   ],
   "source": [
    "# Pie chart information: https://matplotlib.org/stable/gallery/pie_and_polar_charts/pie_features.html#sphx-glr-gallery-pie-and-polar-charts-pie-features-py\n",
    "fig3,ax3 = plt.subplots()\n",
    "ax3.pie(in_state_types['InState'], labels=in_state_types['index'], autopct='%1.1f%%')\n",
    "ax3.set_title('Towing types for in-state vehicles')\n",
    "\n",
    "fig3.set_figheight(10)\n",
    "fig3.set_figwidth(10)\n",
    "\n",
    "plt.show()"
   ]
  },
  {
   "cell_type": "code",
   "execution_count": 43,
   "metadata": {
    "colab": {
     "base_uri": "https://localhost:8080/",
     "height": 591
    },
    "id": "YkAWJKx_82lB",
    "outputId": "13be40ec-4ae0-444d-ee94-9f9fd2641035"
   },
   "outputs": [
    {
     "data": {
      "image/png": "[encoded data removed]",
      "text/plain": [
       "<Figure size 720x720 with 1 Axes>"
      ]
     },
     "metadata": {},
     "output_type": "display_data"
    }
   ],
   "source": [
    "fig4,ax4 = plt.subplots()\n",
    "ax4.pie(out_of_state_types['OutOfState'], labels=out_of_state_types['index'], autopct='%1.1f%%')\n",
    "ax4.set_title('Towing types for out-of-state vehicles')\n",
    "\n",
    "fig4.set_figheight(10)\n",
    "fig4.set_figwidth(10)\n",
    "\n",
    "plt.show()"
   ]
  },
  {
   "cell_type": "code",
   "execution_count": 44,
   "metadata": {
    "colab": {
     "base_uri": "https://localhost:8080/",
     "height": 545
    },
    "id": "khTnrR4M_pO0",
    "outputId": "41209d15-2ab3-479a-f7a9-7a37256e0407"
   },
   "outputs": [
    {
     "data": {
      "text/html": [
       "<div>\n",
       "<style scoped>\n",
       "    .dataframe tbody tr th:only-of-type {\n",
       "        vertical-align: middle;\n",
       "    }\n",
       "\n",
       "    .dataframe tbody tr th {\n",
       "        vertical-align: top;\n",
       "    }\n",
       "\n",
       "    .dataframe thead th {\n",
       "        text-align: right;\n",
       "    }\n",
       "</style>\n",
       "<table border=\"1\" class=\"dataframe\">\n",
       "  <thead>\n",
       "    <tr style=\"text-align: right;\">\n",
       "      <th></th>\n",
       "      <th>Type</th>\n",
       "      <th>Count</th>\n",
       "    </tr>\n",
       "  </thead>\n",
       "  <tbody>\n",
       "    <tr>\n",
       "      <th>0</th>\n",
       "      <td>Police Action</td>\n",
       "      <td>79350</td>\n",
       "    </tr>\n",
       "    <tr>\n",
       "      <th>1</th>\n",
       "      <td>Parking Violation</td>\n",
       "      <td>57380</td>\n",
       "    </tr>\n",
       "    <tr>\n",
       "      <th>2</th>\n",
       "      <td>Accident</td>\n",
       "      <td>46061</td>\n",
       "    </tr>\n",
       "    <tr>\n",
       "      <th>3</th>\n",
       "      <td>Stolen Recovered</td>\n",
       "      <td>29453</td>\n",
       "    </tr>\n",
       "    <tr>\n",
       "      <th>4</th>\n",
       "      <td>Abandoned</td>\n",
       "      <td>22950</td>\n",
       "    </tr>\n",
       "    <tr>\n",
       "      <th>5</th>\n",
       "      <td>Scofflaw</td>\n",
       "      <td>19792</td>\n",
       "    </tr>\n",
       "    <tr>\n",
       "      <th>6</th>\n",
       "      <td>Burns</td>\n",
       "      <td>2917</td>\n",
       "    </tr>\n",
       "    <tr>\n",
       "      <th>7</th>\n",
       "      <td>Relocate</td>\n",
       "      <td>441</td>\n",
       "    </tr>\n",
       "    <tr>\n",
       "      <th>8</th>\n",
       "      <td>Stolen Police Hold</td>\n",
       "      <td>437</td>\n",
       "    </tr>\n",
       "    <tr>\n",
       "      <th>9</th>\n",
       "      <td>street cleaning</td>\n",
       "      <td>215</td>\n",
       "    </tr>\n",
       "    <tr>\n",
       "      <th>10</th>\n",
       "      <td>Impound/Scofflaw</td>\n",
       "      <td>138</td>\n",
       "    </tr>\n",
       "    <tr>\n",
       "      <th>11</th>\n",
       "      <td>Commercial Vehicle Restriction</td>\n",
       "      <td>100</td>\n",
       "    </tr>\n",
       "    <tr>\n",
       "      <th>12</th>\n",
       "      <td>Remove Abandoned Vehicles Everywhere (Voluntary)</td>\n",
       "      <td>83</td>\n",
       "    </tr>\n",
       "    <tr>\n",
       "      <th>13</th>\n",
       "      <td>misc holds</td>\n",
       "      <td>36</td>\n",
       "    </tr>\n",
       "    <tr>\n",
       "      <th>14</th>\n",
       "      <td>Street cleaning</td>\n",
       "      <td>10</td>\n",
       "    </tr>\n",
       "    <tr>\n",
       "      <th>15</th>\n",
       "      <td>Disabled</td>\n",
       "      <td>1</td>\n",
       "    </tr>\n",
       "  </tbody>\n",
       "</table>\n",
       "</div>"
      ],
      "text/plain": [
       "                                                Type  Count\n",
       "0                                      Police Action  79350\n",
       "1                                  Parking Violation  57380\n",
       "2                                           Accident  46061\n",
       "3                                   Stolen Recovered  29453\n",
       "4                                          Abandoned  22950\n",
       "5                                           Scofflaw  19792\n",
       "6                                              Burns   2917\n",
       "7                                           Relocate    441\n",
       "8                                 Stolen Police Hold    437\n",
       "9                                    street cleaning    215\n",
       "10                                  Impound/Scofflaw    138\n",
       "11                    Commercial Vehicle Restriction    100\n",
       "12  Remove Abandoned Vehicles Everywhere (Voluntary)     83\n",
       "13                                        misc holds     36\n",
       "14                                   Street cleaning     10\n",
       "15                                          Disabled      1"
      ]
     },
     "execution_count": 44,
     "metadata": {},
     "output_type": "execute_result"
    }
   ],
   "source": [
    "# Plot the percentage pf pickup types for the whole dataset for comparison\n",
    "# Refers to pickup types dataframe from when the pickup types column was cleaned\n",
    "pickup_types"
   ]
  },
  {
   "cell_type": "code",
   "execution_count": 45,
   "metadata": {
    "colab": {
     "base_uri": "https://localhost:8080/",
     "height": 591
    },
    "id": "FXsD7WSH_7dm",
    "outputId": "9a31927a-fecc-46d2-f370-085abf86b590"
   },
   "outputs": [
    {
     "data": {
      "image/png": "[encoded data removed]",
      "text/plain": [
       "<Figure size 720x720 with 1 Axes>"
      ]
     },
     "metadata": {},
     "output_type": "display_data"
    }
   ],
   "source": [
    "fig5, ax5 = plt.subplots()\n",
    "ax5.pie(pickup_types['Count'], labels=pickup_types['Type'], autopct='%1.1f%%')\n",
    "ax5.set_title('Towing types for all vehicles')\n",
    "\n",
    "fig5.set_figheight(10)\n",
    "fig5.set_figwidth(10)\n",
    "\n",
    "plt.show()"
   ]
  },
  {
   "cell_type": "markdown",
   "metadata": {
    "id": "zkXqHkzSAj0j"
   },
   "source": [
    "Out-of-states seem to have a high percentage of parking violations compared to all vehicles combined, but this data is incomplete so the result may be skewed. However, Maryland vehicles have a higher number of parking violations overall, due to the fact that more in-state vehicles are towed than out-of-state vehicles overall."
   ]
  }
 ],
 "metadata": {
  "colab": {
   "collapsed_sections": [],
   "name": "project2.ipynb",
   "provenance": [],
   "toc_visible": true
  },
  "kernelspec": {
   "display_name": "Python 3",
   "language": "python",
   "name": "python3"
  },
  "language_info": {
   "codemirror_mode": {
    "name": "ipython",
    "version": 3
   },
   "file_extension": ".py",
   "mimetype": "text/x-python",
   "name": "python",
   "nbconvert_exporter": "python",
   "pygments_lexer": "ipython3",
   "version": "3.8.5"
  }
 },
 "nbformat": 4,
 "nbformat_minor": 1
}
