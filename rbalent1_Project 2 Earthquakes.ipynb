{
 "cells": [
  {
   "cell_type": "markdown",
   "id": "sublime-highlight",
   "metadata": {},
   "source": [
    "This project looks at where earthquakes and other events occured around the world.\n",
    "\n",
    "Data taken from: https://earthquake.usgs.gov/earthquakes/feed/v1.0/csv.php\n",
    "\n",
    "\n"
   ]
  },
  {
   "cell_type": "code",
   "execution_count": null,
   "id": "framed-evans",
   "metadata": {},
   "outputs": [],
   "source": [
    "import pandas as pd\n",
    "import requests\n",
    "from io import StringIO\n",
    "import geopandas as gpd\n",
    "import matplotlib.pyplot as plt\n",
    "import glob\n",
    "from shapely.geometry import Point, Polygon\n",
    "from pyproj import CRS\n",
    "import numpy as np\n",
    "\n",
    "!python --version\n",
    "print('Pandas Version:', pd.__version__)\n",
    "print('Requests Version:', requests.__version__)\n",
    "print('Geopandas Version:', gpd.__version__)"
   ]
  },
  {
   "cell_type": "markdown",
   "id": "ordered-photographer",
   "metadata": {},
   "source": [
    "Imports and versions:\n"
   ]
  },
  {
   "cell_type": "code",
   "execution_count": null,
   "id": "adopted-orchestra",
   "metadata": {},
   "outputs": [],
   "source": [
    "# https://stackoverflow.com/questions/56611698/pandas-how-to-read-csv-file-from-google-drive-public\n",
    "def import_data(url):\n",
    "    file_id = url.split('/')[-2]\n",
    "    download = 'https://drive.google.com/uc?export=download&id=' + file_id\n",
    "    url = requests.get(download).text\n",
    "    raw = StringIO(url)\n",
    "    return pd.read_csv(raw)\n",
    "\n",
    "\n",
    "file_1 = import_data('https://drive.google.com/file/d/1UZnCkoibG6G9c8Txn36T-09zi7q8qnj1/view?usp=sharing')\n",
    "file_2 = import_data('https://drive.google.com/file/d/10zxNYvxIpQhkasEXUEQBVd9PlmIxZUuE/view?usp=sharing')\n",
    "file_3 = import_data('https://drive.google.com/file/d/1X4Np6OX-73oohyJ7jz2v2vM1xzbb3m6P/view?usp=sharing')"
   ]
  },
  {
   "cell_type": "markdown",
   "id": "happy-alarm",
   "metadata": {},
   "source": [
    "Retrieving the files from google drive and converting them to dataframes. The source I used only allows downloading of a month's worth of data so I uploaded files I previously downloaded to have more data to work with."
   ]
  },
  {
   "cell_type": "code",
   "execution_count": null,
   "id": "ecological-linux",
   "metadata": {},
   "outputs": [],
   "source": [
    "frames = [file_1, file_2, file_3]\n",
    "df = pd.concat(frames)"
   ]
  },
  {
   "cell_type": "markdown",
   "id": "continental-museum",
   "metadata": {},
   "source": [
    "Combining the files into one dataframe."
   ]
  },
  {
   "cell_type": "code",
   "execution_count": null,
   "id": "expressed-medicare",
   "metadata": {},
   "outputs": [],
   "source": [
    "df.info()"
   ]
  },
  {
   "cell_type": "markdown",
   "id": "relative-vaccine",
   "metadata": {},
   "source": [
    "There are 31,742 entries, but due to not downloading each file at the exact time, I believe there are duplicate entries. "
   ]
  },
  {
   "cell_type": "code",
   "execution_count": null,
   "id": "accessory-twenty",
   "metadata": {},
   "outputs": [],
   "source": [
    "df.nunique()"
   ]
  },
  {
   "cell_type": "markdown",
   "id": "thirty-blocking",
   "metadata": {},
   "source": [
    "Looking at the number of unique entries confirms this. I know from the source that id is a unique value so I'll drop any id duplicates."
   ]
  },
  {
   "cell_type": "code",
   "execution_count": null,
   "id": "ultimate-sound",
   "metadata": {},
   "outputs": [],
   "source": [
    "# https://pandas.pydata.org/pandas-docs/stable/reference/api/pandas.DataFrame.drop_duplicates.html\n",
    "df.drop_duplicates(subset='id', inplace=True)"
   ]
  },
  {
   "cell_type": "code",
   "execution_count": null,
   "id": "spiritual-bristol",
   "metadata": {},
   "outputs": [],
   "source": [
    "df.info()"
   ]
  },
  {
   "cell_type": "code",
   "execution_count": null,
   "id": "noticed-specialist",
   "metadata": {},
   "outputs": [],
   "source": [
    "# https://www.w3resource.com/python-exercises/pandas/datetime/pandas-datetime-exercise-3.php\n",
    "df['time'] = df['time'].astype('datetime64[ns]')\n",
    "print('First:', df.time.min())\n",
    "print('Last:', df.time.max())\n",
    "print('Days:', (df.time.max()-df.time.min()).days)"
   ]
  },
  {
   "cell_type": "markdown",
   "id": "cubic-reference",
   "metadata": {},
   "source": [
    "Now there are only 25,449 entries ranging from Jan 23 to Apr 1. 68 total days."
   ]
  },
  {
   "cell_type": "code",
   "execution_count": null,
   "id": "quantitative-presence",
   "metadata": {},
   "outputs": [],
   "source": [
    "world = gpd.read_file(gpd.datasets.get_path('naturalearth_lowres'))"
   ]
  },
  {
   "cell_type": "markdown",
   "id": "corresponding-bubble",
   "metadata": {},
   "source": [
    "I use a built-in world map from geopandas for plotting."
   ]
  },
  {
   "cell_type": "code",
   "execution_count": null,
   "id": "decimal-powell",
   "metadata": {},
   "outputs": [],
   "source": [
    "# https://towardsdatascience.com/plotting-maps-with-geopandas-428c97295a73\n",
    "crs = CRS(\"ESRI:54009\")\n",
    "geometry = [Point(xy) for xy in zip(df['longitude'], df['latitude'])]\n",
    "geo_df = gpd.GeoDataFrame(df, crs = crs, geometry = geometry)"
   ]
  },
  {
   "cell_type": "code",
   "execution_count": null,
   "id": "surprised-disposition",
   "metadata": {},
   "outputs": [],
   "source": [
    "geo_df.head()"
   ]
  },
  {
   "cell_type": "markdown",
   "id": "studied-mozambique",
   "metadata": {},
   "source": [
    "Creating a new geo dataframe with the lat and long in its own column."
   ]
  },
  {
   "cell_type": "code",
   "execution_count": null,
   "id": "rocky-cruise",
   "metadata": {},
   "outputs": [],
   "source": [
    "# https://towardsdatascience.com/plotting-maps-with-geopandas-428c97295a73\n",
    "fig, ax = plt.subplots(figsize = (20, 20))\n",
    "world.to_crs(epsg=4326).plot(ax=ax, color='lightgrey')\n",
    "geo_df.plot(\n",
    "    ax=ax, \n",
    "    alpha = .5,\n",
    "    markersize = 2)\n",
    "ax.set_title('Earthquakes and Events')"
   ]
  },
  {
   "cell_type": "markdown",
   "id": "attended-testimony",
   "metadata": {},
   "source": [
    "The bulk of events reported occurred in the United States which makes sense since this data is from the USGS (United States Geological Survey). I would presume that most of the detection equipment is located in the US. Almost all the events from the rest of the world are on a tectonic plate boundary which makes sense."
   ]
  },
  {
   "cell_type": "code",
   "execution_count": null,
   "id": "studied-klein",
   "metadata": {},
   "outputs": [],
   "source": [
    "# https://towardsdatascience.com/plotting-maps-with-geopandas-428c97295a73\n",
    "fig, ax = plt.subplots(figsize = (30, 20))\n",
    "world.to_crs(epsg=4326).plot(ax=ax, color='lightgrey')\n",
    "geo_df.plot(\n",
    "    column = 'mag',\n",
    "    ax=ax,\n",
    "    cmap = 'rainbow',\n",
    "    legend = True,\n",
    "    legend_kwds={'shrink': 0.3},\n",
    "    alpha = 1,\n",
    "    markersize = 30)\n",
    "ax.set_title('Earthquake and Event Magnitudes')"
   ]
  },
  {
   "cell_type": "markdown",
   "id": "beneficial-tender",
   "metadata": {},
   "source": [
    "Looking at the magnitudes for events around the world, most of the events in the US are a lower magnitude, 2 and below. While most events around the world are around 4 and above. If most of the USGS detection equipment is in the US, it makes sense that they would detect lower magnitudes in the US and higher elsewhere. "
   ]
  },
  {
   "cell_type": "code",
   "execution_count": null,
   "id": "advanced-latvia",
   "metadata": {},
   "outputs": [],
   "source": [
    "fig, ax = plt.subplots(figsize = (20, 20))\n",
    "world.to_crs(epsg=4326).plot(ax=ax, color='lightgrey')\n",
    "geo_df.plot(\n",
    "    column = 'type',\n",
    "    ax=ax,\n",
    "    cmap = 'rainbow',\n",
    "    legend = True,\n",
    "    # legend_kwds={'shrink': 0.3},\n",
    "    alpha = 1,\n",
    "    markersize = 5)\n",
    "ax.set_title('Event Types')"
   ]
  },
  {
   "cell_type": "markdown",
   "id": "manufactured-purpose",
   "metadata": {},
   "source": [
    "It's a little hard to see, but it looks like only in the US, were events other than earthquakes detected. It's cluttered but quarry blasts and explosions are the most common non earthquakes."
   ]
  },
  {
   "cell_type": "code",
   "execution_count": null,
   "id": "frequent-sweden",
   "metadata": {},
   "outputs": [],
   "source": [
    "df.groupby('type')['mag'].value_counts(bins=1).sort_index().to_frame()"
   ]
  },
  {
   "cell_type": "markdown",
   "id": "boring-scheme",
   "metadata": {},
   "source": [
    "This confirms it, most common non earthquakes are quarry blasts, followed by explosions. They have relatively low magnitude so going by my theory, would not be detected outside the US."
   ]
  },
  {
   "cell_type": "code",
   "execution_count": null,
   "id": "seventh-bookmark",
   "metadata": {},
   "outputs": [],
   "source": [
    "fig, ax = plt.subplots(figsize = (30, 20))\n",
    "world.to_crs(epsg=4326).plot(ax=ax, color='lightgrey')\n",
    "geo_df.plot(\n",
    "    column = 'depth',\n",
    "    ax=ax,\n",
    "    cmap = 'rainbow',\n",
    "    legend = True,\n",
    "    legend_kwds={'shrink': 0.3},\n",
    "    alpha = 1,\n",
    "    markersize = 5)\n",
    "ax.set_title('Depth')"
   ]
  },
  {
   "cell_type": "markdown",
   "id": "anticipated-banner",
   "metadata": {},
   "source": [
    "The source states that depth is the most prone to error and guesswork. It is recorded as depth in kilometers, so 600 would be 600 km down. Most events are recorded as having low depths with only quakes in Indonesia and the Pacific generally being more than 400"
   ]
  },
  {
   "cell_type": "code",
   "execution_count": null,
   "id": "powerful-samba",
   "metadata": {},
   "outputs": [],
   "source": [
    "USA = world[world.name == 'United States of America']\n",
    "geo_df['within'] = ''\n",
    "\n",
    "# https://stackoverflow.com/questions/63369715/filter-a-geopandas-dataframe-within-a-polygon-and-remove-from-the-dataframe-the\n",
    "within_list = []\n",
    "for lon,lat in zip(geo_df.longitude, geo_df.latitude):\n",
    "    pt = Point(lon, lat)\n",
    "    within = pt.within(USA['geometry'].values[0])\n",
    "    within_list.append(within)\n",
    "\n",
    "geo_df['within'] = within_list\n"
   ]
  },
  {
   "cell_type": "code",
   "execution_count": null,
   "id": "patent-sustainability",
   "metadata": {},
   "outputs": [],
   "source": [
    "USA_quakes = geo_df[geo_df['within'] == True]"
   ]
  },
  {
   "cell_type": "markdown",
   "id": "connected-indicator",
   "metadata": {},
   "source": [
    "Creating a new geo dataframe of just the US and filtering out events outside the US."
   ]
  },
  {
   "cell_type": "code",
   "execution_count": null,
   "id": "annual-airport",
   "metadata": {},
   "outputs": [],
   "source": [
    "fig, ax = plt.subplots(figsize = (30, 20))\n",
    "USA.to_crs(epsg=4326).plot(ax=ax, facecolor='none', edgecolor='black')\n",
    "USA_quakes.plot(\n",
    "    ax=ax,\n",
    "    alpha = .1,\n",
    "    markersize = 20)\n",
    "ax.set_title('Earthquakes in the US')"
   ]
  },
  {
   "cell_type": "markdown",
   "id": "extraordinary-manitoba",
   "metadata": {},
   "source": [
    "Going into more detail in the US, most events happen in California, Alaska, and Hawaii. This makes sense, since they are the most geologically active states."
   ]
  },
  {
   "cell_type": "code",
   "execution_count": null,
   "id": "female-outreach",
   "metadata": {},
   "outputs": [],
   "source": [
    "fig, ax = plt.subplots(figsize = (30, 20))\n",
    "USA.to_crs(epsg=4326).plot(ax=ax, facecolor='none', edgecolor='black')\n",
    "USA_quakes.plot(\n",
    "    ax=ax,\n",
    "    column = ('depth'),\n",
    "    cmap = 'rainbow',\n",
    "    legend = True,\n",
    "    legend_kwds={'shrink': 0.3},\n",
    "    alpha = .1,\n",
    "    markersize = 20)\n",
    "ax.set_title('Depth in the US')"
   ]
  },
  {
   "cell_type": "markdown",
   "id": "major-budapest",
   "metadata": {},
   "source": [
    "Like the previous depth map, most events are recorded as being close to the surface with only Alaska generally having more than 100 km depth."
   ]
  },
  {
   "cell_type": "code",
   "execution_count": null,
   "id": "bizarre-rough",
   "metadata": {},
   "outputs": [],
   "source": [
    "neg_dep = USA_quakes[USA_quakes['depth'] < 0]\n",
    "fig, ax = plt.subplots(figsize = (30, 20))\n",
    "USA.to_crs(epsg=4326).plot(ax=ax, facecolor='none', edgecolor='black')\n",
    "neg_dep.plot(\n",
    "    ax=ax,\n",
    "    column = ('depth'),\n",
    "    cmap = 'rainbow',\n",
    "    legend = True,\n",
    "    legend_kwds={'shrink': 0.3},\n",
    "    markersize = 20)\n",
    "ax.set_title('Negative Depth in the US')"
   ]
  },
  {
   "cell_type": "markdown",
   "id": "fancy-boulder",
   "metadata": {},
   "source": [
    "In the previous project I noted that there were negative depths for some events and speculated that they corresponded to events in the mountains. Going by this map this seems to have been correct as events with a negative depth occur in the Rockies, the Alaskan mountains, and Hawaii's mountain. "
   ]
  },
  {
   "cell_type": "code",
   "execution_count": null,
   "id": "recreational-broadcasting",
   "metadata": {},
   "outputs": [],
   "source": [
    "no_USA_quakes = USA_quakes[USA_quakes['type'] != 'earthquake']\n",
    "fig, ax = plt.subplots(figsize = (30, 20))\n",
    "USA.to_crs(epsg=4326).plot(ax=ax, facecolor=\"none\", edgecolor=\"black\")\n",
    "no_USA_quakes.plot(\n",
    "    column = 'type',\n",
    "    ax=ax,\n",
    "    cmap = 'rainbow',\n",
    "    legend = True,\n",
    "    # legend_kwds={'shrink': 0.3},\n",
    "    alpha = .8,\n",
    "    markersize = 50)\n",
    "ax.set_title('Event Types')"
   ]
  },
  {
   "cell_type": "markdown",
   "id": "extended-capitol",
   "metadata": {},
   "source": [
    "Most of the explosions occur in the Pacific Northwest. A lot of Quarry blasts in California, Arizona, North Texas and Oklahoma, and Montana. There was a mine collapse in West Virginia/Kentucky. A Mining Explosion in Arizona. Ice Quakes only occur in Alaska which also has explosions and other events."
   ]
  },
  {
   "cell_type": "markdown",
   "id": "statistical-heavy",
   "metadata": {},
   "source": [
    "It's interesting that mainly the Pacific Northwest only has explosions. I don't know why. It makes sense that only Alaska has Ice quakes. I'm curious as to what the other events in Alaska are."
   ]
  }
 ],
 "metadata": {
  "kernelspec": {
   "display_name": "Python 3",
   "language": "python",
   "name": "python3"
  },
  "language_info": {
   "codemirror_mode": {
    "name": "ipython",
    "version": 3
   },
   "file_extension": ".py",
   "mimetype": "text/x-python",
   "name": "python",
   "nbconvert_exporter": "python",
   "pygments_lexer": "ipython3",
   "version": "3.9.2"
  }
 },
 "nbformat": 4,
 "nbformat_minor": 5
}
