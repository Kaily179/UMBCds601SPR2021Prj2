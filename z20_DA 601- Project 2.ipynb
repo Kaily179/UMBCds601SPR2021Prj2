{
 "cells": [
  {
   "cell_type": "markdown",
   "metadata": {},
   "source": [
    "Project 2 Hypothese Testing"
   ]
  },
  {
   "cell_type": "markdown",
   "metadata": {},
   "source": [
    "Topic: Amazon's Top 50 bestselling books from 2009 to 2019. Contains 550 books, data has been categorized into fiction and non-fiction using Goodreads. I would do some hypotheses test on ranking and evaluate books differently depending on the genre or evaluate if there is a trend toward darker themes in more recent years. This dataset named “bestsellers with categories.csv” is found in https://www.kaggle.com/sootersaalu/amazon-top-50-bestselling-books-2009-2019"
   ]
  },
  {
   "cell_type": "code",
   "execution_count": 163,
   "metadata": {},
   "outputs": [
    {
     "name": "stdout",
     "output_type": "stream",
     "text": [
      "/Users/lingzhang/Documents/Spring2021/DA 601\n"
     ]
    }
   ],
   "source": [
    "#Import data\n",
    "import os\n",
    "print(os.getcwd())"
   ]
  },
  {
   "cell_type": "code",
   "execution_count": 164,
   "metadata": {},
   "outputs": [],
   "source": [
    "import pandas as pd\n",
    "import numpy as np\n",
    "import seaborn as sns\n",
    "from numpy import nan\n",
    "import missingno as msno\n",
    "from fuzzywuzzy import fuzz\n",
    "from fuzzywuzzy import process\n",
    "import collections\n",
    "import matplotlib.pyplot as plt\n",
    "from plotly.subplots import make_subplots\n",
    "import plotly.graph_objects as go\n",
    "\n",
    "import plotly.graph_objects as go\n",
    "from plotly.subplots import make_subplots\n",
    "\n",
    "import plotly.figure_factory as ff\n",
    "from scipy.stats import shapiro\n",
    "from scipy.stats import mannwhitneyu"
   ]
  },
  {
   "cell_type": "code",
   "execution_count": 165,
   "metadata": {},
   "outputs": [
    {
     "data": {
      "text/html": [
       "<div>\n",
       "<style scoped>\n",
       "    .dataframe tbody tr th:only-of-type {\n",
       "        vertical-align: middle;\n",
       "    }\n",
       "\n",
       "    .dataframe tbody tr th {\n",
       "        vertical-align: top;\n",
       "    }\n",
       "\n",
       "    .dataframe thead th {\n",
       "        text-align: right;\n",
       "    }\n",
       "</style>\n",
       "<table border=\"1\" class=\"dataframe\">\n",
       "  <thead>\n",
       "    <tr style=\"text-align: right;\">\n",
       "      <th></th>\n",
       "      <th>Name</th>\n",
       "      <th>Author</th>\n",
       "      <th>User Rating</th>\n",
       "      <th>Reviews</th>\n",
       "      <th>Price</th>\n",
       "      <th>Year</th>\n",
       "      <th>Genre</th>\n",
       "    </tr>\n",
       "  </thead>\n",
       "  <tbody>\n",
       "    <tr>\n",
       "      <th>0</th>\n",
       "      <td>10-Day Green Smoothie Cleanse</td>\n",
       "      <td>JJ Smith</td>\n",
       "      <td>4.7</td>\n",
       "      <td>17350</td>\n",
       "      <td>8</td>\n",
       "      <td>2016</td>\n",
       "      <td>Non Fiction</td>\n",
       "    </tr>\n",
       "    <tr>\n",
       "      <th>1</th>\n",
       "      <td>11/22/63: A Novel</td>\n",
       "      <td>Stephen King</td>\n",
       "      <td>4.6</td>\n",
       "      <td>2052</td>\n",
       "      <td>22</td>\n",
       "      <td>2011</td>\n",
       "      <td>Fiction</td>\n",
       "    </tr>\n",
       "    <tr>\n",
       "      <th>2</th>\n",
       "      <td>12 Rules for Life: An Antidote to Chaos</td>\n",
       "      <td>Jordan B. Peterson</td>\n",
       "      <td>4.7</td>\n",
       "      <td>18979</td>\n",
       "      <td>15</td>\n",
       "      <td>2018</td>\n",
       "      <td>Non Fiction</td>\n",
       "    </tr>\n",
       "    <tr>\n",
       "      <th>3</th>\n",
       "      <td>1984 (Signet Classics)</td>\n",
       "      <td>George Orwell</td>\n",
       "      <td>4.7</td>\n",
       "      <td>21424</td>\n",
       "      <td>6</td>\n",
       "      <td>2017</td>\n",
       "      <td>Fiction</td>\n",
       "    </tr>\n",
       "    <tr>\n",
       "      <th>4</th>\n",
       "      <td>5,000 Awesome Facts (About Everything!) (Natio...</td>\n",
       "      <td>National Geographic Kids</td>\n",
       "      <td>4.8</td>\n",
       "      <td>7665</td>\n",
       "      <td>12</td>\n",
       "      <td>2019</td>\n",
       "      <td>Non Fiction</td>\n",
       "    </tr>\n",
       "    <tr>\n",
       "      <th>5</th>\n",
       "      <td>A Dance with Dragons (A Song of Ice and Fire)</td>\n",
       "      <td>George R. R. Martin</td>\n",
       "      <td>4.4</td>\n",
       "      <td>12643</td>\n",
       "      <td>11</td>\n",
       "      <td>2011</td>\n",
       "      <td>Fiction</td>\n",
       "    </tr>\n",
       "    <tr>\n",
       "      <th>6</th>\n",
       "      <td>A Game of Thrones / A Clash of Kings / A Storm...</td>\n",
       "      <td>George R. R. Martin</td>\n",
       "      <td>4.7</td>\n",
       "      <td>19735</td>\n",
       "      <td>30</td>\n",
       "      <td>2014</td>\n",
       "      <td>Fiction</td>\n",
       "    </tr>\n",
       "    <tr>\n",
       "      <th>7</th>\n",
       "      <td>A Gentleman in Moscow: A Novel</td>\n",
       "      <td>Amor Towles</td>\n",
       "      <td>4.7</td>\n",
       "      <td>19699</td>\n",
       "      <td>15</td>\n",
       "      <td>2017</td>\n",
       "      <td>Fiction</td>\n",
       "    </tr>\n",
       "    <tr>\n",
       "      <th>8</th>\n",
       "      <td>A Higher Loyalty: Truth, Lies, and Leadership</td>\n",
       "      <td>James Comey</td>\n",
       "      <td>4.7</td>\n",
       "      <td>5983</td>\n",
       "      <td>3</td>\n",
       "      <td>2018</td>\n",
       "      <td>Non Fiction</td>\n",
       "    </tr>\n",
       "    <tr>\n",
       "      <th>9</th>\n",
       "      <td>A Man Called Ove: A Novel</td>\n",
       "      <td>Fredrik Backman</td>\n",
       "      <td>4.6</td>\n",
       "      <td>23848</td>\n",
       "      <td>8</td>\n",
       "      <td>2016</td>\n",
       "      <td>Fiction</td>\n",
       "    </tr>\n",
       "  </tbody>\n",
       "</table>\n",
       "</div>"
      ],
      "text/plain": [
       "                                                Name  \\\n",
       "0                      10-Day Green Smoothie Cleanse   \n",
       "1                                  11/22/63: A Novel   \n",
       "2            12 Rules for Life: An Antidote to Chaos   \n",
       "3                             1984 (Signet Classics)   \n",
       "4  5,000 Awesome Facts (About Everything!) (Natio...   \n",
       "5      A Dance with Dragons (A Song of Ice and Fire)   \n",
       "6  A Game of Thrones / A Clash of Kings / A Storm...   \n",
       "7                     A Gentleman in Moscow: A Novel   \n",
       "8      A Higher Loyalty: Truth, Lies, and Leadership   \n",
       "9                          A Man Called Ove: A Novel   \n",
       "\n",
       "                     Author  User Rating  Reviews  Price  Year        Genre  \n",
       "0                  JJ Smith          4.7    17350      8  2016  Non Fiction  \n",
       "1              Stephen King          4.6     2052     22  2011      Fiction  \n",
       "2        Jordan B. Peterson          4.7    18979     15  2018  Non Fiction  \n",
       "3             George Orwell          4.7    21424      6  2017      Fiction  \n",
       "4  National Geographic Kids          4.8     7665     12  2019  Non Fiction  \n",
       "5       George R. R. Martin          4.4    12643     11  2011      Fiction  \n",
       "6       George R. R. Martin          4.7    19735     30  2014      Fiction  \n",
       "7               Amor Towles          4.7    19699     15  2017      Fiction  \n",
       "8               James Comey          4.7     5983      3  2018  Non Fiction  \n",
       "9           Fredrik Backman          4.6    23848      8  2016      Fiction  "
      ]
     },
     "execution_count": 165,
     "metadata": {},
     "output_type": "execute_result"
    }
   ],
   "source": [
    "#use pandas to read a csv file into DataFrame\n",
    "df = pd.read_csv('/Users/lingzhang/Documents/Spring2021/DA 601/bestsellers with categories.csv')\n",
    "df.head(10)"
   ]
  },
  {
   "cell_type": "code",
   "execution_count": 166,
   "metadata": {},
   "outputs": [
    {
     "data": {
      "text/plain": [
       "<bound method DataFrame.info of                                                   Name  \\\n",
       "0                        10-Day Green Smoothie Cleanse   \n",
       "1                                    11/22/63: A Novel   \n",
       "2              12 Rules for Life: An Antidote to Chaos   \n",
       "3                               1984 (Signet Classics)   \n",
       "4    5,000 Awesome Facts (About Everything!) (Natio...   \n",
       "..                                                 ...   \n",
       "545       Wrecking Ball (Diary of a Wimpy Kid Book 14)   \n",
       "546  You Are a Badass: How to Stop Doubting Your Gr...   \n",
       "547  You Are a Badass: How to Stop Doubting Your Gr...   \n",
       "548  You Are a Badass: How to Stop Doubting Your Gr...   \n",
       "549  You Are a Badass: How to Stop Doubting Your Gr...   \n",
       "\n",
       "                       Author  User Rating  Reviews  Price  Year        Genre  \n",
       "0                    JJ Smith          4.7    17350      8  2016  Non Fiction  \n",
       "1                Stephen King          4.6     2052     22  2011      Fiction  \n",
       "2          Jordan B. Peterson          4.7    18979     15  2018  Non Fiction  \n",
       "3               George Orwell          4.7    21424      6  2017      Fiction  \n",
       "4    National Geographic Kids          4.8     7665     12  2019  Non Fiction  \n",
       "..                        ...          ...      ...    ...   ...          ...  \n",
       "545               Jeff Kinney          4.9     9413      8  2019      Fiction  \n",
       "546               Jen Sincero          4.7    14331      8  2016  Non Fiction  \n",
       "547               Jen Sincero          4.7    14331      8  2017  Non Fiction  \n",
       "548               Jen Sincero          4.7    14331      8  2018  Non Fiction  \n",
       "549               Jen Sincero          4.7    14331      8  2019  Non Fiction  \n",
       "\n",
       "[550 rows x 7 columns]>"
      ]
     },
     "execution_count": 166,
     "metadata": {},
     "output_type": "execute_result"
    }
   ],
   "source": [
    "df.info"
   ]
  },
  {
   "cell_type": "code",
   "execution_count": 167,
   "metadata": {},
   "outputs": [
    {
     "data": {
      "text/plain": [
       "Name            object\n",
       "Author          object\n",
       "User Rating    float64\n",
       "Reviews          int64\n",
       "Price            int64\n",
       "Year             int64\n",
       "Genre           object\n",
       "dtype: object"
      ]
     },
     "execution_count": 167,
     "metadata": {},
     "output_type": "execute_result"
    }
   ],
   "source": [
    "#deduce data types\n",
    "df.dtypes"
   ]
  },
  {
   "cell_type": "code",
   "execution_count": 168,
   "metadata": {},
   "outputs": [
    {
     "data": {
      "text/html": [
       "<div>\n",
       "<style scoped>\n",
       "    .dataframe tbody tr th:only-of-type {\n",
       "        vertical-align: middle;\n",
       "    }\n",
       "\n",
       "    .dataframe tbody tr th {\n",
       "        vertical-align: top;\n",
       "    }\n",
       "\n",
       "    .dataframe thead th {\n",
       "        text-align: right;\n",
       "    }\n",
       "</style>\n",
       "<table border=\"1\" class=\"dataframe\">\n",
       "  <thead>\n",
       "    <tr style=\"text-align: right;\">\n",
       "      <th></th>\n",
       "      <th>count</th>\n",
       "      <th>mean</th>\n",
       "      <th>std</th>\n",
       "      <th>min</th>\n",
       "      <th>25%</th>\n",
       "      <th>50%</th>\n",
       "      <th>75%</th>\n",
       "      <th>max</th>\n",
       "    </tr>\n",
       "  </thead>\n",
       "  <tbody>\n",
       "    <tr>\n",
       "      <th>User Rating</th>\n",
       "      <td>550.0</td>\n",
       "      <td>4.618364</td>\n",
       "      <td>0.226980</td>\n",
       "      <td>3.3</td>\n",
       "      <td>4.5</td>\n",
       "      <td>4.7</td>\n",
       "      <td>4.80</td>\n",
       "      <td>4.9</td>\n",
       "    </tr>\n",
       "    <tr>\n",
       "      <th>Reviews</th>\n",
       "      <td>550.0</td>\n",
       "      <td>11953.281818</td>\n",
       "      <td>11731.132017</td>\n",
       "      <td>37.0</td>\n",
       "      <td>4058.0</td>\n",
       "      <td>8580.0</td>\n",
       "      <td>17253.25</td>\n",
       "      <td>87841.0</td>\n",
       "    </tr>\n",
       "    <tr>\n",
       "      <th>Price</th>\n",
       "      <td>550.0</td>\n",
       "      <td>13.100000</td>\n",
       "      <td>10.842262</td>\n",
       "      <td>0.0</td>\n",
       "      <td>7.0</td>\n",
       "      <td>11.0</td>\n",
       "      <td>16.00</td>\n",
       "      <td>105.0</td>\n",
       "    </tr>\n",
       "    <tr>\n",
       "      <th>Year</th>\n",
       "      <td>550.0</td>\n",
       "      <td>2014.000000</td>\n",
       "      <td>3.165156</td>\n",
       "      <td>2009.0</td>\n",
       "      <td>2011.0</td>\n",
       "      <td>2014.0</td>\n",
       "      <td>2017.00</td>\n",
       "      <td>2019.0</td>\n",
       "    </tr>\n",
       "  </tbody>\n",
       "</table>\n",
       "</div>"
      ],
      "text/plain": [
       "             count          mean           std     min     25%     50%  \\\n",
       "User Rating  550.0      4.618364      0.226980     3.3     4.5     4.7   \n",
       "Reviews      550.0  11953.281818  11731.132017    37.0  4058.0  8580.0   \n",
       "Price        550.0     13.100000     10.842262     0.0     7.0    11.0   \n",
       "Year         550.0   2014.000000      3.165156  2009.0  2011.0  2014.0   \n",
       "\n",
       "                  75%      max  \n",
       "User Rating      4.80      4.9  \n",
       "Reviews      17253.25  87841.0  \n",
       "Price           16.00    105.0  \n",
       "Year          2017.00   2019.0  "
      ]
     },
     "execution_count": 168,
     "metadata": {},
     "output_type": "execute_result"
    }
   ],
   "source": [
    "# Displaying measures of the central trend\n",
    "df.describe().T"
   ]
  },
  {
   "cell_type": "code",
   "execution_count": 169,
   "metadata": {},
   "outputs": [],
   "source": [
    "# Take all authors with the highest average rating\n",
    "top_10_autors = bestsellers.groupby('Author')[['User Rating']].mean()\\\n",
    "                                                              .sort_values('User Rating', ascending=False)\\\n",
    "                                                              .head(10)\\\n",
    "                                                              .reset_index()\n",
    "# Take the authors who have written the most bestsellers\n",
    "number_of_books_written = bestsellers.groupby('Author')[['Name']].count()\\\n",
    "                                                                 .sort_values('Name', ascending=False)\\\n",
    "                                                                 .head(10)\\\n",
    "                                                                 .reset_index()\n",
    "\n",
    "# Take books with the number of reviews\n",
    "books_with_the_number_of_reviews = bestsellers.groupby('Name')[['Reviews']].sum()\\\n",
    "                                                                           .sort_values('Reviews', ascending=False)\\\n",
    "                                                                           .head(5)\\\n",
    "                                                                           .reset_index()\n",
    "\n",
    "# Take the number of books by genre\n",
    "number_of_books_by_genre = bestsellers.groupby('Genre')[['Name']].count()\\\n",
    "                                                                 .sort_values('Name', ascending=False)\\\n",
    "                                                                 .head(10)\\\n",
    "                                                                 .reset_index()"
   ]
  },
  {
   "cell_type": "code",
   "execution_count": 170,
   "metadata": {},
   "outputs": [
    {
     "data": {
      "application/vnd.plotly.v1+json": {
       "config": {
        "plotlyServerURL": "https://plot.ly"
       },
       "data": [
        {
         "cells": {
          "fill": {
           "color": "White"
          },
          "line": {
           "color": "darkslategray"
          },
          "values": [
           [
            "Patrick Thorpe",
            "Alice Schertle",
            "Pete Souza",
            "Lin-Manuel Miranda",
            "Rush Limbaugh",
            "Sarah Young",
            "Jill Twiss",
            "Nathan W. Pyle",
            "Sherri Duskey Rinker",
            "Chip Gaines"
           ],
           [
            4.9,
            4.9,
            4.9,
            4.9,
            4.9,
            4.9,
            4.9,
            4.9,
            4.9,
            4.9
           ]
          ]
         },
         "columnorder": [
          1,
          2
         ],
         "columnwidth": [
          100,
          50
         ],
         "header": {
          "fill": {
           "color": "LightSkyBlue"
          },
          "height": 30,
          "line": {
           "color": "black"
          },
          "values": [
           "Author",
           "User Rating"
          ]
         },
         "type": "table"
        }
       ],
       "layout": {
        "font": {
         "color": "black",
         "family": "Arial",
         "size": 13
        },
        "showlegend": false,
        "template": {
         "data": {
          "bar": [
           {
            "error_x": {
             "color": "#2a3f5f"
            },
            "error_y": {
             "color": "#2a3f5f"
            },
            "marker": {
             "line": {
              "color": "#E5ECF6",
              "width": 0.5
             }
            },
            "type": "bar"
           }
          ],
          "barpolar": [
           {
            "marker": {
             "line": {
              "color": "#E5ECF6",
              "width": 0.5
             }
            },
            "type": "barpolar"
           }
          ],
          "carpet": [
           {
            "aaxis": {
             "endlinecolor": "#2a3f5f",
             "gridcolor": "white",
             "linecolor": "white",
             "minorgridcolor": "white",
             "startlinecolor": "#2a3f5f"
            },
            "baxis": {
             "endlinecolor": "#2a3f5f",
             "gridcolor": "white",
             "linecolor": "white",
             "minorgridcolor": "white",
             "startlinecolor": "#2a3f5f"
            },
            "type": "carpet"
           }
          ],
          "choropleth": [
           {
            "colorbar": {
             "outlinewidth": 0,
             "ticks": ""
            },
            "type": "choropleth"
           }
          ],
          "contour": [
           {
            "colorbar": {
             "outlinewidth": 0,
             "ticks": ""
            },
            "colorscale": [
             [
              0,
              "#0d0887"
             ],
             [
              0.1111111111111111,
              "#46039f"
             ],
             [
              0.2222222222222222,
              "#7201a8"
             ],
             [
              0.3333333333333333,
              "#9c179e"
             ],
             [
              0.4444444444444444,
              "#bd3786"
             ],
             [
              0.5555555555555556,
              "#d8576b"
             ],
             [
              0.6666666666666666,
              "#ed7953"
             ],
             [
              0.7777777777777778,
              "#fb9f3a"
             ],
             [
              0.8888888888888888,
              "#fdca26"
             ],
             [
              1,
              "#f0f921"
             ]
            ],
            "type": "contour"
           }
          ],
          "contourcarpet": [
           {
            "colorbar": {
             "outlinewidth": 0,
             "ticks": ""
            },
            "type": "contourcarpet"
           }
          ],
          "heatmap": [
           {
            "colorbar": {
             "outlinewidth": 0,
             "ticks": ""
            },
            "colorscale": [
             [
              0,
              "#0d0887"
             ],
             [
              0.1111111111111111,
              "#46039f"
             ],
             [
              0.2222222222222222,
              "#7201a8"
             ],
             [
              0.3333333333333333,
              "#9c179e"
             ],
             [
              0.4444444444444444,
              "#bd3786"
             ],
             [
              0.5555555555555556,
              "#d8576b"
             ],
             [
              0.6666666666666666,
              "#ed7953"
             ],
             [
              0.7777777777777778,
              "#fb9f3a"
             ],
             [
              0.8888888888888888,
              "#fdca26"
             ],
             [
              1,
              "#f0f921"
             ]
            ],
            "type": "heatmap"
           }
          ],
          "heatmapgl": [
           {
            "colorbar": {
             "outlinewidth": 0,
             "ticks": ""
            },
            "colorscale": [
             [
              0,
              "#0d0887"
             ],
             [
              0.1111111111111111,
              "#46039f"
             ],
             [
              0.2222222222222222,
              "#7201a8"
             ],
             [
              0.3333333333333333,
              "#9c179e"
             ],
             [
              0.4444444444444444,
              "#bd3786"
             ],
             [
              0.5555555555555556,
              "#d8576b"
             ],
             [
              0.6666666666666666,
              "#ed7953"
             ],
             [
              0.7777777777777778,
              "#fb9f3a"
             ],
             [
              0.8888888888888888,
              "#fdca26"
             ],
             [
              1,
              "#f0f921"
             ]
            ],
            "type": "heatmapgl"
           }
          ],
          "histogram": [
           {
            "marker": {
             "colorbar": {
              "outlinewidth": 0,
              "ticks": ""
             }
            },
            "type": "histogram"
           }
          ],
          "histogram2d": [
           {
            "colorbar": {
             "outlinewidth": 0,
             "ticks": ""
            },
            "colorscale": [
             [
              0,
              "#0d0887"
             ],
             [
              0.1111111111111111,
              "#46039f"
             ],
             [
              0.2222222222222222,
              "#7201a8"
             ],
             [
              0.3333333333333333,
              "#9c179e"
             ],
             [
              0.4444444444444444,
              "#bd3786"
             ],
             [
              0.5555555555555556,
              "#d8576b"
             ],
             [
              0.6666666666666666,
              "#ed7953"
             ],
             [
              0.7777777777777778,
              "#fb9f3a"
             ],
             [
              0.8888888888888888,
              "#fdca26"
             ],
             [
              1,
              "#f0f921"
             ]
            ],
            "type": "histogram2d"
           }
          ],
          "histogram2dcontour": [
           {
            "colorbar": {
             "outlinewidth": 0,
             "ticks": ""
            },
            "colorscale": [
             [
              0,
              "#0d0887"
             ],
             [
              0.1111111111111111,
              "#46039f"
             ],
             [
              0.2222222222222222,
              "#7201a8"
             ],
             [
              0.3333333333333333,
              "#9c179e"
             ],
             [
              0.4444444444444444,
              "#bd3786"
             ],
             [
              0.5555555555555556,
              "#d8576b"
             ],
             [
              0.6666666666666666,
              "#ed7953"
             ],
             [
              0.7777777777777778,
              "#fb9f3a"
             ],
             [
              0.8888888888888888,
              "#fdca26"
             ],
             [
              1,
              "#f0f921"
             ]
            ],
            "type": "histogram2dcontour"
           }
          ],
          "mesh3d": [
           {
            "colorbar": {
             "outlinewidth": 0,
             "ticks": ""
            },
            "type": "mesh3d"
           }
          ],
          "parcoords": [
           {
            "line": {
             "colorbar": {
              "outlinewidth": 0,
              "ticks": ""
             }
            },
            "type": "parcoords"
           }
          ],
          "pie": [
           {
            "automargin": true,
            "type": "pie"
           }
          ],
          "scatter": [
           {
            "marker": {
             "colorbar": {
              "outlinewidth": 0,
              "ticks": ""
             }
            },
            "type": "scatter"
           }
          ],
          "scatter3d": [
           {
            "line": {
             "colorbar": {
              "outlinewidth": 0,
              "ticks": ""
             }
            },
            "marker": {
             "colorbar": {
              "outlinewidth": 0,
              "ticks": ""
             }
            },
            "type": "scatter3d"
           }
          ],
          "scattercarpet": [
           {
            "marker": {
             "colorbar": {
              "outlinewidth": 0,
              "ticks": ""
             }
            },
            "type": "scattercarpet"
           }
          ],
          "scattergeo": [
           {
            "marker": {
             "colorbar": {
              "outlinewidth": 0,
              "ticks": ""
             }
            },
            "type": "scattergeo"
           }
          ],
          "scattergl": [
           {
            "marker": {
             "colorbar": {
              "outlinewidth": 0,
              "ticks": ""
             }
            },
            "type": "scattergl"
           }
          ],
          "scattermapbox": [
           {
            "marker": {
             "colorbar": {
              "outlinewidth": 0,
              "ticks": ""
             }
            },
            "type": "scattermapbox"
           }
          ],
          "scatterpolar": [
           {
            "marker": {
             "colorbar": {
              "outlinewidth": 0,
              "ticks": ""
             }
            },
            "type": "scatterpolar"
           }
          ],
          "scatterpolargl": [
           {
            "marker": {
             "colorbar": {
              "outlinewidth": 0,
              "ticks": ""
             }
            },
            "type": "scatterpolargl"
           }
          ],
          "scatterternary": [
           {
            "marker": {
             "colorbar": {
              "outlinewidth": 0,
              "ticks": ""
             }
            },
            "type": "scatterternary"
           }
          ],
          "surface": [
           {
            "colorbar": {
             "outlinewidth": 0,
             "ticks": ""
            },
            "colorscale": [
             [
              0,
              "#0d0887"
             ],
             [
              0.1111111111111111,
              "#46039f"
             ],
             [
              0.2222222222222222,
              "#7201a8"
             ],
             [
              0.3333333333333333,
              "#9c179e"
             ],
             [
              0.4444444444444444,
              "#bd3786"
             ],
             [
              0.5555555555555556,
              "#d8576b"
             ],
             [
              0.6666666666666666,
              "#ed7953"
             ],
             [
              0.7777777777777778,
              "#fb9f3a"
             ],
             [
              0.8888888888888888,
              "#fdca26"
             ],
             [
              1,
              "#f0f921"
             ]
            ],
            "type": "surface"
           }
          ],
          "table": [
           {
            "cells": {
             "fill": {
              "color": "#EBF0F8"
             },
             "line": {
              "color": "white"
             }
            },
            "header": {
             "fill": {
              "color": "#C8D4E3"
             },
             "line": {
              "color": "white"
             }
            },
            "type": "table"
           }
          ]
         },
         "layout": {
          "annotationdefaults": {
           "arrowcolor": "#2a3f5f",
           "arrowhead": 0,
           "arrowwidth": 1
          },
          "autotypenumbers": "strict",
          "coloraxis": {
           "colorbar": {
            "outlinewidth": 0,
            "ticks": ""
           }
          },
          "colorscale": {
           "diverging": [
            [
             0,
             "#8e0152"
            ],
            [
             0.1,
             "#c51b7d"
            ],
            [
             0.2,
             "#de77ae"
            ],
            [
             0.3,
             "#f1b6da"
            ],
            [
             0.4,
             "#fde0ef"
            ],
            [
             0.5,
             "#f7f7f7"
            ],
            [
             0.6,
             "#e6f5d0"
            ],
            [
             0.7,
             "#b8e186"
            ],
            [
             0.8,
             "#7fbc41"
            ],
            [
             0.9,
             "#4d9221"
            ],
            [
             1,
             "#276419"
            ]
           ],
           "sequential": [
            [
             0,
             "#0d0887"
            ],
            [
             0.1111111111111111,
             "#46039f"
            ],
            [
             0.2222222222222222,
             "#7201a8"
            ],
            [
             0.3333333333333333,
             "#9c179e"
            ],
            [
             0.4444444444444444,
             "#bd3786"
            ],
            [
             0.5555555555555556,
             "#d8576b"
            ],
            [
             0.6666666666666666,
             "#ed7953"
            ],
            [
             0.7777777777777778,
             "#fb9f3a"
            ],
            [
             0.8888888888888888,
             "#fdca26"
            ],
            [
             1,
             "#f0f921"
            ]
           ],
           "sequentialminus": [
            [
             0,
             "#0d0887"
            ],
            [
             0.1111111111111111,
             "#46039f"
            ],
            [
             0.2222222222222222,
             "#7201a8"
            ],
            [
             0.3333333333333333,
             "#9c179e"
            ],
            [
             0.4444444444444444,
             "#bd3786"
            ],
            [
             0.5555555555555556,
             "#d8576b"
            ],
            [
             0.6666666666666666,
             "#ed7953"
            ],
            [
             0.7777777777777778,
             "#fb9f3a"
            ],
            [
             0.8888888888888888,
             "#fdca26"
            ],
            [
             1,
             "#f0f921"
            ]
           ]
          },
          "colorway": [
           "#636efa",
           "#EF553B",
           "#00cc96",
           "#ab63fa",
           "#FFA15A",
           "#19d3f3",
           "#FF6692",
           "#B6E880",
           "#FF97FF",
           "#FECB52"
          ],
          "font": {
           "color": "#2a3f5f"
          },
          "geo": {
           "bgcolor": "white",
           "lakecolor": "white",
           "landcolor": "#E5ECF6",
           "showlakes": true,
           "showland": true,
           "subunitcolor": "white"
          },
          "hoverlabel": {
           "align": "left"
          },
          "hovermode": "closest",
          "mapbox": {
           "style": "light"
          },
          "paper_bgcolor": "white",
          "plot_bgcolor": "#E5ECF6",
          "polar": {
           "angularaxis": {
            "gridcolor": "white",
            "linecolor": "white",
            "ticks": ""
           },
           "bgcolor": "#E5ECF6",
           "radialaxis": {
            "gridcolor": "white",
            "linecolor": "white",
            "ticks": ""
           }
          },
          "scene": {
           "xaxis": {
            "backgroundcolor": "#E5ECF6",
            "gridcolor": "white",
            "gridwidth": 2,
            "linecolor": "white",
            "showbackground": true,
            "ticks": "",
            "zerolinecolor": "white"
           },
           "yaxis": {
            "backgroundcolor": "#E5ECF6",
            "gridcolor": "white",
            "gridwidth": 2,
            "linecolor": "white",
            "showbackground": true,
            "ticks": "",
            "zerolinecolor": "white"
           },
           "zaxis": {
            "backgroundcolor": "#E5ECF6",
            "gridcolor": "white",
            "gridwidth": 2,
            "linecolor": "white",
            "showbackground": true,
            "ticks": "",
            "zerolinecolor": "white"
           }
          },
          "shapedefaults": {
           "line": {
            "color": "#2a3f5f"
           }
          },
          "ternary": {
           "aaxis": {
            "gridcolor": "white",
            "linecolor": "white",
            "ticks": ""
           },
           "baxis": {
            "gridcolor": "white",
            "linecolor": "white",
            "ticks": ""
           },
           "bgcolor": "#E5ECF6",
           "caxis": {
            "gridcolor": "white",
            "linecolor": "white",
            "ticks": ""
           }
          },
          "title": {
           "x": 0.05
          },
          "xaxis": {
           "automargin": true,
           "gridcolor": "white",
           "linecolor": "white",
           "ticks": "",
           "title": {
            "standoff": 15
           },
           "zerolinecolor": "white",
           "zerolinewidth": 2
          },
          "yaxis": {
           "automargin": true,
           "gridcolor": "white",
           "linecolor": "white",
           "ticks": "",
           "title": {
            "standoff": 15
           },
           "zerolinecolor": "white",
           "zerolinewidth": 2
          }
         }
        },
        "title": {
         "font": {
          "family": "Arial",
          "size": 16
         },
         "text": "Top 10 best authors",
         "x": 0.5
        },
        "xaxis": {
         "anchor": "y",
         "domain": [
          0,
          1
         ]
        },
        "yaxis": {
         "anchor": "x",
         "domain": [
          0,
          1
         ]
        }
       }
      },
      "text/html": [
       "<div>                            <div id=\"d7928489-4e67-452a-b537-ab6b334c0385\" class=\"plotly-graph-div\" style=\"height:525px; width:100%;\"></div>            <script type=\"text/javascript\">                require([\"plotly\"], function(Plotly) {                    window.PLOTLYENV=window.PLOTLYENV || {};                                    if (document.getElementById(\"d7928489-4e67-452a-b537-ab6b334c0385\")) {                    Plotly.newPlot(                        \"d7928489-4e67-452a-b537-ab6b334c0385\",                        [{\"cells\": {\"fill\": {\"color\": \"White\"}, \"line\": {\"color\": \"darkslategray\"}, \"values\": [[\"Patrick Thorpe\", \"Alice Schertle\", \"Pete Souza\", \"Lin-Manuel Miranda\", \"Rush Limbaugh\", \"Sarah Young\", \"Jill Twiss\", \"Nathan W. Pyle\", \"Sherri Duskey Rinker\", \"Chip Gaines\"], [4.9, 4.9, 4.9, 4.9, 4.9, 4.9, 4.9, 4.9, 4.9, 4.9]]}, \"columnorder\": [1, 2], \"columnwidth\": [100, 50], \"header\": {\"fill\": {\"color\": \"LightSkyBlue\"}, \"height\": 30, \"line\": {\"color\": \"black\"}, \"values\": [\"Author\", \"User Rating\"]}, \"type\": \"table\"}],                        {\"font\": {\"color\": \"black\", \"family\": \"Arial\", \"size\": 13}, \"showlegend\": false, \"template\": {\"data\": {\"bar\": [{\"error_x\": {\"color\": \"#2a3f5f\"}, \"error_y\": {\"color\": \"#2a3f5f\"}, \"marker\": {\"line\": {\"color\": \"#E5ECF6\", \"width\": 0.5}}, \"type\": \"bar\"}], \"barpolar\": [{\"marker\": {\"line\": {\"color\": \"#E5ECF6\", \"width\": 0.5}}, \"type\": \"barpolar\"}], \"carpet\": [{\"aaxis\": {\"endlinecolor\": \"#2a3f5f\", \"gridcolor\": \"white\", \"linecolor\": \"white\", \"minorgridcolor\": \"white\", \"startlinecolor\": \"#2a3f5f\"}, \"baxis\": {\"endlinecolor\": \"#2a3f5f\", \"gridcolor\": \"white\", \"linecolor\": \"white\", \"minorgridcolor\": \"white\", \"startlinecolor\": \"#2a3f5f\"}, \"type\": \"carpet\"}], \"choropleth\": [{\"colorbar\": {\"outlinewidth\": 0, \"ticks\": \"\"}, \"type\": \"choropleth\"}], \"contour\": [{\"colorbar\": {\"outlinewidth\": 0, \"ticks\": \"\"}, \"colorscale\": [[0.0, \"#0d0887\"], [0.1111111111111111, \"#46039f\"], [0.2222222222222222, \"#7201a8\"], [0.3333333333333333, \"#9c179e\"], [0.4444444444444444, \"#bd3786\"], [0.5555555555555556, \"#d8576b\"], [0.6666666666666666, \"#ed7953\"], [0.7777777777777778, \"#fb9f3a\"], [0.8888888888888888, \"#fdca26\"], [1.0, \"#f0f921\"]], \"type\": \"contour\"}], \"contourcarpet\": [{\"colorbar\": {\"outlinewidth\": 0, \"ticks\": \"\"}, \"type\": \"contourcarpet\"}], \"heatmap\": [{\"colorbar\": {\"outlinewidth\": 0, \"ticks\": \"\"}, \"colorscale\": [[0.0, \"#0d0887\"], [0.1111111111111111, \"#46039f\"], [0.2222222222222222, \"#7201a8\"], [0.3333333333333333, \"#9c179e\"], [0.4444444444444444, \"#bd3786\"], [0.5555555555555556, \"#d8576b\"], [0.6666666666666666, \"#ed7953\"], [0.7777777777777778, \"#fb9f3a\"], [0.8888888888888888, \"#fdca26\"], [1.0, \"#f0f921\"]], \"type\": \"heatmap\"}], \"heatmapgl\": [{\"colorbar\": {\"outlinewidth\": 0, \"ticks\": \"\"}, \"colorscale\": [[0.0, \"#0d0887\"], [0.1111111111111111, \"#46039f\"], [0.2222222222222222, \"#7201a8\"], [0.3333333333333333, \"#9c179e\"], [0.4444444444444444, \"#bd3786\"], [0.5555555555555556, \"#d8576b\"], [0.6666666666666666, \"#ed7953\"], [0.7777777777777778, \"#fb9f3a\"], [0.8888888888888888, \"#fdca26\"], [1.0, \"#f0f921\"]], \"type\": \"heatmapgl\"}], \"histogram\": [{\"marker\": {\"colorbar\": {\"outlinewidth\": 0, \"ticks\": \"\"}}, \"type\": \"histogram\"}], \"histogram2d\": [{\"colorbar\": {\"outlinewidth\": 0, \"ticks\": \"\"}, \"colorscale\": [[0.0, \"#0d0887\"], [0.1111111111111111, \"#46039f\"], [0.2222222222222222, \"#7201a8\"], [0.3333333333333333, \"#9c179e\"], [0.4444444444444444, \"#bd3786\"], [0.5555555555555556, \"#d8576b\"], [0.6666666666666666, \"#ed7953\"], [0.7777777777777778, \"#fb9f3a\"], [0.8888888888888888, \"#fdca26\"], [1.0, \"#f0f921\"]], \"type\": \"histogram2d\"}], \"histogram2dcontour\": [{\"colorbar\": {\"outlinewidth\": 0, \"ticks\": \"\"}, \"colorscale\": [[0.0, \"#0d0887\"], [0.1111111111111111, \"#46039f\"], [0.2222222222222222, \"#7201a8\"], [0.3333333333333333, \"#9c179e\"], [0.4444444444444444, \"#bd3786\"], [0.5555555555555556, \"#d8576b\"], [0.6666666666666666, \"#ed7953\"], [0.7777777777777778, \"#fb9f3a\"], [0.8888888888888888, \"#fdca26\"], [1.0, \"#f0f921\"]], \"type\": \"histogram2dcontour\"}], \"mesh3d\": [{\"colorbar\": {\"outlinewidth\": 0, \"ticks\": \"\"}, \"type\": \"mesh3d\"}], \"parcoords\": [{\"line\": {\"colorbar\": {\"outlinewidth\": 0, \"ticks\": \"\"}}, \"type\": \"parcoords\"}], \"pie\": [{\"automargin\": true, \"type\": \"pie\"}], \"scatter\": [{\"marker\": {\"colorbar\": {\"outlinewidth\": 0, \"ticks\": \"\"}}, \"type\": \"scatter\"}], \"scatter3d\": [{\"line\": {\"colorbar\": {\"outlinewidth\": 0, \"ticks\": \"\"}}, \"marker\": {\"colorbar\": {\"outlinewidth\": 0, \"ticks\": \"\"}}, \"type\": \"scatter3d\"}], \"scattercarpet\": [{\"marker\": {\"colorbar\": {\"outlinewidth\": 0, \"ticks\": \"\"}}, \"type\": \"scattercarpet\"}], \"scattergeo\": [{\"marker\": {\"colorbar\": {\"outlinewidth\": 0, \"ticks\": \"\"}}, \"type\": \"scattergeo\"}], \"scattergl\": [{\"marker\": {\"colorbar\": {\"outlinewidth\": 0, \"ticks\": \"\"}}, \"type\": \"scattergl\"}], \"scattermapbox\": [{\"marker\": {\"colorbar\": {\"outlinewidth\": 0, \"ticks\": \"\"}}, \"type\": \"scattermapbox\"}], \"scatterpolar\": [{\"marker\": {\"colorbar\": {\"outlinewidth\": 0, \"ticks\": \"\"}}, \"type\": \"scatterpolar\"}], \"scatterpolargl\": [{\"marker\": {\"colorbar\": {\"outlinewidth\": 0, \"ticks\": \"\"}}, \"type\": \"scatterpolargl\"}], \"scatterternary\": [{\"marker\": {\"colorbar\": {\"outlinewidth\": 0, \"ticks\": \"\"}}, \"type\": \"scatterternary\"}], \"surface\": [{\"colorbar\": {\"outlinewidth\": 0, \"ticks\": \"\"}, \"colorscale\": [[0.0, \"#0d0887\"], [0.1111111111111111, \"#46039f\"], [0.2222222222222222, \"#7201a8\"], [0.3333333333333333, \"#9c179e\"], [0.4444444444444444, \"#bd3786\"], [0.5555555555555556, \"#d8576b\"], [0.6666666666666666, \"#ed7953\"], [0.7777777777777778, \"#fb9f3a\"], [0.8888888888888888, \"#fdca26\"], [1.0, \"#f0f921\"]], \"type\": \"surface\"}], \"table\": [{\"cells\": {\"fill\": {\"color\": \"#EBF0F8\"}, \"line\": {\"color\": \"white\"}}, \"header\": {\"fill\": {\"color\": \"#C8D4E3\"}, \"line\": {\"color\": \"white\"}}, \"type\": \"table\"}]}, \"layout\": {\"annotationdefaults\": {\"arrowcolor\": \"#2a3f5f\", \"arrowhead\": 0, \"arrowwidth\": 1}, \"autotypenumbers\": \"strict\", \"coloraxis\": {\"colorbar\": {\"outlinewidth\": 0, \"ticks\": \"\"}}, \"colorscale\": {\"diverging\": [[0, \"#8e0152\"], [0.1, \"#c51b7d\"], [0.2, \"#de77ae\"], [0.3, \"#f1b6da\"], [0.4, \"#fde0ef\"], [0.5, \"#f7f7f7\"], [0.6, \"#e6f5d0\"], [0.7, \"#b8e186\"], [0.8, \"#7fbc41\"], [0.9, \"#4d9221\"], [1, \"#276419\"]], \"sequential\": [[0.0, \"#0d0887\"], [0.1111111111111111, \"#46039f\"], [0.2222222222222222, \"#7201a8\"], [0.3333333333333333, \"#9c179e\"], [0.4444444444444444, \"#bd3786\"], [0.5555555555555556, \"#d8576b\"], [0.6666666666666666, \"#ed7953\"], [0.7777777777777778, \"#fb9f3a\"], [0.8888888888888888, \"#fdca26\"], [1.0, \"#f0f921\"]], \"sequentialminus\": [[0.0, \"#0d0887\"], [0.1111111111111111, \"#46039f\"], [0.2222222222222222, \"#7201a8\"], [0.3333333333333333, \"#9c179e\"], [0.4444444444444444, \"#bd3786\"], [0.5555555555555556, \"#d8576b\"], [0.6666666666666666, \"#ed7953\"], [0.7777777777777778, \"#fb9f3a\"], [0.8888888888888888, \"#fdca26\"], [1.0, \"#f0f921\"]]}, \"colorway\": [\"#636efa\", \"#EF553B\", \"#00cc96\", \"#ab63fa\", \"#FFA15A\", \"#19d3f3\", \"#FF6692\", \"#B6E880\", \"#FF97FF\", \"#FECB52\"], \"font\": {\"color\": \"#2a3f5f\"}, \"geo\": {\"bgcolor\": \"white\", \"lakecolor\": \"white\", \"landcolor\": \"#E5ECF6\", \"showlakes\": true, \"showland\": true, \"subunitcolor\": \"white\"}, \"hoverlabel\": {\"align\": \"left\"}, \"hovermode\": \"closest\", \"mapbox\": {\"style\": \"light\"}, \"paper_bgcolor\": \"white\", \"plot_bgcolor\": \"#E5ECF6\", \"polar\": {\"angularaxis\": {\"gridcolor\": \"white\", \"linecolor\": \"white\", \"ticks\": \"\"}, \"bgcolor\": \"#E5ECF6\", \"radialaxis\": {\"gridcolor\": \"white\", \"linecolor\": \"white\", \"ticks\": \"\"}}, \"scene\": {\"xaxis\": {\"backgroundcolor\": \"#E5ECF6\", \"gridcolor\": \"white\", \"gridwidth\": 2, \"linecolor\": \"white\", \"showbackground\": true, \"ticks\": \"\", \"zerolinecolor\": \"white\"}, \"yaxis\": {\"backgroundcolor\": \"#E5ECF6\", \"gridcolor\": \"white\", \"gridwidth\": 2, \"linecolor\": \"white\", \"showbackground\": true, \"ticks\": \"\", \"zerolinecolor\": \"white\"}, \"zaxis\": {\"backgroundcolor\": \"#E5ECF6\", \"gridcolor\": \"white\", \"gridwidth\": 2, \"linecolor\": \"white\", \"showbackground\": true, \"ticks\": \"\", \"zerolinecolor\": \"white\"}}, \"shapedefaults\": {\"line\": {\"color\": \"#2a3f5f\"}}, \"ternary\": {\"aaxis\": {\"gridcolor\": \"white\", \"linecolor\": \"white\", \"ticks\": \"\"}, \"baxis\": {\"gridcolor\": \"white\", \"linecolor\": \"white\", \"ticks\": \"\"}, \"bgcolor\": \"#E5ECF6\", \"caxis\": {\"gridcolor\": \"white\", \"linecolor\": \"white\", \"ticks\": \"\"}}, \"title\": {\"x\": 0.05}, \"xaxis\": {\"automargin\": true, \"gridcolor\": \"white\", \"linecolor\": \"white\", \"ticks\": \"\", \"title\": {\"standoff\": 15}, \"zerolinecolor\": \"white\", \"zerolinewidth\": 2}, \"yaxis\": {\"automargin\": true, \"gridcolor\": \"white\", \"linecolor\": \"white\", \"ticks\": \"\", \"title\": {\"standoff\": 15}, \"zerolinecolor\": \"white\", \"zerolinewidth\": 2}}}, \"title\": {\"font\": {\"family\": \"Arial\", \"size\": 16}, \"text\": \"Top 10 best authors\", \"x\": 0.5}, \"xaxis\": {\"anchor\": \"y\", \"domain\": [0.0, 1.0]}, \"yaxis\": {\"anchor\": \"x\", \"domain\": [0.0, 1.0]}},                        {\"responsive\": true}                    ).then(function(){\n",
       "                            \n",
       "var gd = document.getElementById('d7928489-4e67-452a-b537-ab6b334c0385');\n",
       "var x = new MutationObserver(function (mutations, observer) {{\n",
       "        var display = window.getComputedStyle(gd).display;\n",
       "        if (!display || display === 'none') {{\n",
       "            console.log([gd, 'removed!']);\n",
       "            Plotly.purge(gd);\n",
       "            observer.disconnect();\n",
       "        }}\n",
       "}});\n",
       "\n",
       "// Listen for the removal of the full notebook cells\n",
       "var notebookContainer = gd.closest('#notebook-container');\n",
       "if (notebookContainer) {{\n",
       "    x.observe(notebookContainer, {childList: true});\n",
       "}}\n",
       "\n",
       "// Listen for the clearing of the current output cell\n",
       "var outputEl = gd.closest('.output');\n",
       "if (outputEl) {{\n",
       "    x.observe(outputEl, {childList: true});\n",
       "}}\n",
       "\n",
       "                        })                };                });            </script>        </div>"
      ]
     },
     "metadata": {},
     "output_type": "display_data"
    }
   ],
   "source": [
    "# Set the visualization parameters\n",
    "# Set the number of rows and columns\n",
    "#Reference URL https://plotly.com/python/reference/layout/\n",
    "fig_1 = make_subplots(rows=1, cols=1, subplot_titles=(\"\")) \n",
    "\n",
    "\n",
    "# Setting table parameters\n",
    "fig_1.add_trace(go.Table(columnorder = [1,2],\n",
    "                         columnwidth = [100,50],\n",
    "                         header=dict(values=top_10_autors.columns, \n",
    "                                     line_color='black',\n",
    "                                     fill_color='LightSkyBlue',\n",
    "                                     height=30),\n",
    "                         cells=dict(values=[top_10_autors['Author'],\n",
    "                                    top_10_autors['User Rating']], \n",
    "                                    line_color='darkslategray',\n",
    "                                    fill_color='White')))\n",
    "\n",
    "# Setting the parameters of the chart when displaying\n",
    "fig_1.update_layout(showlegend=False, \n",
    "                    title_text='Top 10 best authors', \n",
    "                    title_font_size=16, \n",
    "                    title_font_family='Arial', \n",
    "                    title_x=0.5,\n",
    "                    font=dict(family='Arial', \n",
    "                              size=13, \n",
    "                              color='black'))\n",
    "fig_1.show()"
   ]
  },
  {
   "cell_type": "code",
   "execution_count": 171,
   "metadata": {},
   "outputs": [
    {
     "data": {
      "application/vnd.plotly.v1+json": {
       "config": {
        "plotlyServerURL": "https://plot.ly"
       },
       "data": [
        {
         "marker": {
          "color": "LightSkyBlue",
          "line": {
           "color": "Gray",
           "width": 1
          }
         },
         "name": "Count books",
         "type": "bar",
         "x": [
          "Jeff Kinney",
          "Rick Riordan",
          "Stephenie Meyer",
          "J.K. Rowling",
          "Bill O'Reilly",
          "Dav Pilkey",
          "E L James",
          "John Grisham",
          "Suzanne Collins",
          "Stephen King"
         ],
         "xaxis": "x",
         "y": [
          12,
          10,
          7,
          6,
          6,
          6,
          5,
          5,
          5,
          4
         ],
         "yaxis": "y"
        },
        {
         "marker": {
          "color": "#C8B9EE",
          "line": {
           "color": "Gray",
           "width": 1
          }
         },
         "name": "Reviews",
         "type": "bar",
         "x": [
          "Where the Crawdads Sing",
          "The Girl on the Train",
          "Becoming",
          "Gone Girl",
          "The Fault in Our Stars"
         ],
         "xaxis": "x2",
         "y": [
          87841,
          79446,
          61133,
          57271,
          50482
         ],
         "yaxis": "y2"
        }
       ],
       "layout": {
        "annotations": [
         {
          "font": {
           "size": 16
          },
          "showarrow": false,
          "text": "Top 10 authors by number of bestsellers",
          "x": 0.225,
          "xanchor": "center",
          "xref": "paper",
          "y": 1,
          "yanchor": "bottom",
          "yref": "paper"
         },
         {
          "font": {
           "size": 16
          },
          "showarrow": false,
          "text": "Top 5 books by number of reviews",
          "x": 0.775,
          "xanchor": "center",
          "xref": "paper",
          "y": 1,
          "yanchor": "bottom",
          "yref": "paper"
         }
        ],
        "font": {
         "color": "black",
         "family": "Arial",
         "size": 12
        },
        "showlegend": false,
        "template": {
         "data": {
          "bar": [
           {
            "error_x": {
             "color": "rgb(36,36,36)"
            },
            "error_y": {
             "color": "rgb(36,36,36)"
            },
            "marker": {
             "line": {
              "color": "white",
              "width": 0.5
             }
            },
            "type": "bar"
           }
          ],
          "barpolar": [
           {
            "marker": {
             "line": {
              "color": "white",
              "width": 0.5
             }
            },
            "type": "barpolar"
           }
          ],
          "carpet": [
           {
            "aaxis": {
             "endlinecolor": "rgb(36,36,36)",
             "gridcolor": "white",
             "linecolor": "white",
             "minorgridcolor": "white",
             "startlinecolor": "rgb(36,36,36)"
            },
            "baxis": {
             "endlinecolor": "rgb(36,36,36)",
             "gridcolor": "white",
             "linecolor": "white",
             "minorgridcolor": "white",
             "startlinecolor": "rgb(36,36,36)"
            },
            "type": "carpet"
           }
          ],
          "choropleth": [
           {
            "colorbar": {
             "outlinewidth": 1,
             "tickcolor": "rgb(36,36,36)",
             "ticks": "outside"
            },
            "type": "choropleth"
           }
          ],
          "contour": [
           {
            "colorbar": {
             "outlinewidth": 1,
             "tickcolor": "rgb(36,36,36)",
             "ticks": "outside"
            },
            "colorscale": [
             [
              0,
              "#440154"
             ],
             [
              0.1111111111111111,
              "#482878"
             ],
             [
              0.2222222222222222,
              "#3e4989"
             ],
             [
              0.3333333333333333,
              "#31688e"
             ],
             [
              0.4444444444444444,
              "#26828e"
             ],
             [
              0.5555555555555556,
              "#1f9e89"
             ],
             [
              0.6666666666666666,
              "#35b779"
             ],
             [
              0.7777777777777778,
              "#6ece58"
             ],
             [
              0.8888888888888888,
              "#b5de2b"
             ],
             [
              1,
              "#fde725"
             ]
            ],
            "type": "contour"
           }
          ],
          "contourcarpet": [
           {
            "colorbar": {
             "outlinewidth": 1,
             "tickcolor": "rgb(36,36,36)",
             "ticks": "outside"
            },
            "type": "contourcarpet"
           }
          ],
          "heatmap": [
           {
            "colorbar": {
             "outlinewidth": 1,
             "tickcolor": "rgb(36,36,36)",
             "ticks": "outside"
            },
            "colorscale": [
             [
              0,
              "#440154"
             ],
             [
              0.1111111111111111,
              "#482878"
             ],
             [
              0.2222222222222222,
              "#3e4989"
             ],
             [
              0.3333333333333333,
              "#31688e"
             ],
             [
              0.4444444444444444,
              "#26828e"
             ],
             [
              0.5555555555555556,
              "#1f9e89"
             ],
             [
              0.6666666666666666,
              "#35b779"
             ],
             [
              0.7777777777777778,
              "#6ece58"
             ],
             [
              0.8888888888888888,
              "#b5de2b"
             ],
             [
              1,
              "#fde725"
             ]
            ],
            "type": "heatmap"
           }
          ],
          "heatmapgl": [
           {
            "colorbar": {
             "outlinewidth": 1,
             "tickcolor": "rgb(36,36,36)",
             "ticks": "outside"
            },
            "colorscale": [
             [
              0,
              "#440154"
             ],
             [
              0.1111111111111111,
              "#482878"
             ],
             [
              0.2222222222222222,
              "#3e4989"
             ],
             [
              0.3333333333333333,
              "#31688e"
             ],
             [
              0.4444444444444444,
              "#26828e"
             ],
             [
              0.5555555555555556,
              "#1f9e89"
             ],
             [
              0.6666666666666666,
              "#35b779"
             ],
             [
              0.7777777777777778,
              "#6ece58"
             ],
             [
              0.8888888888888888,
              "#b5de2b"
             ],
             [
              1,
              "#fde725"
             ]
            ],
            "type": "heatmapgl"
           }
          ],
          "histogram": [
           {
            "marker": {
             "line": {
              "color": "white",
              "width": 0.6
             }
            },
            "type": "histogram"
           }
          ],
          "histogram2d": [
           {
            "colorbar": {
             "outlinewidth": 1,
             "tickcolor": "rgb(36,36,36)",
             "ticks": "outside"
            },
            "colorscale": [
             [
              0,
              "#440154"
             ],
             [
              0.1111111111111111,
              "#482878"
             ],
             [
              0.2222222222222222,
              "#3e4989"
             ],
             [
              0.3333333333333333,
              "#31688e"
             ],
             [
              0.4444444444444444,
              "#26828e"
             ],
             [
              0.5555555555555556,
              "#1f9e89"
             ],
             [
              0.6666666666666666,
              "#35b779"
             ],
             [
              0.7777777777777778,
              "#6ece58"
             ],
             [
              0.8888888888888888,
              "#b5de2b"
             ],
             [
              1,
              "#fde725"
             ]
            ],
            "type": "histogram2d"
           }
          ],
          "histogram2dcontour": [
           {
            "colorbar": {
             "outlinewidth": 1,
             "tickcolor": "rgb(36,36,36)",
             "ticks": "outside"
            },
            "colorscale": [
             [
              0,
              "#440154"
             ],
             [
              0.1111111111111111,
              "#482878"
             ],
             [
              0.2222222222222222,
              "#3e4989"
             ],
             [
              0.3333333333333333,
              "#31688e"
             ],
             [
              0.4444444444444444,
              "#26828e"
             ],
             [
              0.5555555555555556,
              "#1f9e89"
             ],
             [
              0.6666666666666666,
              "#35b779"
             ],
             [
              0.7777777777777778,
              "#6ece58"
             ],
             [
              0.8888888888888888,
              "#b5de2b"
             ],
             [
              1,
              "#fde725"
             ]
            ],
            "type": "histogram2dcontour"
           }
          ],
          "mesh3d": [
           {
            "colorbar": {
             "outlinewidth": 1,
             "tickcolor": "rgb(36,36,36)",
             "ticks": "outside"
            },
            "type": "mesh3d"
           }
          ],
          "parcoords": [
           {
            "line": {
             "colorbar": {
              "outlinewidth": 1,
              "tickcolor": "rgb(36,36,36)",
              "ticks": "outside"
             }
            },
            "type": "parcoords"
           }
          ],
          "pie": [
           {
            "automargin": true,
            "type": "pie"
           }
          ],
          "scatter": [
           {
            "marker": {
             "colorbar": {
              "outlinewidth": 1,
              "tickcolor": "rgb(36,36,36)",
              "ticks": "outside"
             }
            },
            "type": "scatter"
           }
          ],
          "scatter3d": [
           {
            "line": {
             "colorbar": {
              "outlinewidth": 1,
              "tickcolor": "rgb(36,36,36)",
              "ticks": "outside"
             }
            },
            "marker": {
             "colorbar": {
              "outlinewidth": 1,
              "tickcolor": "rgb(36,36,36)",
              "ticks": "outside"
             }
            },
            "type": "scatter3d"
           }
          ],
          "scattercarpet": [
           {
            "marker": {
             "colorbar": {
              "outlinewidth": 1,
              "tickcolor": "rgb(36,36,36)",
              "ticks": "outside"
             }
            },
            "type": "scattercarpet"
           }
          ],
          "scattergeo": [
           {
            "marker": {
             "colorbar": {
              "outlinewidth": 1,
              "tickcolor": "rgb(36,36,36)",
              "ticks": "outside"
             }
            },
            "type": "scattergeo"
           }
          ],
          "scattergl": [
           {
            "marker": {
             "colorbar": {
              "outlinewidth": 1,
              "tickcolor": "rgb(36,36,36)",
              "ticks": "outside"
             }
            },
            "type": "scattergl"
           }
          ],
          "scattermapbox": [
           {
            "marker": {
             "colorbar": {
              "outlinewidth": 1,
              "tickcolor": "rgb(36,36,36)",
              "ticks": "outside"
             }
            },
            "type": "scattermapbox"
           }
          ],
          "scatterpolar": [
           {
            "marker": {
             "colorbar": {
              "outlinewidth": 1,
              "tickcolor": "rgb(36,36,36)",
              "ticks": "outside"
             }
            },
            "type": "scatterpolar"
           }
          ],
          "scatterpolargl": [
           {
            "marker": {
             "colorbar": {
              "outlinewidth": 1,
              "tickcolor": "rgb(36,36,36)",
              "ticks": "outside"
             }
            },
            "type": "scatterpolargl"
           }
          ],
          "scatterternary": [
           {
            "marker": {
             "colorbar": {
              "outlinewidth": 1,
              "tickcolor": "rgb(36,36,36)",
              "ticks": "outside"
             }
            },
            "type": "scatterternary"
           }
          ],
          "surface": [
           {
            "colorbar": {
             "outlinewidth": 1,
             "tickcolor": "rgb(36,36,36)",
             "ticks": "outside"
            },
            "colorscale": [
             [
              0,
              "#440154"
             ],
             [
              0.1111111111111111,
              "#482878"
             ],
             [
              0.2222222222222222,
              "#3e4989"
             ],
             [
              0.3333333333333333,
              "#31688e"
             ],
             [
              0.4444444444444444,
              "#26828e"
             ],
             [
              0.5555555555555556,
              "#1f9e89"
             ],
             [
              0.6666666666666666,
              "#35b779"
             ],
             [
              0.7777777777777778,
              "#6ece58"
             ],
             [
              0.8888888888888888,
              "#b5de2b"
             ],
             [
              1,
              "#fde725"
             ]
            ],
            "type": "surface"
           }
          ],
          "table": [
           {
            "cells": {
             "fill": {
              "color": "rgb(237,237,237)"
             },
             "line": {
              "color": "white"
             }
            },
            "header": {
             "fill": {
              "color": "rgb(217,217,217)"
             },
             "line": {
              "color": "white"
             }
            },
            "type": "table"
           }
          ]
         },
         "layout": {
          "annotationdefaults": {
           "arrowhead": 0,
           "arrowwidth": 1
          },
          "autotypenumbers": "strict",
          "coloraxis": {
           "colorbar": {
            "outlinewidth": 1,
            "tickcolor": "rgb(36,36,36)",
            "ticks": "outside"
           }
          },
          "colorscale": {
           "diverging": [
            [
             0,
             "rgb(103,0,31)"
            ],
            [
             0.1,
             "rgb(178,24,43)"
            ],
            [
             0.2,
             "rgb(214,96,77)"
            ],
            [
             0.3,
             "rgb(244,165,130)"
            ],
            [
             0.4,
             "rgb(253,219,199)"
            ],
            [
             0.5,
             "rgb(247,247,247)"
            ],
            [
             0.6,
             "rgb(209,229,240)"
            ],
            [
             0.7,
             "rgb(146,197,222)"
            ],
            [
             0.8,
             "rgb(67,147,195)"
            ],
            [
             0.9,
             "rgb(33,102,172)"
            ],
            [
             1,
             "rgb(5,48,97)"
            ]
           ],
           "sequential": [
            [
             0,
             "#440154"
            ],
            [
             0.1111111111111111,
             "#482878"
            ],
            [
             0.2222222222222222,
             "#3e4989"
            ],
            [
             0.3333333333333333,
             "#31688e"
            ],
            [
             0.4444444444444444,
             "#26828e"
            ],
            [
             0.5555555555555556,
             "#1f9e89"
            ],
            [
             0.6666666666666666,
             "#35b779"
            ],
            [
             0.7777777777777778,
             "#6ece58"
            ],
            [
             0.8888888888888888,
             "#b5de2b"
            ],
            [
             1,
             "#fde725"
            ]
           ],
           "sequentialminus": [
            [
             0,
             "#440154"
            ],
            [
             0.1111111111111111,
             "#482878"
            ],
            [
             0.2222222222222222,
             "#3e4989"
            ],
            [
             0.3333333333333333,
             "#31688e"
            ],
            [
             0.4444444444444444,
             "#26828e"
            ],
            [
             0.5555555555555556,
             "#1f9e89"
            ],
            [
             0.6666666666666666,
             "#35b779"
            ],
            [
             0.7777777777777778,
             "#6ece58"
            ],
            [
             0.8888888888888888,
             "#b5de2b"
            ],
            [
             1,
             "#fde725"
            ]
           ]
          },
          "colorway": [
           "#1F77B4",
           "#FF7F0E",
           "#2CA02C",
           "#D62728",
           "#9467BD",
           "#8C564B",
           "#E377C2",
           "#7F7F7F",
           "#BCBD22",
           "#17BECF"
          ],
          "font": {
           "color": "rgb(36,36,36)"
          },
          "geo": {
           "bgcolor": "white",
           "lakecolor": "white",
           "landcolor": "white",
           "showlakes": true,
           "showland": true,
           "subunitcolor": "white"
          },
          "hoverlabel": {
           "align": "left"
          },
          "hovermode": "closest",
          "mapbox": {
           "style": "light"
          },
          "paper_bgcolor": "white",
          "plot_bgcolor": "white",
          "polar": {
           "angularaxis": {
            "gridcolor": "rgb(232,232,232)",
            "linecolor": "rgb(36,36,36)",
            "showgrid": false,
            "showline": true,
            "ticks": "outside"
           },
           "bgcolor": "white",
           "radialaxis": {
            "gridcolor": "rgb(232,232,232)",
            "linecolor": "rgb(36,36,36)",
            "showgrid": false,
            "showline": true,
            "ticks": "outside"
           }
          },
          "scene": {
           "xaxis": {
            "backgroundcolor": "white",
            "gridcolor": "rgb(232,232,232)",
            "gridwidth": 2,
            "linecolor": "rgb(36,36,36)",
            "showbackground": true,
            "showgrid": false,
            "showline": true,
            "ticks": "outside",
            "zeroline": false,
            "zerolinecolor": "rgb(36,36,36)"
           },
           "yaxis": {
            "backgroundcolor": "white",
            "gridcolor": "rgb(232,232,232)",
            "gridwidth": 2,
            "linecolor": "rgb(36,36,36)",
            "showbackground": true,
            "showgrid": false,
            "showline": true,
            "ticks": "outside",
            "zeroline": false,
            "zerolinecolor": "rgb(36,36,36)"
           },
           "zaxis": {
            "backgroundcolor": "white",
            "gridcolor": "rgb(232,232,232)",
            "gridwidth": 2,
            "linecolor": "rgb(36,36,36)",
            "showbackground": true,
            "showgrid": false,
            "showline": true,
            "ticks": "outside",
            "zeroline": false,
            "zerolinecolor": "rgb(36,36,36)"
           }
          },
          "shapedefaults": {
           "fillcolor": "black",
           "line": {
            "width": 0
           },
           "opacity": 0.3
          },
          "ternary": {
           "aaxis": {
            "gridcolor": "rgb(232,232,232)",
            "linecolor": "rgb(36,36,36)",
            "showgrid": false,
            "showline": true,
            "ticks": "outside"
           },
           "baxis": {
            "gridcolor": "rgb(232,232,232)",
            "linecolor": "rgb(36,36,36)",
            "showgrid": false,
            "showline": true,
            "ticks": "outside"
           },
           "bgcolor": "white",
           "caxis": {
            "gridcolor": "rgb(232,232,232)",
            "linecolor": "rgb(36,36,36)",
            "showgrid": false,
            "showline": true,
            "ticks": "outside"
           }
          },
          "title": {
           "x": 0.05
          },
          "xaxis": {
           "automargin": true,
           "gridcolor": "rgb(232,232,232)",
           "linecolor": "rgb(36,36,36)",
           "showgrid": false,
           "showline": true,
           "ticks": "outside",
           "title": {
            "standoff": 15
           },
           "zeroline": false,
           "zerolinecolor": "rgb(36,36,36)"
          },
          "yaxis": {
           "automargin": true,
           "gridcolor": "rgb(232,232,232)",
           "linecolor": "rgb(36,36,36)",
           "showgrid": false,
           "showline": true,
           "ticks": "outside",
           "title": {
            "standoff": 15
           },
           "zeroline": false,
           "zerolinecolor": "rgb(36,36,36)"
          }
         }
        },
        "xaxis": {
         "anchor": "y",
         "domain": [
          0,
          0.45
         ]
        },
        "xaxis2": {
         "anchor": "y2",
         "domain": [
          0.55,
          1
         ]
        },
        "yaxis": {
         "anchor": "x",
         "domain": [
          0,
          1
         ]
        },
        "yaxis2": {
         "anchor": "x2",
         "domain": [
          0,
          1
         ]
        }
       }
      },
      "text/html": [
       "<div>                            <div id=\"61a0367f-2479-4b90-a140-1f31d03aed37\" class=\"plotly-graph-div\" style=\"height:525px; width:100%;\"></div>            <script type=\"text/javascript\">                require([\"plotly\"], function(Plotly) {                    window.PLOTLYENV=window.PLOTLYENV || {};                                    if (document.getElementById(\"61a0367f-2479-4b90-a140-1f31d03aed37\")) {                    Plotly.newPlot(                        \"61a0367f-2479-4b90-a140-1f31d03aed37\",                        [{\"marker\": {\"color\": \"LightSkyBlue\", \"line\": {\"color\": \"Gray\", \"width\": 1}}, \"name\": \"Count books\", \"type\": \"bar\", \"x\": [\"Jeff Kinney\", \"Rick Riordan\", \"Stephenie Meyer\", \"J.K. Rowling\", \"Bill O'Reilly\", \"Dav Pilkey\", \"E L James\", \"John Grisham\", \"Suzanne Collins\", \"Stephen King\"], \"xaxis\": \"x\", \"y\": [12, 10, 7, 6, 6, 6, 5, 5, 5, 4], \"yaxis\": \"y\"}, {\"marker\": {\"color\": \"#C8B9EE\", \"line\": {\"color\": \"Gray\", \"width\": 1}}, \"name\": \"Reviews\", \"type\": \"bar\", \"x\": [\"Where the Crawdads Sing\", \"The Girl on the Train\", \"Becoming\", \"Gone Girl\", \"The Fault in Our Stars\"], \"xaxis\": \"x2\", \"y\": [87841, 79446, 61133, 57271, 50482], \"yaxis\": \"y2\"}],                        {\"annotations\": [{\"font\": {\"size\": 16}, \"showarrow\": false, \"text\": \"Top 10 authors by number of bestsellers\", \"x\": 0.225, \"xanchor\": \"center\", \"xref\": \"paper\", \"y\": 1.0, \"yanchor\": \"bottom\", \"yref\": \"paper\"}, {\"font\": {\"size\": 16}, \"showarrow\": false, \"text\": \"Top 5 books by number of reviews\", \"x\": 0.775, \"xanchor\": \"center\", \"xref\": \"paper\", \"y\": 1.0, \"yanchor\": \"bottom\", \"yref\": \"paper\"}], \"font\": {\"color\": \"black\", \"family\": \"Arial\", \"size\": 12}, \"showlegend\": false, \"template\": {\"data\": {\"bar\": [{\"error_x\": {\"color\": \"rgb(36,36,36)\"}, \"error_y\": {\"color\": \"rgb(36,36,36)\"}, \"marker\": {\"line\": {\"color\": \"white\", \"width\": 0.5}}, \"type\": \"bar\"}], \"barpolar\": [{\"marker\": {\"line\": {\"color\": \"white\", \"width\": 0.5}}, \"type\": \"barpolar\"}], \"carpet\": [{\"aaxis\": {\"endlinecolor\": \"rgb(36,36,36)\", \"gridcolor\": \"white\", \"linecolor\": \"white\", \"minorgridcolor\": \"white\", \"startlinecolor\": \"rgb(36,36,36)\"}, \"baxis\": {\"endlinecolor\": \"rgb(36,36,36)\", \"gridcolor\": \"white\", \"linecolor\": \"white\", \"minorgridcolor\": \"white\", \"startlinecolor\": \"rgb(36,36,36)\"}, \"type\": \"carpet\"}], \"choropleth\": [{\"colorbar\": {\"outlinewidth\": 1, \"tickcolor\": \"rgb(36,36,36)\", \"ticks\": \"outside\"}, \"type\": \"choropleth\"}], \"contour\": [{\"colorbar\": {\"outlinewidth\": 1, \"tickcolor\": \"rgb(36,36,36)\", \"ticks\": \"outside\"}, \"colorscale\": [[0.0, \"#440154\"], [0.1111111111111111, \"#482878\"], [0.2222222222222222, \"#3e4989\"], [0.3333333333333333, \"#31688e\"], [0.4444444444444444, \"#26828e\"], [0.5555555555555556, \"#1f9e89\"], [0.6666666666666666, \"#35b779\"], [0.7777777777777778, \"#6ece58\"], [0.8888888888888888, \"#b5de2b\"], [1.0, \"#fde725\"]], \"type\": \"contour\"}], \"contourcarpet\": [{\"colorbar\": {\"outlinewidth\": 1, \"tickcolor\": \"rgb(36,36,36)\", \"ticks\": \"outside\"}, \"type\": \"contourcarpet\"}], \"heatmap\": [{\"colorbar\": {\"outlinewidth\": 1, \"tickcolor\": \"rgb(36,36,36)\", \"ticks\": \"outside\"}, \"colorscale\": [[0.0, \"#440154\"], [0.1111111111111111, \"#482878\"], [0.2222222222222222, \"#3e4989\"], [0.3333333333333333, \"#31688e\"], [0.4444444444444444, \"#26828e\"], [0.5555555555555556, \"#1f9e89\"], [0.6666666666666666, \"#35b779\"], [0.7777777777777778, \"#6ece58\"], [0.8888888888888888, \"#b5de2b\"], [1.0, \"#fde725\"]], \"type\": \"heatmap\"}], \"heatmapgl\": [{\"colorbar\": {\"outlinewidth\": 1, \"tickcolor\": \"rgb(36,36,36)\", \"ticks\": \"outside\"}, \"colorscale\": [[0.0, \"#440154\"], [0.1111111111111111, \"#482878\"], [0.2222222222222222, \"#3e4989\"], [0.3333333333333333, \"#31688e\"], [0.4444444444444444, \"#26828e\"], [0.5555555555555556, \"#1f9e89\"], [0.6666666666666666, \"#35b779\"], [0.7777777777777778, \"#6ece58\"], [0.8888888888888888, \"#b5de2b\"], [1.0, \"#fde725\"]], \"type\": \"heatmapgl\"}], \"histogram\": [{\"marker\": {\"line\": {\"color\": \"white\", \"width\": 0.6}}, \"type\": \"histogram\"}], \"histogram2d\": [{\"colorbar\": {\"outlinewidth\": 1, \"tickcolor\": \"rgb(36,36,36)\", \"ticks\": \"outside\"}, \"colorscale\": [[0.0, \"#440154\"], [0.1111111111111111, \"#482878\"], [0.2222222222222222, \"#3e4989\"], [0.3333333333333333, \"#31688e\"], [0.4444444444444444, \"#26828e\"], [0.5555555555555556, \"#1f9e89\"], [0.6666666666666666, \"#35b779\"], [0.7777777777777778, \"#6ece58\"], [0.8888888888888888, \"#b5de2b\"], [1.0, \"#fde725\"]], \"type\": \"histogram2d\"}], \"histogram2dcontour\": [{\"colorbar\": {\"outlinewidth\": 1, \"tickcolor\": \"rgb(36,36,36)\", \"ticks\": \"outside\"}, \"colorscale\": [[0.0, \"#440154\"], [0.1111111111111111, \"#482878\"], [0.2222222222222222, \"#3e4989\"], [0.3333333333333333, \"#31688e\"], [0.4444444444444444, \"#26828e\"], [0.5555555555555556, \"#1f9e89\"], [0.6666666666666666, \"#35b779\"], [0.7777777777777778, \"#6ece58\"], [0.8888888888888888, \"#b5de2b\"], [1.0, \"#fde725\"]], \"type\": \"histogram2dcontour\"}], \"mesh3d\": [{\"colorbar\": {\"outlinewidth\": 1, \"tickcolor\": \"rgb(36,36,36)\", \"ticks\": \"outside\"}, \"type\": \"mesh3d\"}], \"parcoords\": [{\"line\": {\"colorbar\": {\"outlinewidth\": 1, \"tickcolor\": \"rgb(36,36,36)\", \"ticks\": \"outside\"}}, \"type\": \"parcoords\"}], \"pie\": [{\"automargin\": true, \"type\": \"pie\"}], \"scatter\": [{\"marker\": {\"colorbar\": {\"outlinewidth\": 1, \"tickcolor\": \"rgb(36,36,36)\", \"ticks\": \"outside\"}}, \"type\": \"scatter\"}], \"scatter3d\": [{\"line\": {\"colorbar\": {\"outlinewidth\": 1, \"tickcolor\": \"rgb(36,36,36)\", \"ticks\": \"outside\"}}, \"marker\": {\"colorbar\": {\"outlinewidth\": 1, \"tickcolor\": \"rgb(36,36,36)\", \"ticks\": \"outside\"}}, \"type\": \"scatter3d\"}], \"scattercarpet\": [{\"marker\": {\"colorbar\": {\"outlinewidth\": 1, \"tickcolor\": \"rgb(36,36,36)\", \"ticks\": \"outside\"}}, \"type\": \"scattercarpet\"}], \"scattergeo\": [{\"marker\": {\"colorbar\": {\"outlinewidth\": 1, \"tickcolor\": \"rgb(36,36,36)\", \"ticks\": \"outside\"}}, \"type\": \"scattergeo\"}], \"scattergl\": [{\"marker\": {\"colorbar\": {\"outlinewidth\": 1, \"tickcolor\": \"rgb(36,36,36)\", \"ticks\": \"outside\"}}, \"type\": \"scattergl\"}], \"scattermapbox\": [{\"marker\": {\"colorbar\": {\"outlinewidth\": 1, \"tickcolor\": \"rgb(36,36,36)\", \"ticks\": \"outside\"}}, \"type\": \"scattermapbox\"}], \"scatterpolar\": [{\"marker\": {\"colorbar\": {\"outlinewidth\": 1, \"tickcolor\": \"rgb(36,36,36)\", \"ticks\": \"outside\"}}, \"type\": \"scatterpolar\"}], \"scatterpolargl\": [{\"marker\": {\"colorbar\": {\"outlinewidth\": 1, \"tickcolor\": \"rgb(36,36,36)\", \"ticks\": \"outside\"}}, \"type\": \"scatterpolargl\"}], \"scatterternary\": [{\"marker\": {\"colorbar\": {\"outlinewidth\": 1, \"tickcolor\": \"rgb(36,36,36)\", \"ticks\": \"outside\"}}, \"type\": \"scatterternary\"}], \"surface\": [{\"colorbar\": {\"outlinewidth\": 1, \"tickcolor\": \"rgb(36,36,36)\", \"ticks\": \"outside\"}, \"colorscale\": [[0.0, \"#440154\"], [0.1111111111111111, \"#482878\"], [0.2222222222222222, \"#3e4989\"], [0.3333333333333333, \"#31688e\"], [0.4444444444444444, \"#26828e\"], [0.5555555555555556, \"#1f9e89\"], [0.6666666666666666, \"#35b779\"], [0.7777777777777778, \"#6ece58\"], [0.8888888888888888, \"#b5de2b\"], [1.0, \"#fde725\"]], \"type\": \"surface\"}], \"table\": [{\"cells\": {\"fill\": {\"color\": \"rgb(237,237,237)\"}, \"line\": {\"color\": \"white\"}}, \"header\": {\"fill\": {\"color\": \"rgb(217,217,217)\"}, \"line\": {\"color\": \"white\"}}, \"type\": \"table\"}]}, \"layout\": {\"annotationdefaults\": {\"arrowhead\": 0, \"arrowwidth\": 1}, \"autotypenumbers\": \"strict\", \"coloraxis\": {\"colorbar\": {\"outlinewidth\": 1, \"tickcolor\": \"rgb(36,36,36)\", \"ticks\": \"outside\"}}, \"colorscale\": {\"diverging\": [[0.0, \"rgb(103,0,31)\"], [0.1, \"rgb(178,24,43)\"], [0.2, \"rgb(214,96,77)\"], [0.3, \"rgb(244,165,130)\"], [0.4, \"rgb(253,219,199)\"], [0.5, \"rgb(247,247,247)\"], [0.6, \"rgb(209,229,240)\"], [0.7, \"rgb(146,197,222)\"], [0.8, \"rgb(67,147,195)\"], [0.9, \"rgb(33,102,172)\"], [1.0, \"rgb(5,48,97)\"]], \"sequential\": [[0.0, \"#440154\"], [0.1111111111111111, \"#482878\"], [0.2222222222222222, \"#3e4989\"], [0.3333333333333333, \"#31688e\"], [0.4444444444444444, \"#26828e\"], [0.5555555555555556, \"#1f9e89\"], [0.6666666666666666, \"#35b779\"], [0.7777777777777778, \"#6ece58\"], [0.8888888888888888, \"#b5de2b\"], [1.0, \"#fde725\"]], \"sequentialminus\": [[0.0, \"#440154\"], [0.1111111111111111, \"#482878\"], [0.2222222222222222, \"#3e4989\"], [0.3333333333333333, \"#31688e\"], [0.4444444444444444, \"#26828e\"], [0.5555555555555556, \"#1f9e89\"], [0.6666666666666666, \"#35b779\"], [0.7777777777777778, \"#6ece58\"], [0.8888888888888888, \"#b5de2b\"], [1.0, \"#fde725\"]]}, \"colorway\": [\"#1F77B4\", \"#FF7F0E\", \"#2CA02C\", \"#D62728\", \"#9467BD\", \"#8C564B\", \"#E377C2\", \"#7F7F7F\", \"#BCBD22\", \"#17BECF\"], \"font\": {\"color\": \"rgb(36,36,36)\"}, \"geo\": {\"bgcolor\": \"white\", \"lakecolor\": \"white\", \"landcolor\": \"white\", \"showlakes\": true, \"showland\": true, \"subunitcolor\": \"white\"}, \"hoverlabel\": {\"align\": \"left\"}, \"hovermode\": \"closest\", \"mapbox\": {\"style\": \"light\"}, \"paper_bgcolor\": \"white\", \"plot_bgcolor\": \"white\", \"polar\": {\"angularaxis\": {\"gridcolor\": \"rgb(232,232,232)\", \"linecolor\": \"rgb(36,36,36)\", \"showgrid\": false, \"showline\": true, \"ticks\": \"outside\"}, \"bgcolor\": \"white\", \"radialaxis\": {\"gridcolor\": \"rgb(232,232,232)\", \"linecolor\": \"rgb(36,36,36)\", \"showgrid\": false, \"showline\": true, \"ticks\": \"outside\"}}, \"scene\": {\"xaxis\": {\"backgroundcolor\": \"white\", \"gridcolor\": \"rgb(232,232,232)\", \"gridwidth\": 2, \"linecolor\": \"rgb(36,36,36)\", \"showbackground\": true, \"showgrid\": false, \"showline\": true, \"ticks\": \"outside\", \"zeroline\": false, \"zerolinecolor\": \"rgb(36,36,36)\"}, \"yaxis\": {\"backgroundcolor\": \"white\", \"gridcolor\": \"rgb(232,232,232)\", \"gridwidth\": 2, \"linecolor\": \"rgb(36,36,36)\", \"showbackground\": true, \"showgrid\": false, \"showline\": true, \"ticks\": \"outside\", \"zeroline\": false, \"zerolinecolor\": \"rgb(36,36,36)\"}, \"zaxis\": {\"backgroundcolor\": \"white\", \"gridcolor\": \"rgb(232,232,232)\", \"gridwidth\": 2, \"linecolor\": \"rgb(36,36,36)\", \"showbackground\": true, \"showgrid\": false, \"showline\": true, \"ticks\": \"outside\", \"zeroline\": false, \"zerolinecolor\": \"rgb(36,36,36)\"}}, \"shapedefaults\": {\"fillcolor\": \"black\", \"line\": {\"width\": 0}, \"opacity\": 0.3}, \"ternary\": {\"aaxis\": {\"gridcolor\": \"rgb(232,232,232)\", \"linecolor\": \"rgb(36,36,36)\", \"showgrid\": false, \"showline\": true, \"ticks\": \"outside\"}, \"baxis\": {\"gridcolor\": \"rgb(232,232,232)\", \"linecolor\": \"rgb(36,36,36)\", \"showgrid\": false, \"showline\": true, \"ticks\": \"outside\"}, \"bgcolor\": \"white\", \"caxis\": {\"gridcolor\": \"rgb(232,232,232)\", \"linecolor\": \"rgb(36,36,36)\", \"showgrid\": false, \"showline\": true, \"ticks\": \"outside\"}}, \"title\": {\"x\": 0.05}, \"xaxis\": {\"automargin\": true, \"gridcolor\": \"rgb(232,232,232)\", \"linecolor\": \"rgb(36,36,36)\", \"showgrid\": false, \"showline\": true, \"ticks\": \"outside\", \"title\": {\"standoff\": 15}, \"zeroline\": false, \"zerolinecolor\": \"rgb(36,36,36)\"}, \"yaxis\": {\"automargin\": true, \"gridcolor\": \"rgb(232,232,232)\", \"linecolor\": \"rgb(36,36,36)\", \"showgrid\": false, \"showline\": true, \"ticks\": \"outside\", \"title\": {\"standoff\": 15}, \"zeroline\": false, \"zerolinecolor\": \"rgb(36,36,36)\"}}}, \"xaxis\": {\"anchor\": \"y\", \"domain\": [0.0, 0.45]}, \"xaxis2\": {\"anchor\": \"y2\", \"domain\": [0.55, 1.0]}, \"yaxis\": {\"anchor\": \"x\", \"domain\": [0.0, 1.0]}, \"yaxis2\": {\"anchor\": \"x2\", \"domain\": [0.0, 1.0]}},                        {\"responsive\": true}                    ).then(function(){\n",
       "                            \n",
       "var gd = document.getElementById('61a0367f-2479-4b90-a140-1f31d03aed37');\n",
       "var x = new MutationObserver(function (mutations, observer) {{\n",
       "        var display = window.getComputedStyle(gd).display;\n",
       "        if (!display || display === 'none') {{\n",
       "            console.log([gd, 'removed!']);\n",
       "            Plotly.purge(gd);\n",
       "            observer.disconnect();\n",
       "        }}\n",
       "}});\n",
       "\n",
       "// Listen for the removal of the full notebook cells\n",
       "var notebookContainer = gd.closest('#notebook-container');\n",
       "if (notebookContainer) {{\n",
       "    x.observe(notebookContainer, {childList: true});\n",
       "}}\n",
       "\n",
       "// Listen for the clearing of the current output cell\n",
       "var outputEl = gd.closest('.output');\n",
       "if (outputEl) {{\n",
       "    x.observe(outputEl, {childList: true});\n",
       "}}\n",
       "\n",
       "                        })                };                });            </script>        </div>"
      ]
     },
     "metadata": {},
     "output_type": "display_data"
    }
   ],
   "source": [
    "#Set the visualization parameters\n",
    "#References url: https://plotly.com/python/marker-style/\n",
    "fig_2 = make_subplots(rows=1, cols=2,\n",
    "                      specs=[[{'type': 'xy'}, {\"type\": \"xy\"}]],\n",
    "                      subplot_titles=(\"Top 10 authors by number of bestsellers\", \n",
    "                                      \"Top 5 books by number of reviews\"))\n",
    "\n",
    "# Setting Bar parameters\n",
    "fig_2.add_trace(go.Bar(x=number_of_books_written['Author'], \n",
    "                       y=number_of_books_written['Name'],\n",
    "                       name ='Count books',\n",
    "                       marker_color='LightSkyBlue'),\n",
    "                       row=1, col=1)\n",
    "\n",
    "# Setting Bar parameters\n",
    "fig_2.add_trace(go.Bar(x=books_with_the_number_of_reviews['Name'], \n",
    "                       y=books_with_the_number_of_reviews['Reviews'],\n",
    "                       marker_color='#C8B9EE',\n",
    "                       name ='Reviews'),\n",
    "                       row=1, col=2)\n",
    "\n",
    "# Setting the parameters of the chart when displaying\n",
    "fig_2.update_traces(marker_line_color='Gray',\n",
    "                    marker_line_width=1)\n",
    "\n",
    "# Setting the parameters of the chart when displaying\n",
    "fig_2.update_layout(showlegend=False, \n",
    "                    template='simple_white', \n",
    "                    font=dict(family='Arial', \n",
    "                              size=12, \n",
    "                              color='black'))\n",
    "fig_2.show()\n"
   ]
  },
  {
   "cell_type": "code",
   "execution_count": 172,
   "metadata": {},
   "outputs": [
    {
     "data": {
      "application/vnd.plotly.v1+json": {
       "config": {
        "plotlyServerURL": "https://plot.ly"
       },
       "data": [
        {
         "hole": 0.3,
         "insidetextorientation": "radial",
         "labels": [
          "Non Fiction",
          "Fiction"
         ],
         "marker": {
          "colors": [
           "MidnightBlue",
           "LightSkyBlue"
          ],
          "line": {
           "color": "Gray",
           "width": 1
          }
         },
         "textfont": {
          "color": "#FFFFFF",
          "size": 14
         },
         "textinfo": "label+percent",
         "title": {
          "text": "Genre"
         },
         "type": "pie",
         "values": [
          191,
          160
         ]
        }
       ],
       "layout": {
        "font": {
         "color": "black",
         "family": "Arial",
         "size": 14
        },
        "margin": {
         "t": 30
        },
        "showlegend": false,
        "template": {
         "data": {
          "bar": [
           {
            "error_x": {
             "color": "#2a3f5f"
            },
            "error_y": {
             "color": "#2a3f5f"
            },
            "marker": {
             "line": {
              "color": "#E5ECF6",
              "width": 0.5
             }
            },
            "type": "bar"
           }
          ],
          "barpolar": [
           {
            "marker": {
             "line": {
              "color": "#E5ECF6",
              "width": 0.5
             }
            },
            "type": "barpolar"
           }
          ],
          "carpet": [
           {
            "aaxis": {
             "endlinecolor": "#2a3f5f",
             "gridcolor": "white",
             "linecolor": "white",
             "minorgridcolor": "white",
             "startlinecolor": "#2a3f5f"
            },
            "baxis": {
             "endlinecolor": "#2a3f5f",
             "gridcolor": "white",
             "linecolor": "white",
             "minorgridcolor": "white",
             "startlinecolor": "#2a3f5f"
            },
            "type": "carpet"
           }
          ],
          "choropleth": [
           {
            "colorbar": {
             "outlinewidth": 0,
             "ticks": ""
            },
            "type": "choropleth"
           }
          ],
          "contour": [
           {
            "colorbar": {
             "outlinewidth": 0,
             "ticks": ""
            },
            "colorscale": [
             [
              0,
              "#0d0887"
             ],
             [
              0.1111111111111111,
              "#46039f"
             ],
             [
              0.2222222222222222,
              "#7201a8"
             ],
             [
              0.3333333333333333,
              "#9c179e"
             ],
             [
              0.4444444444444444,
              "#bd3786"
             ],
             [
              0.5555555555555556,
              "#d8576b"
             ],
             [
              0.6666666666666666,
              "#ed7953"
             ],
             [
              0.7777777777777778,
              "#fb9f3a"
             ],
             [
              0.8888888888888888,
              "#fdca26"
             ],
             [
              1,
              "#f0f921"
             ]
            ],
            "type": "contour"
           }
          ],
          "contourcarpet": [
           {
            "colorbar": {
             "outlinewidth": 0,
             "ticks": ""
            },
            "type": "contourcarpet"
           }
          ],
          "heatmap": [
           {
            "colorbar": {
             "outlinewidth": 0,
             "ticks": ""
            },
            "colorscale": [
             [
              0,
              "#0d0887"
             ],
             [
              0.1111111111111111,
              "#46039f"
             ],
             [
              0.2222222222222222,
              "#7201a8"
             ],
             [
              0.3333333333333333,
              "#9c179e"
             ],
             [
              0.4444444444444444,
              "#bd3786"
             ],
             [
              0.5555555555555556,
              "#d8576b"
             ],
             [
              0.6666666666666666,
              "#ed7953"
             ],
             [
              0.7777777777777778,
              "#fb9f3a"
             ],
             [
              0.8888888888888888,
              "#fdca26"
             ],
             [
              1,
              "#f0f921"
             ]
            ],
            "type": "heatmap"
           }
          ],
          "heatmapgl": [
           {
            "colorbar": {
             "outlinewidth": 0,
             "ticks": ""
            },
            "colorscale": [
             [
              0,
              "#0d0887"
             ],
             [
              0.1111111111111111,
              "#46039f"
             ],
             [
              0.2222222222222222,
              "#7201a8"
             ],
             [
              0.3333333333333333,
              "#9c179e"
             ],
             [
              0.4444444444444444,
              "#bd3786"
             ],
             [
              0.5555555555555556,
              "#d8576b"
             ],
             [
              0.6666666666666666,
              "#ed7953"
             ],
             [
              0.7777777777777778,
              "#fb9f3a"
             ],
             [
              0.8888888888888888,
              "#fdca26"
             ],
             [
              1,
              "#f0f921"
             ]
            ],
            "type": "heatmapgl"
           }
          ],
          "histogram": [
           {
            "marker": {
             "colorbar": {
              "outlinewidth": 0,
              "ticks": ""
             }
            },
            "type": "histogram"
           }
          ],
          "histogram2d": [
           {
            "colorbar": {
             "outlinewidth": 0,
             "ticks": ""
            },
            "colorscale": [
             [
              0,
              "#0d0887"
             ],
             [
              0.1111111111111111,
              "#46039f"
             ],
             [
              0.2222222222222222,
              "#7201a8"
             ],
             [
              0.3333333333333333,
              "#9c179e"
             ],
             [
              0.4444444444444444,
              "#bd3786"
             ],
             [
              0.5555555555555556,
              "#d8576b"
             ],
             [
              0.6666666666666666,
              "#ed7953"
             ],
             [
              0.7777777777777778,
              "#fb9f3a"
             ],
             [
              0.8888888888888888,
              "#fdca26"
             ],
             [
              1,
              "#f0f921"
             ]
            ],
            "type": "histogram2d"
           }
          ],
          "histogram2dcontour": [
           {
            "colorbar": {
             "outlinewidth": 0,
             "ticks": ""
            },
            "colorscale": [
             [
              0,
              "#0d0887"
             ],
             [
              0.1111111111111111,
              "#46039f"
             ],
             [
              0.2222222222222222,
              "#7201a8"
             ],
             [
              0.3333333333333333,
              "#9c179e"
             ],
             [
              0.4444444444444444,
              "#bd3786"
             ],
             [
              0.5555555555555556,
              "#d8576b"
             ],
             [
              0.6666666666666666,
              "#ed7953"
             ],
             [
              0.7777777777777778,
              "#fb9f3a"
             ],
             [
              0.8888888888888888,
              "#fdca26"
             ],
             [
              1,
              "#f0f921"
             ]
            ],
            "type": "histogram2dcontour"
           }
          ],
          "mesh3d": [
           {
            "colorbar": {
             "outlinewidth": 0,
             "ticks": ""
            },
            "type": "mesh3d"
           }
          ],
          "parcoords": [
           {
            "line": {
             "colorbar": {
              "outlinewidth": 0,
              "ticks": ""
             }
            },
            "type": "parcoords"
           }
          ],
          "pie": [
           {
            "automargin": true,
            "type": "pie"
           }
          ],
          "scatter": [
           {
            "marker": {
             "colorbar": {
              "outlinewidth": 0,
              "ticks": ""
             }
            },
            "type": "scatter"
           }
          ],
          "scatter3d": [
           {
            "line": {
             "colorbar": {
              "outlinewidth": 0,
              "ticks": ""
             }
            },
            "marker": {
             "colorbar": {
              "outlinewidth": 0,
              "ticks": ""
             }
            },
            "type": "scatter3d"
           }
          ],
          "scattercarpet": [
           {
            "marker": {
             "colorbar": {
              "outlinewidth": 0,
              "ticks": ""
             }
            },
            "type": "scattercarpet"
           }
          ],
          "scattergeo": [
           {
            "marker": {
             "colorbar": {
              "outlinewidth": 0,
              "ticks": ""
             }
            },
            "type": "scattergeo"
           }
          ],
          "scattergl": [
           {
            "marker": {
             "colorbar": {
              "outlinewidth": 0,
              "ticks": ""
             }
            },
            "type": "scattergl"
           }
          ],
          "scattermapbox": [
           {
            "marker": {
             "colorbar": {
              "outlinewidth": 0,
              "ticks": ""
             }
            },
            "type": "scattermapbox"
           }
          ],
          "scatterpolar": [
           {
            "marker": {
             "colorbar": {
              "outlinewidth": 0,
              "ticks": ""
             }
            },
            "type": "scatterpolar"
           }
          ],
          "scatterpolargl": [
           {
            "marker": {
             "colorbar": {
              "outlinewidth": 0,
              "ticks": ""
             }
            },
            "type": "scatterpolargl"
           }
          ],
          "scatterternary": [
           {
            "marker": {
             "colorbar": {
              "outlinewidth": 0,
              "ticks": ""
             }
            },
            "type": "scatterternary"
           }
          ],
          "surface": [
           {
            "colorbar": {
             "outlinewidth": 0,
             "ticks": ""
            },
            "colorscale": [
             [
              0,
              "#0d0887"
             ],
             [
              0.1111111111111111,
              "#46039f"
             ],
             [
              0.2222222222222222,
              "#7201a8"
             ],
             [
              0.3333333333333333,
              "#9c179e"
             ],
             [
              0.4444444444444444,
              "#bd3786"
             ],
             [
              0.5555555555555556,
              "#d8576b"
             ],
             [
              0.6666666666666666,
              "#ed7953"
             ],
             [
              0.7777777777777778,
              "#fb9f3a"
             ],
             [
              0.8888888888888888,
              "#fdca26"
             ],
             [
              1,
              "#f0f921"
             ]
            ],
            "type": "surface"
           }
          ],
          "table": [
           {
            "cells": {
             "fill": {
              "color": "#EBF0F8"
             },
             "line": {
              "color": "white"
             }
            },
            "header": {
             "fill": {
              "color": "#C8D4E3"
             },
             "line": {
              "color": "white"
             }
            },
            "type": "table"
           }
          ]
         },
         "layout": {
          "annotationdefaults": {
           "arrowcolor": "#2a3f5f",
           "arrowhead": 0,
           "arrowwidth": 1
          },
          "autotypenumbers": "strict",
          "coloraxis": {
           "colorbar": {
            "outlinewidth": 0,
            "ticks": ""
           }
          },
          "colorscale": {
           "diverging": [
            [
             0,
             "#8e0152"
            ],
            [
             0.1,
             "#c51b7d"
            ],
            [
             0.2,
             "#de77ae"
            ],
            [
             0.3,
             "#f1b6da"
            ],
            [
             0.4,
             "#fde0ef"
            ],
            [
             0.5,
             "#f7f7f7"
            ],
            [
             0.6,
             "#e6f5d0"
            ],
            [
             0.7,
             "#b8e186"
            ],
            [
             0.8,
             "#7fbc41"
            ],
            [
             0.9,
             "#4d9221"
            ],
            [
             1,
             "#276419"
            ]
           ],
           "sequential": [
            [
             0,
             "#0d0887"
            ],
            [
             0.1111111111111111,
             "#46039f"
            ],
            [
             0.2222222222222222,
             "#7201a8"
            ],
            [
             0.3333333333333333,
             "#9c179e"
            ],
            [
             0.4444444444444444,
             "#bd3786"
            ],
            [
             0.5555555555555556,
             "#d8576b"
            ],
            [
             0.6666666666666666,
             "#ed7953"
            ],
            [
             0.7777777777777778,
             "#fb9f3a"
            ],
            [
             0.8888888888888888,
             "#fdca26"
            ],
            [
             1,
             "#f0f921"
            ]
           ],
           "sequentialminus": [
            [
             0,
             "#0d0887"
            ],
            [
             0.1111111111111111,
             "#46039f"
            ],
            [
             0.2222222222222222,
             "#7201a8"
            ],
            [
             0.3333333333333333,
             "#9c179e"
            ],
            [
             0.4444444444444444,
             "#bd3786"
            ],
            [
             0.5555555555555556,
             "#d8576b"
            ],
            [
             0.6666666666666666,
             "#ed7953"
            ],
            [
             0.7777777777777778,
             "#fb9f3a"
            ],
            [
             0.8888888888888888,
             "#fdca26"
            ],
            [
             1,
             "#f0f921"
            ]
           ]
          },
          "colorway": [
           "#636efa",
           "#EF553B",
           "#00cc96",
           "#ab63fa",
           "#FFA15A",
           "#19d3f3",
           "#FF6692",
           "#B6E880",
           "#FF97FF",
           "#FECB52"
          ],
          "font": {
           "color": "#2a3f5f"
          },
          "geo": {
           "bgcolor": "white",
           "lakecolor": "white",
           "landcolor": "#E5ECF6",
           "showlakes": true,
           "showland": true,
           "subunitcolor": "white"
          },
          "hoverlabel": {
           "align": "left"
          },
          "hovermode": "closest",
          "mapbox": {
           "style": "light"
          },
          "paper_bgcolor": "white",
          "plot_bgcolor": "#E5ECF6",
          "polar": {
           "angularaxis": {
            "gridcolor": "white",
            "linecolor": "white",
            "ticks": ""
           },
           "bgcolor": "#E5ECF6",
           "radialaxis": {
            "gridcolor": "white",
            "linecolor": "white",
            "ticks": ""
           }
          },
          "scene": {
           "xaxis": {
            "backgroundcolor": "#E5ECF6",
            "gridcolor": "white",
            "gridwidth": 2,
            "linecolor": "white",
            "showbackground": true,
            "ticks": "",
            "zerolinecolor": "white"
           },
           "yaxis": {
            "backgroundcolor": "#E5ECF6",
            "gridcolor": "white",
            "gridwidth": 2,
            "linecolor": "white",
            "showbackground": true,
            "ticks": "",
            "zerolinecolor": "white"
           },
           "zaxis": {
            "backgroundcolor": "#E5ECF6",
            "gridcolor": "white",
            "gridwidth": 2,
            "linecolor": "white",
            "showbackground": true,
            "ticks": "",
            "zerolinecolor": "white"
           }
          },
          "shapedefaults": {
           "line": {
            "color": "#2a3f5f"
           }
          },
          "ternary": {
           "aaxis": {
            "gridcolor": "white",
            "linecolor": "white",
            "ticks": ""
           },
           "baxis": {
            "gridcolor": "white",
            "linecolor": "white",
            "ticks": ""
           },
           "bgcolor": "#E5ECF6",
           "caxis": {
            "gridcolor": "white",
            "linecolor": "white",
            "ticks": ""
           }
          },
          "title": {
           "x": 0.05
          },
          "xaxis": {
           "automargin": true,
           "gridcolor": "white",
           "linecolor": "white",
           "ticks": "",
           "title": {
            "standoff": 15
           },
           "zerolinecolor": "white",
           "zerolinewidth": 2
          },
          "yaxis": {
           "automargin": true,
           "gridcolor": "white",
           "linecolor": "white",
           "ticks": "",
           "title": {
            "standoff": 15
           },
           "zerolinecolor": "white",
           "zerolinewidth": 2
          }
         }
        },
        "title": {
         "text": "Count of books genre",
         "x": 0.5
        }
       }
      },
      "text/html": [
       "<div>                            <div id=\"068b43fd-408a-44e6-9c29-f9ad1dd2760c\" class=\"plotly-graph-div\" style=\"height:525px; width:100%;\"></div>            <script type=\"text/javascript\">                require([\"plotly\"], function(Plotly) {                    window.PLOTLYENV=window.PLOTLYENV || {};                                    if (document.getElementById(\"068b43fd-408a-44e6-9c29-f9ad1dd2760c\")) {                    Plotly.newPlot(                        \"068b43fd-408a-44e6-9c29-f9ad1dd2760c\",                        [{\"hole\": 0.3, \"insidetextorientation\": \"radial\", \"labels\": [\"Non Fiction\", \"Fiction\"], \"marker\": {\"colors\": [\"MidnightBlue\", \"LightSkyBlue\"], \"line\": {\"color\": \"Gray\", \"width\": 1}}, \"textfont\": {\"color\": \"#FFFFFF\", \"size\": 14}, \"textinfo\": \"label+percent\", \"title\": {\"text\": \"Genre\"}, \"type\": \"pie\", \"values\": [191, 160]}],                        {\"font\": {\"color\": \"black\", \"family\": \"Arial\", \"size\": 14}, \"margin\": {\"t\": 30}, \"showlegend\": false, \"template\": {\"data\": {\"bar\": [{\"error_x\": {\"color\": \"#2a3f5f\"}, \"error_y\": {\"color\": \"#2a3f5f\"}, \"marker\": {\"line\": {\"color\": \"#E5ECF6\", \"width\": 0.5}}, \"type\": \"bar\"}], \"barpolar\": [{\"marker\": {\"line\": {\"color\": \"#E5ECF6\", \"width\": 0.5}}, \"type\": \"barpolar\"}], \"carpet\": [{\"aaxis\": {\"endlinecolor\": \"#2a3f5f\", \"gridcolor\": \"white\", \"linecolor\": \"white\", \"minorgridcolor\": \"white\", \"startlinecolor\": \"#2a3f5f\"}, \"baxis\": {\"endlinecolor\": \"#2a3f5f\", \"gridcolor\": \"white\", \"linecolor\": \"white\", \"minorgridcolor\": \"white\", \"startlinecolor\": \"#2a3f5f\"}, \"type\": \"carpet\"}], \"choropleth\": [{\"colorbar\": {\"outlinewidth\": 0, \"ticks\": \"\"}, \"type\": \"choropleth\"}], \"contour\": [{\"colorbar\": {\"outlinewidth\": 0, \"ticks\": \"\"}, \"colorscale\": [[0.0, \"#0d0887\"], [0.1111111111111111, \"#46039f\"], [0.2222222222222222, \"#7201a8\"], [0.3333333333333333, \"#9c179e\"], [0.4444444444444444, \"#bd3786\"], [0.5555555555555556, \"#d8576b\"], [0.6666666666666666, \"#ed7953\"], [0.7777777777777778, \"#fb9f3a\"], [0.8888888888888888, \"#fdca26\"], [1.0, \"#f0f921\"]], \"type\": \"contour\"}], \"contourcarpet\": [{\"colorbar\": {\"outlinewidth\": 0, \"ticks\": \"\"}, \"type\": \"contourcarpet\"}], \"heatmap\": [{\"colorbar\": {\"outlinewidth\": 0, \"ticks\": \"\"}, \"colorscale\": [[0.0, \"#0d0887\"], [0.1111111111111111, \"#46039f\"], [0.2222222222222222, \"#7201a8\"], [0.3333333333333333, \"#9c179e\"], [0.4444444444444444, \"#bd3786\"], [0.5555555555555556, \"#d8576b\"], [0.6666666666666666, \"#ed7953\"], [0.7777777777777778, \"#fb9f3a\"], [0.8888888888888888, \"#fdca26\"], [1.0, \"#f0f921\"]], \"type\": \"heatmap\"}], \"heatmapgl\": [{\"colorbar\": {\"outlinewidth\": 0, \"ticks\": \"\"}, \"colorscale\": [[0.0, \"#0d0887\"], [0.1111111111111111, \"#46039f\"], [0.2222222222222222, \"#7201a8\"], [0.3333333333333333, \"#9c179e\"], [0.4444444444444444, \"#bd3786\"], [0.5555555555555556, \"#d8576b\"], [0.6666666666666666, \"#ed7953\"], [0.7777777777777778, \"#fb9f3a\"], [0.8888888888888888, \"#fdca26\"], [1.0, \"#f0f921\"]], \"type\": \"heatmapgl\"}], \"histogram\": [{\"marker\": {\"colorbar\": {\"outlinewidth\": 0, \"ticks\": \"\"}}, \"type\": \"histogram\"}], \"histogram2d\": [{\"colorbar\": {\"outlinewidth\": 0, \"ticks\": \"\"}, \"colorscale\": [[0.0, \"#0d0887\"], [0.1111111111111111, \"#46039f\"], [0.2222222222222222, \"#7201a8\"], [0.3333333333333333, \"#9c179e\"], [0.4444444444444444, \"#bd3786\"], [0.5555555555555556, \"#d8576b\"], [0.6666666666666666, \"#ed7953\"], [0.7777777777777778, \"#fb9f3a\"], [0.8888888888888888, \"#fdca26\"], [1.0, \"#f0f921\"]], \"type\": \"histogram2d\"}], \"histogram2dcontour\": [{\"colorbar\": {\"outlinewidth\": 0, \"ticks\": \"\"}, \"colorscale\": [[0.0, \"#0d0887\"], [0.1111111111111111, \"#46039f\"], [0.2222222222222222, \"#7201a8\"], [0.3333333333333333, \"#9c179e\"], [0.4444444444444444, \"#bd3786\"], [0.5555555555555556, \"#d8576b\"], [0.6666666666666666, \"#ed7953\"], [0.7777777777777778, \"#fb9f3a\"], [0.8888888888888888, \"#fdca26\"], [1.0, \"#f0f921\"]], \"type\": \"histogram2dcontour\"}], \"mesh3d\": [{\"colorbar\": {\"outlinewidth\": 0, \"ticks\": \"\"}, \"type\": \"mesh3d\"}], \"parcoords\": [{\"line\": {\"colorbar\": {\"outlinewidth\": 0, \"ticks\": \"\"}}, \"type\": \"parcoords\"}], \"pie\": [{\"automargin\": true, \"type\": \"pie\"}], \"scatter\": [{\"marker\": {\"colorbar\": {\"outlinewidth\": 0, \"ticks\": \"\"}}, \"type\": \"scatter\"}], \"scatter3d\": [{\"line\": {\"colorbar\": {\"outlinewidth\": 0, \"ticks\": \"\"}}, \"marker\": {\"colorbar\": {\"outlinewidth\": 0, \"ticks\": \"\"}}, \"type\": \"scatter3d\"}], \"scattercarpet\": [{\"marker\": {\"colorbar\": {\"outlinewidth\": 0, \"ticks\": \"\"}}, \"type\": \"scattercarpet\"}], \"scattergeo\": [{\"marker\": {\"colorbar\": {\"outlinewidth\": 0, \"ticks\": \"\"}}, \"type\": \"scattergeo\"}], \"scattergl\": [{\"marker\": {\"colorbar\": {\"outlinewidth\": 0, \"ticks\": \"\"}}, \"type\": \"scattergl\"}], \"scattermapbox\": [{\"marker\": {\"colorbar\": {\"outlinewidth\": 0, \"ticks\": \"\"}}, \"type\": \"scattermapbox\"}], \"scatterpolar\": [{\"marker\": {\"colorbar\": {\"outlinewidth\": 0, \"ticks\": \"\"}}, \"type\": \"scatterpolar\"}], \"scatterpolargl\": [{\"marker\": {\"colorbar\": {\"outlinewidth\": 0, \"ticks\": \"\"}}, \"type\": \"scatterpolargl\"}], \"scatterternary\": [{\"marker\": {\"colorbar\": {\"outlinewidth\": 0, \"ticks\": \"\"}}, \"type\": \"scatterternary\"}], \"surface\": [{\"colorbar\": {\"outlinewidth\": 0, \"ticks\": \"\"}, \"colorscale\": [[0.0, \"#0d0887\"], [0.1111111111111111, \"#46039f\"], [0.2222222222222222, \"#7201a8\"], [0.3333333333333333, \"#9c179e\"], [0.4444444444444444, \"#bd3786\"], [0.5555555555555556, \"#d8576b\"], [0.6666666666666666, \"#ed7953\"], [0.7777777777777778, \"#fb9f3a\"], [0.8888888888888888, \"#fdca26\"], [1.0, \"#f0f921\"]], \"type\": \"surface\"}], \"table\": [{\"cells\": {\"fill\": {\"color\": \"#EBF0F8\"}, \"line\": {\"color\": \"white\"}}, \"header\": {\"fill\": {\"color\": \"#C8D4E3\"}, \"line\": {\"color\": \"white\"}}, \"type\": \"table\"}]}, \"layout\": {\"annotationdefaults\": {\"arrowcolor\": \"#2a3f5f\", \"arrowhead\": 0, \"arrowwidth\": 1}, \"autotypenumbers\": \"strict\", \"coloraxis\": {\"colorbar\": {\"outlinewidth\": 0, \"ticks\": \"\"}}, \"colorscale\": {\"diverging\": [[0, \"#8e0152\"], [0.1, \"#c51b7d\"], [0.2, \"#de77ae\"], [0.3, \"#f1b6da\"], [0.4, \"#fde0ef\"], [0.5, \"#f7f7f7\"], [0.6, \"#e6f5d0\"], [0.7, \"#b8e186\"], [0.8, \"#7fbc41\"], [0.9, \"#4d9221\"], [1, \"#276419\"]], \"sequential\": [[0.0, \"#0d0887\"], [0.1111111111111111, \"#46039f\"], [0.2222222222222222, \"#7201a8\"], [0.3333333333333333, \"#9c179e\"], [0.4444444444444444, \"#bd3786\"], [0.5555555555555556, \"#d8576b\"], [0.6666666666666666, \"#ed7953\"], [0.7777777777777778, \"#fb9f3a\"], [0.8888888888888888, \"#fdca26\"], [1.0, \"#f0f921\"]], \"sequentialminus\": [[0.0, \"#0d0887\"], [0.1111111111111111, \"#46039f\"], [0.2222222222222222, \"#7201a8\"], [0.3333333333333333, \"#9c179e\"], [0.4444444444444444, \"#bd3786\"], [0.5555555555555556, \"#d8576b\"], [0.6666666666666666, \"#ed7953\"], [0.7777777777777778, \"#fb9f3a\"], [0.8888888888888888, \"#fdca26\"], [1.0, \"#f0f921\"]]}, \"colorway\": [\"#636efa\", \"#EF553B\", \"#00cc96\", \"#ab63fa\", \"#FFA15A\", \"#19d3f3\", \"#FF6692\", \"#B6E880\", \"#FF97FF\", \"#FECB52\"], \"font\": {\"color\": \"#2a3f5f\"}, \"geo\": {\"bgcolor\": \"white\", \"lakecolor\": \"white\", \"landcolor\": \"#E5ECF6\", \"showlakes\": true, \"showland\": true, \"subunitcolor\": \"white\"}, \"hoverlabel\": {\"align\": \"left\"}, \"hovermode\": \"closest\", \"mapbox\": {\"style\": \"light\"}, \"paper_bgcolor\": \"white\", \"plot_bgcolor\": \"#E5ECF6\", \"polar\": {\"angularaxis\": {\"gridcolor\": \"white\", \"linecolor\": \"white\", \"ticks\": \"\"}, \"bgcolor\": \"#E5ECF6\", \"radialaxis\": {\"gridcolor\": \"white\", \"linecolor\": \"white\", \"ticks\": \"\"}}, \"scene\": {\"xaxis\": {\"backgroundcolor\": \"#E5ECF6\", \"gridcolor\": \"white\", \"gridwidth\": 2, \"linecolor\": \"white\", \"showbackground\": true, \"ticks\": \"\", \"zerolinecolor\": \"white\"}, \"yaxis\": {\"backgroundcolor\": \"#E5ECF6\", \"gridcolor\": \"white\", \"gridwidth\": 2, \"linecolor\": \"white\", \"showbackground\": true, \"ticks\": \"\", \"zerolinecolor\": \"white\"}, \"zaxis\": {\"backgroundcolor\": \"#E5ECF6\", \"gridcolor\": \"white\", \"gridwidth\": 2, \"linecolor\": \"white\", \"showbackground\": true, \"ticks\": \"\", \"zerolinecolor\": \"white\"}}, \"shapedefaults\": {\"line\": {\"color\": \"#2a3f5f\"}}, \"ternary\": {\"aaxis\": {\"gridcolor\": \"white\", \"linecolor\": \"white\", \"ticks\": \"\"}, \"baxis\": {\"gridcolor\": \"white\", \"linecolor\": \"white\", \"ticks\": \"\"}, \"bgcolor\": \"#E5ECF6\", \"caxis\": {\"gridcolor\": \"white\", \"linecolor\": \"white\", \"ticks\": \"\"}}, \"title\": {\"x\": 0.05}, \"xaxis\": {\"automargin\": true, \"gridcolor\": \"white\", \"linecolor\": \"white\", \"ticks\": \"\", \"title\": {\"standoff\": 15}, \"zerolinecolor\": \"white\", \"zerolinewidth\": 2}, \"yaxis\": {\"automargin\": true, \"gridcolor\": \"white\", \"linecolor\": \"white\", \"ticks\": \"\", \"title\": {\"standoff\": 15}, \"zerolinecolor\": \"white\", \"zerolinewidth\": 2}}}, \"title\": {\"text\": \"Count of books genre\", \"x\": 0.5}},                        {\"responsive\": true}                    ).then(function(){\n",
       "                            \n",
       "var gd = document.getElementById('068b43fd-408a-44e6-9c29-f9ad1dd2760c');\n",
       "var x = new MutationObserver(function (mutations, observer) {{\n",
       "        var display = window.getComputedStyle(gd).display;\n",
       "        if (!display || display === 'none') {{\n",
       "            console.log([gd, 'removed!']);\n",
       "            Plotly.purge(gd);\n",
       "            observer.disconnect();\n",
       "        }}\n",
       "}});\n",
       "\n",
       "// Listen for the removal of the full notebook cells\n",
       "var notebookContainer = gd.closest('#notebook-container');\n",
       "if (notebookContainer) {{\n",
       "    x.observe(notebookContainer, {childList: true});\n",
       "}}\n",
       "\n",
       "// Listen for the clearing of the current output cell\n",
       "var outputEl = gd.closest('.output');\n",
       "if (outputEl) {{\n",
       "    x.observe(outputEl, {childList: true});\n",
       "}}\n",
       "\n",
       "                        })                };                });            </script>        </div>"
      ]
     },
     "metadata": {},
     "output_type": "display_data"
    }
   ],
   "source": [
    " # Let's set the visualization parameters\n",
    "fig_3 = make_subplots(rows=1, cols=1,\n",
    "                      specs=[[{'type': 'domain'}]],\n",
    "                      subplot_titles=(\"\"))\n",
    "\n",
    "# Setting Pie parameters\n",
    "fig_3.add_trace(go.Pie(values=number_of_books_by_genre['Name'],\n",
    "                       title='Genre',\n",
    "                       labels=['Non Fiction', 'Fiction'],\n",
    "                       textinfo='label+percent',\n",
    "                       insidetextorientation='radial',\n",
    "                       hole=0.3,\n",
    "                       marker=dict(colors=['MidnightBlue','LightSkyBlue'], \n",
    "                                   line_color='Gray', \n",
    "                                   line_width=1),\n",
    "                       textfont={'color': '#FFFFFF', 'size': 15},\n",
    "                       textfont_size=14))\n",
    "\n",
    "# Setting the parameters of the chart when displaying\n",
    "fig_3.update_layout(margin_t=30, \n",
    "                    showlegend=False, \n",
    "                    title_text='Count of books genre', \n",
    "                    title_x=0.5, \n",
    "                    font=dict(family='Arial', \n",
    "                              size=14, \n",
    "                              color='black'))\n",
    "fig_3.show() "
   ]
  },
  {
   "cell_type": "code",
   "execution_count": 173,
   "metadata": {},
   "outputs": [
    {
     "data": {
      "application/vnd.plotly.v1+json": {
       "config": {
        "plotlyServerURL": "https://plot.ly"
       },
       "data": [
        {
         "marker": {
          "color": "LightSkyBlue"
         },
         "name": "User Rating",
         "type": "box",
         "x": [
          4.7,
          4.6,
          4.7,
          4.7,
          4.8,
          4.4,
          4.7,
          4.7,
          4.7,
          4.6,
          4.6,
          4.6,
          4.5,
          4.6,
          4.5,
          4.6,
          4.4,
          4.5,
          4.8,
          4.6,
          3.9,
          4.6,
          4.3,
          4.6,
          4.7,
          4.2,
          4.6,
          4.6,
          4.8,
          4.7,
          4.8,
          4.8,
          4.7,
          4.7,
          4.6,
          4.5,
          4.9,
          4.8,
          4.6,
          4.8,
          4.5,
          4.7,
          4.7,
          4.7,
          4.3,
          4.8,
          4.8,
          4.6,
          4.8,
          4.4,
          4.6,
          4.3,
          4.2,
          4.8,
          4.6,
          4.6,
          4.5,
          4.8,
          4.8,
          4.8,
          4.6,
          4.6,
          4.5,
          4.6,
          4.7,
          4.8,
          4.9,
          4.9,
          4.9,
          4.9,
          4.9,
          4.9,
          4.8,
          4.6,
          4.5,
          4.5,
          4.3,
          4.5,
          4.7,
          4.7,
          4.7,
          4.7,
          4.6,
          4.7,
          4.4,
          4.4,
          4.5,
          3.8,
          4.5,
          4.2,
          4.7,
          4.4,
          4.7,
          4.4,
          4.6,
          4.5,
          4.6,
          4.8,
          4.6,
          4.6,
          4.6,
          3.6,
          4.8,
          4.6,
          4,
          4.6,
          4.5,
          4.8,
          4.9,
          4.6,
          4.4,
          4.8,
          4.9,
          4.8,
          4.9,
          4,
          4.9,
          4.9,
          4.9,
          4.7,
          4.8,
          4.8,
          4.7,
          4.4,
          4.8,
          4.7,
          4.3,
          4.8,
          4.9,
          4.7,
          4.8,
          4.6,
          4.8,
          4.3,
          4.4,
          4.1,
          4.6,
          4.4,
          4.8,
          4.9,
          4.6,
          4.5,
          4.6,
          4.5,
          4.6,
          4.7,
          4.6,
          4.6,
          4.8,
          4.8,
          4.5,
          4.9,
          4.6,
          4.5,
          4.5,
          4.4,
          4.8,
          4.5,
          4.1,
          4.9,
          4.5,
          4.5,
          4.2,
          4.8,
          4.8,
          4.5,
          4.7,
          4.8,
          4.7,
          4.4,
          4.6,
          4.5,
          4.8,
          4.8,
          4.6,
          4.7,
          4.6,
          4.9,
          4.9,
          4.8,
          4.2,
          4.6,
          4.5,
          4.3,
          4.6,
          4.6,
          4.7,
          4.8,
          4.8,
          4.7,
          4.3,
          4.5,
          4.8,
          4.6,
          4.7,
          4.6,
          4.9,
          4.9,
          4.8,
          4.6,
          4.8,
          4.7,
          4.7,
          4.8,
          4.1,
          4.7,
          4.6,
          4.6,
          4.9,
          4,
          4.5,
          4.6,
          4.5,
          4.4,
          4.3,
          4.3,
          4.7,
          4.8,
          4.8,
          4.7,
          4.7,
          4.6,
          4.7,
          4.7,
          4.8,
          4.2,
          4.8,
          4.7,
          4.6,
          4.8,
          4.8,
          3.3,
          4.7,
          4.3,
          4.3,
          4.8,
          4.4,
          4.8,
          4.1,
          4,
          4.7,
          4.6,
          4.6,
          4.7,
          4.8,
          4.1,
          4.7,
          4.7,
          4.7,
          4.4,
          4.8,
          3.9,
          4.4,
          4.5,
          4.7,
          4.3,
          4.6,
          4.8,
          4.8,
          4.8,
          4.7,
          4.7,
          4.8,
          4.7,
          4.3,
          4.7,
          4.8,
          4.9,
          4.4,
          4.5,
          4.4,
          4.8,
          4.2,
          4.8,
          4.9,
          4.8,
          4.7,
          4.5,
          4.8,
          4.6,
          4.8,
          4.4,
          4.3,
          4.3,
          4.8,
          4.8,
          4.8,
          4.5,
          4.4,
          4.8,
          4.6,
          4.3,
          4.3,
          4.6,
          4.6,
          4.8,
          4.6,
          4.6,
          4.5,
          4.8,
          4.6,
          4.7,
          4.7,
          4.7,
          4.4,
          4.4,
          4.7,
          4.7,
          4.8,
          4.7,
          4.9,
          4.6,
          4.9,
          4.8,
          4.7,
          4.7,
          4.6,
          4.5,
          4.5,
          4.3,
          4.6,
          4.3,
          4.8,
          4.6,
          4.8,
          4.5,
          4.7,
          4.5,
          4.8,
          4.3,
          4.9,
          4.8,
          4.7,
          4.8,
          4.5,
          4.6,
          4.7,
          4.7,
          4.8,
          4.4,
          4.4,
          4.8,
          4.8,
          4.8,
          4.6,
          4.4,
          4.5,
          4.2,
          4.8,
          4.9,
          4.7
         ]
        }
       ],
       "layout": {
        "font": {
         "color": "black",
         "family": "Arial",
         "size": 12
        },
        "showlegend": false,
        "template": {
         "data": {
          "bar": [
           {
            "error_x": {
             "color": "rgb(36,36,36)"
            },
            "error_y": {
             "color": "rgb(36,36,36)"
            },
            "marker": {
             "line": {
              "color": "white",
              "width": 0.5
             }
            },
            "type": "bar"
           }
          ],
          "barpolar": [
           {
            "marker": {
             "line": {
              "color": "white",
              "width": 0.5
             }
            },
            "type": "barpolar"
           }
          ],
          "carpet": [
           {
            "aaxis": {
             "endlinecolor": "rgb(36,36,36)",
             "gridcolor": "white",
             "linecolor": "white",
             "minorgridcolor": "white",
             "startlinecolor": "rgb(36,36,36)"
            },
            "baxis": {
             "endlinecolor": "rgb(36,36,36)",
             "gridcolor": "white",
             "linecolor": "white",
             "minorgridcolor": "white",
             "startlinecolor": "rgb(36,36,36)"
            },
            "type": "carpet"
           }
          ],
          "choropleth": [
           {
            "colorbar": {
             "outlinewidth": 1,
             "tickcolor": "rgb(36,36,36)",
             "ticks": "outside"
            },
            "type": "choropleth"
           }
          ],
          "contour": [
           {
            "colorbar": {
             "outlinewidth": 1,
             "tickcolor": "rgb(36,36,36)",
             "ticks": "outside"
            },
            "colorscale": [
             [
              0,
              "#440154"
             ],
             [
              0.1111111111111111,
              "#482878"
             ],
             [
              0.2222222222222222,
              "#3e4989"
             ],
             [
              0.3333333333333333,
              "#31688e"
             ],
             [
              0.4444444444444444,
              "#26828e"
             ],
             [
              0.5555555555555556,
              "#1f9e89"
             ],
             [
              0.6666666666666666,
              "#35b779"
             ],
             [
              0.7777777777777778,
              "#6ece58"
             ],
             [
              0.8888888888888888,
              "#b5de2b"
             ],
             [
              1,
              "#fde725"
             ]
            ],
            "type": "contour"
           }
          ],
          "contourcarpet": [
           {
            "colorbar": {
             "outlinewidth": 1,
             "tickcolor": "rgb(36,36,36)",
             "ticks": "outside"
            },
            "type": "contourcarpet"
           }
          ],
          "heatmap": [
           {
            "colorbar": {
             "outlinewidth": 1,
             "tickcolor": "rgb(36,36,36)",
             "ticks": "outside"
            },
            "colorscale": [
             [
              0,
              "#440154"
             ],
             [
              0.1111111111111111,
              "#482878"
             ],
             [
              0.2222222222222222,
              "#3e4989"
             ],
             [
              0.3333333333333333,
              "#31688e"
             ],
             [
              0.4444444444444444,
              "#26828e"
             ],
             [
              0.5555555555555556,
              "#1f9e89"
             ],
             [
              0.6666666666666666,
              "#35b779"
             ],
             [
              0.7777777777777778,
              "#6ece58"
             ],
             [
              0.8888888888888888,
              "#b5de2b"
             ],
             [
              1,
              "#fde725"
             ]
            ],
            "type": "heatmap"
           }
          ],
          "heatmapgl": [
           {
            "colorbar": {
             "outlinewidth": 1,
             "tickcolor": "rgb(36,36,36)",
             "ticks": "outside"
            },
            "colorscale": [
             [
              0,
              "#440154"
             ],
             [
              0.1111111111111111,
              "#482878"
             ],
             [
              0.2222222222222222,
              "#3e4989"
             ],
             [
              0.3333333333333333,
              "#31688e"
             ],
             [
              0.4444444444444444,
              "#26828e"
             ],
             [
              0.5555555555555556,
              "#1f9e89"
             ],
             [
              0.6666666666666666,
              "#35b779"
             ],
             [
              0.7777777777777778,
              "#6ece58"
             ],
             [
              0.8888888888888888,
              "#b5de2b"
             ],
             [
              1,
              "#fde725"
             ]
            ],
            "type": "heatmapgl"
           }
          ],
          "histogram": [
           {
            "marker": {
             "line": {
              "color": "white",
              "width": 0.6
             }
            },
            "type": "histogram"
           }
          ],
          "histogram2d": [
           {
            "colorbar": {
             "outlinewidth": 1,
             "tickcolor": "rgb(36,36,36)",
             "ticks": "outside"
            },
            "colorscale": [
             [
              0,
              "#440154"
             ],
             [
              0.1111111111111111,
              "#482878"
             ],
             [
              0.2222222222222222,
              "#3e4989"
             ],
             [
              0.3333333333333333,
              "#31688e"
             ],
             [
              0.4444444444444444,
              "#26828e"
             ],
             [
              0.5555555555555556,
              "#1f9e89"
             ],
             [
              0.6666666666666666,
              "#35b779"
             ],
             [
              0.7777777777777778,
              "#6ece58"
             ],
             [
              0.8888888888888888,
              "#b5de2b"
             ],
             [
              1,
              "#fde725"
             ]
            ],
            "type": "histogram2d"
           }
          ],
          "histogram2dcontour": [
           {
            "colorbar": {
             "outlinewidth": 1,
             "tickcolor": "rgb(36,36,36)",
             "ticks": "outside"
            },
            "colorscale": [
             [
              0,
              "#440154"
             ],
             [
              0.1111111111111111,
              "#482878"
             ],
             [
              0.2222222222222222,
              "#3e4989"
             ],
             [
              0.3333333333333333,
              "#31688e"
             ],
             [
              0.4444444444444444,
              "#26828e"
             ],
             [
              0.5555555555555556,
              "#1f9e89"
             ],
             [
              0.6666666666666666,
              "#35b779"
             ],
             [
              0.7777777777777778,
              "#6ece58"
             ],
             [
              0.8888888888888888,
              "#b5de2b"
             ],
             [
              1,
              "#fde725"
             ]
            ],
            "type": "histogram2dcontour"
           }
          ],
          "mesh3d": [
           {
            "colorbar": {
             "outlinewidth": 1,
             "tickcolor": "rgb(36,36,36)",
             "ticks": "outside"
            },
            "type": "mesh3d"
           }
          ],
          "parcoords": [
           {
            "line": {
             "colorbar": {
              "outlinewidth": 1,
              "tickcolor": "rgb(36,36,36)",
              "ticks": "outside"
             }
            },
            "type": "parcoords"
           }
          ],
          "pie": [
           {
            "automargin": true,
            "type": "pie"
           }
          ],
          "scatter": [
           {
            "marker": {
             "colorbar": {
              "outlinewidth": 1,
              "tickcolor": "rgb(36,36,36)",
              "ticks": "outside"
             }
            },
            "type": "scatter"
           }
          ],
          "scatter3d": [
           {
            "line": {
             "colorbar": {
              "outlinewidth": 1,
              "tickcolor": "rgb(36,36,36)",
              "ticks": "outside"
             }
            },
            "marker": {
             "colorbar": {
              "outlinewidth": 1,
              "tickcolor": "rgb(36,36,36)",
              "ticks": "outside"
             }
            },
            "type": "scatter3d"
           }
          ],
          "scattercarpet": [
           {
            "marker": {
             "colorbar": {
              "outlinewidth": 1,
              "tickcolor": "rgb(36,36,36)",
              "ticks": "outside"
             }
            },
            "type": "scattercarpet"
           }
          ],
          "scattergeo": [
           {
            "marker": {
             "colorbar": {
              "outlinewidth": 1,
              "tickcolor": "rgb(36,36,36)",
              "ticks": "outside"
             }
            },
            "type": "scattergeo"
           }
          ],
          "scattergl": [
           {
            "marker": {
             "colorbar": {
              "outlinewidth": 1,
              "tickcolor": "rgb(36,36,36)",
              "ticks": "outside"
             }
            },
            "type": "scattergl"
           }
          ],
          "scattermapbox": [
           {
            "marker": {
             "colorbar": {
              "outlinewidth": 1,
              "tickcolor": "rgb(36,36,36)",
              "ticks": "outside"
             }
            },
            "type": "scattermapbox"
           }
          ],
          "scatterpolar": [
           {
            "marker": {
             "colorbar": {
              "outlinewidth": 1,
              "tickcolor": "rgb(36,36,36)",
              "ticks": "outside"
             }
            },
            "type": "scatterpolar"
           }
          ],
          "scatterpolargl": [
           {
            "marker": {
             "colorbar": {
              "outlinewidth": 1,
              "tickcolor": "rgb(36,36,36)",
              "ticks": "outside"
             }
            },
            "type": "scatterpolargl"
           }
          ],
          "scatterternary": [
           {
            "marker": {
             "colorbar": {
              "outlinewidth": 1,
              "tickcolor": "rgb(36,36,36)",
              "ticks": "outside"
             }
            },
            "type": "scatterternary"
           }
          ],
          "surface": [
           {
            "colorbar": {
             "outlinewidth": 1,
             "tickcolor": "rgb(36,36,36)",
             "ticks": "outside"
            },
            "colorscale": [
             [
              0,
              "#440154"
             ],
             [
              0.1111111111111111,
              "#482878"
             ],
             [
              0.2222222222222222,
              "#3e4989"
             ],
             [
              0.3333333333333333,
              "#31688e"
             ],
             [
              0.4444444444444444,
              "#26828e"
             ],
             [
              0.5555555555555556,
              "#1f9e89"
             ],
             [
              0.6666666666666666,
              "#35b779"
             ],
             [
              0.7777777777777778,
              "#6ece58"
             ],
             [
              0.8888888888888888,
              "#b5de2b"
             ],
             [
              1,
              "#fde725"
             ]
            ],
            "type": "surface"
           }
          ],
          "table": [
           {
            "cells": {
             "fill": {
              "color": "rgb(237,237,237)"
             },
             "line": {
              "color": "white"
             }
            },
            "header": {
             "fill": {
              "color": "rgb(217,217,217)"
             },
             "line": {
              "color": "white"
             }
            },
            "type": "table"
           }
          ]
         },
         "layout": {
          "annotationdefaults": {
           "arrowhead": 0,
           "arrowwidth": 1
          },
          "autotypenumbers": "strict",
          "coloraxis": {
           "colorbar": {
            "outlinewidth": 1,
            "tickcolor": "rgb(36,36,36)",
            "ticks": "outside"
           }
          },
          "colorscale": {
           "diverging": [
            [
             0,
             "rgb(103,0,31)"
            ],
            [
             0.1,
             "rgb(178,24,43)"
            ],
            [
             0.2,
             "rgb(214,96,77)"
            ],
            [
             0.3,
             "rgb(244,165,130)"
            ],
            [
             0.4,
             "rgb(253,219,199)"
            ],
            [
             0.5,
             "rgb(247,247,247)"
            ],
            [
             0.6,
             "rgb(209,229,240)"
            ],
            [
             0.7,
             "rgb(146,197,222)"
            ],
            [
             0.8,
             "rgb(67,147,195)"
            ],
            [
             0.9,
             "rgb(33,102,172)"
            ],
            [
             1,
             "rgb(5,48,97)"
            ]
           ],
           "sequential": [
            [
             0,
             "#440154"
            ],
            [
             0.1111111111111111,
             "#482878"
            ],
            [
             0.2222222222222222,
             "#3e4989"
            ],
            [
             0.3333333333333333,
             "#31688e"
            ],
            [
             0.4444444444444444,
             "#26828e"
            ],
            [
             0.5555555555555556,
             "#1f9e89"
            ],
            [
             0.6666666666666666,
             "#35b779"
            ],
            [
             0.7777777777777778,
             "#6ece58"
            ],
            [
             0.8888888888888888,
             "#b5de2b"
            ],
            [
             1,
             "#fde725"
            ]
           ],
           "sequentialminus": [
            [
             0,
             "#440154"
            ],
            [
             0.1111111111111111,
             "#482878"
            ],
            [
             0.2222222222222222,
             "#3e4989"
            ],
            [
             0.3333333333333333,
             "#31688e"
            ],
            [
             0.4444444444444444,
             "#26828e"
            ],
            [
             0.5555555555555556,
             "#1f9e89"
            ],
            [
             0.6666666666666666,
             "#35b779"
            ],
            [
             0.7777777777777778,
             "#6ece58"
            ],
            [
             0.8888888888888888,
             "#b5de2b"
            ],
            [
             1,
             "#fde725"
            ]
           ]
          },
          "colorway": [
           "#1F77B4",
           "#FF7F0E",
           "#2CA02C",
           "#D62728",
           "#9467BD",
           "#8C564B",
           "#E377C2",
           "#7F7F7F",
           "#BCBD22",
           "#17BECF"
          ],
          "font": {
           "color": "rgb(36,36,36)"
          },
          "geo": {
           "bgcolor": "white",
           "lakecolor": "white",
           "landcolor": "white",
           "showlakes": true,
           "showland": true,
           "subunitcolor": "white"
          },
          "hoverlabel": {
           "align": "left"
          },
          "hovermode": "closest",
          "mapbox": {
           "style": "light"
          },
          "paper_bgcolor": "white",
          "plot_bgcolor": "white",
          "polar": {
           "angularaxis": {
            "gridcolor": "rgb(232,232,232)",
            "linecolor": "rgb(36,36,36)",
            "showgrid": false,
            "showline": true,
            "ticks": "outside"
           },
           "bgcolor": "white",
           "radialaxis": {
            "gridcolor": "rgb(232,232,232)",
            "linecolor": "rgb(36,36,36)",
            "showgrid": false,
            "showline": true,
            "ticks": "outside"
           }
          },
          "scene": {
           "xaxis": {
            "backgroundcolor": "white",
            "gridcolor": "rgb(232,232,232)",
            "gridwidth": 2,
            "linecolor": "rgb(36,36,36)",
            "showbackground": true,
            "showgrid": false,
            "showline": true,
            "ticks": "outside",
            "zeroline": false,
            "zerolinecolor": "rgb(36,36,36)"
           },
           "yaxis": {
            "backgroundcolor": "white",
            "gridcolor": "rgb(232,232,232)",
            "gridwidth": 2,
            "linecolor": "rgb(36,36,36)",
            "showbackground": true,
            "showgrid": false,
            "showline": true,
            "ticks": "outside",
            "zeroline": false,
            "zerolinecolor": "rgb(36,36,36)"
           },
           "zaxis": {
            "backgroundcolor": "white",
            "gridcolor": "rgb(232,232,232)",
            "gridwidth": 2,
            "linecolor": "rgb(36,36,36)",
            "showbackground": true,
            "showgrid": false,
            "showline": true,
            "ticks": "outside",
            "zeroline": false,
            "zerolinecolor": "rgb(36,36,36)"
           }
          },
          "shapedefaults": {
           "fillcolor": "black",
           "line": {
            "width": 0
           },
           "opacity": 0.3
          },
          "ternary": {
           "aaxis": {
            "gridcolor": "rgb(232,232,232)",
            "linecolor": "rgb(36,36,36)",
            "showgrid": false,
            "showline": true,
            "ticks": "outside"
           },
           "baxis": {
            "gridcolor": "rgb(232,232,232)",
            "linecolor": "rgb(36,36,36)",
            "showgrid": false,
            "showline": true,
            "ticks": "outside"
           },
           "bgcolor": "white",
           "caxis": {
            "gridcolor": "rgb(232,232,232)",
            "linecolor": "rgb(36,36,36)",
            "showgrid": false,
            "showline": true,
            "ticks": "outside"
           }
          },
          "title": {
           "x": 0.05
          },
          "xaxis": {
           "automargin": true,
           "gridcolor": "rgb(232,232,232)",
           "linecolor": "rgb(36,36,36)",
           "showgrid": false,
           "showline": true,
           "ticks": "outside",
           "title": {
            "standoff": 15
           },
           "zeroline": false,
           "zerolinecolor": "rgb(36,36,36)"
          },
          "yaxis": {
           "automargin": true,
           "gridcolor": "rgb(232,232,232)",
           "linecolor": "rgb(36,36,36)",
           "showgrid": false,
           "showline": true,
           "ticks": "outside",
           "title": {
            "standoff": 15
           },
           "zeroline": false,
           "zerolinecolor": "rgb(36,36,36)"
          }
         }
        },
        "xaxis": {
         "anchor": "y",
         "domain": [
          0,
          1
         ]
        },
        "yaxis": {
         "anchor": "x",
         "domain": [
          0,
          1
         ]
        }
       }
      },
      "text/html": [
       "<div>                            <div id=\"a69d9f1c-33d4-4f5c-85f6-fa9bbc266bc4\" class=\"plotly-graph-div\" style=\"height:525px; width:100%;\"></div>            <script type=\"text/javascript\">                require([\"plotly\"], function(Plotly) {                    window.PLOTLYENV=window.PLOTLYENV || {};                                    if (document.getElementById(\"a69d9f1c-33d4-4f5c-85f6-fa9bbc266bc4\")) {                    Plotly.newPlot(                        \"a69d9f1c-33d4-4f5c-85f6-fa9bbc266bc4\",                        [{\"marker\": {\"color\": \"LightSkyBlue\"}, \"name\": \"User Rating\", \"type\": \"box\", \"x\": [4.7, 4.6, 4.7, 4.7, 4.8, 4.4, 4.7, 4.7, 4.7, 4.6, 4.6, 4.6, 4.5, 4.6, 4.5, 4.6, 4.4, 4.5, 4.8, 4.6, 3.9, 4.6, 4.3, 4.6, 4.7, 4.2, 4.6, 4.6, 4.8, 4.7, 4.8, 4.8, 4.7, 4.7, 4.6, 4.5, 4.9, 4.8, 4.6, 4.8, 4.5, 4.7, 4.7, 4.7, 4.3, 4.8, 4.8, 4.6, 4.8, 4.4, 4.6, 4.3, 4.2, 4.8, 4.6, 4.6, 4.5, 4.8, 4.8, 4.8, 4.6, 4.6, 4.5, 4.6, 4.7, 4.8, 4.9, 4.9, 4.9, 4.9, 4.9, 4.9, 4.8, 4.6, 4.5, 4.5, 4.3, 4.5, 4.7, 4.7, 4.7, 4.7, 4.6, 4.7, 4.4, 4.4, 4.5, 3.8, 4.5, 4.2, 4.7, 4.4, 4.7, 4.4, 4.6, 4.5, 4.6, 4.8, 4.6, 4.6, 4.6, 3.6, 4.8, 4.6, 4.0, 4.6, 4.5, 4.8, 4.9, 4.6, 4.4, 4.8, 4.9, 4.8, 4.9, 4.0, 4.9, 4.9, 4.9, 4.7, 4.8, 4.8, 4.7, 4.4, 4.8, 4.7, 4.3, 4.8, 4.9, 4.7, 4.8, 4.6, 4.8, 4.3, 4.4, 4.1, 4.6, 4.4, 4.8, 4.9, 4.6, 4.5, 4.6, 4.5, 4.6, 4.7, 4.6, 4.6, 4.8, 4.8, 4.5, 4.9, 4.6, 4.5, 4.5, 4.4, 4.8, 4.5, 4.1, 4.9, 4.5, 4.5, 4.2, 4.8, 4.8, 4.5, 4.7, 4.8, 4.7, 4.4, 4.6, 4.5, 4.8, 4.8, 4.6, 4.7, 4.6, 4.9, 4.9, 4.8, 4.2, 4.6, 4.5, 4.3, 4.6, 4.6, 4.7, 4.8, 4.8, 4.7, 4.3, 4.5, 4.8, 4.6, 4.7, 4.6, 4.9, 4.9, 4.8, 4.6, 4.8, 4.7, 4.7, 4.8, 4.1, 4.7, 4.6, 4.6, 4.9, 4.0, 4.5, 4.6, 4.5, 4.4, 4.3, 4.3, 4.7, 4.8, 4.8, 4.7, 4.7, 4.6, 4.7, 4.7, 4.8, 4.2, 4.8, 4.7, 4.6, 4.8, 4.8, 3.3, 4.7, 4.3, 4.3, 4.8, 4.4, 4.8, 4.1, 4.0, 4.7, 4.6, 4.6, 4.7, 4.8, 4.1, 4.7, 4.7, 4.7, 4.4, 4.8, 3.9, 4.4, 4.5, 4.7, 4.3, 4.6, 4.8, 4.8, 4.8, 4.7, 4.7, 4.8, 4.7, 4.3, 4.7, 4.8, 4.9, 4.4, 4.5, 4.4, 4.8, 4.2, 4.8, 4.9, 4.8, 4.7, 4.5, 4.8, 4.6, 4.8, 4.4, 4.3, 4.3, 4.8, 4.8, 4.8, 4.5, 4.4, 4.8, 4.6, 4.3, 4.3, 4.6, 4.6, 4.8, 4.6, 4.6, 4.5, 4.8, 4.6, 4.7, 4.7, 4.7, 4.4, 4.4, 4.7, 4.7, 4.8, 4.7, 4.9, 4.6, 4.9, 4.8, 4.7, 4.7, 4.6, 4.5, 4.5, 4.3, 4.6, 4.3, 4.8, 4.6, 4.8, 4.5, 4.7, 4.5, 4.8, 4.3, 4.9, 4.8, 4.7, 4.8, 4.5, 4.6, 4.7, 4.7, 4.8, 4.4, 4.4, 4.8, 4.8, 4.8, 4.6, 4.4, 4.5, 4.2, 4.8, 4.9, 4.7]}],                        {\"font\": {\"color\": \"black\", \"family\": \"Arial\", \"size\": 12}, \"showlegend\": false, \"template\": {\"data\": {\"bar\": [{\"error_x\": {\"color\": \"rgb(36,36,36)\"}, \"error_y\": {\"color\": \"rgb(36,36,36)\"}, \"marker\": {\"line\": {\"color\": \"white\", \"width\": 0.5}}, \"type\": \"bar\"}], \"barpolar\": [{\"marker\": {\"line\": {\"color\": \"white\", \"width\": 0.5}}, \"type\": \"barpolar\"}], \"carpet\": [{\"aaxis\": {\"endlinecolor\": \"rgb(36,36,36)\", \"gridcolor\": \"white\", \"linecolor\": \"white\", \"minorgridcolor\": \"white\", \"startlinecolor\": \"rgb(36,36,36)\"}, \"baxis\": {\"endlinecolor\": \"rgb(36,36,36)\", \"gridcolor\": \"white\", \"linecolor\": \"white\", \"minorgridcolor\": \"white\", \"startlinecolor\": \"rgb(36,36,36)\"}, \"type\": \"carpet\"}], \"choropleth\": [{\"colorbar\": {\"outlinewidth\": 1, \"tickcolor\": \"rgb(36,36,36)\", \"ticks\": \"outside\"}, \"type\": \"choropleth\"}], \"contour\": [{\"colorbar\": {\"outlinewidth\": 1, \"tickcolor\": \"rgb(36,36,36)\", \"ticks\": \"outside\"}, \"colorscale\": [[0.0, \"#440154\"], [0.1111111111111111, \"#482878\"], [0.2222222222222222, \"#3e4989\"], [0.3333333333333333, \"#31688e\"], [0.4444444444444444, \"#26828e\"], [0.5555555555555556, \"#1f9e89\"], [0.6666666666666666, \"#35b779\"], [0.7777777777777778, \"#6ece58\"], [0.8888888888888888, \"#b5de2b\"], [1.0, \"#fde725\"]], \"type\": \"contour\"}], \"contourcarpet\": [{\"colorbar\": {\"outlinewidth\": 1, \"tickcolor\": \"rgb(36,36,36)\", \"ticks\": \"outside\"}, \"type\": \"contourcarpet\"}], \"heatmap\": [{\"colorbar\": {\"outlinewidth\": 1, \"tickcolor\": \"rgb(36,36,36)\", \"ticks\": \"outside\"}, \"colorscale\": [[0.0, \"#440154\"], [0.1111111111111111, \"#482878\"], [0.2222222222222222, \"#3e4989\"], [0.3333333333333333, \"#31688e\"], [0.4444444444444444, \"#26828e\"], [0.5555555555555556, \"#1f9e89\"], [0.6666666666666666, \"#35b779\"], [0.7777777777777778, \"#6ece58\"], [0.8888888888888888, \"#b5de2b\"], [1.0, \"#fde725\"]], \"type\": \"heatmap\"}], \"heatmapgl\": [{\"colorbar\": {\"outlinewidth\": 1, \"tickcolor\": \"rgb(36,36,36)\", \"ticks\": \"outside\"}, \"colorscale\": [[0.0, \"#440154\"], [0.1111111111111111, \"#482878\"], [0.2222222222222222, \"#3e4989\"], [0.3333333333333333, \"#31688e\"], [0.4444444444444444, \"#26828e\"], [0.5555555555555556, \"#1f9e89\"], [0.6666666666666666, \"#35b779\"], [0.7777777777777778, \"#6ece58\"], [0.8888888888888888, \"#b5de2b\"], [1.0, \"#fde725\"]], \"type\": \"heatmapgl\"}], \"histogram\": [{\"marker\": {\"line\": {\"color\": \"white\", \"width\": 0.6}}, \"type\": \"histogram\"}], \"histogram2d\": [{\"colorbar\": {\"outlinewidth\": 1, \"tickcolor\": \"rgb(36,36,36)\", \"ticks\": \"outside\"}, \"colorscale\": [[0.0, \"#440154\"], [0.1111111111111111, \"#482878\"], [0.2222222222222222, \"#3e4989\"], [0.3333333333333333, \"#31688e\"], [0.4444444444444444, \"#26828e\"], [0.5555555555555556, \"#1f9e89\"], [0.6666666666666666, \"#35b779\"], [0.7777777777777778, \"#6ece58\"], [0.8888888888888888, \"#b5de2b\"], [1.0, \"#fde725\"]], \"type\": \"histogram2d\"}], \"histogram2dcontour\": [{\"colorbar\": {\"outlinewidth\": 1, \"tickcolor\": \"rgb(36,36,36)\", \"ticks\": \"outside\"}, \"colorscale\": [[0.0, \"#440154\"], [0.1111111111111111, \"#482878\"], [0.2222222222222222, \"#3e4989\"], [0.3333333333333333, \"#31688e\"], [0.4444444444444444, \"#26828e\"], [0.5555555555555556, \"#1f9e89\"], [0.6666666666666666, \"#35b779\"], [0.7777777777777778, \"#6ece58\"], [0.8888888888888888, \"#b5de2b\"], [1.0, \"#fde725\"]], \"type\": \"histogram2dcontour\"}], \"mesh3d\": [{\"colorbar\": {\"outlinewidth\": 1, \"tickcolor\": \"rgb(36,36,36)\", \"ticks\": \"outside\"}, \"type\": \"mesh3d\"}], \"parcoords\": [{\"line\": {\"colorbar\": {\"outlinewidth\": 1, \"tickcolor\": \"rgb(36,36,36)\", \"ticks\": \"outside\"}}, \"type\": \"parcoords\"}], \"pie\": [{\"automargin\": true, \"type\": \"pie\"}], \"scatter\": [{\"marker\": {\"colorbar\": {\"outlinewidth\": 1, \"tickcolor\": \"rgb(36,36,36)\", \"ticks\": \"outside\"}}, \"type\": \"scatter\"}], \"scatter3d\": [{\"line\": {\"colorbar\": {\"outlinewidth\": 1, \"tickcolor\": \"rgb(36,36,36)\", \"ticks\": \"outside\"}}, \"marker\": {\"colorbar\": {\"outlinewidth\": 1, \"tickcolor\": \"rgb(36,36,36)\", \"ticks\": \"outside\"}}, \"type\": \"scatter3d\"}], \"scattercarpet\": [{\"marker\": {\"colorbar\": {\"outlinewidth\": 1, \"tickcolor\": \"rgb(36,36,36)\", \"ticks\": \"outside\"}}, \"type\": \"scattercarpet\"}], \"scattergeo\": [{\"marker\": {\"colorbar\": {\"outlinewidth\": 1, \"tickcolor\": \"rgb(36,36,36)\", \"ticks\": \"outside\"}}, \"type\": \"scattergeo\"}], \"scattergl\": [{\"marker\": {\"colorbar\": {\"outlinewidth\": 1, \"tickcolor\": \"rgb(36,36,36)\", \"ticks\": \"outside\"}}, \"type\": \"scattergl\"}], \"scattermapbox\": [{\"marker\": {\"colorbar\": {\"outlinewidth\": 1, \"tickcolor\": \"rgb(36,36,36)\", \"ticks\": \"outside\"}}, \"type\": \"scattermapbox\"}], \"scatterpolar\": [{\"marker\": {\"colorbar\": {\"outlinewidth\": 1, \"tickcolor\": \"rgb(36,36,36)\", \"ticks\": \"outside\"}}, \"type\": \"scatterpolar\"}], \"scatterpolargl\": [{\"marker\": {\"colorbar\": {\"outlinewidth\": 1, \"tickcolor\": \"rgb(36,36,36)\", \"ticks\": \"outside\"}}, \"type\": \"scatterpolargl\"}], \"scatterternary\": [{\"marker\": {\"colorbar\": {\"outlinewidth\": 1, \"tickcolor\": \"rgb(36,36,36)\", \"ticks\": \"outside\"}}, \"type\": \"scatterternary\"}], \"surface\": [{\"colorbar\": {\"outlinewidth\": 1, \"tickcolor\": \"rgb(36,36,36)\", \"ticks\": \"outside\"}, \"colorscale\": [[0.0, \"#440154\"], [0.1111111111111111, \"#482878\"], [0.2222222222222222, \"#3e4989\"], [0.3333333333333333, \"#31688e\"], [0.4444444444444444, \"#26828e\"], [0.5555555555555556, \"#1f9e89\"], [0.6666666666666666, \"#35b779\"], [0.7777777777777778, \"#6ece58\"], [0.8888888888888888, \"#b5de2b\"], [1.0, \"#fde725\"]], \"type\": \"surface\"}], \"table\": [{\"cells\": {\"fill\": {\"color\": \"rgb(237,237,237)\"}, \"line\": {\"color\": \"white\"}}, \"header\": {\"fill\": {\"color\": \"rgb(217,217,217)\"}, \"line\": {\"color\": \"white\"}}, \"type\": \"table\"}]}, \"layout\": {\"annotationdefaults\": {\"arrowhead\": 0, \"arrowwidth\": 1}, \"autotypenumbers\": \"strict\", \"coloraxis\": {\"colorbar\": {\"outlinewidth\": 1, \"tickcolor\": \"rgb(36,36,36)\", \"ticks\": \"outside\"}}, \"colorscale\": {\"diverging\": [[0.0, \"rgb(103,0,31)\"], [0.1, \"rgb(178,24,43)\"], [0.2, \"rgb(214,96,77)\"], [0.3, \"rgb(244,165,130)\"], [0.4, \"rgb(253,219,199)\"], [0.5, \"rgb(247,247,247)\"], [0.6, \"rgb(209,229,240)\"], [0.7, \"rgb(146,197,222)\"], [0.8, \"rgb(67,147,195)\"], [0.9, \"rgb(33,102,172)\"], [1.0, \"rgb(5,48,97)\"]], \"sequential\": [[0.0, \"#440154\"], [0.1111111111111111, \"#482878\"], [0.2222222222222222, \"#3e4989\"], [0.3333333333333333, \"#31688e\"], [0.4444444444444444, \"#26828e\"], [0.5555555555555556, \"#1f9e89\"], [0.6666666666666666, \"#35b779\"], [0.7777777777777778, \"#6ece58\"], [0.8888888888888888, \"#b5de2b\"], [1.0, \"#fde725\"]], \"sequentialminus\": [[0.0, \"#440154\"], [0.1111111111111111, \"#482878\"], [0.2222222222222222, \"#3e4989\"], [0.3333333333333333, \"#31688e\"], [0.4444444444444444, \"#26828e\"], [0.5555555555555556, \"#1f9e89\"], [0.6666666666666666, \"#35b779\"], [0.7777777777777778, \"#6ece58\"], [0.8888888888888888, \"#b5de2b\"], [1.0, \"#fde725\"]]}, \"colorway\": [\"#1F77B4\", \"#FF7F0E\", \"#2CA02C\", \"#D62728\", \"#9467BD\", \"#8C564B\", \"#E377C2\", \"#7F7F7F\", \"#BCBD22\", \"#17BECF\"], \"font\": {\"color\": \"rgb(36,36,36)\"}, \"geo\": {\"bgcolor\": \"white\", \"lakecolor\": \"white\", \"landcolor\": \"white\", \"showlakes\": true, \"showland\": true, \"subunitcolor\": \"white\"}, \"hoverlabel\": {\"align\": \"left\"}, \"hovermode\": \"closest\", \"mapbox\": {\"style\": \"light\"}, \"paper_bgcolor\": \"white\", \"plot_bgcolor\": \"white\", \"polar\": {\"angularaxis\": {\"gridcolor\": \"rgb(232,232,232)\", \"linecolor\": \"rgb(36,36,36)\", \"showgrid\": false, \"showline\": true, \"ticks\": \"outside\"}, \"bgcolor\": \"white\", \"radialaxis\": {\"gridcolor\": \"rgb(232,232,232)\", \"linecolor\": \"rgb(36,36,36)\", \"showgrid\": false, \"showline\": true, \"ticks\": \"outside\"}}, \"scene\": {\"xaxis\": {\"backgroundcolor\": \"white\", \"gridcolor\": \"rgb(232,232,232)\", \"gridwidth\": 2, \"linecolor\": \"rgb(36,36,36)\", \"showbackground\": true, \"showgrid\": false, \"showline\": true, \"ticks\": \"outside\", \"zeroline\": false, \"zerolinecolor\": \"rgb(36,36,36)\"}, \"yaxis\": {\"backgroundcolor\": \"white\", \"gridcolor\": \"rgb(232,232,232)\", \"gridwidth\": 2, \"linecolor\": \"rgb(36,36,36)\", \"showbackground\": true, \"showgrid\": false, \"showline\": true, \"ticks\": \"outside\", \"zeroline\": false, \"zerolinecolor\": \"rgb(36,36,36)\"}, \"zaxis\": {\"backgroundcolor\": \"white\", \"gridcolor\": \"rgb(232,232,232)\", \"gridwidth\": 2, \"linecolor\": \"rgb(36,36,36)\", \"showbackground\": true, \"showgrid\": false, \"showline\": true, \"ticks\": \"outside\", \"zeroline\": false, \"zerolinecolor\": \"rgb(36,36,36)\"}}, \"shapedefaults\": {\"fillcolor\": \"black\", \"line\": {\"width\": 0}, \"opacity\": 0.3}, \"ternary\": {\"aaxis\": {\"gridcolor\": \"rgb(232,232,232)\", \"linecolor\": \"rgb(36,36,36)\", \"showgrid\": false, \"showline\": true, \"ticks\": \"outside\"}, \"baxis\": {\"gridcolor\": \"rgb(232,232,232)\", \"linecolor\": \"rgb(36,36,36)\", \"showgrid\": false, \"showline\": true, \"ticks\": \"outside\"}, \"bgcolor\": \"white\", \"caxis\": {\"gridcolor\": \"rgb(232,232,232)\", \"linecolor\": \"rgb(36,36,36)\", \"showgrid\": false, \"showline\": true, \"ticks\": \"outside\"}}, \"title\": {\"x\": 0.05}, \"xaxis\": {\"automargin\": true, \"gridcolor\": \"rgb(232,232,232)\", \"linecolor\": \"rgb(36,36,36)\", \"showgrid\": false, \"showline\": true, \"ticks\": \"outside\", \"title\": {\"standoff\": 15}, \"zeroline\": false, \"zerolinecolor\": \"rgb(36,36,36)\"}, \"yaxis\": {\"automargin\": true, \"gridcolor\": \"rgb(232,232,232)\", \"linecolor\": \"rgb(36,36,36)\", \"showgrid\": false, \"showline\": true, \"ticks\": \"outside\", \"title\": {\"standoff\": 15}, \"zeroline\": false, \"zerolinecolor\": \"rgb(36,36,36)\"}}}, \"xaxis\": {\"anchor\": \"y\", \"domain\": [0.0, 1.0]}, \"yaxis\": {\"anchor\": \"x\", \"domain\": [0.0, 1.0]}},                        {\"responsive\": true}                    ).then(function(){\n",
       "                            \n",
       "var gd = document.getElementById('a69d9f1c-33d4-4f5c-85f6-fa9bbc266bc4');\n",
       "var x = new MutationObserver(function (mutations, observer) {{\n",
       "        var display = window.getComputedStyle(gd).display;\n",
       "        if (!display || display === 'none') {{\n",
       "            console.log([gd, 'removed!']);\n",
       "            Plotly.purge(gd);\n",
       "            observer.disconnect();\n",
       "        }}\n",
       "}});\n",
       "\n",
       "// Listen for the removal of the full notebook cells\n",
       "var notebookContainer = gd.closest('#notebook-container');\n",
       "if (notebookContainer) {{\n",
       "    x.observe(notebookContainer, {childList: true});\n",
       "}}\n",
       "\n",
       "// Listen for the clearing of the current output cell\n",
       "var outputEl = gd.closest('.output');\n",
       "if (outputEl) {{\n",
       "    x.observe(outputEl, {childList: true});\n",
       "}}\n",
       "\n",
       "                        })                };                });            </script>        </div>"
      ]
     },
     "metadata": {},
     "output_type": "display_data"
    }
   ],
   "source": [
    "fig_4 = make_subplots(rows=1, cols=1, specs=[[{'type': 'xy'}]])\n",
    "\n",
    "# Setting Box parameters\n",
    "fig_4.add_trace(go.Box(x=bestsellers['User Rating'], \n",
    "                       name='User Rating'))\n",
    "\n",
    "# Setting the parameters of the Box when displaying\n",
    "fig_4.update_traces(marker_color='LightSkyBlue')\n",
    "\n",
    "# Setting the parameters of the Box when displaying\n",
    "fig_4.update_layout(showlegend=False, \n",
    "                    template='simple_white', \n",
    "                    font=dict(family='Arial', \n",
    "                              size=12, \n",
    "                              color='black'))\n",
    "fig_4.show()"
   ]
  },
  {
   "cell_type": "markdown",
   "metadata": {},
   "source": [
    "Using formuler to do the hypotheses test\n",
    "\n",
    "H0 - No differences between genre racketeering\n",
    "<br>H1 - Does have differences between genre racketeering"
   ]
  },
  {
   "cell_type": "code",
   "execution_count": 174,
   "metadata": {},
   "outputs": [
    {
     "name": "stdout",
     "output_type": "stream",
     "text": [
      "Statistic: 0.877\n",
      "P-Value: 0.00000000000000040170\n",
      "Reject H0 - Data is not distributed normally.\n"
     ]
    }
   ],
   "source": [
    "# Set the alpha level\n",
    "alpha=0.05\n",
    "\n",
    "# We pass groups to the criterion for testing\n",
    "stat, pval = shapiro(bestsellers['User Rating'])\n",
    "\n",
    "print('Statistic:', f'{stat:.3f}')\n",
    "print('P-Value:', f'{pval:.20f}')\n",
    "    \n",
    "# Checking the condition for accepting or rejecting H0\n",
    "if pval > alpha:\n",
    "    print('Accept H0 - Data is distributed normally.')\n",
    "if pval < alpha:\n",
    "    print('Reject H0 - Data is not distributed normally.')"
   ]
  },
  {
   "cell_type": "code",
   "execution_count": 175,
   "metadata": {},
   "outputs": [],
   "source": [
    "# Trying two samples for testing\n",
    "# Create group\n",
    "\n",
    "non_fiction = df[df['Genre'] == 'Non Fiction']['User Rating']\n",
    "fiction = df[df['Genre'] == 'Fiction']['User Rating']"
   ]
  },
  {
   "cell_type": "code",
   "execution_count": 176,
   "metadata": {},
   "outputs": [
    {
     "name": "stdout",
     "output_type": "stream",
     "text": [
      "Statistic: 27490.500\n",
      "P-Value: 0.00000004857354068641\n",
      "Reject H0 - There are significant differences between the groups.\n"
     ]
    }
   ],
   "source": [
    "#Since the data in the samples are not normally distributed\n",
    "#Trying nonparametric Mann-Whitney test\n",
    "#Reference URL: https://machinelearningmastery.com/nonparametric-statistical-significance-tests-in-python/\n",
    "#https://towardsdatascience.com/determine-if-two-distributions-are-significantly-different-using-the-mann-whitney-u-test-1f79aa249ffb\n",
    "\n",
    "# Set the alpha level\n",
    "alpha=0.05\n",
    "\n",
    "# We pass groups to the criterion for testing\n",
    "stat, pval = mannwhitneyu(non_fiction, fiction)\n",
    "\n",
    "print('Statistic:', f'{stat:.3f}')\n",
    "print('P-Value:', f'{pval:.20f}')\n",
    " \n",
    "# Checking the condition for accepting or rejecting H0\n",
    "if pval > alpha:\n",
    "    print('Accept H0 - There is no significant difference between the groups.')\n",
    "if pval < alpha:\n",
    "    print('Reject H0 - There are significant differences between the groups.')\n"
   ]
  },
  {
   "cell_type": "code",
   "execution_count": 177,
   "metadata": {},
   "outputs": [
    {
     "name": "stdout",
     "output_type": "stream",
     "text": [
      "Non_fiction median: 4.6, Fiction median: 4.7\n"
     ]
    }
   ],
   "source": [
    "#compare the median values in the groups.\n",
    "print(f'Non_fiction median: {non_fiction.median()}, Fiction median: {fiction.median()}')"
   ]
  },
  {
   "cell_type": "code",
   "execution_count": 178,
   "metadata": {},
   "outputs": [
    {
     "data": {
      "application/vnd.plotly.v1+json": {
       "config": {
        "plotlyServerURL": "https://plot.ly"
       },
       "data": [
        {
         "autobinx": false,
         "histnorm": "probability density",
         "legendgroup": "Non_fiction",
         "marker": {
          "color": "LightSkyBlue"
         },
         "name": "Non_fiction",
         "opacity": 0.7,
         "type": "histogram",
         "x": [
          4.7,
          4.7,
          4.8,
          4.7,
          4.6,
          4.6,
          4.6,
          4.5,
          4.6,
          4.4,
          4.5,
          4.8,
          4.6,
          4.6,
          4.7,
          4.2,
          4.6,
          4.6,
          4.8,
          4.7,
          4.8,
          4.8,
          4.8,
          4.7,
          4.7,
          4.7,
          4.5,
          4.6,
          4.8,
          4.5,
          4.7,
          4.7,
          4.7,
          4.7,
          4.8,
          4.8,
          4.8,
          4.4,
          4.6,
          4.6,
          4.5,
          4.5,
          4.6,
          4.6,
          4.6,
          4.5,
          4.5,
          4.3,
          4.5,
          4.5,
          4.7,
          4.7,
          4.7,
          4.4,
          4.2,
          4.7,
          4.7,
          4.7,
          4.7,
          4.7,
          4.4,
          4.4,
          4.5,
          4.6,
          4.6,
          4.6,
          4.6,
          4.6,
          4.6,
          4.6,
          4.5,
          4.5,
          4.5,
          4.5,
          4.6,
          4.8,
          4.9,
          4.8,
          4.7,
          4.8,
          4.7,
          4.7,
          4.4,
          4.4,
          4.8,
          4.7,
          4.7,
          4.7,
          4.7,
          4.7,
          4.3,
          4.8,
          4.8,
          4.9,
          4.7,
          4.8,
          4.4,
          4.4,
          4.4,
          4.8,
          4.9,
          4.9,
          4.9,
          4.9,
          4.9,
          4.9,
          4.6,
          4.5,
          4.6,
          4.7,
          4.7,
          4.6,
          4.6,
          4.8,
          4.8,
          4.5,
          4.5,
          4.5,
          4.6,
          4.6,
          4.6,
          4.6,
          4.6,
          4.5,
          4.5,
          4.4,
          4.8,
          4.5,
          4.2,
          4.8,
          4.5,
          4.7,
          4.8,
          4.7,
          4.7,
          4.7,
          4.4,
          4.6,
          4.6,
          4.6,
          4.8,
          4.8,
          4.7,
          4.6,
          4.9,
          4.6,
          4.6,
          4.5,
          4.6,
          4.6,
          4.7,
          4.7,
          4.3,
          4.3,
          4.5,
          4.5,
          4.5,
          4.5,
          4.5,
          4.5,
          4.5,
          4.5,
          4.5,
          4.5,
          4.6,
          4.6,
          4.7,
          4.7,
          4.8,
          4.8,
          4.8,
          4.8,
          4.7,
          4.7,
          4.8,
          4.1,
          4.6,
          4.6,
          4.6,
          4,
          4,
          4,
          4,
          4,
          4,
          4,
          4,
          4,
          4.5,
          4.6,
          4.4,
          4.4,
          4.3,
          4.3,
          4.7,
          4.7,
          4.7,
          4.7,
          4.7,
          4.8,
          4.8,
          4.8,
          4.8,
          4.8,
          4.8,
          4.6,
          4.6,
          4.6,
          4.6,
          4.7,
          4.7,
          4.7,
          4.6,
          4.7,
          4.2,
          4.8,
          4.7,
          4.8,
          4.8,
          4.7,
          4.3,
          4.3,
          4.8,
          4.4,
          4.1,
          4.6,
          4.6,
          4.6,
          4.6,
          4.6,
          4.6,
          4.7,
          4.7,
          4.7,
          4.7,
          4.7,
          4.7,
          4.7,
          4.7,
          4.7,
          4.3,
          4.3,
          4.7,
          4.4,
          4.4,
          4.5,
          4.5,
          4.5,
          4.5,
          4.8,
          4.9,
          4.6,
          4.4,
          4.4,
          4.4,
          4.4,
          4.4,
          4.3,
          4.8,
          4.8,
          4.8,
          4.5,
          4.4,
          4.6,
          4.6,
          4.6,
          4.6,
          4.6,
          4.7,
          4.4,
          4.7,
          4.7,
          4.6,
          4.6,
          4.6,
          4.7,
          4.7,
          4.6,
          4.6,
          4.5,
          4.3,
          4.3,
          4.6,
          4.6,
          4.6,
          4.6,
          4.3,
          4.6,
          4.5,
          4.8,
          4.8,
          4.8,
          4.8,
          4.8,
          4.9,
          4.8,
          4.7,
          4.6,
          4.7,
          4.4,
          4.4,
          4.4,
          4.8,
          4.6,
          4.4,
          4.2,
          4.7,
          4.7,
          4.7,
          4.7
         ],
         "xaxis": "x",
         "xbins": {
          "end": 4.9,
          "size": 0.1,
          "start": 4
         },
         "yaxis": "y"
        },
        {
         "autobinx": false,
         "histnorm": "probability density",
         "legendgroup": "Fiction",
         "marker": {
          "color": "gray"
         },
         "name": "Fiction",
         "opacity": 0.7,
         "type": "histogram",
         "x": [
          4.6,
          4.7,
          4.4,
          4.7,
          4.7,
          4.6,
          4.6,
          4.5,
          4.6,
          4.6,
          3.9,
          4.3,
          4.6,
          4.9,
          4.9,
          4.8,
          4.7,
          4.7,
          4.7,
          4.3,
          4.6,
          4.6,
          4.6,
          4.3,
          4.2,
          4.8,
          4.8,
          4.8,
          4.8,
          4.8,
          4.8,
          4.8,
          4.6,
          4.6,
          4.5,
          4.7,
          4.8,
          4.9,
          4.9,
          4.9,
          4.9,
          4.9,
          4.9,
          4.9,
          4.8,
          4.7,
          4.7,
          4.6,
          4.6,
          4.7,
          4.4,
          4.5,
          3.8,
          3.8,
          4.5,
          4.7,
          4.6,
          4.6,
          4.6,
          4.8,
          4.8,
          4.8,
          4.8,
          4.8,
          3.6,
          4.8,
          4,
          4,
          4,
          4.8,
          4.8,
          4.8,
          4.9,
          4.9,
          4.4,
          4.9,
          4,
          4.9,
          4.9,
          4.9,
          4.8,
          4.6,
          4.8,
          4.8,
          4.3,
          4.1,
          4.6,
          4.6,
          4.5,
          4.9,
          4.1,
          4.9,
          4.5,
          4.5,
          4.8,
          4.8,
          4.5,
          4.5,
          4.5,
          4.6,
          4.9,
          4.9,
          4.9,
          4.9,
          4.9,
          4.9,
          4.9,
          4.9,
          4.8,
          4.2,
          4.3,
          4.6,
          4.8,
          4.8,
          4.8,
          4.8,
          4.7,
          4.8,
          4.6,
          4.6,
          4.9,
          4.9,
          4.6,
          4.7,
          4.9,
          4.5,
          4.7,
          4.7,
          4.7,
          4.8,
          4.6,
          4.6,
          4.8,
          4.8,
          3.3,
          4.3,
          4.8,
          4.8,
          4.8,
          4,
          4.7,
          4.7,
          4.7,
          4.7,
          4.8,
          4.1,
          4.1,
          4.7,
          4.7,
          4.7,
          4.7,
          4.4,
          4.4,
          4.8,
          4.8,
          3.9,
          3.9,
          4.4,
          4.4,
          4.4,
          4.5,
          4.7,
          4.3,
          4.6,
          4.8,
          4.8,
          4.8,
          4.8,
          4.8,
          4.8,
          4.7,
          4.7,
          4.7,
          4.8,
          4.8,
          4.8,
          4.8,
          4.9,
          4.4,
          4.8,
          4.2,
          4.8,
          4.7,
          4.5,
          4.8,
          4.8,
          4.8,
          4.3,
          4.8,
          4.8,
          4.3,
          4.3,
          4.6,
          4.8,
          4.6,
          4.6,
          4.6,
          4.5,
          4.8,
          4.7,
          4.7,
          4.4,
          4.7,
          4.8,
          4.9,
          4.9,
          4.9,
          4.9,
          4.9,
          4.9,
          4.9,
          4.9,
          4.9,
          4.9,
          4.9,
          4.8,
          4.8,
          4.5,
          4.8,
          4.8,
          4.8,
          4.8,
          4.8,
          4.8,
          4.7,
          4.5,
          4.3,
          4.8,
          4.5,
          4.7,
          4.8,
          4.8,
          4.8,
          4.5,
          4.8,
          4.8,
          4.8,
          4.8,
          4.8,
          4.9
         ],
         "xaxis": "x",
         "xbins": {
          "end": 4.9,
          "size": 0.1,
          "start": 3.3
         },
         "yaxis": "y"
        },
        {
         "legendgroup": "Non_fiction",
         "marker": {
          "color": "LightSkyBlue"
         },
         "mode": "lines",
         "name": "Non_fiction",
         "showlegend": false,
         "type": "scatter",
         "x": [
          4,
          4.0018,
          4.0036,
          4.0054,
          4.0072,
          4.009,
          4.0108,
          4.0126,
          4.0144,
          4.0162,
          4.018,
          4.0198,
          4.0216,
          4.0234,
          4.0252,
          4.027,
          4.0288,
          4.0306,
          4.0324,
          4.0342,
          4.036,
          4.0378,
          4.0396,
          4.0414,
          4.0432,
          4.045,
          4.0468,
          4.0486,
          4.0504,
          4.0522,
          4.054,
          4.0558,
          4.0576,
          4.0594,
          4.0612,
          4.063,
          4.0648,
          4.0666,
          4.0684000000000005,
          4.0702,
          4.072,
          4.0738,
          4.0756,
          4.0774,
          4.0792,
          4.081,
          4.0828,
          4.0846,
          4.0864,
          4.0882,
          4.09,
          4.0918,
          4.0936,
          4.0954,
          4.0972,
          4.099,
          4.1008000000000004,
          4.1026,
          4.1044,
          4.1062,
          4.108,
          4.1098,
          4.1116,
          4.1134,
          4.1152,
          4.117,
          4.1188,
          4.1206000000000005,
          4.1224,
          4.1242,
          4.126,
          4.1278,
          4.1296,
          4.1314,
          4.1332,
          4.135,
          4.1368,
          4.1386,
          4.1404,
          4.1422,
          4.144,
          4.1458,
          4.1476,
          4.1494,
          4.1512,
          4.1530000000000005,
          4.1548,
          4.1566,
          4.1584,
          4.1602,
          4.162,
          4.1638,
          4.1656,
          4.1674,
          4.1692,
          4.171,
          4.1728000000000005,
          4.1746,
          4.1764,
          4.1782,
          4.18,
          4.1818,
          4.1836,
          4.1854000000000005,
          4.1872,
          4.189,
          4.1908,
          4.1926,
          4.1944,
          4.1962,
          4.198,
          4.1998,
          4.2016,
          4.2034,
          4.2052000000000005,
          4.207,
          4.2088,
          4.2106,
          4.2124,
          4.2142,
          4.216,
          4.2178,
          4.2196,
          4.2214,
          4.2232,
          4.225,
          4.2268,
          4.2286,
          4.2304,
          4.2322,
          4.234,
          4.2358,
          4.2376000000000005,
          4.2394,
          4.2412,
          4.243,
          4.2448,
          4.2466,
          4.2484,
          4.2502,
          4.252,
          4.2538,
          4.2556,
          4.2574000000000005,
          4.2592,
          4.261,
          4.2628,
          4.2646,
          4.2664,
          4.2682,
          4.2700000000000005,
          4.2718,
          4.2736,
          4.2754,
          4.277200000000001,
          4.279,
          4.2808,
          4.2826,
          4.2844,
          4.2862,
          4.288,
          4.2898000000000005,
          4.2916,
          4.2934,
          4.2952,
          4.297,
          4.2988,
          4.3006,
          4.3024000000000004,
          4.3042,
          4.306,
          4.3078,
          4.3096000000000005,
          4.3114,
          4.3132,
          4.315,
          4.3168,
          4.3186,
          4.3204,
          4.3222000000000005,
          4.324,
          4.3258,
          4.3276,
          4.3294,
          4.3312,
          4.333,
          4.3348,
          4.3366,
          4.3384,
          4.3402,
          4.3420000000000005,
          4.3438,
          4.3456,
          4.3474,
          4.3492,
          4.351,
          4.3528,
          4.3546000000000005,
          4.3564,
          4.3582,
          4.36,
          4.361800000000001,
          4.3636,
          4.3654,
          4.3672,
          4.369,
          4.3708,
          4.3726,
          4.3744000000000005,
          4.3762,
          4.378,
          4.3798,
          4.381600000000001,
          4.3834,
          4.3852,
          4.3870000000000005,
          4.3888,
          4.3906,
          4.3924,
          4.3942000000000005,
          4.396,
          4.3978,
          4.3996,
          4.4014,
          4.4032,
          4.405,
          4.4068000000000005,
          4.4086,
          4.4104,
          4.4122,
          4.414,
          4.4158,
          4.4176,
          4.4194,
          4.4212,
          4.423,
          4.4248,
          4.4266000000000005,
          4.4284,
          4.4302,
          4.432,
          4.4338,
          4.4356,
          4.4374,
          4.4392000000000005,
          4.441,
          4.4428,
          4.4446,
          4.446400000000001,
          4.4482,
          4.45,
          4.4518,
          4.4536,
          4.4554,
          4.4572,
          4.4590000000000005,
          4.4608,
          4.4626,
          4.4644,
          4.466200000000001,
          4.468,
          4.4698,
          4.4716000000000005,
          4.4734,
          4.4752,
          4.477,
          4.478800000000001,
          4.4806,
          4.4824,
          4.4842,
          4.486,
          4.4878,
          4.4896,
          4.4914000000000005,
          4.4932,
          4.495,
          4.4968,
          4.498600000000001,
          4.5004,
          4.5022,
          4.5040000000000004,
          4.5058,
          4.5076,
          4.5094,
          4.5112000000000005,
          4.513,
          4.5148,
          4.5166,
          4.5184,
          4.5202,
          4.522,
          4.5238000000000005,
          4.525600000000001,
          4.5274,
          4.5292,
          4.531000000000001,
          4.5328,
          4.5346,
          4.5364,
          4.5382,
          4.54,
          4.5418,
          4.5436000000000005,
          4.5454,
          4.5472,
          4.549,
          4.550800000000001,
          4.5526,
          4.5544,
          4.5562000000000005,
          4.558,
          4.5598,
          4.5616,
          4.563400000000001,
          4.5652,
          4.567,
          4.5688,
          4.570600000000001,
          4.5724,
          4.5742,
          4.5760000000000005,
          4.5778,
          4.5796,
          4.5814,
          4.583200000000001,
          4.585,
          4.5868,
          4.5886000000000005,
          4.590400000000001,
          4.5922,
          4.594,
          4.5958000000000006,
          4.5976,
          4.5994,
          4.6012,
          4.603,
          4.6048,
          4.6066,
          4.6084000000000005,
          4.610200000000001,
          4.612,
          4.6138,
          4.615600000000001,
          4.6174,
          4.6192,
          4.621,
          4.6228,
          4.6246,
          4.6264,
          4.6282000000000005,
          4.63,
          4.6318,
          4.6336,
          4.635400000000001,
          4.6372,
          4.639,
          4.6408000000000005,
          4.6426,
          4.6444,
          4.6462,
          4.648000000000001,
          4.6498,
          4.6516,
          4.6534,
          4.655200000000001,
          4.657,
          4.6588,
          4.6606000000000005,
          4.6624,
          4.6642,
          4.666,
          4.667800000000001,
          4.6696,
          4.6714,
          4.6732000000000005,
          4.675000000000001,
          4.6768,
          4.6786,
          4.680400000000001,
          4.6822,
          4.684,
          4.6858,
          4.6876,
          4.6894,
          4.6912,
          4.6930000000000005,
          4.694800000000001,
          4.6966,
          4.6984,
          4.700200000000001,
          4.702,
          4.7038,
          4.7056000000000004,
          4.707400000000001,
          4.7092,
          4.711,
          4.7128000000000005,
          4.7146,
          4.7164,
          4.7182,
          4.720000000000001,
          4.7218,
          4.7236,
          4.7254000000000005,
          4.7272,
          4.729,
          4.7308,
          4.732600000000001,
          4.7344,
          4.7362,
          4.738,
          4.739800000000001,
          4.7416,
          4.7434,
          4.7452000000000005,
          4.747,
          4.7488,
          4.7506,
          4.752400000000001,
          4.7542,
          4.756,
          4.7578000000000005,
          4.759600000000001,
          4.7614,
          4.7632,
          4.765000000000001,
          4.7668,
          4.7686,
          4.7704,
          4.7722,
          4.774,
          4.7758,
          4.7776000000000005,
          4.779400000000001,
          4.7812,
          4.783,
          4.784800000000001,
          4.7866,
          4.7884,
          4.7902000000000005,
          4.792000000000001,
          4.7938,
          4.7956,
          4.7974000000000006,
          4.7992,
          4.801,
          4.8028,
          4.804600000000001,
          4.8064,
          4.8082,
          4.8100000000000005,
          4.8118,
          4.8136,
          4.8154,
          4.817200000000001,
          4.819000000000001,
          4.8208,
          4.8226,
          4.824400000000001,
          4.8262,
          4.828,
          4.8298000000000005,
          4.8316,
          4.8334,
          4.8352,
          4.837000000000001,
          4.8388,
          4.8406,
          4.8424000000000005,
          4.844200000000001,
          4.846,
          4.8478,
          4.849600000000001,
          4.8514,
          4.8532,
          4.855,
          4.856800000000001,
          4.8586,
          4.8604,
          4.8622000000000005,
          4.864000000000001,
          4.8658,
          4.8676,
          4.869400000000001,
          4.8712,
          4.873,
          4.8748000000000005,
          4.876600000000001,
          4.8784,
          4.8802,
          4.882000000000001,
          4.8838,
          4.8856,
          4.8874,
          4.889200000000001,
          4.891,
          4.8928,
          4.8946000000000005,
          4.8964,
          4.8982
         ],
         "xaxis": "x",
         "y": [
          0.20363659711919052,
          0.20413808241558307,
          0.20448865623311432,
          0.2046891577843852,
          0.2047408512023568,
          0.20464541960322077,
          0.20440495731011377,
          0.20402196029345498,
          0.2034993148949188,
          0.2028402849126762,
          0.20204849713551623,
          0.20112792542264973,
          0.20008287343437955,
          0.1989179561262808,
          0.19763808012607434,
          0.19624842311788096,
          0.19475441236302632,
          0.19316170249000045,
          0.19147615268848528,
          0.18970380344366253,
          0.1878508529471452,
          0.18592363332003392,
          0.1839285867816657,
          0.18187224189472048,
          0.17976119001348687,
          0.17760206205734416,
          0.17540150572594326,
          0.17316616326620668,
          0.17090264989428117,
          0.16861753296792992,
          0.16631731199675162,
          0.16400839956903795,
          0.1616971032652267,
          0.15938960861880505,
          0.15709196317625093,
          0.15481006169833433,
          0.15254963253584922,
          0.15031622520374965,
          0.14811519916875238,
          0.14595171385691336,
          0.14383071987943644,
          0.1417569514672282,
          0.13973492009739524,
          0.13776890928816932,
          0.13586297053262125,
          0.13402092033597804,
          0.13224633831652563,
          0.13054256632588518,
          0.12891270854095033,
          0.12735963247690543,
          0.1258859708686191,
          0.12449412436616933,
          0.12318626498934822,
          0.12196434028571536,
          0.1208300781369864,
          0.11978499215930724,
          0.11883038764415348,
          0.11796736798819178,
          0.11719684156238411,
          0.11651952897281652,
          0.11593597066816923,
          0.11544653485131798,
          0.11505142565523746,
          0.11475069154605098,
          0.11454423391876203,
          0.11443181585375782,
          0.11441307100462506,
          0.11448751259007511,
          0.11465454246478182,
          0.11491346024573273,
          0.1152634724721245,
          0.11570370177803656,
          0.11623319605791821,
          0.11685093760544536,
          0.11755585220645949,
          0.11834681816655604,
          0.1192226752534255,
          0.12018223353329331,
          0.12122428207983448,
          0.12234759753268533,
          0.12355095248131912,
          0.1248331236485111,
          0.12619289984604398,
          0.12762908967367956,
          0.12914052893085184,
          0.13072608770907515,
          0.13238467713171936,
          0.13411525570672808,
          0.13591683525701262,
          0.1377884863927808,
          0.13972934348994984,
          0.14173860913909703,
          0.14381555803025328,
          0.14595954024010035,
          0.1481699838900395,
          0.15044639714596572,
          0.1527883695336255,
          0.15519557254695937,
          0.15766775953100273,
          0.16020476482558949,
          0.16280650216136908,
          0.16547296230534517,
          0.1682042099593184,
          0.17100037992123218,
          0.17386167252627513,
          0.17678834839182236,
          0.17978072249758714,
          0.18283915763988684,
          0.1859640573063116,
          0.18915585802448956,
          0.19241502124580184,
          0.19574202483178438,
          0.19913735421742676,
          0.20260149333154112,
          0.20613491535977368,
          0.20973807344047543,
          0.2134113913875494,
          0.21715525453732992,
          0.2209700008186749,
          0.22485591214636055,
          0.228813206237829,
          0.23284202895211475,
          0.23694244724737118,
          0.24111444284982164,
          0.24535790672216326,
          0.24967263441351323,
          0.2540583223657942,
          0.25851456524316857,
          0.2630408543418453,
          0.26763657712717276,
          0.2723010179337004,
          0.2770333598517899,
          0.2818326878116482,
          0.2866979928622272,
          0.2916281776288003,
          0.2966220629187832,
          0.30167839543150987,
          0.3067958565132852,
          0.3119730718853221,
          0.31720862225867824,
          0.3225010547373692,
          0.3278488948987136,
          0.3332506594287238,
          0.33870486918025294,
          0.34421006251268604,
          0.34976480876450083,
          0.3553677217040316,
          0.3610174727995045,
          0.3667128041468408,
          0.37245254089297436,
          0.3782356029937002,
          0.3840610161481783,
          0.3899279217573397,
          0.39583558576051736,
          0.40178340621373526,
          0.4077709194839253,
          0.41379780494616936,
          0.41986388808545955,
          0.4259691419206045,
          0.43211368668535616,
          0.43829778772059996,
          0.44452185155136614,
          0.45078642014312004,
          0.4570921633531527,
          0.4634398696147045,
          0.46983043491345655,
          0.47626485013778025,
          0.48274418690563237,
          0.4892695819919264,
          0.49584222049998183,
          0.5024633179395664,
          0.509134101391246,
          0.5158557899525631,
          0.5226295746751934,
          0.5294565982139756,
          0.5363379344179229,
          0.5432745681003076,
          0.5502673752290143,
          0.5573171037798512,
          0.5644243554942115,
          0.5715895687781894,
          0.5788130029731369,
          0.5860947242176149,
          0.5934345931079275,
          0.6008322543487395,
          0.6082871285671528,
          0.6157984064429571,
          0.6233650452848204,
          0.6309857681572737,
          0.6386590656365496,
          0.6463832002451576,
          0.6541562135855953,
          0.6619759361633197,
          0.6698399998582387,
          0.6777458529730839,
          0.6856907777562109,
          0.6936719102660979,
          0.7016862624158036,
          0.7097307460075043,
          0.7178021985412566,
          0.7258974105577278,
          0.7340131542531324,
          0.7421462130852237,
          0.7502934120732947,
          0.7584516484819862,
          0.766617922569364,
          0.7747893680737822,
          0.7829632821117434,
          0.791137154160852,
          0.7993086938073483,
          0.807475856947113,
          0.8156368701423339,
          0.8237902528529748,
          0.8319348372826778,
          0.8400697856026627,
          0.8481946043443116,
          0.8563091557810042,
          0.8644136661522484,
          0.872508730617818,
          0.8805953148660456,
          0.888674753338211,
          0.8967487440696792,
          0.9048193401875361,
          0.9128889381437454,
          0.9209602628013176,
          0.9290363495284779,
          0.937120523492245,
          0.9452163763765385,
          0.9533277407819022,
          0.9614586625925787,
          0.9696133716223676,
          0.9777962508724457,
          0.9860118047523733,
          0.9942646266291882,
          1.002559366078608,
          1.0109006962170086,
          1.0192932814923779,
          1.0277417463075564,
          1.0362506448388507,
          1.044824432398443,
          1.0534674386694325,
          1.062183843118374,
          1.070977652861995,
          1.0798526832323734,
          1.0888125412492073,
          1.097860612168799,
          1.107000049237482,
          1.1162337667335227,
          1.1255644363356618,
          1.134994486809939,
          1.1445261069589736,
          1.1541612517309163,
          1.163901651338701,
          1.1737488231953193,
          1.183704086427469,
          1.193768578689656,
          1.20394327496317,
          1.2142290079909155,
          1.224626489969221,
          1.2351363350933933,
          1.2457590825336127,
          1.2564952194039143,
          1.2673452032780033,
          1.278309483803641,
          1.2893885229704494,
          1.3005828135959412,
          1.3118928956105476,
          1.3233193697444083,
          1.33486290824669,
          1.3465242623019407,
          1.3583042658469549,
          1.3702038355358412,
          1.3822239666493688,
          1.3943657247972205,
          1.4066302333178728,
          1.419018656339174,
          1.4315321775233678,
          1.4441719745825143,
          1.4569391897124135,
          1.4698348961552736,
          1.4828600611625835,
          1.4960155056887767,
          1.5093018612027613,
          1.522719524057199,
          1.53626860790473,
          1.5499488946934605,
          1.5637597848130749,
          1.5777002469943808,
          1.5917687685909128,
          1.605963306888924,
          1.6202812421030244,
          1.6347193327170566,
          1.6492736738247107,
          1.6639396591102598,
          1.678711947088646,
          1.6935844321935565,
          1.7085502212645645,
          1.723601615939239,
          1.7387301014026608,
          1.7539263418883737,
          1.7691801832583491,
          1.7844806629191305,
          1.7998160272553592,
          1.8151737566821728,
          1.8305405983355085,
          1.8459026063343928,
          1.8612451894636122,
          1.8765531660389758,
          1.8918108256325703,
          1.907001997251925,
          1.922110123487224,
          1.9371183400640786,
          1.9520095601682137,
          1.966766562843101,
          1.9813720847024512,
          1.9958089141483106,
          2.01005998724267,
          2.0241084843459243,
          2.037937926610859,
          2.051532271405856,
          2.06487600573589,
          2.0779542367355814,
          2.090752778324194,
          2.1032582331387406,
          2.1154580688977322,
          2.1273406883944714,
          2.138895492374456,
          2.1501129346163,
          2.1609845686088747,
          2.1715030852976036,
          2.181662341460783,
          2.191457378369717,
          2.2008844304847575,
          2.209940924040803,
          2.2186254654806388,
          2.2269378197999123,
          2.234878878973937,
          2.2424506207413106,
          2.2496560581225005,
          2.2564991801508887,
          2.2629848843888327,
          2.2691189018906397,
          2.2749077153569126,
          2.280358471299622,
          2.285478887103709,
          2.2902771539276165,
          2.2947618364321567,
          2.298941770363052,
          2.302825959037312,
          2.3064234697970143,
          2.309743331495635,
          2.3127944340719373,
          2.315585431244372,
          2.3181246473259063,
          2.3204199891139283,
          2.322478863755442,
          2.324308103421449,
          2.3259138975504485,
          2.3273017333371047,
          2.328476345051273,
          2.3294416726754057,
          2.3302008302448085,
          2.330756084168309,
          2.331108841696332,
          2.331259649591076,
          2.331208202940916,
          2.3309533639490274,
          2.3304931904161923,
          2.329824973531285,
          2.328945284480688,
          2.3278500292913558,
          2.326534511232911,
          2.3249935000219533,
          2.323221306999082,
          2.321211865385436,
          2.318958814672556,
          2.316455588156828,
          2.3136955025992583,
          2.3106718489718268,
          2.307377983244321,
          2.303807416170331,
          2.2999539010474623,
          2.2958115184547703,
          2.291374757010032,
          2.286638589239356,
          2.281598541712084,
          2.2762507586635543,
          2.2705920584067063,
          2.2646199819193304,
          2.2583328330865124,
          2.251729710175899,
          2.244810528225745,
          2.2375760321317215,
          2.2300278003256926,
          2.222168239048298,
          2.2140005673247156,
          2.2055287928590586,
          2.196757679165555,
          2.18769270435379,
          2.1783400120784964,
          2.168706355251362,
          2.1587990331925875,
          2.148625822971122,
          2.138194905745507,
          2.1275147889702133,
          2.1165942253753385,
          2.1054421296599606,
          2.0940674938607895,
          2.082479302368482,
          2.070686447563126,
          2.0586976470288363,
          2.0465213632853283,
          2.0341657269409263,
          2.021638464129444,
          2.008946829040586,
          1.9960975422929086,
          1.9830967358293612,
          1.9699499049396432,
          1.9566618679312289,
          1.9432367338835745,
          1.9296778788286473,
          1.9159879306059882,
          1.902168762544213,
          1.888221496023188,
          1.8741465118735998,
          1.8599434704753033,
          1.8456113403213772,
          1.8311484347252605,
          1.81655245626228,
          1.8018205484560583,
          1.7869493541462755,
          1.771935079906194,
          1.7567735658186765,
          1.741460359867105,
          1.7259907961545042,
          1.7103600761294788,
          1.6945633519726864,
          1.678595811281099,
          1.6624527621815208,
          1.646129718007248,
          1.6296224806838457,
          1.6129272219911805,
          1.596040561898177,
          1.5789596432043815,
          1.5616822017676901,
          1.5442066316494685,
          1.5265320445670436,
          1.5086583231069215,
          1.4905861672212632,
          1.4723171336022722,
          1.4538536676051594,
          1.435199127467779,
          1.4163578006544912,
          1.3973349122314136,
          1.3781366252590288,
          1.3587700332665733,
          1.339243144948098,
          1.3195648612933053,
          1.2997449454358045,
          1.2797939855666214,
          1.2597233513212143,
          1.2395451441037224,
          1.2192721418610086,
          1.1989177388624868,
          1.1784958810784,
          1.1580209977786815,
          1.1375079299980377,
          1.1169718565283624,
          1.0964282181090907,
          1.0758926404878322,
          1.055380857019403,
          1.0349086314600058,
          1.014491681596273,
          0.9941456043254602,
          0.9738858027746091,
          0.9537274160128548,
          0.9336852518728136,
          0.9137737233548149,
          0.8940067890422092,
          0.87439789790753,
          0.8549599388383812,
          0.8357051951596578,
          0.8166453043750912,
          0.7977912232972142,
          0.7791531986806551,
          0.7607407434205484,
          0.7425626183257272,
          0.7246268194255083,
          0.7069405707209584,
          0.6895103222450669,
          0.6723417532541505,
          0.6554397803320594,
          0.6388085701535788,
          0.6224515566205643,
          0.6063714620560264,
          0.590570322117311,
          0.5750495140692476,
          0.5598097880426971,
          0.5448513008919581,
          0.5301736522575901
         ],
         "yaxis": "y"
        },
        {
         "legendgroup": "Fiction",
         "marker": {
          "color": "gray"
         },
         "mode": "lines",
         "name": "Fiction",
         "showlegend": false,
         "type": "scatter",
         "x": [
          3.3,
          3.3032,
          3.3064,
          3.3095999999999997,
          3.3127999999999997,
          3.316,
          3.3192,
          3.3224,
          3.3255999999999997,
          3.3287999999999998,
          3.332,
          3.3352,
          3.3384,
          3.3415999999999997,
          3.3447999999999998,
          3.348,
          3.3512,
          3.3544,
          3.3575999999999997,
          3.3608,
          3.364,
          3.3672,
          3.3704,
          3.3735999999999997,
          3.3768,
          3.38,
          3.3832,
          3.3864,
          3.3895999999999997,
          3.3928,
          3.396,
          3.3992,
          3.4023999999999996,
          3.4055999999999997,
          3.4088,
          3.412,
          3.4152,
          3.4183999999999997,
          3.4215999999999998,
          3.4248,
          3.428,
          3.4312,
          3.4343999999999997,
          3.4375999999999998,
          3.4408,
          3.444,
          3.4472,
          3.4503999999999997,
          3.4536,
          3.4568,
          3.46,
          3.4632,
          3.4663999999999997,
          3.4696,
          3.4728,
          3.476,
          3.4792,
          3.4823999999999997,
          3.4856,
          3.4888,
          3.492,
          3.4952,
          3.4983999999999997,
          3.5016,
          3.5048,
          3.508,
          3.5112,
          3.5143999999999997,
          3.5176,
          3.5208,
          3.524,
          3.5271999999999997,
          3.5303999999999998,
          3.5336,
          3.5368,
          3.54,
          3.5431999999999997,
          3.5463999999999998,
          3.5496,
          3.5528,
          3.556,
          3.5591999999999997,
          3.5624,
          3.5656,
          3.5688,
          3.572,
          3.5751999999999997,
          3.5784,
          3.5816,
          3.5848,
          3.588,
          3.5911999999999997,
          3.5944,
          3.5976,
          3.6008,
          3.604,
          3.6071999999999997,
          3.6104,
          3.6136,
          3.6168,
          3.62,
          3.6231999999999998,
          3.6264,
          3.6296,
          3.6328,
          3.636,
          3.6391999999999998,
          3.6424,
          3.6456,
          3.6488,
          3.652,
          3.6552,
          3.6584,
          3.6616,
          3.6648,
          3.668,
          3.6712,
          3.6744,
          3.6776,
          3.6808,
          3.684,
          3.6872,
          3.6904,
          3.6936,
          3.6968,
          3.7,
          3.7032,
          3.7064,
          3.7096,
          3.7128,
          3.7159999999999997,
          3.7192,
          3.7224,
          3.7256,
          3.7288,
          3.732,
          3.7352,
          3.7384,
          3.7416,
          3.7448,
          3.748,
          3.7512,
          3.7544,
          3.7576,
          3.7608,
          3.7640000000000002,
          3.7672,
          3.7704,
          3.7736,
          3.7768,
          3.78,
          3.7832,
          3.7864,
          3.7896,
          3.7928,
          3.796,
          3.7992,
          3.8024,
          3.8056,
          3.8087999999999997,
          3.8120000000000003,
          3.8152,
          3.8184,
          3.8216,
          3.8247999999999998,
          3.8280000000000003,
          3.8312,
          3.8344,
          3.8376,
          3.8407999999999998,
          3.8440000000000003,
          3.8472,
          3.8504,
          3.8536,
          3.8568,
          3.8600000000000003,
          3.8632,
          3.8664,
          3.8696,
          3.8728,
          3.876,
          3.8792,
          3.8824,
          3.8856,
          3.8888,
          3.892,
          3.8952,
          3.8984,
          3.9016,
          3.9048,
          3.908,
          3.9112,
          3.9144,
          3.9176,
          3.9208,
          3.924,
          3.9272,
          3.9304,
          3.9336,
          3.9368,
          3.94,
          3.9432,
          3.9464,
          3.9496,
          3.9528,
          3.956,
          3.9592,
          3.9624,
          3.9656000000000002,
          3.9688,
          3.972,
          3.9752,
          3.9784,
          3.9816000000000003,
          3.9848,
          3.988,
          3.9912,
          3.9944,
          3.9976000000000003,
          4.0008,
          4.004,
          4.0072,
          4.0104,
          4.0136,
          4.0168,
          4.02,
          4.0232,
          4.0264,
          4.0296,
          4.0328,
          4.036,
          4.0392,
          4.0424,
          4.0456,
          4.0488,
          4.052,
          4.0552,
          4.0584,
          4.0616,
          4.0648,
          4.068,
          4.0712,
          4.0744,
          4.0776,
          4.0808,
          4.084,
          4.0872,
          4.0904,
          4.0936,
          4.0968,
          4.1,
          4.1032,
          4.1064,
          4.1096,
          4.1128,
          4.116,
          4.1192,
          4.1224,
          4.1256,
          4.1288,
          4.132,
          4.1352,
          4.1384,
          4.1416,
          4.1448,
          4.148,
          4.1512,
          4.1544,
          4.1576,
          4.1608,
          4.164,
          4.1672,
          4.1704,
          4.1736,
          4.1768,
          4.18,
          4.1832,
          4.1864,
          4.1896,
          4.1928,
          4.196,
          4.1992,
          4.2024,
          4.2056000000000004,
          4.2088,
          4.212,
          4.2152,
          4.2184,
          4.2216000000000005,
          4.2248,
          4.228,
          4.2312,
          4.2344,
          4.2376000000000005,
          4.2408,
          4.244,
          4.2472,
          4.2504,
          4.2536000000000005,
          4.2568,
          4.26,
          4.2632,
          4.2664,
          4.2696000000000005,
          4.2728,
          4.276,
          4.2792,
          4.2824,
          4.2856000000000005,
          4.2888,
          4.292,
          4.2952,
          4.2984,
          4.3016000000000005,
          4.3048,
          4.308,
          4.3112,
          4.3144,
          4.3176000000000005,
          4.3208,
          4.324,
          4.3272,
          4.3304,
          4.333600000000001,
          4.3368,
          4.34,
          4.3432,
          4.3464,
          4.349600000000001,
          4.3528,
          4.356,
          4.3592,
          4.3624,
          4.365600000000001,
          4.3688,
          4.372,
          4.3752,
          4.3784,
          4.381600000000001,
          4.3848,
          4.388,
          4.3911999999999995,
          4.3944,
          4.397600000000001,
          4.4008,
          4.404,
          4.4072,
          4.4104,
          4.413600000000001,
          4.4168,
          4.42,
          4.4232,
          4.4264,
          4.429600000000001,
          4.4328,
          4.436,
          4.4392,
          4.4424,
          4.445600000000001,
          4.4488,
          4.452,
          4.4552,
          4.4584,
          4.461600000000001,
          4.4648,
          4.468,
          4.4712000000000005,
          4.4744,
          4.477600000000001,
          4.4808,
          4.484,
          4.4872000000000005,
          4.4904,
          4.493600000000001,
          4.4968,
          4.5,
          4.5032000000000005,
          4.5064,
          4.509600000000001,
          4.5128,
          4.516,
          4.5192000000000005,
          4.5224,
          4.525600000000001,
          4.5288,
          4.532,
          4.535200000000001,
          4.5384,
          4.5416,
          4.5448,
          4.548,
          4.551200000000001,
          4.5544,
          4.5576,
          4.5608,
          4.564,
          4.567200000000001,
          4.5704,
          4.5736,
          4.5768,
          4.58,
          4.583200000000001,
          4.5864,
          4.5896,
          4.5928,
          4.596,
          4.599200000000001,
          4.6024,
          4.6056,
          4.6088000000000005,
          4.612,
          4.615200000000001,
          4.6184,
          4.6216,
          4.6248000000000005,
          4.628,
          4.631200000000001,
          4.6344,
          4.6376,
          4.6408000000000005,
          4.644,
          4.6472,
          4.6504,
          4.6536,
          4.6568000000000005,
          4.66,
          4.6632,
          4.6664,
          4.6696,
          4.6728000000000005,
          4.676,
          4.6792,
          4.6824,
          4.6856,
          4.6888000000000005,
          4.692,
          4.6952,
          4.6984,
          4.7016,
          4.7048000000000005,
          4.708,
          4.7112,
          4.7144,
          4.7176,
          4.7208000000000006,
          4.724,
          4.7272,
          4.7304,
          4.7336,
          4.736800000000001,
          4.74,
          4.7432,
          4.7464,
          4.749600000000001,
          4.752800000000001,
          4.756,
          4.7592,
          4.7624,
          4.765600000000001,
          4.768800000000001,
          4.772,
          4.7752,
          4.7784,
          4.781600000000001,
          4.784800000000001,
          4.788,
          4.7912,
          4.7944,
          4.7976,
          4.800800000000001,
          4.804,
          4.8072,
          4.8104000000000005,
          4.8136,
          4.816800000000001,
          4.82,
          4.8232,
          4.8264000000000005,
          4.8296,
          4.832800000000001,
          4.836,
          4.8392,
          4.8424000000000005,
          4.8456,
          4.848800000000001,
          4.852,
          4.8552,
          4.8584000000000005,
          4.8616,
          4.864800000000001,
          4.868,
          4.8712,
          4.8744000000000005,
          4.8776,
          4.880800000000001,
          4.884,
          4.8872,
          4.8904000000000005,
          4.8936,
          4.896800000000001
         ],
         "xaxis": "x",
         "y": [
          0.01882337133776123,
          0.01881899288154779,
          0.01879110730663535,
          0.018739950629405627,
          0.01866586093300422,
          0.018569277229222032,
          0.018450737718014785,
          0.018310877460261117,
          0.018150425484128166,
          0.017970201349894056,
          0.017771111202221936,
          0.017554143342640723,
          0.017320363358330444,
          0.017070908846197178,
          0.01680698377363248,
          0.01652985251926643,
          0.016240833638429004,
          0.015941293398933798,
          0.015632639133191312,
          0.015316312452560732,
          0.01499378236928057,
          0.014666538370300339,
          0.014336083485908062,
          0.014003927394242265,
          0.013671579600638892,
          0.013340542728340876,
          0.013012305954435302,
          0.012688338622040376,
          0.012370084056787526,
          0.012058953612591024,
          0.011756320968620344,
          0.01146351669633964,
          0.011181823112505908,
          0.010912469431163297,
          0.010656627224984236,
          0.010415406203818764,
          0.010189850316057536,
          0.009980934176415171,
          0.009789559822018797,
          0.009616553797255388,
          0.009462664566694335,
          0.009328560254562303,
          0.009214826708694586,
          0.009121965886609124,
          0.009050394561327049,
          0.009000443344769044,
          0.00897235602696296,
          0.00896628922986684,
          0.008982312375305813,
          0.009020407967298952,
          0.009080472189869022,
          0.009162315822239316,
          0.009265665474081348,
          0.009390165144140938,
          0.009535378106092923,
          0.00970078912581818,
          0.009885807014418994,
          0.010089767521159546,
          0.010311936570106529,
          0.010551513843526006,
          0.010807636714052245,
          0.011079384526265931,
          0.01136578322660295,
          0.011665810338461037,
          0.01197840027698943,
          0.012302449995355473,
          0.012636824951301242,
          0.012980365379570834,
          0.013331892852333015,
          0.013690217106096015,
          0.014054143109854646,
          0.014422478345380104,
          0.014794040266717195,
          0.0151676639021496,
          0.015542209558200334,
          0.015916570581705893,
          0.016289681132710843,
          0.01666052391793426,
          0.017028137831918953,
          0.017391625450754376,
          0.0177501603215086,
          0.0181029939892732,
          0.01844946270305408,
          0.018788993741670073,
          0.019121111301383914,
          0.019445441888199983,
          0.019761719159643712,
          0.020069788163386455,
          0.02036960892329498,
          0.020661259327356827,
          0.020944937276431274,
          0.021220962057877234,
          0.021489774913768127,
          0.021751938779571958,
          0.022008137175799476,
          0.022259172242131503,
          0.02250596191086922,
          0.022749536224120397,
          0.022991032806868875,
          0.023231691515881215,
          0.023472848292200126,
          0.023715928252669837,
          0.023962438063440006,
          0.024213957645616336,
          0.02447213127008216,
          0.024738658104914175,
          0.025015282284686927,
          0.02530378257622055,
          0.02560596171991227,
          0.02592363552963989,
          0.026258621837281188,
          0.026612729370113358,
          0.02698774665070703,
          0.02738543100937966,
          0.02780749779881839,
          0.02825560989910574,
          0.028731367599102234,
          0.02923629893696726,
          0.029771850578563228,
          0.030339379307633814,
          0.03094014419601092,
          0.031575299515757736,
          0.03224588844815775,
          0.0329528376368847,
          0.033696952624627824,
          0.034478914203974365,
          0.03529927570457587,
          0.03615846122963016,
          0.0370567648456042,
          0.03799435072000524,
          0.03897125419297401,
          0.03998738375963016,
          0.0410425239315408,
          0.0421363389375052,
          0.043268377216126766,
          0.04443807664549461,
          0.045644770448742544,
          0.046887693708419734,
          0.04816599041751005,
          0.049478720990642745,
          0.05082487015559225,
          0.05220335514257382,
          0.0536130340871595,
          0.05505271456182709,
          0.056521162151261885,
          0.05801710898749717,
          0.05953926216280807,
          0.061086311940931184,
          0.06265693969060475,
          0.06424982546959877,
          0.06586365519222961,
          0.06749712731880708,
          0.06914895901143822,
          0.0708178917070758,
          0.07250269606553204,
          0.07420217625733579,
          0.07591517356369726,
          0.07764056926837651,
          0.07937728682886856,
          0.08112429332191419,
          0.08288060016587773,
          0.0846452631298977,
          0.0864173816468939,
          0.08819609745436395,
          0.08998059259347199,
          0.09177008680306509,
          0.09356383435097791,
          0.09536112035022672,
          0.09716125661241487,
          0.09896357709487505,
          0.10076743300168008,
          0.10257218760170395,
          0.104377210829352,
          0.10618187373541667,
          0.10798554285673502,
          0.10978757457394663,
          0.11158730952663798,
          0.11338406715459001,
          0.11517714043263587,
          0.11696579086489917,
          0.11874924380185421,
          0.12052668414080078,
          0.12229725246698837,
          0.12406004168877027,
          0.12581409421585849,
          0.12755839972503646,
          0.12929189355255996,
          0.1310134557470295,
          0.13272191081074985,
          0.13441602815157958,
          0.1360945232610441,
          0.13775605962811158,
          0.1393992513915498,
          0.14102266672726818,
          0.14262483196053713,
          0.1442042363865734,
          0.145759337776686,
          0.1472885685411141,
          0.14879034251389067,
          0.15026306231957162,
          0.15170512727661095,
          0.1531149417874927,
          0.15449092416160345,
          0.1558315158132078,
          0.15713519077387084,
          0.1584004654562529,
          0.15962590860441742,
          0.1608101513646829,
          0.16195189741056698,
          0.1630499330555618,
          0.1641031372883157,
          0.16511049166621974,
          0.1660710900054421,
          0.16698414780800772,
          0.16784901136955407,
          0.16866516651488606,
          0.1694322469122482,
          0.1701500419213511,
          0.17081850393448078,
          0.17143775517442272,
          0.17200809391739805,
          0.17253000011357478,
          0.1730041403820002,
          0.1734313723608218,
          0.17381274839743385,
          0.1741495185665966,
          0.1744431330075795,
          0.17469524357392224,
          0.17490770479150114,
          0.17508257412213313,
          0.1752221115310288,
          0.17532877835694602,
          0.17540523548398645,
          0.1754543408136026,
          0.1754791460346304,
          0.1754828926880639,
          0.17546900752195546,
          0.17544109713030248,
          0.17540294186819827,
          0.17535848903396062,
          0.17531184530753466,
          0.17526726843327,
          0.17522915813435244,
          0.1752020462458073,
          0.17519058605319668,
          0.17519954082496056,
          0.1752337715280232,
          0.17529822371865666,
          0.1753979136039674,
          0.1755379132735884,
          0.17572333510639684,
          0.1759593153632277,
          0.1762509969837344,
          0.1766035116135603,
          0.17702196089695968,
          0.1775113970797289,
          0.17807680297772738,
          0.1787230713773282,
          0.17945498394559392,
          0.18027718973974208,
          0.181194183417438,
          0.18221028326124314,
          0.18332960914224858,
          0.18455606055909693,
          0.18589329489912093,
          0.18734470607808607,
          0.18891340372362103,
          0.19060219307484388,
          0.19241355577661662,
          0.19434963175118583,
          0.19641220233245624,
          0.19860267484874083,
          0.2009220688383011,
          0.20337100407833142,
          0.20594969060209273,
          0.2086579208706891,
          0.21149506425544243,
          0.21446006397396106,
          0.21755143660795023,
          0.2207672743135494,
          0.2241052498156815,
          0.22756262425674295,
          0.23113625794703885,
          0.23482262403999635,
          0.2386178251295001,
          0.24251761274012343,
          0.24651740965356328,
          0.25061233498699037,
          0.2547972319111111,
          0.2590666978682515,
          0.2634151171238092,
          0.26783669545845945,
          0.2723254967837435,
          0.27687548144064145,
          0.2814805459194582,
          0.28613456372052887,
          0.2908314270586619,
          0.2955650891006136,
          0.300329606414107,
          0.30511918129919025,
          0.30992820366852325,
          0.3147512921419759,
          0.31958333402353434,
          0.3244195238342265,
          0.32925540008409615,
          0.3340868799788281,
          0.33891029177236204,
          0.3437224044956749,
          0.3485204548135497,
          0.35330217078535003,
          0.35806579233240327,
          0.36281008824311006,
          0.36753436957716207,
          0.3722384993618047,
          0.3769228985056124,
          0.38158854788835084,
          0.3862369866188257,
          0.390870306485778,
          0.3954911426594863,
          0.4001026607333809,
          0.4047085402254723,
          0.4093129546881897,
          0.41392054860220096,
          0.4185364112546194,
          0.4231660478243219,
          0.42781534791704395,
          0.4324905518098226,
          0.4371982146785614,
          0.441945169093699,
          0.4467384860769457,
          0.45158543501733467,
          0.45649344274671483,
          0.46147005207411157,
          0.46652288007462095,
          0.47165957642212114,
          0.47688778204624843,
          0.4822150883828121,
          0.4876489974735538,
          0.4931968831560665,
          0.4988659535678267,
          0.5046632151704952,
          0.5105954384813645,
          0.5166691256793101,
          0.5228904802322271,
          0.5292653786728146,
          0.5357993446291969,
          0.5424975251972987,
          0.5493646697226436,
          0.5564051110411516,
          0.563622749211418,
          0.5710210377550711,
          0.5786029724075933,
          0.5863710823691393,
          0.5943274240337492,
          0.6024735771660729,
          0.6108106434869005,
          0.6193392476229699,
          0.6280595403721443,
          0.6369712042323459,
          0.6460734611413279,
          0.6553650823743322,
          0.6648444005477095,
          0.6745093236785092,
          0.6843573512525525,
          0.6943855922563467,
          0.7045907851312009,
          0.7149693196105446,
          0.7255172604035933,
          0.7362303726901298,
          0.7471041493911149,
          0.75813384017909,
          0.7693144821893845,
          0.7806409323887554,
          0.79210790155156,
          0.8037099897845859,
          0.8154417235308995,
          0.8272975939695305,
          0.8392720967120072,
          0.8513597726788542,
          0.8635552500187169,
          0.8758532869105209,
          0.8882488150649287,
          0.9007369837154962,
          0.9133132038632511,
          0.9259731925103021,
          0.938713016590231,
          0.9515291362746131,
          0.9644184473076647,
          0.9773783219944656,
          0.9904066484435196,
          1.0035018676417202,
          1.0166630079203747,
          1.0298897163540908,
          1.0431822866225102,
          1.0565416828562586,
          1.0699695589858034,
          1.0834682731141587,
          1.0970408964421046,
          1.110691216289177,
          1.1244237327736484,
          1.1382436487420715,
          1.152156852572237,
          1.166169893513769,
          1.1802899492772678,
          1.194524785636063,
          1.2088827078639175,
          1.2233725038971643,
          1.2380033791800598,
          1.252784883227549,
          1.2677268280190666,
          1.282839198419957,
          1.2981320549130773,
          1.313615429010718,
          1.3292992118059639,
          1.3451930362115154,
          1.3613061535220023,
          1.3776473050223044,
          1.3942245894474867,
          1.411045327179564,
          1.428115922140526,
          1.4454417224097231,
          1.4630268806547388,
          1.4808742155185552,
          1.4989850751498746,
          1.5173592040985138,
          1.535994614821255,
          1.5548874650567603,
          1.574031942328589,
          1.593420156823843,
          1.6130420438706274,
          1.6328852771999187,
          1.6529351941267787,
          1.6731747337223672,
          1.6935843889711202,
          1.7141421738186262,
          1.7348236059140976,
          1.7556017057389581,
          1.7764470126895961,
          1.797327618549703,
          1.8182092186466663,
          1.8390551808380062,
          1.8598266323204462,
          1.8804825640961909,
          1.900979952770667,
          1.9212738991957483,
          1.9413177833120987,
          1.961063434388588,
          1.9804613157046365,
          1.999460722576939,
          2.0180099924960806,
          2.0360567260129194,
          2.053548016901345,
          2.0704306900244016,
          2.086651545246289,
          2.1021576056645364,
          2.116896368385876,
          2.1308160560370966,
          2.143865867187955,
          2.1559962238690202,
          2.16715901439172,
          2.177307829721187,
          2.1863981917148827,
          2.1943877716192777,
          2.2012365973136125,
          2.2069072479014094,
          2.211365034376508,
          2.2145781652282297,
          2.2165178959990457,
          2.217158661964822,
          2.216478193271093,
          2.2144576120254857,
          2.211081511015817,
          2.2063380138911435,
          2.2002188168090457,
          2.1927192117125847,
          2.1838380915541795,
          2.1735779379283255,
          2.1619447917088097,
          2.1489482074081123,
          2.1346011920850576,
          2.1189201297203346,
          2.1019246920583035,
          2.083637736976172,
          2.06408519548826,
          2.04329594852384,
          2.0213016946325824,
          1.9981368097710246,
          1.9738382003103507,
          1.948445150377814,
          1.9219991646055714,
          1.8945438073111507,
          1.8661245390749126,
          1.836788551615029,
          1.8065846017883342,
          1.7755628454708803,
          1.7437746719949094,
          1.711272539740598,
          1.6781098134055135,
          1.6443406033998536,
          1.610019607746057
         ],
         "yaxis": "y"
        }
       ],
       "layout": {
        "barmode": "overlay",
        "font": {
         "color": "black",
         "family": "Arial",
         "size": 12
        },
        "hovermode": "closest",
        "legend": {
         "traceorder": "reversed"
        },
        "template": {
         "data": {
          "bar": [
           {
            "error_x": {
             "color": "rgb(36,36,36)"
            },
            "error_y": {
             "color": "rgb(36,36,36)"
            },
            "marker": {
             "line": {
              "color": "white",
              "width": 0.5
             }
            },
            "type": "bar"
           }
          ],
          "barpolar": [
           {
            "marker": {
             "line": {
              "color": "white",
              "width": 0.5
             }
            },
            "type": "barpolar"
           }
          ],
          "carpet": [
           {
            "aaxis": {
             "endlinecolor": "rgb(36,36,36)",
             "gridcolor": "white",
             "linecolor": "white",
             "minorgridcolor": "white",
             "startlinecolor": "rgb(36,36,36)"
            },
            "baxis": {
             "endlinecolor": "rgb(36,36,36)",
             "gridcolor": "white",
             "linecolor": "white",
             "minorgridcolor": "white",
             "startlinecolor": "rgb(36,36,36)"
            },
            "type": "carpet"
           }
          ],
          "choropleth": [
           {
            "colorbar": {
             "outlinewidth": 1,
             "tickcolor": "rgb(36,36,36)",
             "ticks": "outside"
            },
            "type": "choropleth"
           }
          ],
          "contour": [
           {
            "colorbar": {
             "outlinewidth": 1,
             "tickcolor": "rgb(36,36,36)",
             "ticks": "outside"
            },
            "colorscale": [
             [
              0,
              "#440154"
             ],
             [
              0.1111111111111111,
              "#482878"
             ],
             [
              0.2222222222222222,
              "#3e4989"
             ],
             [
              0.3333333333333333,
              "#31688e"
             ],
             [
              0.4444444444444444,
              "#26828e"
             ],
             [
              0.5555555555555556,
              "#1f9e89"
             ],
             [
              0.6666666666666666,
              "#35b779"
             ],
             [
              0.7777777777777778,
              "#6ece58"
             ],
             [
              0.8888888888888888,
              "#b5de2b"
             ],
             [
              1,
              "#fde725"
             ]
            ],
            "type": "contour"
           }
          ],
          "contourcarpet": [
           {
            "colorbar": {
             "outlinewidth": 1,
             "tickcolor": "rgb(36,36,36)",
             "ticks": "outside"
            },
            "type": "contourcarpet"
           }
          ],
          "heatmap": [
           {
            "colorbar": {
             "outlinewidth": 1,
             "tickcolor": "rgb(36,36,36)",
             "ticks": "outside"
            },
            "colorscale": [
             [
              0,
              "#440154"
             ],
             [
              0.1111111111111111,
              "#482878"
             ],
             [
              0.2222222222222222,
              "#3e4989"
             ],
             [
              0.3333333333333333,
              "#31688e"
             ],
             [
              0.4444444444444444,
              "#26828e"
             ],
             [
              0.5555555555555556,
              "#1f9e89"
             ],
             [
              0.6666666666666666,
              "#35b779"
             ],
             [
              0.7777777777777778,
              "#6ece58"
             ],
             [
              0.8888888888888888,
              "#b5de2b"
             ],
             [
              1,
              "#fde725"
             ]
            ],
            "type": "heatmap"
           }
          ],
          "heatmapgl": [
           {
            "colorbar": {
             "outlinewidth": 1,
             "tickcolor": "rgb(36,36,36)",
             "ticks": "outside"
            },
            "colorscale": [
             [
              0,
              "#440154"
             ],
             [
              0.1111111111111111,
              "#482878"
             ],
             [
              0.2222222222222222,
              "#3e4989"
             ],
             [
              0.3333333333333333,
              "#31688e"
             ],
             [
              0.4444444444444444,
              "#26828e"
             ],
             [
              0.5555555555555556,
              "#1f9e89"
             ],
             [
              0.6666666666666666,
              "#35b779"
             ],
             [
              0.7777777777777778,
              "#6ece58"
             ],
             [
              0.8888888888888888,
              "#b5de2b"
             ],
             [
              1,
              "#fde725"
             ]
            ],
            "type": "heatmapgl"
           }
          ],
          "histogram": [
           {
            "marker": {
             "line": {
              "color": "white",
              "width": 0.6
             }
            },
            "type": "histogram"
           }
          ],
          "histogram2d": [
           {
            "colorbar": {
             "outlinewidth": 1,
             "tickcolor": "rgb(36,36,36)",
             "ticks": "outside"
            },
            "colorscale": [
             [
              0,
              "#440154"
             ],
             [
              0.1111111111111111,
              "#482878"
             ],
             [
              0.2222222222222222,
              "#3e4989"
             ],
             [
              0.3333333333333333,
              "#31688e"
             ],
             [
              0.4444444444444444,
              "#26828e"
             ],
             [
              0.5555555555555556,
              "#1f9e89"
             ],
             [
              0.6666666666666666,
              "#35b779"
             ],
             [
              0.7777777777777778,
              "#6ece58"
             ],
             [
              0.8888888888888888,
              "#b5de2b"
             ],
             [
              1,
              "#fde725"
             ]
            ],
            "type": "histogram2d"
           }
          ],
          "histogram2dcontour": [
           {
            "colorbar": {
             "outlinewidth": 1,
             "tickcolor": "rgb(36,36,36)",
             "ticks": "outside"
            },
            "colorscale": [
             [
              0,
              "#440154"
             ],
             [
              0.1111111111111111,
              "#482878"
             ],
             [
              0.2222222222222222,
              "#3e4989"
             ],
             [
              0.3333333333333333,
              "#31688e"
             ],
             [
              0.4444444444444444,
              "#26828e"
             ],
             [
              0.5555555555555556,
              "#1f9e89"
             ],
             [
              0.6666666666666666,
              "#35b779"
             ],
             [
              0.7777777777777778,
              "#6ece58"
             ],
             [
              0.8888888888888888,
              "#b5de2b"
             ],
             [
              1,
              "#fde725"
             ]
            ],
            "type": "histogram2dcontour"
           }
          ],
          "mesh3d": [
           {
            "colorbar": {
             "outlinewidth": 1,
             "tickcolor": "rgb(36,36,36)",
             "ticks": "outside"
            },
            "type": "mesh3d"
           }
          ],
          "parcoords": [
           {
            "line": {
             "colorbar": {
              "outlinewidth": 1,
              "tickcolor": "rgb(36,36,36)",
              "ticks": "outside"
             }
            },
            "type": "parcoords"
           }
          ],
          "pie": [
           {
            "automargin": true,
            "type": "pie"
           }
          ],
          "scatter": [
           {
            "marker": {
             "colorbar": {
              "outlinewidth": 1,
              "tickcolor": "rgb(36,36,36)",
              "ticks": "outside"
             }
            },
            "type": "scatter"
           }
          ],
          "scatter3d": [
           {
            "line": {
             "colorbar": {
              "outlinewidth": 1,
              "tickcolor": "rgb(36,36,36)",
              "ticks": "outside"
             }
            },
            "marker": {
             "colorbar": {
              "outlinewidth": 1,
              "tickcolor": "rgb(36,36,36)",
              "ticks": "outside"
             }
            },
            "type": "scatter3d"
           }
          ],
          "scattercarpet": [
           {
            "marker": {
             "colorbar": {
              "outlinewidth": 1,
              "tickcolor": "rgb(36,36,36)",
              "ticks": "outside"
             }
            },
            "type": "scattercarpet"
           }
          ],
          "scattergeo": [
           {
            "marker": {
             "colorbar": {
              "outlinewidth": 1,
              "tickcolor": "rgb(36,36,36)",
              "ticks": "outside"
             }
            },
            "type": "scattergeo"
           }
          ],
          "scattergl": [
           {
            "marker": {
             "colorbar": {
              "outlinewidth": 1,
              "tickcolor": "rgb(36,36,36)",
              "ticks": "outside"
             }
            },
            "type": "scattergl"
           }
          ],
          "scattermapbox": [
           {
            "marker": {
             "colorbar": {
              "outlinewidth": 1,
              "tickcolor": "rgb(36,36,36)",
              "ticks": "outside"
             }
            },
            "type": "scattermapbox"
           }
          ],
          "scatterpolar": [
           {
            "marker": {
             "colorbar": {
              "outlinewidth": 1,
              "tickcolor": "rgb(36,36,36)",
              "ticks": "outside"
             }
            },
            "type": "scatterpolar"
           }
          ],
          "scatterpolargl": [
           {
            "marker": {
             "colorbar": {
              "outlinewidth": 1,
              "tickcolor": "rgb(36,36,36)",
              "ticks": "outside"
             }
            },
            "type": "scatterpolargl"
           }
          ],
          "scatterternary": [
           {
            "marker": {
             "colorbar": {
              "outlinewidth": 1,
              "tickcolor": "rgb(36,36,36)",
              "ticks": "outside"
             }
            },
            "type": "scatterternary"
           }
          ],
          "surface": [
           {
            "colorbar": {
             "outlinewidth": 1,
             "tickcolor": "rgb(36,36,36)",
             "ticks": "outside"
            },
            "colorscale": [
             [
              0,
              "#440154"
             ],
             [
              0.1111111111111111,
              "#482878"
             ],
             [
              0.2222222222222222,
              "#3e4989"
             ],
             [
              0.3333333333333333,
              "#31688e"
             ],
             [
              0.4444444444444444,
              "#26828e"
             ],
             [
              0.5555555555555556,
              "#1f9e89"
             ],
             [
              0.6666666666666666,
              "#35b779"
             ],
             [
              0.7777777777777778,
              "#6ece58"
             ],
             [
              0.8888888888888888,
              "#b5de2b"
             ],
             [
              1,
              "#fde725"
             ]
            ],
            "type": "surface"
           }
          ],
          "table": [
           {
            "cells": {
             "fill": {
              "color": "rgb(237,237,237)"
             },
             "line": {
              "color": "white"
             }
            },
            "header": {
             "fill": {
              "color": "rgb(217,217,217)"
             },
             "line": {
              "color": "white"
             }
            },
            "type": "table"
           }
          ]
         },
         "layout": {
          "annotationdefaults": {
           "arrowhead": 0,
           "arrowwidth": 1
          },
          "autotypenumbers": "strict",
          "coloraxis": {
           "colorbar": {
            "outlinewidth": 1,
            "tickcolor": "rgb(36,36,36)",
            "ticks": "outside"
           }
          },
          "colorscale": {
           "diverging": [
            [
             0,
             "rgb(103,0,31)"
            ],
            [
             0.1,
             "rgb(178,24,43)"
            ],
            [
             0.2,
             "rgb(214,96,77)"
            ],
            [
             0.3,
             "rgb(244,165,130)"
            ],
            [
             0.4,
             "rgb(253,219,199)"
            ],
            [
             0.5,
             "rgb(247,247,247)"
            ],
            [
             0.6,
             "rgb(209,229,240)"
            ],
            [
             0.7,
             "rgb(146,197,222)"
            ],
            [
             0.8,
             "rgb(67,147,195)"
            ],
            [
             0.9,
             "rgb(33,102,172)"
            ],
            [
             1,
             "rgb(5,48,97)"
            ]
           ],
           "sequential": [
            [
             0,
             "#440154"
            ],
            [
             0.1111111111111111,
             "#482878"
            ],
            [
             0.2222222222222222,
             "#3e4989"
            ],
            [
             0.3333333333333333,
             "#31688e"
            ],
            [
             0.4444444444444444,
             "#26828e"
            ],
            [
             0.5555555555555556,
             "#1f9e89"
            ],
            [
             0.6666666666666666,
             "#35b779"
            ],
            [
             0.7777777777777778,
             "#6ece58"
            ],
            [
             0.8888888888888888,
             "#b5de2b"
            ],
            [
             1,
             "#fde725"
            ]
           ],
           "sequentialminus": [
            [
             0,
             "#440154"
            ],
            [
             0.1111111111111111,
             "#482878"
            ],
            [
             0.2222222222222222,
             "#3e4989"
            ],
            [
             0.3333333333333333,
             "#31688e"
            ],
            [
             0.4444444444444444,
             "#26828e"
            ],
            [
             0.5555555555555556,
             "#1f9e89"
            ],
            [
             0.6666666666666666,
             "#35b779"
            ],
            [
             0.7777777777777778,
             "#6ece58"
            ],
            [
             0.8888888888888888,
             "#b5de2b"
            ],
            [
             1,
             "#fde725"
            ]
           ]
          },
          "colorway": [
           "#1F77B4",
           "#FF7F0E",
           "#2CA02C",
           "#D62728",
           "#9467BD",
           "#8C564B",
           "#E377C2",
           "#7F7F7F",
           "#BCBD22",
           "#17BECF"
          ],
          "font": {
           "color": "rgb(36,36,36)"
          },
          "geo": {
           "bgcolor": "white",
           "lakecolor": "white",
           "landcolor": "white",
           "showlakes": true,
           "showland": true,
           "subunitcolor": "white"
          },
          "hoverlabel": {
           "align": "left"
          },
          "hovermode": "closest",
          "mapbox": {
           "style": "light"
          },
          "paper_bgcolor": "white",
          "plot_bgcolor": "white",
          "polar": {
           "angularaxis": {
            "gridcolor": "rgb(232,232,232)",
            "linecolor": "rgb(36,36,36)",
            "showgrid": false,
            "showline": true,
            "ticks": "outside"
           },
           "bgcolor": "white",
           "radialaxis": {
            "gridcolor": "rgb(232,232,232)",
            "linecolor": "rgb(36,36,36)",
            "showgrid": false,
            "showline": true,
            "ticks": "outside"
           }
          },
          "scene": {
           "xaxis": {
            "backgroundcolor": "white",
            "gridcolor": "rgb(232,232,232)",
            "gridwidth": 2,
            "linecolor": "rgb(36,36,36)",
            "showbackground": true,
            "showgrid": false,
            "showline": true,
            "ticks": "outside",
            "zeroline": false,
            "zerolinecolor": "rgb(36,36,36)"
           },
           "yaxis": {
            "backgroundcolor": "white",
            "gridcolor": "rgb(232,232,232)",
            "gridwidth": 2,
            "linecolor": "rgb(36,36,36)",
            "showbackground": true,
            "showgrid": false,
            "showline": true,
            "ticks": "outside",
            "zeroline": false,
            "zerolinecolor": "rgb(36,36,36)"
           },
           "zaxis": {
            "backgroundcolor": "white",
            "gridcolor": "rgb(232,232,232)",
            "gridwidth": 2,
            "linecolor": "rgb(36,36,36)",
            "showbackground": true,
            "showgrid": false,
            "showline": true,
            "ticks": "outside",
            "zeroline": false,
            "zerolinecolor": "rgb(36,36,36)"
           }
          },
          "shapedefaults": {
           "fillcolor": "black",
           "line": {
            "width": 0
           },
           "opacity": 0.3
          },
          "ternary": {
           "aaxis": {
            "gridcolor": "rgb(232,232,232)",
            "linecolor": "rgb(36,36,36)",
            "showgrid": false,
            "showline": true,
            "ticks": "outside"
           },
           "baxis": {
            "gridcolor": "rgb(232,232,232)",
            "linecolor": "rgb(36,36,36)",
            "showgrid": false,
            "showline": true,
            "ticks": "outside"
           },
           "bgcolor": "white",
           "caxis": {
            "gridcolor": "rgb(232,232,232)",
            "linecolor": "rgb(36,36,36)",
            "showgrid": false,
            "showline": true,
            "ticks": "outside"
           }
          },
          "title": {
           "x": 0.05
          },
          "xaxis": {
           "automargin": true,
           "gridcolor": "rgb(232,232,232)",
           "linecolor": "rgb(36,36,36)",
           "showgrid": false,
           "showline": true,
           "ticks": "outside",
           "title": {
            "standoff": 15
           },
           "zeroline": false,
           "zerolinecolor": "rgb(36,36,36)"
          },
          "yaxis": {
           "automargin": true,
           "gridcolor": "rgb(232,232,232)",
           "linecolor": "rgb(36,36,36)",
           "showgrid": false,
           "showline": true,
           "ticks": "outside",
           "title": {
            "standoff": 15
           },
           "zeroline": false,
           "zerolinecolor": "rgb(36,36,36)"
          }
         }
        },
        "title": {
         "text": "Сomparison of the distribution density in the group Non_fiction and the group"
        },
        "xaxis": {
         "anchor": "y2",
         "domain": [
          0,
          1
         ],
         "zeroline": false
        },
        "yaxis": {
         "anchor": "free",
         "domain": [
          0,
          1
         ],
         "position": 0
        }
       }
      },
      "text/html": [
       "<div>                            <div id=\"f5466be7-4ee1-4c38-8220-5879a8541995\" class=\"plotly-graph-div\" style=\"height:525px; width:100%;\"></div>            <script type=\"text/javascript\">                require([\"plotly\"], function(Plotly) {                    window.PLOTLYENV=window.PLOTLYENV || {};                                    if (document.getElementById(\"f5466be7-4ee1-4c38-8220-5879a8541995\")) {                    Plotly.newPlot(                        \"f5466be7-4ee1-4c38-8220-5879a8541995\",                        [{\"autobinx\": false, \"histnorm\": \"probability density\", \"legendgroup\": \"Non_fiction\", \"marker\": {\"color\": \"LightSkyBlue\"}, \"name\": \"Non_fiction\", \"opacity\": 0.7, \"type\": \"histogram\", \"x\": [4.7, 4.7, 4.8, 4.7, 4.6, 4.6, 4.6, 4.5, 4.6, 4.4, 4.5, 4.8, 4.6, 4.6, 4.7, 4.2, 4.6, 4.6, 4.8, 4.7, 4.8, 4.8, 4.8, 4.7, 4.7, 4.7, 4.5, 4.6, 4.8, 4.5, 4.7, 4.7, 4.7, 4.7, 4.8, 4.8, 4.8, 4.4, 4.6, 4.6, 4.5, 4.5, 4.6, 4.6, 4.6, 4.5, 4.5, 4.3, 4.5, 4.5, 4.7, 4.7, 4.7, 4.4, 4.2, 4.7, 4.7, 4.7, 4.7, 4.7, 4.4, 4.4, 4.5, 4.6, 4.6, 4.6, 4.6, 4.6, 4.6, 4.6, 4.5, 4.5, 4.5, 4.5, 4.6, 4.8, 4.9, 4.8, 4.7, 4.8, 4.7, 4.7, 4.4, 4.4, 4.8, 4.7, 4.7, 4.7, 4.7, 4.7, 4.3, 4.8, 4.8, 4.9, 4.7, 4.8, 4.4, 4.4, 4.4, 4.8, 4.9, 4.9, 4.9, 4.9, 4.9, 4.9, 4.6, 4.5, 4.6, 4.7, 4.7, 4.6, 4.6, 4.8, 4.8, 4.5, 4.5, 4.5, 4.6, 4.6, 4.6, 4.6, 4.6, 4.5, 4.5, 4.4, 4.8, 4.5, 4.2, 4.8, 4.5, 4.7, 4.8, 4.7, 4.7, 4.7, 4.4, 4.6, 4.6, 4.6, 4.8, 4.8, 4.7, 4.6, 4.9, 4.6, 4.6, 4.5, 4.6, 4.6, 4.7, 4.7, 4.3, 4.3, 4.5, 4.5, 4.5, 4.5, 4.5, 4.5, 4.5, 4.5, 4.5, 4.5, 4.6, 4.6, 4.7, 4.7, 4.8, 4.8, 4.8, 4.8, 4.7, 4.7, 4.8, 4.1, 4.6, 4.6, 4.6, 4.0, 4.0, 4.0, 4.0, 4.0, 4.0, 4.0, 4.0, 4.0, 4.5, 4.6, 4.4, 4.4, 4.3, 4.3, 4.7, 4.7, 4.7, 4.7, 4.7, 4.8, 4.8, 4.8, 4.8, 4.8, 4.8, 4.6, 4.6, 4.6, 4.6, 4.7, 4.7, 4.7, 4.6, 4.7, 4.2, 4.8, 4.7, 4.8, 4.8, 4.7, 4.3, 4.3, 4.8, 4.4, 4.1, 4.6, 4.6, 4.6, 4.6, 4.6, 4.6, 4.7, 4.7, 4.7, 4.7, 4.7, 4.7, 4.7, 4.7, 4.7, 4.3, 4.3, 4.7, 4.4, 4.4, 4.5, 4.5, 4.5, 4.5, 4.8, 4.9, 4.6, 4.4, 4.4, 4.4, 4.4, 4.4, 4.3, 4.8, 4.8, 4.8, 4.5, 4.4, 4.6, 4.6, 4.6, 4.6, 4.6, 4.7, 4.4, 4.7, 4.7, 4.6, 4.6, 4.6, 4.7, 4.7, 4.6, 4.6, 4.5, 4.3, 4.3, 4.6, 4.6, 4.6, 4.6, 4.3, 4.6, 4.5, 4.8, 4.8, 4.8, 4.8, 4.8, 4.9, 4.8, 4.7, 4.6, 4.7, 4.4, 4.4, 4.4, 4.8, 4.6, 4.4, 4.2, 4.7, 4.7, 4.7, 4.7], \"xaxis\": \"x\", \"xbins\": {\"end\": 4.9, \"size\": 0.1, \"start\": 4.0}, \"yaxis\": \"y\"}, {\"autobinx\": false, \"histnorm\": \"probability density\", \"legendgroup\": \"Fiction\", \"marker\": {\"color\": \"gray\"}, \"name\": \"Fiction\", \"opacity\": 0.7, \"type\": \"histogram\", \"x\": [4.6, 4.7, 4.4, 4.7, 4.7, 4.6, 4.6, 4.5, 4.6, 4.6, 3.9, 4.3, 4.6, 4.9, 4.9, 4.8, 4.7, 4.7, 4.7, 4.3, 4.6, 4.6, 4.6, 4.3, 4.2, 4.8, 4.8, 4.8, 4.8, 4.8, 4.8, 4.8, 4.6, 4.6, 4.5, 4.7, 4.8, 4.9, 4.9, 4.9, 4.9, 4.9, 4.9, 4.9, 4.8, 4.7, 4.7, 4.6, 4.6, 4.7, 4.4, 4.5, 3.8, 3.8, 4.5, 4.7, 4.6, 4.6, 4.6, 4.8, 4.8, 4.8, 4.8, 4.8, 3.6, 4.8, 4.0, 4.0, 4.0, 4.8, 4.8, 4.8, 4.9, 4.9, 4.4, 4.9, 4.0, 4.9, 4.9, 4.9, 4.8, 4.6, 4.8, 4.8, 4.3, 4.1, 4.6, 4.6, 4.5, 4.9, 4.1, 4.9, 4.5, 4.5, 4.8, 4.8, 4.5, 4.5, 4.5, 4.6, 4.9, 4.9, 4.9, 4.9, 4.9, 4.9, 4.9, 4.9, 4.8, 4.2, 4.3, 4.6, 4.8, 4.8, 4.8, 4.8, 4.7, 4.8, 4.6, 4.6, 4.9, 4.9, 4.6, 4.7, 4.9, 4.5, 4.7, 4.7, 4.7, 4.8, 4.6, 4.6, 4.8, 4.8, 3.3, 4.3, 4.8, 4.8, 4.8, 4.0, 4.7, 4.7, 4.7, 4.7, 4.8, 4.1, 4.1, 4.7, 4.7, 4.7, 4.7, 4.4, 4.4, 4.8, 4.8, 3.9, 3.9, 4.4, 4.4, 4.4, 4.5, 4.7, 4.3, 4.6, 4.8, 4.8, 4.8, 4.8, 4.8, 4.8, 4.7, 4.7, 4.7, 4.8, 4.8, 4.8, 4.8, 4.9, 4.4, 4.8, 4.2, 4.8, 4.7, 4.5, 4.8, 4.8, 4.8, 4.3, 4.8, 4.8, 4.3, 4.3, 4.6, 4.8, 4.6, 4.6, 4.6, 4.5, 4.8, 4.7, 4.7, 4.4, 4.7, 4.8, 4.9, 4.9, 4.9, 4.9, 4.9, 4.9, 4.9, 4.9, 4.9, 4.9, 4.9, 4.8, 4.8, 4.5, 4.8, 4.8, 4.8, 4.8, 4.8, 4.8, 4.7, 4.5, 4.3, 4.8, 4.5, 4.7, 4.8, 4.8, 4.8, 4.5, 4.8, 4.8, 4.8, 4.8, 4.8, 4.9], \"xaxis\": \"x\", \"xbins\": {\"end\": 4.9, \"size\": 0.1, \"start\": 3.3}, \"yaxis\": \"y\"}, {\"legendgroup\": \"Non_fiction\", \"marker\": {\"color\": \"LightSkyBlue\"}, \"mode\": \"lines\", \"name\": \"Non_fiction\", \"showlegend\": false, \"type\": \"scatter\", \"x\": [4.0, 4.0018, 4.0036, 4.0054, 4.0072, 4.009, 4.0108, 4.0126, 4.0144, 4.0162, 4.018, 4.0198, 4.0216, 4.0234, 4.0252, 4.027, 4.0288, 4.0306, 4.0324, 4.0342, 4.036, 4.0378, 4.0396, 4.0414, 4.0432, 4.045, 4.0468, 4.0486, 4.0504, 4.0522, 4.054, 4.0558, 4.0576, 4.0594, 4.0612, 4.063, 4.0648, 4.0666, 4.0684000000000005, 4.0702, 4.072, 4.0738, 4.0756, 4.0774, 4.0792, 4.081, 4.0828, 4.0846, 4.0864, 4.0882, 4.09, 4.0918, 4.0936, 4.0954, 4.0972, 4.099, 4.1008000000000004, 4.1026, 4.1044, 4.1062, 4.108, 4.1098, 4.1116, 4.1134, 4.1152, 4.117, 4.1188, 4.1206000000000005, 4.1224, 4.1242, 4.126, 4.1278, 4.1296, 4.1314, 4.1332, 4.135, 4.1368, 4.1386, 4.1404, 4.1422, 4.144, 4.1458, 4.1476, 4.1494, 4.1512, 4.1530000000000005, 4.1548, 4.1566, 4.1584, 4.1602, 4.162, 4.1638, 4.1656, 4.1674, 4.1692, 4.171, 4.1728000000000005, 4.1746, 4.1764, 4.1782, 4.18, 4.1818, 4.1836, 4.1854000000000005, 4.1872, 4.189, 4.1908, 4.1926, 4.1944, 4.1962, 4.198, 4.1998, 4.2016, 4.2034, 4.2052000000000005, 4.207, 4.2088, 4.2106, 4.2124, 4.2142, 4.216, 4.2178, 4.2196, 4.2214, 4.2232, 4.225, 4.2268, 4.2286, 4.2304, 4.2322, 4.234, 4.2358, 4.2376000000000005, 4.2394, 4.2412, 4.243, 4.2448, 4.2466, 4.2484, 4.2502, 4.252, 4.2538, 4.2556, 4.2574000000000005, 4.2592, 4.261, 4.2628, 4.2646, 4.2664, 4.2682, 4.2700000000000005, 4.2718, 4.2736, 4.2754, 4.277200000000001, 4.279, 4.2808, 4.2826, 4.2844, 4.2862, 4.288, 4.2898000000000005, 4.2916, 4.2934, 4.2952, 4.297, 4.2988, 4.3006, 4.3024000000000004, 4.3042, 4.306, 4.3078, 4.3096000000000005, 4.3114, 4.3132, 4.315, 4.3168, 4.3186, 4.3204, 4.3222000000000005, 4.324, 4.3258, 4.3276, 4.3294, 4.3312, 4.333, 4.3348, 4.3366, 4.3384, 4.3402, 4.3420000000000005, 4.3438, 4.3456, 4.3474, 4.3492, 4.351, 4.3528, 4.3546000000000005, 4.3564, 4.3582, 4.36, 4.361800000000001, 4.3636, 4.3654, 4.3672, 4.369, 4.3708, 4.3726, 4.3744000000000005, 4.3762, 4.378, 4.3798, 4.381600000000001, 4.3834, 4.3852, 4.3870000000000005, 4.3888, 4.3906, 4.3924, 4.3942000000000005, 4.396, 4.3978, 4.3996, 4.4014, 4.4032, 4.405, 4.4068000000000005, 4.4086, 4.4104, 4.4122, 4.414, 4.4158, 4.4176, 4.4194, 4.4212, 4.423, 4.4248, 4.4266000000000005, 4.4284, 4.4302, 4.432, 4.4338, 4.4356, 4.4374, 4.4392000000000005, 4.441, 4.4428, 4.4446, 4.446400000000001, 4.4482, 4.45, 4.4518, 4.4536, 4.4554, 4.4572, 4.4590000000000005, 4.4608, 4.4626, 4.4644, 4.466200000000001, 4.468, 4.4698, 4.4716000000000005, 4.4734, 4.4752, 4.477, 4.478800000000001, 4.4806, 4.4824, 4.4842, 4.486, 4.4878, 4.4896, 4.4914000000000005, 4.4932, 4.495, 4.4968, 4.498600000000001, 4.5004, 4.5022, 4.5040000000000004, 4.5058, 4.5076, 4.5094, 4.5112000000000005, 4.513, 4.5148, 4.5166, 4.5184, 4.5202, 4.522, 4.5238000000000005, 4.525600000000001, 4.5274, 4.5292, 4.531000000000001, 4.5328, 4.5346, 4.5364, 4.5382, 4.54, 4.5418, 4.5436000000000005, 4.5454, 4.5472, 4.549, 4.550800000000001, 4.5526, 4.5544, 4.5562000000000005, 4.558, 4.5598, 4.5616, 4.563400000000001, 4.5652, 4.567, 4.5688, 4.570600000000001, 4.5724, 4.5742, 4.5760000000000005, 4.5778, 4.5796, 4.5814, 4.583200000000001, 4.585, 4.5868, 4.5886000000000005, 4.590400000000001, 4.5922, 4.594, 4.5958000000000006, 4.5976, 4.5994, 4.6012, 4.603, 4.6048, 4.6066, 4.6084000000000005, 4.610200000000001, 4.612, 4.6138, 4.615600000000001, 4.6174, 4.6192, 4.621, 4.6228, 4.6246, 4.6264, 4.6282000000000005, 4.63, 4.6318, 4.6336, 4.635400000000001, 4.6372, 4.639, 4.6408000000000005, 4.6426, 4.6444, 4.6462, 4.648000000000001, 4.6498, 4.6516, 4.6534, 4.655200000000001, 4.657, 4.6588, 4.6606000000000005, 4.6624, 4.6642, 4.666, 4.667800000000001, 4.6696, 4.6714, 4.6732000000000005, 4.675000000000001, 4.6768, 4.6786, 4.680400000000001, 4.6822, 4.684, 4.6858, 4.6876, 4.6894, 4.6912, 4.6930000000000005, 4.694800000000001, 4.6966, 4.6984, 4.700200000000001, 4.702, 4.7038, 4.7056000000000004, 4.707400000000001, 4.7092, 4.711, 4.7128000000000005, 4.7146, 4.7164, 4.7182, 4.720000000000001, 4.7218, 4.7236, 4.7254000000000005, 4.7272, 4.729, 4.7308, 4.732600000000001, 4.7344, 4.7362, 4.738, 4.739800000000001, 4.7416, 4.7434, 4.7452000000000005, 4.747, 4.7488, 4.7506, 4.752400000000001, 4.7542, 4.756, 4.7578000000000005, 4.759600000000001, 4.7614, 4.7632, 4.765000000000001, 4.7668, 4.7686, 4.7704, 4.7722, 4.774, 4.7758, 4.7776000000000005, 4.779400000000001, 4.7812, 4.783, 4.784800000000001, 4.7866, 4.7884, 4.7902000000000005, 4.792000000000001, 4.7938, 4.7956, 4.7974000000000006, 4.7992, 4.801, 4.8028, 4.804600000000001, 4.8064, 4.8082, 4.8100000000000005, 4.8118, 4.8136, 4.8154, 4.817200000000001, 4.819000000000001, 4.8208, 4.8226, 4.824400000000001, 4.8262, 4.828, 4.8298000000000005, 4.8316, 4.8334, 4.8352, 4.837000000000001, 4.8388, 4.8406, 4.8424000000000005, 4.844200000000001, 4.846, 4.8478, 4.849600000000001, 4.8514, 4.8532, 4.855, 4.856800000000001, 4.8586, 4.8604, 4.8622000000000005, 4.864000000000001, 4.8658, 4.8676, 4.869400000000001, 4.8712, 4.873, 4.8748000000000005, 4.876600000000001, 4.8784, 4.8802, 4.882000000000001, 4.8838, 4.8856, 4.8874, 4.889200000000001, 4.891, 4.8928, 4.8946000000000005, 4.8964, 4.8982], \"xaxis\": \"x\", \"y\": [0.20363659711919052, 0.20413808241558307, 0.20448865623311432, 0.2046891577843852, 0.2047408512023568, 0.20464541960322077, 0.20440495731011377, 0.20402196029345498, 0.2034993148949188, 0.2028402849126762, 0.20204849713551623, 0.20112792542264973, 0.20008287343437955, 0.1989179561262808, 0.19763808012607434, 0.19624842311788096, 0.19475441236302632, 0.19316170249000045, 0.19147615268848528, 0.18970380344366253, 0.1878508529471452, 0.18592363332003392, 0.1839285867816657, 0.18187224189472048, 0.17976119001348687, 0.17760206205734416, 0.17540150572594326, 0.17316616326620668, 0.17090264989428117, 0.16861753296792992, 0.16631731199675162, 0.16400839956903795, 0.1616971032652267, 0.15938960861880505, 0.15709196317625093, 0.15481006169833433, 0.15254963253584922, 0.15031622520374965, 0.14811519916875238, 0.14595171385691336, 0.14383071987943644, 0.1417569514672282, 0.13973492009739524, 0.13776890928816932, 0.13586297053262125, 0.13402092033597804, 0.13224633831652563, 0.13054256632588518, 0.12891270854095033, 0.12735963247690543, 0.1258859708686191, 0.12449412436616933, 0.12318626498934822, 0.12196434028571536, 0.1208300781369864, 0.11978499215930724, 0.11883038764415348, 0.11796736798819178, 0.11719684156238411, 0.11651952897281652, 0.11593597066816923, 0.11544653485131798, 0.11505142565523746, 0.11475069154605098, 0.11454423391876203, 0.11443181585375782, 0.11441307100462506, 0.11448751259007511, 0.11465454246478182, 0.11491346024573273, 0.1152634724721245, 0.11570370177803656, 0.11623319605791821, 0.11685093760544536, 0.11755585220645949, 0.11834681816655604, 0.1192226752534255, 0.12018223353329331, 0.12122428207983448, 0.12234759753268533, 0.12355095248131912, 0.1248331236485111, 0.12619289984604398, 0.12762908967367956, 0.12914052893085184, 0.13072608770907515, 0.13238467713171936, 0.13411525570672808, 0.13591683525701262, 0.1377884863927808, 0.13972934348994984, 0.14173860913909703, 0.14381555803025328, 0.14595954024010035, 0.1481699838900395, 0.15044639714596572, 0.1527883695336255, 0.15519557254695937, 0.15766775953100273, 0.16020476482558949, 0.16280650216136908, 0.16547296230534517, 0.1682042099593184, 0.17100037992123218, 0.17386167252627513, 0.17678834839182236, 0.17978072249758714, 0.18283915763988684, 0.1859640573063116, 0.18915585802448956, 0.19241502124580184, 0.19574202483178438, 0.19913735421742676, 0.20260149333154112, 0.20613491535977368, 0.20973807344047543, 0.2134113913875494, 0.21715525453732992, 0.2209700008186749, 0.22485591214636055, 0.228813206237829, 0.23284202895211475, 0.23694244724737118, 0.24111444284982164, 0.24535790672216326, 0.24967263441351323, 0.2540583223657942, 0.25851456524316857, 0.2630408543418453, 0.26763657712717276, 0.2723010179337004, 0.2770333598517899, 0.2818326878116482, 0.2866979928622272, 0.2916281776288003, 0.2966220629187832, 0.30167839543150987, 0.3067958565132852, 0.3119730718853221, 0.31720862225867824, 0.3225010547373692, 0.3278488948987136, 0.3332506594287238, 0.33870486918025294, 0.34421006251268604, 0.34976480876450083, 0.3553677217040316, 0.3610174727995045, 0.3667128041468408, 0.37245254089297436, 0.3782356029937002, 0.3840610161481783, 0.3899279217573397, 0.39583558576051736, 0.40178340621373526, 0.4077709194839253, 0.41379780494616936, 0.41986388808545955, 0.4259691419206045, 0.43211368668535616, 0.43829778772059996, 0.44452185155136614, 0.45078642014312004, 0.4570921633531527, 0.4634398696147045, 0.46983043491345655, 0.47626485013778025, 0.48274418690563237, 0.4892695819919264, 0.49584222049998183, 0.5024633179395664, 0.509134101391246, 0.5158557899525631, 0.5226295746751934, 0.5294565982139756, 0.5363379344179229, 0.5432745681003076, 0.5502673752290143, 0.5573171037798512, 0.5644243554942115, 0.5715895687781894, 0.5788130029731369, 0.5860947242176149, 0.5934345931079275, 0.6008322543487395, 0.6082871285671528, 0.6157984064429571, 0.6233650452848204, 0.6309857681572737, 0.6386590656365496, 0.6463832002451576, 0.6541562135855953, 0.6619759361633197, 0.6698399998582387, 0.6777458529730839, 0.6856907777562109, 0.6936719102660979, 0.7016862624158036, 0.7097307460075043, 0.7178021985412566, 0.7258974105577278, 0.7340131542531324, 0.7421462130852237, 0.7502934120732947, 0.7584516484819862, 0.766617922569364, 0.7747893680737822, 0.7829632821117434, 0.791137154160852, 0.7993086938073483, 0.807475856947113, 0.8156368701423339, 0.8237902528529748, 0.8319348372826778, 0.8400697856026627, 0.8481946043443116, 0.8563091557810042, 0.8644136661522484, 0.872508730617818, 0.8805953148660456, 0.888674753338211, 0.8967487440696792, 0.9048193401875361, 0.9128889381437454, 0.9209602628013176, 0.9290363495284779, 0.937120523492245, 0.9452163763765385, 0.9533277407819022, 0.9614586625925787, 0.9696133716223676, 0.9777962508724457, 0.9860118047523733, 0.9942646266291882, 1.002559366078608, 1.0109006962170086, 1.0192932814923779, 1.0277417463075564, 1.0362506448388507, 1.044824432398443, 1.0534674386694325, 1.062183843118374, 1.070977652861995, 1.0798526832323734, 1.0888125412492073, 1.097860612168799, 1.107000049237482, 1.1162337667335227, 1.1255644363356618, 1.134994486809939, 1.1445261069589736, 1.1541612517309163, 1.163901651338701, 1.1737488231953193, 1.183704086427469, 1.193768578689656, 1.20394327496317, 1.2142290079909155, 1.224626489969221, 1.2351363350933933, 1.2457590825336127, 1.2564952194039143, 1.2673452032780033, 1.278309483803641, 1.2893885229704494, 1.3005828135959412, 1.3118928956105476, 1.3233193697444083, 1.33486290824669, 1.3465242623019407, 1.3583042658469549, 1.3702038355358412, 1.3822239666493688, 1.3943657247972205, 1.4066302333178728, 1.419018656339174, 1.4315321775233678, 1.4441719745825143, 1.4569391897124135, 1.4698348961552736, 1.4828600611625835, 1.4960155056887767, 1.5093018612027613, 1.522719524057199, 1.53626860790473, 1.5499488946934605, 1.5637597848130749, 1.5777002469943808, 1.5917687685909128, 1.605963306888924, 1.6202812421030244, 1.6347193327170566, 1.6492736738247107, 1.6639396591102598, 1.678711947088646, 1.6935844321935565, 1.7085502212645645, 1.723601615939239, 1.7387301014026608, 1.7539263418883737, 1.7691801832583491, 1.7844806629191305, 1.7998160272553592, 1.8151737566821728, 1.8305405983355085, 1.8459026063343928, 1.8612451894636122, 1.8765531660389758, 1.8918108256325703, 1.907001997251925, 1.922110123487224, 1.9371183400640786, 1.9520095601682137, 1.966766562843101, 1.9813720847024512, 1.9958089141483106, 2.01005998724267, 2.0241084843459243, 2.037937926610859, 2.051532271405856, 2.06487600573589, 2.0779542367355814, 2.090752778324194, 2.1032582331387406, 2.1154580688977322, 2.1273406883944714, 2.138895492374456, 2.1501129346163, 2.1609845686088747, 2.1715030852976036, 2.181662341460783, 2.191457378369717, 2.2008844304847575, 2.209940924040803, 2.2186254654806388, 2.2269378197999123, 2.234878878973937, 2.2424506207413106, 2.2496560581225005, 2.2564991801508887, 2.2629848843888327, 2.2691189018906397, 2.2749077153569126, 2.280358471299622, 2.285478887103709, 2.2902771539276165, 2.2947618364321567, 2.298941770363052, 2.302825959037312, 2.3064234697970143, 2.309743331495635, 2.3127944340719373, 2.315585431244372, 2.3181246473259063, 2.3204199891139283, 2.322478863755442, 2.324308103421449, 2.3259138975504485, 2.3273017333371047, 2.328476345051273, 2.3294416726754057, 2.3302008302448085, 2.330756084168309, 2.331108841696332, 2.331259649591076, 2.331208202940916, 2.3309533639490274, 2.3304931904161923, 2.329824973531285, 2.328945284480688, 2.3278500292913558, 2.326534511232911, 2.3249935000219533, 2.323221306999082, 2.321211865385436, 2.318958814672556, 2.316455588156828, 2.3136955025992583, 2.3106718489718268, 2.307377983244321, 2.303807416170331, 2.2999539010474623, 2.2958115184547703, 2.291374757010032, 2.286638589239356, 2.281598541712084, 2.2762507586635543, 2.2705920584067063, 2.2646199819193304, 2.2583328330865124, 2.251729710175899, 2.244810528225745, 2.2375760321317215, 2.2300278003256926, 2.222168239048298, 2.2140005673247156, 2.2055287928590586, 2.196757679165555, 2.18769270435379, 2.1783400120784964, 2.168706355251362, 2.1587990331925875, 2.148625822971122, 2.138194905745507, 2.1275147889702133, 2.1165942253753385, 2.1054421296599606, 2.0940674938607895, 2.082479302368482, 2.070686447563126, 2.0586976470288363, 2.0465213632853283, 2.0341657269409263, 2.021638464129444, 2.008946829040586, 1.9960975422929086, 1.9830967358293612, 1.9699499049396432, 1.9566618679312289, 1.9432367338835745, 1.9296778788286473, 1.9159879306059882, 1.902168762544213, 1.888221496023188, 1.8741465118735998, 1.8599434704753033, 1.8456113403213772, 1.8311484347252605, 1.81655245626228, 1.8018205484560583, 1.7869493541462755, 1.771935079906194, 1.7567735658186765, 1.741460359867105, 1.7259907961545042, 1.7103600761294788, 1.6945633519726864, 1.678595811281099, 1.6624527621815208, 1.646129718007248, 1.6296224806838457, 1.6129272219911805, 1.596040561898177, 1.5789596432043815, 1.5616822017676901, 1.5442066316494685, 1.5265320445670436, 1.5086583231069215, 1.4905861672212632, 1.4723171336022722, 1.4538536676051594, 1.435199127467779, 1.4163578006544912, 1.3973349122314136, 1.3781366252590288, 1.3587700332665733, 1.339243144948098, 1.3195648612933053, 1.2997449454358045, 1.2797939855666214, 1.2597233513212143, 1.2395451441037224, 1.2192721418610086, 1.1989177388624868, 1.1784958810784, 1.1580209977786815, 1.1375079299980377, 1.1169718565283624, 1.0964282181090907, 1.0758926404878322, 1.055380857019403, 1.0349086314600058, 1.014491681596273, 0.9941456043254602, 0.9738858027746091, 0.9537274160128548, 0.9336852518728136, 0.9137737233548149, 0.8940067890422092, 0.87439789790753, 0.8549599388383812, 0.8357051951596578, 0.8166453043750912, 0.7977912232972142, 0.7791531986806551, 0.7607407434205484, 0.7425626183257272, 0.7246268194255083, 0.7069405707209584, 0.6895103222450669, 0.6723417532541505, 0.6554397803320594, 0.6388085701535788, 0.6224515566205643, 0.6063714620560264, 0.590570322117311, 0.5750495140692476, 0.5598097880426971, 0.5448513008919581, 0.5301736522575901], \"yaxis\": \"y\"}, {\"legendgroup\": \"Fiction\", \"marker\": {\"color\": \"gray\"}, \"mode\": \"lines\", \"name\": \"Fiction\", \"showlegend\": false, \"type\": \"scatter\", \"x\": [3.3, 3.3032, 3.3064, 3.3095999999999997, 3.3127999999999997, 3.316, 3.3192, 3.3224, 3.3255999999999997, 3.3287999999999998, 3.332, 3.3352, 3.3384, 3.3415999999999997, 3.3447999999999998, 3.348, 3.3512, 3.3544, 3.3575999999999997, 3.3608, 3.364, 3.3672, 3.3704, 3.3735999999999997, 3.3768, 3.38, 3.3832, 3.3864, 3.3895999999999997, 3.3928, 3.396, 3.3992, 3.4023999999999996, 3.4055999999999997, 3.4088, 3.412, 3.4152, 3.4183999999999997, 3.4215999999999998, 3.4248, 3.428, 3.4312, 3.4343999999999997, 3.4375999999999998, 3.4408, 3.444, 3.4472, 3.4503999999999997, 3.4536, 3.4568, 3.46, 3.4632, 3.4663999999999997, 3.4696, 3.4728, 3.476, 3.4792, 3.4823999999999997, 3.4856, 3.4888, 3.492, 3.4952, 3.4983999999999997, 3.5016, 3.5048, 3.508, 3.5112, 3.5143999999999997, 3.5176, 3.5208, 3.524, 3.5271999999999997, 3.5303999999999998, 3.5336, 3.5368, 3.54, 3.5431999999999997, 3.5463999999999998, 3.5496, 3.5528, 3.556, 3.5591999999999997, 3.5624, 3.5656, 3.5688, 3.572, 3.5751999999999997, 3.5784, 3.5816, 3.5848, 3.588, 3.5911999999999997, 3.5944, 3.5976, 3.6008, 3.604, 3.6071999999999997, 3.6104, 3.6136, 3.6168, 3.62, 3.6231999999999998, 3.6264, 3.6296, 3.6328, 3.636, 3.6391999999999998, 3.6424, 3.6456, 3.6488, 3.652, 3.6552, 3.6584, 3.6616, 3.6648, 3.668, 3.6712, 3.6744, 3.6776, 3.6808, 3.684, 3.6872, 3.6904, 3.6936, 3.6968, 3.7, 3.7032, 3.7064, 3.7096, 3.7128, 3.7159999999999997, 3.7192, 3.7224, 3.7256, 3.7288, 3.732, 3.7352, 3.7384, 3.7416, 3.7448, 3.748, 3.7512, 3.7544, 3.7576, 3.7608, 3.7640000000000002, 3.7672, 3.7704, 3.7736, 3.7768, 3.78, 3.7832, 3.7864, 3.7896, 3.7928, 3.796, 3.7992, 3.8024, 3.8056, 3.8087999999999997, 3.8120000000000003, 3.8152, 3.8184, 3.8216, 3.8247999999999998, 3.8280000000000003, 3.8312, 3.8344, 3.8376, 3.8407999999999998, 3.8440000000000003, 3.8472, 3.8504, 3.8536, 3.8568, 3.8600000000000003, 3.8632, 3.8664, 3.8696, 3.8728, 3.876, 3.8792, 3.8824, 3.8856, 3.8888, 3.892, 3.8952, 3.8984, 3.9016, 3.9048, 3.908, 3.9112, 3.9144, 3.9176, 3.9208, 3.924, 3.9272, 3.9304, 3.9336, 3.9368, 3.94, 3.9432, 3.9464, 3.9496, 3.9528, 3.956, 3.9592, 3.9624, 3.9656000000000002, 3.9688, 3.972, 3.9752, 3.9784, 3.9816000000000003, 3.9848, 3.988, 3.9912, 3.9944, 3.9976000000000003, 4.0008, 4.004, 4.0072, 4.0104, 4.0136, 4.0168, 4.02, 4.0232, 4.0264, 4.0296, 4.0328, 4.036, 4.0392, 4.0424, 4.0456, 4.0488, 4.052, 4.0552, 4.0584, 4.0616, 4.0648, 4.068, 4.0712, 4.0744, 4.0776, 4.0808, 4.084, 4.0872, 4.0904, 4.0936, 4.0968, 4.1, 4.1032, 4.1064, 4.1096, 4.1128, 4.116, 4.1192, 4.1224, 4.1256, 4.1288, 4.132, 4.1352, 4.1384, 4.1416, 4.1448, 4.148, 4.1512, 4.1544, 4.1576, 4.1608, 4.164, 4.1672, 4.1704, 4.1736, 4.1768, 4.18, 4.1832, 4.1864, 4.1896, 4.1928, 4.196, 4.1992, 4.2024, 4.2056000000000004, 4.2088, 4.212, 4.2152, 4.2184, 4.2216000000000005, 4.2248, 4.228, 4.2312, 4.2344, 4.2376000000000005, 4.2408, 4.244, 4.2472, 4.2504, 4.2536000000000005, 4.2568, 4.26, 4.2632, 4.2664, 4.2696000000000005, 4.2728, 4.276, 4.2792, 4.2824, 4.2856000000000005, 4.2888, 4.292, 4.2952, 4.2984, 4.3016000000000005, 4.3048, 4.308, 4.3112, 4.3144, 4.3176000000000005, 4.3208, 4.324, 4.3272, 4.3304, 4.333600000000001, 4.3368, 4.34, 4.3432, 4.3464, 4.349600000000001, 4.3528, 4.356, 4.3592, 4.3624, 4.365600000000001, 4.3688, 4.372, 4.3752, 4.3784, 4.381600000000001, 4.3848, 4.388, 4.3911999999999995, 4.3944, 4.397600000000001, 4.4008, 4.404, 4.4072, 4.4104, 4.413600000000001, 4.4168, 4.42, 4.4232, 4.4264, 4.429600000000001, 4.4328, 4.436, 4.4392, 4.4424, 4.445600000000001, 4.4488, 4.452, 4.4552, 4.4584, 4.461600000000001, 4.4648, 4.468, 4.4712000000000005, 4.4744, 4.477600000000001, 4.4808, 4.484, 4.4872000000000005, 4.4904, 4.493600000000001, 4.4968, 4.5, 4.5032000000000005, 4.5064, 4.509600000000001, 4.5128, 4.516, 4.5192000000000005, 4.5224, 4.525600000000001, 4.5288, 4.532, 4.535200000000001, 4.5384, 4.5416, 4.5448, 4.548, 4.551200000000001, 4.5544, 4.5576, 4.5608, 4.564, 4.567200000000001, 4.5704, 4.5736, 4.5768, 4.58, 4.583200000000001, 4.5864, 4.5896, 4.5928, 4.596, 4.599200000000001, 4.6024, 4.6056, 4.6088000000000005, 4.612, 4.615200000000001, 4.6184, 4.6216, 4.6248000000000005, 4.628, 4.631200000000001, 4.6344, 4.6376, 4.6408000000000005, 4.644, 4.6472, 4.6504, 4.6536, 4.6568000000000005, 4.66, 4.6632, 4.6664, 4.6696, 4.6728000000000005, 4.676, 4.6792, 4.6824, 4.6856, 4.6888000000000005, 4.692, 4.6952, 4.6984, 4.7016, 4.7048000000000005, 4.708, 4.7112, 4.7144, 4.7176, 4.7208000000000006, 4.724, 4.7272, 4.7304, 4.7336, 4.736800000000001, 4.74, 4.7432, 4.7464, 4.749600000000001, 4.752800000000001, 4.756, 4.7592, 4.7624, 4.765600000000001, 4.768800000000001, 4.772, 4.7752, 4.7784, 4.781600000000001, 4.784800000000001, 4.788, 4.7912, 4.7944, 4.7976, 4.800800000000001, 4.804, 4.8072, 4.8104000000000005, 4.8136, 4.816800000000001, 4.82, 4.8232, 4.8264000000000005, 4.8296, 4.832800000000001, 4.836, 4.8392, 4.8424000000000005, 4.8456, 4.848800000000001, 4.852, 4.8552, 4.8584000000000005, 4.8616, 4.864800000000001, 4.868, 4.8712, 4.8744000000000005, 4.8776, 4.880800000000001, 4.884, 4.8872, 4.8904000000000005, 4.8936, 4.896800000000001], \"xaxis\": \"x\", \"y\": [0.01882337133776123, 0.01881899288154779, 0.01879110730663535, 0.018739950629405627, 0.01866586093300422, 0.018569277229222032, 0.018450737718014785, 0.018310877460261117, 0.018150425484128166, 0.017970201349894056, 0.017771111202221936, 0.017554143342640723, 0.017320363358330444, 0.017070908846197178, 0.01680698377363248, 0.01652985251926643, 0.016240833638429004, 0.015941293398933798, 0.015632639133191312, 0.015316312452560732, 0.01499378236928057, 0.014666538370300339, 0.014336083485908062, 0.014003927394242265, 0.013671579600638892, 0.013340542728340876, 0.013012305954435302, 0.012688338622040376, 0.012370084056787526, 0.012058953612591024, 0.011756320968620344, 0.01146351669633964, 0.011181823112505908, 0.010912469431163297, 0.010656627224984236, 0.010415406203818764, 0.010189850316057536, 0.009980934176415171, 0.009789559822018797, 0.009616553797255388, 0.009462664566694335, 0.009328560254562303, 0.009214826708694586, 0.009121965886609124, 0.009050394561327049, 0.009000443344769044, 0.00897235602696296, 0.00896628922986684, 0.008982312375305813, 0.009020407967298952, 0.009080472189869022, 0.009162315822239316, 0.009265665474081348, 0.009390165144140938, 0.009535378106092923, 0.00970078912581818, 0.009885807014418994, 0.010089767521159546, 0.010311936570106529, 0.010551513843526006, 0.010807636714052245, 0.011079384526265931, 0.01136578322660295, 0.011665810338461037, 0.01197840027698943, 0.012302449995355473, 0.012636824951301242, 0.012980365379570834, 0.013331892852333015, 0.013690217106096015, 0.014054143109854646, 0.014422478345380104, 0.014794040266717195, 0.0151676639021496, 0.015542209558200334, 0.015916570581705893, 0.016289681132710843, 0.01666052391793426, 0.017028137831918953, 0.017391625450754376, 0.0177501603215086, 0.0181029939892732, 0.01844946270305408, 0.018788993741670073, 0.019121111301383914, 0.019445441888199983, 0.019761719159643712, 0.020069788163386455, 0.02036960892329498, 0.020661259327356827, 0.020944937276431274, 0.021220962057877234, 0.021489774913768127, 0.021751938779571958, 0.022008137175799476, 0.022259172242131503, 0.02250596191086922, 0.022749536224120397, 0.022991032806868875, 0.023231691515881215, 0.023472848292200126, 0.023715928252669837, 0.023962438063440006, 0.024213957645616336, 0.02447213127008216, 0.024738658104914175, 0.025015282284686927, 0.02530378257622055, 0.02560596171991227, 0.02592363552963989, 0.026258621837281188, 0.026612729370113358, 0.02698774665070703, 0.02738543100937966, 0.02780749779881839, 0.02825560989910574, 0.028731367599102234, 0.02923629893696726, 0.029771850578563228, 0.030339379307633814, 0.03094014419601092, 0.031575299515757736, 0.03224588844815775, 0.0329528376368847, 0.033696952624627824, 0.034478914203974365, 0.03529927570457587, 0.03615846122963016, 0.0370567648456042, 0.03799435072000524, 0.03897125419297401, 0.03998738375963016, 0.0410425239315408, 0.0421363389375052, 0.043268377216126766, 0.04443807664549461, 0.045644770448742544, 0.046887693708419734, 0.04816599041751005, 0.049478720990642745, 0.05082487015559225, 0.05220335514257382, 0.0536130340871595, 0.05505271456182709, 0.056521162151261885, 0.05801710898749717, 0.05953926216280807, 0.061086311940931184, 0.06265693969060475, 0.06424982546959877, 0.06586365519222961, 0.06749712731880708, 0.06914895901143822, 0.0708178917070758, 0.07250269606553204, 0.07420217625733579, 0.07591517356369726, 0.07764056926837651, 0.07937728682886856, 0.08112429332191419, 0.08288060016587773, 0.0846452631298977, 0.0864173816468939, 0.08819609745436395, 0.08998059259347199, 0.09177008680306509, 0.09356383435097791, 0.09536112035022672, 0.09716125661241487, 0.09896357709487505, 0.10076743300168008, 0.10257218760170395, 0.104377210829352, 0.10618187373541667, 0.10798554285673502, 0.10978757457394663, 0.11158730952663798, 0.11338406715459001, 0.11517714043263587, 0.11696579086489917, 0.11874924380185421, 0.12052668414080078, 0.12229725246698837, 0.12406004168877027, 0.12581409421585849, 0.12755839972503646, 0.12929189355255996, 0.1310134557470295, 0.13272191081074985, 0.13441602815157958, 0.1360945232610441, 0.13775605962811158, 0.1393992513915498, 0.14102266672726818, 0.14262483196053713, 0.1442042363865734, 0.145759337776686, 0.1472885685411141, 0.14879034251389067, 0.15026306231957162, 0.15170512727661095, 0.1531149417874927, 0.15449092416160345, 0.1558315158132078, 0.15713519077387084, 0.1584004654562529, 0.15962590860441742, 0.1608101513646829, 0.16195189741056698, 0.1630499330555618, 0.1641031372883157, 0.16511049166621974, 0.1660710900054421, 0.16698414780800772, 0.16784901136955407, 0.16866516651488606, 0.1694322469122482, 0.1701500419213511, 0.17081850393448078, 0.17143775517442272, 0.17200809391739805, 0.17253000011357478, 0.1730041403820002, 0.1734313723608218, 0.17381274839743385, 0.1741495185665966, 0.1744431330075795, 0.17469524357392224, 0.17490770479150114, 0.17508257412213313, 0.1752221115310288, 0.17532877835694602, 0.17540523548398645, 0.1754543408136026, 0.1754791460346304, 0.1754828926880639, 0.17546900752195546, 0.17544109713030248, 0.17540294186819827, 0.17535848903396062, 0.17531184530753466, 0.17526726843327, 0.17522915813435244, 0.1752020462458073, 0.17519058605319668, 0.17519954082496056, 0.1752337715280232, 0.17529822371865666, 0.1753979136039674, 0.1755379132735884, 0.17572333510639684, 0.1759593153632277, 0.1762509969837344, 0.1766035116135603, 0.17702196089695968, 0.1775113970797289, 0.17807680297772738, 0.1787230713773282, 0.17945498394559392, 0.18027718973974208, 0.181194183417438, 0.18221028326124314, 0.18332960914224858, 0.18455606055909693, 0.18589329489912093, 0.18734470607808607, 0.18891340372362103, 0.19060219307484388, 0.19241355577661662, 0.19434963175118583, 0.19641220233245624, 0.19860267484874083, 0.2009220688383011, 0.20337100407833142, 0.20594969060209273, 0.2086579208706891, 0.21149506425544243, 0.21446006397396106, 0.21755143660795023, 0.2207672743135494, 0.2241052498156815, 0.22756262425674295, 0.23113625794703885, 0.23482262403999635, 0.2386178251295001, 0.24251761274012343, 0.24651740965356328, 0.25061233498699037, 0.2547972319111111, 0.2590666978682515, 0.2634151171238092, 0.26783669545845945, 0.2723254967837435, 0.27687548144064145, 0.2814805459194582, 0.28613456372052887, 0.2908314270586619, 0.2955650891006136, 0.300329606414107, 0.30511918129919025, 0.30992820366852325, 0.3147512921419759, 0.31958333402353434, 0.3244195238342265, 0.32925540008409615, 0.3340868799788281, 0.33891029177236204, 0.3437224044956749, 0.3485204548135497, 0.35330217078535003, 0.35806579233240327, 0.36281008824311006, 0.36753436957716207, 0.3722384993618047, 0.3769228985056124, 0.38158854788835084, 0.3862369866188257, 0.390870306485778, 0.3954911426594863, 0.4001026607333809, 0.4047085402254723, 0.4093129546881897, 0.41392054860220096, 0.4185364112546194, 0.4231660478243219, 0.42781534791704395, 0.4324905518098226, 0.4371982146785614, 0.441945169093699, 0.4467384860769457, 0.45158543501733467, 0.45649344274671483, 0.46147005207411157, 0.46652288007462095, 0.47165957642212114, 0.47688778204624843, 0.4822150883828121, 0.4876489974735538, 0.4931968831560665, 0.4988659535678267, 0.5046632151704952, 0.5105954384813645, 0.5166691256793101, 0.5228904802322271, 0.5292653786728146, 0.5357993446291969, 0.5424975251972987, 0.5493646697226436, 0.5564051110411516, 0.563622749211418, 0.5710210377550711, 0.5786029724075933, 0.5863710823691393, 0.5943274240337492, 0.6024735771660729, 0.6108106434869005, 0.6193392476229699, 0.6280595403721443, 0.6369712042323459, 0.6460734611413279, 0.6553650823743322, 0.6648444005477095, 0.6745093236785092, 0.6843573512525525, 0.6943855922563467, 0.7045907851312009, 0.7149693196105446, 0.7255172604035933, 0.7362303726901298, 0.7471041493911149, 0.75813384017909, 0.7693144821893845, 0.7806409323887554, 0.79210790155156, 0.8037099897845859, 0.8154417235308995, 0.8272975939695305, 0.8392720967120072, 0.8513597726788542, 0.8635552500187169, 0.8758532869105209, 0.8882488150649287, 0.9007369837154962, 0.9133132038632511, 0.9259731925103021, 0.938713016590231, 0.9515291362746131, 0.9644184473076647, 0.9773783219944656, 0.9904066484435196, 1.0035018676417202, 1.0166630079203747, 1.0298897163540908, 1.0431822866225102, 1.0565416828562586, 1.0699695589858034, 1.0834682731141587, 1.0970408964421046, 1.110691216289177, 1.1244237327736484, 1.1382436487420715, 1.152156852572237, 1.166169893513769, 1.1802899492772678, 1.194524785636063, 1.2088827078639175, 1.2233725038971643, 1.2380033791800598, 1.252784883227549, 1.2677268280190666, 1.282839198419957, 1.2981320549130773, 1.313615429010718, 1.3292992118059639, 1.3451930362115154, 1.3613061535220023, 1.3776473050223044, 1.3942245894474867, 1.411045327179564, 1.428115922140526, 1.4454417224097231, 1.4630268806547388, 1.4808742155185552, 1.4989850751498746, 1.5173592040985138, 1.535994614821255, 1.5548874650567603, 1.574031942328589, 1.593420156823843, 1.6130420438706274, 1.6328852771999187, 1.6529351941267787, 1.6731747337223672, 1.6935843889711202, 1.7141421738186262, 1.7348236059140976, 1.7556017057389581, 1.7764470126895961, 1.797327618549703, 1.8182092186466663, 1.8390551808380062, 1.8598266323204462, 1.8804825640961909, 1.900979952770667, 1.9212738991957483, 1.9413177833120987, 1.961063434388588, 1.9804613157046365, 1.999460722576939, 2.0180099924960806, 2.0360567260129194, 2.053548016901345, 2.0704306900244016, 2.086651545246289, 2.1021576056645364, 2.116896368385876, 2.1308160560370966, 2.143865867187955, 2.1559962238690202, 2.16715901439172, 2.177307829721187, 2.1863981917148827, 2.1943877716192777, 2.2012365973136125, 2.2069072479014094, 2.211365034376508, 2.2145781652282297, 2.2165178959990457, 2.217158661964822, 2.216478193271093, 2.2144576120254857, 2.211081511015817, 2.2063380138911435, 2.2002188168090457, 2.1927192117125847, 2.1838380915541795, 2.1735779379283255, 2.1619447917088097, 2.1489482074081123, 2.1346011920850576, 2.1189201297203346, 2.1019246920583035, 2.083637736976172, 2.06408519548826, 2.04329594852384, 2.0213016946325824, 1.9981368097710246, 1.9738382003103507, 1.948445150377814, 1.9219991646055714, 1.8945438073111507, 1.8661245390749126, 1.836788551615029, 1.8065846017883342, 1.7755628454708803, 1.7437746719949094, 1.711272539740598, 1.6781098134055135, 1.6443406033998536, 1.610019607746057], \"yaxis\": \"y\"}],                        {\"barmode\": \"overlay\", \"font\": {\"color\": \"black\", \"family\": \"Arial\", \"size\": 12}, \"hovermode\": \"closest\", \"legend\": {\"traceorder\": \"reversed\"}, \"template\": {\"data\": {\"bar\": [{\"error_x\": {\"color\": \"rgb(36,36,36)\"}, \"error_y\": {\"color\": \"rgb(36,36,36)\"}, \"marker\": {\"line\": {\"color\": \"white\", \"width\": 0.5}}, \"type\": \"bar\"}], \"barpolar\": [{\"marker\": {\"line\": {\"color\": \"white\", \"width\": 0.5}}, \"type\": \"barpolar\"}], \"carpet\": [{\"aaxis\": {\"endlinecolor\": \"rgb(36,36,36)\", \"gridcolor\": \"white\", \"linecolor\": \"white\", \"minorgridcolor\": \"white\", \"startlinecolor\": \"rgb(36,36,36)\"}, \"baxis\": {\"endlinecolor\": \"rgb(36,36,36)\", \"gridcolor\": \"white\", \"linecolor\": \"white\", \"minorgridcolor\": \"white\", \"startlinecolor\": \"rgb(36,36,36)\"}, \"type\": \"carpet\"}], \"choropleth\": [{\"colorbar\": {\"outlinewidth\": 1, \"tickcolor\": \"rgb(36,36,36)\", \"ticks\": \"outside\"}, \"type\": \"choropleth\"}], \"contour\": [{\"colorbar\": {\"outlinewidth\": 1, \"tickcolor\": \"rgb(36,36,36)\", \"ticks\": \"outside\"}, \"colorscale\": [[0.0, \"#440154\"], [0.1111111111111111, \"#482878\"], [0.2222222222222222, \"#3e4989\"], [0.3333333333333333, \"#31688e\"], [0.4444444444444444, \"#26828e\"], [0.5555555555555556, \"#1f9e89\"], [0.6666666666666666, \"#35b779\"], [0.7777777777777778, \"#6ece58\"], [0.8888888888888888, \"#b5de2b\"], [1.0, \"#fde725\"]], \"type\": \"contour\"}], \"contourcarpet\": [{\"colorbar\": {\"outlinewidth\": 1, \"tickcolor\": \"rgb(36,36,36)\", \"ticks\": \"outside\"}, \"type\": \"contourcarpet\"}], \"heatmap\": [{\"colorbar\": {\"outlinewidth\": 1, \"tickcolor\": \"rgb(36,36,36)\", \"ticks\": \"outside\"}, \"colorscale\": [[0.0, \"#440154\"], [0.1111111111111111, \"#482878\"], [0.2222222222222222, \"#3e4989\"], [0.3333333333333333, \"#31688e\"], [0.4444444444444444, \"#26828e\"], [0.5555555555555556, \"#1f9e89\"], [0.6666666666666666, \"#35b779\"], [0.7777777777777778, \"#6ece58\"], [0.8888888888888888, \"#b5de2b\"], [1.0, \"#fde725\"]], \"type\": \"heatmap\"}], \"heatmapgl\": [{\"colorbar\": {\"outlinewidth\": 1, \"tickcolor\": \"rgb(36,36,36)\", \"ticks\": \"outside\"}, \"colorscale\": [[0.0, \"#440154\"], [0.1111111111111111, \"#482878\"], [0.2222222222222222, \"#3e4989\"], [0.3333333333333333, \"#31688e\"], [0.4444444444444444, \"#26828e\"], [0.5555555555555556, \"#1f9e89\"], [0.6666666666666666, \"#35b779\"], [0.7777777777777778, \"#6ece58\"], [0.8888888888888888, \"#b5de2b\"], [1.0, \"#fde725\"]], \"type\": \"heatmapgl\"}], \"histogram\": [{\"marker\": {\"line\": {\"color\": \"white\", \"width\": 0.6}}, \"type\": \"histogram\"}], \"histogram2d\": [{\"colorbar\": {\"outlinewidth\": 1, \"tickcolor\": \"rgb(36,36,36)\", \"ticks\": \"outside\"}, \"colorscale\": [[0.0, \"#440154\"], [0.1111111111111111, \"#482878\"], [0.2222222222222222, \"#3e4989\"], [0.3333333333333333, \"#31688e\"], [0.4444444444444444, \"#26828e\"], [0.5555555555555556, \"#1f9e89\"], [0.6666666666666666, \"#35b779\"], [0.7777777777777778, \"#6ece58\"], [0.8888888888888888, \"#b5de2b\"], [1.0, \"#fde725\"]], \"type\": \"histogram2d\"}], \"histogram2dcontour\": [{\"colorbar\": {\"outlinewidth\": 1, \"tickcolor\": \"rgb(36,36,36)\", \"ticks\": \"outside\"}, \"colorscale\": [[0.0, \"#440154\"], [0.1111111111111111, \"#482878\"], [0.2222222222222222, \"#3e4989\"], [0.3333333333333333, \"#31688e\"], [0.4444444444444444, \"#26828e\"], [0.5555555555555556, \"#1f9e89\"], [0.6666666666666666, \"#35b779\"], [0.7777777777777778, \"#6ece58\"], [0.8888888888888888, \"#b5de2b\"], [1.0, \"#fde725\"]], \"type\": \"histogram2dcontour\"}], \"mesh3d\": [{\"colorbar\": {\"outlinewidth\": 1, \"tickcolor\": \"rgb(36,36,36)\", \"ticks\": \"outside\"}, \"type\": \"mesh3d\"}], \"parcoords\": [{\"line\": {\"colorbar\": {\"outlinewidth\": 1, \"tickcolor\": \"rgb(36,36,36)\", \"ticks\": \"outside\"}}, \"type\": \"parcoords\"}], \"pie\": [{\"automargin\": true, \"type\": \"pie\"}], \"scatter\": [{\"marker\": {\"colorbar\": {\"outlinewidth\": 1, \"tickcolor\": \"rgb(36,36,36)\", \"ticks\": \"outside\"}}, \"type\": \"scatter\"}], \"scatter3d\": [{\"line\": {\"colorbar\": {\"outlinewidth\": 1, \"tickcolor\": \"rgb(36,36,36)\", \"ticks\": \"outside\"}}, \"marker\": {\"colorbar\": {\"outlinewidth\": 1, \"tickcolor\": \"rgb(36,36,36)\", \"ticks\": \"outside\"}}, \"type\": \"scatter3d\"}], \"scattercarpet\": [{\"marker\": {\"colorbar\": {\"outlinewidth\": 1, \"tickcolor\": \"rgb(36,36,36)\", \"ticks\": \"outside\"}}, \"type\": \"scattercarpet\"}], \"scattergeo\": [{\"marker\": {\"colorbar\": {\"outlinewidth\": 1, \"tickcolor\": \"rgb(36,36,36)\", \"ticks\": \"outside\"}}, \"type\": \"scattergeo\"}], \"scattergl\": [{\"marker\": {\"colorbar\": {\"outlinewidth\": 1, \"tickcolor\": \"rgb(36,36,36)\", \"ticks\": \"outside\"}}, \"type\": \"scattergl\"}], \"scattermapbox\": [{\"marker\": {\"colorbar\": {\"outlinewidth\": 1, \"tickcolor\": \"rgb(36,36,36)\", \"ticks\": \"outside\"}}, \"type\": \"scattermapbox\"}], \"scatterpolar\": [{\"marker\": {\"colorbar\": {\"outlinewidth\": 1, \"tickcolor\": \"rgb(36,36,36)\", \"ticks\": \"outside\"}}, \"type\": \"scatterpolar\"}], \"scatterpolargl\": [{\"marker\": {\"colorbar\": {\"outlinewidth\": 1, \"tickcolor\": \"rgb(36,36,36)\", \"ticks\": \"outside\"}}, \"type\": \"scatterpolargl\"}], \"scatterternary\": [{\"marker\": {\"colorbar\": {\"outlinewidth\": 1, \"tickcolor\": \"rgb(36,36,36)\", \"ticks\": \"outside\"}}, \"type\": \"scatterternary\"}], \"surface\": [{\"colorbar\": {\"outlinewidth\": 1, \"tickcolor\": \"rgb(36,36,36)\", \"ticks\": \"outside\"}, \"colorscale\": [[0.0, \"#440154\"], [0.1111111111111111, \"#482878\"], [0.2222222222222222, \"#3e4989\"], [0.3333333333333333, \"#31688e\"], [0.4444444444444444, \"#26828e\"], [0.5555555555555556, \"#1f9e89\"], [0.6666666666666666, \"#35b779\"], [0.7777777777777778, \"#6ece58\"], [0.8888888888888888, \"#b5de2b\"], [1.0, \"#fde725\"]], \"type\": \"surface\"}], \"table\": [{\"cells\": {\"fill\": {\"color\": \"rgb(237,237,237)\"}, \"line\": {\"color\": \"white\"}}, \"header\": {\"fill\": {\"color\": \"rgb(217,217,217)\"}, \"line\": {\"color\": \"white\"}}, \"type\": \"table\"}]}, \"layout\": {\"annotationdefaults\": {\"arrowhead\": 0, \"arrowwidth\": 1}, \"autotypenumbers\": \"strict\", \"coloraxis\": {\"colorbar\": {\"outlinewidth\": 1, \"tickcolor\": \"rgb(36,36,36)\", \"ticks\": \"outside\"}}, \"colorscale\": {\"diverging\": [[0.0, \"rgb(103,0,31)\"], [0.1, \"rgb(178,24,43)\"], [0.2, \"rgb(214,96,77)\"], [0.3, \"rgb(244,165,130)\"], [0.4, \"rgb(253,219,199)\"], [0.5, \"rgb(247,247,247)\"], [0.6, \"rgb(209,229,240)\"], [0.7, \"rgb(146,197,222)\"], [0.8, \"rgb(67,147,195)\"], [0.9, \"rgb(33,102,172)\"], [1.0, \"rgb(5,48,97)\"]], \"sequential\": [[0.0, \"#440154\"], [0.1111111111111111, \"#482878\"], [0.2222222222222222, \"#3e4989\"], [0.3333333333333333, \"#31688e\"], [0.4444444444444444, \"#26828e\"], [0.5555555555555556, \"#1f9e89\"], [0.6666666666666666, \"#35b779\"], [0.7777777777777778, \"#6ece58\"], [0.8888888888888888, \"#b5de2b\"], [1.0, \"#fde725\"]], \"sequentialminus\": [[0.0, \"#440154\"], [0.1111111111111111, \"#482878\"], [0.2222222222222222, \"#3e4989\"], [0.3333333333333333, \"#31688e\"], [0.4444444444444444, \"#26828e\"], [0.5555555555555556, \"#1f9e89\"], [0.6666666666666666, \"#35b779\"], [0.7777777777777778, \"#6ece58\"], [0.8888888888888888, \"#b5de2b\"], [1.0, \"#fde725\"]]}, \"colorway\": [\"#1F77B4\", \"#FF7F0E\", \"#2CA02C\", \"#D62728\", \"#9467BD\", \"#8C564B\", \"#E377C2\", \"#7F7F7F\", \"#BCBD22\", \"#17BECF\"], \"font\": {\"color\": \"rgb(36,36,36)\"}, \"geo\": {\"bgcolor\": \"white\", \"lakecolor\": \"white\", \"landcolor\": \"white\", \"showlakes\": true, \"showland\": true, \"subunitcolor\": \"white\"}, \"hoverlabel\": {\"align\": \"left\"}, \"hovermode\": \"closest\", \"mapbox\": {\"style\": \"light\"}, \"paper_bgcolor\": \"white\", \"plot_bgcolor\": \"white\", \"polar\": {\"angularaxis\": {\"gridcolor\": \"rgb(232,232,232)\", \"linecolor\": \"rgb(36,36,36)\", \"showgrid\": false, \"showline\": true, \"ticks\": \"outside\"}, \"bgcolor\": \"white\", \"radialaxis\": {\"gridcolor\": \"rgb(232,232,232)\", \"linecolor\": \"rgb(36,36,36)\", \"showgrid\": false, \"showline\": true, \"ticks\": \"outside\"}}, \"scene\": {\"xaxis\": {\"backgroundcolor\": \"white\", \"gridcolor\": \"rgb(232,232,232)\", \"gridwidth\": 2, \"linecolor\": \"rgb(36,36,36)\", \"showbackground\": true, \"showgrid\": false, \"showline\": true, \"ticks\": \"outside\", \"zeroline\": false, \"zerolinecolor\": \"rgb(36,36,36)\"}, \"yaxis\": {\"backgroundcolor\": \"white\", \"gridcolor\": \"rgb(232,232,232)\", \"gridwidth\": 2, \"linecolor\": \"rgb(36,36,36)\", \"showbackground\": true, \"showgrid\": false, \"showline\": true, \"ticks\": \"outside\", \"zeroline\": false, \"zerolinecolor\": \"rgb(36,36,36)\"}, \"zaxis\": {\"backgroundcolor\": \"white\", \"gridcolor\": \"rgb(232,232,232)\", \"gridwidth\": 2, \"linecolor\": \"rgb(36,36,36)\", \"showbackground\": true, \"showgrid\": false, \"showline\": true, \"ticks\": \"outside\", \"zeroline\": false, \"zerolinecolor\": \"rgb(36,36,36)\"}}, \"shapedefaults\": {\"fillcolor\": \"black\", \"line\": {\"width\": 0}, \"opacity\": 0.3}, \"ternary\": {\"aaxis\": {\"gridcolor\": \"rgb(232,232,232)\", \"linecolor\": \"rgb(36,36,36)\", \"showgrid\": false, \"showline\": true, \"ticks\": \"outside\"}, \"baxis\": {\"gridcolor\": \"rgb(232,232,232)\", \"linecolor\": \"rgb(36,36,36)\", \"showgrid\": false, \"showline\": true, \"ticks\": \"outside\"}, \"bgcolor\": \"white\", \"caxis\": {\"gridcolor\": \"rgb(232,232,232)\", \"linecolor\": \"rgb(36,36,36)\", \"showgrid\": false, \"showline\": true, \"ticks\": \"outside\"}}, \"title\": {\"x\": 0.05}, \"xaxis\": {\"automargin\": true, \"gridcolor\": \"rgb(232,232,232)\", \"linecolor\": \"rgb(36,36,36)\", \"showgrid\": false, \"showline\": true, \"ticks\": \"outside\", \"title\": {\"standoff\": 15}, \"zeroline\": false, \"zerolinecolor\": \"rgb(36,36,36)\"}, \"yaxis\": {\"automargin\": true, \"gridcolor\": \"rgb(232,232,232)\", \"linecolor\": \"rgb(36,36,36)\", \"showgrid\": false, \"showline\": true, \"ticks\": \"outside\", \"title\": {\"standoff\": 15}, \"zeroline\": false, \"zerolinecolor\": \"rgb(36,36,36)\"}}}, \"title\": {\"text\": \"\\u0421omparison of the distribution density in the group Non_fiction and the group\"}, \"xaxis\": {\"anchor\": \"y2\", \"domain\": [0.0, 1.0], \"zeroline\": false}, \"yaxis\": {\"anchor\": \"free\", \"domain\": [0.0, 1], \"position\": 0.0}},                        {\"responsive\": true}                    ).then(function(){\n",
       "                            \n",
       "var gd = document.getElementById('f5466be7-4ee1-4c38-8220-5879a8541995');\n",
       "var x = new MutationObserver(function (mutations, observer) {{\n",
       "        var display = window.getComputedStyle(gd).display;\n",
       "        if (!display || display === 'none') {{\n",
       "            console.log([gd, 'removed!']);\n",
       "            Plotly.purge(gd);\n",
       "            observer.disconnect();\n",
       "        }}\n",
       "}});\n",
       "\n",
       "// Listen for the removal of the full notebook cells\n",
       "var notebookContainer = gd.closest('#notebook-container');\n",
       "if (notebookContainer) {{\n",
       "    x.observe(notebookContainer, {childList: true});\n",
       "}}\n",
       "\n",
       "// Listen for the clearing of the current output cell\n",
       "var outputEl = gd.closest('.output');\n",
       "if (outputEl) {{\n",
       "    x.observe(outputEl, {childList: true});\n",
       "}}\n",
       "\n",
       "                        })                };                });            </script>        </div>"
      ]
     },
     "metadata": {},
     "output_type": "display_data"
    }
   ],
   "source": [
    "#Visualizing the density of distribution in samples\n",
    "#Create distplot with curve_type set to 'normal'\n",
    "fig_5 = ff.create_distplot([non_fiction, fiction], \n",
    "                         ['Non_fiction', 'Fiction'], \n",
    "                         colors=['LightSkyBlue', 'gray',],\n",
    "                         bin_size=.1, \n",
    "                         show_rug=False)\n",
    "\n",
    "# Add title\n",
    "fig_5.update_layout(title_text='Сomparison of the distribution density in the group Non_fiction and the group', \n",
    "                     template='simple_white',\n",
    "                     font=dict(family='Arial', size=12, color='black'))\n",
    "fig_5.show()"
   ]
  },
  {
   "cell_type": "markdown",
   "metadata": {},
   "source": [
    "As a result, we can see that users evaluate books differently depending on the genre, and based on the median values, readers give preference to works of fiction"
   ]
  },
  {
   "cell_type": "markdown",
   "metadata": {},
   "source": [
    "References URL:<br>\n",
    "<br> https://towardsdatascience.com/string-matching-with-fuzzywuzzy-e982c61f8a84\n",
    "<br> https://www.programcreek.com/python/example/100283/plotly.tools.make_subplots\n",
    "<br> https://codingnomads.co/blog/data-analysis-example-analyzing-movie-ratings-with-python/\n",
    "<br>https://www.programcreek.com/python/example/121873/plotly.subplots.make_subplots\n",
    "<br>https://machinelearningmastery.com/nonparametric-statistical-significance-tests-in-python/\n",
    "<br>https://towardsdatascience.com/determine-if-two-distributions-are-significantly-different-using-the-mann-whitney-u-test-1f79aa249ffb\n",
    "<br> https://codingnomads.co/blog/data-analysis-example-analyzing-movie-ratings-with-python/\n",
    "https://www.geeksforgeeks.org/fuzzywuzzy-python-library/\n",
    "<br>https://anaconda.org/conda-forge/plotly\n",
    "<br> https://plotly.com/python/reference/layout/"
   ]
  },
  {
   "cell_type": "code",
   "execution_count": null,
   "metadata": {},
   "outputs": [],
   "source": []
  }
 ],
 "metadata": {
  "kernelspec": {
   "display_name": "Python 3",
   "language": "python",
   "name": "python3"
  },
  "language_info": {
   "codemirror_mode": {
    "name": "ipython",
    "version": 3
   },
   "file_extension": ".py",
   "mimetype": "text/x-python",
   "name": "python",
   "nbconvert_exporter": "python",
   "pygments_lexer": "ipython3",
   "version": "3.8.5"
  }
 },
 "nbformat": 4,
 "nbformat_minor": 4
}
