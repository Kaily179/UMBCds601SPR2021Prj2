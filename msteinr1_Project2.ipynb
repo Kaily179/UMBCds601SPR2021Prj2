{
 "cells": [
  {
   "cell_type": "markdown",
   "metadata": {},
   "source": [
    "## Goodreads Book Data\n",
    "\n",
    "### Problem Statement:\n",
    "- Reading is my biggest hobby. I am interested in knowing which genres tend to have the highest ratings, whether male or female authors usually write specific types of books, what counties they are from, etc. One of my goals is to create a recommended book list for each genre - the must reads based on ratings. I may use a second dataset to match book titles with descriptions that I already found depending on the depth/time of my analysis.\n",
    "\n",
    "### Data Source Location:\n",
    "- The data was found on Kaggle at the following address:\n",
    "    - https://www.kaggle.com/choobani/goodread-authors?select=final_dataset.csv\n",
    "\t- Secondary dataset that pulls book descriptions:\n",
    "\t\t- https://www.kaggle.com/meetnaren/goodreads-best-books\n",
    "\n",
    "### Data Acquisition:\n",
    "- Data was acquired from a google search specifically looking for data sets that include author gender and country of origin. I tried to find something that also included a book description so I could scrape for keywords relating to genre, but I could not find a dataset including that and gender/country. I settled for a dataset that contained gender/country/genre and might include a second dataset to match book title to descriptions. This data was also found on kaggle. \n",
    "\n",
    "### Description of Available Data:\n",
    "- This data is 209517 rows x 20 columns. The columns include authorid, name, workcount, fan_count, gender, image_url,\tabout, born, died, influence\taverage_rate, rating_count, review_count, website, twitter, genre, original_hometown, country, latitude, and longitude. Several of the columns have a significant number of null-values, though not in the columns of most interest to me. The first dataset is 115MB and the potential second is 57.7MB. I know that this is technically larger than the limit provided in the project description. I believe part of this is due to some columns that are not relevent to my analysis and can be dropped. The main one is a column containing links to images of the authors. Without that column the dataset is less than 100MB. I can remove this prior to uploading or after uploading to Jupyter depending on which method you would prefer. \n",
    "\n",
    "### Data Usage: \n",
    "- This dataset was created using scraped data from Goodreads and was last updated 10 months ago. It was uploaded to kaggle for use by anyone who is interested. \n",
    "\n",
    "### Documentation: \n",
    "- From what I can tell there are simple visualizations created from the data but no documented processes for EDA, visualization, or analysis. \n",
    "\n",
    "### Hypotheses/Questions:\n",
    "- Men write more science fiction/fantasy than women.\n",
    "\t- what genre do women contribute to the most?\n",
    "- Women have higher \"follower\" count\n",
    "- What genres have the most submissions?\n",
    "- Which genres have the highest reviews/number of reviews?\n",
    "- Do men or women authors receive higher reviews?\n",
    "- Can books be classified by select words in the blurbs on the back?"
   ]
  },
  {
   "cell_type": "markdown",
   "metadata": {},
   "source": [
    "### Code Sources\n",
    "- https://stackoverflow.com/questions/54135085/create-new-column-based-on-string\n",
    "- https://davidhamann.de/2017/06/26/pandas-select-elements-by-string/\n",
    "- https://stackoverflow.com/questions/20076195/what-is-the-most-efficient-way-of-counting-occurrences-in-pandas\n",
    "- https://stackoverflow.com/questions/53997862/pandas-groupby-two-columns-and-plot\n",
    "- https://seaborn.pydata.org/generated/seaborn.displot.html#seaborn.displot\n",
    "- https://stackoverflow.com/questions/52135315/set-axis-maximum-with-seaborn-distplot/52135483\n",
    "- https://www.kaggle.com/tejainece/seaborn-barplot-and-pandas-value-counts\n",
    "- https://stackoverflow.com/questions/41494942/pandas-dataframe-groupby-plot\n",
    "- https://stackoverflow.com/questions/52132970/pandas-how-to-plot-the-pie-diagram-for-the-movie-counts-versus-genre-of-imdb-mo"
   ]
  },
  {
   "cell_type": "code",
   "execution_count": null,
   "metadata": {},
   "outputs": [],
   "source": [
    "import pandas as pd\n",
    "import numpy as np\n",
    "import seaborn as sns\n",
    "import matplotlib.pyplot as plt\n",
    "sns.set(font_scale=2.4)\n",
    "pd.options.mode.chained_assignment = None"
   ]
  },
  {
   "cell_type": "code",
   "execution_count": null,
   "metadata": {},
   "outputs": [],
   "source": [
    "# load csv\n",
    "df = pd.read_csv(\"final_dataset.csv\")"
   ]
  },
  {
   "cell_type": "code",
   "execution_count": null,
   "metadata": {},
   "outputs": [],
   "source": [
    "# basic info on dataframe\n",
    "df.info()"
   ]
  },
  {
   "cell_type": "code",
   "execution_count": null,
   "metadata": {},
   "outputs": [],
   "source": [
    "df.describe()"
   ]
  },
  {
   "cell_type": "code",
   "execution_count": null,
   "metadata": {},
   "outputs": [],
   "source": [
    "df.head()"
   ]
  },
  {
   "cell_type": "code",
   "execution_count": null,
   "metadata": {},
   "outputs": [],
   "source": [
    "# There are a lot of columns not needed for this analysis so they will be dropped for clarity\n",
    "df1 = df.drop(columns=['authorid', 'image_url', 'died', 'influence', 'website', 'twitter', 'original_hometown', 'latitude', 'longitude'])"
   ]
  },
  {
   "cell_type": "code",
   "execution_count": null,
   "metadata": {},
   "outputs": [],
   "source": [
    "df1.head()"
   ]
  },
  {
   "cell_type": "code",
   "execution_count": null,
   "metadata": {},
   "outputs": [],
   "source": [
    "# droping null values in the genre category because this is mainly about genre\n",
    "df2 = df1.dropna(subset=['genre'])"
   ]
  },
  {
   "cell_type": "code",
   "execution_count": null,
   "metadata": {},
   "outputs": [],
   "source": [
    "df2.head()"
   ]
  },
  {
   "cell_type": "code",
   "execution_count": null,
   "metadata": {},
   "outputs": [],
   "source": [
    "df2.info()"
   ]
  },
  {
   "cell_type": "markdown",
   "metadata": {},
   "source": [
    "## Country Analysis"
   ]
  },
  {
   "cell_type": "code",
   "execution_count": null,
   "metadata": {},
   "outputs": [],
   "source": [
    "# drop nulls from country for analysis. Not having these does not decrease value of data \n",
    "df_country = df1.dropna(subset=['country'])"
   ]
  },
  {
   "cell_type": "code",
   "execution_count": null,
   "metadata": {},
   "outputs": [],
   "source": [
    "df_country.info()"
   ]
  },
  {
   "cell_type": "code",
   "execution_count": null,
   "metadata": {},
   "outputs": [],
   "source": [
    "df_country.head()"
   ]
  },
  {
   "cell_type": "code",
   "execution_count": null,
   "metadata": {},
   "outputs": [],
   "source": [
    "# count the occurances of each country, create dataframe of top 20, rename columns\n",
    "country_count  = df_country['country'].value_counts()\n",
    "country_count = pd.DataFrame(country_count[:20]).reset_index()\n",
    "country_count.columns = ['country', 'workcount']"
   ]
  },
  {
   "cell_type": "code",
   "execution_count": null,
   "metadata": {},
   "outputs": [],
   "source": [
    "country_count"
   ]
  },
  {
   "cell_type": "code",
   "execution_count": null,
   "metadata": {},
   "outputs": [],
   "source": [
    "# plot country and count\n",
    "country_count.plot(kind='bar', title='Countries With the Most Published Works', x='country', y='workcount', figsize=(40,10)) \n",
    "plt.ylabel('Number of Entries')\n",
    "plt.xlabel('Country (Top 20)')\n",
    "plt.xticks(rotation=45)\n",
    "plt.show()"
   ]
  },
  {
   "cell_type": "code",
   "execution_count": null,
   "metadata": {},
   "outputs": [],
   "source": [
    "# plots pie chart containing top 5 percentage of total works per country (including those dropped for genre null values)\n",
    "df1.country.value_counts().iloc[:5].plot(kind='pie', autopct='%1.0f%%', figsize=(10,10), title=\"Country Makeup of Published Works (Top 5)\")\n",
    "plt.show()"
   ]
  },
  {
   "cell_type": "code",
   "execution_count": null,
   "metadata": {},
   "outputs": [],
   "source": [
    "# create new df that sorts by work count\n",
    "df3 = df2.sort_values('workcount', ascending=False)\n",
    "df3.head()"
   ]
  },
  {
   "cell_type": "code",
   "execution_count": null,
   "metadata": {},
   "outputs": [],
   "source": [
    "# create new df sorting by review count\n",
    "df4 = df2.sort_values('review_count', ascending=False)\n",
    "df4.head()"
   ]
  },
  {
   "cell_type": "code",
   "execution_count": null,
   "metadata": {},
   "outputs": [],
   "source": [
    "# plot number of authors per top 20 countries by gender\n",
    "plt.figure(figsize=(20,10))\n",
    "sns.countplot(data=df2,x='country',hue='gender', alpha=0.8, order=df2.country.value_counts().iloc[:20].index)\n",
    "plt.title('Author Gender and Country of Origin')\n",
    "plt.ylabel('Number of Occurrences')\n",
    "plt.xlabel('Country')\n",
    "plt.xticks(rotation=90)\n",
    "plt.show()"
   ]
  },
  {
   "cell_type": "markdown",
   "metadata": {},
   "source": [
    "### Conclusions: \n",
    "- from this data, the United States, United Kingdom, Canada, Australia, and France have the most published works\n",
    "- The United States makes up 60% of the published works\n",
    "- The United Kingdom makes up 18% of the published works\n",
    "- Canada Makes Up 5% of the published works\n",
    "- France and Germany each make up 4% of the published works\n",
    "- Of the top 20 countries, only Canada, Australia and Japan have more works by female authors"
   ]
  },
  {
   "cell_type": "markdown",
   "metadata": {},
   "source": [
    "## Genre Analysis:"
   ]
  },
  {
   "cell_type": "code",
   "execution_count": null,
   "metadata": {
    "scrolled": true
   },
   "outputs": [],
   "source": [
    "# creates list of most common genres starting with most common, maps the list to the genre column and splits \n",
    "# into new column containing one value with main genre\n",
    "values = ['science fiction', 'fantasy', 'fiction', 'classics', 'chick lit', 'beer', 'horror', 'home', \n",
    "          'juvenile', 'feminism', 'engineering', 'origami', 'nursing', 'games', 'knitting', 'ethics', \n",
    "          'anatomy', 'journalism', 'illustration', 'plays', 'theatre', 'regency', 'plays', 'computer gaming',\n",
    "          'construction', 'style guide', 'zoroastrianism', 'card games', 'web development', \n",
    "          'personal development', 'innovation', 'adaptation', 'stage plays', 'historical', 'psychology', \n",
    "          'manga', 'literature', 'cooking', 'disambiguation', 'philosophy', 'sex', 'culture', 'social studies', \n",
    "          'reference', 'cookbooks', 'technology', 'gender', 'graphic novels', 'programming', 'economy', \n",
    "          'music', 'sport', 'foreign policy', 'language', 'contemporary', 'dystopian', 'short stories', \n",
    "          'criticism', 'investing', 'geology', 'entertainment', 'play', 'pets', 'western', 'suspense', \n",
    "          'translation', 'animal', 'economics', 'health', 'architecture', 'archaeology', 'astrology', \n",
    "          'interior design', 'linguistics', 'folklore', 'political', 'nature', 'nonfiction', 'biographies', \n",
    "          'crime', 'spirituality', 'mystery', 'comics', 'art', 'young adult', 'history', 'comedy', \n",
    "          'paranormal', 'romance', 'children', 'poetry', 'business', 'non fiction', 'crafts', 'travel', \n",
    "          'computers', 'self help', 'science', 'religious', 'chronicles', 'ufology', 'photography', \n",
    "          'mathematics', 'hybrids', 'russia', 'occult', 'physics', 'terrorism', 'parenting', 'gardening', \n",
    "          'medicine', 'sociology', 'logic', 'psychotherapy', 'biology', 'zoology', 'theater', 'civil rights', \n",
    "          'current events', 'domestic abuse', 'international development', 'marketing', 'pop punk', 'law', \n",
    "          'survivalism', 'wine', 'prose', 'metaphysical', 'marx', 'etiquette', 'drama', 'sql', '3d', 'columns',\n",
    "          'realism', 'movies', 'botony', 'horses', 'news', 'firearms', 'biblical geography', 'film', 'maps', \n",
    "          'symbolism', 'botany', 'land reform', 'land reform', 'military', 'relationships', 'international studies',\n",
    "          'theonomy', 'cyberpunk', 'anthropology', 'existentialism', 'fashion', 'life', 'objectivism', \n",
    "          'hagiography', 'paracord', 'cross dressing', 'play', 'self defense', 'nutrition', 'chess', 'outdoors']\n",
    "\n",
    "conditions = list(map(df2['genre'].str.contains, values))\n",
    "\n",
    "df2['split_genres'] = np.select(conditions, values, 'other')\n",
    "\n",
    "df2.head(10)"
   ]
  },
  {
   "cell_type": "code",
   "execution_count": null,
   "metadata": {},
   "outputs": [],
   "source": [
    "# creates new dataframe with just the genres - used to develop most common genre list above \n",
    "#df_genres = pd.DataFrame(df2.split_genres.unique())\n",
    "#df_genres.columns = ['genre_list']"
   ]
  },
  {
   "cell_type": "code",
   "execution_count": null,
   "metadata": {},
   "outputs": [],
   "source": [
    "#df_genres"
   ]
  },
  {
   "cell_type": "code",
   "execution_count": null,
   "metadata": {},
   "outputs": [],
   "source": [
    "# used to narrow down genres until they got super obscure\n",
    "# df_genres[df_genres['split_genres'].str.match('other')]"
   ]
  },
  {
   "cell_type": "code",
   "execution_count": null,
   "metadata": {},
   "outputs": [],
   "source": [
    "# displays to 20 genres and the number of works in each \n",
    "df2.split_genres.value_counts().iloc[:20]"
   ]
  },
  {
   "cell_type": "code",
   "execution_count": null,
   "metadata": {},
   "outputs": [],
   "source": [
    "# plots top 20 genres by gender\n",
    "plt.figure(figsize=(20,10))\n",
    "sns.countplot(data=df2,x='split_genres',hue='gender', alpha=0.8, order=df2.split_genres.value_counts().iloc[:20].index)\n",
    "plt.title('Author Gender and Genre')\n",
    "plt.ylabel('Number of Occurrences')\n",
    "plt.xlabel('Genre')\n",
    "plt.xticks(rotation=90)\n",
    "plt.show()"
   ]
  },
  {
   "cell_type": "code",
   "execution_count": null,
   "metadata": {},
   "outputs": [],
   "source": [
    "# creates new dataframe that counts the occurances of each genre\n",
    "genre_count = pd.DataFrame(df2['split_genres'].value_counts().reset_index())\n",
    "genre_count = genre_count.rename({'index': 'genre', 'split_genres': 'count'}, axis=1)\n",
    "genre_count.head(10)"
   ]
  },
  {
   "cell_type": "code",
   "execution_count": null,
   "metadata": {
    "scrolled": true
   },
   "outputs": [],
   "source": [
    "# Plots genre counts\n",
    "plt.figure(figsize=(10,6))\n",
    "sns.countplot(data=df2,x='split_genres', alpha=0.8, order=df2.split_genres.value_counts().iloc[:20].index)\n",
    "plt.title('Most Popular Genres')\n",
    "plt.ylabel('Number of Titles')\n",
    "plt.xlabel('Genre (Top 20)')\n",
    "plt.xticks(rotation=90)\n",
    "plt.show()"
   ]
  },
  {
   "cell_type": "code",
   "execution_count": null,
   "metadata": {},
   "outputs": [],
   "source": [
    "# creates new dataframe grouping genres with their average rating\n",
    "# sort by highest rating \n",
    "genre_ratings = df2.groupby('split_genres', as_index=False)['average_rate'].mean()\n",
    "genre_ratings = genre_ratings.sort_values('average_rate', ascending=False)"
   ]
  },
  {
   "cell_type": "code",
   "execution_count": null,
   "metadata": {},
   "outputs": [],
   "source": [
    "genre_ratings.head()"
   ]
  },
  {
   "cell_type": "code",
   "execution_count": null,
   "metadata": {},
   "outputs": [],
   "source": [
    "# plots the top 20 mean ratings for genres\n",
    "genre_ratings.iloc[:30].plot(x = \"split_genres\", y = \"average_rate\", kind = \"bar\", figsize=(15,8), title=\"Mean Ratings for Genre (Top 20)\")\n",
    "plt.ylabel('Mean Average')\n",
    "plt.xlabel('Genre (Top 30)')\n",
    "plt.show()"
   ]
  },
  {
   "cell_type": "code",
   "execution_count": null,
   "metadata": {},
   "outputs": [],
   "source": [
    "genre_ratings.iloc[:20]"
   ]
  },
  {
   "cell_type": "code",
   "execution_count": null,
   "metadata": {},
   "outputs": [],
   "source": [
    "# greates new dataframe that groups by genre and fan count, sorts by highest fan count\n",
    "genre_fan_count = pd.DataFrame(df2.groupby('split_genres')['fan_count'].sum().reset_index().sort_values('fan_count', ascending=False))\n",
    "genre_fan_count"
   ]
  },
  {
   "cell_type": "code",
   "execution_count": null,
   "metadata": {},
   "outputs": [],
   "source": [
    "# plot top 20 fan count for genre\n",
    "genre_fan_count.iloc[:20].plot(x = \"split_genres\", y = \"fan_count\", kind = \"bar\", figsize=(15,8), title=\"Fan Count By Genre\")\n",
    "plt.gcf().axes[0].yaxis.get_major_formatter().set_scientific(False)\n",
    "plt.ylabel('Number of Fans')\n",
    "plt.xlabel('Genre (Top 20)')\n",
    "plt.show()"
   ]
  },
  {
   "cell_type": "code",
   "execution_count": null,
   "metadata": {},
   "outputs": [],
   "source": [
    "# greates new dataframe that groups by genre and review count, sorts by highest review count\n",
    "genre_review_count = pd.DataFrame(df2.groupby('split_genres')['review_count'].sum().reset_index().sort_values('review_count', ascending=False))\n",
    "genre_review_count"
   ]
  },
  {
   "cell_type": "code",
   "execution_count": null,
   "metadata": {},
   "outputs": [],
   "source": [
    "# plot top 20 review count for genre\n",
    "genre_review_count.iloc[:20].plot(x = \"split_genres\", y = \"review_count\", kind = \"bar\", figsize=(15,10), title=\"Review Count By Genre\")\n",
    "plt.gcf().axes[0].yaxis.get_major_formatter().set_scientific(False)\n",
    "plt.ylabel('Number of Reviews')\n",
    "plt.xlabel('Genre (Top 20)')\n",
    "plt.show()"
   ]
  },
  {
   "cell_type": "code",
   "execution_count": null,
   "metadata": {},
   "outputs": [],
   "source": [
    "# shows top 20 review count\n",
    "genre_review_count.iloc[:20]"
   ]
  },
  {
   "cell_type": "code",
   "execution_count": null,
   "metadata": {},
   "outputs": [],
   "source": [
    "df2['born']= pd.to_datetime(df2['born'])"
   ]
  },
  {
   "cell_type": "code",
   "execution_count": null,
   "metadata": {},
   "outputs": [],
   "source": [
    "df2['year_born'] = pd.DatetimeIndex(df2['born']).year"
   ]
  },
  {
   "cell_type": "code",
   "execution_count": null,
   "metadata": {},
   "outputs": [],
   "source": [
    "born_df = df2.dropna(subset=['year_born'])\n",
    "born_df['year_born'] = born_df.year_born.astype(int)\n",
    "born_df.head()"
   ]
  },
  {
   "cell_type": "code",
   "execution_count": null,
   "metadata": {},
   "outputs": [],
   "source": [
    "born_df_genre = pd.DataFrame(born_df['split_genres'].value_counts().iloc[:10]).reset_index()"
   ]
  },
  {
   "cell_type": "code",
   "execution_count": null,
   "metadata": {},
   "outputs": [],
   "source": [
    "born_df_genre['index'].to_list()"
   ]
  },
  {
   "cell_type": "code",
   "execution_count": null,
   "metadata": {},
   "outputs": [],
   "source": [
    "born_df = born_df[born_df['split_genres'].isin(['fiction','fantasy','biographies','history','mystery','spirituality',\n",
    " 'poetry','children','philosophy','graphic novels'])]"
   ]
  },
  {
   "cell_type": "code",
   "execution_count": null,
   "metadata": {},
   "outputs": [],
   "source": [
    "born_df = born_df.sort_values('year_born').reset_index()\n",
    "born_df.drop(['index'], inplace=True, axis=1)\n",
    "born_df.head()"
   ]
  },
  {
   "cell_type": "code",
   "execution_count": null,
   "metadata": {},
   "outputs": [],
   "source": [
    "# plots top 10 genres by year born \n",
    "plt.figure(figsize=(20,15))\n",
    "sns.countplot(data=born_df,x='year_born',hue='split_genres', alpha=0.8, order=df2.year_born.value_counts().iloc[:20].index.sort_values(), dodge=False)\n",
    "plt.title('Count of Works Per Year by Genre')\n",
    "plt.ylabel('Number Per Year')\n",
    "plt.xlabel('Year')\n",
    "plt.xticks(rotation=45)\n",
    "plt.show()"
   ]
  },
  {
   "cell_type": "markdown",
   "metadata": {},
   "source": [
    "#### Conclusion\n",
    "- Out of the top 20 genres in this dataset according to number of works, women tend to write more fantasy, mystery, contemporary, chidrens bookd, romance, sex, suspense and chick lit books. Science fiction did not make the top 20 according to work count. \n",
    "- Men wrote more fiction, history, biographies, spiritual books, poetry, philosophy, graphic novels, horror, crime, psychology and art. \n",
    "- The unknown section includes nonbinary authors as well as those that don't have that data filled in. \n",
    "- fiction and fantasy had by far the largest number of works, though neither fall into the top 20 rated category. This is most likely due to the larger number of entries and the likelyhood of readers taking the time to rate them. \n",
    "- This can be demonstrated in the fan count - these are people who consistently follow, are up to date with specific authors, and regularly review their work. \n",
    "- fiction has the highest number of works throughout the years sampled (top 20 based on number of works. Followd mostly by fantasy and then mystery with a couple outliers. "
   ]
  },
  {
   "cell_type": "markdown",
   "metadata": {},
   "source": [
    "## Author Analysis: "
   ]
  },
  {
   "cell_type": "code",
   "execution_count": null,
   "metadata": {},
   "outputs": [],
   "source": [
    "# plot top 30 author work counts - starts after the the first 3 because they are companies, not people\n",
    "df3.iloc[3:33].plot(kind='bar', title='Top 30 Author Work Count', x='name', y='workcount', figsize=(40,10)) \n",
    "plt.ylabel('Number of Published Works')\n",
    "plt.xlabel('Author (Top 30)')\n",
    "plt.show()"
   ]
  },
  {
   "cell_type": "code",
   "execution_count": null,
   "metadata": {},
   "outputs": [],
   "source": [
    "# plot top 20 authors by number of works skipping first 3 because they are corporations\n",
    "df2.sort_values('workcount', ascending=False).iloc[3:23].plot(kind='bar', title='Top 20 Authors by Work Count', x='name', y='workcount', figsize=(40,10))\n",
    "plt.ylabel('Work Count')\n",
    "plt.xlabel('Author (Top 20 Work Count)')\n",
    "plt.show()"
   ]
  },
  {
   "cell_type": "code",
   "execution_count": null,
   "metadata": {},
   "outputs": [],
   "source": [
    "# plot top 100 authors by average rate\n",
    "df2.iloc[1:101].plot(kind='bar', title='Random Sample of Author Ratings', x='name', y='average_rate', figsize=(40,10))\n",
    "plt.ylabel('Rating')\n",
    "plt.xlabel('Author (Random 100)')\n",
    "plt.show()"
   ]
  },
  {
   "cell_type": "code",
   "execution_count": null,
   "metadata": {},
   "outputs": [],
   "source": [
    "# plot top 30 review counts\n",
    "df4.iloc[:30].plot(kind='bar', title='Authors With Most Reviews', x='name', y='review_count', figsize=(40,10))\n",
    "plt.ylabel('Number of Reviews')\n",
    "plt.xlabel('Author (Top 30)')\n",
    "plt.show()"
   ]
  },
  {
   "cell_type": "code",
   "execution_count": null,
   "metadata": {},
   "outputs": [],
   "source": [
    "# plot top 20 authors by number of reviews\n",
    "df2.sort_values('review_count', ascending=False).iloc[:20].plot(kind='bar', title='Top 20 Authors by Review Count', x='name', y='review_count', figsize=(40,10))\n",
    "plt.ylabel('Review Count')\n",
    "plt.xlabel('Author (Top 20 Review Count)')\n",
    "plt.show()"
   ]
  },
  {
   "cell_type": "code",
   "execution_count": null,
   "metadata": {},
   "outputs": [],
   "source": [
    "# plot top 20 authors by number of fans \n",
    "df2.sort_values('fan_count', ascending=False).iloc[:20].plot(kind='bar', title='Top 20 Authors by Fan Count', x='name', y='fan_count', figsize=(40,10))\n",
    "plt.ylabel('Fan Count')\n",
    "plt.xlabel('Author (Top 20 Fan Count)')\n",
    "plt.show()"
   ]
  },
  {
   "cell_type": "markdown",
   "metadata": {},
   "source": [
    "### Conclusions:\n",
    "- William Shakespear has the highest work count at over 5000. This value is most likely inflated due to translations into different languages being included. \n",
    "- Stephen King has the highest number of fans\n",
    "- JK Rowling has the highest number of reviews"
   ]
  },
  {
   "cell_type": "markdown",
   "metadata": {},
   "source": [
    "## Gender Analysis: "
   ]
  },
  {
   "cell_type": "code",
   "execution_count": null,
   "metadata": {},
   "outputs": [],
   "source": [
    "# create new dataframe sorting by average rate\n",
    "df5 = df2.sort_values('average_rate', ascending=False)\n",
    "df5.head()"
   ]
  },
  {
   "cell_type": "code",
   "execution_count": null,
   "metadata": {},
   "outputs": [],
   "source": [
    "# create new dataframe counting number of authors by gender\n",
    "gender_count = pd.DataFrame(df2['gender'].value_counts())\n",
    "gender_count"
   ]
  },
  {
   "cell_type": "code",
   "execution_count": null,
   "metadata": {},
   "outputs": [],
   "source": [
    "# plot gender count of authors (using all entries including those droped for genre null values)\n",
    "plt.figure(figsize=(20,10))\n",
    "sns.countplot(data=df1,x='gender', alpha=0.8, order=df2.gender.value_counts().iloc[:3].index)\n",
    "plt.title('Gender Makeup of Authors')\n",
    "plt.ylabel('Number of Titles')\n",
    "plt.xlabel('Gender')\n",
    "plt.xticks(rotation=45)\n",
    "plt.show()"
   ]
  },
  {
   "cell_type": "code",
   "execution_count": null,
   "metadata": {},
   "outputs": [],
   "source": [
    "# plots pie chart containing percentage of total authors in each gender (including those dropped for genre null values)\n",
    "df1.gender.value_counts().plot(kind='pie', autopct='%1.0f%%', figsize=(10,10), title=\"Author Gender Makeup of Published Works\")\n",
    "plt.show()"
   ]
  },
  {
   "cell_type": "code",
   "execution_count": null,
   "metadata": {},
   "outputs": [],
   "source": [
    "# plot gender count of authors (dropped genre nulls)\n",
    "plt.figure(figsize=(20,10))\n",
    "sns.countplot(data=df2,x='gender', alpha=0.8, order=df2.gender.value_counts().iloc[:3].index)\n",
    "plt.title('Gender Makeup of Authors')\n",
    "plt.ylabel('Number of Titles')\n",
    "plt.xlabel('Gender')\n",
    "plt.xticks(rotation=45)\n",
    "plt.show()"
   ]
  },
  {
   "cell_type": "code",
   "execution_count": null,
   "metadata": {},
   "outputs": [],
   "source": [
    "# plots pie chart containing percentage of total authors in each gender (dropped genre nulls)\n",
    "df2.gender.value_counts().plot(kind='pie', autopct='%1.0f%%', figsize=(10,10), title=\"Author Gender Makeup of Published Works\")\n",
    "plt.show()"
   ]
  },
  {
   "cell_type": "code",
   "execution_count": null,
   "metadata": {},
   "outputs": [],
   "source": [
    "# create new dataframe containing only female authors\n",
    "df_female1 = df1[(df1.gender.str.contains('female'))]\n",
    "df_female2 = df2[(df2.gender.str.contains('female'))]"
   ]
  },
  {
   "cell_type": "code",
   "execution_count": null,
   "metadata": {},
   "outputs": [],
   "source": [
    "df_female1.info()"
   ]
  },
  {
   "cell_type": "code",
   "execution_count": null,
   "metadata": {},
   "outputs": [],
   "source": [
    "df_female1.head()"
   ]
  },
  {
   "cell_type": "code",
   "execution_count": null,
   "metadata": {},
   "outputs": [],
   "source": [
    "# create new datraframe containing only male authors\n",
    "df_male1 = df1[(df1.gender.str.match('male'))]\n",
    "df_male2 = df2[(df2.gender.str.match('male'))]"
   ]
  },
  {
   "cell_type": "code",
   "execution_count": null,
   "metadata": {},
   "outputs": [],
   "source": [
    "df_male1.info()"
   ]
  },
  {
   "cell_type": "code",
   "execution_count": null,
   "metadata": {},
   "outputs": [],
   "source": [
    "df_male1.head()"
   ]
  },
  {
   "cell_type": "code",
   "execution_count": null,
   "metadata": {},
   "outputs": [],
   "source": [
    "# create new dataframe containing only unknown gender authors \n",
    "df_unknown1 = df1[(df1.gender.str.contains('unknown'))]\n",
    "df_unknown2 = df2[(df2.gender.str.contains('unknown'))]"
   ]
  },
  {
   "cell_type": "code",
   "execution_count": null,
   "metadata": {},
   "outputs": [],
   "source": [
    "df_unknown1.info()"
   ]
  },
  {
   "cell_type": "code",
   "execution_count": null,
   "metadata": {},
   "outputs": [],
   "source": [
    "# sorts df_female by split_genre\n",
    "df_female2 = df_female2.sort_values('split_genres')"
   ]
  },
  {
   "cell_type": "code",
   "execution_count": null,
   "metadata": {},
   "outputs": [],
   "source": [
    "df_female2.head()"
   ]
  },
  {
   "cell_type": "code",
   "execution_count": null,
   "metadata": {
    "scrolled": true
   },
   "outputs": [],
   "source": [
    "# plot distribution of average rating by gender including genre nulls\n",
    "sns.displot(data=df1, x=\"average_rate\", hue='gender', kde=True, height=10, aspect=2)\n",
    "plt.title(\"Average Rating Distribution by Gender (With Genre Nulls)\")\n",
    "plt.xlim(2.5,5)"
   ]
  },
  {
   "cell_type": "code",
   "execution_count": null,
   "metadata": {},
   "outputs": [],
   "source": [
    "# plot distribution of average rating by gender without genre nulls\n",
    "sns.displot(data=df2, x=\"average_rate\", hue='gender', kde=True, height=10, aspect=2)\n",
    "plt.title(\"Average Rating Distribution by Gender Without Genre Nulls\")\n",
    "plt.xlim(2.5,5)"
   ]
  },
  {
   "cell_type": "code",
   "execution_count": null,
   "metadata": {},
   "outputs": [],
   "source": [
    "# creates new dataframe grouping by gender and counting reviews using df including genre nulls\n",
    "review_count1 = pd.DataFrame(df1.groupby('gender')['review_count'].sum().reset_index())\n",
    "review_count1"
   ]
  },
  {
   "cell_type": "code",
   "execution_count": null,
   "metadata": {},
   "outputs": [],
   "source": [
    "# creates new dataframe grouping by gender and counting reviews without genre nulls\n",
    "review_count2 = pd.DataFrame(df2.groupby('gender')['review_count'].sum().reset_index())\n",
    "review_count2"
   ]
  },
  {
   "cell_type": "code",
   "execution_count": null,
   "metadata": {},
   "outputs": [],
   "source": [
    "# plot review count by gender - including genre nulls\n",
    "review_count1.plot(x = \"gender\", y = \"review_count\", kind = \"bar\", figsize=(15,10), title=\"Review Count by Gender\")\n",
    "plt.gcf().axes[0].yaxis.get_major_formatter().set_scientific(False)\n",
    "plt.ylabel('Number of Reviews')\n",
    "plt.xlabel('Gender')\n",
    "plt.xticks(rotation=45)\n",
    "plt.show()"
   ]
  },
  {
   "cell_type": "code",
   "execution_count": null,
   "metadata": {},
   "outputs": [],
   "source": [
    "# plot review count by gender without genre nulls\n",
    "review_count2.plot(x = \"gender\", y = \"review_count\", kind = \"bar\", figsize=(15,10), title=\"Review Count by Gender\")\n",
    "plt.gcf().axes[0].yaxis.get_major_formatter().set_scientific(False)\n",
    "plt.ylabel('Number of Reviews')\n",
    "plt.xlabel('Gender')\n",
    "plt.xticks(rotation=45)\n",
    "plt.show()"
   ]
  },
  {
   "cell_type": "code",
   "execution_count": null,
   "metadata": {},
   "outputs": [],
   "source": [
    "# creates new dataframe grouping by gender and total fan count - with genre nulls\n",
    "fan_count1 = pd.DataFrame(df1.groupby('gender')['fan_count'].sum().reset_index())\n",
    "fan_count1"
   ]
  },
  {
   "cell_type": "code",
   "execution_count": null,
   "metadata": {},
   "outputs": [],
   "source": [
    "# creates new dataframe grouping by gender and total fan count - without genre nulls\n",
    "fan_count2 = pd.DataFrame(df2.groupby('gender')['fan_count'].sum().reset_index())\n",
    "fan_count2"
   ]
  },
  {
   "cell_type": "code",
   "execution_count": null,
   "metadata": {},
   "outputs": [],
   "source": [
    "# plot fan count by gender - with genre nulls\n",
    "fan_count1.plot(x = \"gender\", y = \"fan_count\", kind = \"bar\", figsize=(15,10), title=\"Fan Count By Gender\")\n",
    "plt.gcf().axes[0].yaxis.get_major_formatter().set_scientific(False)\n",
    "plt.ylabel('Number of Fans')\n",
    "plt.xlabel('Gender')\n",
    "plt.xticks(rotation=45)\n",
    "plt.show()"
   ]
  },
  {
   "cell_type": "code",
   "execution_count": null,
   "metadata": {},
   "outputs": [],
   "source": [
    "# plot fan count by gender - without genre nulls\n",
    "fan_count2.plot(x = \"gender\", y = \"fan_count\", kind = \"bar\", figsize=(15,10), title=\"Fan Count By Gender\")\n",
    "plt.gcf().axes[0].yaxis.get_major_formatter().set_scientific(False)\n",
    "plt.ylabel('Number of Fans')\n",
    "plt.xlabel('Gender')\n",
    "plt.xticks(rotation=45)\n",
    "plt.show()"
   ]
  },
  {
   "cell_type": "code",
   "execution_count": null,
   "metadata": {},
   "outputs": [],
   "source": [
    "# creates new dataframe grouped by gender and total work count - with genre nulls\n",
    "work_count1 = pd.DataFrame(df1.groupby('gender')['workcount'].sum().reset_index())\n",
    "work_count1"
   ]
  },
  {
   "cell_type": "code",
   "execution_count": null,
   "metadata": {},
   "outputs": [],
   "source": [
    "# creates new dataframe grouped by gender and total work count - without genre nulls\n",
    "work_count2 = pd.DataFrame(df2.groupby('gender')['workcount'].sum().reset_index())\n",
    "work_count2"
   ]
  },
  {
   "cell_type": "code",
   "execution_count": null,
   "metadata": {},
   "outputs": [],
   "source": [
    "# plot work count by gender - with genre nulls\n",
    "work_count1.plot(x = \"gender\", y = \"workcount\", kind = \"bar\", figsize=(15,10), title=\"Work Count by Gender\")\n",
    "plt.gcf().axes[0].yaxis.get_major_formatter().set_scientific(False)\n",
    "plt.ylabel('Number of Published Works')\n",
    "plt.xlabel('Gender')\n",
    "plt.xticks(rotation=45)\n",
    "plt.show()"
   ]
  },
  {
   "cell_type": "code",
   "execution_count": null,
   "metadata": {},
   "outputs": [],
   "source": [
    "# plot work count by gender - with genre nulls\n",
    "work_count2.plot(x = \"gender\", y = \"workcount\", kind = \"bar\", figsize=(15,10), title=\"Work Count by Gender\")\n",
    "plt.gcf().axes[0].yaxis.get_major_formatter().set_scientific(False)\n",
    "plt.ylabel('Number of Published Works')\n",
    "plt.xlabel('Gender')\n",
    "plt.xticks(rotation=45)\n",
    "plt.show()"
   ]
  },
  {
   "cell_type": "code",
   "execution_count": null,
   "metadata": {},
   "outputs": [],
   "source": [
    "# creates new dataframe that counts number of works per genre for females\n",
    "female_genre_count = pd.DataFrame(df_female2['split_genres'].value_counts()).reset_index()\n",
    "female_genre_count.head(30)"
   ]
  },
  {
   "cell_type": "code",
   "execution_count": null,
   "metadata": {},
   "outputs": [],
   "source": [
    "female_genre_count[female_genre_count['index'].str.contains(\"science fiction\")]"
   ]
  },
  {
   "cell_type": "code",
   "execution_count": null,
   "metadata": {},
   "outputs": [],
   "source": [
    "# creates new dataframe that counts number of works per genre for males\n",
    "male_genre_count = pd.DataFrame(df_male2['split_genres'].value_counts()).reset_index()\n",
    "male_genre_count.head(10)"
   ]
  },
  {
   "cell_type": "code",
   "execution_count": null,
   "metadata": {},
   "outputs": [],
   "source": [
    "male_genre_count[male_genre_count['index'].str.contains(\"science fiction\")]"
   ]
  },
  {
   "cell_type": "code",
   "execution_count": null,
   "metadata": {},
   "outputs": [],
   "source": [
    "# creates new dataframe that counts number of works per genre for unknown gender\n",
    "unknown_genre_count = pd.DataFrame(df_unknown2['split_genres'].value_counts()).reset_index()\n",
    "unknown_genre_count.head(20)"
   ]
  },
  {
   "cell_type": "code",
   "execution_count": null,
   "metadata": {
    "scrolled": true
   },
   "outputs": [],
   "source": [
    "unknown_genre_count[unknown_genre_count['index'].str.contains(\"science fiction\")]"
   ]
  },
  {
   "cell_type": "markdown",
   "metadata": {},
   "source": [
    "#### Conclusion\n",
    "- According to this data, women actually wrote double the number of science fiction. This is diminished by the data being created as a user conglomerate, though interesting. "
   ]
  },
  {
   "cell_type": "code",
   "execution_count": null,
   "metadata": {},
   "outputs": [],
   "source": [
    "# descriptive statistics for female average rating - with genre nulls\n",
    "female_stats1 = df_female1['average_rate'].describe()\n",
    "female_stats1"
   ]
  },
  {
   "cell_type": "code",
   "execution_count": null,
   "metadata": {},
   "outputs": [],
   "source": [
    "# descriptive statistics for female average rating - without genre nulls\n",
    "female_stats2 = df_female2['average_rate'].describe()\n",
    "female_stats2"
   ]
  },
  {
   "cell_type": "code",
   "execution_count": null,
   "metadata": {},
   "outputs": [],
   "source": [
    "# descriptive statistics for male average rating - with genre nulls\n",
    "male_stats1 = df_male1['average_rate'].describe()\n",
    "male_stats1"
   ]
  },
  {
   "cell_type": "code",
   "execution_count": null,
   "metadata": {},
   "outputs": [],
   "source": [
    "# descriptive statistics for male average rating - without genre nulls\n",
    "male_stats2 = df_male2['average_rate'].describe()\n",
    "male_stats2"
   ]
  },
  {
   "cell_type": "code",
   "execution_count": null,
   "metadata": {},
   "outputs": [],
   "source": [
    "# descriptive statistics for unknown gender average rating - with genre nulls\n",
    "unknown_stats1 = df_unknown1['average_rate'].describe()\n",
    "unknown_stats1"
   ]
  },
  {
   "cell_type": "code",
   "execution_count": null,
   "metadata": {},
   "outputs": [],
   "source": [
    "# descriptive statistics for unknown gender average rating - with genre nulls\n",
    "unknown_stats2 = df_unknown2['average_rate'].describe()\n",
    "unknown_stats2"
   ]
  },
  {
   "cell_type": "markdown",
   "metadata": {},
   "source": [
    "### Conclusion: \n",
    "- According to this dataset, the highest number of works (58%) are written by authors of unknown genders. This is due to nonbinary authors as well as those missing gender entries in their profiles. Males wrote 22% and females wrote 20%. \n",
    "- If we use the dataset that drops the null values in genre, which is the most beneficial for genre analysis, males wrote 42%, females wrote 41%, and unknown wrote 17%. \n",
    "- There appears to be a normal distribution in regards to average rating between all gender categories with and without the genre null values\n",
    "- Females have a higher review and fan count despite men having more published works\n",
    "- Men have a higher work count (except when using the dataframe that did not drop genre null values\n",
    "- Men, women, and unknown all have a 3.8 average rating with genre nulls and 3.9 without"
   ]
  },
  {
   "cell_type": "markdown",
   "metadata": {},
   "source": [
    "# Final Conclusions:\n",
    "## Hypotheses/Questions:\n",
    "### Men write more science fiction/fantasy than women.\n",
    "- False. I find this very interesting as it is one of my favorite genres and I assumed men to be the primary contributors. Here is an interesting article on it:\n",
    "    - https://www.wired.com/2019/02/geeks-guide-history-women-sci-fi/\n",
    "    \n",
    "### what genre do women contribute to the most?\n",
    "- fantasy, mystery, contemporary, chidrens bookd, romance, sex, suspense and chick lit books\n",
    "\n",
    "### Women have higher \"follower\" count\n",
    "- True. I assumed this because while men contributed more works, women tend to read more books by women and support them by leaving more reviews and keeping up with the authors via becoming a 'fan' on Goodreads\n",
    "\n",
    "### What genres have the most submissions?\n",
    "- Top 20\n",
    "    - fiction           26437\n",
    "    - fantasy            8994\n",
    "    - mystery            3171\n",
    "    - history            2940\n",
    "    - biographies        2939\n",
    "    - spirituality       2526\n",
    "    - contemporary       2484\n",
    "    - children           2120\n",
    "    - romance            1914\n",
    "    - young adult        1743\n",
    "    - sex                1555\n",
    "    - suspense           1467\n",
    "    - poetry             1245\n",
    "    - philosophy         1228\n",
    "    - graphic novels     1141\n",
    "    - horror              915\n",
    "    - crime               861\n",
    "    - chick lit           812\n",
    "    - psychology          694\n",
    "    - art                 621\n",
    "    \n",
    "### Which genres have the highest ratings/number of reviews?\n",
    "- Top 20 Average Ratings\n",
    "    - pop punk\t                4.860000\n",
    "    - metaphysical\t            4.720000\n",
    "    - theonomy\t                4.670000\n",
    "    - objectivism\t            4.345000\n",
    "    - firearms\t                4.325000\n",
    "    - cross dressing\t        4.290000\n",
    "    - survivalism\t            4.260000\n",
    "    - international development\t4.250000\n",
    "    - nursing\t                4.235000\n",
    "    - current events\t        4.230000\n",
    "    - beer\t                    4.220000\n",
    "    - land reform\t            4.210000\n",
    "    - news\t                    4.200000\n",
    "    - style guide\t            4.190000\n",
    "    - self defense\t            4.190000\n",
    "    - horses\t                4.180000\n",
    "    - photography\t            4.175833\n",
    "    - domestic abuse\t        4.170000\n",
    "    - zoroastrianism\t        4.145000\n",
    "    - spirituality\t            4.097937\n",
    "- Top 20 Review Counts\n",
    "    - fiction\t        36443815\n",
    "    - fantasy\t        18965848\n",
    "    - mystery\t        4988633\n",
    "    - contemporary\t    3482044\n",
    "    - young adult\t    3287134\n",
    "    - children\t        2567303\n",
    "    - romance\t        2323639\n",
    "    - graphic novels\t2005191\n",
    "    - suspense\t        1863630\n",
    "    - biographies\t    1729650\n",
    "    - history\t        1653643\n",
    "    - sex\t            1613801\n",
    "    - spirituality\t    1208409\n",
    "    - horror\t        1085838\n",
    "    - crime\t            873758\n",
    "    - chick lit\t        868076\n",
    "    - philosophy\t    562000\n",
    "    - comedy\t        439009\n",
    "    - poetry\t        310632\n",
    "    - psychology\t    283842\n",
    "    \n",
    "### Do men or women authors receive higher ratings?\n",
    "- Men, women, and unknown all have an average rating of 3.8 with genre nulls and 3.9 without\n",
    "\n",
    "### Can books be classified by select words in the blurbs on the back?\n",
    "- unknown. I Think this would require work outside of what I know how to do or could teach myself. Attempting to find genre key words in the descriptions might work, but not using this dataset as it is author data and not book data. \n",
    "\n",
    "### Section Conclusions:\n",
    "#### Country\n",
    "- from this data, the United States, United Kingdom, Canada, Australia, and France have the most published works\n",
    "- Of the top 20 countries, only Canada, Australia and Japan have more works by female authors \n",
    "- The United States makes up 60% of the published works\n",
    "- The United Kingdom makes up 18% of the published works\n",
    "- Canada Makes Up 5% of the published works\n",
    "- France and Germany each make up 4% of the published works\n",
    "\n",
    "#### Genre\n",
    "- Out of the top 20 genres in this dataset according to number of works, women tend to write more fantasy, mystery, contemporary, chidrens bookd, romance, sex, suspense and chick lit books. Science fiction did not make the top 20 according to work count. \n",
    "- Men wrote more fiction, history, biographies, spiritual books, poetry, philosophy, graphic novels, horror, crime, psychology and art. \n",
    "- The unknown section includes nonbinary authors as well as those that don't have that data filled in. \n",
    "- fiction and fantasy had by far the largest number of works, though neither fall into the top 20 rated category. This is most likely due to the larger number of entries and the likelyhood of readers taking the time to rate them. \n",
    "- This can be demonstrated in the fan count - these are people who consistently follow, are up to date with specific authors, and regularly review their work. \n",
    "- fiction has the highest number of works throughout the years sampled (top 20 based on number of works. Followd mostly by fantasy and then mystery with a couple outliers.\n",
    "\n",
    "#### Author\n",
    "- William Shakespear has the highest work count at over 5000. This value is most likely inflated due to translations into different languages being included. \n",
    "- Stephen King has the highest number of fans\n",
    "- JK Rowling has the highest number of reviews\n",
    "\n",
    "#### Gender\n",
    "- According to this dataset, the highest number of works (58%) are written by authors of unknown genders. This is due to nonbinary authors as well as those missing gender entries in their profiles. Males wrote 22% and females wrote 20%. \n",
    "- If we use the dataset that drops the null values in genre, which is the most beneficial for genre analysis, males wrote 42%, females wrote 41%, and unknown wrote 17%. \n",
    "- There appears to be a normal distribution in regards to average rating between all gender categories with and without the genre null values\n",
    "- Females have a higher review and fan count despite men having more published works\n",
    "- Men have a higher work count (except when using the dataframe that did not drop genre null values\n",
    "- Men, women, and unknown all have a 3.8 average rating with genre nulls and 3.9 without"
   ]
  }
 ],
 "metadata": {
  "kernelspec": {
   "display_name": "Python 3",
   "language": "python",
   "name": "python3"
  },
  "language_info": {
   "codemirror_mode": {
    "name": "ipython",
    "version": 3
   },
   "file_extension": ".py",
   "mimetype": "text/x-python",
   "name": "python",
   "nbconvert_exporter": "python",
   "pygments_lexer": "ipython3",
   "version": "3.8.5"
  }
 },
 "nbformat": 4,
 "nbformat_minor": 4
}
