{
 "cells": [
  {
   "cell_type": "markdown",
   "metadata": {},
   "source": [
    "Project 2 - Youtube Channels"
   ]
  },
  {
   "cell_type": "code",
   "execution_count": 15,
   "metadata": {},
   "outputs": [],
   "source": [
    "#Importing for analyzing and visuazation of data\n",
    "import pandas as pd \n",
    "%matplotlib inline \n",
    "import seaborn as sb\n",
    "import numpy as np\n",
    "from pandas import Series, DataFrame\n",
    "import matplotlib.pyplot as plt\n",
    "import io\n",
    "import datetime"
   ]
  },
  {
   "cell_type": "code",
   "execution_count": 16,
   "metadata": {},
   "outputs": [],
   "source": [
    "#loading CSV file to dataframe\n",
    "df = pd.read_csv('channels.csv')"
   ]
  },
  {
   "cell_type": "code",
   "execution_count": 17,
   "metadata": {},
   "outputs": [
    {
     "name": "stdout",
     "output_type": "stream",
     "text": [
      "<class 'pandas.core.frame.DataFrame'>\n",
      "RangeIndex: 104752 entries, 0 to 104751\n",
      "Data columns (total 14 columns):\n",
      " #   Column         Non-Null Count   Dtype  \n",
      "---  ------         --------------   -----  \n",
      " 0   category_id    104752 non-null  int64  \n",
      " 1   category_name  104752 non-null  object \n",
      " 2   channel_id     104752 non-null  object \n",
      " 3   country        70624 non-null   object \n",
      " 4   description    93423 non-null   object \n",
      " 5   followers      104752 non-null  int64  \n",
      " 6   join_date      104751 non-null  object \n",
      " 7   location       0 non-null       float64\n",
      " 8   picture_url    104752 non-null  object \n",
      " 9   profile_url    104752 non-null  object \n",
      " 10  title          104744 non-null  object \n",
      " 11  trailer_title  104671 non-null  object \n",
      " 12  trailer_url    104752 non-null  object \n",
      " 13  videos         104752 non-null  int64  \n",
      "dtypes: float64(1), int64(3), object(10)\n",
      "memory usage: 11.2+ MB\n"
     ]
    }
   ],
   "source": [
    "#information of dataset\n",
    "df.info()"
   ]
  },
  {
   "cell_type": "code",
   "execution_count": 18,
   "metadata": {},
   "outputs": [
    {
     "data": {
      "text/html": [
       "<div>\n",
       "<style scoped>\n",
       "    .dataframe tbody tr th:only-of-type {\n",
       "        vertical-align: middle;\n",
       "    }\n",
       "\n",
       "    .dataframe tbody tr th {\n",
       "        vertical-align: top;\n",
       "    }\n",
       "\n",
       "    .dataframe thead th {\n",
       "        text-align: right;\n",
       "    }\n",
       "</style>\n",
       "<table border=\"1\" class=\"dataframe\">\n",
       "  <thead>\n",
       "    <tr style=\"text-align: right;\">\n",
       "      <th></th>\n",
       "      <th>category_id</th>\n",
       "      <th>category_name</th>\n",
       "      <th>channel_id</th>\n",
       "      <th>country</th>\n",
       "      <th>description</th>\n",
       "      <th>followers</th>\n",
       "      <th>join_date</th>\n",
       "      <th>location</th>\n",
       "      <th>picture_url</th>\n",
       "      <th>profile_url</th>\n",
       "      <th>title</th>\n",
       "      <th>trailer_title</th>\n",
       "      <th>trailer_url</th>\n",
       "      <th>videos</th>\n",
       "    </tr>\n",
       "  </thead>\n",
       "  <tbody>\n",
       "    <tr>\n",
       "      <th>0</th>\n",
       "      <td>24</td>\n",
       "      <td>Entertainment</td>\n",
       "      <td>UC-lHJZR3Gqxm24_Vd_AJ5Yw</td>\n",
       "      <td>United States</td>\n",
       "      <td>I make videos.</td>\n",
       "      <td>69896406</td>\n",
       "      <td>2010-04-29</td>\n",
       "      <td>NaN</td>\n",
       "      <td>https://yt3.ggpht.com/a-/AN66SAztY6oYWZnS1Cae9...</td>\n",
       "      <td>http://www.youtube.com/channel/UC-lHJZR3Gqxm24...</td>\n",
       "      <td>PewDiePie</td>\n",
       "      <td>bitch lasagna</td>\n",
       "      <td>https://www.youtube.com/watch?v=6Dh-RL__uN4</td>\n",
       "      <td>3649</td>\n",
       "    </tr>\n",
       "    <tr>\n",
       "      <th>1</th>\n",
       "      <td>10</td>\n",
       "      <td>Music</td>\n",
       "      <td>UCq-Fj5jknLsUf-MWSy4_brA</td>\n",
       "      <td>India</td>\n",
       "      <td>\\</td>\n",
       "      <td>69471946</td>\n",
       "      <td>2006-03-13</td>\n",
       "      <td>NaN</td>\n",
       "      <td>https://yt3.ggpht.com/a-/AN66SAxPfKnfHAnAs0rOq...</td>\n",
       "      <td>http://www.youtube.com/channel/UCq-Fj5jknLsUf-...</td>\n",
       "      <td>T-Series</td>\n",
       "      <td>Guru Randhawa: GOLIMAAR Lyrical Video | Bhusha...</td>\n",
       "      <td>https://www.youtube.com/watch?v=nJ1f44JvlC8</td>\n",
       "      <td>12820</td>\n",
       "    </tr>\n",
       "    <tr>\n",
       "      <th>2</th>\n",
       "      <td>24</td>\n",
       "      <td>Entertainment</td>\n",
       "      <td>UCIwFjwMjI0y7PDBVEO9-bkQ</td>\n",
       "      <td>NaN</td>\n",
       "      <td>Help change the world. OUR album \\'Purpose\\' o...</td>\n",
       "      <td>41858494</td>\n",
       "      <td>2007-01-15</td>\n",
       "      <td>NaN</td>\n",
       "      <td>https://yt3.ggpht.com/a-/AN66SAzY-4LlEPxP9YOux...</td>\n",
       "      <td>http://www.youtube.com/channel/UCIwFjwMjI0y7PD...</td>\n",
       "      <td>Justin Bieber</td>\n",
       "      <td>DJ Khaled - No Brainer (Official Video) ft. Ju...</td>\n",
       "      <td>https://www.youtube.com/watch?v=kxloC1MKTpg</td>\n",
       "      <td>132</td>\n",
       "    </tr>\n",
       "    <tr>\n",
       "      <th>3</th>\n",
       "      <td>26</td>\n",
       "      <td>Howto &amp; Style</td>\n",
       "      <td>UC295-Dw_tDNtZXFeAPAW6Aw</td>\n",
       "      <td>United States</td>\n",
       "      <td>Fun diy-projects, crafts, experience the joy o...</td>\n",
       "      <td>40474509</td>\n",
       "      <td>2016-11-15</td>\n",
       "      <td>NaN</td>\n",
       "      <td>https://yt3.ggpht.com/a-/AN66SAzCuCdsGXFCbf4rL...</td>\n",
       "      <td>http://www.youtube.com/channel/UC295-Dw_tDNtZX...</td>\n",
       "      <td>5-Minute Crafts</td>\n",
       "      <td>5-Minute Crafts compilation: This video is a t...</td>\n",
       "      <td>https://www.youtube.com/watch?v=YAjzcignrLU</td>\n",
       "      <td>2350</td>\n",
       "    </tr>\n",
       "    <tr>\n",
       "      <th>4</th>\n",
       "      <td>17</td>\n",
       "      <td>Sports</td>\n",
       "      <td>UCJ5v_MCY6GNUBTO8-D3XoAg</td>\n",
       "      <td>NaN</td>\n",
       "      <td>WWE on YouTube is your number one spot to catc...</td>\n",
       "      <td>36301947</td>\n",
       "      <td>2007-05-11</td>\n",
       "      <td>NaN</td>\n",
       "      <td>https://yt3.ggpht.com/a-/AN66SAx_23YzwxBkenlfs...</td>\n",
       "      <td>http://www.youtube.com/channel/UCJ5v_MCY6GNUBT...</td>\n",
       "      <td>WWE</td>\n",
       "      <td>Braun Strowman and Brock Lesnar throw down bef...</td>\n",
       "      <td>https://www.youtube.com/watch?v=l6d1w8lJsm4</td>\n",
       "      <td>37928</td>\n",
       "    </tr>\n",
       "  </tbody>\n",
       "</table>\n",
       "</div>"
      ],
      "text/plain": [
       "   category_id  category_name                channel_id        country  \\\n",
       "0           24  Entertainment  UC-lHJZR3Gqxm24_Vd_AJ5Yw  United States   \n",
       "1           10          Music  UCq-Fj5jknLsUf-MWSy4_brA          India   \n",
       "2           24  Entertainment  UCIwFjwMjI0y7PDBVEO9-bkQ            NaN   \n",
       "3           26  Howto & Style  UC295-Dw_tDNtZXFeAPAW6Aw  United States   \n",
       "4           17         Sports  UCJ5v_MCY6GNUBTO8-D3XoAg            NaN   \n",
       "\n",
       "                                         description  followers   join_date  \\\n",
       "0                                     I make videos.   69896406  2010-04-29   \n",
       "1                                                  \\   69471946  2006-03-13   \n",
       "2  Help change the world. OUR album \\'Purpose\\' o...   41858494  2007-01-15   \n",
       "3  Fun diy-projects, crafts, experience the joy o...   40474509  2016-11-15   \n",
       "4  WWE on YouTube is your number one spot to catc...   36301947  2007-05-11   \n",
       "\n",
       "   location                                        picture_url  \\\n",
       "0       NaN  https://yt3.ggpht.com/a-/AN66SAztY6oYWZnS1Cae9...   \n",
       "1       NaN  https://yt3.ggpht.com/a-/AN66SAxPfKnfHAnAs0rOq...   \n",
       "2       NaN  https://yt3.ggpht.com/a-/AN66SAzY-4LlEPxP9YOux...   \n",
       "3       NaN  https://yt3.ggpht.com/a-/AN66SAzCuCdsGXFCbf4rL...   \n",
       "4       NaN  https://yt3.ggpht.com/a-/AN66SAx_23YzwxBkenlfs...   \n",
       "\n",
       "                                         profile_url            title  \\\n",
       "0  http://www.youtube.com/channel/UC-lHJZR3Gqxm24...        PewDiePie   \n",
       "1  http://www.youtube.com/channel/UCq-Fj5jknLsUf-...         T-Series   \n",
       "2  http://www.youtube.com/channel/UCIwFjwMjI0y7PD...    Justin Bieber   \n",
       "3  http://www.youtube.com/channel/UC295-Dw_tDNtZX...  5-Minute Crafts   \n",
       "4  http://www.youtube.com/channel/UCJ5v_MCY6GNUBT...              WWE   \n",
       "\n",
       "                                       trailer_title  \\\n",
       "0                                      bitch lasagna   \n",
       "1  Guru Randhawa: GOLIMAAR Lyrical Video | Bhusha...   \n",
       "2  DJ Khaled - No Brainer (Official Video) ft. Ju...   \n",
       "3  5-Minute Crafts compilation: This video is a t...   \n",
       "4  Braun Strowman and Brock Lesnar throw down bef...   \n",
       "\n",
       "                                   trailer_url  videos  \n",
       "0  https://www.youtube.com/watch?v=6Dh-RL__uN4    3649  \n",
       "1  https://www.youtube.com/watch?v=nJ1f44JvlC8   12820  \n",
       "2  https://www.youtube.com/watch?v=kxloC1MKTpg     132  \n",
       "3  https://www.youtube.com/watch?v=YAjzcignrLU    2350  \n",
       "4  https://www.youtube.com/watch?v=l6d1w8lJsm4   37928  "
      ]
     },
     "execution_count": 18,
     "metadata": {},
     "output_type": "execute_result"
    }
   ],
   "source": [
    "df.head()"
   ]
  },
  {
   "cell_type": "code",
   "execution_count": 19,
   "metadata": {},
   "outputs": [],
   "source": [
    "#dropping unwanted columns from dataset\n",
    "drop_cols = ['channel_id','picture_url','profile_url','trailer_url','location']\n",
    "df = df.drop(drop_cols,axis = 1)"
   ]
  },
  {
   "cell_type": "code",
   "execution_count": 20,
   "metadata": {},
   "outputs": [],
   "source": [
    "#dropping if there are any duplicate rows\n",
    "df=df.drop_duplicates(keep='first')"
   ]
  },
  {
   "cell_type": "code",
   "execution_count": 21,
   "metadata": {},
   "outputs": [
    {
     "data": {
      "text/plain": [
       "category_id          0\n",
       "category_name        0\n",
       "country          34063\n",
       "description      11305\n",
       "followers            0\n",
       "join_date            1\n",
       "title                8\n",
       "trailer_title       81\n",
       "videos               0\n",
       "dtype: int64"
      ]
     },
     "execution_count": 21,
     "metadata": {},
     "output_type": "execute_result"
    }
   ],
   "source": [
    "#checking for missing values \n",
    "a = df.isnull().sum() \n",
    "a"
   ]
  },
  {
   "cell_type": "code",
   "execution_count": 22,
   "metadata": {},
   "outputs": [],
   "source": [
    "#filling the missing values in country column with random values from same column \n",
    "#filling missing values in other columns by unknown and join_date with 2004 as there are very few values in 2004\n",
    "df.loc[df[\"country\"].isna(), \"country\"] = df[\"country\"].dropna().sample(df[\"country\"].isna().sum(), replace=True).values \n",
    "df.fillna({'description':'unknown', 'title':'unknown', 'trailer_title':'unknown', 'join_date' : '2004'}, inplace=True)"
   ]
  },
  {
   "cell_type": "code",
   "execution_count": 23,
   "metadata": {},
   "outputs": [
    {
     "data": {
      "text/plain": [
       "category_id      0\n",
       "category_name    0\n",
       "country          0\n",
       "description      0\n",
       "followers        0\n",
       "join_date        0\n",
       "title            0\n",
       "trailer_title    0\n",
       "videos           0\n",
       "dtype: int64"
      ]
     },
     "execution_count": 23,
     "metadata": {},
     "output_type": "execute_result"
    }
   ],
   "source": [
    "#There are no missing values in the dataset\n",
    "df.isnull().sum()"
   ]
  },
  {
   "cell_type": "code",
   "execution_count": 24,
   "metadata": {},
   "outputs": [
    {
     "data": {
      "text/plain": [
       "United States         46244\n",
       "Great-Britain          9685\n",
       "India                  8012\n",
       "Canada                 4964\n",
       "Russian Federation     3109\n",
       "                      ...  \n",
       "Martinique                1\n",
       "Tonga                     1\n",
       "Cook Islands              1\n",
       "Zambia                    1\n",
       "Tokelau                   1\n",
       "Name: country, Length: 203, dtype: int64"
      ]
     },
     "execution_count": 24,
     "metadata": {},
     "output_type": "execute_result"
    }
   ],
   "source": [
    "#checking the count of values of column country after filling missing values\n",
    "df['country'].value_counts()"
   ]
  },
  {
   "cell_type": "code",
   "execution_count": 25,
   "metadata": {},
   "outputs": [],
   "source": [
    "#creating seperate column for year from join date column\n",
    "#changing datatype to datetime, copying value of year from join_date\n",
    "df[\"join_date\"] = pd.to_datetime(df[\"join_date\"])"
   ]
  },
  {
   "cell_type": "code",
   "execution_count": 26,
   "metadata": {},
   "outputs": [],
   "source": [
    "#df[\"join_date\"].dt.year\n",
    "df[\"year\"] = df[\"join_date\"].dt.year\n",
    "df['year'] = df['year'].astype(int) #changing the datatype from float to int"
   ]
  },
  {
   "cell_type": "code",
   "execution_count": 27,
   "metadata": {},
   "outputs": [
    {
     "data": {
      "text/html": [
       "<div>\n",
       "<style scoped>\n",
       "    .dataframe tbody tr th:only-of-type {\n",
       "        vertical-align: middle;\n",
       "    }\n",
       "\n",
       "    .dataframe tbody tr th {\n",
       "        vertical-align: top;\n",
       "    }\n",
       "\n",
       "    .dataframe thead th {\n",
       "        text-align: right;\n",
       "    }\n",
       "</style>\n",
       "<table border=\"1\" class=\"dataframe\">\n",
       "  <thead>\n",
       "    <tr style=\"text-align: right;\">\n",
       "      <th></th>\n",
       "      <th>category_id</th>\n",
       "      <th>category_name</th>\n",
       "      <th>country</th>\n",
       "      <th>description</th>\n",
       "      <th>followers</th>\n",
       "      <th>join_date</th>\n",
       "      <th>title</th>\n",
       "      <th>trailer_title</th>\n",
       "      <th>videos</th>\n",
       "      <th>year</th>\n",
       "    </tr>\n",
       "  </thead>\n",
       "  <tbody>\n",
       "    <tr>\n",
       "      <th>0</th>\n",
       "      <td>24</td>\n",
       "      <td>Entertainment</td>\n",
       "      <td>United States</td>\n",
       "      <td>I make videos.</td>\n",
       "      <td>69896406</td>\n",
       "      <td>2010-04-29</td>\n",
       "      <td>PewDiePie</td>\n",
       "      <td>bitch lasagna</td>\n",
       "      <td>3649</td>\n",
       "      <td>2010</td>\n",
       "    </tr>\n",
       "    <tr>\n",
       "      <th>1</th>\n",
       "      <td>10</td>\n",
       "      <td>Music</td>\n",
       "      <td>India</td>\n",
       "      <td>\\</td>\n",
       "      <td>69471946</td>\n",
       "      <td>2006-03-13</td>\n",
       "      <td>T-Series</td>\n",
       "      <td>Guru Randhawa: GOLIMAAR Lyrical Video | Bhusha...</td>\n",
       "      <td>12820</td>\n",
       "      <td>2006</td>\n",
       "    </tr>\n",
       "    <tr>\n",
       "      <th>2</th>\n",
       "      <td>24</td>\n",
       "      <td>Entertainment</td>\n",
       "      <td>Great-Britain</td>\n",
       "      <td>Help change the world. OUR album \\'Purpose\\' o...</td>\n",
       "      <td>41858494</td>\n",
       "      <td>2007-01-15</td>\n",
       "      <td>Justin Bieber</td>\n",
       "      <td>DJ Khaled - No Brainer (Official Video) ft. Ju...</td>\n",
       "      <td>132</td>\n",
       "      <td>2007</td>\n",
       "    </tr>\n",
       "    <tr>\n",
       "      <th>3</th>\n",
       "      <td>26</td>\n",
       "      <td>Howto &amp; Style</td>\n",
       "      <td>United States</td>\n",
       "      <td>Fun diy-projects, crafts, experience the joy o...</td>\n",
       "      <td>40474509</td>\n",
       "      <td>2016-11-15</td>\n",
       "      <td>5-Minute Crafts</td>\n",
       "      <td>5-Minute Crafts compilation: This video is a t...</td>\n",
       "      <td>2350</td>\n",
       "      <td>2016</td>\n",
       "    </tr>\n",
       "    <tr>\n",
       "      <th>4</th>\n",
       "      <td>17</td>\n",
       "      <td>Sports</td>\n",
       "      <td>United States</td>\n",
       "      <td>WWE on YouTube is your number one spot to catc...</td>\n",
       "      <td>36301947</td>\n",
       "      <td>2007-05-11</td>\n",
       "      <td>WWE</td>\n",
       "      <td>Braun Strowman and Brock Lesnar throw down bef...</td>\n",
       "      <td>37928</td>\n",
       "      <td>2007</td>\n",
       "    </tr>\n",
       "  </tbody>\n",
       "</table>\n",
       "</div>"
      ],
      "text/plain": [
       "   category_id  category_name        country  \\\n",
       "0           24  Entertainment  United States   \n",
       "1           10          Music          India   \n",
       "2           24  Entertainment  Great-Britain   \n",
       "3           26  Howto & Style  United States   \n",
       "4           17         Sports  United States   \n",
       "\n",
       "                                         description  followers  join_date  \\\n",
       "0                                     I make videos.   69896406 2010-04-29   \n",
       "1                                                  \\   69471946 2006-03-13   \n",
       "2  Help change the world. OUR album \\'Purpose\\' o...   41858494 2007-01-15   \n",
       "3  Fun diy-projects, crafts, experience the joy o...   40474509 2016-11-15   \n",
       "4  WWE on YouTube is your number one spot to catc...   36301947 2007-05-11   \n",
       "\n",
       "             title                                      trailer_title  videos  \\\n",
       "0        PewDiePie                                      bitch lasagna    3649   \n",
       "1         T-Series  Guru Randhawa: GOLIMAAR Lyrical Video | Bhusha...   12820   \n",
       "2    Justin Bieber  DJ Khaled - No Brainer (Official Video) ft. Ju...     132   \n",
       "3  5-Minute Crafts  5-Minute Crafts compilation: This video is a t...    2350   \n",
       "4              WWE  Braun Strowman and Brock Lesnar throw down bef...   37928   \n",
       "\n",
       "   year  \n",
       "0  2010  \n",
       "1  2006  \n",
       "2  2007  \n",
       "3  2016  \n",
       "4  2007  "
      ]
     },
     "execution_count": 27,
     "metadata": {},
     "output_type": "execute_result"
    }
   ],
   "source": [
    "df.head()"
   ]
  },
  {
   "cell_type": "markdown",
   "metadata": {},
   "source": [
    "United States has more number of youtube channels"
   ]
  },
  {
   "cell_type": "code",
   "execution_count": 29,
   "metadata": {},
   "outputs": [
    {
     "data": {
      "text/plain": [
       "<AxesSubplot:title={'center':'Country with maximum channels'}, xlabel='country', ylabel='count'>"
      ]
     },
     "execution_count": 29,
     "metadata": {},
     "output_type": "execute_result"
    },
    {
     "data": {
      "image/png": "[encoded data removed]",
      "text/plain": [
       "<Figure size 1440x720 with 1 Axes>"
      ]
     },
     "metadata": {
      "needs_background": "light"
     },
     "output_type": "display_data"
    }
   ],
   "source": [
    "#countplot is used to create the hist or bar graphs with single column \n",
    "#x-axis has country names and y-axis has count of youtube channels for each country\n",
    "plt.figure(1, figsize=(20, 10))\n",
    "plt.title(\"Country with maximum channels\")\n",
    "sb.set_theme(style=\"darkgrid\")\n",
    "sb.countplot(x = \"country\", order=df['country'].value_counts().index[0:15],data=df,palette='Set3')"
   ]
  },
  {
   "cell_type": "markdown",
   "metadata": {},
   "source": [
    "Is there an increase in number of youtube channels every year?"
   ]
  },
  {
   "cell_type": "code",
   "execution_count": 30,
   "metadata": {},
   "outputs": [
    {
     "data": {
      "text/plain": [
       "<AxesSubplot:xlabel='year', ylabel='count'>"
      ]
     },
     "execution_count": 30,
     "metadata": {},
     "output_type": "execute_result"
    },
    {
     "data": {
      "image/png": "[encoded data removed]",
      "text/plain": [
       "<Figure size 720x288 with 1 Axes>"
      ]
     },
     "metadata": {},
     "output_type": "display_data"
    }
   ],
   "source": [
    "#x-axis is year from 2004 - 2018\n",
    "#countplot is used to find if there is increase in count of youtube channels every year\n",
    "fig_dims = (10, 4)\n",
    "fig, ax = plt.subplots(figsize=fig_dims)\n",
    "sb.countplot(x = 'year',ax=ax, data=df)"
   ]
  },
  {
   "cell_type": "markdown",
   "metadata": {},
   "source": [
    "Youtube videos posted in music category in year 2015 are highest when compared to other years"
   ]
  },
  {
   "cell_type": "code",
   "execution_count": 32,
   "metadata": {},
   "outputs": [
    {
     "data": {
      "text/html": [
       "<div>\n",
       "<style scoped>\n",
       "    .dataframe tbody tr th:only-of-type {\n",
       "        vertical-align: middle;\n",
       "    }\n",
       "\n",
       "    .dataframe tbody tr th {\n",
       "        vertical-align: top;\n",
       "    }\n",
       "\n",
       "    .dataframe thead th {\n",
       "        text-align: right;\n",
       "    }\n",
       "</style>\n",
       "<table border=\"1\" class=\"dataframe\">\n",
       "  <thead>\n",
       "    <tr style=\"text-align: right;\">\n",
       "      <th></th>\n",
       "      <th>category_id</th>\n",
       "      <th>category_name</th>\n",
       "      <th>country</th>\n",
       "      <th>description</th>\n",
       "      <th>followers</th>\n",
       "      <th>join_date</th>\n",
       "      <th>title</th>\n",
       "      <th>trailer_title</th>\n",
       "      <th>videos</th>\n",
       "      <th>year</th>\n",
       "    </tr>\n",
       "  </thead>\n",
       "  <tbody>\n",
       "    <tr>\n",
       "      <th>1</th>\n",
       "      <td>10</td>\n",
       "      <td>Music</td>\n",
       "      <td>India</td>\n",
       "      <td>\\</td>\n",
       "      <td>69471946</td>\n",
       "      <td>2006-03-13</td>\n",
       "      <td>T-Series</td>\n",
       "      <td>Guru Randhawa: GOLIMAAR Lyrical Video | Bhusha...</td>\n",
       "      <td>12820</td>\n",
       "      <td>2006</td>\n",
       "    </tr>\n",
       "    <tr>\n",
       "      <th>6</th>\n",
       "      <td>10</td>\n",
       "      <td>Music</td>\n",
       "      <td>Great-Britain</td>\n",
       "      <td>Ed Sheeran\\'s official YouTube channel!</td>\n",
       "      <td>35343953</td>\n",
       "      <td>2006-08-08</td>\n",
       "      <td>Ed Sheeran</td>\n",
       "      <td>Drop4Drop x Ed Sheeran</td>\n",
       "      <td>122</td>\n",
       "      <td>2006</td>\n",
       "    </tr>\n",
       "    <tr>\n",
       "      <th>8</th>\n",
       "      <td>10</td>\n",
       "      <td>Music</td>\n",
       "      <td>United States</td>\n",
       "      <td>Marshall Bruce Mathers III, better known by hi...</td>\n",
       "      <td>33959205</td>\n",
       "      <td>2007-02-09</td>\n",
       "      <td>EminemMusic</td>\n",
       "      <td>KILLSHOT [Official Audio]</td>\n",
       "      <td>114</td>\n",
       "      <td>2007</td>\n",
       "    </tr>\n",
       "    <tr>\n",
       "      <th>9</th>\n",
       "      <td>10</td>\n",
       "      <td>Music</td>\n",
       "      <td>Italy</td>\n",
       "      <td>WITNESS! THE ALBUM THE TOUR IT\\'S ALL HAPPENIN...</td>\n",
       "      <td>31797683</td>\n",
       "      <td>2008-06-01</td>\n",
       "      <td>Katy Perry</td>\n",
       "      <td>Katy Perry: Will You Be My Witness?</td>\n",
       "      <td>94</td>\n",
       "      <td>2008</td>\n",
       "    </tr>\n",
       "    <tr>\n",
       "      <th>10</th>\n",
       "      <td>10</td>\n",
       "      <td>Music</td>\n",
       "      <td>France</td>\n",
       "      <td>The Official Taylor Swift YouTube Channel</td>\n",
       "      <td>31556544</td>\n",
       "      <td>2006-09-20</td>\n",
       "      <td>Taylor Swift</td>\n",
       "      <td>Taylor Swift - Delicate</td>\n",
       "      <td>162</td>\n",
       "      <td>2006</td>\n",
       "    </tr>\n",
       "    <tr>\n",
       "      <th>...</th>\n",
       "      <td>...</td>\n",
       "      <td>...</td>\n",
       "      <td>...</td>\n",
       "      <td>...</td>\n",
       "      <td>...</td>\n",
       "      <td>...</td>\n",
       "      <td>...</td>\n",
       "      <td>...</td>\n",
       "      <td>...</td>\n",
       "      <td>...</td>\n",
       "    </tr>\n",
       "    <tr>\n",
       "      <th>104728</th>\n",
       "      <td>10</td>\n",
       "      <td>Music</td>\n",
       "      <td>Great-Britain</td>\n",
       "      <td>Official Youtube channel of Grido !</td>\n",
       "      <td>14757</td>\n",
       "      <td>2015-01-12</td>\n",
       "      <td>OfficialGrido</td>\n",
       "      <td>Grido ft. B.O.K - Cocaina (Official Music Video)</td>\n",
       "      <td>4</td>\n",
       "      <td>2015</td>\n",
       "    </tr>\n",
       "    <tr>\n",
       "      <th>104732</th>\n",
       "      <td>10</td>\n",
       "      <td>Music</td>\n",
       "      <td>United States</td>\n",
       "      <td>DUHHHHHHHH ITS YA BOY! I like fashion, girls a...</td>\n",
       "      <td>14756</td>\n",
       "      <td>2012-09-09</td>\n",
       "      <td>Coleweather1</td>\n",
       "      <td>Lil Uzi Vert - XO Tour Life (Official Dance Vi...</td>\n",
       "      <td>278</td>\n",
       "      <td>2012</td>\n",
       "    </tr>\n",
       "    <tr>\n",
       "      <th>104738</th>\n",
       "      <td>10</td>\n",
       "      <td>Music</td>\n",
       "      <td>United States</td>\n",
       "      <td>GALACTICA is out now! https://quin.lnk.to/gala...</td>\n",
       "      <td>14754</td>\n",
       "      <td>2015-12-08</td>\n",
       "      <td>QUIÑ</td>\n",
       "      <td>QUIÑ - \"REMIND ME\" (Official ...</td>\n",
       "      <td>16</td>\n",
       "      <td>2015</td>\n",
       "    </tr>\n",
       "    <tr>\n",
       "      <th>104739</th>\n",
       "      <td>10</td>\n",
       "      <td>Music</td>\n",
       "      <td>United States</td>\n",
       "      <td>Known for his earth-shaking live performances ...</td>\n",
       "      <td>14753</td>\n",
       "      <td>2009-05-27</td>\n",
       "      <td>CROOKERS</td>\n",
       "      <td>Crookers - Beautiful</td>\n",
       "      <td>40</td>\n",
       "      <td>2009</td>\n",
       "    </tr>\n",
       "    <tr>\n",
       "      <th>104741</th>\n",
       "      <td>10</td>\n",
       "      <td>Music</td>\n",
       "      <td>Canada</td>\n",
       "      <td>Toronto based Visual Artist.\\r\\r\\n\\r\\r\\nChanne...</td>\n",
       "      <td>14763</td>\n",
       "      <td>2015-07-14</td>\n",
       "      <td>KR Productions</td>\n",
       "      <td>Casper TNG x K Money - Other (Official Video) ...</td>\n",
       "      <td>102</td>\n",
       "      <td>2015</td>\n",
       "    </tr>\n",
       "  </tbody>\n",
       "</table>\n",
       "<p>19955 rows × 10 columns</p>\n",
       "</div>"
      ],
      "text/plain": [
       "        category_id category_name        country  \\\n",
       "1                10         Music          India   \n",
       "6                10         Music  Great-Britain   \n",
       "8                10         Music  United States   \n",
       "9                10         Music          Italy   \n",
       "10               10         Music         France   \n",
       "...             ...           ...            ...   \n",
       "104728           10         Music  Great-Britain   \n",
       "104732           10         Music  United States   \n",
       "104738           10         Music  United States   \n",
       "104739           10         Music  United States   \n",
       "104741           10         Music         Canada   \n",
       "\n",
       "                                              description  followers  \\\n",
       "1                                                       \\   69471946   \n",
       "6                 Ed Sheeran\\'s official YouTube channel!   35343953   \n",
       "8       Marshall Bruce Mathers III, better known by hi...   33959205   \n",
       "9       WITNESS! THE ALBUM THE TOUR IT\\'S ALL HAPPENIN...   31797683   \n",
       "10              The Official Taylor Swift YouTube Channel   31556544   \n",
       "...                                                   ...        ...   \n",
       "104728                Official Youtube channel of Grido !      14757   \n",
       "104732  DUHHHHHHHH ITS YA BOY! I like fashion, girls a...      14756   \n",
       "104738  GALACTICA is out now! https://quin.lnk.to/gala...      14754   \n",
       "104739  Known for his earth-shaking live performances ...      14753   \n",
       "104741  Toronto based Visual Artist.\\r\\r\\n\\r\\r\\nChanne...      14763   \n",
       "\n",
       "        join_date           title  \\\n",
       "1      2006-03-13        T-Series   \n",
       "6      2006-08-08      Ed Sheeran   \n",
       "8      2007-02-09     EminemMusic   \n",
       "9      2008-06-01      Katy Perry   \n",
       "10     2006-09-20    Taylor Swift   \n",
       "...           ...             ...   \n",
       "104728 2015-01-12   OfficialGrido   \n",
       "104732 2012-09-09    Coleweather1   \n",
       "104738 2015-12-08            QUIÑ   \n",
       "104739 2009-05-27        CROOKERS   \n",
       "104741 2015-07-14  KR Productions   \n",
       "\n",
       "                                            trailer_title  videos  year  \n",
       "1       Guru Randhawa: GOLIMAAR Lyrical Video | Bhusha...   12820  2006  \n",
       "6                                  Drop4Drop x Ed Sheeran     122  2006  \n",
       "8                               KILLSHOT [Official Audio]     114  2007  \n",
       "9                     Katy Perry: Will You Be My Witness?      94  2008  \n",
       "10                                Taylor Swift - Delicate     162  2006  \n",
       "...                                                   ...     ...   ...  \n",
       "104728   Grido ft. B.O.K - Cocaina (Official Music Video)       4  2015  \n",
       "104732  Lil Uzi Vert - XO Tour Life (Official Dance Vi...     278  2012  \n",
       "104738                   QUIÑ - \"REMIND ME\" (Official ...      16  2015  \n",
       "104739                               Crookers - Beautiful      40  2009  \n",
       "104741  Casper TNG x K Money - Other (Official Video) ...     102  2015  \n",
       "\n",
       "[19955 rows x 10 columns]"
      ]
     },
     "execution_count": 32,
     "metadata": {},
     "output_type": "execute_result"
    }
   ],
   "source": [
    "#creating a dataframe for category_name = music\n",
    "music=df[df['category_name']=='Music']\n",
    "music"
   ]
  },
  {
   "cell_type": "code",
   "execution_count": 33,
   "metadata": {},
   "outputs": [],
   "source": [
    "#getting the total number of videos for each year in Music channel category using sum()\n",
    "#Groupby method is used for getting count of videos per year\n",
    "NumberOfVideosinMusicCategory = music.groupby([music.year])['videos'].sum()"
   ]
  },
  {
   "cell_type": "code",
   "execution_count": 34,
   "metadata": {},
   "outputs": [
    {
     "data": {
      "image/png": "[encoded data removed]",
      "text/plain": [
       "<Figure size 720x720 with 1 Axes>"
      ]
     },
     "metadata": {},
     "output_type": "display_data"
    }
   ],
   "source": [
    "#plotting bar plot for videos in each year\n",
    "#with years in x-axis and number of videos in x-axis\n",
    "NumberOfVideosinMusicCategory.plot.bar(x = music.year, y = NumberOfVideosinMusicCategory, figsize = (10,10), color = 'lightcoral' )\n",
    "plt.title(\"Number of videos per year\")\n",
    "plt.ylabel('Videos')\n",
    "plt.xlabel('Year');"
   ]
  },
  {
   "cell_type": "markdown",
   "metadata": {},
   "source": [
    "Is highest number of youtube subscribers are in Entertainment category"
   ]
  },
  {
   "cell_type": "code",
   "execution_count": 36,
   "metadata": {},
   "outputs": [],
   "source": [
    "#Finding the total followers in each category by creating dataframe for each category from df \n",
    "education=df[df['category_name']=='Education']\n",
    "entertainment=df[df['category_name']=='Entertainment']\n",
    "gaming=df[df['category_name']=='Gaming']\n",
    "Howto_Style=df[df['category_name']=='Howto & Style']\n",
    "Sports=df[df['category_name']=='Sports']\n",
    "People_Blogs=df[df['category_name']=='People & Blogs']\n",
    "Travel_Events=df[df['category_name']=='Travel & Events']\n",
    "Film_Animation=df[df['category_name']=='Film and Animation']\n",
    "science_technology=df[df['category_name']=='Science & Technology']\n",
    "comedy=df[df['category_name']=='Comedy']\n",
    "Autos_Vehicles=df[df['category_name']=='Autos & Vehicles']\n",
    "News_Politics=df[df['category_name']=='News & Politics']\n",
    "Pets_animals=df[df['category_name']=='Pets_Animals']\n",
    "Non_profit_Activism=df[df['category_name']=='Nonprofit & Activism']\n"
   ]
  },
  {
   "cell_type": "code",
   "execution_count": 37,
   "metadata": {},
   "outputs": [
    {
     "data": {
      "image/png": "[encoded data removed]",
      "text/plain": [
       "<Figure size 576x720 with 1 Axes>"
      ]
     },
     "metadata": {},
     "output_type": "display_data"
    }
   ],
   "source": [
    "#using sum() function for followers column for getting total number of subscribers for all the categories\n",
    "#plotting pie chart for finding category with hightest followers\n",
    "labels = 'Music','News & Politics','Autos & Vehicles', 'comedy', 'science & technology', 'Film & Animation', 'Travel_Events', 'People & Blogs', 'Sports', 'HowtoStyle', 'gaming', 'entertainment', 'education'\n",
    "sizes = [music.followers.sum(), News_Politics.followers.sum(),Autos_Vehicles.followers.sum(),comedy.followers.sum(),science_technology.followers.sum(),Film_Animation.followers.sum(),Travel_Events.followers.sum(),People_Blogs.followers.sum(),Sports.followers.sum(),Howto_Style.followers.sum(),gaming.followers.sum(),entertainment.followers.sum(),education.followers.sum()]\n",
    "colors = [\"lightpink\", \"lightgreen\", \"lavender\", \"lightblue\", \"lightyellow\"]\n",
    "plt.figure(figsize=(8,10))\n",
    "plt.pie(sizes, autopct='%1.0f%%', labels = labels,colors=colors, shadow=False, startangle=90, textprops={'fontsize': 15})\n",
    "plt.axis('equal') \n",
    "plt.title('Number of followers per category')\n",
    "plt.show()"
   ]
  },
  {
   "cell_type": "code",
   "execution_count": 38,
   "metadata": {},
   "outputs": [],
   "source": [
    "#Citation: https://seaborn.pydata.org/generated/seaborn.countplot.html\n",
    "#https://stackoverflow.com/questions/48511484/data-type-conversion-error-valueerror-cannot-convert-non-finite-values-na-or  \n",
    "#https://stackoverflow.com/questions/66465894/fill-missing-data-with-random-values-from-categorical-column-python"
   ]
  }
 ],
 "metadata": {
  "kernelspec": {
   "display_name": "Python 3",
   "language": "python",
   "name": "python3"
  },
  "language_info": {
   "codemirror_mode": {
    "name": "ipython",
    "version": 3
   },
   "file_extension": ".py",
   "mimetype": "text/x-python",
   "name": "python",
   "nbconvert_exporter": "python",
   "pygments_lexer": "ipython3",
   "version": "3.8.5"
  }
 },
 "nbformat": 4,
 "nbformat_minor": 4
}
