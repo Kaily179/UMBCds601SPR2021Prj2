{
 "cells": [
  {
   "cell_type": "markdown",
   "metadata": {},
   "source": [
    "Data source: https://www.kaggle.com/anthonypino/melbourne-housing-market"
   ]
  },
  {
   "cell_type": "markdown",
   "metadata": {},
   "source": [
    "Vejella Vaishnavi"
   ]
  },
  {
   "cell_type": "code",
   "execution_count": 1,
   "metadata": {},
   "outputs": [],
   "source": [
    "import pandas as pd\n",
    "import seaborn as sns"
   ]
  },
  {
   "cell_type": "markdown",
   "metadata": {},
   "source": [
    "Loading the dataset"
   ]
  },
  {
   "cell_type": "code",
   "execution_count": 3,
   "metadata": {},
   "outputs": [],
   "source": [
    "data = pd.read_csv('Melbourne_housing_FULL.csv') # reads the csv"
   ]
  },
  {
   "cell_type": "markdown",
   "metadata": {},
   "source": [
    "memory of the csv"
   ]
  },
  {
   "cell_type": "code",
   "execution_count": 4,
   "metadata": {},
   "outputs": [
    {
     "data": {
      "text/plain": [
       "(34857, 21)"
      ]
     },
     "execution_count": 4,
     "metadata": {},
     "output_type": "execute_result"
    }
   ],
   "source": [
    "data.shape # gives the data of rows and columns"
   ]
  },
  {
   "cell_type": "code",
   "execution_count": 5,
   "metadata": {},
   "outputs": [
    {
     "data": {
      "text/plain": [
       "34857"
      ]
     },
     "execution_count": 5,
     "metadata": {},
     "output_type": "execute_result"
    }
   ],
   "source": [
    "len(data) # # gives number of rows in csv"
   ]
  },
  {
   "cell_type": "code",
   "execution_count": 6,
   "metadata": {},
   "outputs": [
    {
     "data": {
      "text/plain": [
       "Index(['Suburb', 'Address', 'Rooms', 'Type', 'Price', 'Method', 'SellerG',\n",
       "       'Date', 'Distance', 'Postcode', 'Bedroom2', 'Bathroom', 'Car',\n",
       "       'Landsize', 'BuildingArea', 'YearBuilt', 'CouncilArea', 'Lattitude',\n",
       "       'Longtitude', 'Regionname', 'Propertycount'],\n",
       "      dtype='object')"
      ]
     },
     "execution_count": 6,
     "metadata": {},
     "output_type": "execute_result"
    }
   ],
   "source": [
    "data.columns # gives columns in csv"
   ]
  },
  {
   "cell_type": "markdown",
   "metadata": {},
   "source": [
    "here we can get data types of csv file columns"
   ]
  },
  {
   "cell_type": "code",
   "execution_count": 7,
   "metadata": {},
   "outputs": [
    {
     "data": {
      "text/plain": [
       "Suburb            object\n",
       "Address           object\n",
       "Rooms              int64\n",
       "Type              object\n",
       "Price            float64\n",
       "Method            object\n",
       "SellerG           object\n",
       "Date              object\n",
       "Distance         float64\n",
       "Postcode         float64\n",
       "Bedroom2         float64\n",
       "Bathroom         float64\n",
       "Car              float64\n",
       "Landsize         float64\n",
       "BuildingArea     float64\n",
       "YearBuilt        float64\n",
       "CouncilArea       object\n",
       "Lattitude        float64\n",
       "Longtitude       float64\n",
       "Regionname        object\n",
       "Propertycount    float64\n",
       "dtype: object"
      ]
     },
     "execution_count": 7,
     "metadata": {},
     "output_type": "execute_result"
    }
   ],
   "source": [
    "data.dtypes"
   ]
  },
  {
   "cell_type": "markdown",
   "metadata": {},
   "source": [
    "here we get basic info of csv"
   ]
  },
  {
   "cell_type": "code",
   "execution_count": 7,
   "metadata": {},
   "outputs": [
    {
     "name": "stdout",
     "output_type": "stream",
     "text": [
      "<class 'pandas.core.frame.DataFrame'>\n",
      "RangeIndex: 34857 entries, 0 to 34856\n",
      "Data columns (total 21 columns):\n",
      " #   Column         Non-Null Count  Dtype  \n",
      "---  ------         --------------  -----  \n",
      " 0   Suburb         34857 non-null  object \n",
      " 1   Address        34857 non-null  object \n",
      " 2   Rooms          34857 non-null  int64  \n",
      " 3   Type           34857 non-null  object \n",
      " 4   Price          27247 non-null  float64\n",
      " 5   Method         34857 non-null  object \n",
      " 6   SellerG        34857 non-null  object \n",
      " 7   Date           34857 non-null  object \n",
      " 8   Distance       34856 non-null  float64\n",
      " 9   Postcode       34856 non-null  float64\n",
      " 10  Bedroom2       26640 non-null  float64\n",
      " 11  Bathroom       26631 non-null  float64\n",
      " 12  Car            26129 non-null  float64\n",
      " 13  Landsize       23047 non-null  float64\n",
      " 14  BuildingArea   13742 non-null  float64\n",
      " 15  YearBuilt      15551 non-null  float64\n",
      " 16  CouncilArea    34854 non-null  object \n",
      " 17  Lattitude      26881 non-null  float64\n",
      " 18  Longtitude     26881 non-null  float64\n",
      " 19  Regionname     34854 non-null  object \n",
      " 20  Propertycount  34854 non-null  float64\n",
      "dtypes: float64(12), int64(1), object(8)\n",
      "memory usage: 5.6+ MB\n"
     ]
    }
   ],
   "source": [
    "data.info()"
   ]
  },
  {
   "cell_type": "markdown",
   "metadata": {},
   "source": [
    "here we get first rows by using head command"
   ]
  },
  {
   "cell_type": "code",
   "execution_count": 8,
   "metadata": {},
   "outputs": [
    {
     "data": {
      "text/html": [
       "<div>\n",
       "<style scoped>\n",
       "    .dataframe tbody tr th:only-of-type {\n",
       "        vertical-align: middle;\n",
       "    }\n",
       "\n",
       "    .dataframe tbody tr th {\n",
       "        vertical-align: top;\n",
       "    }\n",
       "\n",
       "    .dataframe thead th {\n",
       "        text-align: right;\n",
       "    }\n",
       "</style>\n",
       "<table border=\"1\" class=\"dataframe\">\n",
       "  <thead>\n",
       "    <tr style=\"text-align: right;\">\n",
       "      <th></th>\n",
       "      <th>Suburb</th>\n",
       "      <th>Address</th>\n",
       "      <th>Rooms</th>\n",
       "      <th>Type</th>\n",
       "      <th>Price</th>\n",
       "      <th>Method</th>\n",
       "      <th>SellerG</th>\n",
       "      <th>Date</th>\n",
       "      <th>Distance</th>\n",
       "      <th>Postcode</th>\n",
       "      <th>...</th>\n",
       "      <th>Bathroom</th>\n",
       "      <th>Car</th>\n",
       "      <th>Landsize</th>\n",
       "      <th>BuildingArea</th>\n",
       "      <th>YearBuilt</th>\n",
       "      <th>CouncilArea</th>\n",
       "      <th>Lattitude</th>\n",
       "      <th>Longtitude</th>\n",
       "      <th>Regionname</th>\n",
       "      <th>Propertycount</th>\n",
       "    </tr>\n",
       "  </thead>\n",
       "  <tbody>\n",
       "    <tr>\n",
       "      <th>0</th>\n",
       "      <td>Abbotsford</td>\n",
       "      <td>68 Studley St</td>\n",
       "      <td>2</td>\n",
       "      <td>h</td>\n",
       "      <td>NaN</td>\n",
       "      <td>SS</td>\n",
       "      <td>Jellis</td>\n",
       "      <td>3/09/2016</td>\n",
       "      <td>2.5</td>\n",
       "      <td>3067.0</td>\n",
       "      <td>...</td>\n",
       "      <td>1.0</td>\n",
       "      <td>1.0</td>\n",
       "      <td>126.0</td>\n",
       "      <td>NaN</td>\n",
       "      <td>NaN</td>\n",
       "      <td>Yarra City Council</td>\n",
       "      <td>-37.8014</td>\n",
       "      <td>144.9958</td>\n",
       "      <td>Northern Metropolitan</td>\n",
       "      <td>4019.0</td>\n",
       "    </tr>\n",
       "    <tr>\n",
       "      <th>1</th>\n",
       "      <td>Abbotsford</td>\n",
       "      <td>85 Turner St</td>\n",
       "      <td>2</td>\n",
       "      <td>h</td>\n",
       "      <td>1480000.0</td>\n",
       "      <td>S</td>\n",
       "      <td>Biggin</td>\n",
       "      <td>3/12/2016</td>\n",
       "      <td>2.5</td>\n",
       "      <td>3067.0</td>\n",
       "      <td>...</td>\n",
       "      <td>1.0</td>\n",
       "      <td>1.0</td>\n",
       "      <td>202.0</td>\n",
       "      <td>NaN</td>\n",
       "      <td>NaN</td>\n",
       "      <td>Yarra City Council</td>\n",
       "      <td>-37.7996</td>\n",
       "      <td>144.9984</td>\n",
       "      <td>Northern Metropolitan</td>\n",
       "      <td>4019.0</td>\n",
       "    </tr>\n",
       "    <tr>\n",
       "      <th>2</th>\n",
       "      <td>Abbotsford</td>\n",
       "      <td>25 Bloomburg St</td>\n",
       "      <td>2</td>\n",
       "      <td>h</td>\n",
       "      <td>1035000.0</td>\n",
       "      <td>S</td>\n",
       "      <td>Biggin</td>\n",
       "      <td>4/02/2016</td>\n",
       "      <td>2.5</td>\n",
       "      <td>3067.0</td>\n",
       "      <td>...</td>\n",
       "      <td>1.0</td>\n",
       "      <td>0.0</td>\n",
       "      <td>156.0</td>\n",
       "      <td>79.0</td>\n",
       "      <td>1900.0</td>\n",
       "      <td>Yarra City Council</td>\n",
       "      <td>-37.8079</td>\n",
       "      <td>144.9934</td>\n",
       "      <td>Northern Metropolitan</td>\n",
       "      <td>4019.0</td>\n",
       "    </tr>\n",
       "    <tr>\n",
       "      <th>3</th>\n",
       "      <td>Abbotsford</td>\n",
       "      <td>18/659 Victoria St</td>\n",
       "      <td>3</td>\n",
       "      <td>u</td>\n",
       "      <td>NaN</td>\n",
       "      <td>VB</td>\n",
       "      <td>Rounds</td>\n",
       "      <td>4/02/2016</td>\n",
       "      <td>2.5</td>\n",
       "      <td>3067.0</td>\n",
       "      <td>...</td>\n",
       "      <td>2.0</td>\n",
       "      <td>1.0</td>\n",
       "      <td>0.0</td>\n",
       "      <td>NaN</td>\n",
       "      <td>NaN</td>\n",
       "      <td>Yarra City Council</td>\n",
       "      <td>-37.8114</td>\n",
       "      <td>145.0116</td>\n",
       "      <td>Northern Metropolitan</td>\n",
       "      <td>4019.0</td>\n",
       "    </tr>\n",
       "    <tr>\n",
       "      <th>4</th>\n",
       "      <td>Abbotsford</td>\n",
       "      <td>5 Charles St</td>\n",
       "      <td>3</td>\n",
       "      <td>h</td>\n",
       "      <td>1465000.0</td>\n",
       "      <td>SP</td>\n",
       "      <td>Biggin</td>\n",
       "      <td>4/03/2017</td>\n",
       "      <td>2.5</td>\n",
       "      <td>3067.0</td>\n",
       "      <td>...</td>\n",
       "      <td>2.0</td>\n",
       "      <td>0.0</td>\n",
       "      <td>134.0</td>\n",
       "      <td>150.0</td>\n",
       "      <td>1900.0</td>\n",
       "      <td>Yarra City Council</td>\n",
       "      <td>-37.8093</td>\n",
       "      <td>144.9944</td>\n",
       "      <td>Northern Metropolitan</td>\n",
       "      <td>4019.0</td>\n",
       "    </tr>\n",
       "  </tbody>\n",
       "</table>\n",
       "<p>5 rows × 21 columns</p>\n",
       "</div>"
      ],
      "text/plain": [
       "       Suburb             Address  Rooms Type      Price Method SellerG  \\\n",
       "0  Abbotsford       68 Studley St      2    h        NaN     SS  Jellis   \n",
       "1  Abbotsford        85 Turner St      2    h  1480000.0      S  Biggin   \n",
       "2  Abbotsford     25 Bloomburg St      2    h  1035000.0      S  Biggin   \n",
       "3  Abbotsford  18/659 Victoria St      3    u        NaN     VB  Rounds   \n",
       "4  Abbotsford        5 Charles St      3    h  1465000.0     SP  Biggin   \n",
       "\n",
       "        Date  Distance  Postcode  ...  Bathroom  Car  Landsize  BuildingArea  \\\n",
       "0  3/09/2016       2.5    3067.0  ...       1.0  1.0     126.0           NaN   \n",
       "1  3/12/2016       2.5    3067.0  ...       1.0  1.0     202.0           NaN   \n",
       "2  4/02/2016       2.5    3067.0  ...       1.0  0.0     156.0          79.0   \n",
       "3  4/02/2016       2.5    3067.0  ...       2.0  1.0       0.0           NaN   \n",
       "4  4/03/2017       2.5    3067.0  ...       2.0  0.0     134.0         150.0   \n",
       "\n",
       "   YearBuilt         CouncilArea Lattitude  Longtitude             Regionname  \\\n",
       "0        NaN  Yarra City Council  -37.8014    144.9958  Northern Metropolitan   \n",
       "1        NaN  Yarra City Council  -37.7996    144.9984  Northern Metropolitan   \n",
       "2     1900.0  Yarra City Council  -37.8079    144.9934  Northern Metropolitan   \n",
       "3        NaN  Yarra City Council  -37.8114    145.0116  Northern Metropolitan   \n",
       "4     1900.0  Yarra City Council  -37.8093    144.9944  Northern Metropolitan   \n",
       "\n",
       "  Propertycount  \n",
       "0        4019.0  \n",
       "1        4019.0  \n",
       "2        4019.0  \n",
       "3        4019.0  \n",
       "4        4019.0  \n",
       "\n",
       "[5 rows x 21 columns]"
      ]
     },
     "execution_count": 8,
     "metadata": {},
     "output_type": "execute_result"
    }
   ],
   "source": [
    "data.head(5)"
   ]
  },
  {
   "cell_type": "markdown",
   "metadata": {},
   "source": [
    "here we get first rows by using head command"
   ]
  },
  {
   "cell_type": "code",
   "execution_count": 9,
   "metadata": {},
   "outputs": [
    {
     "data": {
      "text/html": [
       "<div>\n",
       "<style scoped>\n",
       "    .dataframe tbody tr th:only-of-type {\n",
       "        vertical-align: middle;\n",
       "    }\n",
       "\n",
       "    .dataframe tbody tr th {\n",
       "        vertical-align: top;\n",
       "    }\n",
       "\n",
       "    .dataframe thead th {\n",
       "        text-align: right;\n",
       "    }\n",
       "</style>\n",
       "<table border=\"1\" class=\"dataframe\">\n",
       "  <thead>\n",
       "    <tr style=\"text-align: right;\">\n",
       "      <th></th>\n",
       "      <th>Suburb</th>\n",
       "      <th>Address</th>\n",
       "      <th>Rooms</th>\n",
       "      <th>Type</th>\n",
       "      <th>Price</th>\n",
       "      <th>Method</th>\n",
       "      <th>SellerG</th>\n",
       "      <th>Date</th>\n",
       "      <th>Distance</th>\n",
       "      <th>Postcode</th>\n",
       "      <th>...</th>\n",
       "      <th>Bathroom</th>\n",
       "      <th>Car</th>\n",
       "      <th>Landsize</th>\n",
       "      <th>BuildingArea</th>\n",
       "      <th>YearBuilt</th>\n",
       "      <th>CouncilArea</th>\n",
       "      <th>Lattitude</th>\n",
       "      <th>Longtitude</th>\n",
       "      <th>Regionname</th>\n",
       "      <th>Propertycount</th>\n",
       "    </tr>\n",
       "  </thead>\n",
       "  <tbody>\n",
       "    <tr>\n",
       "      <th>34852</th>\n",
       "      <td>Yarraville</td>\n",
       "      <td>13 Burns St</td>\n",
       "      <td>4</td>\n",
       "      <td>h</td>\n",
       "      <td>1480000.0</td>\n",
       "      <td>PI</td>\n",
       "      <td>Jas</td>\n",
       "      <td>24/02/2018</td>\n",
       "      <td>6.3</td>\n",
       "      <td>3013.0</td>\n",
       "      <td>...</td>\n",
       "      <td>1.0</td>\n",
       "      <td>3.0</td>\n",
       "      <td>593.0</td>\n",
       "      <td>NaN</td>\n",
       "      <td>NaN</td>\n",
       "      <td>Maribyrnong City Council</td>\n",
       "      <td>-37.81053</td>\n",
       "      <td>144.88467</td>\n",
       "      <td>Western Metropolitan</td>\n",
       "      <td>6543.0</td>\n",
       "    </tr>\n",
       "    <tr>\n",
       "      <th>34853</th>\n",
       "      <td>Yarraville</td>\n",
       "      <td>29A Murray St</td>\n",
       "      <td>2</td>\n",
       "      <td>h</td>\n",
       "      <td>888000.0</td>\n",
       "      <td>SP</td>\n",
       "      <td>Sweeney</td>\n",
       "      <td>24/02/2018</td>\n",
       "      <td>6.3</td>\n",
       "      <td>3013.0</td>\n",
       "      <td>...</td>\n",
       "      <td>2.0</td>\n",
       "      <td>1.0</td>\n",
       "      <td>98.0</td>\n",
       "      <td>104.0</td>\n",
       "      <td>2018.0</td>\n",
       "      <td>Maribyrnong City Council</td>\n",
       "      <td>-37.81551</td>\n",
       "      <td>144.88826</td>\n",
       "      <td>Western Metropolitan</td>\n",
       "      <td>6543.0</td>\n",
       "    </tr>\n",
       "    <tr>\n",
       "      <th>34854</th>\n",
       "      <td>Yarraville</td>\n",
       "      <td>147A Severn St</td>\n",
       "      <td>2</td>\n",
       "      <td>t</td>\n",
       "      <td>705000.0</td>\n",
       "      <td>S</td>\n",
       "      <td>Jas</td>\n",
       "      <td>24/02/2018</td>\n",
       "      <td>6.3</td>\n",
       "      <td>3013.0</td>\n",
       "      <td>...</td>\n",
       "      <td>1.0</td>\n",
       "      <td>2.0</td>\n",
       "      <td>220.0</td>\n",
       "      <td>120.0</td>\n",
       "      <td>2000.0</td>\n",
       "      <td>Maribyrnong City Council</td>\n",
       "      <td>-37.82286</td>\n",
       "      <td>144.87856</td>\n",
       "      <td>Western Metropolitan</td>\n",
       "      <td>6543.0</td>\n",
       "    </tr>\n",
       "    <tr>\n",
       "      <th>34855</th>\n",
       "      <td>Yarraville</td>\n",
       "      <td>12/37 Stephen St</td>\n",
       "      <td>3</td>\n",
       "      <td>h</td>\n",
       "      <td>1140000.0</td>\n",
       "      <td>SP</td>\n",
       "      <td>hockingstuart</td>\n",
       "      <td>24/02/2018</td>\n",
       "      <td>6.3</td>\n",
       "      <td>3013.0</td>\n",
       "      <td>...</td>\n",
       "      <td>NaN</td>\n",
       "      <td>NaN</td>\n",
       "      <td>NaN</td>\n",
       "      <td>NaN</td>\n",
       "      <td>NaN</td>\n",
       "      <td>Maribyrnong City Council</td>\n",
       "      <td>NaN</td>\n",
       "      <td>NaN</td>\n",
       "      <td>Western Metropolitan</td>\n",
       "      <td>6543.0</td>\n",
       "    </tr>\n",
       "    <tr>\n",
       "      <th>34856</th>\n",
       "      <td>Yarraville</td>\n",
       "      <td>3 Tarrengower St</td>\n",
       "      <td>2</td>\n",
       "      <td>h</td>\n",
       "      <td>1020000.0</td>\n",
       "      <td>PI</td>\n",
       "      <td>RW</td>\n",
       "      <td>24/02/2018</td>\n",
       "      <td>6.3</td>\n",
       "      <td>3013.0</td>\n",
       "      <td>...</td>\n",
       "      <td>1.0</td>\n",
       "      <td>0.0</td>\n",
       "      <td>250.0</td>\n",
       "      <td>103.0</td>\n",
       "      <td>1930.0</td>\n",
       "      <td>Maribyrnong City Council</td>\n",
       "      <td>-37.81810</td>\n",
       "      <td>144.89351</td>\n",
       "      <td>Western Metropolitan</td>\n",
       "      <td>6543.0</td>\n",
       "    </tr>\n",
       "  </tbody>\n",
       "</table>\n",
       "<p>5 rows × 21 columns</p>\n",
       "</div>"
      ],
      "text/plain": [
       "           Suburb           Address  Rooms Type      Price Method  \\\n",
       "34852  Yarraville       13 Burns St      4    h  1480000.0     PI   \n",
       "34853  Yarraville     29A Murray St      2    h   888000.0     SP   \n",
       "34854  Yarraville    147A Severn St      2    t   705000.0      S   \n",
       "34855  Yarraville  12/37 Stephen St      3    h  1140000.0     SP   \n",
       "34856  Yarraville  3 Tarrengower St      2    h  1020000.0     PI   \n",
       "\n",
       "             SellerG        Date  Distance  Postcode  ...  Bathroom  Car  \\\n",
       "34852            Jas  24/02/2018       6.3    3013.0  ...       1.0  3.0   \n",
       "34853        Sweeney  24/02/2018       6.3    3013.0  ...       2.0  1.0   \n",
       "34854            Jas  24/02/2018       6.3    3013.0  ...       1.0  2.0   \n",
       "34855  hockingstuart  24/02/2018       6.3    3013.0  ...       NaN  NaN   \n",
       "34856             RW  24/02/2018       6.3    3013.0  ...       1.0  0.0   \n",
       "\n",
       "       Landsize  BuildingArea  YearBuilt               CouncilArea Lattitude  \\\n",
       "34852     593.0           NaN        NaN  Maribyrnong City Council -37.81053   \n",
       "34853      98.0         104.0     2018.0  Maribyrnong City Council -37.81551   \n",
       "34854     220.0         120.0     2000.0  Maribyrnong City Council -37.82286   \n",
       "34855       NaN           NaN        NaN  Maribyrnong City Council       NaN   \n",
       "34856     250.0         103.0     1930.0  Maribyrnong City Council -37.81810   \n",
       "\n",
       "       Longtitude            Regionname Propertycount  \n",
       "34852   144.88467  Western Metropolitan        6543.0  \n",
       "34853   144.88826  Western Metropolitan        6543.0  \n",
       "34854   144.87856  Western Metropolitan        6543.0  \n",
       "34855         NaN  Western Metropolitan        6543.0  \n",
       "34856   144.89351  Western Metropolitan        6543.0  \n",
       "\n",
       "[5 rows x 21 columns]"
      ]
     },
     "execution_count": 9,
     "metadata": {},
     "output_type": "execute_result"
    }
   ],
   "source": [
    "data.tail(5)"
   ]
  },
  {
   "cell_type": "markdown",
   "metadata": {},
   "source": [
    "describe keyword to get some basic statistical details like count, mean, std , minimum, maximum "
   ]
  },
  {
   "cell_type": "code",
   "execution_count": 10,
   "metadata": {},
   "outputs": [
    {
     "data": {
      "text/html": [
       "<div>\n",
       "<style scoped>\n",
       "    .dataframe tbody tr th:only-of-type {\n",
       "        vertical-align: middle;\n",
       "    }\n",
       "\n",
       "    .dataframe tbody tr th {\n",
       "        vertical-align: top;\n",
       "    }\n",
       "\n",
       "    .dataframe thead th {\n",
       "        text-align: right;\n",
       "    }\n",
       "</style>\n",
       "<table border=\"1\" class=\"dataframe\">\n",
       "  <thead>\n",
       "    <tr style=\"text-align: right;\">\n",
       "      <th></th>\n",
       "      <th>0</th>\n",
       "      <th>1</th>\n",
       "      <th>2</th>\n",
       "      <th>3</th>\n",
       "      <th>4</th>\n",
       "      <th>5</th>\n",
       "      <th>6</th>\n",
       "      <th>7</th>\n",
       "      <th>8</th>\n",
       "      <th>9</th>\n",
       "      <th>...</th>\n",
       "      <th>34847</th>\n",
       "      <th>34848</th>\n",
       "      <th>34849</th>\n",
       "      <th>34850</th>\n",
       "      <th>34851</th>\n",
       "      <th>34852</th>\n",
       "      <th>34853</th>\n",
       "      <th>34854</th>\n",
       "      <th>34855</th>\n",
       "      <th>34856</th>\n",
       "    </tr>\n",
       "  </thead>\n",
       "  <tbody>\n",
       "    <tr>\n",
       "      <th>Suburb</th>\n",
       "      <td>Abbotsford</td>\n",
       "      <td>Abbotsford</td>\n",
       "      <td>Abbotsford</td>\n",
       "      <td>Abbotsford</td>\n",
       "      <td>Abbotsford</td>\n",
       "      <td>Abbotsford</td>\n",
       "      <td>Abbotsford</td>\n",
       "      <td>Abbotsford</td>\n",
       "      <td>Abbotsford</td>\n",
       "      <td>Abbotsford</td>\n",
       "      <td>...</td>\n",
       "      <td>Wollert</td>\n",
       "      <td>Wollert</td>\n",
       "      <td>Wollert</td>\n",
       "      <td>Wollert</td>\n",
       "      <td>Yarraville</td>\n",
       "      <td>Yarraville</td>\n",
       "      <td>Yarraville</td>\n",
       "      <td>Yarraville</td>\n",
       "      <td>Yarraville</td>\n",
       "      <td>Yarraville</td>\n",
       "    </tr>\n",
       "    <tr>\n",
       "      <th>Address</th>\n",
       "      <td>68 Studley St</td>\n",
       "      <td>85 Turner St</td>\n",
       "      <td>25 Bloomburg St</td>\n",
       "      <td>18/659 Victoria St</td>\n",
       "      <td>5 Charles St</td>\n",
       "      <td>40 Federation La</td>\n",
       "      <td>55a Park St</td>\n",
       "      <td>16 Maugie St</td>\n",
       "      <td>53 Turner St</td>\n",
       "      <td>99 Turner St</td>\n",
       "      <td>...</td>\n",
       "      <td>27 Birchmore Rd</td>\n",
       "      <td>16 Gunther Wy</td>\n",
       "      <td>35 Kingscote Wy</td>\n",
       "      <td>15 Rockgarden Wy</td>\n",
       "      <td>78 Bayview Rd</td>\n",
       "      <td>13 Burns St</td>\n",
       "      <td>29A Murray St</td>\n",
       "      <td>147A Severn St</td>\n",
       "      <td>12/37 Stephen St</td>\n",
       "      <td>3 Tarrengower St</td>\n",
       "    </tr>\n",
       "    <tr>\n",
       "      <th>Rooms</th>\n",
       "      <td>2</td>\n",
       "      <td>2</td>\n",
       "      <td>2</td>\n",
       "      <td>3</td>\n",
       "      <td>3</td>\n",
       "      <td>3</td>\n",
       "      <td>4</td>\n",
       "      <td>4</td>\n",
       "      <td>2</td>\n",
       "      <td>2</td>\n",
       "      <td>...</td>\n",
       "      <td>3</td>\n",
       "      <td>4</td>\n",
       "      <td>3</td>\n",
       "      <td>3</td>\n",
       "      <td>3</td>\n",
       "      <td>4</td>\n",
       "      <td>2</td>\n",
       "      <td>2</td>\n",
       "      <td>3</td>\n",
       "      <td>2</td>\n",
       "    </tr>\n",
       "    <tr>\n",
       "      <th>Type</th>\n",
       "      <td>h</td>\n",
       "      <td>h</td>\n",
       "      <td>h</td>\n",
       "      <td>u</td>\n",
       "      <td>h</td>\n",
       "      <td>h</td>\n",
       "      <td>h</td>\n",
       "      <td>h</td>\n",
       "      <td>h</td>\n",
       "      <td>h</td>\n",
       "      <td>...</td>\n",
       "      <td>h</td>\n",
       "      <td>h</td>\n",
       "      <td>h</td>\n",
       "      <td>h</td>\n",
       "      <td>h</td>\n",
       "      <td>h</td>\n",
       "      <td>h</td>\n",
       "      <td>t</td>\n",
       "      <td>h</td>\n",
       "      <td>h</td>\n",
       "    </tr>\n",
       "    <tr>\n",
       "      <th>Price</th>\n",
       "      <td>NaN</td>\n",
       "      <td>1.48e+06</td>\n",
       "      <td>1.035e+06</td>\n",
       "      <td>NaN</td>\n",
       "      <td>1.465e+06</td>\n",
       "      <td>850000</td>\n",
       "      <td>1.6e+06</td>\n",
       "      <td>NaN</td>\n",
       "      <td>NaN</td>\n",
       "      <td>NaN</td>\n",
       "      <td>...</td>\n",
       "      <td>500000</td>\n",
       "      <td>621000</td>\n",
       "      <td>570000</td>\n",
       "      <td>NaN</td>\n",
       "      <td>1.101e+06</td>\n",
       "      <td>1.48e+06</td>\n",
       "      <td>888000</td>\n",
       "      <td>705000</td>\n",
       "      <td>1.14e+06</td>\n",
       "      <td>1.02e+06</td>\n",
       "    </tr>\n",
       "    <tr>\n",
       "      <th>Method</th>\n",
       "      <td>SS</td>\n",
       "      <td>S</td>\n",
       "      <td>S</td>\n",
       "      <td>VB</td>\n",
       "      <td>SP</td>\n",
       "      <td>PI</td>\n",
       "      <td>VB</td>\n",
       "      <td>SN</td>\n",
       "      <td>S</td>\n",
       "      <td>S</td>\n",
       "      <td>...</td>\n",
       "      <td>PI</td>\n",
       "      <td>S</td>\n",
       "      <td>SP</td>\n",
       "      <td>SP</td>\n",
       "      <td>S</td>\n",
       "      <td>PI</td>\n",
       "      <td>SP</td>\n",
       "      <td>S</td>\n",
       "      <td>SP</td>\n",
       "      <td>PI</td>\n",
       "    </tr>\n",
       "    <tr>\n",
       "      <th>SellerG</th>\n",
       "      <td>Jellis</td>\n",
       "      <td>Biggin</td>\n",
       "      <td>Biggin</td>\n",
       "      <td>Rounds</td>\n",
       "      <td>Biggin</td>\n",
       "      <td>Biggin</td>\n",
       "      <td>Nelson</td>\n",
       "      <td>Nelson</td>\n",
       "      <td>Biggin</td>\n",
       "      <td>Collins</td>\n",
       "      <td>...</td>\n",
       "      <td>Ray</td>\n",
       "      <td>hockingstuart</td>\n",
       "      <td>RW</td>\n",
       "      <td>LJ</td>\n",
       "      <td>Jas</td>\n",
       "      <td>Jas</td>\n",
       "      <td>Sweeney</td>\n",
       "      <td>Jas</td>\n",
       "      <td>hockingstuart</td>\n",
       "      <td>RW</td>\n",
       "    </tr>\n",
       "    <tr>\n",
       "      <th>Date</th>\n",
       "      <td>3/09/2016</td>\n",
       "      <td>3/12/2016</td>\n",
       "      <td>4/02/2016</td>\n",
       "      <td>4/02/2016</td>\n",
       "      <td>4/03/2017</td>\n",
       "      <td>4/03/2017</td>\n",
       "      <td>4/06/2016</td>\n",
       "      <td>6/08/2016</td>\n",
       "      <td>6/08/2016</td>\n",
       "      <td>6/08/2016</td>\n",
       "      <td>...</td>\n",
       "      <td>24/02/2018</td>\n",
       "      <td>24/02/2018</td>\n",
       "      <td>24/02/2018</td>\n",
       "      <td>24/02/2018</td>\n",
       "      <td>24/02/2018</td>\n",
       "      <td>24/02/2018</td>\n",
       "      <td>24/02/2018</td>\n",
       "      <td>24/02/2018</td>\n",
       "      <td>24/02/2018</td>\n",
       "      <td>24/02/2018</td>\n",
       "    </tr>\n",
       "    <tr>\n",
       "      <th>Distance</th>\n",
       "      <td>2.5</td>\n",
       "      <td>2.5</td>\n",
       "      <td>2.5</td>\n",
       "      <td>2.5</td>\n",
       "      <td>2.5</td>\n",
       "      <td>2.5</td>\n",
       "      <td>2.5</td>\n",
       "      <td>2.5</td>\n",
       "      <td>2.5</td>\n",
       "      <td>2.5</td>\n",
       "      <td>...</td>\n",
       "      <td>25.5</td>\n",
       "      <td>25.5</td>\n",
       "      <td>25.5</td>\n",
       "      <td>25.5</td>\n",
       "      <td>6.3</td>\n",
       "      <td>6.3</td>\n",
       "      <td>6.3</td>\n",
       "      <td>6.3</td>\n",
       "      <td>6.3</td>\n",
       "      <td>6.3</td>\n",
       "    </tr>\n",
       "    <tr>\n",
       "      <th>Postcode</th>\n",
       "      <td>3067</td>\n",
       "      <td>3067</td>\n",
       "      <td>3067</td>\n",
       "      <td>3067</td>\n",
       "      <td>3067</td>\n",
       "      <td>3067</td>\n",
       "      <td>3067</td>\n",
       "      <td>3067</td>\n",
       "      <td>3067</td>\n",
       "      <td>3067</td>\n",
       "      <td>...</td>\n",
       "      <td>3750</td>\n",
       "      <td>3750</td>\n",
       "      <td>3750</td>\n",
       "      <td>3750</td>\n",
       "      <td>3013</td>\n",
       "      <td>3013</td>\n",
       "      <td>3013</td>\n",
       "      <td>3013</td>\n",
       "      <td>3013</td>\n",
       "      <td>3013</td>\n",
       "    </tr>\n",
       "    <tr>\n",
       "      <th>Bedroom2</th>\n",
       "      <td>2</td>\n",
       "      <td>2</td>\n",
       "      <td>2</td>\n",
       "      <td>3</td>\n",
       "      <td>3</td>\n",
       "      <td>3</td>\n",
       "      <td>3</td>\n",
       "      <td>3</td>\n",
       "      <td>4</td>\n",
       "      <td>3</td>\n",
       "      <td>...</td>\n",
       "      <td>3</td>\n",
       "      <td>4</td>\n",
       "      <td>3</td>\n",
       "      <td>3</td>\n",
       "      <td>3</td>\n",
       "      <td>4</td>\n",
       "      <td>2</td>\n",
       "      <td>2</td>\n",
       "      <td>NaN</td>\n",
       "      <td>2</td>\n",
       "    </tr>\n",
       "    <tr>\n",
       "      <th>Bathroom</th>\n",
       "      <td>1</td>\n",
       "      <td>1</td>\n",
       "      <td>1</td>\n",
       "      <td>2</td>\n",
       "      <td>2</td>\n",
       "      <td>2</td>\n",
       "      <td>1</td>\n",
       "      <td>2</td>\n",
       "      <td>1</td>\n",
       "      <td>2</td>\n",
       "      <td>...</td>\n",
       "      <td>2</td>\n",
       "      <td>2</td>\n",
       "      <td>2</td>\n",
       "      <td>2</td>\n",
       "      <td>1</td>\n",
       "      <td>1</td>\n",
       "      <td>2</td>\n",
       "      <td>1</td>\n",
       "      <td>NaN</td>\n",
       "      <td>1</td>\n",
       "    </tr>\n",
       "    <tr>\n",
       "      <th>Car</th>\n",
       "      <td>1</td>\n",
       "      <td>1</td>\n",
       "      <td>0</td>\n",
       "      <td>1</td>\n",
       "      <td>0</td>\n",
       "      <td>1</td>\n",
       "      <td>2</td>\n",
       "      <td>2</td>\n",
       "      <td>2</td>\n",
       "      <td>1</td>\n",
       "      <td>...</td>\n",
       "      <td>2</td>\n",
       "      <td>2</td>\n",
       "      <td>2</td>\n",
       "      <td>2</td>\n",
       "      <td>NaN</td>\n",
       "      <td>3</td>\n",
       "      <td>1</td>\n",
       "      <td>2</td>\n",
       "      <td>NaN</td>\n",
       "      <td>0</td>\n",
       "    </tr>\n",
       "    <tr>\n",
       "      <th>Landsize</th>\n",
       "      <td>126</td>\n",
       "      <td>202</td>\n",
       "      <td>156</td>\n",
       "      <td>0</td>\n",
       "      <td>134</td>\n",
       "      <td>94</td>\n",
       "      <td>120</td>\n",
       "      <td>400</td>\n",
       "      <td>201</td>\n",
       "      <td>202</td>\n",
       "      <td>...</td>\n",
       "      <td>383</td>\n",
       "      <td>375</td>\n",
       "      <td>404</td>\n",
       "      <td>268</td>\n",
       "      <td>288</td>\n",
       "      <td>593</td>\n",
       "      <td>98</td>\n",
       "      <td>220</td>\n",
       "      <td>NaN</td>\n",
       "      <td>250</td>\n",
       "    </tr>\n",
       "    <tr>\n",
       "      <th>BuildingArea</th>\n",
       "      <td>NaN</td>\n",
       "      <td>NaN</td>\n",
       "      <td>79</td>\n",
       "      <td>NaN</td>\n",
       "      <td>150</td>\n",
       "      <td>NaN</td>\n",
       "      <td>142</td>\n",
       "      <td>220</td>\n",
       "      <td>NaN</td>\n",
       "      <td>NaN</td>\n",
       "      <td>...</td>\n",
       "      <td>118</td>\n",
       "      <td>NaN</td>\n",
       "      <td>158</td>\n",
       "      <td>135</td>\n",
       "      <td>NaN</td>\n",
       "      <td>NaN</td>\n",
       "      <td>104</td>\n",
       "      <td>120</td>\n",
       "      <td>NaN</td>\n",
       "      <td>103</td>\n",
       "    </tr>\n",
       "    <tr>\n",
       "      <th>YearBuilt</th>\n",
       "      <td>NaN</td>\n",
       "      <td>NaN</td>\n",
       "      <td>1900</td>\n",
       "      <td>NaN</td>\n",
       "      <td>1900</td>\n",
       "      <td>NaN</td>\n",
       "      <td>2014</td>\n",
       "      <td>2006</td>\n",
       "      <td>1900</td>\n",
       "      <td>1900</td>\n",
       "      <td>...</td>\n",
       "      <td>2016</td>\n",
       "      <td>NaN</td>\n",
       "      <td>2012</td>\n",
       "      <td>2016</td>\n",
       "      <td>NaN</td>\n",
       "      <td>NaN</td>\n",
       "      <td>2018</td>\n",
       "      <td>2000</td>\n",
       "      <td>NaN</td>\n",
       "      <td>1930</td>\n",
       "    </tr>\n",
       "    <tr>\n",
       "      <th>CouncilArea</th>\n",
       "      <td>Yarra City Council</td>\n",
       "      <td>Yarra City Council</td>\n",
       "      <td>Yarra City Council</td>\n",
       "      <td>Yarra City Council</td>\n",
       "      <td>Yarra City Council</td>\n",
       "      <td>Yarra City Council</td>\n",
       "      <td>Yarra City Council</td>\n",
       "      <td>Yarra City Council</td>\n",
       "      <td>Yarra City Council</td>\n",
       "      <td>Yarra City Council</td>\n",
       "      <td>...</td>\n",
       "      <td>Whittlesea City Council</td>\n",
       "      <td>Whittlesea City Council</td>\n",
       "      <td>Whittlesea City Council</td>\n",
       "      <td>Whittlesea City Council</td>\n",
       "      <td>Maribyrnong City Council</td>\n",
       "      <td>Maribyrnong City Council</td>\n",
       "      <td>Maribyrnong City Council</td>\n",
       "      <td>Maribyrnong City Council</td>\n",
       "      <td>Maribyrnong City Council</td>\n",
       "      <td>Maribyrnong City Council</td>\n",
       "    </tr>\n",
       "    <tr>\n",
       "      <th>Lattitude</th>\n",
       "      <td>-37.8014</td>\n",
       "      <td>-37.7996</td>\n",
       "      <td>-37.8079</td>\n",
       "      <td>-37.8114</td>\n",
       "      <td>-37.8093</td>\n",
       "      <td>-37.7969</td>\n",
       "      <td>-37.8072</td>\n",
       "      <td>-37.7965</td>\n",
       "      <td>-37.7995</td>\n",
       "      <td>-37.7996</td>\n",
       "      <td>...</td>\n",
       "      <td>-37.6194</td>\n",
       "      <td>-37.6133</td>\n",
       "      <td>-37.6103</td>\n",
       "      <td>-37.6109</td>\n",
       "      <td>-37.8109</td>\n",
       "      <td>-37.8105</td>\n",
       "      <td>-37.8155</td>\n",
       "      <td>-37.8229</td>\n",
       "      <td>NaN</td>\n",
       "      <td>-37.8181</td>\n",
       "    </tr>\n",
       "    <tr>\n",
       "      <th>Longtitude</th>\n",
       "      <td>144.996</td>\n",
       "      <td>144.998</td>\n",
       "      <td>144.993</td>\n",
       "      <td>145.012</td>\n",
       "      <td>144.994</td>\n",
       "      <td>144.997</td>\n",
       "      <td>144.994</td>\n",
       "      <td>144.996</td>\n",
       "      <td>144.997</td>\n",
       "      <td>144.999</td>\n",
       "      <td>...</td>\n",
       "      <td>145.04</td>\n",
       "      <td>145.034</td>\n",
       "      <td>145.034</td>\n",
       "      <td>145.043</td>\n",
       "      <td>144.885</td>\n",
       "      <td>144.885</td>\n",
       "      <td>144.888</td>\n",
       "      <td>144.879</td>\n",
       "      <td>NaN</td>\n",
       "      <td>144.894</td>\n",
       "    </tr>\n",
       "    <tr>\n",
       "      <th>Regionname</th>\n",
       "      <td>Northern Metropolitan</td>\n",
       "      <td>Northern Metropolitan</td>\n",
       "      <td>Northern Metropolitan</td>\n",
       "      <td>Northern Metropolitan</td>\n",
       "      <td>Northern Metropolitan</td>\n",
       "      <td>Northern Metropolitan</td>\n",
       "      <td>Northern Metropolitan</td>\n",
       "      <td>Northern Metropolitan</td>\n",
       "      <td>Northern Metropolitan</td>\n",
       "      <td>Northern Metropolitan</td>\n",
       "      <td>...</td>\n",
       "      <td>Northern Metropolitan</td>\n",
       "      <td>Northern Metropolitan</td>\n",
       "      <td>Northern Metropolitan</td>\n",
       "      <td>Northern Metropolitan</td>\n",
       "      <td>Western Metropolitan</td>\n",
       "      <td>Western Metropolitan</td>\n",
       "      <td>Western Metropolitan</td>\n",
       "      <td>Western Metropolitan</td>\n",
       "      <td>Western Metropolitan</td>\n",
       "      <td>Western Metropolitan</td>\n",
       "    </tr>\n",
       "    <tr>\n",
       "      <th>Propertycount</th>\n",
       "      <td>4019</td>\n",
       "      <td>4019</td>\n",
       "      <td>4019</td>\n",
       "      <td>4019</td>\n",
       "      <td>4019</td>\n",
       "      <td>4019</td>\n",
       "      <td>4019</td>\n",
       "      <td>4019</td>\n",
       "      <td>4019</td>\n",
       "      <td>4019</td>\n",
       "      <td>...</td>\n",
       "      <td>2940</td>\n",
       "      <td>2940</td>\n",
       "      <td>2940</td>\n",
       "      <td>2940</td>\n",
       "      <td>6543</td>\n",
       "      <td>6543</td>\n",
       "      <td>6543</td>\n",
       "      <td>6543</td>\n",
       "      <td>6543</td>\n",
       "      <td>6543</td>\n",
       "    </tr>\n",
       "  </tbody>\n",
       "</table>\n",
       "<p>21 rows × 34857 columns</p>\n",
       "</div>"
      ],
      "text/plain": [
       "                               0                      1      \\\n",
       "Suburb                    Abbotsford             Abbotsford   \n",
       "Address                68 Studley St           85 Turner St   \n",
       "Rooms                              2                      2   \n",
       "Type                               h                      h   \n",
       "Price                            NaN               1.48e+06   \n",
       "Method                            SS                      S   \n",
       "SellerG                       Jellis                 Biggin   \n",
       "Date                       3/09/2016              3/12/2016   \n",
       "Distance                         2.5                    2.5   \n",
       "Postcode                        3067                   3067   \n",
       "Bedroom2                           2                      2   \n",
       "Bathroom                           1                      1   \n",
       "Car                                1                      1   \n",
       "Landsize                         126                    202   \n",
       "BuildingArea                     NaN                    NaN   \n",
       "YearBuilt                        NaN                    NaN   \n",
       "CouncilArea       Yarra City Council     Yarra City Council   \n",
       "Lattitude                   -37.8014               -37.7996   \n",
       "Longtitude                   144.996                144.998   \n",
       "Regionname     Northern Metropolitan  Northern Metropolitan   \n",
       "Propertycount                   4019                   4019   \n",
       "\n",
       "                               2                      3      \\\n",
       "Suburb                    Abbotsford             Abbotsford   \n",
       "Address              25 Bloomburg St     18/659 Victoria St   \n",
       "Rooms                              2                      3   \n",
       "Type                               h                      u   \n",
       "Price                      1.035e+06                    NaN   \n",
       "Method                             S                     VB   \n",
       "SellerG                       Biggin                 Rounds   \n",
       "Date                       4/02/2016              4/02/2016   \n",
       "Distance                         2.5                    2.5   \n",
       "Postcode                        3067                   3067   \n",
       "Bedroom2                           2                      3   \n",
       "Bathroom                           1                      2   \n",
       "Car                                0                      1   \n",
       "Landsize                         156                      0   \n",
       "BuildingArea                      79                    NaN   \n",
       "YearBuilt                       1900                    NaN   \n",
       "CouncilArea       Yarra City Council     Yarra City Council   \n",
       "Lattitude                   -37.8079               -37.8114   \n",
       "Longtitude                   144.993                145.012   \n",
       "Regionname     Northern Metropolitan  Northern Metropolitan   \n",
       "Propertycount                   4019                   4019   \n",
       "\n",
       "                               4                      5      \\\n",
       "Suburb                    Abbotsford             Abbotsford   \n",
       "Address                 5 Charles St       40 Federation La   \n",
       "Rooms                              3                      3   \n",
       "Type                               h                      h   \n",
       "Price                      1.465e+06                 850000   \n",
       "Method                            SP                     PI   \n",
       "SellerG                       Biggin                 Biggin   \n",
       "Date                       4/03/2017              4/03/2017   \n",
       "Distance                         2.5                    2.5   \n",
       "Postcode                        3067                   3067   \n",
       "Bedroom2                           3                      3   \n",
       "Bathroom                           2                      2   \n",
       "Car                                0                      1   \n",
       "Landsize                         134                     94   \n",
       "BuildingArea                     150                    NaN   \n",
       "YearBuilt                       1900                    NaN   \n",
       "CouncilArea       Yarra City Council     Yarra City Council   \n",
       "Lattitude                   -37.8093               -37.7969   \n",
       "Longtitude                   144.994                144.997   \n",
       "Regionname     Northern Metropolitan  Northern Metropolitan   \n",
       "Propertycount                   4019                   4019   \n",
       "\n",
       "                               6                      7      \\\n",
       "Suburb                    Abbotsford             Abbotsford   \n",
       "Address                  55a Park St           16 Maugie St   \n",
       "Rooms                              4                      4   \n",
       "Type                               h                      h   \n",
       "Price                        1.6e+06                    NaN   \n",
       "Method                            VB                     SN   \n",
       "SellerG                       Nelson                 Nelson   \n",
       "Date                       4/06/2016              6/08/2016   \n",
       "Distance                         2.5                    2.5   \n",
       "Postcode                        3067                   3067   \n",
       "Bedroom2                           3                      3   \n",
       "Bathroom                           1                      2   \n",
       "Car                                2                      2   \n",
       "Landsize                         120                    400   \n",
       "BuildingArea                     142                    220   \n",
       "YearBuilt                       2014                   2006   \n",
       "CouncilArea       Yarra City Council     Yarra City Council   \n",
       "Lattitude                   -37.8072               -37.7965   \n",
       "Longtitude                   144.994                144.996   \n",
       "Regionname     Northern Metropolitan  Northern Metropolitan   \n",
       "Propertycount                   4019                   4019   \n",
       "\n",
       "                               8                      9      ...  \\\n",
       "Suburb                    Abbotsford             Abbotsford  ...   \n",
       "Address                 53 Turner St           99 Turner St  ...   \n",
       "Rooms                              2                      2  ...   \n",
       "Type                               h                      h  ...   \n",
       "Price                            NaN                    NaN  ...   \n",
       "Method                             S                      S  ...   \n",
       "SellerG                       Biggin                Collins  ...   \n",
       "Date                       6/08/2016              6/08/2016  ...   \n",
       "Distance                         2.5                    2.5  ...   \n",
       "Postcode                        3067                   3067  ...   \n",
       "Bedroom2                           4                      3  ...   \n",
       "Bathroom                           1                      2  ...   \n",
       "Car                                2                      1  ...   \n",
       "Landsize                         201                    202  ...   \n",
       "BuildingArea                     NaN                    NaN  ...   \n",
       "YearBuilt                       1900                   1900  ...   \n",
       "CouncilArea       Yarra City Council     Yarra City Council  ...   \n",
       "Lattitude                   -37.7995               -37.7996  ...   \n",
       "Longtitude                   144.997                144.999  ...   \n",
       "Regionname     Northern Metropolitan  Northern Metropolitan  ...   \n",
       "Propertycount                   4019                   4019  ...   \n",
       "\n",
       "                                 34847                    34848  \\\n",
       "Suburb                         Wollert                  Wollert   \n",
       "Address                27 Birchmore Rd            16 Gunther Wy   \n",
       "Rooms                                3                        4   \n",
       "Type                                 h                        h   \n",
       "Price                           500000                   621000   \n",
       "Method                              PI                        S   \n",
       "SellerG                            Ray            hockingstuart   \n",
       "Date                        24/02/2018               24/02/2018   \n",
       "Distance                          25.5                     25.5   \n",
       "Postcode                          3750                     3750   \n",
       "Bedroom2                             3                        4   \n",
       "Bathroom                             2                        2   \n",
       "Car                                  2                        2   \n",
       "Landsize                           383                      375   \n",
       "BuildingArea                       118                      NaN   \n",
       "YearBuilt                         2016                      NaN   \n",
       "CouncilArea    Whittlesea City Council  Whittlesea City Council   \n",
       "Lattitude                     -37.6194                 -37.6133   \n",
       "Longtitude                      145.04                  145.034   \n",
       "Regionname       Northern Metropolitan    Northern Metropolitan   \n",
       "Propertycount                     2940                     2940   \n",
       "\n",
       "                                 34849                    34850  \\\n",
       "Suburb                         Wollert                  Wollert   \n",
       "Address                35 Kingscote Wy         15 Rockgarden Wy   \n",
       "Rooms                                3                        3   \n",
       "Type                                 h                        h   \n",
       "Price                           570000                      NaN   \n",
       "Method                              SP                       SP   \n",
       "SellerG                             RW                       LJ   \n",
       "Date                        24/02/2018               24/02/2018   \n",
       "Distance                          25.5                     25.5   \n",
       "Postcode                          3750                     3750   \n",
       "Bedroom2                             3                        3   \n",
       "Bathroom                             2                        2   \n",
       "Car                                  2                        2   \n",
       "Landsize                           404                      268   \n",
       "BuildingArea                       158                      135   \n",
       "YearBuilt                         2012                     2016   \n",
       "CouncilArea    Whittlesea City Council  Whittlesea City Council   \n",
       "Lattitude                     -37.6103                 -37.6109   \n",
       "Longtitude                     145.034                  145.043   \n",
       "Regionname       Northern Metropolitan    Northern Metropolitan   \n",
       "Propertycount                     2940                     2940   \n",
       "\n",
       "                                  34851                     34852  \\\n",
       "Suburb                       Yarraville                Yarraville   \n",
       "Address                   78 Bayview Rd               13 Burns St   \n",
       "Rooms                                 3                         4   \n",
       "Type                                  h                         h   \n",
       "Price                         1.101e+06                  1.48e+06   \n",
       "Method                                S                        PI   \n",
       "SellerG                             Jas                       Jas   \n",
       "Date                         24/02/2018                24/02/2018   \n",
       "Distance                            6.3                       6.3   \n",
       "Postcode                           3013                      3013   \n",
       "Bedroom2                              3                         4   \n",
       "Bathroom                              1                         1   \n",
       "Car                                 NaN                         3   \n",
       "Landsize                            288                       593   \n",
       "BuildingArea                        NaN                       NaN   \n",
       "YearBuilt                           NaN                       NaN   \n",
       "CouncilArea    Maribyrnong City Council  Maribyrnong City Council   \n",
       "Lattitude                      -37.8109                  -37.8105   \n",
       "Longtitude                      144.885                   144.885   \n",
       "Regionname         Western Metropolitan      Western Metropolitan   \n",
       "Propertycount                      6543                      6543   \n",
       "\n",
       "                                  34853                     34854  \\\n",
       "Suburb                       Yarraville                Yarraville   \n",
       "Address                   29A Murray St            147A Severn St   \n",
       "Rooms                                 2                         2   \n",
       "Type                                  h                         t   \n",
       "Price                            888000                    705000   \n",
       "Method                               SP                         S   \n",
       "SellerG                         Sweeney                       Jas   \n",
       "Date                         24/02/2018                24/02/2018   \n",
       "Distance                            6.3                       6.3   \n",
       "Postcode                           3013                      3013   \n",
       "Bedroom2                              2                         2   \n",
       "Bathroom                              2                         1   \n",
       "Car                                   1                         2   \n",
       "Landsize                             98                       220   \n",
       "BuildingArea                        104                       120   \n",
       "YearBuilt                          2018                      2000   \n",
       "CouncilArea    Maribyrnong City Council  Maribyrnong City Council   \n",
       "Lattitude                      -37.8155                  -37.8229   \n",
       "Longtitude                      144.888                   144.879   \n",
       "Regionname         Western Metropolitan      Western Metropolitan   \n",
       "Propertycount                      6543                      6543   \n",
       "\n",
       "                                  34855                     34856  \n",
       "Suburb                       Yarraville                Yarraville  \n",
       "Address                12/37 Stephen St          3 Tarrengower St  \n",
       "Rooms                                 3                         2  \n",
       "Type                                  h                         h  \n",
       "Price                          1.14e+06                  1.02e+06  \n",
       "Method                               SP                        PI  \n",
       "SellerG                   hockingstuart                        RW  \n",
       "Date                         24/02/2018                24/02/2018  \n",
       "Distance                            6.3                       6.3  \n",
       "Postcode                           3013                      3013  \n",
       "Bedroom2                            NaN                         2  \n",
       "Bathroom                            NaN                         1  \n",
       "Car                                 NaN                         0  \n",
       "Landsize                            NaN                       250  \n",
       "BuildingArea                        NaN                       103  \n",
       "YearBuilt                           NaN                      1930  \n",
       "CouncilArea    Maribyrnong City Council  Maribyrnong City Council  \n",
       "Lattitude                           NaN                  -37.8181  \n",
       "Longtitude                          NaN                   144.894  \n",
       "Regionname         Western Metropolitan      Western Metropolitan  \n",
       "Propertycount                      6543                      6543  \n",
       "\n",
       "[21 rows x 34857 columns]"
      ]
     },
     "execution_count": 10,
     "metadata": {},
     "output_type": "execute_result"
    }
   ],
   "source": [
    "data.T # transpose of csv "
   ]
  },
  {
   "cell_type": "code",
   "execution_count": 11,
   "metadata": {},
   "outputs": [
    {
     "data": {
      "text/html": [
       "<div>\n",
       "<style scoped>\n",
       "    .dataframe tbody tr th:only-of-type {\n",
       "        vertical-align: middle;\n",
       "    }\n",
       "\n",
       "    .dataframe tbody tr th {\n",
       "        vertical-align: top;\n",
       "    }\n",
       "\n",
       "    .dataframe thead th {\n",
       "        text-align: right;\n",
       "    }\n",
       "</style>\n",
       "<table border=\"1\" class=\"dataframe\">\n",
       "  <thead>\n",
       "    <tr style=\"text-align: right;\">\n",
       "      <th></th>\n",
       "      <th>Rooms</th>\n",
       "      <th>Price</th>\n",
       "      <th>Distance</th>\n",
       "      <th>Postcode</th>\n",
       "      <th>Bedroom2</th>\n",
       "      <th>Bathroom</th>\n",
       "      <th>Car</th>\n",
       "      <th>Landsize</th>\n",
       "      <th>BuildingArea</th>\n",
       "      <th>YearBuilt</th>\n",
       "      <th>Lattitude</th>\n",
       "      <th>Longtitude</th>\n",
       "      <th>Propertycount</th>\n",
       "    </tr>\n",
       "  </thead>\n",
       "  <tbody>\n",
       "    <tr>\n",
       "      <th>count</th>\n",
       "      <td>34857.000000</td>\n",
       "      <td>2.724700e+04</td>\n",
       "      <td>34856.000000</td>\n",
       "      <td>34856.000000</td>\n",
       "      <td>26640.000000</td>\n",
       "      <td>26631.000000</td>\n",
       "      <td>26129.000000</td>\n",
       "      <td>23047.000000</td>\n",
       "      <td>13742.00000</td>\n",
       "      <td>15551.000000</td>\n",
       "      <td>26881.000000</td>\n",
       "      <td>26881.000000</td>\n",
       "      <td>34854.000000</td>\n",
       "    </tr>\n",
       "    <tr>\n",
       "      <th>mean</th>\n",
       "      <td>3.031012</td>\n",
       "      <td>1.050173e+06</td>\n",
       "      <td>11.184929</td>\n",
       "      <td>3116.062859</td>\n",
       "      <td>3.084647</td>\n",
       "      <td>1.624798</td>\n",
       "      <td>1.728845</td>\n",
       "      <td>593.598993</td>\n",
       "      <td>160.25640</td>\n",
       "      <td>1965.289885</td>\n",
       "      <td>-37.810634</td>\n",
       "      <td>145.001851</td>\n",
       "      <td>7572.888306</td>\n",
       "    </tr>\n",
       "    <tr>\n",
       "      <th>std</th>\n",
       "      <td>0.969933</td>\n",
       "      <td>6.414671e+05</td>\n",
       "      <td>6.788892</td>\n",
       "      <td>109.023903</td>\n",
       "      <td>0.980690</td>\n",
       "      <td>0.724212</td>\n",
       "      <td>1.010771</td>\n",
       "      <td>3398.841946</td>\n",
       "      <td>401.26706</td>\n",
       "      <td>37.328178</td>\n",
       "      <td>0.090279</td>\n",
       "      <td>0.120169</td>\n",
       "      <td>4428.090313</td>\n",
       "    </tr>\n",
       "    <tr>\n",
       "      <th>min</th>\n",
       "      <td>1.000000</td>\n",
       "      <td>8.500000e+04</td>\n",
       "      <td>0.000000</td>\n",
       "      <td>3000.000000</td>\n",
       "      <td>0.000000</td>\n",
       "      <td>0.000000</td>\n",
       "      <td>0.000000</td>\n",
       "      <td>0.000000</td>\n",
       "      <td>0.00000</td>\n",
       "      <td>1196.000000</td>\n",
       "      <td>-38.190430</td>\n",
       "      <td>144.423790</td>\n",
       "      <td>83.000000</td>\n",
       "    </tr>\n",
       "    <tr>\n",
       "      <th>25%</th>\n",
       "      <td>2.000000</td>\n",
       "      <td>6.350000e+05</td>\n",
       "      <td>6.400000</td>\n",
       "      <td>3051.000000</td>\n",
       "      <td>2.000000</td>\n",
       "      <td>1.000000</td>\n",
       "      <td>1.000000</td>\n",
       "      <td>224.000000</td>\n",
       "      <td>102.00000</td>\n",
       "      <td>1940.000000</td>\n",
       "      <td>-37.862950</td>\n",
       "      <td>144.933500</td>\n",
       "      <td>4385.000000</td>\n",
       "    </tr>\n",
       "    <tr>\n",
       "      <th>50%</th>\n",
       "      <td>3.000000</td>\n",
       "      <td>8.700000e+05</td>\n",
       "      <td>10.300000</td>\n",
       "      <td>3103.000000</td>\n",
       "      <td>3.000000</td>\n",
       "      <td>2.000000</td>\n",
       "      <td>2.000000</td>\n",
       "      <td>521.000000</td>\n",
       "      <td>136.00000</td>\n",
       "      <td>1970.000000</td>\n",
       "      <td>-37.807600</td>\n",
       "      <td>145.007800</td>\n",
       "      <td>6763.000000</td>\n",
       "    </tr>\n",
       "    <tr>\n",
       "      <th>75%</th>\n",
       "      <td>4.000000</td>\n",
       "      <td>1.295000e+06</td>\n",
       "      <td>14.000000</td>\n",
       "      <td>3156.000000</td>\n",
       "      <td>4.000000</td>\n",
       "      <td>2.000000</td>\n",
       "      <td>2.000000</td>\n",
       "      <td>670.000000</td>\n",
       "      <td>188.00000</td>\n",
       "      <td>2000.000000</td>\n",
       "      <td>-37.754100</td>\n",
       "      <td>145.071900</td>\n",
       "      <td>10412.000000</td>\n",
       "    </tr>\n",
       "    <tr>\n",
       "      <th>max</th>\n",
       "      <td>16.000000</td>\n",
       "      <td>1.120000e+07</td>\n",
       "      <td>48.100000</td>\n",
       "      <td>3978.000000</td>\n",
       "      <td>30.000000</td>\n",
       "      <td>12.000000</td>\n",
       "      <td>26.000000</td>\n",
       "      <td>433014.000000</td>\n",
       "      <td>44515.00000</td>\n",
       "      <td>2106.000000</td>\n",
       "      <td>-37.390200</td>\n",
       "      <td>145.526350</td>\n",
       "      <td>21650.000000</td>\n",
       "    </tr>\n",
       "  </tbody>\n",
       "</table>\n",
       "</div>"
      ],
      "text/plain": [
       "              Rooms         Price      Distance      Postcode      Bedroom2  \\\n",
       "count  34857.000000  2.724700e+04  34856.000000  34856.000000  26640.000000   \n",
       "mean       3.031012  1.050173e+06     11.184929   3116.062859      3.084647   \n",
       "std        0.969933  6.414671e+05      6.788892    109.023903      0.980690   \n",
       "min        1.000000  8.500000e+04      0.000000   3000.000000      0.000000   \n",
       "25%        2.000000  6.350000e+05      6.400000   3051.000000      2.000000   \n",
       "50%        3.000000  8.700000e+05     10.300000   3103.000000      3.000000   \n",
       "75%        4.000000  1.295000e+06     14.000000   3156.000000      4.000000   \n",
       "max       16.000000  1.120000e+07     48.100000   3978.000000     30.000000   \n",
       "\n",
       "           Bathroom           Car       Landsize  BuildingArea     YearBuilt  \\\n",
       "count  26631.000000  26129.000000   23047.000000   13742.00000  15551.000000   \n",
       "mean       1.624798      1.728845     593.598993     160.25640   1965.289885   \n",
       "std        0.724212      1.010771    3398.841946     401.26706     37.328178   \n",
       "min        0.000000      0.000000       0.000000       0.00000   1196.000000   \n",
       "25%        1.000000      1.000000     224.000000     102.00000   1940.000000   \n",
       "50%        2.000000      2.000000     521.000000     136.00000   1970.000000   \n",
       "75%        2.000000      2.000000     670.000000     188.00000   2000.000000   \n",
       "max       12.000000     26.000000  433014.000000   44515.00000   2106.000000   \n",
       "\n",
       "          Lattitude    Longtitude  Propertycount  \n",
       "count  26881.000000  26881.000000   34854.000000  \n",
       "mean     -37.810634    145.001851    7572.888306  \n",
       "std        0.090279      0.120169    4428.090313  \n",
       "min      -38.190430    144.423790      83.000000  \n",
       "25%      -37.862950    144.933500    4385.000000  \n",
       "50%      -37.807600    145.007800    6763.000000  \n",
       "75%      -37.754100    145.071900   10412.000000  \n",
       "max      -37.390200    145.526350   21650.000000  "
      ]
     },
     "execution_count": 11,
     "metadata": {},
     "output_type": "execute_result"
    }
   ],
   "source": [
    "data.describe()"
   ]
  },
  {
   "cell_type": "markdown",
   "metadata": {},
   "source": [
    "describe command applies to numerical values if it is a string we get output like NaN"
   ]
  },
  {
   "cell_type": "code",
   "execution_count": 13,
   "metadata": {},
   "outputs": [
    {
     "data": {
      "text/html": [
       "<div>\n",
       "<style scoped>\n",
       "    .dataframe tbody tr th:only-of-type {\n",
       "        vertical-align: middle;\n",
       "    }\n",
       "\n",
       "    .dataframe tbody tr th {\n",
       "        vertical-align: top;\n",
       "    }\n",
       "\n",
       "    .dataframe thead th {\n",
       "        text-align: right;\n",
       "    }\n",
       "</style>\n",
       "<table border=\"1\" class=\"dataframe\">\n",
       "  <thead>\n",
       "    <tr style=\"text-align: right;\">\n",
       "      <th></th>\n",
       "      <th>Suburb</th>\n",
       "      <th>Address</th>\n",
       "      <th>Rooms</th>\n",
       "      <th>Type</th>\n",
       "      <th>Price</th>\n",
       "      <th>Method</th>\n",
       "      <th>SellerG</th>\n",
       "      <th>Date</th>\n",
       "      <th>Distance</th>\n",
       "      <th>Postcode</th>\n",
       "      <th>...</th>\n",
       "      <th>Bathroom</th>\n",
       "      <th>Car</th>\n",
       "      <th>Landsize</th>\n",
       "      <th>BuildingArea</th>\n",
       "      <th>YearBuilt</th>\n",
       "      <th>CouncilArea</th>\n",
       "      <th>Lattitude</th>\n",
       "      <th>Longtitude</th>\n",
       "      <th>Regionname</th>\n",
       "      <th>Propertycount</th>\n",
       "    </tr>\n",
       "  </thead>\n",
       "  <tbody>\n",
       "    <tr>\n",
       "      <th>count</th>\n",
       "      <td>34857</td>\n",
       "      <td>34857</td>\n",
       "      <td>34857.000000</td>\n",
       "      <td>34857</td>\n",
       "      <td>2.724700e+04</td>\n",
       "      <td>34857</td>\n",
       "      <td>34857</td>\n",
       "      <td>34857</td>\n",
       "      <td>34856.000000</td>\n",
       "      <td>34856.000000</td>\n",
       "      <td>...</td>\n",
       "      <td>26631.000000</td>\n",
       "      <td>26129.000000</td>\n",
       "      <td>23047.000000</td>\n",
       "      <td>13742.00000</td>\n",
       "      <td>15551.000000</td>\n",
       "      <td>34854</td>\n",
       "      <td>26881.000000</td>\n",
       "      <td>26881.000000</td>\n",
       "      <td>34854</td>\n",
       "      <td>34854.000000</td>\n",
       "    </tr>\n",
       "    <tr>\n",
       "      <th>unique</th>\n",
       "      <td>351</td>\n",
       "      <td>34009</td>\n",
       "      <td>NaN</td>\n",
       "      <td>3</td>\n",
       "      <td>NaN</td>\n",
       "      <td>9</td>\n",
       "      <td>388</td>\n",
       "      <td>78</td>\n",
       "      <td>NaN</td>\n",
       "      <td>NaN</td>\n",
       "      <td>...</td>\n",
       "      <td>NaN</td>\n",
       "      <td>NaN</td>\n",
       "      <td>NaN</td>\n",
       "      <td>NaN</td>\n",
       "      <td>NaN</td>\n",
       "      <td>33</td>\n",
       "      <td>NaN</td>\n",
       "      <td>NaN</td>\n",
       "      <td>8</td>\n",
       "      <td>NaN</td>\n",
       "    </tr>\n",
       "    <tr>\n",
       "      <th>top</th>\n",
       "      <td>Reservoir</td>\n",
       "      <td>5 Charles St</td>\n",
       "      <td>NaN</td>\n",
       "      <td>h</td>\n",
       "      <td>NaN</td>\n",
       "      <td>S</td>\n",
       "      <td>Jellis</td>\n",
       "      <td>28/10/2017</td>\n",
       "      <td>NaN</td>\n",
       "      <td>NaN</td>\n",
       "      <td>...</td>\n",
       "      <td>NaN</td>\n",
       "      <td>NaN</td>\n",
       "      <td>NaN</td>\n",
       "      <td>NaN</td>\n",
       "      <td>NaN</td>\n",
       "      <td>Boroondara City Council</td>\n",
       "      <td>NaN</td>\n",
       "      <td>NaN</td>\n",
       "      <td>Southern Metropolitan</td>\n",
       "      <td>NaN</td>\n",
       "    </tr>\n",
       "    <tr>\n",
       "      <th>freq</th>\n",
       "      <td>844</td>\n",
       "      <td>6</td>\n",
       "      <td>NaN</td>\n",
       "      <td>23980</td>\n",
       "      <td>NaN</td>\n",
       "      <td>19744</td>\n",
       "      <td>3359</td>\n",
       "      <td>1119</td>\n",
       "      <td>NaN</td>\n",
       "      <td>NaN</td>\n",
       "      <td>...</td>\n",
       "      <td>NaN</td>\n",
       "      <td>NaN</td>\n",
       "      <td>NaN</td>\n",
       "      <td>NaN</td>\n",
       "      <td>NaN</td>\n",
       "      <td>3675</td>\n",
       "      <td>NaN</td>\n",
       "      <td>NaN</td>\n",
       "      <td>11836</td>\n",
       "      <td>NaN</td>\n",
       "    </tr>\n",
       "    <tr>\n",
       "      <th>mean</th>\n",
       "      <td>NaN</td>\n",
       "      <td>NaN</td>\n",
       "      <td>3.031012</td>\n",
       "      <td>NaN</td>\n",
       "      <td>1.050173e+06</td>\n",
       "      <td>NaN</td>\n",
       "      <td>NaN</td>\n",
       "      <td>NaN</td>\n",
       "      <td>11.184929</td>\n",
       "      <td>3116.062859</td>\n",
       "      <td>...</td>\n",
       "      <td>1.624798</td>\n",
       "      <td>1.728845</td>\n",
       "      <td>593.598993</td>\n",
       "      <td>160.25640</td>\n",
       "      <td>1965.289885</td>\n",
       "      <td>NaN</td>\n",
       "      <td>-37.810634</td>\n",
       "      <td>145.001851</td>\n",
       "      <td>NaN</td>\n",
       "      <td>7572.888306</td>\n",
       "    </tr>\n",
       "    <tr>\n",
       "      <th>std</th>\n",
       "      <td>NaN</td>\n",
       "      <td>NaN</td>\n",
       "      <td>0.969933</td>\n",
       "      <td>NaN</td>\n",
       "      <td>6.414671e+05</td>\n",
       "      <td>NaN</td>\n",
       "      <td>NaN</td>\n",
       "      <td>NaN</td>\n",
       "      <td>6.788892</td>\n",
       "      <td>109.023903</td>\n",
       "      <td>...</td>\n",
       "      <td>0.724212</td>\n",
       "      <td>1.010771</td>\n",
       "      <td>3398.841946</td>\n",
       "      <td>401.26706</td>\n",
       "      <td>37.328178</td>\n",
       "      <td>NaN</td>\n",
       "      <td>0.090279</td>\n",
       "      <td>0.120169</td>\n",
       "      <td>NaN</td>\n",
       "      <td>4428.090313</td>\n",
       "    </tr>\n",
       "    <tr>\n",
       "      <th>min</th>\n",
       "      <td>NaN</td>\n",
       "      <td>NaN</td>\n",
       "      <td>1.000000</td>\n",
       "      <td>NaN</td>\n",
       "      <td>8.500000e+04</td>\n",
       "      <td>NaN</td>\n",
       "      <td>NaN</td>\n",
       "      <td>NaN</td>\n",
       "      <td>0.000000</td>\n",
       "      <td>3000.000000</td>\n",
       "      <td>...</td>\n",
       "      <td>0.000000</td>\n",
       "      <td>0.000000</td>\n",
       "      <td>0.000000</td>\n",
       "      <td>0.00000</td>\n",
       "      <td>1196.000000</td>\n",
       "      <td>NaN</td>\n",
       "      <td>-38.190430</td>\n",
       "      <td>144.423790</td>\n",
       "      <td>NaN</td>\n",
       "      <td>83.000000</td>\n",
       "    </tr>\n",
       "    <tr>\n",
       "      <th>25%</th>\n",
       "      <td>NaN</td>\n",
       "      <td>NaN</td>\n",
       "      <td>2.000000</td>\n",
       "      <td>NaN</td>\n",
       "      <td>6.350000e+05</td>\n",
       "      <td>NaN</td>\n",
       "      <td>NaN</td>\n",
       "      <td>NaN</td>\n",
       "      <td>6.400000</td>\n",
       "      <td>3051.000000</td>\n",
       "      <td>...</td>\n",
       "      <td>1.000000</td>\n",
       "      <td>1.000000</td>\n",
       "      <td>224.000000</td>\n",
       "      <td>102.00000</td>\n",
       "      <td>1940.000000</td>\n",
       "      <td>NaN</td>\n",
       "      <td>-37.862950</td>\n",
       "      <td>144.933500</td>\n",
       "      <td>NaN</td>\n",
       "      <td>4385.000000</td>\n",
       "    </tr>\n",
       "    <tr>\n",
       "      <th>50%</th>\n",
       "      <td>NaN</td>\n",
       "      <td>NaN</td>\n",
       "      <td>3.000000</td>\n",
       "      <td>NaN</td>\n",
       "      <td>8.700000e+05</td>\n",
       "      <td>NaN</td>\n",
       "      <td>NaN</td>\n",
       "      <td>NaN</td>\n",
       "      <td>10.300000</td>\n",
       "      <td>3103.000000</td>\n",
       "      <td>...</td>\n",
       "      <td>2.000000</td>\n",
       "      <td>2.000000</td>\n",
       "      <td>521.000000</td>\n",
       "      <td>136.00000</td>\n",
       "      <td>1970.000000</td>\n",
       "      <td>NaN</td>\n",
       "      <td>-37.807600</td>\n",
       "      <td>145.007800</td>\n",
       "      <td>NaN</td>\n",
       "      <td>6763.000000</td>\n",
       "    </tr>\n",
       "    <tr>\n",
       "      <th>75%</th>\n",
       "      <td>NaN</td>\n",
       "      <td>NaN</td>\n",
       "      <td>4.000000</td>\n",
       "      <td>NaN</td>\n",
       "      <td>1.295000e+06</td>\n",
       "      <td>NaN</td>\n",
       "      <td>NaN</td>\n",
       "      <td>NaN</td>\n",
       "      <td>14.000000</td>\n",
       "      <td>3156.000000</td>\n",
       "      <td>...</td>\n",
       "      <td>2.000000</td>\n",
       "      <td>2.000000</td>\n",
       "      <td>670.000000</td>\n",
       "      <td>188.00000</td>\n",
       "      <td>2000.000000</td>\n",
       "      <td>NaN</td>\n",
       "      <td>-37.754100</td>\n",
       "      <td>145.071900</td>\n",
       "      <td>NaN</td>\n",
       "      <td>10412.000000</td>\n",
       "    </tr>\n",
       "    <tr>\n",
       "      <th>max</th>\n",
       "      <td>NaN</td>\n",
       "      <td>NaN</td>\n",
       "      <td>16.000000</td>\n",
       "      <td>NaN</td>\n",
       "      <td>1.120000e+07</td>\n",
       "      <td>NaN</td>\n",
       "      <td>NaN</td>\n",
       "      <td>NaN</td>\n",
       "      <td>48.100000</td>\n",
       "      <td>3978.000000</td>\n",
       "      <td>...</td>\n",
       "      <td>12.000000</td>\n",
       "      <td>26.000000</td>\n",
       "      <td>433014.000000</td>\n",
       "      <td>44515.00000</td>\n",
       "      <td>2106.000000</td>\n",
       "      <td>NaN</td>\n",
       "      <td>-37.390200</td>\n",
       "      <td>145.526350</td>\n",
       "      <td>NaN</td>\n",
       "      <td>21650.000000</td>\n",
       "    </tr>\n",
       "  </tbody>\n",
       "</table>\n",
       "<p>11 rows × 21 columns</p>\n",
       "</div>"
      ],
      "text/plain": [
       "           Suburb       Address         Rooms   Type         Price Method  \\\n",
       "count       34857         34857  34857.000000  34857  2.724700e+04  34857   \n",
       "unique        351         34009           NaN      3           NaN      9   \n",
       "top     Reservoir  5 Charles St           NaN      h           NaN      S   \n",
       "freq          844             6           NaN  23980           NaN  19744   \n",
       "mean          NaN           NaN      3.031012    NaN  1.050173e+06    NaN   \n",
       "std           NaN           NaN      0.969933    NaN  6.414671e+05    NaN   \n",
       "min           NaN           NaN      1.000000    NaN  8.500000e+04    NaN   \n",
       "25%           NaN           NaN      2.000000    NaN  6.350000e+05    NaN   \n",
       "50%           NaN           NaN      3.000000    NaN  8.700000e+05    NaN   \n",
       "75%           NaN           NaN      4.000000    NaN  1.295000e+06    NaN   \n",
       "max           NaN           NaN     16.000000    NaN  1.120000e+07    NaN   \n",
       "\n",
       "       SellerG        Date      Distance      Postcode  ...      Bathroom  \\\n",
       "count    34857       34857  34856.000000  34856.000000  ...  26631.000000   \n",
       "unique     388          78           NaN           NaN  ...           NaN   \n",
       "top     Jellis  28/10/2017           NaN           NaN  ...           NaN   \n",
       "freq      3359        1119           NaN           NaN  ...           NaN   \n",
       "mean       NaN         NaN     11.184929   3116.062859  ...      1.624798   \n",
       "std        NaN         NaN      6.788892    109.023903  ...      0.724212   \n",
       "min        NaN         NaN      0.000000   3000.000000  ...      0.000000   \n",
       "25%        NaN         NaN      6.400000   3051.000000  ...      1.000000   \n",
       "50%        NaN         NaN     10.300000   3103.000000  ...      2.000000   \n",
       "75%        NaN         NaN     14.000000   3156.000000  ...      2.000000   \n",
       "max        NaN         NaN     48.100000   3978.000000  ...     12.000000   \n",
       "\n",
       "                 Car       Landsize  BuildingArea     YearBuilt  \\\n",
       "count   26129.000000   23047.000000   13742.00000  15551.000000   \n",
       "unique           NaN            NaN           NaN           NaN   \n",
       "top              NaN            NaN           NaN           NaN   \n",
       "freq             NaN            NaN           NaN           NaN   \n",
       "mean        1.728845     593.598993     160.25640   1965.289885   \n",
       "std         1.010771    3398.841946     401.26706     37.328178   \n",
       "min         0.000000       0.000000       0.00000   1196.000000   \n",
       "25%         1.000000     224.000000     102.00000   1940.000000   \n",
       "50%         2.000000     521.000000     136.00000   1970.000000   \n",
       "75%         2.000000     670.000000     188.00000   2000.000000   \n",
       "max        26.000000  433014.000000   44515.00000   2106.000000   \n",
       "\n",
       "                    CouncilArea     Lattitude    Longtitude  \\\n",
       "count                     34854  26881.000000  26881.000000   \n",
       "unique                       33           NaN           NaN   \n",
       "top     Boroondara City Council           NaN           NaN   \n",
       "freq                       3675           NaN           NaN   \n",
       "mean                        NaN    -37.810634    145.001851   \n",
       "std                         NaN      0.090279      0.120169   \n",
       "min                         NaN    -38.190430    144.423790   \n",
       "25%                         NaN    -37.862950    144.933500   \n",
       "50%                         NaN    -37.807600    145.007800   \n",
       "75%                         NaN    -37.754100    145.071900   \n",
       "max                         NaN    -37.390200    145.526350   \n",
       "\n",
       "                   Regionname Propertycount  \n",
       "count                   34854  34854.000000  \n",
       "unique                      8           NaN  \n",
       "top     Southern Metropolitan           NaN  \n",
       "freq                    11836           NaN  \n",
       "mean                      NaN   7572.888306  \n",
       "std                       NaN   4428.090313  \n",
       "min                       NaN     83.000000  \n",
       "25%                       NaN   4385.000000  \n",
       "50%                       NaN   6763.000000  \n",
       "75%                       NaN  10412.000000  \n",
       "max                       NaN  21650.000000  \n",
       "\n",
       "[11 rows x 21 columns]"
      ]
     },
     "execution_count": 13,
     "metadata": {},
     "output_type": "execute_result"
    }
   ],
   "source": [
    "data.describe(include='all') #  white list of data types to include in the result"
   ]
  },
  {
   "cell_type": "markdown",
   "metadata": {},
   "source": [
    "here we include only object dtype in describe method to get string instead of NaN"
   ]
  },
  {
   "cell_type": "code",
   "execution_count": 14,
   "metadata": {},
   "outputs": [
    {
     "data": {
      "text/html": [
       "<div>\n",
       "<style scoped>\n",
       "    .dataframe tbody tr th:only-of-type {\n",
       "        vertical-align: middle;\n",
       "    }\n",
       "\n",
       "    .dataframe tbody tr th {\n",
       "        vertical-align: top;\n",
       "    }\n",
       "\n",
       "    .dataframe thead th {\n",
       "        text-align: right;\n",
       "    }\n",
       "</style>\n",
       "<table border=\"1\" class=\"dataframe\">\n",
       "  <thead>\n",
       "    <tr style=\"text-align: right;\">\n",
       "      <th></th>\n",
       "      <th>Suburb</th>\n",
       "      <th>Address</th>\n",
       "      <th>Type</th>\n",
       "      <th>Method</th>\n",
       "      <th>SellerG</th>\n",
       "      <th>Date</th>\n",
       "      <th>CouncilArea</th>\n",
       "      <th>Regionname</th>\n",
       "    </tr>\n",
       "  </thead>\n",
       "  <tbody>\n",
       "    <tr>\n",
       "      <th>count</th>\n",
       "      <td>34857</td>\n",
       "      <td>34857</td>\n",
       "      <td>34857</td>\n",
       "      <td>34857</td>\n",
       "      <td>34857</td>\n",
       "      <td>34857</td>\n",
       "      <td>34854</td>\n",
       "      <td>34854</td>\n",
       "    </tr>\n",
       "    <tr>\n",
       "      <th>unique</th>\n",
       "      <td>351</td>\n",
       "      <td>34009</td>\n",
       "      <td>3</td>\n",
       "      <td>9</td>\n",
       "      <td>388</td>\n",
       "      <td>78</td>\n",
       "      <td>33</td>\n",
       "      <td>8</td>\n",
       "    </tr>\n",
       "    <tr>\n",
       "      <th>top</th>\n",
       "      <td>Reservoir</td>\n",
       "      <td>5 Charles St</td>\n",
       "      <td>h</td>\n",
       "      <td>S</td>\n",
       "      <td>Jellis</td>\n",
       "      <td>28/10/2017</td>\n",
       "      <td>Boroondara City Council</td>\n",
       "      <td>Southern Metropolitan</td>\n",
       "    </tr>\n",
       "    <tr>\n",
       "      <th>freq</th>\n",
       "      <td>844</td>\n",
       "      <td>6</td>\n",
       "      <td>23980</td>\n",
       "      <td>19744</td>\n",
       "      <td>3359</td>\n",
       "      <td>1119</td>\n",
       "      <td>3675</td>\n",
       "      <td>11836</td>\n",
       "    </tr>\n",
       "  </tbody>\n",
       "</table>\n",
       "</div>"
      ],
      "text/plain": [
       "           Suburb       Address   Type Method SellerG        Date  \\\n",
       "count       34857         34857  34857  34857   34857       34857   \n",
       "unique        351         34009      3      9     388          78   \n",
       "top     Reservoir  5 Charles St      h      S  Jellis  28/10/2017   \n",
       "freq          844             6  23980  19744    3359        1119   \n",
       "\n",
       "                    CouncilArea             Regionname  \n",
       "count                     34854                  34854  \n",
       "unique                       33                      8  \n",
       "top     Boroondara City Council  Southern Metropolitan  \n",
       "freq                       3675                  11836  "
      ]
     },
     "execution_count": 14,
     "metadata": {},
     "output_type": "execute_result"
    }
   ],
   "source": [
    "data.describe(include='object')"
   ]
  },
  {
   "cell_type": "markdown",
   "metadata": {},
   "source": [
    "Here we get unique entries of each column"
   ]
  },
  {
   "cell_type": "code",
   "execution_count": 15,
   "metadata": {},
   "outputs": [
    {
     "name": "stdout",
     "output_type": "stream",
     "text": [
      "\n",
      " Suburb has 351 unique entries: first 3 are\n",
      "0    Abbotsford\n",
      "1    Abbotsford\n",
      "2    Abbotsford\n",
      "Name: Suburb, dtype: object\n",
      "\n",
      " Address has 34009 unique entries: first 3 are\n",
      "0      68 Studley St\n",
      "1       85 Turner St\n",
      "2    25 Bloomburg St\n",
      "Name: Address, dtype: object\n",
      "\n",
      " Type has 3 unique entries: first 3 are\n",
      "0    h\n",
      "1    h\n",
      "2    h\n",
      "Name: Type, dtype: object\n",
      "\n",
      " Method has 9 unique entries: first 3 are\n",
      "0    SS\n",
      "1     S\n",
      "2     S\n",
      "Name: Method, dtype: object\n",
      "\n",
      " SellerG has 388 unique entries: first 3 are\n",
      "0    Jellis\n",
      "1    Biggin\n",
      "2    Biggin\n",
      "Name: SellerG, dtype: object\n",
      "\n",
      " Date has 78 unique entries: first 3 are\n",
      "0    3/09/2016\n",
      "1    3/12/2016\n",
      "2    4/02/2016\n",
      "Name: Date, dtype: object\n",
      "\n",
      " CouncilArea has 33 unique entries: first 3 are\n",
      "0    Yarra City Council\n",
      "1    Yarra City Council\n",
      "2    Yarra City Council\n",
      "Name: CouncilArea, dtype: object\n",
      "\n",
      " Regionname has 8 unique entries: first 3 are\n",
      "0    Northern Metropolitan\n",
      "1    Northern Metropolitan\n",
      "2    Northern Metropolitan\n",
      "Name: Regionname, dtype: object\n"
     ]
    }
   ],
   "source": [
    "n = 3\n",
    "for col, col_type in data.dtypes.iteritems():\n",
    "    if(col_type == 'object'):\n",
    "        print('\\n', col, 'has', data[col].nunique(),'unique entries: first',n,'are')\n",
    "        print(data[col][0:n])"
   ]
  },
  {
   "cell_type": "code",
   "execution_count": 4,
   "metadata": {},
   "outputs": [
    {
     "data": {
      "text/plain": [
       "Suburb               0\n",
       "Address              0\n",
       "Rooms                0\n",
       "Type                 0\n",
       "Price             7610\n",
       "Method               0\n",
       "SellerG              0\n",
       "Date                 0\n",
       "Distance             1\n",
       "Postcode             1\n",
       "Bedroom2          8217\n",
       "Bathroom          8226\n",
       "Car               8728\n",
       "Landsize         11810\n",
       "BuildingArea     21115\n",
       "YearBuilt        19306\n",
       "CouncilArea          3\n",
       "Lattitude         7976\n",
       "Longtitude        7976\n",
       "Regionname           3\n",
       "Propertycount        3\n",
       "dtype: int64"
      ]
     },
     "execution_count": 4,
     "metadata": {},
     "output_type": "execute_result"
    }
   ],
   "source": [
    "#checking the dataframe if they are any null values \n",
    "data.isnull().sum()"
   ]
  },
  {
   "cell_type": "markdown",
   "metadata": {},
   "source": [
    "# Visualization"
   ]
  },
  {
   "cell_type": "code",
   "execution_count": 7,
   "metadata": {},
   "outputs": [],
   "source": [
    "import matplotlib.pyplot as plt\n",
    "import seaborn as sns"
   ]
  },
  {
   "cell_type": "markdown",
   "metadata": {},
   "source": [
    "Here I am showing landsize and buildingarea varaiation in different regions"
   ]
  },
  {
   "cell_type": "code",
   "execution_count": 17,
   "metadata": {},
   "outputs": [
    {
     "data": {
      "image/png": "[encoded data removed]",
      "text/plain": [
       "<Figure size 1440x360 with 1 Axes>"
      ]
     },
     "metadata": {
      "needs_background": "light"
     },
     "output_type": "display_data"
    }
   ],
   "source": [
    "data.plot(x=\"Regionname\", y=[\"Landsize\",\"BuildingArea\"],figsize=(20, 5))\n",
    "plt.show()"
   ]
  },
  {
   "cell_type": "markdown",
   "metadata": {},
   "source": [
    "Box plot"
   ]
  },
  {
   "cell_type": "code",
   "execution_count": 18,
   "metadata": {},
   "outputs": [
    {
     "data": {
      "text/plain": [
       "<AxesSubplot:xlabel='Method', ylabel='Rooms'>"
      ]
     },
     "execution_count": 18,
     "metadata": {},
     "output_type": "execute_result"
    },
    {
     "data": {
      "image/png": "[encoded data removed]",
      "text/plain": [
       "<Figure size 432x288 with 1 Axes>"
      ]
     },
     "metadata": {
      "needs_background": "light"
     },
     "output_type": "display_data"
    }
   ],
   "source": [
    "sns.boxplot(x=\"Method\", y=\"Rooms\", data=data)"
   ]
  },
  {
   "cell_type": "markdown",
   "metadata": {},
   "source": [
    "Violin plot"
   ]
  },
  {
   "cell_type": "code",
   "execution_count": 19,
   "metadata": {},
   "outputs": [
    {
     "data": {
      "text/plain": [
       "<AxesSubplot:xlabel='Type', ylabel='Bathroom'>"
      ]
     },
     "execution_count": 19,
     "metadata": {},
     "output_type": "execute_result"
    },
    {
     "data": {
      "image/png": "[encoded data removed]",
      "text/plain": [
       "<Figure size 432x288 with 1 Axes>"
      ]
     },
     "metadata": {
      "needs_background": "light"
     },
     "output_type": "display_data"
    }
   ],
   "source": [
    "sns.violinplot(x=\"Type\", y=\"Bathroom\", data=data, palette=\"Set3\", fontsize=5)"
   ]
  },
  {
   "cell_type": "markdown",
   "metadata": {},
   "source": [
    "## Scatter plot"
   ]
  },
  {
   "cell_type": "markdown",
   "metadata": {},
   "source": [
    "Here showing variation between property count and suburb using scatter plot"
   ]
  },
  {
   "cell_type": "code",
   "execution_count": 20,
   "metadata": {},
   "outputs": [
    {
     "data": {
      "image/png": "[encoded data removed]",
      "text/plain": [
       "<Figure size 720x648 with 1 Axes>"
      ]
     },
     "metadata": {
      "needs_background": "light"
     },
     "output_type": "display_data"
    }
   ],
   "source": [
    "data.plot(kind = 'scatter', x = 'Propertycount', y = 'Suburb',fontsize=3,figsize=(10,9))\n",
    "plt.show()"
   ]
  },
  {
   "cell_type": "markdown",
   "metadata": {},
   "source": [
    "## Histogram"
   ]
  },
  {
   "cell_type": "code",
   "execution_count": 21,
   "metadata": {},
   "outputs": [
    {
     "data": {
      "text/plain": [
       "Text(0, 0.5, 'Price')"
      ]
     },
     "execution_count": 21,
     "metadata": {},
     "output_type": "execute_result"
    },
    {
     "data": {
      "image/png": "[encoded data removed]",
      "text/plain": [
       "<Figure size 432x288 with 1 Axes>"
      ]
     },
     "metadata": {
      "needs_background": "light"
     },
     "output_type": "display_data"
    }
   ],
   "source": [
    "data['Price'].hist(bins=10) # including bins count in hist for Price column\n",
    "plt.ylabel('Price',fontsize = 11) #  giving label to x-axis and its font size"
   ]
  },
  {
   "cell_type": "code",
   "execution_count": 25,
   "metadata": {},
   "outputs": [
    {
     "data": {
      "text/plain": [
       "Text(0.5, 0, 'Carspots')"
      ]
     },
     "execution_count": 25,
     "metadata": {},
     "output_type": "execute_result"
    },
    {
     "data": {
      "image/png": "[encoded data removed]",
      "text/plain": [
       "<Figure size 432x288 with 1 Axes>"
      ]
     },
     "metadata": {
      "needs_background": "light"
     },
     "output_type": "display_data"
    }
   ],
   "source": [
    "data['Car'].hist(bins=data['Car'].nunique()) # histogram with bins of unique values of Carspots column\n",
    "plt.xlabel('Carspots',fontsize=11)"
   ]
  },
  {
   "cell_type": "markdown",
   "metadata": {},
   "source": [
    "## Bar graph"
   ]
  },
  {
   "cell_type": "code",
   "execution_count": 23,
   "metadata": {},
   "outputs": [
    {
     "data": {
      "text/plain": [
       "120.00     185\n",
       "100.00     161\n",
       "110.00     159\n",
       "130.00     153\n",
       "115.00     149\n",
       "          ... \n",
       "157.85       1\n",
       "130.52       1\n",
       "196.10       1\n",
       "2002.00      1\n",
       "664.00       1\n",
       "Name: BuildingArea, Length: 740, dtype: int64"
      ]
     },
     "execution_count": 23,
     "metadata": {},
     "output_type": "execute_result"
    }
   ],
   "source": [
    "data['BuildingArea'].value_counts()"
   ]
  },
  {
   "cell_type": "code",
   "execution_count": 24,
   "metadata": {},
   "outputs": [
    {
     "data": {
      "text/plain": [
       "Text(0.5, 0, 'BuildingArea')"
      ]
     },
     "execution_count": 24,
     "metadata": {},
     "output_type": "execute_result"
    },
    {
     "data": {
      "image/png": "[encoded data removed]",
      "text/plain": [
       "<Figure size 720x360 with 1 Axes>"
      ]
     },
     "metadata": {
      "needs_background": "light"
     },
     "output_type": "display_data"
    }
   ],
   "source": [
    "data['BuildingArea'].value_counts().plot(kind='barh',y='YearBuilt',fontsize=1,figsize=(10,5)) # here we get the values of BuildingArea column\n",
    "plt.xlabel('BuildingArea')"
   ]
  },
  {
   "cell_type": "markdown",
   "metadata": {},
   "source": [
    "#### Hypothesis"
   ]
  },
  {
   "cell_type": "markdown",
   "metadata": {},
   "source": [
    "1. Demand for the prices of houses according to yearbuilt,\n",
    "here the prices of houses are varying according to different yearbuilt(years)\n",
    "(there is more data in 'Price' column so frequency is taking in x-axis)"
   ]
  },
  {
   "cell_type": "code",
   "execution_count": 26,
   "metadata": {},
   "outputs": [
    {
     "data": {
      "text/plain": [
       "YearBuilt\n",
       "1196.0    1.200000e+06\n",
       "1800.0             NaN\n",
       "1820.0    7.200000e+05\n",
       "1830.0    8.550000e+05\n",
       "1850.0    1.179500e+06\n",
       "              ...     \n",
       "2016.0    1.365359e+06\n",
       "2017.0    1.117888e+06\n",
       "2018.0    1.099500e+06\n",
       "2019.0    1.100000e+06\n",
       "2106.0             NaN\n",
       "Name: Price, Length: 160, dtype: float64"
      ]
     },
     "execution_count": 26,
     "metadata": {},
     "output_type": "execute_result"
    }
   ],
   "source": [
    "avgYear = data.groupby('YearBuilt')\n",
    "avgYear['Price'].mean()"
   ]
  },
  {
   "cell_type": "code",
   "execution_count": 27,
   "metadata": {},
   "outputs": [
    {
     "data": {
      "text/plain": [
       "<AxesSubplot:ylabel='YearBuilt'>"
      ]
     },
     "execution_count": 27,
     "metadata": {},
     "output_type": "execute_result"
    },
    {
     "data": {
      "image/png": "[encoded data removed]",
      "text/plain": [
       "<Figure size 1440x7200 with 1 Axes>"
      ]
     },
     "metadata": {
      "needs_background": "light"
     },
     "output_type": "display_data"
    }
   ],
   "source": [
    "avgYear['Price'].mean().plot(kind='barh',figsize=(20,100),y='YearBuilt',fontsize=8)"
   ]
  },
  {
   "cell_type": "markdown",
   "metadata": {},
   "source": [
    "2. Demand for the rooms and carspots at different regions(Regionname),\n",
    "here the demand of houses with carspots and rooms is showing variance according to different Regions(Regionname)"
   ]
  },
  {
   "cell_type": "code",
   "execution_count": 28,
   "metadata": {},
   "outputs": [
    {
     "name": "stderr",
     "output_type": "stream",
     "text": [
      "<ipython-input-28-39d07035a596>:2: FutureWarning: Indexing with multiple keys (implicitly converted to a tuple of keys) will be deprecated, use a list instead.\n",
      "  avgReg['Car','Rooms'].mean()\n"
     ]
    },
    {
     "data": {
      "text/html": [
       "<div>\n",
       "<style scoped>\n",
       "    .dataframe tbody tr th:only-of-type {\n",
       "        vertical-align: middle;\n",
       "    }\n",
       "\n",
       "    .dataframe tbody tr th {\n",
       "        vertical-align: top;\n",
       "    }\n",
       "\n",
       "    .dataframe thead th {\n",
       "        text-align: right;\n",
       "    }\n",
       "</style>\n",
       "<table border=\"1\" class=\"dataframe\">\n",
       "  <thead>\n",
       "    <tr style=\"text-align: right;\">\n",
       "      <th></th>\n",
       "      <th>Car</th>\n",
       "      <th>Rooms</th>\n",
       "    </tr>\n",
       "    <tr>\n",
       "      <th>Regionname</th>\n",
       "      <th></th>\n",
       "      <th></th>\n",
       "    </tr>\n",
       "  </thead>\n",
       "  <tbody>\n",
       "    <tr>\n",
       "      <th>Eastern Metropolitan</th>\n",
       "      <td>1.871726</td>\n",
       "      <td>3.396847</td>\n",
       "    </tr>\n",
       "    <tr>\n",
       "      <th>Eastern Victoria</th>\n",
       "      <td>2.102703</td>\n",
       "      <td>3.539474</td>\n",
       "    </tr>\n",
       "    <tr>\n",
       "      <th>Northern Metropolitan</th>\n",
       "      <td>1.565960</td>\n",
       "      <td>2.822748</td>\n",
       "    </tr>\n",
       "    <tr>\n",
       "      <th>Northern Victoria</th>\n",
       "      <td>2.228070</td>\n",
       "      <td>3.512315</td>\n",
       "    </tr>\n",
       "    <tr>\n",
       "      <th>South-Eastern Metropolitan</th>\n",
       "      <td>2.046547</td>\n",
       "      <td>3.284646</td>\n",
       "    </tr>\n",
       "    <tr>\n",
       "      <th>Southern Metropolitan</th>\n",
       "      <td>1.690355</td>\n",
       "      <td>2.973978</td>\n",
       "    </tr>\n",
       "    <tr>\n",
       "      <th>Western Metropolitan</th>\n",
       "      <td>1.801551</td>\n",
       "      <td>3.087072</td>\n",
       "    </tr>\n",
       "    <tr>\n",
       "      <th>Western Victoria</th>\n",
       "      <td>2.090000</td>\n",
       "      <td>3.295652</td>\n",
       "    </tr>\n",
       "  </tbody>\n",
       "</table>\n",
       "</div>"
      ],
      "text/plain": [
       "                                 Car     Rooms\n",
       "Regionname                                    \n",
       "Eastern Metropolitan        1.871726  3.396847\n",
       "Eastern Victoria            2.102703  3.539474\n",
       "Northern Metropolitan       1.565960  2.822748\n",
       "Northern Victoria           2.228070  3.512315\n",
       "South-Eastern Metropolitan  2.046547  3.284646\n",
       "Southern Metropolitan       1.690355  2.973978\n",
       "Western Metropolitan        1.801551  3.087072\n",
       "Western Victoria            2.090000  3.295652"
      ]
     },
     "execution_count": 28,
     "metadata": {},
     "output_type": "execute_result"
    }
   ],
   "source": [
    "avgReg = data.groupby('Regionname')\n",
    "avgReg['Car','Rooms'].mean()"
   ]
  },
  {
   "cell_type": "code",
   "execution_count": 29,
   "metadata": {},
   "outputs": [
    {
     "name": "stderr",
     "output_type": "stream",
     "text": [
      "<ipython-input-29-3e68d758e1b0>:1: FutureWarning: Indexing with multiple keys (implicitly converted to a tuple of keys) will be deprecated, use a list instead.\n",
      "  avgReg['Car','Rooms'].mean().plot(kind = 'bar',fontsize = 10)\n"
     ]
    },
    {
     "data": {
      "text/plain": [
       "<AxesSubplot:xlabel='Regionname'>"
      ]
     },
     "execution_count": 29,
     "metadata": {},
     "output_type": "execute_result"
    },
    {
     "data": {
      "image/png": "[encoded data removed]",
      "text/plain": [
       "<Figure size 432x288 with 1 Axes>"
      ]
     },
     "metadata": {
      "needs_background": "light"
     },
     "output_type": "display_data"
    }
   ],
   "source": [
    "avgReg['Car','Rooms'].mean().plot(kind = 'bar',fontsize = 10)"
   ]
  },
  {
   "cell_type": "markdown",
   "metadata": {},
   "source": [
    "Demand for the Price of houses at various regions(Regionname)"
   ]
  },
  {
   "cell_type": "code",
   "execution_count": 30,
   "metadata": {},
   "outputs": [
    {
     "data": {
      "text/plain": [
       "Regionname\n",
       "Eastern Metropolitan          1.108723e+06\n",
       "Eastern Victoria              7.143282e+05\n",
       "Northern Metropolitan         8.614840e+05\n",
       "Northern Victoria             6.190512e+05\n",
       "South-Eastern Metropolitan    8.776827e+05\n",
       "Southern Metropolitan         1.395928e+06\n",
       "Western Metropolitan          8.376153e+05\n",
       "Western Victoria              4.326068e+05\n",
       "Name: Price, dtype: float64"
      ]
     },
     "execution_count": 30,
     "metadata": {},
     "output_type": "execute_result"
    }
   ],
   "source": [
    "avgReg['Price'].mean()"
   ]
  },
  {
   "cell_type": "code",
   "execution_count": 31,
   "metadata": {},
   "outputs": [
    {
     "data": {
      "text/plain": [
       "<AxesSubplot:xlabel='Regionname'>"
      ]
     },
     "execution_count": 31,
     "metadata": {},
     "output_type": "execute_result"
    },
    {
     "data": {
      "image/png": "[encoded data removed]",
      "text/plain": [
       "<Figure size 432x288 with 1 Axes>"
      ]
     },
     "metadata": {
      "needs_background": "light"
     },
     "output_type": "display_data"
    }
   ],
   "source": [
    "avgReg['Price'].mean().plot(kind = 'bar',fontsize = 10)"
   ]
  },
  {
   "cell_type": "markdown",
   "metadata": {},
   "source": [
    "3. Variation between Landsize & BuildingArea and bed&bath rooms in different regions(Regionname)\n",
    "here we can see the demand for  both Landsize & BuildingArea in different regions"
   ]
  },
  {
   "cell_type": "code",
   "execution_count": 33,
   "metadata": {},
   "outputs": [
    {
     "data": {
      "image/png": "[encoded data removed]",
      "text/plain": [
       "<Figure size 1080x360 with 2 Axes>"
      ]
     },
     "metadata": {
      "needs_background": "light"
     },
     "output_type": "display_data"
    }
   ],
   "source": [
    "fig, axes = plt.subplots(nrows=1, ncols=2, figsize=(15, 5))\n",
    "avgReg['Landsize'].mean().plot(kind = 'bar',fontsize = 8,alpha=0.5, color='red', ax=axes[0],title='Landsize')\n",
    "avgReg['Bedroom2'].mean().plot(kind = 'bar',fontsize = 8,alpha=0.5, color='red', ax=axes[1],title='Bedroom2')\n",
    "avgReg['BuildingArea'].mean().plot(kind = 'bar',fontsize = 8,alpha=0.5, color='blue', ax=axes[0],title='Landsize&BuildingArea')\n",
    "avgReg['Bathroom'].mean().plot(kind = 'bar',fontsize = 8,alpha=0.5, color='blue', ax=axes[1],title='Bedroom2,Bathroom')\n",
    "plt.show() "
   ]
  },
  {
   "cell_type": "markdown",
   "metadata": {},
   "source": [
    "Propertycount of houses between at various regions(Regionname) are varying "
   ]
  },
  {
   "cell_type": "code",
   "execution_count": 34,
   "metadata": {},
   "outputs": [
    {
     "data": {
      "text/plain": [
       "Regionname\n",
       "Eastern Metropolitan          6258.971899\n",
       "Eastern Victoria              8975.798246\n",
       "Northern Metropolitan         9495.383384\n",
       "Northern Victoria             4477.753695\n",
       "South-Eastern Metropolitan    6941.723404\n",
       "Southern Metropolitan         7507.539287\n",
       "Western Metropolitan          6095.424327\n",
       "Western Victoria              4116.539130\n",
       "Name: Propertycount, dtype: float64"
      ]
     },
     "execution_count": 34,
     "metadata": {},
     "output_type": "execute_result"
    }
   ],
   "source": [
    "avgReg['Propertycount'].mean()"
   ]
  },
  {
   "cell_type": "code",
   "execution_count": 35,
   "metadata": {},
   "outputs": [
    {
     "data": {
      "text/plain": [
       "<AxesSubplot:xlabel='Regionname'>"
      ]
     },
     "execution_count": 35,
     "metadata": {},
     "output_type": "execute_result"
    },
    {
     "data": {
      "image/png": "[encoded data removed]",
      "text/plain": [
       "<Figure size 432x288 with 1 Axes>"
      ]
     },
     "metadata": {
      "needs_background": "light"
     },
     "output_type": "display_data"
    }
   ],
   "source": [
    "avgReg['Propertycount'].mean().plot(kind = 'bar',fontsize = 10)"
   ]
  },
  {
   "cell_type": "markdown",
   "metadata": {},
   "source": [
    "Here demand for Landsize in each CouncilArea"
   ]
  },
  {
   "cell_type": "code",
   "execution_count": 13,
   "metadata": {},
   "outputs": [
    {
     "data": {
      "text/plain": [
       "CouncilArea\n",
       "Banyule City Council                612.992989\n",
       "Bayside City Council                558.474531\n",
       "Boroondara City Council             624.845414\n",
       "Brimbank City Council               567.390748\n",
       "Cardinia Shire Council             1236.920000\n",
       "Casey City Council                  768.097087\n",
       "Darebin City Council                453.512362\n",
       "Frankston City Council              840.903061\n",
       "Glen Eira City Council              461.118859\n",
       "Greater Dandenong City Council      597.195531\n",
       "Hobsons Bay City Council            417.241124\n",
       "Hume City Council                   812.404969\n",
       "Kingston City Council               580.990157\n",
       "Knox City Council                   757.253906\n",
       "Macedon Ranges Shire Council      14568.033333\n",
       "Manningham City Council             800.939130\n",
       "Maribyrnong City Council            485.249760\n",
       "Maroondah City Council              758.492212\n",
       "Melbourne City Council              526.074825\n",
       "Melton City Council                 629.112903\n",
       "Mitchell Shire Council             2233.375000\n",
       "Monash City Council                 627.848649\n",
       "Moonee Valley City Council          488.200472\n",
       "Moorabool Shire Council            7247.200000\n",
       "Moreland City Council               442.622113\n",
       "Nillumbik Shire Council             771.000000\n",
       "Port Phillip City Council           327.339002\n",
       "Stonnington City Council            425.934560\n",
       "Whitehorse City Council             596.595294\n",
       "Whittlesea City Council             522.065574\n",
       "Wyndham City Council                590.784119\n",
       "Yarra City Council                  981.398022\n",
       "Yarra Ranges Shire Council         3168.367647\n",
       "Name: Landsize, dtype: float64"
      ]
     },
     "execution_count": 13,
     "metadata": {},
     "output_type": "execute_result"
    }
   ],
   "source": [
    "avgCou = data.groupby('CouncilArea')\n",
    "avgCou['Landsize'].mean()"
   ]
  },
  {
   "cell_type": "code",
   "execution_count": 37,
   "metadata": {},
   "outputs": [
    {
     "data": {
      "text/plain": [
       "<AxesSubplot:xlabel='CouncilArea'>"
      ]
     },
     "execution_count": 37,
     "metadata": {},
     "output_type": "execute_result"
    },
    {
     "data": {
      "image/png": "[encoded data removed]",
      "text/plain": [
       "<Figure size 432x288 with 1 Axes>"
      ]
     },
     "metadata": {
      "needs_background": "light"
     },
     "output_type": "display_data"
    }
   ],
   "source": [
    "avgCou['Landsize'].mean().plot(kind = 'bar',fontsize = 5)"
   ]
  },
  {
   "cell_type": "markdown",
   "metadata": {},
   "source": [
    "4. To see Landsize, Price, Buildingarea, Propertycount in Councilarea\n",
    "Here we can see the demand for Landsize, Price, Buildingarea, Propertycount in Councilarea is varying b/w each council area"
   ]
  },
  {
   "cell_type": "code",
   "execution_count": 14,
   "metadata": {},
   "outputs": [
    {
     "data": {
      "image/png": "[encoded data removed]",
      "text/plain": [
       "<Figure size 3600x1800 with 4 Axes>"
      ]
     },
     "metadata": {
      "needs_background": "light"
     },
     "output_type": "display_data"
    }
   ],
   "source": [
    "fig, axes = plt.subplots(nrows=2, ncols=2, figsize=(50, 25))\n",
    "avgCou['Landsize'].mean().plot(kind = 'bar',fontsize = 7,alpha=0.5, color='red', ax=axes[0][0],title='Landsize')\n",
    "avgCou['Price'].mean().plot(kind = 'bar',fontsize = 7,alpha=0.5, color='red', ax=axes[0][1],title='Price')\n",
    "avgCou['BuildingArea'].mean().plot(kind = 'bar',fontsize = 7,alpha=0.5, color='blue', ax=axes[1][0],title='BuildingArea')\n",
    "avgCou['Propertycount'].mean().plot(kind = 'bar',fontsize = 7,alpha=0.5, color='blue', ax=axes[1][1],title='Propertycount')\n",
    "plt.show() "
   ]
  },
  {
   "cell_type": "markdown",
   "metadata": {},
   "source": [
    "5. Varitaion of Prices between the various Type of houses,\n",
    "here we can see the demand of prices of houses showing difference based on type of houses "
   ]
  },
  {
   "cell_type": "code",
   "execution_count": 39,
   "metadata": {},
   "outputs": [
    {
     "data": {
      "text/plain": [
       "Type\n",
       "h    1.203718e+06\n",
       "t    9.310772e+05\n",
       "u    6.279434e+05\n",
       "Name: Price, dtype: float64"
      ]
     },
     "execution_count": 39,
     "metadata": {},
     "output_type": "execute_result"
    }
   ],
   "source": [
    "avgtyp = data.groupby('Type')\n",
    "avgtyp['Price'].mean()"
   ]
  },
  {
   "cell_type": "code",
   "execution_count": 40,
   "metadata": {},
   "outputs": [
    {
     "data": {
      "text/plain": [
       "Type\n",
       "h    AxesSubplot(0.125,0.125;0.775x0.755)\n",
       "t    AxesSubplot(0.125,0.125;0.775x0.755)\n",
       "u    AxesSubplot(0.125,0.125;0.775x0.755)\n",
       "Name: Price, dtype: object"
      ]
     },
     "execution_count": 40,
     "metadata": {},
     "output_type": "execute_result"
    },
    {
     "data": {
      "image/png": "[encoded data removed]",
      "text/plain": [
       "<Figure size 1440x360 with 1 Axes>"
      ]
     },
     "metadata": {
      "needs_background": "light"
     },
     "output_type": "display_data"
    }
   ],
   "source": [
    "avgtyp['Price'].plot(kind = 'bar',fontsize = 3,figsize=(20, 5))"
   ]
  },
  {
   "cell_type": "markdown",
   "metadata": {},
   "source": [
    "variation of Prices between the various Suburb\n",
    "here we can see the demand of prices of houses showing difference based on Suburb of houses "
   ]
  },
  {
   "cell_type": "code",
   "execution_count": 43,
   "metadata": {},
   "outputs": [
    {
     "data": {
      "text/plain": [
       "Suburb\n",
       "Abbotsford      1.033549e+06\n",
       "Aberfeldie      1.307193e+06\n",
       "Airport West    7.513642e+05\n",
       "Albanvale       5.360556e+05\n",
       "Albert Park     1.927651e+06\n",
       "                    ...     \n",
       "Yallambie       8.208611e+05\n",
       "Yarra Glen      6.200000e+05\n",
       "Yarraville      9.912450e+05\n",
       "croydon         7.300000e+05\n",
       "viewbank        8.850000e+05\n",
       "Name: Price, Length: 351, dtype: float64"
      ]
     },
     "execution_count": 43,
     "metadata": {},
     "output_type": "execute_result"
    }
   ],
   "source": [
    "avgsub = data.groupby('Suburb')\n",
    "avgsub['Price'].mean()"
   ]
  },
  {
   "cell_type": "code",
   "execution_count": 44,
   "metadata": {},
   "outputs": [
    {
     "data": {
      "text/plain": [
       "<AxesSubplot:xlabel='Suburb'>"
      ]
     },
     "execution_count": 44,
     "metadata": {},
     "output_type": "execute_result"
    },
    {
     "data": {
      "image/png": "[encoded data removed]",
      "text/plain": [
       "<Figure size 1440x360 with 1 Axes>"
      ]
     },
     "metadata": {
      "needs_background": "light"
     },
     "output_type": "display_data"
    }
   ],
   "source": [
    "avgsub['Price'].mean().plot(kind = 'bar',fontsize = 3,figsize=(20, 5))"
   ]
  }
 ],
 "metadata": {
  "kernelspec": {
   "display_name": "Python 3",
   "language": "python",
   "name": "python3"
  },
  "language_info": {
   "codemirror_mode": {
    "name": "ipython",
    "version": 3
   },
   "file_extension": ".py",
   "mimetype": "text/x-python",
   "name": "python",
   "nbconvert_exporter": "python",
   "pygments_lexer": "ipython3",
   "version": "3.8.5"
  }
 },
 "nbformat": 4,
 "nbformat_minor": 4
}
