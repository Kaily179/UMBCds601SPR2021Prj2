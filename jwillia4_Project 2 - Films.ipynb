{
 "cells": [
  {
   "cell_type": "markdown",
   "metadata": {},
   "source": [
    "## Project 2 - Films\n",
    "\n",
    "The data was found on a [website](https://perso.telecom-paristech.fr/eagan/class/igr204/datasets) that provides datasets suitable for programming projects.\n",
    "\n",
    "It was discovered during a Google search for \"Free Datasets\". \n",
    "\n",
    "The link above was clicked, followed by \"Download csv file.\" under \"Films\" to access the dataset.\n",
    "\n",
    "The size of the CSV file is 160 KB (0.16 MB) and it contains information about films and their characteristics.\n",
    "\n",
    "This analysis aims to answer the following questions:\n",
    "* Is there an association between genre and award status?\n",
    "* What percentage of films received a [high popularity rating](#definition) and an award for the film they produced?\n",
    "* How well can a film's [age](#definition) predict its popularity rating?"
   ]
  },
  {
   "cell_type": "code",
   "execution_count": null,
   "metadata": {},
   "outputs": [],
   "source": [
    "#import libraries\n",
    "import datetime\n",
    "import matplotlib.pyplot as plot\n",
    "import pandas as pd\n",
    "from scipy.stats import chi2_contingency\n",
    "import seaborn as sns \n",
    "from sklearn.linear_model import LinearRegression"
   ]
  },
  {
   "cell_type": "code",
   "execution_count": null,
   "metadata": {},
   "outputs": [],
   "source": [
    "#load data \n",
    "file = \"https://perso.telecom-paristech.fr/eagan/class/igr204/data/film.csv\"\n",
    "film = pd.read_csv(file, sep= None, engine = \"python\", encoding = \"latin-1\")\n",
    "\n",
    "#view first 5 rows of dataset\n",
    "film.head(5)"
   ]
  },
  {
   "cell_type": "markdown",
   "metadata": {},
   "source": [
    "### Data Cleaning and Preparation \n",
    "The following steps are conducted to ensure the data is ready for manipulation:\n",
    "1) Drop the first row of the dataset that denotes the datatypes of the columns.  \n",
    "2) Rename the \"Subject\" column to \"Genre\" column.  \n",
    "3) Create a \"Current Year\" column and subtract the \"Year\" column from it to make an \"Age\" column.  \n",
    "4) Drop the \"Current Year\" column.  \n",
    "5) Convert the datatypes of the columns that are classified as objects.  \n",
    "6) Drop all rows with at least one null value since it totals to less than 5% of the observations in the dataset (rule of thumb according to [Statistics Solutions](#reference) - \"In statistical language, if the number of the cases [with missing values] is less than 5% of the sample, then the researcher can drop them\"). "
   ]
  },
  {
   "cell_type": "code",
   "execution_count": null,
   "metadata": {},
   "outputs": [],
   "source": [
    "#determine number of rows and columns\n",
    "film.shape"
   ]
  },
  {
   "cell_type": "code",
   "execution_count": null,
   "metadata": {},
   "outputs": [],
   "source": [
    "#remove column types under headers for relevancy purposes\n",
    "film = film.drop([0])\n",
    "\n",
    "#remove multiple columns for relevancy purposes\n",
    "film = film.drop(columns = [\"*Image\",\"Actor\",\"Actress\",\"Director\"])"
   ]
  },
  {
   "cell_type": "code",
   "execution_count": null,
   "metadata": {},
   "outputs": [],
   "source": [
    "#rename subject column to genre\n",
    "film = film.rename(columns={\"Subject\": \"Genre\"})"
   ]
  },
  {
   "cell_type": "code",
   "execution_count": null,
   "metadata": {},
   "outputs": [],
   "source": [
    "#create current year column\n",
    "film[\"Current Year\"] = datetime.datetime.now().year\n",
    "film.head(5)\n",
    "\n",
    "#convert current year and year columns to integer datatype\n",
    "film[\"Current Year\"] = film[\"Current Year\"].astype(\"int64\")\n",
    "film[\"Year\"] = film[\"Year\"].astype(\"int64\")\n",
    "\n",
    "#create age column \n",
    "film[\"Age\"] = film[\"Current Year\"] - film[\"Year\"]\n",
    "\n",
    "#remove current year column for relevancy purposes\n",
    "film = film.drop(columns = \"Current Year\")"
   ]
  },
  {
   "cell_type": "code",
   "execution_count": null,
   "metadata": {},
   "outputs": [],
   "source": [
    "#display general info about dataframe\n",
    "film.info()"
   ]
  },
  {
   "cell_type": "code",
   "execution_count": null,
   "metadata": {},
   "outputs": [],
   "source": [
    "#convert datatypes of remaining columns \n",
    "film[\"Year\"] = film[\"Year\"].astype(\"category\")\n",
    "film[\"Length\"] = film[\"Length\"].astype(\"float64\")\n",
    "film[\"Title\"] = film[\"Title\"].astype(\"str\")\n",
    "film[\"Genre\"]= film[\"Genre\"].astype(\"category\")\n",
    "film[\"Popularity\"] = film[\"Popularity\"].astype(\"float64\")\n",
    "film[\"Awards\"] = film[\"Awards\"].astype(\"category\")"
   ]
  },
  {
   "cell_type": "code",
   "execution_count": null,
   "metadata": {},
   "outputs": [],
   "source": [
    "#find all rows with at least one null value\n",
    "n_data = film[film.isna().any(axis=1)]\n",
    "\n",
    "#determine if percentage of rows with null values in dataframe is less than 5% \n",
    "print(round(len(n_data)/len(film)*100,2) < 5)\n",
    "\n",
    "#drop the rows from the dataset \n",
    "film = film.dropna()"
   ]
  },
  {
   "cell_type": "code",
   "execution_count": null,
   "metadata": {},
   "outputs": [],
   "source": [
    "#display first five rows of modified dataset\n",
    "film.head(5)"
   ]
  },
  {
   "cell_type": "markdown",
   "metadata": {},
   "source": [
    "### Exploratory Data Analysis\n",
    "\n",
    "The dataset initially had 1,660 observations and 10 variables, but after cleaning and preparing it for analysis, it\n",
    "now has 1,585 observations and 7 variables. \n",
    "\n",
    "Majority of the films are classified as a drama at 40.00%, were produced in 1991 at 7.51%, and did not win any awards at 89.97%.\n",
    "\n",
    "The average length of the films is 105.28 minutes, the average popularity rating is 43.21 points, and the average age of the films is 45.44 years. \n",
    "\n",
    "As for the minimum and maximum, it is 5.00 and 450.00 minutes for length, a 0.00 and 88.00 point rating for popularity, and 24.00 and 101.00 years for age.\n",
    "\n",
    "The standard deviation of the length, popularity, and age of the films are 30.51 minutes, 26.71 points, and 17.02 years, respectively."
   ]
  },
  {
   "cell_type": "code",
   "execution_count": null,
   "metadata": {},
   "outputs": [],
   "source": [
    "#determine number of rows and columns of modified dataset\n",
    "film.shape"
   ]
  },
  {
   "cell_type": "markdown",
   "metadata": {},
   "source": [
    "#### Categorical Variables "
   ]
  },
  {
   "cell_type": "code",
   "execution_count": null,
   "metadata": {},
   "outputs": [],
   "source": [
    "#display frequency and percentage for genre in descending order\n",
    "genre = pd.crosstab(index = film[\"Genre\"],columns = \"Frequency\") \n",
    "genre[\"Percentage\"] = round(genre/genre.sum()*100,2)\n",
    "genre.sort_values(\"Frequency\", ascending = False)"
   ]
  },
  {
   "cell_type": "code",
   "execution_count": null,
   "metadata": {},
   "outputs": [],
   "source": [
    "#display frequency and percentage for production year in descending order\n",
    "year = pd.crosstab(index = film[\"Year\"],columns = \"Frequency\") \n",
    "year[\"Percentage\"] = round(year/year.sum()*100,2)\n",
    "year.sort_values(\"Frequency\", ascending = False)"
   ]
  },
  {
   "cell_type": "code",
   "execution_count": null,
   "metadata": {},
   "outputs": [],
   "source": [
    "#display frequency and percentage for award status in descending order\n",
    "award = pd.crosstab(index = film[\"Awards\"],columns = \"Frequency\") \n",
    "award[\"Percentage\"] = round(award/award.sum()*100,2)\n",
    "award.sort_values(\"Frequency\", ascending = False)"
   ]
  },
  {
   "cell_type": "markdown",
   "metadata": {},
   "source": [
    "#### Numerical Variables"
   ]
  },
  {
   "cell_type": "code",
   "execution_count": null,
   "metadata": {},
   "outputs": [],
   "source": [
    "#display summary statitics for each variable \n",
    "round(film.describe(),2)"
   ]
  },
  {
   "cell_type": "markdown",
   "metadata": {},
   "source": [
    "### Subsetting Dataframe\n",
    "\n",
    "What percentage of films received a high popularity rating and an award for the film they produced?"
   ]
  },
  {
   "cell_type": "code",
   "execution_count": null,
   "metadata": {},
   "outputs": [],
   "source": [
    "#filtered to retrieve rows that correspond to films with a high popularity rating and an award\n",
    "hpra = film[(film[\"Popularity\"]>= 67.00) & (film[\"Awards\"]== \"Yes\")]\n",
    "\n",
    "#display first five rows\n",
    "hpra.head(5)"
   ]
  },
  {
   "cell_type": "code",
   "execution_count": null,
   "metadata": {},
   "outputs": [],
   "source": [
    "#determine percentage of films with a high rating and an award \n",
    "print(\"The percentage of films with a high rating and an award is \" + str(round(len(hpra)/len(film)*100,1)) +\"%.\")"
   ]
  },
  {
   "cell_type": "code",
   "execution_count": null,
   "metadata": {},
   "outputs": [],
   "source": [
    "#initialize empty list\n",
    "r_and_a = []\n",
    "\n",
    "#filter rows into remaining categories\n",
    "hpr = film[(film[\"Popularity\"]>= 67.00) & (film[\"Awards\"]== \"No\")]\n",
    "ipr = film[(film[\"Popularity\"] <= 66.00) & (film[\"Popularity\"] >= 20.00 ) & (film[\"Awards\"]== \"No\")]\n",
    "lpr = film[(film[\"Popularity\"] <= 19.00) & (film[\"Awards\"]== \"No\")]\n",
    "ipra = film[(film[\"Popularity\"] <= 66.00) & (film[\"Popularity\"] >= 20.00 ) & (film[\"Awards\"]== \"Yes\")]\n",
    "lpra = film[(film[\"Popularity\"]<= 19.00) & (film[\"Awards\"]== \"Yes\")]\n",
    "\n",
    "#append number of rows in each category to list\n",
    "r_and_a.append(len(hpr))\n",
    "r_and_a.append(len(ipr))\n",
    "r_and_a.append(len(lpr))\n",
    "r_and_a.append(len(hpra))\n",
    "r_and_a.append(len(ipra))\n",
    "r_and_a.append(len(lpra))"
   ]
  },
  {
   "cell_type": "markdown",
   "metadata": {},
   "source": [
    "### Chi-Square Test of Independence\n",
    "\n",
    "Is there an association between genre and award status?\n",
    "\n",
    "*Null Hypothesis*: There is no relationship between genre and award status (independent). \n",
    "\n",
    "*Alternative Hypothesis*: There is a relationship between genre and award status (dependent). \n",
    "\n",
    "The p-value is the probability of the null hypothesis being true. \n",
    "\n",
    "If the p-value is greater than 0.05, we fail to reject the null hypothesis and conclude genre and award status are independent.\n",
    "\n",
    "If the p-value is less than 0.05, we reject the null hypothesis and conclude genre and award status are dependent. "
   ]
  },
  {
   "cell_type": "code",
   "execution_count": null,
   "metadata": {},
   "outputs": [],
   "source": [
    "#categorical crosstab\n",
    "cat_corr = pd.crosstab(film[\"Genre\"],film[\"Awards\"])"
   ]
  },
  {
   "cell_type": "code",
   "execution_count": null,
   "metadata": {},
   "outputs": [],
   "source": [
    "#perform Chi-sq test\n",
    "ChiSqResult = chi2_contingency(cat_corr)"
   ]
  },
  {
   "cell_type": "code",
   "execution_count": null,
   "metadata": {},
   "outputs": [],
   "source": [
    "#print p-value of test\n",
    "print(\"The p-value of the ChiSq Test is\", ChiSqResult[1])"
   ]
  },
  {
   "cell_type": "code",
   "execution_count": null,
   "metadata": {},
   "outputs": [],
   "source": [
    "#compare p-value to alpha value (significance level)\n",
    "print(ChiSqResult[1] < 0.05)"
   ]
  },
  {
   "cell_type": "markdown",
   "metadata": {},
   "source": [
    "### Linear Regression\n",
    "\n",
    "How well can a film's age predict its popularity rating?\n",
    "\n",
    "*Independent Variable*: Age\n",
    "\n",
    "*Dependent Variable*: Popularity\n",
    "\n",
    "Interpretation of Coefficient\n",
    "* If the age of the film increases by 1 year, the popularity rating is predicted to increase by 0.15.\n",
    "\n",
    "Interpretation of Intercept\n",
    "* When the age of a movie is 0, the popularity rating is predicted to be 36.37."
   ]
  },
  {
   "cell_type": "code",
   "execution_count": null,
   "metadata": {},
   "outputs": [],
   "source": [
    "#identify the variables for the model \n",
    "x = film[[\"Age\"]]\n",
    "y = film[[\"Popularity\"]]"
   ]
  },
  {
   "cell_type": "code",
   "execution_count": null,
   "metadata": {},
   "outputs": [],
   "source": [
    "#define and fit the multiple linear regression model\n",
    "regr = LinearRegression()\n",
    "regr.fit(x, y)"
   ]
  },
  {
   "cell_type": "code",
   "execution_count": null,
   "metadata": {},
   "outputs": [],
   "source": [
    "#determine the coefficient and intercept\n",
    "print(\"Coefficient: \\n\", regr.coef_)\n",
    "print(\"Intercept: \\n\", regr.intercept_)"
   ]
  },
  {
   "cell_type": "code",
   "execution_count": null,
   "metadata": {},
   "outputs": [],
   "source": [
    "#predict the popularity of a 30 year old movie\n",
    "apred_pop = regr.predict([[30]])\n",
    "apred_pop "
   ]
  },
  {
   "cell_type": "code",
   "execution_count": null,
   "metadata": {},
   "outputs": [],
   "source": [
    "#predict the popularity of a 40 year old movie\n",
    "apred_pop2 = regr.predict([[40]])\n",
    "apred_pop2"
   ]
  },
  {
   "cell_type": "code",
   "execution_count": null,
   "metadata": {},
   "outputs": [],
   "source": [
    "#confirm the accuracy of the coefficient\n",
    "conf = 40.88276673 + (10*0.15042767)\n",
    "conf"
   ]
  },
  {
   "cell_type": "code",
   "execution_count": null,
   "metadata": {},
   "outputs": [],
   "source": [
    "#predict the popularity of a 0 year old movie and confirm the accuracy of the intercept\n",
    "apred_pop3 = regr.predict([[0]])\n",
    "apred_pop3"
   ]
  },
  {
   "cell_type": "code",
   "execution_count": null,
   "metadata": {},
   "outputs": [],
   "source": [
    "#determine correlation between age and popularity\n",
    "film[\"Age\"].corr(film[\"Popularity\"])"
   ]
  },
  {
   "cell_type": "markdown",
   "metadata": {},
   "source": [
    "### Data Visualizations"
   ]
  },
  {
   "cell_type": "code",
   "execution_count": null,
   "metadata": {
    "scrolled": true
   },
   "outputs": [],
   "source": [
    "#display proportions of each rating and award category with list created under Subsetting Dataframe \n",
    "Data = r_and_a\n",
    "my_labels = \"High Ratings, No Award\",\"Intermediate Ratings, No Award\", \"Low Ratings, No Award\", \"High Ratings with Award\", \"Intermediate Ratings with Award\", \"Low Ratings with Award\"\n",
    "my_colors = [\"indianred\",\"lightcoral\",\"rosybrown\",\"plum\",\"pink\",\"palevioletred\"]\n",
    "my_explode = (0,0,0,0.12,0,0)\n",
    "plot.pie(Data, labels = my_labels, autopct = \"%1.1f%%\", startangle = 15, shadow = True, colors = my_colors, explode = my_explode)\n",
    "plot.title(\"Figure 1. Rating Range and Award Status Proportions\", fontweight=\"bold\")\n",
    "plot.axis(\"Equal\")\n",
    "plot.show()"
   ]
  },
  {
   "cell_type": "code",
   "execution_count": null,
   "metadata": {
    "scrolled": true
   },
   "outputs": [],
   "source": [
    "#display genre with award status as another dimension \n",
    "sns.countplot(x = \"Genre\", hue = \"Awards\", data = film,  palette = \"flare\")\n",
    "plot.xticks(rotation = 90)\n",
    "plot.title(\"Figure 2. Film Genre by Award Status\", fontweight=\"bold\")\n",
    "plot.ylabel(\"Count\")\n",
    "plot.legend(loc = \"upper right\", title = \"Award Recieved\")\n",
    "plot.show()"
   ]
  },
  {
   "cell_type": "code",
   "execution_count": null,
   "metadata": {},
   "outputs": [],
   "source": [
    "#display regression plot for age and popularity\n",
    "sns.regplot(x = film[\"Age\"], y = film[\"Popularity\"],fit_reg = True, color = \"mediumorchid\")\n",
    "plot.title(\"Figure 3. Popularity Rating by Age of Film\", fontweight=\"bold\")\n",
    "plot.show()"
   ]
  },
  {
   "cell_type": "code",
   "execution_count": null,
   "metadata": {},
   "outputs": [],
   "source": [
    "#display popularity rating by award status  \n",
    "sns.stripplot(x = \"Awards\", y = \"Popularity\", data = film, palette = \"flare\")\n",
    "plot.xticks(rotation = 90)\n",
    "plot.title(\"Figure 4. Popularity Rating by Award Status\", fontweight=\"bold\")\n",
    "plot.show()"
   ]
  },
  {
   "cell_type": "markdown",
   "metadata": {},
   "source": [
    "### Analytical Findings \n",
    "\n",
    "* There is evidence that gender and award status are related. The drama category, followed by the comedy category encompass the films with the most awards (see Figure 2). \n",
    "\n",
    "\n",
    "* Films with both high ratings and an award constitute 3% of the observations in the dataset (see Figure 1).    \n",
    "\n",
    "\n",
    "* There is a positive correlation between a film's age and popularity rating, meaning as the former increases, the latter does as well (see Figure 3).  "
   ]
  },
  {
   "cell_type": "markdown",
   "metadata": {},
   "source": [
    "### Implications\n",
    "* Majority of the films in the dataset fall into the drama and comedy categories and a very small proportion of the films recieved awards, so the drama and comedy films recieving the most awards is statistically more likely.\n",
    "\n",
    "\n",
    "* There is a lower proportion of films with high ratings and an award in comparison to both films with intermediate ratings and an award (3.8%) and films with low ratings and an award (3.2%). This suggests that popularity rating has no impact on whether or not a film recieves an award (see Figure 4).\n",
    "\n",
    "\n",
    "* While there is a positive correlation between a film's age and popularity, it is an extremely weak one with a ~0.1 correlation coefficient. "
   ]
  },
  {
   "cell_type": "markdown",
   "metadata": {},
   "source": [
    "### Reference\n",
    "\n",
    "\"Missing Values in Data\", Accessed from [Statistics Solutions](https://www.statisticssolutions.com/missing-values-in-data/) on April 1, 2021.\n",
    "\n",
    "<a id='reference'></a>"
   ]
  },
  {
   "cell_type": "markdown",
   "metadata": {},
   "source": [
    "### Appendix  \n",
    "\n",
    "*Age*: The (film production) year subtracted from the current year.   \n",
    "\n",
    "*High Popularity Rating*: Falls on a scale from 67.00 (75th percentile) to 88.00 (maximum rating).  \n",
    "\n",
    "*Intermediate Popularity Rating*: Falls on a scale from 20.00 to 66.00 (between 25th and 75th percentile).  \n",
    "\n",
    "*Low Popularity Rating*: Falls on a scale from 0.00 (minimum rating) to 19.00 (25th percentile).  \n",
    "\n",
    "<a id='definition'></a>"
   ]
  }
 ],
 "metadata": {
  "kernelspec": {
   "display_name": "Python 3",
   "language": "python",
   "name": "python3"
  },
  "language_info": {
   "codemirror_mode": {
    "name": "ipython",
    "version": 3
   },
   "file_extension": ".py",
   "mimetype": "text/x-python",
   "name": "python",
   "nbconvert_exporter": "python",
   "pygments_lexer": "ipython3",
   "version": "3.8.5"
  }
 },
 "nbformat": 4,
 "nbformat_minor": 4
}
